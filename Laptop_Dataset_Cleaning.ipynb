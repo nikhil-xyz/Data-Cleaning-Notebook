{
  "nbformat": 4,
  "nbformat_minor": 0,
  "metadata": {
    "colab": {
      "provenance": [],
      "authorship_tag": "ABX9TyNOcTGgGFS2ul7i/gMTFxcm",
      "include_colab_link": true
    },
    "kernelspec": {
      "name": "python3",
      "display_name": "Python 3"
    },
    "language_info": {
      "name": "python"
    }
  },
  "cells": [
    {
      "cell_type": "markdown",
      "metadata": {
        "id": "view-in-github",
        "colab_type": "text"
      },
      "source": [
        "<a href=\"https://colab.research.google.com/github/nikhil-xyz/Data-Cleaning-Notebooks/blob/main/Laptop_Dataset_Cleaning.ipynb\" target=\"_parent\"><img src=\"https://colab.research.google.com/assets/colab-badge.svg\" alt=\"Open In Colab\"/></a>"
      ]
    },
    {
      "cell_type": "markdown",
      "source": [
        "# **Laptop Dataset**"
      ],
      "metadata": {
        "id": "W-k8geDtGK9E"
      }
    },
    {
      "cell_type": "markdown",
      "source": [
        "This dataset consists of comprehensive collection of latest available laptops scraped from Amazon.com. The data includes product details such as the rating, price, operating system, title, disk size, display size, etc. This dataset comprises approximately 2.8K data points, each representing a unique laptop listing, and includes 17 distinct features.\n",
        "\n",
        "source(kaggle) : https://www.kaggle.com/datasets/talhabarkaatahmad/laptop-prices-dataset-october-2023\n",
        "\n",
        "**Data Dictionary**\n",
        "- **brand** : Make of laptop\n",
        "- **model** : model of laptop\n",
        "- **screen size** : The size of the laptop's display in inches.\n",
        "- **color** : Color of laptop\n",
        "- **hard disk** : Hard disk installed in GBs or TBs\n",
        "- **CPU** : Processor installed\n",
        "- **RAM** : RAM installed in laptop\n",
        "- **Operating system (OS)** : The operating system of the laptop.\n",
        "- **Special Features** : Extra features\n",
        "- **Graphics card** : Graphics card\n",
        "- **Graphics coprocessor** : Graphics card\n",
        "- **CPU rating** : CPU rating\n",
        "- **Rating** : The average customer rating out of 5 as of October 2023.\n",
        "- **Price** : The price of the product in USD as of October 2023.\n",
        "\n",
        "Dataset has been downloaded from the kaggle and stored in one of the github repository.\n",
        "\n",
        "repository_raw_dataset_url = https://raw.githubusercontent.com/nikhil-xyz/datasets/refs/heads/main/laptop_uncleaned.csv'"
      ],
      "metadata": {
        "id": "atfTv4plGTBV"
      }
    },
    {
      "cell_type": "code",
      "execution_count": 271,
      "metadata": {
        "id": "jY5kZsLS_33C"
      },
      "outputs": [],
      "source": [
        "# Importing dependencies\n",
        "import pandas as pd\n",
        "import numpy as np\n",
        "import matplotlib.pyplot as plt\n",
        "import re\n",
        "import seaborn as sns"
      ]
    },
    {
      "cell_type": "code",
      "source": [
        "# Reading the dataset\n",
        "df = pd.read_csv('https://raw.githubusercontent.com/nikhil-xyz/datasets/refs/heads/main/laptop_uncleaned.csv')"
      ],
      "metadata": {
        "id": "iNcs-kk7ABcx"
      },
      "execution_count": 272,
      "outputs": []
    },
    {
      "cell_type": "code",
      "source": [
        "df.head()"
      ],
      "metadata": {
        "colab": {
          "base_uri": "https://localhost:8080/",
          "height": 466
        },
        "id": "tK7x3WfaAPMQ",
        "outputId": "92ae28ef-85fe-439c-d64e-bffa40d4093f"
      },
      "execution_count": 273,
      "outputs": [
        {
          "output_type": "execute_result",
          "data": {
            "text/plain": [
              "                                               Title      Brand  Screen_Size  \\\n",
              "0  Microsoft Surface Laptop Intel Core i5 7th Gen...  Microsoft  13.5 Inches   \n",
              "1  Microsoft Surface Laptop 3 13.5\" Touch-Screen ...  Microsoft  13.5 Inches   \n",
              "2  Microsoft Surface Laptop (Intel Core i7, 16GB ...  Microsoft  13.5 Inches   \n",
              "3  Microsoft Surface Laptop 3, 10th Gen Intel Cor...  Microsoft    13 Inches   \n",
              "4  2022 Microsoft Surface Laptop Go 12.4\" Touchsc...  Microsoft  12.4 Inches   \n",
              "\n",
              "                    CPU_Model    Ram Operating_System  Rating  \\\n",
              "0  1.2GHz Cortex A8 Processor   8 GB       Windows 10     4.4   \n",
              "1                     Core i5   8 GB       Windows 10     4.4   \n",
              "2                     Core i7  16 GB     Windows 10 S     3.9   \n",
              "3              Core i5-1035G7   8 GB  Windows 10 Home     4.2   \n",
              "4                     Core i5   4 GB   Windows 11 Pro     3.9   \n",
              "\n",
              "              Series        Color Resolution Weight  USB Battery  \\\n",
              "0              Intel     Platinum        NaN    NaN  NaN     NaN   \n",
              "1  Microsoft Surface  Matte Black        NaN    NaN  NaN     NaN   \n",
              "2     Surface Laptop     Platinum        NaN    NaN  NaN     NaN   \n",
              "3   Surface Laptop 3  Cobalt Blue        NaN    NaN  NaN     NaN   \n",
              "4  Surface Laptop Go       Silver        NaN    NaN  NaN     NaN   \n",
              "\n",
              "                       Graphics Disk_size   Card_desc    Price  \n",
              "0         Intel HD Graphics 620    256 GB  Integrated      NaN  \n",
              "1                           NaN       NaN         NaN      NaN  \n",
              "2  Intel Iris Plus Graphics 640    512 GB  Integrated      NaN  \n",
              "3               Intel Iris Plus       NaN  Integrated      NaN  \n",
              "4                           NaN    256 GB  Integrated  $359.99  "
            ],
            "text/html": [
              "\n",
              "  <div id=\"df-29a9b9c4-fb76-4cdc-8dd0-801e75e36245\" class=\"colab-df-container\">\n",
              "    <div>\n",
              "<style scoped>\n",
              "    .dataframe tbody tr th:only-of-type {\n",
              "        vertical-align: middle;\n",
              "    }\n",
              "\n",
              "    .dataframe tbody tr th {\n",
              "        vertical-align: top;\n",
              "    }\n",
              "\n",
              "    .dataframe thead th {\n",
              "        text-align: right;\n",
              "    }\n",
              "</style>\n",
              "<table border=\"1\" class=\"dataframe\">\n",
              "  <thead>\n",
              "    <tr style=\"text-align: right;\">\n",
              "      <th></th>\n",
              "      <th>Title</th>\n",
              "      <th>Brand</th>\n",
              "      <th>Screen_Size</th>\n",
              "      <th>CPU_Model</th>\n",
              "      <th>Ram</th>\n",
              "      <th>Operating_System</th>\n",
              "      <th>Rating</th>\n",
              "      <th>Series</th>\n",
              "      <th>Color</th>\n",
              "      <th>Resolution</th>\n",
              "      <th>Weight</th>\n",
              "      <th>USB</th>\n",
              "      <th>Battery</th>\n",
              "      <th>Graphics</th>\n",
              "      <th>Disk_size</th>\n",
              "      <th>Card_desc</th>\n",
              "      <th>Price</th>\n",
              "    </tr>\n",
              "  </thead>\n",
              "  <tbody>\n",
              "    <tr>\n",
              "      <th>0</th>\n",
              "      <td>Microsoft Surface Laptop Intel Core i5 7th Gen...</td>\n",
              "      <td>Microsoft</td>\n",
              "      <td>13.5 Inches</td>\n",
              "      <td>1.2GHz Cortex A8 Processor</td>\n",
              "      <td>8 GB</td>\n",
              "      <td>Windows 10</td>\n",
              "      <td>4.4</td>\n",
              "      <td>Intel</td>\n",
              "      <td>Platinum</td>\n",
              "      <td>NaN</td>\n",
              "      <td>NaN</td>\n",
              "      <td>NaN</td>\n",
              "      <td>NaN</td>\n",
              "      <td>Intel HD Graphics 620</td>\n",
              "      <td>256 GB</td>\n",
              "      <td>Integrated</td>\n",
              "      <td>NaN</td>\n",
              "    </tr>\n",
              "    <tr>\n",
              "      <th>1</th>\n",
              "      <td>Microsoft Surface Laptop 3 13.5\" Touch-Screen ...</td>\n",
              "      <td>Microsoft</td>\n",
              "      <td>13.5 Inches</td>\n",
              "      <td>Core i5</td>\n",
              "      <td>8 GB</td>\n",
              "      <td>Windows 10</td>\n",
              "      <td>4.4</td>\n",
              "      <td>Microsoft Surface</td>\n",
              "      <td>Matte Black</td>\n",
              "      <td>NaN</td>\n",
              "      <td>NaN</td>\n",
              "      <td>NaN</td>\n",
              "      <td>NaN</td>\n",
              "      <td>NaN</td>\n",
              "      <td>NaN</td>\n",
              "      <td>NaN</td>\n",
              "      <td>NaN</td>\n",
              "    </tr>\n",
              "    <tr>\n",
              "      <th>2</th>\n",
              "      <td>Microsoft Surface Laptop (Intel Core i7, 16GB ...</td>\n",
              "      <td>Microsoft</td>\n",
              "      <td>13.5 Inches</td>\n",
              "      <td>Core i7</td>\n",
              "      <td>16 GB</td>\n",
              "      <td>Windows 10 S</td>\n",
              "      <td>3.9</td>\n",
              "      <td>Surface Laptop</td>\n",
              "      <td>Platinum</td>\n",
              "      <td>NaN</td>\n",
              "      <td>NaN</td>\n",
              "      <td>NaN</td>\n",
              "      <td>NaN</td>\n",
              "      <td>Intel Iris Plus Graphics 640</td>\n",
              "      <td>512 GB</td>\n",
              "      <td>Integrated</td>\n",
              "      <td>NaN</td>\n",
              "    </tr>\n",
              "    <tr>\n",
              "      <th>3</th>\n",
              "      <td>Microsoft Surface Laptop 3, 10th Gen Intel Cor...</td>\n",
              "      <td>Microsoft</td>\n",
              "      <td>13 Inches</td>\n",
              "      <td>Core i5-1035G7</td>\n",
              "      <td>8 GB</td>\n",
              "      <td>Windows 10 Home</td>\n",
              "      <td>4.2</td>\n",
              "      <td>Surface Laptop 3</td>\n",
              "      <td>Cobalt Blue</td>\n",
              "      <td>NaN</td>\n",
              "      <td>NaN</td>\n",
              "      <td>NaN</td>\n",
              "      <td>NaN</td>\n",
              "      <td>Intel Iris Plus</td>\n",
              "      <td>NaN</td>\n",
              "      <td>Integrated</td>\n",
              "      <td>NaN</td>\n",
              "    </tr>\n",
              "    <tr>\n",
              "      <th>4</th>\n",
              "      <td>2022 Microsoft Surface Laptop Go 12.4\" Touchsc...</td>\n",
              "      <td>Microsoft</td>\n",
              "      <td>12.4 Inches</td>\n",
              "      <td>Core i5</td>\n",
              "      <td>4 GB</td>\n",
              "      <td>Windows 11 Pro</td>\n",
              "      <td>3.9</td>\n",
              "      <td>Surface Laptop Go</td>\n",
              "      <td>Silver</td>\n",
              "      <td>NaN</td>\n",
              "      <td>NaN</td>\n",
              "      <td>NaN</td>\n",
              "      <td>NaN</td>\n",
              "      <td>NaN</td>\n",
              "      <td>256 GB</td>\n",
              "      <td>Integrated</td>\n",
              "      <td>$359.99</td>\n",
              "    </tr>\n",
              "  </tbody>\n",
              "</table>\n",
              "</div>\n",
              "    <div class=\"colab-df-buttons\">\n",
              "\n",
              "  <div class=\"colab-df-container\">\n",
              "    <button class=\"colab-df-convert\" onclick=\"convertToInteractive('df-29a9b9c4-fb76-4cdc-8dd0-801e75e36245')\"\n",
              "            title=\"Convert this dataframe to an interactive table.\"\n",
              "            style=\"display:none;\">\n",
              "\n",
              "  <svg xmlns=\"http://www.w3.org/2000/svg\" height=\"24px\" viewBox=\"0 -960 960 960\">\n",
              "    <path d=\"M120-120v-720h720v720H120Zm60-500h600v-160H180v160Zm220 220h160v-160H400v160Zm0 220h160v-160H400v160ZM180-400h160v-160H180v160Zm440 0h160v-160H620v160ZM180-180h160v-160H180v160Zm440 0h160v-160H620v160Z\"/>\n",
              "  </svg>\n",
              "    </button>\n",
              "\n",
              "  <style>\n",
              "    .colab-df-container {\n",
              "      display:flex;\n",
              "      gap: 12px;\n",
              "    }\n",
              "\n",
              "    .colab-df-convert {\n",
              "      background-color: #E8F0FE;\n",
              "      border: none;\n",
              "      border-radius: 50%;\n",
              "      cursor: pointer;\n",
              "      display: none;\n",
              "      fill: #1967D2;\n",
              "      height: 32px;\n",
              "      padding: 0 0 0 0;\n",
              "      width: 32px;\n",
              "    }\n",
              "\n",
              "    .colab-df-convert:hover {\n",
              "      background-color: #E2EBFA;\n",
              "      box-shadow: 0px 1px 2px rgba(60, 64, 67, 0.3), 0px 1px 3px 1px rgba(60, 64, 67, 0.15);\n",
              "      fill: #174EA6;\n",
              "    }\n",
              "\n",
              "    .colab-df-buttons div {\n",
              "      margin-bottom: 4px;\n",
              "    }\n",
              "\n",
              "    [theme=dark] .colab-df-convert {\n",
              "      background-color: #3B4455;\n",
              "      fill: #D2E3FC;\n",
              "    }\n",
              "\n",
              "    [theme=dark] .colab-df-convert:hover {\n",
              "      background-color: #434B5C;\n",
              "      box-shadow: 0px 1px 3px 1px rgba(0, 0, 0, 0.15);\n",
              "      filter: drop-shadow(0px 1px 2px rgba(0, 0, 0, 0.3));\n",
              "      fill: #FFFFFF;\n",
              "    }\n",
              "  </style>\n",
              "\n",
              "    <script>\n",
              "      const buttonEl =\n",
              "        document.querySelector('#df-29a9b9c4-fb76-4cdc-8dd0-801e75e36245 button.colab-df-convert');\n",
              "      buttonEl.style.display =\n",
              "        google.colab.kernel.accessAllowed ? 'block' : 'none';\n",
              "\n",
              "      async function convertToInteractive(key) {\n",
              "        const element = document.querySelector('#df-29a9b9c4-fb76-4cdc-8dd0-801e75e36245');\n",
              "        const dataTable =\n",
              "          await google.colab.kernel.invokeFunction('convertToInteractive',\n",
              "                                                    [key], {});\n",
              "        if (!dataTable) return;\n",
              "\n",
              "        const docLinkHtml = 'Like what you see? Visit the ' +\n",
              "          '<a target=\"_blank\" href=https://colab.research.google.com/notebooks/data_table.ipynb>data table notebook</a>'\n",
              "          + ' to learn more about interactive tables.';\n",
              "        element.innerHTML = '';\n",
              "        dataTable['output_type'] = 'display_data';\n",
              "        await google.colab.output.renderOutput(dataTable, element);\n",
              "        const docLink = document.createElement('div');\n",
              "        docLink.innerHTML = docLinkHtml;\n",
              "        element.appendChild(docLink);\n",
              "      }\n",
              "    </script>\n",
              "  </div>\n",
              "\n",
              "\n",
              "<div id=\"df-e672309e-2a54-4da9-9ab8-5eae850f600a\">\n",
              "  <button class=\"colab-df-quickchart\" onclick=\"quickchart('df-e672309e-2a54-4da9-9ab8-5eae850f600a')\"\n",
              "            title=\"Suggest charts\"\n",
              "            style=\"display:none;\">\n",
              "\n",
              "<svg xmlns=\"http://www.w3.org/2000/svg\" height=\"24px\"viewBox=\"0 0 24 24\"\n",
              "     width=\"24px\">\n",
              "    <g>\n",
              "        <path d=\"M19 3H5c-1.1 0-2 .9-2 2v14c0 1.1.9 2 2 2h14c1.1 0 2-.9 2-2V5c0-1.1-.9-2-2-2zM9 17H7v-7h2v7zm4 0h-2V7h2v10zm4 0h-2v-4h2v4z\"/>\n",
              "    </g>\n",
              "</svg>\n",
              "  </button>\n",
              "\n",
              "<style>\n",
              "  .colab-df-quickchart {\n",
              "      --bg-color: #E8F0FE;\n",
              "      --fill-color: #1967D2;\n",
              "      --hover-bg-color: #E2EBFA;\n",
              "      --hover-fill-color: #174EA6;\n",
              "      --disabled-fill-color: #AAA;\n",
              "      --disabled-bg-color: #DDD;\n",
              "  }\n",
              "\n",
              "  [theme=dark] .colab-df-quickchart {\n",
              "      --bg-color: #3B4455;\n",
              "      --fill-color: #D2E3FC;\n",
              "      --hover-bg-color: #434B5C;\n",
              "      --hover-fill-color: #FFFFFF;\n",
              "      --disabled-bg-color: #3B4455;\n",
              "      --disabled-fill-color: #666;\n",
              "  }\n",
              "\n",
              "  .colab-df-quickchart {\n",
              "    background-color: var(--bg-color);\n",
              "    border: none;\n",
              "    border-radius: 50%;\n",
              "    cursor: pointer;\n",
              "    display: none;\n",
              "    fill: var(--fill-color);\n",
              "    height: 32px;\n",
              "    padding: 0;\n",
              "    width: 32px;\n",
              "  }\n",
              "\n",
              "  .colab-df-quickchart:hover {\n",
              "    background-color: var(--hover-bg-color);\n",
              "    box-shadow: 0 1px 2px rgba(60, 64, 67, 0.3), 0 1px 3px 1px rgba(60, 64, 67, 0.15);\n",
              "    fill: var(--button-hover-fill-color);\n",
              "  }\n",
              "\n",
              "  .colab-df-quickchart-complete:disabled,\n",
              "  .colab-df-quickchart-complete:disabled:hover {\n",
              "    background-color: var(--disabled-bg-color);\n",
              "    fill: var(--disabled-fill-color);\n",
              "    box-shadow: none;\n",
              "  }\n",
              "\n",
              "  .colab-df-spinner {\n",
              "    border: 2px solid var(--fill-color);\n",
              "    border-color: transparent;\n",
              "    border-bottom-color: var(--fill-color);\n",
              "    animation:\n",
              "      spin 1s steps(1) infinite;\n",
              "  }\n",
              "\n",
              "  @keyframes spin {\n",
              "    0% {\n",
              "      border-color: transparent;\n",
              "      border-bottom-color: var(--fill-color);\n",
              "      border-left-color: var(--fill-color);\n",
              "    }\n",
              "    20% {\n",
              "      border-color: transparent;\n",
              "      border-left-color: var(--fill-color);\n",
              "      border-top-color: var(--fill-color);\n",
              "    }\n",
              "    30% {\n",
              "      border-color: transparent;\n",
              "      border-left-color: var(--fill-color);\n",
              "      border-top-color: var(--fill-color);\n",
              "      border-right-color: var(--fill-color);\n",
              "    }\n",
              "    40% {\n",
              "      border-color: transparent;\n",
              "      border-right-color: var(--fill-color);\n",
              "      border-top-color: var(--fill-color);\n",
              "    }\n",
              "    60% {\n",
              "      border-color: transparent;\n",
              "      border-right-color: var(--fill-color);\n",
              "    }\n",
              "    80% {\n",
              "      border-color: transparent;\n",
              "      border-right-color: var(--fill-color);\n",
              "      border-bottom-color: var(--fill-color);\n",
              "    }\n",
              "    90% {\n",
              "      border-color: transparent;\n",
              "      border-bottom-color: var(--fill-color);\n",
              "    }\n",
              "  }\n",
              "</style>\n",
              "\n",
              "  <script>\n",
              "    async function quickchart(key) {\n",
              "      const quickchartButtonEl =\n",
              "        document.querySelector('#' + key + ' button');\n",
              "      quickchartButtonEl.disabled = true;  // To prevent multiple clicks.\n",
              "      quickchartButtonEl.classList.add('colab-df-spinner');\n",
              "      try {\n",
              "        const charts = await google.colab.kernel.invokeFunction(\n",
              "            'suggestCharts', [key], {});\n",
              "      } catch (error) {\n",
              "        console.error('Error during call to suggestCharts:', error);\n",
              "      }\n",
              "      quickchartButtonEl.classList.remove('colab-df-spinner');\n",
              "      quickchartButtonEl.classList.add('colab-df-quickchart-complete');\n",
              "    }\n",
              "    (() => {\n",
              "      let quickchartButtonEl =\n",
              "        document.querySelector('#df-e672309e-2a54-4da9-9ab8-5eae850f600a button');\n",
              "      quickchartButtonEl.style.display =\n",
              "        google.colab.kernel.accessAllowed ? 'block' : 'none';\n",
              "    })();\n",
              "  </script>\n",
              "</div>\n",
              "\n",
              "    </div>\n",
              "  </div>\n"
            ],
            "application/vnd.google.colaboratory.intrinsic+json": {
              "type": "dataframe",
              "variable_name": "df",
              "summary": "{\n  \"name\": \"df\",\n  \"rows\": 2843,\n  \"fields\": [\n    {\n      \"column\": \"Title\",\n      \"properties\": {\n        \"dtype\": \"string\",\n        \"num_unique_values\": 2420,\n        \"samples\": [\n          \"2022 Acer 11.6\\\" IPS Ultra-Light Chromebook, ARM Quad-Core Processor Up to 2.0 GHz, 4GB DDR4 Memory, 32GB eMMC SSD, Webcam, Chrome OS (Renewed)\",\n          \"MSI Summit E13 Flip EVO Professional Laptop: 13\\\" IPS-Level Touch Screen, Intel core i5-1135G7, Iris Xe, 16GB RAM, 512GB NVMe SSD, Win10 PRO, Ink Black (A11MT-095)\",\n          \"2022 ASUS VivoBook 15.6\\\" HD Business Laptop, Intel 10th Gen i3-1005G1 Up to 3.4GHz Beat i5-8250U, 12GB RAM, 512GB PCIE SSD, Bluetooth, Windows 11 in S, Slate Grey w/ 3in1 Accessories\"\n        ],\n        \"semantic_type\": \"\",\n        \"description\": \"\"\n      }\n    },\n    {\n      \"column\": \"Brand\",\n      \"properties\": {\n        \"dtype\": \"category\",\n        \"num_unique_values\": 52,\n        \"samples\": [\n          \"CHUWI\",\n          \"Laptop\",\n          \"Carlisle Paddles\"\n        ],\n        \"semantic_type\": \"\",\n        \"description\": \"\"\n      }\n    },\n    {\n      \"column\": \"Screen_Size\",\n      \"properties\": {\n        \"dtype\": \"category\",\n        \"num_unique_values\": 62,\n        \"samples\": [\n          \"14.5\",\n          \"16.6 Inches\",\n          \"13.5 Inches\"\n        ],\n        \"semantic_type\": \"\",\n        \"description\": \"\"\n      }\n    },\n    {\n      \"column\": \"CPU_Model\",\n      \"properties\": {\n        \"dtype\": \"category\",\n        \"num_unique_values\": 180,\n        \"samples\": [\n          \"Intel Core i5\",\n          \"AMD A Series\",\n          \"Celeron N2840\"\n        ],\n        \"semantic_type\": \"\",\n        \"description\": \"\"\n      }\n    },\n    {\n      \"column\": \"Ram\",\n      \"properties\": {\n        \"dtype\": \"category\",\n        \"num_unique_values\": 17,\n        \"samples\": [\n          \"8 GB\",\n          \"16 GB\",\n          \"24 GB\"\n        ],\n        \"semantic_type\": \"\",\n        \"description\": \"\"\n      }\n    },\n    {\n      \"column\": \"Operating_System\",\n      \"properties\": {\n        \"dtype\": \"category\",\n        \"num_unique_values\": 81,\n        \"samples\": [\n          \"Windows\",\n          \"Windows 10\",\n          \"Microsoft Windows 10 Professional (64bit)\"\n        ],\n        \"semantic_type\": \"\",\n        \"description\": \"\"\n      }\n    },\n    {\n      \"column\": \"Rating\",\n      \"properties\": {\n        \"dtype\": \"number\",\n        \"std\": 0.5565626190370833,\n        \"min\": 1.0,\n        \"max\": 5.0,\n        \"num_unique_values\": 34,\n        \"samples\": [\n          2.5,\n          3.6,\n          2.6\n        ],\n        \"semantic_type\": \"\",\n        \"description\": \"\"\n      }\n    },\n    {\n      \"column\": \"Series\",\n      \"properties\": {\n        \"dtype\": \"category\",\n        \"num_unique_values\": 1308,\n        \"samples\": [\n          \"S533EA-DH74\",\n          \"Dell Inspiron 3583\",\n          \"14Z90Q-K.AAB7U1\"\n        ],\n        \"semantic_type\": \"\",\n        \"description\": \"\"\n      }\n    },\n    {\n      \"column\": \"Color\",\n      \"properties\": {\n        \"dtype\": \"category\",\n        \"num_unique_values\": 242,\n        \"samples\": [\n          \"Blue Stone\",\n          \"Titanium Blue\",\n          \"Ash Gray\"\n        ],\n        \"semantic_type\": \"\",\n        \"description\": \"\"\n      }\n    },\n    {\n      \"column\": \"Resolution\",\n      \"properties\": {\n        \"dtype\": \"category\",\n        \"num_unique_values\": 14,\n        \"samples\": [\n          \"2K\",\n          \"720p, 4K\",\n          \"720p\"\n        ],\n        \"semantic_type\": \"\",\n        \"description\": \"\"\n      }\n    },\n    {\n      \"column\": \"Weight\",\n      \"properties\": {\n        \"dtype\": \"category\",\n        \"num_unique_values\": 46,\n        \"samples\": [\n          \"5.27 Pounds\",\n          \"8.2 Pounds\",\n          \"10 Pounds\"\n        ],\n        \"semantic_type\": \"\",\n        \"description\": \"\"\n      }\n    },\n    {\n      \"column\": \"USB\",\n      \"properties\": {\n        \"dtype\": \"number\",\n        \"std\": 0.7702449681266147,\n        \"min\": 1.0,\n        \"max\": 3.0,\n        \"num_unique_values\": 3,\n        \"samples\": [\n          2.0,\n          3.0,\n          1.0\n        ],\n        \"semantic_type\": \"\",\n        \"description\": \"\"\n      }\n    },\n    {\n      \"column\": \"Battery\",\n      \"properties\": {\n        \"dtype\": \"category\",\n        \"num_unique_values\": 5,\n        \"samples\": [\n          \"11.0, 17.0 Hours\",\n          \"17 Hours\",\n          \"1 Hours\"\n        ],\n        \"semantic_type\": \"\",\n        \"description\": \"\"\n      }\n    },\n    {\n      \"column\": \"Graphics\",\n      \"properties\": {\n        \"dtype\": \"category\",\n        \"num_unique_values\": 292,\n        \"samples\": [\n          \"Intel UHD Graphics 620\",\n          \"Intel UHD Graphics Integrated Graphics Card\",\n          \"NVIDIA GTX 1650 Ti MAX-Q\"\n        ],\n        \"semantic_type\": \"\",\n        \"description\": \"\"\n      }\n    },\n    {\n      \"column\": \"Disk_size\",\n      \"properties\": {\n        \"dtype\": \"category\",\n        \"num_unique_values\": 46,\n        \"samples\": [\n          \"300 GB\",\n          \"480 GB\",\n          \"256\"\n        ],\n        \"semantic_type\": \"\",\n        \"description\": \"\"\n      }\n    },\n    {\n      \"column\": \"Card_desc\",\n      \"properties\": {\n        \"dtype\": \"category\",\n        \"num_unique_values\": 69,\n        \"samples\": [\n          \"Intel XE, Dedicated\",\n          \"Integrated\",\n          \"Radeon Vega 7\"\n        ],\n        \"semantic_type\": \"\",\n        \"description\": \"\"\n      }\n    },\n    {\n      \"column\": \"Price\",\n      \"properties\": {\n        \"dtype\": \"category\",\n        \"num_unique_values\": 863,\n        \"samples\": [\n          \"$625.99\",\n          \"$679.73\",\n          \"$949.99\"\n        ],\n        \"semantic_type\": \"\",\n        \"description\": \"\"\n      }\n    }\n  ]\n}"
            }
          },
          "metadata": {},
          "execution_count": 273
        }
      ]
    },
    {
      "cell_type": "code",
      "source": [
        "df.shape"
      ],
      "metadata": {
        "colab": {
          "base_uri": "https://localhost:8080/"
        },
        "id": "7qwfbp3iFHLF",
        "outputId": "9be7a42c-a25e-4826-d6e1-c98cf021a9e9"
      },
      "execution_count": 274,
      "outputs": [
        {
          "output_type": "execute_result",
          "data": {
            "text/plain": [
              "(2843, 17)"
            ]
          },
          "metadata": {},
          "execution_count": 274
        }
      ]
    },
    {
      "cell_type": "code",
      "source": [
        "# Checking out missing values\n",
        "df.isna().sum()"
      ],
      "metadata": {
        "colab": {
          "base_uri": "https://localhost:8080/",
          "height": 617
        },
        "id": "2qSUC4z-FJef",
        "outputId": "a837595a-4204-4597-d041-00581413a1ac"
      },
      "execution_count": 275,
      "outputs": [
        {
          "output_type": "execute_result",
          "data": {
            "text/plain": [
              "Title                  0\n",
              "Brand                 33\n",
              "Screen_Size           87\n",
              "CPU_Model            215\n",
              "Ram                  132\n",
              "Operating_System     120\n",
              "Rating               560\n",
              "Series               342\n",
              "Color                734\n",
              "Resolution          2661\n",
              "Weight              2777\n",
              "USB                 2808\n",
              "Battery             2836\n",
              "Graphics             780\n",
              "Disk_size            595\n",
              "Card_desc            208\n",
              "Price                980\n",
              "dtype: int64"
            ],
            "text/html": [
              "<div>\n",
              "<style scoped>\n",
              "    .dataframe tbody tr th:only-of-type {\n",
              "        vertical-align: middle;\n",
              "    }\n",
              "\n",
              "    .dataframe tbody tr th {\n",
              "        vertical-align: top;\n",
              "    }\n",
              "\n",
              "    .dataframe thead th {\n",
              "        text-align: right;\n",
              "    }\n",
              "</style>\n",
              "<table border=\"1\" class=\"dataframe\">\n",
              "  <thead>\n",
              "    <tr style=\"text-align: right;\">\n",
              "      <th></th>\n",
              "      <th>0</th>\n",
              "    </tr>\n",
              "  </thead>\n",
              "  <tbody>\n",
              "    <tr>\n",
              "      <th>Title</th>\n",
              "      <td>0</td>\n",
              "    </tr>\n",
              "    <tr>\n",
              "      <th>Brand</th>\n",
              "      <td>33</td>\n",
              "    </tr>\n",
              "    <tr>\n",
              "      <th>Screen_Size</th>\n",
              "      <td>87</td>\n",
              "    </tr>\n",
              "    <tr>\n",
              "      <th>CPU_Model</th>\n",
              "      <td>215</td>\n",
              "    </tr>\n",
              "    <tr>\n",
              "      <th>Ram</th>\n",
              "      <td>132</td>\n",
              "    </tr>\n",
              "    <tr>\n",
              "      <th>Operating_System</th>\n",
              "      <td>120</td>\n",
              "    </tr>\n",
              "    <tr>\n",
              "      <th>Rating</th>\n",
              "      <td>560</td>\n",
              "    </tr>\n",
              "    <tr>\n",
              "      <th>Series</th>\n",
              "      <td>342</td>\n",
              "    </tr>\n",
              "    <tr>\n",
              "      <th>Color</th>\n",
              "      <td>734</td>\n",
              "    </tr>\n",
              "    <tr>\n",
              "      <th>Resolution</th>\n",
              "      <td>2661</td>\n",
              "    </tr>\n",
              "    <tr>\n",
              "      <th>Weight</th>\n",
              "      <td>2777</td>\n",
              "    </tr>\n",
              "    <tr>\n",
              "      <th>USB</th>\n",
              "      <td>2808</td>\n",
              "    </tr>\n",
              "    <tr>\n",
              "      <th>Battery</th>\n",
              "      <td>2836</td>\n",
              "    </tr>\n",
              "    <tr>\n",
              "      <th>Graphics</th>\n",
              "      <td>780</td>\n",
              "    </tr>\n",
              "    <tr>\n",
              "      <th>Disk_size</th>\n",
              "      <td>595</td>\n",
              "    </tr>\n",
              "    <tr>\n",
              "      <th>Card_desc</th>\n",
              "      <td>208</td>\n",
              "    </tr>\n",
              "    <tr>\n",
              "      <th>Price</th>\n",
              "      <td>980</td>\n",
              "    </tr>\n",
              "  </tbody>\n",
              "</table>\n",
              "</div><br><label><b>dtype:</b> int64</label>"
            ]
          },
          "metadata": {},
          "execution_count": 275
        }
      ]
    },
    {
      "cell_type": "code",
      "source": [
        "df.info()"
      ],
      "metadata": {
        "colab": {
          "base_uri": "https://localhost:8080/"
        },
        "id": "BQzMEeHvKzZV",
        "outputId": "020e0d42-c8e2-4469-c5f4-8e59e0ef7ec5"
      },
      "execution_count": 276,
      "outputs": [
        {
          "output_type": "stream",
          "name": "stdout",
          "text": [
            "<class 'pandas.core.frame.DataFrame'>\n",
            "RangeIndex: 2843 entries, 0 to 2842\n",
            "Data columns (total 17 columns):\n",
            " #   Column            Non-Null Count  Dtype  \n",
            "---  ------            --------------  -----  \n",
            " 0   Title             2843 non-null   object \n",
            " 1   Brand             2810 non-null   object \n",
            " 2   Screen_Size       2756 non-null   object \n",
            " 3   CPU_Model         2628 non-null   object \n",
            " 4   Ram               2711 non-null   object \n",
            " 5   Operating_System  2723 non-null   object \n",
            " 6   Rating            2283 non-null   float64\n",
            " 7   Series            2501 non-null   object \n",
            " 8   Color             2109 non-null   object \n",
            " 9   Resolution        182 non-null    object \n",
            " 10  Weight            66 non-null     object \n",
            " 11  USB               35 non-null     float64\n",
            " 12  Battery           7 non-null      object \n",
            " 13  Graphics          2063 non-null   object \n",
            " 14  Disk_size         2248 non-null   object \n",
            " 15  Card_desc         2635 non-null   object \n",
            " 16  Price             1863 non-null   object \n",
            "dtypes: float64(2), object(15)\n",
            "memory usage: 377.7+ KB\n"
          ]
        }
      ]
    },
    {
      "cell_type": "code",
      "source": [
        "df.Title.head().values"
      ],
      "metadata": {
        "colab": {
          "base_uri": "https://localhost:8080/"
        },
        "id": "avpTd3uHK85f",
        "outputId": "c078e607-8c39-4384-c8ff-ce1072e07867"
      },
      "execution_count": 277,
      "outputs": [
        {
          "output_type": "execute_result",
          "data": {
            "text/plain": [
              "array(['Microsoft Surface Laptop Intel Core i5 7th Gen 8GB RAM 256GB SSD Win 10 Platinum (Renewed)',\n",
              "       'Microsoft Surface Laptop 3 13.5\" Touch-Screen Intel Core i5-8GB Memory - 256GB Solid State Drive (Latest Model) Matte Black (Renewed)',\n",
              "       'Microsoft Surface Laptop (Intel Core i7, 16GB RAM, 512GB) - Platinum (Renewed)',\n",
              "       'Microsoft Surface Laptop 3, 10th Gen Intel Core i5 (13.5-inch Touchscreen - 8GB Memory - 256GB SSD) - Blue (Renewed Premium)',\n",
              "       '2022 Microsoft Surface Laptop Go 12.4\" Touchscreen, Intel Core i5-1035G1 Processor, Up to 13Hr Battery Life, WiFi, Webcam, Windows 11 Pro, Platinum Silver (4GB RAM | 256GB SSD)'],\n",
              "      dtype=object)"
            ]
          },
          "metadata": {},
          "execution_count": 277
        }
      ]
    },
    {
      "cell_type": "markdown",
      "source": [
        "**Observations**\n",
        "- Multiple features have missing entries and the **Title** feature contains good information about the configuration which will be useful to replace missing values.\n",
        "- Information retrieval from the **Title** feature and further preprocessing will be easier if the text is in **lower case**."
      ],
      "metadata": {
        "id": "X-5Xssi9GJ2g"
      }
    },
    {
      "cell_type": "code",
      "source": [
        "# transforming all features with object datatype into the lower case.\n",
        "for column in df.select_dtypes(include=['object']).columns:\n",
        "    df[column] = df[column].str.lower()"
      ],
      "metadata": {
        "id": "ItUqUN_HLfDi"
      },
      "execution_count": 278,
      "outputs": []
    },
    {
      "cell_type": "code",
      "source": [
        "df.Title.head().values"
      ],
      "metadata": {
        "colab": {
          "base_uri": "https://localhost:8080/"
        },
        "id": "5rppYLCLM64L",
        "outputId": "56d62220-04f7-4175-fd99-db49b93872a4"
      },
      "execution_count": 279,
      "outputs": [
        {
          "output_type": "execute_result",
          "data": {
            "text/plain": [
              "array(['microsoft surface laptop intel core i5 7th gen 8gb ram 256gb ssd win 10 platinum (renewed)',\n",
              "       'microsoft surface laptop 3 13.5\" touch-screen intel core i5-8gb memory - 256gb solid state drive (latest model) matte black (renewed)',\n",
              "       'microsoft surface laptop (intel core i7, 16gb ram, 512gb) - platinum (renewed)',\n",
              "       'microsoft surface laptop 3, 10th gen intel core i5 (13.5-inch touchscreen - 8gb memory - 256gb ssd) - blue (renewed premium)',\n",
              "       '2022 microsoft surface laptop go 12.4\" touchscreen, intel core i5-1035g1 processor, up to 13hr battery life, wifi, webcam, windows 11 pro, platinum silver (4gb ram | 256gb ssd)'],\n",
              "      dtype=object)"
            ]
          },
          "metadata": {},
          "execution_count": 279
        }
      ]
    },
    {
      "cell_type": "code",
      "source": [
        "df.head()"
      ],
      "metadata": {
        "colab": {
          "base_uri": "https://localhost:8080/",
          "height": 466
        },
        "id": "pKDXUuoaM886",
        "outputId": "6d06fd70-382c-4d24-8eea-27ad5f01b728"
      },
      "execution_count": 280,
      "outputs": [
        {
          "output_type": "execute_result",
          "data": {
            "text/plain": [
              "                                               Title      Brand  Screen_Size  \\\n",
              "0  microsoft surface laptop intel core i5 7th gen...  microsoft  13.5 inches   \n",
              "1  microsoft surface laptop 3 13.5\" touch-screen ...  microsoft  13.5 inches   \n",
              "2  microsoft surface laptop (intel core i7, 16gb ...  microsoft  13.5 inches   \n",
              "3  microsoft surface laptop 3, 10th gen intel cor...  microsoft    13 inches   \n",
              "4  2022 microsoft surface laptop go 12.4\" touchsc...  microsoft  12.4 inches   \n",
              "\n",
              "                    CPU_Model    Ram Operating_System  Rating  \\\n",
              "0  1.2ghz cortex a8 processor   8 gb       windows 10     4.4   \n",
              "1                     core i5   8 gb       windows 10     4.4   \n",
              "2                     core i7  16 gb     windows 10 s     3.9   \n",
              "3              core i5-1035g7   8 gb  windows 10 home     4.2   \n",
              "4                     core i5   4 gb   windows 11 pro     3.9   \n",
              "\n",
              "              Series        Color Resolution Weight  USB Battery  \\\n",
              "0              intel     platinum        NaN    NaN  NaN     NaN   \n",
              "1  microsoft surface  matte black        NaN    NaN  NaN     NaN   \n",
              "2     surface laptop     platinum        NaN    NaN  NaN     NaN   \n",
              "3   surface laptop 3  cobalt blue        NaN    NaN  NaN     NaN   \n",
              "4  surface laptop go       silver        NaN    NaN  NaN     NaN   \n",
              "\n",
              "                       Graphics Disk_size   Card_desc    Price  \n",
              "0         intel hd graphics 620    256 gb  integrated      NaN  \n",
              "1                           NaN       NaN         NaN      NaN  \n",
              "2  intel iris plus graphics 640    512 gb  integrated      NaN  \n",
              "3               intel iris plus       NaN  integrated      NaN  \n",
              "4                           NaN    256 gb  integrated  $359.99  "
            ],
            "text/html": [
              "\n",
              "  <div id=\"df-33846241-a53a-4276-817e-267f0f6bbd0e\" class=\"colab-df-container\">\n",
              "    <div>\n",
              "<style scoped>\n",
              "    .dataframe tbody tr th:only-of-type {\n",
              "        vertical-align: middle;\n",
              "    }\n",
              "\n",
              "    .dataframe tbody tr th {\n",
              "        vertical-align: top;\n",
              "    }\n",
              "\n",
              "    .dataframe thead th {\n",
              "        text-align: right;\n",
              "    }\n",
              "</style>\n",
              "<table border=\"1\" class=\"dataframe\">\n",
              "  <thead>\n",
              "    <tr style=\"text-align: right;\">\n",
              "      <th></th>\n",
              "      <th>Title</th>\n",
              "      <th>Brand</th>\n",
              "      <th>Screen_Size</th>\n",
              "      <th>CPU_Model</th>\n",
              "      <th>Ram</th>\n",
              "      <th>Operating_System</th>\n",
              "      <th>Rating</th>\n",
              "      <th>Series</th>\n",
              "      <th>Color</th>\n",
              "      <th>Resolution</th>\n",
              "      <th>Weight</th>\n",
              "      <th>USB</th>\n",
              "      <th>Battery</th>\n",
              "      <th>Graphics</th>\n",
              "      <th>Disk_size</th>\n",
              "      <th>Card_desc</th>\n",
              "      <th>Price</th>\n",
              "    </tr>\n",
              "  </thead>\n",
              "  <tbody>\n",
              "    <tr>\n",
              "      <th>0</th>\n",
              "      <td>microsoft surface laptop intel core i5 7th gen...</td>\n",
              "      <td>microsoft</td>\n",
              "      <td>13.5 inches</td>\n",
              "      <td>1.2ghz cortex a8 processor</td>\n",
              "      <td>8 gb</td>\n",
              "      <td>windows 10</td>\n",
              "      <td>4.4</td>\n",
              "      <td>intel</td>\n",
              "      <td>platinum</td>\n",
              "      <td>NaN</td>\n",
              "      <td>NaN</td>\n",
              "      <td>NaN</td>\n",
              "      <td>NaN</td>\n",
              "      <td>intel hd graphics 620</td>\n",
              "      <td>256 gb</td>\n",
              "      <td>integrated</td>\n",
              "      <td>NaN</td>\n",
              "    </tr>\n",
              "    <tr>\n",
              "      <th>1</th>\n",
              "      <td>microsoft surface laptop 3 13.5\" touch-screen ...</td>\n",
              "      <td>microsoft</td>\n",
              "      <td>13.5 inches</td>\n",
              "      <td>core i5</td>\n",
              "      <td>8 gb</td>\n",
              "      <td>windows 10</td>\n",
              "      <td>4.4</td>\n",
              "      <td>microsoft surface</td>\n",
              "      <td>matte black</td>\n",
              "      <td>NaN</td>\n",
              "      <td>NaN</td>\n",
              "      <td>NaN</td>\n",
              "      <td>NaN</td>\n",
              "      <td>NaN</td>\n",
              "      <td>NaN</td>\n",
              "      <td>NaN</td>\n",
              "      <td>NaN</td>\n",
              "    </tr>\n",
              "    <tr>\n",
              "      <th>2</th>\n",
              "      <td>microsoft surface laptop (intel core i7, 16gb ...</td>\n",
              "      <td>microsoft</td>\n",
              "      <td>13.5 inches</td>\n",
              "      <td>core i7</td>\n",
              "      <td>16 gb</td>\n",
              "      <td>windows 10 s</td>\n",
              "      <td>3.9</td>\n",
              "      <td>surface laptop</td>\n",
              "      <td>platinum</td>\n",
              "      <td>NaN</td>\n",
              "      <td>NaN</td>\n",
              "      <td>NaN</td>\n",
              "      <td>NaN</td>\n",
              "      <td>intel iris plus graphics 640</td>\n",
              "      <td>512 gb</td>\n",
              "      <td>integrated</td>\n",
              "      <td>NaN</td>\n",
              "    </tr>\n",
              "    <tr>\n",
              "      <th>3</th>\n",
              "      <td>microsoft surface laptop 3, 10th gen intel cor...</td>\n",
              "      <td>microsoft</td>\n",
              "      <td>13 inches</td>\n",
              "      <td>core i5-1035g7</td>\n",
              "      <td>8 gb</td>\n",
              "      <td>windows 10 home</td>\n",
              "      <td>4.2</td>\n",
              "      <td>surface laptop 3</td>\n",
              "      <td>cobalt blue</td>\n",
              "      <td>NaN</td>\n",
              "      <td>NaN</td>\n",
              "      <td>NaN</td>\n",
              "      <td>NaN</td>\n",
              "      <td>intel iris plus</td>\n",
              "      <td>NaN</td>\n",
              "      <td>integrated</td>\n",
              "      <td>NaN</td>\n",
              "    </tr>\n",
              "    <tr>\n",
              "      <th>4</th>\n",
              "      <td>2022 microsoft surface laptop go 12.4\" touchsc...</td>\n",
              "      <td>microsoft</td>\n",
              "      <td>12.4 inches</td>\n",
              "      <td>core i5</td>\n",
              "      <td>4 gb</td>\n",
              "      <td>windows 11 pro</td>\n",
              "      <td>3.9</td>\n",
              "      <td>surface laptop go</td>\n",
              "      <td>silver</td>\n",
              "      <td>NaN</td>\n",
              "      <td>NaN</td>\n",
              "      <td>NaN</td>\n",
              "      <td>NaN</td>\n",
              "      <td>NaN</td>\n",
              "      <td>256 gb</td>\n",
              "      <td>integrated</td>\n",
              "      <td>$359.99</td>\n",
              "    </tr>\n",
              "  </tbody>\n",
              "</table>\n",
              "</div>\n",
              "    <div class=\"colab-df-buttons\">\n",
              "\n",
              "  <div class=\"colab-df-container\">\n",
              "    <button class=\"colab-df-convert\" onclick=\"convertToInteractive('df-33846241-a53a-4276-817e-267f0f6bbd0e')\"\n",
              "            title=\"Convert this dataframe to an interactive table.\"\n",
              "            style=\"display:none;\">\n",
              "\n",
              "  <svg xmlns=\"http://www.w3.org/2000/svg\" height=\"24px\" viewBox=\"0 -960 960 960\">\n",
              "    <path d=\"M120-120v-720h720v720H120Zm60-500h600v-160H180v160Zm220 220h160v-160H400v160Zm0 220h160v-160H400v160ZM180-400h160v-160H180v160Zm440 0h160v-160H620v160ZM180-180h160v-160H180v160Zm440 0h160v-160H620v160Z\"/>\n",
              "  </svg>\n",
              "    </button>\n",
              "\n",
              "  <style>\n",
              "    .colab-df-container {\n",
              "      display:flex;\n",
              "      gap: 12px;\n",
              "    }\n",
              "\n",
              "    .colab-df-convert {\n",
              "      background-color: #E8F0FE;\n",
              "      border: none;\n",
              "      border-radius: 50%;\n",
              "      cursor: pointer;\n",
              "      display: none;\n",
              "      fill: #1967D2;\n",
              "      height: 32px;\n",
              "      padding: 0 0 0 0;\n",
              "      width: 32px;\n",
              "    }\n",
              "\n",
              "    .colab-df-convert:hover {\n",
              "      background-color: #E2EBFA;\n",
              "      box-shadow: 0px 1px 2px rgba(60, 64, 67, 0.3), 0px 1px 3px 1px rgba(60, 64, 67, 0.15);\n",
              "      fill: #174EA6;\n",
              "    }\n",
              "\n",
              "    .colab-df-buttons div {\n",
              "      margin-bottom: 4px;\n",
              "    }\n",
              "\n",
              "    [theme=dark] .colab-df-convert {\n",
              "      background-color: #3B4455;\n",
              "      fill: #D2E3FC;\n",
              "    }\n",
              "\n",
              "    [theme=dark] .colab-df-convert:hover {\n",
              "      background-color: #434B5C;\n",
              "      box-shadow: 0px 1px 3px 1px rgba(0, 0, 0, 0.15);\n",
              "      filter: drop-shadow(0px 1px 2px rgba(0, 0, 0, 0.3));\n",
              "      fill: #FFFFFF;\n",
              "    }\n",
              "  </style>\n",
              "\n",
              "    <script>\n",
              "      const buttonEl =\n",
              "        document.querySelector('#df-33846241-a53a-4276-817e-267f0f6bbd0e button.colab-df-convert');\n",
              "      buttonEl.style.display =\n",
              "        google.colab.kernel.accessAllowed ? 'block' : 'none';\n",
              "\n",
              "      async function convertToInteractive(key) {\n",
              "        const element = document.querySelector('#df-33846241-a53a-4276-817e-267f0f6bbd0e');\n",
              "        const dataTable =\n",
              "          await google.colab.kernel.invokeFunction('convertToInteractive',\n",
              "                                                    [key], {});\n",
              "        if (!dataTable) return;\n",
              "\n",
              "        const docLinkHtml = 'Like what you see? Visit the ' +\n",
              "          '<a target=\"_blank\" href=https://colab.research.google.com/notebooks/data_table.ipynb>data table notebook</a>'\n",
              "          + ' to learn more about interactive tables.';\n",
              "        element.innerHTML = '';\n",
              "        dataTable['output_type'] = 'display_data';\n",
              "        await google.colab.output.renderOutput(dataTable, element);\n",
              "        const docLink = document.createElement('div');\n",
              "        docLink.innerHTML = docLinkHtml;\n",
              "        element.appendChild(docLink);\n",
              "      }\n",
              "    </script>\n",
              "  </div>\n",
              "\n",
              "\n",
              "<div id=\"df-62b7b10f-b244-4747-ae40-5c05ef311fee\">\n",
              "  <button class=\"colab-df-quickchart\" onclick=\"quickchart('df-62b7b10f-b244-4747-ae40-5c05ef311fee')\"\n",
              "            title=\"Suggest charts\"\n",
              "            style=\"display:none;\">\n",
              "\n",
              "<svg xmlns=\"http://www.w3.org/2000/svg\" height=\"24px\"viewBox=\"0 0 24 24\"\n",
              "     width=\"24px\">\n",
              "    <g>\n",
              "        <path d=\"M19 3H5c-1.1 0-2 .9-2 2v14c0 1.1.9 2 2 2h14c1.1 0 2-.9 2-2V5c0-1.1-.9-2-2-2zM9 17H7v-7h2v7zm4 0h-2V7h2v10zm4 0h-2v-4h2v4z\"/>\n",
              "    </g>\n",
              "</svg>\n",
              "  </button>\n",
              "\n",
              "<style>\n",
              "  .colab-df-quickchart {\n",
              "      --bg-color: #E8F0FE;\n",
              "      --fill-color: #1967D2;\n",
              "      --hover-bg-color: #E2EBFA;\n",
              "      --hover-fill-color: #174EA6;\n",
              "      --disabled-fill-color: #AAA;\n",
              "      --disabled-bg-color: #DDD;\n",
              "  }\n",
              "\n",
              "  [theme=dark] .colab-df-quickchart {\n",
              "      --bg-color: #3B4455;\n",
              "      --fill-color: #D2E3FC;\n",
              "      --hover-bg-color: #434B5C;\n",
              "      --hover-fill-color: #FFFFFF;\n",
              "      --disabled-bg-color: #3B4455;\n",
              "      --disabled-fill-color: #666;\n",
              "  }\n",
              "\n",
              "  .colab-df-quickchart {\n",
              "    background-color: var(--bg-color);\n",
              "    border: none;\n",
              "    border-radius: 50%;\n",
              "    cursor: pointer;\n",
              "    display: none;\n",
              "    fill: var(--fill-color);\n",
              "    height: 32px;\n",
              "    padding: 0;\n",
              "    width: 32px;\n",
              "  }\n",
              "\n",
              "  .colab-df-quickchart:hover {\n",
              "    background-color: var(--hover-bg-color);\n",
              "    box-shadow: 0 1px 2px rgba(60, 64, 67, 0.3), 0 1px 3px 1px rgba(60, 64, 67, 0.15);\n",
              "    fill: var(--button-hover-fill-color);\n",
              "  }\n",
              "\n",
              "  .colab-df-quickchart-complete:disabled,\n",
              "  .colab-df-quickchart-complete:disabled:hover {\n",
              "    background-color: var(--disabled-bg-color);\n",
              "    fill: var(--disabled-fill-color);\n",
              "    box-shadow: none;\n",
              "  }\n",
              "\n",
              "  .colab-df-spinner {\n",
              "    border: 2px solid var(--fill-color);\n",
              "    border-color: transparent;\n",
              "    border-bottom-color: var(--fill-color);\n",
              "    animation:\n",
              "      spin 1s steps(1) infinite;\n",
              "  }\n",
              "\n",
              "  @keyframes spin {\n",
              "    0% {\n",
              "      border-color: transparent;\n",
              "      border-bottom-color: var(--fill-color);\n",
              "      border-left-color: var(--fill-color);\n",
              "    }\n",
              "    20% {\n",
              "      border-color: transparent;\n",
              "      border-left-color: var(--fill-color);\n",
              "      border-top-color: var(--fill-color);\n",
              "    }\n",
              "    30% {\n",
              "      border-color: transparent;\n",
              "      border-left-color: var(--fill-color);\n",
              "      border-top-color: var(--fill-color);\n",
              "      border-right-color: var(--fill-color);\n",
              "    }\n",
              "    40% {\n",
              "      border-color: transparent;\n",
              "      border-right-color: var(--fill-color);\n",
              "      border-top-color: var(--fill-color);\n",
              "    }\n",
              "    60% {\n",
              "      border-color: transparent;\n",
              "      border-right-color: var(--fill-color);\n",
              "    }\n",
              "    80% {\n",
              "      border-color: transparent;\n",
              "      border-right-color: var(--fill-color);\n",
              "      border-bottom-color: var(--fill-color);\n",
              "    }\n",
              "    90% {\n",
              "      border-color: transparent;\n",
              "      border-bottom-color: var(--fill-color);\n",
              "    }\n",
              "  }\n",
              "</style>\n",
              "\n",
              "  <script>\n",
              "    async function quickchart(key) {\n",
              "      const quickchartButtonEl =\n",
              "        document.querySelector('#' + key + ' button');\n",
              "      quickchartButtonEl.disabled = true;  // To prevent multiple clicks.\n",
              "      quickchartButtonEl.classList.add('colab-df-spinner');\n",
              "      try {\n",
              "        const charts = await google.colab.kernel.invokeFunction(\n",
              "            'suggestCharts', [key], {});\n",
              "      } catch (error) {\n",
              "        console.error('Error during call to suggestCharts:', error);\n",
              "      }\n",
              "      quickchartButtonEl.classList.remove('colab-df-spinner');\n",
              "      quickchartButtonEl.classList.add('colab-df-quickchart-complete');\n",
              "    }\n",
              "    (() => {\n",
              "      let quickchartButtonEl =\n",
              "        document.querySelector('#df-62b7b10f-b244-4747-ae40-5c05ef311fee button');\n",
              "      quickchartButtonEl.style.display =\n",
              "        google.colab.kernel.accessAllowed ? 'block' : 'none';\n",
              "    })();\n",
              "  </script>\n",
              "</div>\n",
              "\n",
              "    </div>\n",
              "  </div>\n"
            ],
            "application/vnd.google.colaboratory.intrinsic+json": {
              "type": "dataframe",
              "variable_name": "df",
              "summary": "{\n  \"name\": \"df\",\n  \"rows\": 2843,\n  \"fields\": [\n    {\n      \"column\": \"Title\",\n      \"properties\": {\n        \"dtype\": \"string\",\n        \"num_unique_values\": 2420,\n        \"samples\": [\n          \"2022 acer 11.6\\\" ips ultra-light chromebook, arm quad-core processor up to 2.0 ghz, 4gb ddr4 memory, 32gb emmc ssd, webcam, chrome os (renewed)\",\n          \"msi summit e13 flip evo professional laptop: 13\\\" ips-level touch screen, intel core i5-1135g7, iris xe, 16gb ram, 512gb nvme ssd, win10 pro, ink black (a11mt-095)\",\n          \"2022 asus vivobook 15.6\\\" hd business laptop, intel 10th gen i3-1005g1 up to 3.4ghz beat i5-8250u, 12gb ram, 512gb pcie ssd, bluetooth, windows 11 in s, slate grey w/ 3in1 accessories\"\n        ],\n        \"semantic_type\": \"\",\n        \"description\": \"\"\n      }\n    },\n    {\n      \"column\": \"Brand\",\n      \"properties\": {\n        \"dtype\": \"category\",\n        \"num_unique_values\": 52,\n        \"samples\": [\n          \"chuwi\",\n          \"laptop\",\n          \"carlisle paddles\"\n        ],\n        \"semantic_type\": \"\",\n        \"description\": \"\"\n      }\n    },\n    {\n      \"column\": \"Screen_Size\",\n      \"properties\": {\n        \"dtype\": \"category\",\n        \"num_unique_values\": 62,\n        \"samples\": [\n          \"14.5\",\n          \"16.6 inches\",\n          \"13.5 inches\"\n        ],\n        \"semantic_type\": \"\",\n        \"description\": \"\"\n      }\n    },\n    {\n      \"column\": \"CPU_Model\",\n      \"properties\": {\n        \"dtype\": \"category\",\n        \"num_unique_values\": 180,\n        \"samples\": [\n          \"intel core i5\",\n          \"amd a series\",\n          \"celeron n2840\"\n        ],\n        \"semantic_type\": \"\",\n        \"description\": \"\"\n      }\n    },\n    {\n      \"column\": \"Ram\",\n      \"properties\": {\n        \"dtype\": \"category\",\n        \"num_unique_values\": 17,\n        \"samples\": [\n          \"8 gb\",\n          \"16 gb\",\n          \"24 gb\"\n        ],\n        \"semantic_type\": \"\",\n        \"description\": \"\"\n      }\n    },\n    {\n      \"column\": \"Operating_System\",\n      \"properties\": {\n        \"dtype\": \"category\",\n        \"num_unique_values\": 79,\n        \"samples\": [\n          \"windows 11 home in s mode\",\n          \"windows 10\",\n          \"microsoft windows 10 professional (64bit)\"\n        ],\n        \"semantic_type\": \"\",\n        \"description\": \"\"\n      }\n    },\n    {\n      \"column\": \"Rating\",\n      \"properties\": {\n        \"dtype\": \"number\",\n        \"std\": 0.5565626190370833,\n        \"min\": 1.0,\n        \"max\": 5.0,\n        \"num_unique_values\": 34,\n        \"samples\": [\n          2.5,\n          3.6,\n          2.6\n        ],\n        \"semantic_type\": \"\",\n        \"description\": \"\"\n      }\n    },\n    {\n      \"column\": \"Series\",\n      \"properties\": {\n        \"dtype\": \"category\",\n        \"num_unique_values\": 1278,\n        \"samples\": [\n          \"raider ge77hx 12uhs-082\",\n          \"an517-41-r0rz\",\n          \"dell i3567\"\n        ],\n        \"semantic_type\": \"\",\n        \"description\": \"\"\n      }\n    },\n    {\n      \"column\": \"Color\",\n      \"properties\": {\n        \"dtype\": \"category\",\n        \"num_unique_values\": 227,\n        \"samples\": [\n          \"64gb ram\",\n          \"12gb ram | 256gb ssd\",\n          \"carbon gray\"\n        ],\n        \"semantic_type\": \"\",\n        \"description\": \"\"\n      }\n    },\n    {\n      \"column\": \"Resolution\",\n      \"properties\": {\n        \"dtype\": \"category\",\n        \"num_unique_values\": 14,\n        \"samples\": [\n          \"2k\",\n          \"720p, 4k\",\n          \"720p\"\n        ],\n        \"semantic_type\": \"\",\n        \"description\": \"\"\n      }\n    },\n    {\n      \"column\": \"Weight\",\n      \"properties\": {\n        \"dtype\": \"category\",\n        \"num_unique_values\": 46,\n        \"samples\": [\n          \"5.27 pounds\",\n          \"8.2 pounds\",\n          \"10 pounds\"\n        ],\n        \"semantic_type\": \"\",\n        \"description\": \"\"\n      }\n    },\n    {\n      \"column\": \"USB\",\n      \"properties\": {\n        \"dtype\": \"number\",\n        \"std\": 0.7702449681266147,\n        \"min\": 1.0,\n        \"max\": 3.0,\n        \"num_unique_values\": 3,\n        \"samples\": [\n          2.0,\n          3.0,\n          1.0\n        ],\n        \"semantic_type\": \"\",\n        \"description\": \"\"\n      }\n    },\n    {\n      \"column\": \"Battery\",\n      \"properties\": {\n        \"dtype\": \"category\",\n        \"num_unique_values\": 5,\n        \"samples\": [\n          \"11.0, 17.0 hours\",\n          \"17 hours\",\n          \"1 hours\"\n        ],\n        \"semantic_type\": \"\",\n        \"description\": \"\"\n      }\n    },\n    {\n      \"column\": \"Graphics\",\n      \"properties\": {\n        \"dtype\": \"category\",\n        \"num_unique_values\": 282,\n        \"samples\": [\n          \"\\u200eradeon vega 6 graphics\",\n          \"amd radeon rx vega 8\",\n          \"m1 max\"\n        ],\n        \"semantic_type\": \"\",\n        \"description\": \"\"\n      }\n    },\n    {\n      \"column\": \"Disk_size\",\n      \"properties\": {\n        \"dtype\": \"category\",\n        \"num_unique_values\": 46,\n        \"samples\": [\n          \"300 gb\",\n          \"480 gb\",\n          \"256\"\n        ],\n        \"semantic_type\": \"\",\n        \"description\": \"\"\n      }\n    },\n    {\n      \"column\": \"Card_desc\",\n      \"properties\": {\n        \"dtype\": \"category\",\n        \"num_unique_values\": 68,\n        \"samples\": [\n          \"nm10\",\n          \"intel iris xe\",\n          \"rtx 3050\"\n        ],\n        \"semantic_type\": \"\",\n        \"description\": \"\"\n      }\n    },\n    {\n      \"column\": \"Price\",\n      \"properties\": {\n        \"dtype\": \"category\",\n        \"num_unique_values\": 863,\n        \"samples\": [\n          \"$625.99\",\n          \"$679.73\",\n          \"$949.99\"\n        ],\n        \"semantic_type\": \"\",\n        \"description\": \"\"\n      }\n    }\n  ]\n}"
            }
          },
          "metadata": {},
          "execution_count": 280
        }
      ]
    },
    {
      "cell_type": "markdown",
      "source": [
        "## Handling the **Brand** feature\n",
        "\n",
        "The Brand feature represents the make or manufacturer of the laptop. It's a categorical feature with various brands like asus, acer, hp, lenovo, dell, msi, apple, samsung, etc."
      ],
      "metadata": {
        "id": "H30z3ZHsNFjg"
      }
    },
    {
      "cell_type": "code",
      "source": [
        "df.Brand.isna().sum()"
      ],
      "metadata": {
        "colab": {
          "base_uri": "https://localhost:8080/"
        },
        "id": "oXZtB1kIM_KC",
        "outputId": "df173261-70ef-41a8-b5a2-aa99afe6cf75"
      },
      "execution_count": 281,
      "outputs": [
        {
          "output_type": "execute_result",
          "data": {
            "text/plain": [
              "33"
            ]
          },
          "metadata": {},
          "execution_count": 281
        }
      ]
    },
    {
      "cell_type": "code",
      "source": [
        "# Seperating sample with missing value of Brand into new dataframe\n",
        "df_brand = df[df.Brand.isna()][['Title', 'Brand']]\n",
        "df_brand.head().values"
      ],
      "metadata": {
        "colab": {
          "base_uri": "https://localhost:8080/"
        },
        "id": "pzk3OI4ZNMKg",
        "outputId": "1cccfce5-3d9f-4d1a-80f4-64b765bd77e9"
      },
      "execution_count": 282,
      "outputs": [
        {
          "output_type": "execute_result",
          "data": {
            "text/plain": [
              "array([['acer aspire 1 a115-32-c96u laptop | 15.6\" fhd | celeron n4500 | 4gb ddr4 | 128gb emmc | ms 365 personal 1-year subscription | win 11 home in s mode with aopen 24sa2y bi 23.8\" fhd va-monitor',\n",
              "        nan],\n",
              "       ['acer aspire 1 a115-32-c96u laptop | 15.6\" fhd | celeron n4500 | 4gb ddr4 | 128gb emmc | wifi 5 | ms 365 personal 1-year subscription | win 11 home in s mode usb type-c dock d501, 60w pd',\n",
              "        nan],\n",
              "       ['panasonic fz-vzsu88u', nan],\n",
              "       ['panasonic toughbook cf-52 500gb 4gb 15.4\" genuine win 7 pro + microsoft office 2010',\n",
              "        nan],\n",
              "       ['acer aspire 3 a315-24p-r2sc laptop | 15.6\" fhd ips display | amd ryzen 5 7520u | radeon graphics | 8gb lpddr5 | 256gb ssd | wi-fi 5 | windows 11 home usb 3.0 dock u301',\n",
              "        nan]], dtype=object)"
            ]
          },
          "metadata": {},
          "execution_count": 282
        }
      ]
    },
    {
      "cell_type": "markdown",
      "source": [
        "**Observations and Operations**\n",
        "- Missing values for the Brand can be retrieved from the Title feature\n",
        "- Once retrieval is done, new dataframe should be merge back with the original one."
      ],
      "metadata": {
        "id": "iqhPkVQ4Oogr"
      }
    },
    {
      "cell_type": "code",
      "source": [
        "def Brand_Retrieval(title):\n",
        "  \"\"\"\n",
        "  The function is responsible for retrieving the brand from the title.\n",
        "  Args\n",
        "  title : The title of the laptop.\n",
        "  Returns\n",
        "  brand : The brand of the laptop.\n",
        "  \"\"\"\n",
        "  return title.split(' ')[0]\n",
        "\n",
        "df_brand['Brand'] = df_brand.Title.apply(Brand_Retrieval)"
      ],
      "metadata": {
        "id": "5zcYv6pxNurg"
      },
      "execution_count": 283,
      "outputs": []
    },
    {
      "cell_type": "code",
      "source": [
        "df_brand.values"
      ],
      "metadata": {
        "colab": {
          "base_uri": "https://localhost:8080/"
        },
        "id": "s8RTB6S5P3lP",
        "outputId": "d59891ee-beb4-440b-874d-4c9d9fe011d6"
      },
      "execution_count": 284,
      "outputs": [
        {
          "output_type": "execute_result",
          "data": {
            "text/plain": [
              "array([['acer aspire 1 a115-32-c96u laptop | 15.6\" fhd | celeron n4500 | 4gb ddr4 | 128gb emmc | ms 365 personal 1-year subscription | win 11 home in s mode with aopen 24sa2y bi 23.8\" fhd va-monitor',\n",
              "        'acer'],\n",
              "       ['acer aspire 1 a115-32-c96u laptop | 15.6\" fhd | celeron n4500 | 4gb ddr4 | 128gb emmc | wifi 5 | ms 365 personal 1-year subscription | win 11 home in s mode usb type-c dock d501, 60w pd',\n",
              "        'acer'],\n",
              "       ['panasonic fz-vzsu88u', 'panasonic'],\n",
              "       ['panasonic toughbook cf-52 500gb 4gb 15.4\" genuine win 7 pro + microsoft office 2010',\n",
              "        'panasonic'],\n",
              "       ['acer aspire 3 a315-24p-r2sc laptop | 15.6\" fhd ips display | amd ryzen 5 7520u | radeon graphics | 8gb lpddr5 | 256gb ssd | wi-fi 5 | windows 11 home usb 3.0 dock u301',\n",
              "        'acer'],\n",
              "       ['acer aspire 3 a314-23p-r3qa laptop | 14.0\" fhd ips | amd ryzen 5 7520u | amd radeon graphics | 8gb lpddr5 | 512gb ssd | wi-fi 6 | windows 11 home fhd usb 2mp webcam with digital microphone',\n",
              "        'acer'],\n",
              "       ['acer aspire 3 a315-24pt-r08z laptop | 15.6\" fhd ips touch | amd ryzen 3 7320u | radeon graphics | 8gb lpddr5 | 256gb ssd | wi-fi 6 | windows 11 home usb type-c dock d501, 60w pd',\n",
              "        'acer'],\n",
              "       ['toughbook cf-31wxn291m 13.1\" touchscreen led (circulumin) notebook - intel core i5 i5-3340m 2.70 ghz',\n",
              "        'toughbook'],\n",
              "       ['acer aspire 3 a315-24pt-r08z laptop | 15.6\" fhd ips touch | amd ryzen 3 7320u | radeon graphics | 8gb lpddr5 | 256gb ssd | wi-fi 6 | windows 11 home usb 3.0 dock u301',\n",
              "        'acer'],\n",
              "       ['toughbook cf-31sx-002m 13.1\" led notebook - intel core i5 2.60 ghz',\n",
              "        'toughbook'],\n",
              "       ['toughbook cf-191myax1m 10.1\" led intel core i5 i5-3320m 2.60ghz 4gb ram 500gb hdd win 7 pro 64-bit rugged notebook',\n",
              "        'toughbook'],\n",
              "       ['panasonic cf-532jczycm toughbook 53 14 inch led notebook - intel core i5 i5-4310u 2 ghz - 4 gb ram - 320 gb hdd - dvd-writer - intel hd graphics 4400 - windows 7 professional - 1366 x 768 display - bluetooth',\n",
              "        'panasonic'],\n",
              "       ['panasonic toughbook cf-53jjczy1m 14 led notebook intel core i5-3320m 2.60 ghz',\n",
              "        'panasonic'],\n",
              "       ['gigabyte ultra compact mini pc/intel uhd graphics 600/ m.2 ssd/hdmi (2.0a)/ dp1.2a component- gb-blce-4105',\n",
              "        'gigabyte'],\n",
              "       ['generic 11.6 inches hd screen compatible with chromebook 11 cb3-111 laptop replacement led lcd',\n",
              "        'generic'],\n",
              "       ['generic 15.6\" hd screen compatible with lenovo g50-80 (5d10g74897 nt156whm-n12) laptop replacement led lcd',\n",
              "        'generic'],\n",
              "       ['generic 15.6\" hd screen compatible with hp probook 4510s 4515s 4520s 4525s 4530s 4535s 4540s 4545s laptop replacement led lcd',\n",
              "        'generic'],\n",
              "       ['generic 15.6\" hd screen compatible with samsung ltn156at37-l01 laptop replacement led lcd',\n",
              "        'generic'],\n",
              "       ['generic new 17.3\" led wxga++ glossy hd lcd replacement laptop screen/display compatible with ltn173kt01 (k01, t01, a01, d01)',\n",
              "        'generic'],\n",
              "       ['lg lp173wf4(sp)(f1) new replacement lcd screen for laptop led full hd matte',\n",
              "        'lg'],\n",
              "       ['generic 15.6\" hd screen compatible with lenovo g50-70 20351 laptop replacement led lcd',\n",
              "        'generic'],\n",
              "       ['msi a6200 laptop lcd screen 15.6\" wxga hd led diode (substitute replacement lcd screen only. not a laptop)',\n",
              "        'msi'],\n",
              "       ['dell inspiron 1545 bt156gw01 v.1 laptop lcd screen replacement 15.6\" wxga hd led matte',\n",
              "        'dell'],\n",
              "       ['new 17.3\" led wxga++ glossy hd lcd replacement laptop screen/display for hp pavilion g72-b60us & g72-b66us',\n",
              "        'new'],\n",
              "       ['chunghwa claa173ua01a replacement laptop lcd screen 17.3\" wxga++ led diode (substitute replacement lcd screen only. not a laptop )',\n",
              "        'chunghwa'],\n",
              "       ['boehydis nv156fhm-n42 replacement laptop lcd screen 15.6\" full-hd led diode (substitute only. not a ) (ips 1080p)',\n",
              "        'boehydis'],\n",
              "       ['chi mei n133bge-l41 replacement laptop lcd screen 13.3\" wxga hd led diode (substitute only. not a )',\n",
              "        'chi'],\n",
              "       ['generic new 15.6\" hd laptop replacement led lcd screen compatible with dell inspiron 15-3000 (b156xtn04.0 non touch)',\n",
              "        'generic'],\n",
              "       ['generic new 14.0\" hd glossy replacement led lcd screen compatible with toshiba satellite l745 models l745-s4110, l745-s4210, l745-s4310, l745-s4235',\n",
              "        'generic'],\n",
              "       ['samsung ltn156at35-h01 new replacement lcd screen for laptop led hd glossy',\n",
              "        'samsung'],\n",
              "       ['generic new 15.6\" hd laptop replacement led lcd screen compatible with dell inspiron 15-3000 (b156xtn04.0 non touch)',\n",
              "        'generic'],\n",
              "       ['generic 14.0\" wxga compatible with dell latitude e6420 ltn140at16 laptop lcd screen replacement',\n",
              "        'generic'],\n",
              "       ['microsoft surface laptop 4, amd ryzen 5 4680u, 8gb ram, 256gb ssd, 13.5\" touchscreen display, amd radeon graphics, windows 10 pro, 5q8-00001 (renewed)',\n",
              "        'microsoft']], dtype=object)"
            ]
          },
          "metadata": {},
          "execution_count": 284
        }
      ]
    },
    {
      "cell_type": "code",
      "source": [
        "df_brand[df_brand.Brand == 'lg'].values"
      ],
      "metadata": {
        "colab": {
          "base_uri": "https://localhost:8080/"
        },
        "id": "9nG25yasXHWr",
        "outputId": "7a02ec57-4341-4594-8550-128bacb4091c"
      },
      "execution_count": 285,
      "outputs": [
        {
          "output_type": "execute_result",
          "data": {
            "text/plain": [
              "array([['lg lp173wf4(sp)(f1) new replacement lcd screen for laptop led full hd matte',\n",
              "        'lg']], dtype=object)"
            ]
          },
          "metadata": {},
          "execution_count": 285
        }
      ]
    },
    {
      "cell_type": "markdown",
      "source": [
        "**Observations**\n",
        "- Looks like retrieval is not completely successfull, there is still a possibility for further operations.\n",
        "- It appears that retrieved laptops Brand name including 'generic', 'chi', 'new', 'boehydis', 'chunghwa', and 'lg' do not belongs to any specific brand but they are in the list as a replacement laptops.\n",
        "- All such laptops can be assign with the 'generic' brand.  "
      ],
      "metadata": {
        "id": "kViw8QpsQQJ2"
      }
    },
    {
      "cell_type": "code",
      "source": [
        "generic_list = ['generic', 'chi', 'new', 'boehydis', 'chunghwa', 'lg']\n",
        "df_brand.loc[df_brand.Brand.isin(generic_list), 'Brand'] = 'generic'"
      ],
      "metadata": {
        "id": "LW29ljpCP6HN"
      },
      "execution_count": 286,
      "outputs": []
    },
    {
      "cell_type": "code",
      "source": [
        "df_brand.Brand.unique()"
      ],
      "metadata": {
        "colab": {
          "base_uri": "https://localhost:8080/"
        },
        "id": "HsgQK13ERYwS",
        "outputId": "87cfdbb8-baf3-47f4-fc13-bdb5af8510f3"
      },
      "execution_count": 287,
      "outputs": [
        {
          "output_type": "execute_result",
          "data": {
            "text/plain": [
              "array(['acer', 'panasonic', 'toughbook', 'gigabyte', 'generic', 'msi',\n",
              "       'dell', 'samsung', 'microsoft'], dtype=object)"
            ]
          },
          "metadata": {},
          "execution_count": 287
        }
      ]
    },
    {
      "cell_type": "code",
      "source": [
        "# Merging the modified dataframe with Brand name with the original dataframe according to indexes\n",
        "df.loc[df_brand.index, 'Brand'] = df_brand.Brand"
      ],
      "metadata": {
        "id": "h_3P1FWzXXta"
      },
      "execution_count": 288,
      "outputs": []
    },
    {
      "cell_type": "code",
      "source": [
        "df.Brand.isna().sum()"
      ],
      "metadata": {
        "colab": {
          "base_uri": "https://localhost:8080/"
        },
        "id": "PFNxbzfCXrFw",
        "outputId": "a9e26d15-2188-420d-9200-78de2b9c9688"
      },
      "execution_count": 289,
      "outputs": [
        {
          "output_type": "execute_result",
          "data": {
            "text/plain": [
              "0"
            ]
          },
          "metadata": {},
          "execution_count": 289
        }
      ]
    },
    {
      "cell_type": "code",
      "source": [
        "df.Brand.value_counts()"
      ],
      "metadata": {
        "colab": {
          "base_uri": "https://localhost:8080/",
          "height": 1000
        },
        "id": "s-QgEA5EX-yP",
        "outputId": "5db6b920-bb22-4a82-a70f-c8ee850a2a32"
      },
      "execution_count": 290,
      "outputs": [
        {
          "output_type": "execute_result",
          "data": {
            "text/plain": [
              "Brand\n",
              "hp                                  390\n",
              "asus                                363\n",
              "acer                                344\n",
              "dell                                334\n",
              "msi                                 240\n",
              "samsung                             162\n",
              "microsoft                           158\n",
              "alienware                           150\n",
              "apple                               137\n",
              "lg                                  108\n",
              "excaliberpc                         101\n",
              "panasonic                            95\n",
              "toughbook                            83\n",
              "lenovo                               41\n",
              "gigabyte                             36\n",
              "generic                              27\n",
              "chuwi                                12\n",
              "fusion5                               7\n",
              "packard bell                          6\n",
              "fullcom tech                          6\n",
              "lincplus                              4\n",
              "razer                                 2\n",
              "unknown                               2\n",
              "repower repair refurbish reuse        2\n",
              "best notebooks                        2\n",
              "bmax                                  2\n",
              "teclast                               2\n",
              "ecohero                               2\n",
              "bitecool                              2\n",
              "panasonic toughbook cf-31 rugged      1\n",
              "laptop                                1\n",
              "thomson                               1\n",
              "tomtoc                                1\n",
              "otvoc                                 1\n",
              "carlisle paddles                      1\n",
              "miwasion                              1\n",
              "artist unknown                        1\n",
              "ficihp                                1\n",
              "dere                                  1\n",
              "b belk                                1\n",
              "hp tuners                             1\n",
              "vgke                                  1\n",
              "lanruo                                1\n",
              "jumper                                1\n",
              "broage                                1\n",
              "sewswank                              1\n",
              "wakst                                 1\n",
              "hyundai                               1\n",
              "hp-consumer remarketing               1\n",
              "sceptre                               1\n",
              "blackview                             1\n",
              "coolby                                1\n",
              "Name: count, dtype: int64"
            ],
            "text/html": [
              "<div>\n",
              "<style scoped>\n",
              "    .dataframe tbody tr th:only-of-type {\n",
              "        vertical-align: middle;\n",
              "    }\n",
              "\n",
              "    .dataframe tbody tr th {\n",
              "        vertical-align: top;\n",
              "    }\n",
              "\n",
              "    .dataframe thead th {\n",
              "        text-align: right;\n",
              "    }\n",
              "</style>\n",
              "<table border=\"1\" class=\"dataframe\">\n",
              "  <thead>\n",
              "    <tr style=\"text-align: right;\">\n",
              "      <th></th>\n",
              "      <th>count</th>\n",
              "    </tr>\n",
              "    <tr>\n",
              "      <th>Brand</th>\n",
              "      <th></th>\n",
              "    </tr>\n",
              "  </thead>\n",
              "  <tbody>\n",
              "    <tr>\n",
              "      <th>hp</th>\n",
              "      <td>390</td>\n",
              "    </tr>\n",
              "    <tr>\n",
              "      <th>asus</th>\n",
              "      <td>363</td>\n",
              "    </tr>\n",
              "    <tr>\n",
              "      <th>acer</th>\n",
              "      <td>344</td>\n",
              "    </tr>\n",
              "    <tr>\n",
              "      <th>dell</th>\n",
              "      <td>334</td>\n",
              "    </tr>\n",
              "    <tr>\n",
              "      <th>msi</th>\n",
              "      <td>240</td>\n",
              "    </tr>\n",
              "    <tr>\n",
              "      <th>samsung</th>\n",
              "      <td>162</td>\n",
              "    </tr>\n",
              "    <tr>\n",
              "      <th>microsoft</th>\n",
              "      <td>158</td>\n",
              "    </tr>\n",
              "    <tr>\n",
              "      <th>alienware</th>\n",
              "      <td>150</td>\n",
              "    </tr>\n",
              "    <tr>\n",
              "      <th>apple</th>\n",
              "      <td>137</td>\n",
              "    </tr>\n",
              "    <tr>\n",
              "      <th>lg</th>\n",
              "      <td>108</td>\n",
              "    </tr>\n",
              "    <tr>\n",
              "      <th>excaliberpc</th>\n",
              "      <td>101</td>\n",
              "    </tr>\n",
              "    <tr>\n",
              "      <th>panasonic</th>\n",
              "      <td>95</td>\n",
              "    </tr>\n",
              "    <tr>\n",
              "      <th>toughbook</th>\n",
              "      <td>83</td>\n",
              "    </tr>\n",
              "    <tr>\n",
              "      <th>lenovo</th>\n",
              "      <td>41</td>\n",
              "    </tr>\n",
              "    <tr>\n",
              "      <th>gigabyte</th>\n",
              "      <td>36</td>\n",
              "    </tr>\n",
              "    <tr>\n",
              "      <th>generic</th>\n",
              "      <td>27</td>\n",
              "    </tr>\n",
              "    <tr>\n",
              "      <th>chuwi</th>\n",
              "      <td>12</td>\n",
              "    </tr>\n",
              "    <tr>\n",
              "      <th>fusion5</th>\n",
              "      <td>7</td>\n",
              "    </tr>\n",
              "    <tr>\n",
              "      <th>packard bell</th>\n",
              "      <td>6</td>\n",
              "    </tr>\n",
              "    <tr>\n",
              "      <th>fullcom tech</th>\n",
              "      <td>6</td>\n",
              "    </tr>\n",
              "    <tr>\n",
              "      <th>lincplus</th>\n",
              "      <td>4</td>\n",
              "    </tr>\n",
              "    <tr>\n",
              "      <th>razer</th>\n",
              "      <td>2</td>\n",
              "    </tr>\n",
              "    <tr>\n",
              "      <th>unknown</th>\n",
              "      <td>2</td>\n",
              "    </tr>\n",
              "    <tr>\n",
              "      <th>repower repair refurbish reuse</th>\n",
              "      <td>2</td>\n",
              "    </tr>\n",
              "    <tr>\n",
              "      <th>best notebooks</th>\n",
              "      <td>2</td>\n",
              "    </tr>\n",
              "    <tr>\n",
              "      <th>bmax</th>\n",
              "      <td>2</td>\n",
              "    </tr>\n",
              "    <tr>\n",
              "      <th>teclast</th>\n",
              "      <td>2</td>\n",
              "    </tr>\n",
              "    <tr>\n",
              "      <th>ecohero</th>\n",
              "      <td>2</td>\n",
              "    </tr>\n",
              "    <tr>\n",
              "      <th>bitecool</th>\n",
              "      <td>2</td>\n",
              "    </tr>\n",
              "    <tr>\n",
              "      <th>panasonic toughbook cf-31 rugged</th>\n",
              "      <td>1</td>\n",
              "    </tr>\n",
              "    <tr>\n",
              "      <th>laptop</th>\n",
              "      <td>1</td>\n",
              "    </tr>\n",
              "    <tr>\n",
              "      <th>thomson</th>\n",
              "      <td>1</td>\n",
              "    </tr>\n",
              "    <tr>\n",
              "      <th>tomtoc</th>\n",
              "      <td>1</td>\n",
              "    </tr>\n",
              "    <tr>\n",
              "      <th>otvoc</th>\n",
              "      <td>1</td>\n",
              "    </tr>\n",
              "    <tr>\n",
              "      <th>carlisle paddles</th>\n",
              "      <td>1</td>\n",
              "    </tr>\n",
              "    <tr>\n",
              "      <th>miwasion</th>\n",
              "      <td>1</td>\n",
              "    </tr>\n",
              "    <tr>\n",
              "      <th>artist unknown</th>\n",
              "      <td>1</td>\n",
              "    </tr>\n",
              "    <tr>\n",
              "      <th>ficihp</th>\n",
              "      <td>1</td>\n",
              "    </tr>\n",
              "    <tr>\n",
              "      <th>dere</th>\n",
              "      <td>1</td>\n",
              "    </tr>\n",
              "    <tr>\n",
              "      <th>b belk</th>\n",
              "      <td>1</td>\n",
              "    </tr>\n",
              "    <tr>\n",
              "      <th>hp tuners</th>\n",
              "      <td>1</td>\n",
              "    </tr>\n",
              "    <tr>\n",
              "      <th>vgke</th>\n",
              "      <td>1</td>\n",
              "    </tr>\n",
              "    <tr>\n",
              "      <th>lanruo</th>\n",
              "      <td>1</td>\n",
              "    </tr>\n",
              "    <tr>\n",
              "      <th>jumper</th>\n",
              "      <td>1</td>\n",
              "    </tr>\n",
              "    <tr>\n",
              "      <th>broage</th>\n",
              "      <td>1</td>\n",
              "    </tr>\n",
              "    <tr>\n",
              "      <th>sewswank</th>\n",
              "      <td>1</td>\n",
              "    </tr>\n",
              "    <tr>\n",
              "      <th>wakst</th>\n",
              "      <td>1</td>\n",
              "    </tr>\n",
              "    <tr>\n",
              "      <th>hyundai</th>\n",
              "      <td>1</td>\n",
              "    </tr>\n",
              "    <tr>\n",
              "      <th>hp-consumer remarketing</th>\n",
              "      <td>1</td>\n",
              "    </tr>\n",
              "    <tr>\n",
              "      <th>sceptre</th>\n",
              "      <td>1</td>\n",
              "    </tr>\n",
              "    <tr>\n",
              "      <th>blackview</th>\n",
              "      <td>1</td>\n",
              "    </tr>\n",
              "    <tr>\n",
              "      <th>coolby</th>\n",
              "      <td>1</td>\n",
              "    </tr>\n",
              "  </tbody>\n",
              "</table>\n",
              "</div><br><label><b>dtype:</b> int64</label>"
            ]
          },
          "metadata": {},
          "execution_count": 290
        }
      ]
    },
    {
      "cell_type": "code",
      "source": [
        "df[df.Brand== 'vgke'][['Title', 'Brand']].values"
      ],
      "metadata": {
        "colab": {
          "base_uri": "https://localhost:8080/"
        },
        "id": "RGZ8EC5mX5B4",
        "outputId": "dcac0ea8-53f5-42d5-e171-2b77e4c8351f"
      },
      "execution_count": 291,
      "outputs": [
        {
          "output_type": "execute_result",
          "data": {
            "text/plain": [
              "array([['vgke b12 detachable 2-in-1 laptop touchscreen windows 11, tablet 12.3\" with keyboard, intel celeron j4125 2.7ghz, quad core, 8gb ram, 256gb ssd, 3k fhd ips 3000x2000, 2.4g+5g wifi, bluetooth, type c',\n",
              "        'vgke']], dtype=object)"
            ]
          },
          "metadata": {},
          "execution_count": 291
        }
      ]
    },
    {
      "cell_type": "markdown",
      "source": [
        "**Observations**\n",
        "- There are multiple Brands present which has less than 10 laptops in the list.\n",
        "- All such Brands can be combined into '**other**'."
      ],
      "metadata": {
        "id": "wGLwIn5yYhhh"
      }
    },
    {
      "cell_type": "code",
      "source": [
        "# Assigning 'other' Brand name to all brands with laptop count less than 25\n",
        "df.loc[df.Brand.value_counts()[df.Brand].values < 25, 'Brand'] = 'other'"
      ],
      "metadata": {
        "id": "YumURtvlX8b4"
      },
      "execution_count": 292,
      "outputs": []
    },
    {
      "cell_type": "code",
      "source": [
        "df.Brand.value_counts().plot(kind='bar')"
      ],
      "metadata": {
        "colab": {
          "base_uri": "https://localhost:8080/",
          "height": 532
        },
        "id": "hMBlaVgrbDwl",
        "outputId": "32be3933-eac6-4960-d7b0-42875dafa29f"
      },
      "execution_count": 293,
      "outputs": [
        {
          "output_type": "execute_result",
          "data": {
            "text/plain": [
              "<Axes: xlabel='Brand'>"
            ]
          },
          "metadata": {},
          "execution_count": 293
        },
        {
          "output_type": "display_data",
          "data": {
            "text/plain": [
              "<Figure size 640x480 with 1 Axes>"
            ],
            "image/png": "[encoded data removed]"
          },
          "metadata": {}
        }
      ]
    },
    {
      "cell_type": "markdown",
      "source": [
        "## Handling the **Screen_Size** feature\n",
        "\n",
        "The Screen_Size feature in your dataset represents the diagonal measurement of the laptop's display in inches. This is a crucial factor for users as it directly impacts their viewing experience. Laptop screen sizes typically range from around 11 inches to 17 inches or larger."
      ],
      "metadata": {
        "id": "TXQNFwBfcAUi"
      }
    },
    {
      "cell_type": "code",
      "source": [
        "df.Screen_Size.unique()"
      ],
      "metadata": {
        "colab": {
          "base_uri": "https://localhost:8080/"
        },
        "id": "X86DOO6Wb3Vx",
        "outputId": "0ac48bef-3bb1-450e-b91d-bc626dce84ab"
      },
      "execution_count": 294,
      "outputs": [
        {
          "output_type": "execute_result",
          "data": {
            "text/plain": [
              "array(['13.5 inches', '13 inches', '12.4 inches', '14 inches',\n",
              "       '34 inches', '15.6 inches', '17.3 inches', '17 inches',\n",
              "       '13.4 inches', '16 inches', '15.6', '15 inches', '15.4 inches',\n",
              "       nan, '13.3 inches', '16.2 inches', '16', '14.2', '13', '14',\n",
              "       '10.9 inches', '9.7 inches', '14.1 inches', '12.3 inches',\n",
              "       '11.6 inches', '13.1 inches', '12 inches', '11 inches',\n",
              "       '12.5 inches', '13.3', '10.1 inches', '11.6', '17.3',\n",
              "       '10.4 inches', '31.5 inches', '6 inches', '5.6 inches',\n",
              "       '10 inches', '17', '12.45 inches', '30 inches', '15',\n",
              "       '12.2 inches', '24 inches', '14.2 inches', '13.6 inches',\n",
              "       '18.4 inches', '1 centimeters', '17.25 inches', '0.01',\n",
              "       '0.1 inches', '14.5', '12.1 inches', '14.5 inches', '10.5 inches',\n",
              "       '11', '116 inches', '16.6 inches', '3 inches', '14.4 inches',\n",
              "       '13.5', '14.4', '10.51 inches'], dtype=object)"
            ]
          },
          "metadata": {},
          "execution_count": 294
        }
      ]
    },
    {
      "cell_type": "code",
      "source": [
        "df.Screen_Size.isna().sum()"
      ],
      "metadata": {
        "colab": {
          "base_uri": "https://localhost:8080/"
        },
        "id": "qvhnz3AKb7uC",
        "outputId": "e9c45baa-6994-4bce-983c-b3342f508822"
      },
      "execution_count": 295,
      "outputs": [
        {
          "output_type": "execute_result",
          "data": {
            "text/plain": [
              "87"
            ]
          },
          "metadata": {},
          "execution_count": 295
        }
      ]
    },
    {
      "cell_type": "code",
      "source": [
        "df[df.Screen_Size.isna()][['Title', 'Screen_Size']].head().values"
      ],
      "metadata": {
        "colab": {
          "base_uri": "https://localhost:8080/"
        },
        "id": "xTik3zORceD8",
        "outputId": "5fd9a0fc-87b2-4440-d577-ae0972f68e70"
      },
      "execution_count": 296,
      "outputs": [
        {
          "output_type": "execute_result",
          "data": {
            "text/plain": [
              "array([['b belk compatible with macbook air 13 inch case m1, macbook air case 2021 2020 2019 2018 model a2337 a2179 a1932 with touch id, clear plastic laptop hard shell + 2 keyboard covers + screen protector',\n",
              "        nan],\n",
              "       ['apple 2022 macbook air laptop with m2 chip: 13.6-inch liquid retina display, 8gb ram, 256gb ssd storage, backlit keyboard, 1080p facetime hd camera. works with iphone and ipad; midnight applecare',\n",
              "        nan],\n",
              "       ['apple macbook pro 16\" with liquid retina xdr display, m1 pro chip with 10-core cpu and 16-core gpu, 32gb memory, 1tb ssd, silver, late 2021',\n",
              "        nan],\n",
              "       ['apple 2022 macbook air laptop with m2 chip: 13.6-inch liquid retina display, 8gb ram, 256gb ssd storage, backlit keyboard, 1080p facetime hd camera. works with iphone and ipad; starlight applecare',\n",
              "        nan],\n",
              "       ['apple 2021 macbook pro (14-inch, m1 pro chip with 10‑core cpu and 16‑core gpu, 16gb ram, 1tb ssd) - space gray applecare+ for 14-inch macbook pro',\n",
              "        nan]], dtype=object)"
            ]
          },
          "metadata": {},
          "execution_count": 296
        }
      ]
    },
    {
      "cell_type": "markdown",
      "source": [
        "**Observations**\n",
        "- It appears that missing screen size can be retrieved from the **Title** feature.\n",
        "- Also, rows with no missing values needs removal of unit(inches)\n",
        "\n",
        "**Operations**\n",
        "- Samples with missing screen size should be seperated in different dataframe.\n",
        "- Regular Expressions can be used to achieve the objective retrieving the numeric value.\n",
        "- (\\d+(?:\\.\\d+)?): This part captures the number, allowing for both decimal and whole number formats.\n",
        "- \\d+: Matches one or more digits.\n",
        "- (?:\\.\\d+)?: This is a non-capturing group that matches an optional decimal part.\n",
        "- (?:...): Creates a non-capturing group.\n",
        "-  \\ .: Matches a literal dot.\n",
        "- ?: Makes the entire decimal part optional.\n",
        "- \\s*: Matches zero or more whitespace characters.\n",
        "- [- ]?: Matches an optional hyphen or space.\n",
        "- inch : Matches the literal text \"inch\".\n",
        "- (?:inch|\\\"): This part matches either \"inch\" or '\"'"
      ],
      "metadata": {
        "id": "AFlOZ1oFcyAA"
      }
    },
    {
      "cell_type": "code",
      "source": [
        "# Filtering out samples with or without missing screen size\n",
        "df_screen_size_missing = df[df.Screen_Size.isna()][['Title', 'Screen_Size']]"
      ],
      "metadata": {
        "id": "-OLSPayqcqfg"
      },
      "execution_count": 297,
      "outputs": []
    },
    {
      "cell_type": "code",
      "source": [
        "def screen_size_retrieval(title):\n",
        "  \"\"\"\n",
        "  The function is responsible for retrieving the screen size from the title.\n",
        "  Args\n",
        "  title : The title of the laptop.\n",
        "  Returns\n",
        "  screen_size : The screen size of the laptop.\n",
        "  \"\"\"\n",
        "\n",
        "  # Regular Expression for find screen size\n",
        "  scree_size_pattern = r\"(\\d{2}(?:\\.?\\d{1})?)\\s*[- ]?\\s*(?:inch|\\\"|\\”)\"\n",
        "\n",
        "  screen_size = re.findall(scree_size_pattern, title)\n",
        "  if screen_size:\n",
        "    return screen_size[0]\n",
        "  else:\n",
        "    return np.nan\n",
        "\n",
        "df_screen_size_missing['Screen_Size'] = df_screen_size_missing.Title.apply(screen_size_retrieval)"
      ],
      "metadata": {
        "id": "drzBTyK8lGlv"
      },
      "execution_count": 298,
      "outputs": []
    },
    {
      "cell_type": "code",
      "source": [
        "df_screen_size_missing"
      ],
      "metadata": {
        "colab": {
          "base_uri": "https://localhost:8080/",
          "height": 423
        },
        "id": "ewf6jYkJoWVk",
        "outputId": "61f49898-927e-4b4e-8491-8e591dd1aa61"
      },
      "execution_count": 299,
      "outputs": [
        {
          "output_type": "execute_result",
          "data": {
            "text/plain": [
              "                                                  Title Screen_Size\n",
              "40    b belk compatible with macbook air 13 inch cas...          13\n",
              "63    apple 2022 macbook air laptop with m2 chip: 13...        13.6\n",
              "72    apple macbook pro 16\" with liquid retina xdr d...          16\n",
              "74    apple 2022 macbook air laptop with m2 chip: 13...        13.6\n",
              "75    apple 2021 macbook pro (14-inch, m1 pro chip w...          14\n",
              "...                                                 ...         ...\n",
              "2760  microsoft surface pro (intel core i5, 8gb ram,...         NaN\n",
              "2779  microsoft surface laptop 4, amd ryzen 5 4680u,...        13.5\n",
              "2820  samsung 14” galaxy book3 pro laptop computer, ...          14\n",
              "2821  samsung 16” galaxy book3 pro laptop computer, ...          16\n",
              "2822  samsung 14” galaxy book3 pro laptop computer, ...          14\n",
              "\n",
              "[87 rows x 2 columns]"
            ],
            "text/html": [
              "\n",
              "  <div id=\"df-0d19293b-ecda-4ed4-960c-6971f9a7fa80\" class=\"colab-df-container\">\n",
              "    <div>\n",
              "<style scoped>\n",
              "    .dataframe tbody tr th:only-of-type {\n",
              "        vertical-align: middle;\n",
              "    }\n",
              "\n",
              "    .dataframe tbody tr th {\n",
              "        vertical-align: top;\n",
              "    }\n",
              "\n",
              "    .dataframe thead th {\n",
              "        text-align: right;\n",
              "    }\n",
              "</style>\n",
              "<table border=\"1\" class=\"dataframe\">\n",
              "  <thead>\n",
              "    <tr style=\"text-align: right;\">\n",
              "      <th></th>\n",
              "      <th>Title</th>\n",
              "      <th>Screen_Size</th>\n",
              "    </tr>\n",
              "  </thead>\n",
              "  <tbody>\n",
              "    <tr>\n",
              "      <th>40</th>\n",
              "      <td>b belk compatible with macbook air 13 inch cas...</td>\n",
              "      <td>13</td>\n",
              "    </tr>\n",
              "    <tr>\n",
              "      <th>63</th>\n",
              "      <td>apple 2022 macbook air laptop with m2 chip: 13...</td>\n",
              "      <td>13.6</td>\n",
              "    </tr>\n",
              "    <tr>\n",
              "      <th>72</th>\n",
              "      <td>apple macbook pro 16\" with liquid retina xdr d...</td>\n",
              "      <td>16</td>\n",
              "    </tr>\n",
              "    <tr>\n",
              "      <th>74</th>\n",
              "      <td>apple 2022 macbook air laptop with m2 chip: 13...</td>\n",
              "      <td>13.6</td>\n",
              "    </tr>\n",
              "    <tr>\n",
              "      <th>75</th>\n",
              "      <td>apple 2021 macbook pro (14-inch, m1 pro chip w...</td>\n",
              "      <td>14</td>\n",
              "    </tr>\n",
              "    <tr>\n",
              "      <th>...</th>\n",
              "      <td>...</td>\n",
              "      <td>...</td>\n",
              "    </tr>\n",
              "    <tr>\n",
              "      <th>2760</th>\n",
              "      <td>microsoft surface pro (intel core i5, 8gb ram,...</td>\n",
              "      <td>NaN</td>\n",
              "    </tr>\n",
              "    <tr>\n",
              "      <th>2779</th>\n",
              "      <td>microsoft surface laptop 4, amd ryzen 5 4680u,...</td>\n",
              "      <td>13.5</td>\n",
              "    </tr>\n",
              "    <tr>\n",
              "      <th>2820</th>\n",
              "      <td>samsung 14” galaxy book3 pro laptop computer, ...</td>\n",
              "      <td>14</td>\n",
              "    </tr>\n",
              "    <tr>\n",
              "      <th>2821</th>\n",
              "      <td>samsung 16” galaxy book3 pro laptop computer, ...</td>\n",
              "      <td>16</td>\n",
              "    </tr>\n",
              "    <tr>\n",
              "      <th>2822</th>\n",
              "      <td>samsung 14” galaxy book3 pro laptop computer, ...</td>\n",
              "      <td>14</td>\n",
              "    </tr>\n",
              "  </tbody>\n",
              "</table>\n",
              "<p>87 rows × 2 columns</p>\n",
              "</div>\n",
              "    <div class=\"colab-df-buttons\">\n",
              "\n",
              "  <div class=\"colab-df-container\">\n",
              "    <button class=\"colab-df-convert\" onclick=\"convertToInteractive('df-0d19293b-ecda-4ed4-960c-6971f9a7fa80')\"\n",
              "            title=\"Convert this dataframe to an interactive table.\"\n",
              "            style=\"display:none;\">\n",
              "\n",
              "  <svg xmlns=\"http://www.w3.org/2000/svg\" height=\"24px\" viewBox=\"0 -960 960 960\">\n",
              "    <path d=\"M120-120v-720h720v720H120Zm60-500h600v-160H180v160Zm220 220h160v-160H400v160Zm0 220h160v-160H400v160ZM180-400h160v-160H180v160Zm440 0h160v-160H620v160ZM180-180h160v-160H180v160Zm440 0h160v-160H620v160Z\"/>\n",
              "  </svg>\n",
              "    </button>\n",
              "\n",
              "  <style>\n",
              "    .colab-df-container {\n",
              "      display:flex;\n",
              "      gap: 12px;\n",
              "    }\n",
              "\n",
              "    .colab-df-convert {\n",
              "      background-color: #E8F0FE;\n",
              "      border: none;\n",
              "      border-radius: 50%;\n",
              "      cursor: pointer;\n",
              "      display: none;\n",
              "      fill: #1967D2;\n",
              "      height: 32px;\n",
              "      padding: 0 0 0 0;\n",
              "      width: 32px;\n",
              "    }\n",
              "\n",
              "    .colab-df-convert:hover {\n",
              "      background-color: #E2EBFA;\n",
              "      box-shadow: 0px 1px 2px rgba(60, 64, 67, 0.3), 0px 1px 3px 1px rgba(60, 64, 67, 0.15);\n",
              "      fill: #174EA6;\n",
              "    }\n",
              "\n",
              "    .colab-df-buttons div {\n",
              "      margin-bottom: 4px;\n",
              "    }\n",
              "\n",
              "    [theme=dark] .colab-df-convert {\n",
              "      background-color: #3B4455;\n",
              "      fill: #D2E3FC;\n",
              "    }\n",
              "\n",
              "    [theme=dark] .colab-df-convert:hover {\n",
              "      background-color: #434B5C;\n",
              "      box-shadow: 0px 1px 3px 1px rgba(0, 0, 0, 0.15);\n",
              "      filter: drop-shadow(0px 1px 2px rgba(0, 0, 0, 0.3));\n",
              "      fill: #FFFFFF;\n",
              "    }\n",
              "  </style>\n",
              "\n",
              "    <script>\n",
              "      const buttonEl =\n",
              "        document.querySelector('#df-0d19293b-ecda-4ed4-960c-6971f9a7fa80 button.colab-df-convert');\n",
              "      buttonEl.style.display =\n",
              "        google.colab.kernel.accessAllowed ? 'block' : 'none';\n",
              "\n",
              "      async function convertToInteractive(key) {\n",
              "        const element = document.querySelector('#df-0d19293b-ecda-4ed4-960c-6971f9a7fa80');\n",
              "        const dataTable =\n",
              "          await google.colab.kernel.invokeFunction('convertToInteractive',\n",
              "                                                    [key], {});\n",
              "        if (!dataTable) return;\n",
              "\n",
              "        const docLinkHtml = 'Like what you see? Visit the ' +\n",
              "          '<a target=\"_blank\" href=https://colab.research.google.com/notebooks/data_table.ipynb>data table notebook</a>'\n",
              "          + ' to learn more about interactive tables.';\n",
              "        element.innerHTML = '';\n",
              "        dataTable['output_type'] = 'display_data';\n",
              "        await google.colab.output.renderOutput(dataTable, element);\n",
              "        const docLink = document.createElement('div');\n",
              "        docLink.innerHTML = docLinkHtml;\n",
              "        element.appendChild(docLink);\n",
              "      }\n",
              "    </script>\n",
              "  </div>\n",
              "\n",
              "\n",
              "<div id=\"df-19ea7b1b-a1a2-40ac-873c-97505405519f\">\n",
              "  <button class=\"colab-df-quickchart\" onclick=\"quickchart('df-19ea7b1b-a1a2-40ac-873c-97505405519f')\"\n",
              "            title=\"Suggest charts\"\n",
              "            style=\"display:none;\">\n",
              "\n",
              "<svg xmlns=\"http://www.w3.org/2000/svg\" height=\"24px\"viewBox=\"0 0 24 24\"\n",
              "     width=\"24px\">\n",
              "    <g>\n",
              "        <path d=\"M19 3H5c-1.1 0-2 .9-2 2v14c0 1.1.9 2 2 2h14c1.1 0 2-.9 2-2V5c0-1.1-.9-2-2-2zM9 17H7v-7h2v7zm4 0h-2V7h2v10zm4 0h-2v-4h2v4z\"/>\n",
              "    </g>\n",
              "</svg>\n",
              "  </button>\n",
              "\n",
              "<style>\n",
              "  .colab-df-quickchart {\n",
              "      --bg-color: #E8F0FE;\n",
              "      --fill-color: #1967D2;\n",
              "      --hover-bg-color: #E2EBFA;\n",
              "      --hover-fill-color: #174EA6;\n",
              "      --disabled-fill-color: #AAA;\n",
              "      --disabled-bg-color: #DDD;\n",
              "  }\n",
              "\n",
              "  [theme=dark] .colab-df-quickchart {\n",
              "      --bg-color: #3B4455;\n",
              "      --fill-color: #D2E3FC;\n",
              "      --hover-bg-color: #434B5C;\n",
              "      --hover-fill-color: #FFFFFF;\n",
              "      --disabled-bg-color: #3B4455;\n",
              "      --disabled-fill-color: #666;\n",
              "  }\n",
              "\n",
              "  .colab-df-quickchart {\n",
              "    background-color: var(--bg-color);\n",
              "    border: none;\n",
              "    border-radius: 50%;\n",
              "    cursor: pointer;\n",
              "    display: none;\n",
              "    fill: var(--fill-color);\n",
              "    height: 32px;\n",
              "    padding: 0;\n",
              "    width: 32px;\n",
              "  }\n",
              "\n",
              "  .colab-df-quickchart:hover {\n",
              "    background-color: var(--hover-bg-color);\n",
              "    box-shadow: 0 1px 2px rgba(60, 64, 67, 0.3), 0 1px 3px 1px rgba(60, 64, 67, 0.15);\n",
              "    fill: var(--button-hover-fill-color);\n",
              "  }\n",
              "\n",
              "  .colab-df-quickchart-complete:disabled,\n",
              "  .colab-df-quickchart-complete:disabled:hover {\n",
              "    background-color: var(--disabled-bg-color);\n",
              "    fill: var(--disabled-fill-color);\n",
              "    box-shadow: none;\n",
              "  }\n",
              "\n",
              "  .colab-df-spinner {\n",
              "    border: 2px solid var(--fill-color);\n",
              "    border-color: transparent;\n",
              "    border-bottom-color: var(--fill-color);\n",
              "    animation:\n",
              "      spin 1s steps(1) infinite;\n",
              "  }\n",
              "\n",
              "  @keyframes spin {\n",
              "    0% {\n",
              "      border-color: transparent;\n",
              "      border-bottom-color: var(--fill-color);\n",
              "      border-left-color: var(--fill-color);\n",
              "    }\n",
              "    20% {\n",
              "      border-color: transparent;\n",
              "      border-left-color: var(--fill-color);\n",
              "      border-top-color: var(--fill-color);\n",
              "    }\n",
              "    30% {\n",
              "      border-color: transparent;\n",
              "      border-left-color: var(--fill-color);\n",
              "      border-top-color: var(--fill-color);\n",
              "      border-right-color: var(--fill-color);\n",
              "    }\n",
              "    40% {\n",
              "      border-color: transparent;\n",
              "      border-right-color: var(--fill-color);\n",
              "      border-top-color: var(--fill-color);\n",
              "    }\n",
              "    60% {\n",
              "      border-color: transparent;\n",
              "      border-right-color: var(--fill-color);\n",
              "    }\n",
              "    80% {\n",
              "      border-color: transparent;\n",
              "      border-right-color: var(--fill-color);\n",
              "      border-bottom-color: var(--fill-color);\n",
              "    }\n",
              "    90% {\n",
              "      border-color: transparent;\n",
              "      border-bottom-color: var(--fill-color);\n",
              "    }\n",
              "  }\n",
              "</style>\n",
              "\n",
              "  <script>\n",
              "    async function quickchart(key) {\n",
              "      const quickchartButtonEl =\n",
              "        document.querySelector('#' + key + ' button');\n",
              "      quickchartButtonEl.disabled = true;  // To prevent multiple clicks.\n",
              "      quickchartButtonEl.classList.add('colab-df-spinner');\n",
              "      try {\n",
              "        const charts = await google.colab.kernel.invokeFunction(\n",
              "            'suggestCharts', [key], {});\n",
              "      } catch (error) {\n",
              "        console.error('Error during call to suggestCharts:', error);\n",
              "      }\n",
              "      quickchartButtonEl.classList.remove('colab-df-spinner');\n",
              "      quickchartButtonEl.classList.add('colab-df-quickchart-complete');\n",
              "    }\n",
              "    (() => {\n",
              "      let quickchartButtonEl =\n",
              "        document.querySelector('#df-19ea7b1b-a1a2-40ac-873c-97505405519f button');\n",
              "      quickchartButtonEl.style.display =\n",
              "        google.colab.kernel.accessAllowed ? 'block' : 'none';\n",
              "    })();\n",
              "  </script>\n",
              "</div>\n",
              "\n",
              "  <div id=\"id_baa372af-1801-415a-912e-88f28286b1c4\">\n",
              "    <style>\n",
              "      .colab-df-generate {\n",
              "        background-color: #E8F0FE;\n",
              "        border: none;\n",
              "        border-radius: 50%;\n",
              "        cursor: pointer;\n",
              "        display: none;\n",
              "        fill: #1967D2;\n",
              "        height: 32px;\n",
              "        padding: 0 0 0 0;\n",
              "        width: 32px;\n",
              "      }\n",
              "\n",
              "      .colab-df-generate:hover {\n",
              "        background-color: #E2EBFA;\n",
              "        box-shadow: 0px 1px 2px rgba(60, 64, 67, 0.3), 0px 1px 3px 1px rgba(60, 64, 67, 0.15);\n",
              "        fill: #174EA6;\n",
              "      }\n",
              "\n",
              "      [theme=dark] .colab-df-generate {\n",
              "        background-color: #3B4455;\n",
              "        fill: #D2E3FC;\n",
              "      }\n",
              "\n",
              "      [theme=dark] .colab-df-generate:hover {\n",
              "        background-color: #434B5C;\n",
              "        box-shadow: 0px 1px 3px 1px rgba(0, 0, 0, 0.15);\n",
              "        filter: drop-shadow(0px 1px 2px rgba(0, 0, 0, 0.3));\n",
              "        fill: #FFFFFF;\n",
              "      }\n",
              "    </style>\n",
              "    <button class=\"colab-df-generate\" onclick=\"generateWithVariable('df_screen_size_missing')\"\n",
              "            title=\"Generate code using this dataframe.\"\n",
              "            style=\"display:none;\">\n",
              "\n",
              "  <svg xmlns=\"http://www.w3.org/2000/svg\" height=\"24px\"viewBox=\"0 0 24 24\"\n",
              "       width=\"24px\">\n",
              "    <path d=\"M7,19H8.4L18.45,9,17,7.55,7,17.6ZM5,21V16.75L18.45,3.32a2,2,0,0,1,2.83,0l1.4,1.43a1.91,1.91,0,0,1,.58,1.4,1.91,1.91,0,0,1-.58,1.4L9.25,21ZM18.45,9,17,7.55Zm-12,3A5.31,5.31,0,0,0,4.9,8.1,5.31,5.31,0,0,0,1,6.5,5.31,5.31,0,0,0,4.9,4.9,5.31,5.31,0,0,0,6.5,1,5.31,5.31,0,0,0,8.1,4.9,5.31,5.31,0,0,0,12,6.5,5.46,5.46,0,0,0,6.5,12Z\"/>\n",
              "  </svg>\n",
              "    </button>\n",
              "    <script>\n",
              "      (() => {\n",
              "      const buttonEl =\n",
              "        document.querySelector('#id_baa372af-1801-415a-912e-88f28286b1c4 button.colab-df-generate');\n",
              "      buttonEl.style.display =\n",
              "        google.colab.kernel.accessAllowed ? 'block' : 'none';\n",
              "\n",
              "      buttonEl.onclick = () => {\n",
              "        google.colab.notebook.generateWithVariable('df_screen_size_missing');\n",
              "      }\n",
              "      })();\n",
              "    </script>\n",
              "  </div>\n",
              "\n",
              "    </div>\n",
              "  </div>\n"
            ],
            "application/vnd.google.colaboratory.intrinsic+json": {
              "type": "dataframe",
              "variable_name": "df_screen_size_missing",
              "summary": "{\n  \"name\": \"df_screen_size_missing\",\n  \"rows\": 87,\n  \"fields\": [\n    {\n      \"column\": \"Title\",\n      \"properties\": {\n        \"dtype\": \"string\",\n        \"num_unique_values\": 81,\n        \"samples\": [\n          \"acer predator triton 500 se gaming/creator laptop | 12th gen intel i9-12900h & nitro 5 an515-57-79td gaming laptop | intel core i7-11800h | nvidia geforce rtx 3050 ti laptop gpu\",\n          \"b belk compatible with macbook air 13 inch case m1, macbook air case 2021 2020 2019 2018 model a2337 a2179 a1932 with touch id, clear plastic laptop hard shell + 2 keyboard covers + screen protector\",\n          \"acer aspire 3 a315-24p-r2sc laptop | 15.6\\\" fhd ips display | amd ryzen 5 7520u | 8gb lpddr5 | 256gb ssd | wi-fi 5 | windows 11 home with aopen 24sa2y bi 23.8\\\" fhd va-monitor | 1 x hdmi 1.4 & 1 x vga\"\n        ],\n        \"semantic_type\": \"\",\n        \"description\": \"\"\n      }\n    },\n    {\n      \"column\": \"Screen_Size\",\n      \"properties\": {\n        \"dtype\": \"category\",\n        \"num_unique_values\": 15,\n        \"samples\": [\n          \"17.3\",\n          \"314\",\n          \"13\"\n        ],\n        \"semantic_type\": \"\",\n        \"description\": \"\"\n      }\n    }\n  ]\n}"
            }
          },
          "metadata": {},
          "execution_count": 299
        }
      ]
    },
    {
      "cell_type": "code",
      "source": [
        "df_screen_size_missing[df_screen_size_missing.Screen_Size.isna()].values"
      ],
      "metadata": {
        "colab": {
          "base_uri": "https://localhost:8080/"
        },
        "id": "HMObTOAdoaCc",
        "outputId": "13c57847-0af3-4a77-bc46-5f11d056930f"
      },
      "execution_count": 300,
      "outputs": [
        {
          "output_type": "execute_result",
          "data": {
            "text/plain": [
              "array([['refurbished panasonic toughbook cf-33, intel core i5-6300u @2.4ghz, ram 8gb, 256gb ssd,4g lte,no key',\n",
              "        nan],\n",
              "       ['2nd usb/cf-20/8gb/256gb ssd/windows 10/wifi/4g lte/multi carrier/webcam/emissive backlit keyboard/',\n",
              "        nan],\n",
              "       ['toughbook u1 ultra mobile pc', nan],\n",
              "       ['panasonic fz-vzsu88u', nan],\n",
              "       ['acer predator triton 500 se gaming/creator laptop | 12th gen intel i9-12900h & nitro 5 an515-57-79td gaming laptop | intel core i7-11800h | nvidia geforce rtx 3050 ti laptop gpu',\n",
              "        nan],\n",
              "       ['mk8/cf-19/16gb ram/ 4g lte/ 500gb ssd/ windows 10 pro 64 bit/2.7 ghz/touch screen/',\n",
              "        nan],\n",
              "       ['cf30 c2d/1.6 13.3tch 2gb-160gb wls ebk gobi wxp-wv', nan],\n",
              "       ['panasonic cf-52vaaby1m-rw win7 intel core i5-3360m 2.80ghz 15.4',\n",
              "        nan],\n",
              "       ['panasonic toughbook cf-53jjczy1m 14 led notebook intel core i5-3320m 2.60 ghz',\n",
              "        nan],\n",
              "       ['cf-20/8gb ram/240gb solid state hard drive/wifi/ 4g lte/ panasonic toughbook/laptop computer/ two in one( 2 in 1) notebook tablet pc/ verizon/sprint/at&t/toughbook/ fully rugged (128gb ssd)',\n",
              "        nan],\n",
              "       ['gigabyte ultra compact mini pc/intel uhd graphics 600/ m.2 ssd/hdmi (2.0a)/ dp1.2a component- gb-blce-4105',\n",
              "        nan],\n",
              "       ['asus pn41 fanless minipc barebone with intel 11th gen quad core celeron n5100, support dual 4k, wifi, bluetooth 5, vesa mount',\n",
              "        nan],\n",
              "       ['lg lp173wf4(sp)(f1) new replacement lcd screen for laptop led full hd matte',\n",
              "        nan],\n",
              "       ['samsung ltn156at35-h01 new replacement lcd screen for laptop led hd glossy',\n",
              "        nan],\n",
              "       ['alienware aurora r10 gaming desktop - amd ryzen 7 5800, 16gb ddr4 ram, 1tb ssd, amd radeon rx 6600xt 8gb gddr6, vr ready, killer wi-fi 6, liquid cooling, 550w power supply, windows 11 home - black',\n",
              "        nan],\n",
              "       ['alienware aurora r10 gaming desktop - amd ryzen 9 5900, 32gb 3400mhz ram, 1tb ssd, nvidia geforce rtx 3080 10gb gddr6x graphics, windows 11 home - lunar light',\n",
              "        nan],\n",
              "       ['alienware aurora r9 (awaur9-7643wht-pus) intel core i7-9700 - 16gb memory - nvidia geforce rtx 2070-1tb hdd + 256gb ssd - white/lunar light',\n",
              "        nan],\n",
              "       ['alienware alpha asm100-1580 console (intel core i3-4130t 2.9 ghz, 4gb ddr3, 500gb hdd, windows 8) (discontinued by manufacturer)',\n",
              "        nan],\n",
              "       ['alienware awaur6-5468slv-pus gaming desktop, intel core i5 (up to 3.5ghz), 8gb, 1tb hdd, rx 480 graphics, epic silver',\n",
              "        nan],\n",
              "       ['alienware alpha asm100-1580 console (intel core i3-4130t 2.9 ghz, 4gb ddr3, 500gb hdd, windows 8) (discontinued by manufacturer)',\n",
              "        nan],\n",
              "       ['microsoft surface pro (intel core i5, 8gb ram, 256gb) & microsoft surface dock',\n",
              "        nan],\n",
              "       ['microsoft surface pro (intel core i5, 8gb ram, 256gb) & microsoft surface pen- platinum',\n",
              "        nan]], dtype=object)"
            ]
          },
          "metadata": {},
          "execution_count": 300
        }
      ]
    },
    {
      "cell_type": "markdown",
      "source": [
        "**Observations**\n",
        "- Screen Size can't be further retrieved from the Title.\n",
        "- Using any imputation technique to assign values to such entries is not reasonable because there shouldn't be any screen size present in the dataset which does not exist in real time.\n",
        "- So, such entries should be removed rather than keeping them NULL or assigning them a value using any imputation technique.\n",
        "- The modified dataframe should be merged back with original one before removing rows with missing sceen size.  "
      ],
      "metadata": {
        "id": "Gc6XrJaNsLU6"
      }
    },
    {
      "cell_type": "code",
      "source": [
        "df.loc[df_screen_size_missing.index, 'Screen_Size'] = df_screen_size_missing.Screen_Size"
      ],
      "metadata": {
        "id": "6yOrzPE5wdGB"
      },
      "execution_count": 301,
      "outputs": []
    },
    {
      "cell_type": "code",
      "source": [
        "# removing samples with missing screen size\n",
        "df.drop(df[df.Screen_Size.isna()].index, inplace=True)"
      ],
      "metadata": {
        "id": "Qk0vnQXkqYRR"
      },
      "execution_count": 302,
      "outputs": []
    },
    {
      "cell_type": "code",
      "source": [
        "df.Screen_Size.isna().sum()"
      ],
      "metadata": {
        "colab": {
          "base_uri": "https://localhost:8080/"
        },
        "id": "PlRyv8jWuX0q",
        "outputId": "024c5311-8a5f-4a14-8fe1-d9917a1f007f"
      },
      "execution_count": 303,
      "outputs": [
        {
          "output_type": "execute_result",
          "data": {
            "text/plain": [
              "0"
            ]
          },
          "metadata": {},
          "execution_count": 303
        }
      ]
    },
    {
      "cell_type": "code",
      "source": [
        "df.Screen_Size.unique()"
      ],
      "metadata": {
        "colab": {
          "base_uri": "https://localhost:8080/"
        },
        "id": "MQ9cqn8C43NZ",
        "outputId": "76216d67-2d30-4606-f71a-89e1bd316ee9"
      },
      "execution_count": 304,
      "outputs": [
        {
          "output_type": "execute_result",
          "data": {
            "text/plain": [
              "array(['13.5 inches', '13 inches', '12.4 inches', '14 inches',\n",
              "       '34 inches', '15.6 inches', '17.3 inches', '17 inches',\n",
              "       '13.4 inches', '16 inches', '15.6', '15 inches', '15.4 inches',\n",
              "       '13', '13.3 inches', '13.6', '16.2 inches', '16', '14', '14.2',\n",
              "       '10.9 inches', '9.7 inches', '13.3', '14.1 inches', '12.3 inches',\n",
              "       '11.6 inches', '13.1 inches', '12 inches', '11 inches',\n",
              "       '12.5 inches', '10.1 inches', '11.6', '17.3', '14.0', '15.4',\n",
              "       '10.4 inches', '31.5 inches', '6 inches', '5.6 inches',\n",
              "       '10 inches', '17', '12.45 inches', '30 inches', '15',\n",
              "       '12.2 inches', '314', '24 inches', '14.2 inches', '13.6 inches',\n",
              "       '18.4 inches', '1 centimeters', '17.25 inches', '0.01',\n",
              "       '0.1 inches', '14.5', '12.1 inches', '14.5 inches', '10.5 inches',\n",
              "       '11', '116 inches', '16.6 inches', '3 inches', '13.5',\n",
              "       '14.4 inches', '14.4', '12.4', '10.51 inches'], dtype=object)"
            ]
          },
          "metadata": {},
          "execution_count": 304
        }
      ]
    },
    {
      "cell_type": "markdown",
      "source": [
        "**Observations and Operations**\n",
        "- Now, there isn't any missing entry of screen size present in the dataset.\n",
        "- But there are entries from where the unit (inches) needs to be removed.\n"
      ],
      "metadata": {
        "id": "H2r_YK0CxYDu"
      }
    },
    {
      "cell_type": "code",
      "source": [
        "df.Screen_Size = df.Screen_Size.apply(lambda x : x.split()[0])"
      ],
      "metadata": {
        "id": "vipyBvCXyy7X"
      },
      "execution_count": 305,
      "outputs": []
    },
    {
      "cell_type": "code",
      "source": [
        "df.Screen_Size.unique()"
      ],
      "metadata": {
        "colab": {
          "base_uri": "https://localhost:8080/"
        },
        "id": "Ke5KcLxh5SuO",
        "outputId": "33d91b05-05b7-4e20-ed8f-5d2f3b515415"
      },
      "execution_count": 306,
      "outputs": [
        {
          "output_type": "execute_result",
          "data": {
            "text/plain": [
              "array(['13.5', '13', '12.4', '14', '34', '15.6', '17.3', '17', '13.4',\n",
              "       '16', '15', '15.4', '13.3', '13.6', '16.2', '14.2', '10.9', '9.7',\n",
              "       '14.1', '12.3', '11.6', '13.1', '12', '11', '12.5', '10.1', '14.0',\n",
              "       '10.4', '31.5', '6', '5.6', '10', '12.45', '30', '12.2', '314',\n",
              "       '24', '18.4', '1', '17.25', '0.01', '0.1', '14.5', '12.1', '10.5',\n",
              "       '116', '16.6', '3', '14.4', '10.51'], dtype=object)"
            ]
          },
          "metadata": {},
          "execution_count": 306
        }
      ]
    },
    {
      "cell_type": "code",
      "source": [
        "df.Screen_Size.isna().sum()"
      ],
      "metadata": {
        "colab": {
          "base_uri": "https://localhost:8080/"
        },
        "id": "qiN6ZJEh5Vkp",
        "outputId": "0074ba1b-975b-49ad-dcfb-5788ac9cf4fe"
      },
      "execution_count": 307,
      "outputs": [
        {
          "output_type": "execute_result",
          "data": {
            "text/plain": [
              "0"
            ]
          },
          "metadata": {},
          "execution_count": 307
        }
      ]
    },
    {
      "cell_type": "code",
      "source": [
        "df.Screen_Size.info()"
      ],
      "metadata": {
        "colab": {
          "base_uri": "https://localhost:8080/"
        },
        "id": "Cou_NnDQ5kSO",
        "outputId": "286e9393-b27d-4cf9-9fc3-e10215bef815"
      },
      "execution_count": 308,
      "outputs": [
        {
          "output_type": "stream",
          "name": "stdout",
          "text": [
            "<class 'pandas.core.series.Series'>\n",
            "Index: 2821 entries, 0 to 2842\n",
            "Series name: Screen_Size\n",
            "Non-Null Count  Dtype \n",
            "--------------  ----- \n",
            "2821 non-null   object\n",
            "dtypes: object(1)\n",
            "memory usage: 44.1+ KB\n"
          ]
        }
      ]
    },
    {
      "cell_type": "code",
      "source": [
        "# changing datatype of Screen_Size feature from object to float\n",
        "df.Screen_Size = df.Screen_Size.astype(float)"
      ],
      "metadata": {
        "id": "yo-y6je-5_CS"
      },
      "execution_count": 309,
      "outputs": []
    },
    {
      "cell_type": "code",
      "source": [
        "df.Screen_Size.plot(kind='hist')"
      ],
      "metadata": {
        "colab": {
          "base_uri": "https://localhost:8080/",
          "height": 447
        },
        "id": "i7-ZivoY6NaI",
        "outputId": "3a78fbdf-2562-4989-c455-fcd59e8bb78d"
      },
      "execution_count": 310,
      "outputs": [
        {
          "output_type": "execute_result",
          "data": {
            "text/plain": [
              "<Axes: ylabel='Frequency'>"
            ]
          },
          "metadata": {},
          "execution_count": 310
        },
        {
          "output_type": "display_data",
          "data": {
            "text/plain": [
              "<Figure size 640x480 with 1 Axes>"
            ],
            "image/png": "[encoded data removed]"
          },
          "metadata": {}
        }
      ]
    },
    {
      "cell_type": "code",
      "source": [
        "df.Screen_Size.value_counts().sort_index().plot(kind='bar', figsize=(10, 6))"
      ],
      "metadata": {
        "colab": {
          "base_uri": "https://localhost:8080/",
          "height": 590
        },
        "id": "QwPup4Se6RZH",
        "outputId": "4b3f6067-e72a-4777-ea93-49be16625d42"
      },
      "execution_count": 311,
      "outputs": [
        {
          "output_type": "execute_result",
          "data": {
            "text/plain": [
              "<Axes: xlabel='Screen_Size'>"
            ]
          },
          "metadata": {},
          "execution_count": 311
        },
        {
          "output_type": "display_data",
          "data": {
            "text/plain": [
              "<Figure size 1000x600 with 1 Axes>"
            ],
            "image/png": "[encoded data removed]"
          },
          "metadata": {}
        }
      ]
    },
    {
      "cell_type": "markdown",
      "source": [
        "**Observations**\n",
        "- Typical screen size ranges between 11 and 17 inches. But to make it more generalized, the range can be fixed between 10 to 18 inches.\n",
        "- Every other laptop which do not fall in this range, should be considered as an outlier."
      ],
      "metadata": {
        "id": "wdFLBTSG7uXE"
      }
    },
    {
      "cell_type": "code",
      "source": [
        "df.Screen_Size[(df.Screen_Size < 10) | (df.Screen_Size > 18)].shape"
      ],
      "metadata": {
        "colab": {
          "base_uri": "https://localhost:8080/"
        },
        "id": "--luIIhP6rct",
        "outputId": "a27abf2c-037c-4f9a-809e-1c4279dd42a8"
      },
      "execution_count": 312,
      "outputs": [
        {
          "output_type": "execute_result",
          "data": {
            "text/plain": [
              "(28,)"
            ]
          },
          "metadata": {},
          "execution_count": 312
        }
      ]
    },
    {
      "cell_type": "code",
      "source": [
        "# removing rows with screen size < 10 and screen size > 18\n",
        "screen_size_outliers_index = df.Screen_Size[(df.Screen_Size < 10) | (df.Screen_Size > 18)].index\n",
        "df.drop(screen_size_outliers_index, inplace=True)"
      ],
      "metadata": {
        "id": "uNOCReY_8sFJ"
      },
      "execution_count": 313,
      "outputs": []
    },
    {
      "cell_type": "code",
      "source": [
        "df.Screen_Size.value_counts().sort_index().plot(kind='bar', figsize=(10, 6))"
      ],
      "metadata": {
        "colab": {
          "base_uri": "https://localhost:8080/",
          "height": 590
        },
        "id": "qf4cmArt9N3l",
        "outputId": "67e43c6b-e028-470f-db88-33e1c5d06287"
      },
      "execution_count": 314,
      "outputs": [
        {
          "output_type": "execute_result",
          "data": {
            "text/plain": [
              "<Axes: xlabel='Screen_Size'>"
            ]
          },
          "metadata": {},
          "execution_count": 314
        },
        {
          "output_type": "display_data",
          "data": {
            "text/plain": [
              "<Figure size 1000x600 with 1 Axes>"
            ],
            "image/png": "[encoded data removed]"
          },
          "metadata": {}
        }
      ]
    },
    {
      "cell_type": "code",
      "source": [
        "df.shape"
      ],
      "metadata": {
        "id": "5Fkp_iDU9RCR",
        "colab": {
          "base_uri": "https://localhost:8080/"
        },
        "outputId": "0eb57a10-538f-46c4-cff6-c8de10b6535d"
      },
      "execution_count": 315,
      "outputs": [
        {
          "output_type": "execute_result",
          "data": {
            "text/plain": [
              "(2793, 17)"
            ]
          },
          "metadata": {},
          "execution_count": 315
        }
      ]
    },
    {
      "cell_type": "code",
      "source": [
        "df.columns"
      ],
      "metadata": {
        "colab": {
          "base_uri": "https://localhost:8080/"
        },
        "id": "64LeoiimXfZq",
        "outputId": "e794a390-7b81-4e98-e3bb-3b22917b6fa3"
      },
      "execution_count": 316,
      "outputs": [
        {
          "output_type": "execute_result",
          "data": {
            "text/plain": [
              "Index(['Title', 'Brand', 'Screen_Size', 'CPU_Model', 'Ram', 'Operating_System',\n",
              "       'Rating', 'Series', 'Color', 'Resolution', 'Weight', 'USB', 'Battery',\n",
              "       'Graphics', 'Disk_size', 'Card_desc', 'Price'],\n",
              "      dtype='object')"
            ]
          },
          "metadata": {},
          "execution_count": 316
        }
      ]
    },
    {
      "cell_type": "markdown",
      "source": [
        "# Handling the **CPU_Model** feature\n",
        "\n",
        "The CPU_Model feature in your dataset likely refers to the specific processor model used in each laptop. This is a crucial factor determining a laptop's performance."
      ],
      "metadata": {
        "id": "GCMx_ILvX1sw"
      }
    },
    {
      "cell_type": "code",
      "source": [
        "df.CPU_Model.unique()"
      ],
      "metadata": {
        "colab": {
          "base_uri": "https://localhost:8080/"
        },
        "id": "3hwfMF_uXox_",
        "outputId": "9eee6d58-c1da-43df-84a1-0be12d8b5d04"
      },
      "execution_count": 317,
      "outputs": [
        {
          "output_type": "execute_result",
          "data": {
            "text/plain": [
              "array(['1.2ghz cortex a8 processor', 'core i5', 'core i7',\n",
              "       'core i5-1035g7', 'ryzen 3 2300u', 'intel core i5-1135g7',\n",
              "       'ryzen 5', 'intel core i9', 'core i7 8750h', 'intel core i7',\n",
              "       'amd ryzen 9 5900x', 'core i7 6600u', 'ryzen 9', 'core i9',\n",
              "       'corei5-10300h', 'core i7-3720qm', nan, 'celeron n4020',\n",
              "       'core i7 family', 'intel core i5', 'ryzen 7', 'arm 7100',\n",
              "       'apple m1', 'core i5 8250u', 'unknown', 'core i5-6267u', 'core i3',\n",
              "       'core i7 11800h', 'corei7-10750h', 'amd ryzen 7', 'core i5 family',\n",
              "       'corei7-9750h', 'ryzen 5 5500u', 'core i7-10510u',\n",
              "       'core i3 family', 'corei7-1065g7', 'xeon platinum 8160m',\n",
              "       'core i9 12900h', 'amd ryzen 5 5500u', 'celeron', 'others',\n",
              "       'celeron n', 'amd a series', 'celeron n4000', 'core i5-5250u',\n",
              "       'mediatek mt8183', 'ryzen 3 3350u', 'core i7 extreme', 'amd a6',\n",
              "       'core i5-3340s', '8032', 'pentium', 'core i3 1115g4',\n",
              "       'intel core i3', 'cortex', 'ryzen 3', 'intel core i7-1165g7',\n",
              "       'ryzen 7 5800u', 'amd ryzen 5 5600x', 'core 2 duo l7500',\n",
              "       'core i5-3340m', 'core duo', 'core i5 8300h', 'mediatek_mt8127',\n",
              "       'amd a4', 'celeron 2955u', 'ryzen 5 4500u', 'celeron n3350',\n",
              "       'celeron 3205u', 'ryzen 3 3200u', 'celeron n3450',\n",
              "       'core i5-10210u', 'amd r series', 'ryzen 7 3700u',\n",
              "       'core 2 duo t7100', 'core i5-2540m', 'ryzen 5 5600h',\n",
              "       'core i5-1035g1', 'ryzen 7 5700u', 'intel core 2 quad',\n",
              "       'core i5-2500', 'core 2 duo sl9300', 'core i5-3320m',\n",
              "       'core i5-750', 'core i5-1035g4', 'ryzen 7 4700u', 'core i5 5300u',\n",
              "       'intel mobile cpu', 'core i7-4810hq', 'core i5-655k',\n",
              "       'core i5 4310u', 'i5-4670k', 'core i5-520m', 'core i5-2520m',\n",
              "       'intel core m-5y10 processor', 'amd ryzen 7 5800h',\n",
              "       'amd ryzen 7 5700u', 'mediatek mt8173c', 'core i5 2.3 ghz',\n",
              "       'intel core i7 1185g7', 'core m3-8100y', 'pentium n5000', 'athlon',\n",
              "       'core i5-6260u', 'core i3-10110u', 'intel core duo',\n",
              "       'core i5 6200u', 'core_m', 'a4 3020e', 'core i3-1005g1',\n",
              "       'core i7-1065g7', 'athlon 3050u', 'core i5 8400t', 'core i5 4310m',\n",
              "       'core m family', '68lc040', 'core i7-4980hq', 'core i9-9900k',\n",
              "       'core i7-10700k', 'core i7 10870h', 'core i7 6700hq',\n",
              "       'core i7 6700', 'amd e series', 'pentium other',\n",
              "       'athlon silver 3050u', 'ryzen 3 3250u', 'i5-2320', 'core i5-4210m',\n",
              "       'core i5 7200u', 'amd c series', 'pentium d', 'core 2 duo 2.33ghz',\n",
              "       'core i3-4120u', 'intel pentium m', 'ryzen 5 3500u',\n",
              "       'athlon 2650e', 'qualcomm snapdragon s4 msm8270', 'xeon',\n",
              "       'core i7-8650u', 'ryzen 7 5800h', 'snapdragon', 'core i5-2300',\n",
              "       '68040', 'intel celeron d', 'core i7-6820hq', 'intel atom',\n",
              "       'ryzen 5 3450u', 'intel core 2 duo', 'ryzen 7 4800h', 'intel xeon',\n",
              "       'core i5-5200u', '80486slc', 'celeron n2840', 'core 2 duo',\n",
              "       'core 2 duo p8700', 'core i7 12700h', 'core i7 8550u',\n",
              "       '1.2ghz cortex a9 processor', 'ryzen 5 3550h', 'celeron n3060',\n",
              "       'ryzen 5 3500', 'exynos 5250', 'core i7 7500u', 'core i7 11370h',\n",
              "       'exynos 5000 series', 'exynos 5 octa 5420', '5x86',\n",
              "       'intel core i7 extreme', '80486dx2', 'intel core i5 1145g7',\n",
              "       'mobile intel celeron processor', 'celeron_m', 'ryzen 9 5900x',\n",
              "       'ryzen 5 4680u', 'intel core i7-11700', 'ryzen 5 2600x',\n",
              "       'core i5-10210y', 'ryzen 7 3700x', 'core i7-2630qm',\n",
              "       'core i5-10400t'], dtype=object)"
            ]
          },
          "metadata": {},
          "execution_count": 317
        }
      ]
    },
    {
      "cell_type": "code",
      "source": [
        "df.CPU_Model.isna().sum()"
      ],
      "metadata": {
        "colab": {
          "base_uri": "https://localhost:8080/"
        },
        "id": "hxjoCSsjXvSU",
        "outputId": "6fe84061-5938-4954-b17a-c5ac5c2e5006"
      },
      "execution_count": 318,
      "outputs": [
        {
          "output_type": "execute_result",
          "data": {
            "text/plain": [
              "193"
            ]
          },
          "metadata": {},
          "execution_count": 318
        }
      ]
    },
    {
      "cell_type": "code",
      "source": [
        "df[df.CPU_Model.isna()][['Title', 'CPU_Model']].tail(10).values"
      ],
      "metadata": {
        "colab": {
          "base_uri": "https://localhost:8080/"
        },
        "id": "Q3tZBoTEZuKE",
        "outputId": "ba15905e-9f51-41e9-f8e0-3a73a8d13bec"
      },
      "execution_count": 319,
      "outputs": [
        {
          "output_type": "execute_result",
          "data": {
            "text/plain": [
              "array([['microsoft surface laptop go 12.4\" touchscreen notebook - 1536 x 1024 - intel core i5 10th gen i5-1035g1 1 ghz - 8 gb total ram - 256 gb ssd - platinum - windows 10 pro - intel uhd (renewed)',\n",
              "        nan],\n",
              "       ['microsoft surface pro 8-13\" touchscreen - intel® evo platform core™ i5-16gb memory - 256gb ssd - graphite (latest model) with microsoft 365 family | 15-month subscription | pc/mac download',\n",
              "        nan],\n",
              "       ['microsoft surface pro 6 12.3\" pixelsense touchscreen intel core i5-8250u 16gb ram 256gb ssd windows 10 home',\n",
              "        nan],\n",
              "       ['microsoft surface book tablet pc - 13.5\" - pixelsense - wireless lan - intel core i7 i7-6600u dual-core (2 core) 2.60 ghz - silver sw6-00001',\n",
              "        nan],\n",
              "       ['microsoft surface pro 9 (2022), 13\" 2-in-1 tablet & laptop, thin & lightweight, intel 12th gen i5 fast processor for multi-tasking, 8gb ram, 256gb storage with windows 11, forest',\n",
              "        nan],\n",
              "       ['microsoft surface laptop 4, amd ryzen 5 4680u, 8gb ram, 256gb ssd, 13.5\" touchscreen display, amd radeon graphics, windows 10 pro, 5q8-00001 (renewed)',\n",
              "        nan],\n",
              "       ['microsoft surface pro 7 12.3in intel core i5 10th gen 8gb ram 128gb ssd platinum (renewed)',\n",
              "        nan],\n",
              "       ['microsoft surface go 3 - 10.5\" touchscreen - intel® pentium® gold - 4gb memory - 64gb emmc - device only - platinum (latest model)',\n",
              "        nan],\n",
              "       ['new microsoft surface go 2 - 10.5\" touch-screen - intel pentium - 4gb memory - 64gb - wifi - platinum (latest model)',\n",
              "        nan],\n",
              "       ['microsoft surface laptop 3 (plr-00001) - 15\" pixelsense touchscreen - amd ryzen 5-8gb ram - 128gb ssd -',\n",
              "        nan]], dtype=object)"
            ]
          },
          "metadata": {},
          "execution_count": 319
        }
      ]
    },
    {
      "cell_type": "markdown",
      "source": [
        "**Observations**\n",
        "- Like other features, missing information on cpu models can also be retrieved from the **Title** feature using regular expressions.\n",
        "- From the unique values, it appears that dataset contains cpu models from the family of ryzen, intel core i, amd, celeron, exynos."
      ],
      "metadata": {
        "id": "Wo79pxlEacBG"
      }
    },
    {
      "cell_type": "code",
      "source": [
        "# seperating rows with missing cpu model\n",
        "df_cpu_missing = df[df.CPU_Model.isna()][['Title', 'CPU_Model']]\n",
        "df_cpu_missing.shape"
      ],
      "metadata": {
        "colab": {
          "base_uri": "https://localhost:8080/"
        },
        "id": "Db3QdpRWb-1w",
        "outputId": "8e5c0e99-cb43-45d7-9dc1-70f0f80fc17b"
      },
      "execution_count": 320,
      "outputs": [
        {
          "output_type": "execute_result",
          "data": {
            "text/plain": [
              "(193, 2)"
            ]
          },
          "metadata": {},
          "execution_count": 320
        }
      ]
    },
    {
      "cell_type": "markdown",
      "source": [
        "(?:ryzen|core[- ]?i|amd|celeron|exynos):\n",
        "\n",
        "- (?:...): This creates a non-capturing group. It means this part is used for matching but won't be returned as a separate captured group.\n",
        " - ryzen|core[- ]?i|amd|celeron|exynos: This is the core of the expression. It uses the pipe symbol | to represent \"or\". It's looking for any of the following CPU brand/family names:\n",
        "ryzen\n",
        " - core[- ]?i: This matches \"core i\" with an optional hyphen or space between \"core\" and \"i\".\n",
        "amd\n",
        "celeron\n",
        "exynos\n",
        "-[- ]? : This matches an optional hyphen - or space. It allows for variations in how the brand/family is separated from the model number.\n",
        "- \\d+ : This matches one or more digits (\\d). This is intended to capture the model number of the CPU."
      ],
      "metadata": {
        "id": "vwL809MIcwXQ"
      }
    },
    {
      "cell_type": "code",
      "source": [
        "def cpu_model_retrieval(title):\n",
        "  \"\"\"\n",
        "  The function is responsible for retrieving the cpu model from the title.\n",
        "  Args\n",
        "  title : The title of the laptop.\n",
        "  Returns\n",
        "  cpu_model : The cpu model of the laptop.\n",
        "  \"\"\"\n",
        "  # regular expression to find cpu model\n",
        "  cpu_pattern = r\"((?:ryzen|core|amd|celeron|exynos|pentium|intel|m)[- ]?[a-zA-Z]*\\d{1}[pro max]*)\"\n",
        "  cpu_model = re.findall(cpu_pattern, title)\n",
        "  if cpu_model:\n",
        "    return cpu_model[0]\n",
        "  else:\n",
        "    return np.nan\n",
        "\n",
        "df_cpu_missing['CPU_Model'] = df_cpu_missing.Title.apply(cpu_model_retrieval)"
      ],
      "metadata": {
        "id": "ROf9uqHledFt"
      },
      "execution_count": 321,
      "outputs": []
    },
    {
      "cell_type": "code",
      "source": [
        "df_cpu_missing.CPU_Model"
      ],
      "metadata": {
        "colab": {
          "base_uri": "https://localhost:8080/",
          "height": 458
        },
        "id": "lchc9HPwe63T",
        "outputId": "9c855858-6c03-4aa4-d10f-e2811c8c1c6d"
      },
      "execution_count": 322,
      "outputs": [
        {
          "output_type": "execute_result",
          "data": {
            "text/plain": [
              "37         m1 ma\n",
              "40            m1\n",
              "55           mf0\n",
              "63           m2 \n",
              "67           m1 \n",
              "          ...   \n",
              "2779    ryzen 5 \n",
              "2783    core i5 \n",
              "2792         NaN\n",
              "2826         NaN\n",
              "2827     ryzen 5\n",
              "Name: CPU_Model, Length: 193, dtype: object"
            ],
            "text/html": [
              "<div>\n",
              "<style scoped>\n",
              "    .dataframe tbody tr th:only-of-type {\n",
              "        vertical-align: middle;\n",
              "    }\n",
              "\n",
              "    .dataframe tbody tr th {\n",
              "        vertical-align: top;\n",
              "    }\n",
              "\n",
              "    .dataframe thead th {\n",
              "        text-align: right;\n",
              "    }\n",
              "</style>\n",
              "<table border=\"1\" class=\"dataframe\">\n",
              "  <thead>\n",
              "    <tr style=\"text-align: right;\">\n",
              "      <th></th>\n",
              "      <th>CPU_Model</th>\n",
              "    </tr>\n",
              "  </thead>\n",
              "  <tbody>\n",
              "    <tr>\n",
              "      <th>37</th>\n",
              "      <td>m1 ma</td>\n",
              "    </tr>\n",
              "    <tr>\n",
              "      <th>40</th>\n",
              "      <td>m1</td>\n",
              "    </tr>\n",
              "    <tr>\n",
              "      <th>55</th>\n",
              "      <td>mf0</td>\n",
              "    </tr>\n",
              "    <tr>\n",
              "      <th>63</th>\n",
              "      <td>m2</td>\n",
              "    </tr>\n",
              "    <tr>\n",
              "      <th>67</th>\n",
              "      <td>m1</td>\n",
              "    </tr>\n",
              "    <tr>\n",
              "      <th>...</th>\n",
              "      <td>...</td>\n",
              "    </tr>\n",
              "    <tr>\n",
              "      <th>2779</th>\n",
              "      <td>ryzen 5</td>\n",
              "    </tr>\n",
              "    <tr>\n",
              "      <th>2783</th>\n",
              "      <td>core i5</td>\n",
              "    </tr>\n",
              "    <tr>\n",
              "      <th>2792</th>\n",
              "      <td>NaN</td>\n",
              "    </tr>\n",
              "    <tr>\n",
              "      <th>2826</th>\n",
              "      <td>NaN</td>\n",
              "    </tr>\n",
              "    <tr>\n",
              "      <th>2827</th>\n",
              "      <td>ryzen 5</td>\n",
              "    </tr>\n",
              "  </tbody>\n",
              "</table>\n",
              "<p>193 rows × 1 columns</p>\n",
              "</div><br><label><b>dtype:</b> object</label>"
            ]
          },
          "metadata": {},
          "execution_count": 322
        }
      ]
    },
    {
      "cell_type": "code",
      "source": [
        "df_cpu_missing[df_cpu_missing.CPU_Model.isna()].shape"
      ],
      "metadata": {
        "colab": {
          "base_uri": "https://localhost:8080/"
        },
        "id": "sJj1pg9ATrWc",
        "outputId": "810271d7-1139-4e69-e16c-73a76acee898"
      },
      "execution_count": 323,
      "outputs": [
        {
          "output_type": "execute_result",
          "data": {
            "text/plain": [
              "(62, 2)"
            ]
          },
          "metadata": {},
          "execution_count": 323
        }
      ]
    },
    {
      "cell_type": "code",
      "source": [
        "df_cpu_missing[df_cpu_missing.CPU_Model.isna()].values"
      ],
      "metadata": {
        "colab": {
          "base_uri": "https://localhost:8080/"
        },
        "id": "-QhVfhNJhvbs",
        "outputId": "f551607a-f096-422d-84c5-0e88f694c001"
      },
      "execution_count": 324,
      "outputs": [
        {
          "output_type": "execute_result",
          "data": {
            "text/plain": [
              "array([['apple 2022 10.9-inch ipad (wi-fi, 64gb) - blue (10th generation)',\n",
              "        nan],\n",
              "       ['acer spin 7, 14\" fhd touch display, qualcomm snapdragon 8cx gen 2 5g compute platform, 8gb lpddr4x, 512gb universal flash storage, 5g, 4g lte, wi-fi, backlit kb, fpr, antimicrobial, sp714-61na-s1qa',\n",
              "        nan],\n",
              "       ['panasonic toughbook cf-52 500gb 4gb 15.4\" genuine win 7 pro + microsoft office 2010',\n",
              "        nan],\n",
              "       ['panasonic cf-30fdsaaam toughbook 30 13.3\" c2d l7500 1.6ghz 1gb 80gb xp pro',\n",
              "        nan],\n",
              "       ['acer chromebook 514 laptop | 14\" fhd touch | mediatek kompanio 828 octa-core processor | 8gb ram | 64gb emmc | wi-fi 6 | backlit kb | chrome os | up to 15 hours battery life | cb514-2ht-k0fz',\n",
              "        nan],\n",
              "       ['blackview tablet tab8, 10.1 inch android tablets with 4gb+64gb octa core processor,1920x1200 ips fhd display, 13mp+5mp dual camera, gps, fm, 5g wifi teblet grey',\n",
              "        nan],\n",
              "       ['lg bundle gram (2022) 14z90q ultra lightweight-laptop, 14\" ips-display, intel evo 12th gen i7 1260p-processor, 32gb lpddr5, 1tb nvme ssd, wifi 6e, windows 11, black & gram+view portable-monitor',\n",
              "        nan],\n",
              "       ['lg bundle gram (2022) 14z90q ultra lightweight-laptop, 14\" ips-display, intel evo 12th gen i7 1260p-processor, 16gb lpddr5, 512gb nvme ssd, wifi 6e, windows 11, gray & gram+view portable-monitor',\n",
              "        nan],\n",
              "       ['lg bundle gram (2022) 14z90q ultra lightweight-laptop, 14\" ips-display, intel evo 12th gen i5 1240p-processor,\\xa08gb lpddr5, 512gb nvme ssd, wifi 6e, windows11, white & gram+view portable-monitor',\n",
              "        nan],\n",
              "       ['lg bundle gram (2022) 16t90q 2-in-1 tablet-laptop, 16\" ips-display, intel evo 12th gen i7 1260p-processor, 16gb lpddr5, 512gb nvme ssd, wifi 6e, windows 11, green & gram+view portable-monitor',\n",
              "        nan],\n",
              "       ['lg bundle gram (2022) 16t90q 2-in-1 tablet-laptop, 16\" ips-display, intel evo 12th gen i7 1260p-processor, 16gb lpddr5, 2tb nvme ssd, wifi 6e, windows 11, silver & gram+view portable-monitor',\n",
              "        nan],\n",
              "       ['lg bundle gram (2022) 14z90q ultra lightweight-laptop, 14\" ips-display, intel evo 12th gen i7 1260p-processor, 16gb lpddr5, 512gb nvme ssd, wifi 6e, windows 11, gray & gram+view portable-monitor',\n",
              "        nan],\n",
              "       ['lg bundle gram (2022) 14z90q ultra lightweight-laptop, 14\" ips-display, intel evo 12th gen i7 1260p-processor, 16gb lpddr5, 512gb nvme ssd, wifi 6e, windows 11, gray & gram+view portable-monitor',\n",
              "        nan],\n",
              "       ['lg bundle gram (2022) 14z90q ultra lightweight-laptop, 14\" ips-display, intel evo 12th gen i7 1260p-processor, 32gb lpddr5, 1tb nvme ssd, wifi 6e, windows 11, black & gram+view portable-monitor',\n",
              "        nan],\n",
              "       ['lg bundle gram (2022) 16t90q 2-in-1 tablet-laptop, 16\" ips-display, intel evo 12th gen i7 1260p-processor, 16gb lpddr5, 2tb nvme ssd, wifi 6e, windows 11, black & gram+view portable-monitor',\n",
              "        nan],\n",
              "       ['generic 11.6 inches hd screen compatible with chromebook 11 cb3-111 laptop replacement led lcd',\n",
              "        nan],\n",
              "       ['generic new 14.0 inch screen compatible with thinkpad t480 20l5 series replacement screen ips',\n",
              "        nan],\n",
              "       ['generic 15.6\" hd screen compatible with hp probook 4510s 4515s 4520s 4525s 4530s 4535s 4540s 4545s laptop replacement led lcd',\n",
              "        nan],\n",
              "       ['generic 15.6\" hd screen compatible with samsung ltn156at37-l01 laptop replacement led lcd',\n",
              "        nan],\n",
              "       ['generic new 17.3\" led wxga++ glossy hd lcd replacement laptop screen/display compatible with ltn173kt01 (k01, t01, a01, d01)',\n",
              "        nan],\n",
              "       ['fullcom new 15.6 inches compatible with omen laptop 15-ax210nd / 15-ax210nr fit n156hca-eaa, n156hca-eaa laptop replacement screen',\n",
              "        nan],\n",
              "       ['13-15 inch cat paws print laptop sleeve case/water-resistant neoprene notebook computer pocket tablet briefcase carrying bag/pouch skin cover for hp/dell/lenovo/asus/acer/apple',\n",
              "        nan],\n",
              "       ['au optronics b156han01.2 laptop lcd screen 15.6\" full-hd diode (substitute replacement lcd screen only. not a laptop )',\n",
              "        nan],\n",
              "       ['generic 15.6\" hd screen compatible with lenovo g50-70 20351 laptop replacement led lcd',\n",
              "        nan],\n",
              "       ['msi a6200 laptop lcd screen 15.6\" wxga hd led diode (substitute replacement lcd screen only. not a laptop)',\n",
              "        nan],\n",
              "       ['dell inspiron 1545 bt156gw01 v.1 laptop lcd screen replacement 15.6\" wxga hd led matte',\n",
              "        nan],\n",
              "       ['new 17.3\" led wxga++ glossy hd lcd replacement laptop screen/display for hp pavilion g72-b60us & g72-b66us',\n",
              "        nan],\n",
              "       ['chunghwa claa173ua01a replacement laptop lcd screen 17.3\" wxga++ led diode (substitute replacement lcd screen only. not a laptop )',\n",
              "        nan],\n",
              "       ['chi mei n133bge-l41 replacement laptop lcd screen 13.3\" wxga hd led diode (substitute only. not a )',\n",
              "        nan],\n",
              "       ['generic new 15.6\" hd laptop replacement led lcd screen compatible with dell inspiron 15-3000 (b156xtn04.0 non touch)',\n",
              "        nan],\n",
              "       ['generic new 14.0\" hd glossy replacement led lcd screen compatible with toshiba satellite l745 models l745-s4110, l745-s4210, l745-s4310, l745-s4235',\n",
              "        nan],\n",
              "       ['generic new 14.0 inch ips fhd (1080p) laptop led lcd replacement screen/panel compatible with b140han02.1/ b140han02.4',\n",
              "        nan],\n",
              "       ['generic aohc 13-14 inch (jet black) laptop sleeve case laptop stand adjustable, computer shock resistant bag with mouse pad for macbook, window surface',\n",
              "        nan],\n",
              "       ['generic new 15.6\" hd laptop replacement led lcd screen compatible with dell inspiron 15-3000 (b156xtn04.0 non touch)',\n",
              "        nan],\n",
              "       ['generic new 15.6\" ips fhd 1080p laptop led lcd replacement screen/panel compatible with lp156wf6(sp)(k6) lp156wf6-spk6',\n",
              "        nan],\n",
              "       ['generic 14.0\" wxga compatible with dell latitude e6420 ltn140at16 laptop lcd screen replacement',\n",
              "        nan],\n",
              "       ['generic new 15.6\" ips fhd 1080p laptop led lcd replacement screen/panel compatible with lp156wf6(sp)(k6) lp156wf6-spk6',\n",
              "        nan],\n",
              "       ['generic new 14.0 inch screen compatible with thinkpad t480 20l5 series replacement screen ips',\n",
              "        nan],\n",
              "       ['2022 hp flagship laptop, intel dual-core processor up to 2.65ghz, 15-inch, 4gb ddr4, 500gb storage, super-fast wifi, windows 11, dale red (renewed)',\n",
              "        nan],\n",
              "       ['2022 hp 14\" hd ips laptop, windows 11 os, intel pentium quad-core processor up to 3.0ghz, 4gb ram, 128gb ssd, 4k graphics, dale black(renewed)',\n",
              "        nan],\n",
              "       ['2022 hp 14\" hd ips touchscreen chromebook, intel processor up to 3.0ghz, 4gb ram, 64gb ssd, 4k graphics, super-fast 6th gen wifi, chrome os, dale silver(renewed) (dale silver)',\n",
              "        nan],\n",
              "       ['2022 hp flagship 15inch hd laptop, intel dual-core processor up to 2.65ghz, 4gb ddr4, 128gb ssd, ultra-fast wifi, windows 11, dale red(renewed)',\n",
              "        nan],\n",
              "       ['2022 hp convertible 2-in-1 chromebook laptop, 14\" hd ips touchscreen, intel celeron processor up to 2.75ghz, 4gb ram, 32gb ssd, super-fast 6th gen wifi, chrome os(renewed) (dale silve)',\n",
              "        nan],\n",
              "       ['2022 hp 14\" hd laptop, windows 11, intel celeron dual-core processor up to 2.80ghz, 4gb ram, 64gb ssd, chromes os, cobalt blue (renewed)',\n",
              "        nan],\n",
              "       ['newest hp 14\" flagship laptop, windows 11 os, amd dual-core processor up to 2.60 ghz, 4gb ram, 64gb ssd, webcam, silver (renewed)',\n",
              "        nan],\n",
              "       ['newest hp 14\" flagship laptop, windows 11 os, amd dual-core processor up to 2.60 ghz, 4gb ram, 64gb ssd, webcam, silver (renewed)',\n",
              "        nan],\n",
              "       ['2022 hp 14\" hd laptop, windows 11, intel celeron dual-core processor up to 2.80ghz, 4gb ram, 64gb ssd, chromes os, cobalt blue (renewed)',\n",
              "        nan],\n",
              "       ['newest hp 14\" flagship laptop, windows 11 os, amd processor up to 3.2ghz, 4gb ddr4, 128gb ssd, webcam, sparkling silver (renewed)',\n",
              "        nan],\n",
              "       ['samsung galaxy tab 4 10.1in 16gb wifi black (renewed)', nan],\n",
              "       ['asus 11.6\" c202sa series 16gb chromebook (dark blue/silver) c202sa-ys02 (renewed)',\n",
              "        nan],\n",
              "       ['samsung chromebook 2 13.3 inch laptop (samsung exynos, 4 gb, 16 gb ssd, luminous titan) (renewed)',\n",
              "        nan],\n",
              "       ['samsung galaxy tab s7 fe 12.4” 64gb wifi android tablet w/ large screen, long lasting battery, s pen included, multi device connectivity, us version, 2021, mystic black',\n",
              "        nan],\n",
              "       ['samsung notebook flash memory 4 gb, storage 64 gb emmc, 13.3\", twill charcoal (np530xbb) (renewed)',\n",
              "        nan],\n",
              "       ['samsung galaxy book go 14\" fhd laptop, qualcomm snapdragon 7c gen 2 , 4gb ram, 64gb hd, silver, windows 10 - includes microsoft 365 personal 12 month subscription',\n",
              "        nan],\n",
              "       ['miwasion case only compatible with 13.5\" microsoft surface metal keyboard laptop(4/3),release(1868/1951) laptop with keyboard protectors plastic hard shell cases（garden\\xa0flowers,floral）',\n",
              "        nan],\n",
              "       ['new microsoft surface go 2 - 10.5\" touch-screen - intel pentium - 4gb memory - 64gb - wifi - platinum (latest model)',\n",
              "        nan],\n",
              "       ['tomtoc 360 protective laptop sleeve for 13.5-14.4 inch new microsoft surface laptop studio/5/4/3/2/1, surface book 3/2/1, waterproof accessories carrying case bag for asus zenbook/ vivobook 14, black',\n",
              "        nan],\n",
              "       ['microsoft surface go (intel pentium gold, 8gb ram, 128gb) (mcz-00001)',\n",
              "        nan],\n",
              "       ['microsoft surface pro x - 13\" touchscreen - microsoft sq 2 - 16gb memory - 256gb ssd - device only - platinum (latest model)',\n",
              "        nan],\n",
              "       ['microsoft surface pro 8-13\" touchscreen - intel® evo platform core™ i5-16gb memory - 256gb ssd - graphite (latest model) with microsoft 365 family | 15-month subscription | pc/mac download',\n",
              "        nan],\n",
              "       ['microsoft surface go 3 - 10.5\" touchscreen - intel® pentium® gold - 4gb memory - 64gb emmc - device only - platinum (latest model)',\n",
              "        nan],\n",
              "       ['new microsoft surface go 2 - 10.5\" touch-screen - intel pentium - 4gb memory - 64gb - wifi - platinum (latest model)',\n",
              "        nan]], dtype=object)"
            ]
          },
          "metadata": {},
          "execution_count": 324
        }
      ]
    },
    {
      "cell_type": "markdown",
      "source": [
        "**Observations**\n",
        "-"
      ],
      "metadata": {
        "id": "44aJXC-G8lYa"
      }
    },
    {
      "cell_type": "code",
      "source": [
        "string = 'apple macbook pro 16\" with liquid retina xdr display, m1 max chip with 10-core cpu and 32-core gpu, 64gb memory, 4tb ssd, space gray, late 2021'\n",
        "cpu_pattern = r\"((?:ryzen|core[- ]?i|amd|celeron|exynos|pentium|intel|m)[- ]?[a-zA-Z]*\\d{1}[pro max]*)\"\n",
        "cpu_model = re.findall(cpu_pattern, string)\n",
        "cpu_model"
      ],
      "metadata": {
        "colab": {
          "base_uri": "https://localhost:8080/"
        },
        "id": "RV6-dZSy89Fd",
        "outputId": "3dc3597a-87e0-481d-a99c-e2bc477fbfe4"
      },
      "execution_count": 325,
      "outputs": [
        {
          "output_type": "execute_result",
          "data": {
            "text/plain": [
              "['m1 max ']"
            ]
          },
          "metadata": {},
          "execution_count": 325
        }
      ]
    },
    {
      "cell_type": "code",
      "source": [
        "df_cpu_missing.CPU_Model.value_counts()"
      ],
      "metadata": {
        "id": "bgWnvobI-nEY",
        "colab": {
          "base_uri": "https://localhost:8080/",
          "height": 1000
        },
        "outputId": "eed829b1-7f17-45e5-e19e-59785aa87794"
      },
      "execution_count": 326,
      "outputs": [
        {
          "output_type": "execute_result",
          "data": {
            "text/plain": [
              "CPU_Model\n",
              "ryzen 5        15\n",
              "core i5        13\n",
              "core i7        11\n",
              "m2              9\n",
              "core i5         8\n",
              "m1 pro          8\n",
              "m 1             6\n",
              "core i7         6\n",
              "m1              5\n",
              "m1 max          5\n",
              "ryzen 3         3\n",
              "core i3         3\n",
              "celeron n4      3\n",
              "intel i7        2\n",
              "m5              2\n",
              "m1              2\n",
              "exynos 5        2\n",
              "ryzen 7         2\n",
              "pentium n6      2\n",
              "intel 1         2\n",
              "pentium n5      1\n",
              "intel i7        1\n",
              "intel 3         1\n",
              "ryzen 3 pro     1\n",
              "amd a9          1\n",
              "ryzen5          1\n",
              "intel 2         1\n",
              "intel 4         1\n",
              "m1 ma           1\n",
              "intel i5        1\n",
              "mt4             1\n",
              "amd 3           1\n",
              "ryzen 7         1\n",
              "core i9         1\n",
              "m-n4            1\n",
              "m-n1            1\n",
              "mk1             1\n",
              "mk5             1\n",
              "intel gma9      1\n",
              "mt8             1\n",
              "mf0             1\n",
              "ryzen 5         1\n",
              "Name: count, dtype: int64"
            ],
            "text/html": [
              "<div>\n",
              "<style scoped>\n",
              "    .dataframe tbody tr th:only-of-type {\n",
              "        vertical-align: middle;\n",
              "    }\n",
              "\n",
              "    .dataframe tbody tr th {\n",
              "        vertical-align: top;\n",
              "    }\n",
              "\n",
              "    .dataframe thead th {\n",
              "        text-align: right;\n",
              "    }\n",
              "</style>\n",
              "<table border=\"1\" class=\"dataframe\">\n",
              "  <thead>\n",
              "    <tr style=\"text-align: right;\">\n",
              "      <th></th>\n",
              "      <th>count</th>\n",
              "    </tr>\n",
              "    <tr>\n",
              "      <th>CPU_Model</th>\n",
              "      <th></th>\n",
              "    </tr>\n",
              "  </thead>\n",
              "  <tbody>\n",
              "    <tr>\n",
              "      <th>ryzen 5</th>\n",
              "      <td>15</td>\n",
              "    </tr>\n",
              "    <tr>\n",
              "      <th>core i5</th>\n",
              "      <td>13</td>\n",
              "    </tr>\n",
              "    <tr>\n",
              "      <th>core i7</th>\n",
              "      <td>11</td>\n",
              "    </tr>\n",
              "    <tr>\n",
              "      <th>m2</th>\n",
              "      <td>9</td>\n",
              "    </tr>\n",
              "    <tr>\n",
              "      <th>core i5</th>\n",
              "      <td>8</td>\n",
              "    </tr>\n",
              "    <tr>\n",
              "      <th>m1 pro</th>\n",
              "      <td>8</td>\n",
              "    </tr>\n",
              "    <tr>\n",
              "      <th>m 1</th>\n",
              "      <td>6</td>\n",
              "    </tr>\n",
              "    <tr>\n",
              "      <th>core i7</th>\n",
              "      <td>6</td>\n",
              "    </tr>\n",
              "    <tr>\n",
              "      <th>m1</th>\n",
              "      <td>5</td>\n",
              "    </tr>\n",
              "    <tr>\n",
              "      <th>m1 max</th>\n",
              "      <td>5</td>\n",
              "    </tr>\n",
              "    <tr>\n",
              "      <th>ryzen 3</th>\n",
              "      <td>3</td>\n",
              "    </tr>\n",
              "    <tr>\n",
              "      <th>core i3</th>\n",
              "      <td>3</td>\n",
              "    </tr>\n",
              "    <tr>\n",
              "      <th>celeron n4</th>\n",
              "      <td>3</td>\n",
              "    </tr>\n",
              "    <tr>\n",
              "      <th>intel i7</th>\n",
              "      <td>2</td>\n",
              "    </tr>\n",
              "    <tr>\n",
              "      <th>m5</th>\n",
              "      <td>2</td>\n",
              "    </tr>\n",
              "    <tr>\n",
              "      <th>m1</th>\n",
              "      <td>2</td>\n",
              "    </tr>\n",
              "    <tr>\n",
              "      <th>exynos 5</th>\n",
              "      <td>2</td>\n",
              "    </tr>\n",
              "    <tr>\n",
              "      <th>ryzen 7</th>\n",
              "      <td>2</td>\n",
              "    </tr>\n",
              "    <tr>\n",
              "      <th>pentium n6</th>\n",
              "      <td>2</td>\n",
              "    </tr>\n",
              "    <tr>\n",
              "      <th>intel 1</th>\n",
              "      <td>2</td>\n",
              "    </tr>\n",
              "    <tr>\n",
              "      <th>pentium n5</th>\n",
              "      <td>1</td>\n",
              "    </tr>\n",
              "    <tr>\n",
              "      <th>intel i7</th>\n",
              "      <td>1</td>\n",
              "    </tr>\n",
              "    <tr>\n",
              "      <th>intel 3</th>\n",
              "      <td>1</td>\n",
              "    </tr>\n",
              "    <tr>\n",
              "      <th>ryzen 3 pro</th>\n",
              "      <td>1</td>\n",
              "    </tr>\n",
              "    <tr>\n",
              "      <th>amd a9</th>\n",
              "      <td>1</td>\n",
              "    </tr>\n",
              "    <tr>\n",
              "      <th>ryzen5</th>\n",
              "      <td>1</td>\n",
              "    </tr>\n",
              "    <tr>\n",
              "      <th>intel 2</th>\n",
              "      <td>1</td>\n",
              "    </tr>\n",
              "    <tr>\n",
              "      <th>intel 4</th>\n",
              "      <td>1</td>\n",
              "    </tr>\n",
              "    <tr>\n",
              "      <th>m1 ma</th>\n",
              "      <td>1</td>\n",
              "    </tr>\n",
              "    <tr>\n",
              "      <th>intel i5</th>\n",
              "      <td>1</td>\n",
              "    </tr>\n",
              "    <tr>\n",
              "      <th>mt4</th>\n",
              "      <td>1</td>\n",
              "    </tr>\n",
              "    <tr>\n",
              "      <th>amd 3</th>\n",
              "      <td>1</td>\n",
              "    </tr>\n",
              "    <tr>\n",
              "      <th>ryzen 7</th>\n",
              "      <td>1</td>\n",
              "    </tr>\n",
              "    <tr>\n",
              "      <th>core i9</th>\n",
              "      <td>1</td>\n",
              "    </tr>\n",
              "    <tr>\n",
              "      <th>m-n4</th>\n",
              "      <td>1</td>\n",
              "    </tr>\n",
              "    <tr>\n",
              "      <th>m-n1</th>\n",
              "      <td>1</td>\n",
              "    </tr>\n",
              "    <tr>\n",
              "      <th>mk1</th>\n",
              "      <td>1</td>\n",
              "    </tr>\n",
              "    <tr>\n",
              "      <th>mk5</th>\n",
              "      <td>1</td>\n",
              "    </tr>\n",
              "    <tr>\n",
              "      <th>intel gma9</th>\n",
              "      <td>1</td>\n",
              "    </tr>\n",
              "    <tr>\n",
              "      <th>mt8</th>\n",
              "      <td>1</td>\n",
              "    </tr>\n",
              "    <tr>\n",
              "      <th>mf0</th>\n",
              "      <td>1</td>\n",
              "    </tr>\n",
              "    <tr>\n",
              "      <th>ryzen 5</th>\n",
              "      <td>1</td>\n",
              "    </tr>\n",
              "  </tbody>\n",
              "</table>\n",
              "</div><br><label><b>dtype:</b> int64</label>"
            ]
          },
          "metadata": {},
          "execution_count": 326
        }
      ]
    },
    {
      "cell_type": "code",
      "source": [
        "# merging with original dataframe\n",
        "df.loc[df_cpu_missing.index, 'CPU_Model'] = df_cpu_missing.CPU_Model"
      ],
      "metadata": {
        "id": "2HXJhCepYKBn"
      },
      "execution_count": 327,
      "outputs": []
    },
    {
      "cell_type": "code",
      "source": [
        "df.CPU_Model.isna().sum()"
      ],
      "metadata": {
        "colab": {
          "base_uri": "https://localhost:8080/"
        },
        "id": "74TqUbT6ZJjh",
        "outputId": "b49c87cb-a6d0-482f-b688-db034f0f3cbd"
      },
      "execution_count": 328,
      "outputs": [
        {
          "output_type": "execute_result",
          "data": {
            "text/plain": [
              "62"
            ]
          },
          "metadata": {},
          "execution_count": 328
        }
      ]
    },
    {
      "cell_type": "code",
      "source": [
        "# removing entries with missing cpu model\n",
        "df.drop(df[df.CPU_Model.isna()].index, inplace=True)"
      ],
      "metadata": {
        "id": "_yfKCqaDZMdp"
      },
      "execution_count": 329,
      "outputs": []
    },
    {
      "cell_type": "code",
      "source": [
        "df.CPU_Model.value_counts().head(60)"
      ],
      "metadata": {
        "colab": {
          "base_uri": "https://localhost:8080/",
          "height": 1000
        },
        "id": "5MVdXY4PZ12Y",
        "outputId": "96dfe9df-a3de-43a2-f594-046ed6bc8630"
      },
      "execution_count": 330,
      "outputs": [
        {
          "output_type": "execute_result",
          "data": {
            "text/plain": [
              "CPU_Model\n",
              "core i7                 407\n",
              "core i5                 316\n",
              "core i7 family          163\n",
              "intel core i5           114\n",
              "celeron                 109\n",
              "intel core i7           104\n",
              "celeron n4020           101\n",
              "core i5 family           68\n",
              "unknown                  68\n",
              "core i3                  66\n",
              "core i9                  62\n",
              "celeron n                47\n",
              "ryzen 5                  45\n",
              "intel core i9            39\n",
              "ryzen 7                  37\n",
              "core i5-1035g1           36\n",
              "celeron n4000            34\n",
              "intel core i5-1135g7     33\n",
              "amd ryzen 7              32\n",
              "ryzen 9                  28\n",
              "core i7 11800h           26\n",
              "intel core i3            26\n",
              "intel core i7-1165g7     25\n",
              "core i3 1115g4           24\n",
              "pentium                  23\n",
              "intel mobile cpu         22\n",
              "8032                     21\n",
              "amd r series             19\n",
              "mediatek mt8183          18\n",
              "celeron n3350            17\n",
              "apple m1                 16\n",
              "ryzen 5                  15\n",
              "amd a series             14\n",
              "ryzen 3 3250u            14\n",
              "ryzen 3                  14\n",
              "core i3 family           13\n",
              "corei5-10300h            13\n",
              "corei7-10750h            12\n",
              "amd ryzen 5 5500u        12\n",
              "pentium n5000            11\n",
              "ryzen 3 3350u            11\n",
              "celeron n3450            11\n",
              "core i5 8250u             9\n",
              "core i7-8650u             9\n",
              "core_m                    9\n",
              "m2                        9\n",
              "core i7 8750h             9\n",
              "ryzen 3 3200u             9\n",
              "ryzen 5 4500u             9\n",
              "athlon silver 3050u       9\n",
              "m1 pro                    8\n",
              "core m3-8100y             8\n",
              "snapdragon                8\n",
              "core i5                   8\n",
              "core m family             7\n",
              "core i3-1005g1            7\n",
              "ryzen 5 5500u             7\n",
              "ryzen 5 5600h             6\n",
              "core i5 6200u             6\n",
              "core i7                   6\n",
              "Name: count, dtype: int64"
            ],
            "text/html": [
              "<div>\n",
              "<style scoped>\n",
              "    .dataframe tbody tr th:only-of-type {\n",
              "        vertical-align: middle;\n",
              "    }\n",
              "\n",
              "    .dataframe tbody tr th {\n",
              "        vertical-align: top;\n",
              "    }\n",
              "\n",
              "    .dataframe thead th {\n",
              "        text-align: right;\n",
              "    }\n",
              "</style>\n",
              "<table border=\"1\" class=\"dataframe\">\n",
              "  <thead>\n",
              "    <tr style=\"text-align: right;\">\n",
              "      <th></th>\n",
              "      <th>count</th>\n",
              "    </tr>\n",
              "    <tr>\n",
              "      <th>CPU_Model</th>\n",
              "      <th></th>\n",
              "    </tr>\n",
              "  </thead>\n",
              "  <tbody>\n",
              "    <tr>\n",
              "      <th>core i7</th>\n",
              "      <td>407</td>\n",
              "    </tr>\n",
              "    <tr>\n",
              "      <th>core i5</th>\n",
              "      <td>316</td>\n",
              "    </tr>\n",
              "    <tr>\n",
              "      <th>core i7 family</th>\n",
              "      <td>163</td>\n",
              "    </tr>\n",
              "    <tr>\n",
              "      <th>intel core i5</th>\n",
              "      <td>114</td>\n",
              "    </tr>\n",
              "    <tr>\n",
              "      <th>celeron</th>\n",
              "      <td>109</td>\n",
              "    </tr>\n",
              "    <tr>\n",
              "      <th>intel core i7</th>\n",
              "      <td>104</td>\n",
              "    </tr>\n",
              "    <tr>\n",
              "      <th>celeron n4020</th>\n",
              "      <td>101</td>\n",
              "    </tr>\n",
              "    <tr>\n",
              "      <th>core i5 family</th>\n",
              "      <td>68</td>\n",
              "    </tr>\n",
              "    <tr>\n",
              "      <th>unknown</th>\n",
              "      <td>68</td>\n",
              "    </tr>\n",
              "    <tr>\n",
              "      <th>core i3</th>\n",
              "      <td>66</td>\n",
              "    </tr>\n",
              "    <tr>\n",
              "      <th>core i9</th>\n",
              "      <td>62</td>\n",
              "    </tr>\n",
              "    <tr>\n",
              "      <th>celeron n</th>\n",
              "      <td>47</td>\n",
              "    </tr>\n",
              "    <tr>\n",
              "      <th>ryzen 5</th>\n",
              "      <td>45</td>\n",
              "    </tr>\n",
              "    <tr>\n",
              "      <th>intel core i9</th>\n",
              "      <td>39</td>\n",
              "    </tr>\n",
              "    <tr>\n",
              "      <th>ryzen 7</th>\n",
              "      <td>37</td>\n",
              "    </tr>\n",
              "    <tr>\n",
              "      <th>core i5-1035g1</th>\n",
              "      <td>36</td>\n",
              "    </tr>\n",
              "    <tr>\n",
              "      <th>celeron n4000</th>\n",
              "      <td>34</td>\n",
              "    </tr>\n",
              "    <tr>\n",
              "      <th>intel core i5-1135g7</th>\n",
              "      <td>33</td>\n",
              "    </tr>\n",
              "    <tr>\n",
              "      <th>amd ryzen 7</th>\n",
              "      <td>32</td>\n",
              "    </tr>\n",
              "    <tr>\n",
              "      <th>ryzen 9</th>\n",
              "      <td>28</td>\n",
              "    </tr>\n",
              "    <tr>\n",
              "      <th>core i7 11800h</th>\n",
              "      <td>26</td>\n",
              "    </tr>\n",
              "    <tr>\n",
              "      <th>intel core i3</th>\n",
              "      <td>26</td>\n",
              "    </tr>\n",
              "    <tr>\n",
              "      <th>intel core i7-1165g7</th>\n",
              "      <td>25</td>\n",
              "    </tr>\n",
              "    <tr>\n",
              "      <th>core i3 1115g4</th>\n",
              "      <td>24</td>\n",
              "    </tr>\n",
              "    <tr>\n",
              "      <th>pentium</th>\n",
              "      <td>23</td>\n",
              "    </tr>\n",
              "    <tr>\n",
              "      <th>intel mobile cpu</th>\n",
              "      <td>22</td>\n",
              "    </tr>\n",
              "    <tr>\n",
              "      <th>8032</th>\n",
              "      <td>21</td>\n",
              "    </tr>\n",
              "    <tr>\n",
              "      <th>amd r series</th>\n",
              "      <td>19</td>\n",
              "    </tr>\n",
              "    <tr>\n",
              "      <th>mediatek mt8183</th>\n",
              "      <td>18</td>\n",
              "    </tr>\n",
              "    <tr>\n",
              "      <th>celeron n3350</th>\n",
              "      <td>17</td>\n",
              "    </tr>\n",
              "    <tr>\n",
              "      <th>apple m1</th>\n",
              "      <td>16</td>\n",
              "    </tr>\n",
              "    <tr>\n",
              "      <th>ryzen 5</th>\n",
              "      <td>15</td>\n",
              "    </tr>\n",
              "    <tr>\n",
              "      <th>amd a series</th>\n",
              "      <td>14</td>\n",
              "    </tr>\n",
              "    <tr>\n",
              "      <th>ryzen 3 3250u</th>\n",
              "      <td>14</td>\n",
              "    </tr>\n",
              "    <tr>\n",
              "      <th>ryzen 3</th>\n",
              "      <td>14</td>\n",
              "    </tr>\n",
              "    <tr>\n",
              "      <th>core i3 family</th>\n",
              "      <td>13</td>\n",
              "    </tr>\n",
              "    <tr>\n",
              "      <th>corei5-10300h</th>\n",
              "      <td>13</td>\n",
              "    </tr>\n",
              "    <tr>\n",
              "      <th>corei7-10750h</th>\n",
              "      <td>12</td>\n",
              "    </tr>\n",
              "    <tr>\n",
              "      <th>amd ryzen 5 5500u</th>\n",
              "      <td>12</td>\n",
              "    </tr>\n",
              "    <tr>\n",
              "      <th>pentium n5000</th>\n",
              "      <td>11</td>\n",
              "    </tr>\n",
              "    <tr>\n",
              "      <th>ryzen 3 3350u</th>\n",
              "      <td>11</td>\n",
              "    </tr>\n",
              "    <tr>\n",
              "      <th>celeron n3450</th>\n",
              "      <td>11</td>\n",
              "    </tr>\n",
              "    <tr>\n",
              "      <th>core i5 8250u</th>\n",
              "      <td>9</td>\n",
              "    </tr>\n",
              "    <tr>\n",
              "      <th>core i7-8650u</th>\n",
              "      <td>9</td>\n",
              "    </tr>\n",
              "    <tr>\n",
              "      <th>core_m</th>\n",
              "      <td>9</td>\n",
              "    </tr>\n",
              "    <tr>\n",
              "      <th>m2</th>\n",
              "      <td>9</td>\n",
              "    </tr>\n",
              "    <tr>\n",
              "      <th>core i7 8750h</th>\n",
              "      <td>9</td>\n",
              "    </tr>\n",
              "    <tr>\n",
              "      <th>ryzen 3 3200u</th>\n",
              "      <td>9</td>\n",
              "    </tr>\n",
              "    <tr>\n",
              "      <th>ryzen 5 4500u</th>\n",
              "      <td>9</td>\n",
              "    </tr>\n",
              "    <tr>\n",
              "      <th>athlon silver 3050u</th>\n",
              "      <td>9</td>\n",
              "    </tr>\n",
              "    <tr>\n",
              "      <th>m1 pro</th>\n",
              "      <td>8</td>\n",
              "    </tr>\n",
              "    <tr>\n",
              "      <th>core m3-8100y</th>\n",
              "      <td>8</td>\n",
              "    </tr>\n",
              "    <tr>\n",
              "      <th>snapdragon</th>\n",
              "      <td>8</td>\n",
              "    </tr>\n",
              "    <tr>\n",
              "      <th>core i5</th>\n",
              "      <td>8</td>\n",
              "    </tr>\n",
              "    <tr>\n",
              "      <th>core m family</th>\n",
              "      <td>7</td>\n",
              "    </tr>\n",
              "    <tr>\n",
              "      <th>core i3-1005g1</th>\n",
              "      <td>7</td>\n",
              "    </tr>\n",
              "    <tr>\n",
              "      <th>ryzen 5 5500u</th>\n",
              "      <td>7</td>\n",
              "    </tr>\n",
              "    <tr>\n",
              "      <th>ryzen 5 5600h</th>\n",
              "      <td>6</td>\n",
              "    </tr>\n",
              "    <tr>\n",
              "      <th>core i5 6200u</th>\n",
              "      <td>6</td>\n",
              "    </tr>\n",
              "    <tr>\n",
              "      <th>core i7</th>\n",
              "      <td>6</td>\n",
              "    </tr>\n",
              "  </tbody>\n",
              "</table>\n",
              "</div><br><label><b>dtype:</b> int64</label>"
            ]
          },
          "metadata": {},
          "execution_count": 330
        }
      ]
    },
    {
      "cell_type": "code",
      "source": [
        "df.CPU_Model.value_counts()"
      ],
      "metadata": {
        "colab": {
          "base_uri": "https://localhost:8080/",
          "height": 489
        },
        "id": "pXBOIXRUpbqI",
        "outputId": "ace3afcc-6123-4d3f-9732-5a172a6c78c9"
      },
      "execution_count": 331,
      "outputs": [
        {
          "output_type": "execute_result",
          "data": {
            "text/plain": [
              "CPU_Model\n",
              "core i7           407\n",
              "core i5           316\n",
              "core i7 family    163\n",
              "intel core i5     114\n",
              "celeron           109\n",
              "                 ... \n",
              "core i7 10870h      1\n",
              "core i7-10700k      1\n",
              "core i9-9900k       1\n",
              "core i7-4980hq      1\n",
              "core i5-10400t      1\n",
              "Name: count, Length: 215, dtype: int64"
            ],
            "text/html": [
              "<div>\n",
              "<style scoped>\n",
              "    .dataframe tbody tr th:only-of-type {\n",
              "        vertical-align: middle;\n",
              "    }\n",
              "\n",
              "    .dataframe tbody tr th {\n",
              "        vertical-align: top;\n",
              "    }\n",
              "\n",
              "    .dataframe thead th {\n",
              "        text-align: right;\n",
              "    }\n",
              "</style>\n",
              "<table border=\"1\" class=\"dataframe\">\n",
              "  <thead>\n",
              "    <tr style=\"text-align: right;\">\n",
              "      <th></th>\n",
              "      <th>count</th>\n",
              "    </tr>\n",
              "    <tr>\n",
              "      <th>CPU_Model</th>\n",
              "      <th></th>\n",
              "    </tr>\n",
              "  </thead>\n",
              "  <tbody>\n",
              "    <tr>\n",
              "      <th>core i7</th>\n",
              "      <td>407</td>\n",
              "    </tr>\n",
              "    <tr>\n",
              "      <th>core i5</th>\n",
              "      <td>316</td>\n",
              "    </tr>\n",
              "    <tr>\n",
              "      <th>core i7 family</th>\n",
              "      <td>163</td>\n",
              "    </tr>\n",
              "    <tr>\n",
              "      <th>intel core i5</th>\n",
              "      <td>114</td>\n",
              "    </tr>\n",
              "    <tr>\n",
              "      <th>celeron</th>\n",
              "      <td>109</td>\n",
              "    </tr>\n",
              "    <tr>\n",
              "      <th>...</th>\n",
              "      <td>...</td>\n",
              "    </tr>\n",
              "    <tr>\n",
              "      <th>core i7 10870h</th>\n",
              "      <td>1</td>\n",
              "    </tr>\n",
              "    <tr>\n",
              "      <th>core i7-10700k</th>\n",
              "      <td>1</td>\n",
              "    </tr>\n",
              "    <tr>\n",
              "      <th>core i9-9900k</th>\n",
              "      <td>1</td>\n",
              "    </tr>\n",
              "    <tr>\n",
              "      <th>core i7-4980hq</th>\n",
              "      <td>1</td>\n",
              "    </tr>\n",
              "    <tr>\n",
              "      <th>core i5-10400t</th>\n",
              "      <td>1</td>\n",
              "    </tr>\n",
              "  </tbody>\n",
              "</table>\n",
              "<p>215 rows × 1 columns</p>\n",
              "</div><br><label><b>dtype:</b> int64</label>"
            ]
          },
          "metadata": {},
          "execution_count": 331
        }
      ]
    },
    {
      "cell_type": "code",
      "source": [
        "df['CPU_Model'] = df.CPU_Model.apply(cpu_model_retrieval)"
      ],
      "metadata": {
        "id": "0wSZfgI_atR0"
      },
      "execution_count": 332,
      "outputs": []
    },
    {
      "cell_type": "code",
      "source": [
        "# removing white spaces around the cpu model string\n",
        "df.CPU_Model = df.CPU_Model.apply(lambda x : str(x).strip())"
      ],
      "metadata": {
        "id": "aqRJtjBBeYoj"
      },
      "execution_count": 333,
      "outputs": []
    },
    {
      "cell_type": "code",
      "source": [
        "df.CPU_Model.value_counts()"
      ],
      "metadata": {
        "colab": {
          "base_uri": "https://localhost:8080/",
          "height": 1000
        },
        "id": "i4X5e6Pja0kF",
        "outputId": "f96ab1d4-2fe7-4919-b166-accc1d6cd146"
      },
      "execution_count": 334,
      "outputs": [
        {
          "output_type": "execute_result",
          "data": {
            "text/plain": [
              "CPU_Model\n",
              "core i7        783\n",
              "core i5        644\n",
              "nan            407\n",
              "core i3        139\n",
              "celeron n4     138\n",
              "ryzen 5        106\n",
              "core i9        106\n",
              "ryzen 7        101\n",
              "ryzen 3         53\n",
              "ryzen 9         32\n",
              "celeron n3      29\n",
              "mt8             25\n",
              "m1              23\n",
              "corei7          18\n",
              "corei5          13\n",
              "core 2          12\n",
              "pentium n5      12\n",
              "m2               9\n",
              "m1 pro           8\n",
              "core m3          8\n",
              "m-5              6\n",
              "amd a4           6\n",
              "m 1              6\n",
              "m1 max           5\n",
              "exynos 5         4\n",
              "intel i7         3\n",
              "celeron n2       3\n",
              "intel 1          2\n",
              "msm8             2\n",
              "m5               2\n",
              "m 7              2\n",
              "pentium n6       2\n",
              "amd a6           2\n",
              "mk5              1\n",
              "celeron 2        1\n",
              "intel 3          1\n",
              "amd a9           1\n",
              "exynos 5 o       1\n",
              "m1 ma            1\n",
              "m 8              1\n",
              "intel 2          1\n",
              "intel 4          1\n",
              "ryzen 3 pro      1\n",
              "mk1              1\n",
              "mt4              1\n",
              "amd 3            1\n",
              "m-n4             1\n",
              "m-n1             1\n",
              "celeron 3        1\n",
              "intel gma9       1\n",
              "intel i5         1\n",
              "mf0              1\n",
              "ryzen5           1\n",
              "Name: count, dtype: int64"
            ],
            "text/html": [
              "<div>\n",
              "<style scoped>\n",
              "    .dataframe tbody tr th:only-of-type {\n",
              "        vertical-align: middle;\n",
              "    }\n",
              "\n",
              "    .dataframe tbody tr th {\n",
              "        vertical-align: top;\n",
              "    }\n",
              "\n",
              "    .dataframe thead th {\n",
              "        text-align: right;\n",
              "    }\n",
              "</style>\n",
              "<table border=\"1\" class=\"dataframe\">\n",
              "  <thead>\n",
              "    <tr style=\"text-align: right;\">\n",
              "      <th></th>\n",
              "      <th>count</th>\n",
              "    </tr>\n",
              "    <tr>\n",
              "      <th>CPU_Model</th>\n",
              "      <th></th>\n",
              "    </tr>\n",
              "  </thead>\n",
              "  <tbody>\n",
              "    <tr>\n",
              "      <th>core i7</th>\n",
              "      <td>783</td>\n",
              "    </tr>\n",
              "    <tr>\n",
              "      <th>core i5</th>\n",
              "      <td>644</td>\n",
              "    </tr>\n",
              "    <tr>\n",
              "      <th>nan</th>\n",
              "      <td>407</td>\n",
              "    </tr>\n",
              "    <tr>\n",
              "      <th>core i3</th>\n",
              "      <td>139</td>\n",
              "    </tr>\n",
              "    <tr>\n",
              "      <th>celeron n4</th>\n",
              "      <td>138</td>\n",
              "    </tr>\n",
              "    <tr>\n",
              "      <th>ryzen 5</th>\n",
              "      <td>106</td>\n",
              "    </tr>\n",
              "    <tr>\n",
              "      <th>core i9</th>\n",
              "      <td>106</td>\n",
              "    </tr>\n",
              "    <tr>\n",
              "      <th>ryzen 7</th>\n",
              "      <td>101</td>\n",
              "    </tr>\n",
              "    <tr>\n",
              "      <th>ryzen 3</th>\n",
              "      <td>53</td>\n",
              "    </tr>\n",
              "    <tr>\n",
              "      <th>ryzen 9</th>\n",
              "      <td>32</td>\n",
              "    </tr>\n",
              "    <tr>\n",
              "      <th>celeron n3</th>\n",
              "      <td>29</td>\n",
              "    </tr>\n",
              "    <tr>\n",
              "      <th>mt8</th>\n",
              "      <td>25</td>\n",
              "    </tr>\n",
              "    <tr>\n",
              "      <th>m1</th>\n",
              "      <td>23</td>\n",
              "    </tr>\n",
              "    <tr>\n",
              "      <th>corei7</th>\n",
              "      <td>18</td>\n",
              "    </tr>\n",
              "    <tr>\n",
              "      <th>corei5</th>\n",
              "      <td>13</td>\n",
              "    </tr>\n",
              "    <tr>\n",
              "      <th>core 2</th>\n",
              "      <td>12</td>\n",
              "    </tr>\n",
              "    <tr>\n",
              "      <th>pentium n5</th>\n",
              "      <td>12</td>\n",
              "    </tr>\n",
              "    <tr>\n",
              "      <th>m2</th>\n",
              "      <td>9</td>\n",
              "    </tr>\n",
              "    <tr>\n",
              "      <th>m1 pro</th>\n",
              "      <td>8</td>\n",
              "    </tr>\n",
              "    <tr>\n",
              "      <th>core m3</th>\n",
              "      <td>8</td>\n",
              "    </tr>\n",
              "    <tr>\n",
              "      <th>m-5</th>\n",
              "      <td>6</td>\n",
              "    </tr>\n",
              "    <tr>\n",
              "      <th>amd a4</th>\n",
              "      <td>6</td>\n",
              "    </tr>\n",
              "    <tr>\n",
              "      <th>m 1</th>\n",
              "      <td>6</td>\n",
              "    </tr>\n",
              "    <tr>\n",
              "      <th>m1 max</th>\n",
              "      <td>5</td>\n",
              "    </tr>\n",
              "    <tr>\n",
              "      <th>exynos 5</th>\n",
              "      <td>4</td>\n",
              "    </tr>\n",
              "    <tr>\n",
              "      <th>intel i7</th>\n",
              "      <td>3</td>\n",
              "    </tr>\n",
              "    <tr>\n",
              "      <th>celeron n2</th>\n",
              "      <td>3</td>\n",
              "    </tr>\n",
              "    <tr>\n",
              "      <th>intel 1</th>\n",
              "      <td>2</td>\n",
              "    </tr>\n",
              "    <tr>\n",
              "      <th>msm8</th>\n",
              "      <td>2</td>\n",
              "    </tr>\n",
              "    <tr>\n",
              "      <th>m5</th>\n",
              "      <td>2</td>\n",
              "    </tr>\n",
              "    <tr>\n",
              "      <th>m 7</th>\n",
              "      <td>2</td>\n",
              "    </tr>\n",
              "    <tr>\n",
              "      <th>pentium n6</th>\n",
              "      <td>2</td>\n",
              "    </tr>\n",
              "    <tr>\n",
              "      <th>amd a6</th>\n",
              "      <td>2</td>\n",
              "    </tr>\n",
              "    <tr>\n",
              "      <th>mk5</th>\n",
              "      <td>1</td>\n",
              "    </tr>\n",
              "    <tr>\n",
              "      <th>celeron 2</th>\n",
              "      <td>1</td>\n",
              "    </tr>\n",
              "    <tr>\n",
              "      <th>intel 3</th>\n",
              "      <td>1</td>\n",
              "    </tr>\n",
              "    <tr>\n",
              "      <th>amd a9</th>\n",
              "      <td>1</td>\n",
              "    </tr>\n",
              "    <tr>\n",
              "      <th>exynos 5 o</th>\n",
              "      <td>1</td>\n",
              "    </tr>\n",
              "    <tr>\n",
              "      <th>m1 ma</th>\n",
              "      <td>1</td>\n",
              "    </tr>\n",
              "    <tr>\n",
              "      <th>m 8</th>\n",
              "      <td>1</td>\n",
              "    </tr>\n",
              "    <tr>\n",
              "      <th>intel 2</th>\n",
              "      <td>1</td>\n",
              "    </tr>\n",
              "    <tr>\n",
              "      <th>intel 4</th>\n",
              "      <td>1</td>\n",
              "    </tr>\n",
              "    <tr>\n",
              "      <th>ryzen 3 pro</th>\n",
              "      <td>1</td>\n",
              "    </tr>\n",
              "    <tr>\n",
              "      <th>mk1</th>\n",
              "      <td>1</td>\n",
              "    </tr>\n",
              "    <tr>\n",
              "      <th>mt4</th>\n",
              "      <td>1</td>\n",
              "    </tr>\n",
              "    <tr>\n",
              "      <th>amd 3</th>\n",
              "      <td>1</td>\n",
              "    </tr>\n",
              "    <tr>\n",
              "      <th>m-n4</th>\n",
              "      <td>1</td>\n",
              "    </tr>\n",
              "    <tr>\n",
              "      <th>m-n1</th>\n",
              "      <td>1</td>\n",
              "    </tr>\n",
              "    <tr>\n",
              "      <th>celeron 3</th>\n",
              "      <td>1</td>\n",
              "    </tr>\n",
              "    <tr>\n",
              "      <th>intel gma9</th>\n",
              "      <td>1</td>\n",
              "    </tr>\n",
              "    <tr>\n",
              "      <th>intel i5</th>\n",
              "      <td>1</td>\n",
              "    </tr>\n",
              "    <tr>\n",
              "      <th>mf0</th>\n",
              "      <td>1</td>\n",
              "    </tr>\n",
              "    <tr>\n",
              "      <th>ryzen5</th>\n",
              "      <td>1</td>\n",
              "    </tr>\n",
              "  </tbody>\n",
              "</table>\n",
              "</div><br><label><b>dtype:</b> int64</label>"
            ]
          },
          "metadata": {},
          "execution_count": 334
        }
      ]
    },
    {
      "cell_type": "markdown",
      "source": [
        "**Observations**\n",
        "- The above function has generated more than 400 missing values, those rows should be tried on regular expression with the **Title** feature.\n",
        "- There are lot of inconsistencies present in naming conventions, they should look organized.\n",
        "- Transforming corei5 and corei7 to core i5 and core i7. Also, replacing 'intel' with 'core'."
      ],
      "metadata": {
        "id": "UhYtw3_afYGb"
      }
    },
    {
      "cell_type": "code",
      "source": [
        "df_cpu_missing_again = df[df.CPU_Model == 'nan'][['Title', 'CPU_Model']]\n",
        "df_cpu_missing_again.shape"
      ],
      "metadata": {
        "colab": {
          "base_uri": "https://localhost:8080/"
        },
        "id": "toEdp3_Gqgq8",
        "outputId": "93629323-d0e7-4fbd-dece-c105323031c1"
      },
      "execution_count": 335,
      "outputs": [
        {
          "output_type": "execute_result",
          "data": {
            "text/plain": [
              "(407, 2)"
            ]
          },
          "metadata": {},
          "execution_count": 335
        }
      ]
    },
    {
      "cell_type": "code",
      "source": [
        "df_cpu_missing_again['CPU_Model'] = df_cpu_missing_again.Title.apply(cpu_model_retrieval)"
      ],
      "metadata": {
        "id": "NkyyhJOFqxYn"
      },
      "execution_count": 336,
      "outputs": []
    },
    {
      "cell_type": "code",
      "source": [
        "df_cpu_missing_again.isna().sum()"
      ],
      "metadata": {
        "colab": {
          "base_uri": "https://localhost:8080/",
          "height": 147
        },
        "id": "x-EkeL7SrAx9",
        "outputId": "38420e50-a80f-407c-dbb8-beed49fbc1cc"
      },
      "execution_count": 337,
      "outputs": [
        {
          "output_type": "execute_result",
          "data": {
            "text/plain": [
              "Title          0\n",
              "CPU_Model    103\n",
              "dtype: int64"
            ],
            "text/html": [
              "<div>\n",
              "<style scoped>\n",
              "    .dataframe tbody tr th:only-of-type {\n",
              "        vertical-align: middle;\n",
              "    }\n",
              "\n",
              "    .dataframe tbody tr th {\n",
              "        vertical-align: top;\n",
              "    }\n",
              "\n",
              "    .dataframe thead th {\n",
              "        text-align: right;\n",
              "    }\n",
              "</style>\n",
              "<table border=\"1\" class=\"dataframe\">\n",
              "  <thead>\n",
              "    <tr style=\"text-align: right;\">\n",
              "      <th></th>\n",
              "      <th>0</th>\n",
              "    </tr>\n",
              "  </thead>\n",
              "  <tbody>\n",
              "    <tr>\n",
              "      <th>Title</th>\n",
              "      <td>0</td>\n",
              "    </tr>\n",
              "    <tr>\n",
              "      <th>CPU_Model</th>\n",
              "      <td>103</td>\n",
              "    </tr>\n",
              "  </tbody>\n",
              "</table>\n",
              "</div><br><label><b>dtype:</b> int64</label>"
            ]
          },
          "metadata": {},
          "execution_count": 337
        }
      ]
    },
    {
      "cell_type": "code",
      "source": [
        "# Merging df and df_cpu_missing dataframe\n",
        "df.loc[df_cpu_missing_again.index, 'CPU_Model'] = df_cpu_missing_again.CPU_Model"
      ],
      "metadata": {
        "id": "Y9xdJTwKrXS8"
      },
      "execution_count": 338,
      "outputs": []
    },
    {
      "cell_type": "code",
      "source": [
        "df.CPU_Model.unique()"
      ],
      "metadata": {
        "colab": {
          "base_uri": "https://localhost:8080/"
        },
        "id": "bofshgzIrpNK",
        "outputId": "5dc5dfb3-c1b2-47eb-ea64-63cb53e747b6"
      },
      "execution_count": 339,
      "outputs": [
        {
          "output_type": "execute_result",
          "data": {
            "text/plain": [
              "array(['core i5 ', 'core i5', 'core i7', 'ryzen 3', 'ryzen 5', 'core i9',\n",
              "       'ryzen 9', 'corei5', 'm1 ma', 'celeron n4', 'm1', 'ryzen 7', 'mf0',\n",
              "       'm2', 'm1 pro', 'm 7', 'm1 max', 'core i3', 'corei7', 'm 8', 'm1 ',\n",
              "       'celeron j4', 'celeron 6', 'amd a4', 'm 1', 'm2 ', 'mt8', 'amd a6',\n",
              "       'm 2', nan, 'celeron n5', 'celeron n3', 'amd 3', 'core 2',\n",
              "       'core n3', 'celeron 2', 'intel x5 ', 'mb3', 'pentium n6',\n",
              "       'celeron 3', 'core a1', 'm 5', 'ryzen 3 ', 'intel gma9', 'mk5',\n",
              "       'mk1', 'm5', 'intel i5', 'ryzen 7 ', 'mk5 ', 'm-5', 'ryzen 5 ',\n",
              "       'amd 6', 'm tmb1', 'core m3', 'pentium n5', 'm-n1', 'm7', 'core 7',\n",
              "       'm-n4', 'm2 pro ', 'core i7 ', 'intel 4', 'core n4', 'pentium 4',\n",
              "       'celeron 1', 'mt4', 'ryzen 3 pro', 'intel n4', 'msm8', 'celeron 4',\n",
              "       'core 8', 'intel n3', 'core n5', 'core i3 ', 'intel 1',\n",
              "       'celeron n2', 'intel 2', 'm x5', 'exynos 5', 'm x5 ', 'intel i7',\n",
              "       'exynos 5 o', 'm 3', 'amd a9', 'intel 3', 'ryzen5', 'intel j4'],\n",
              "      dtype=object)"
            ]
          },
          "metadata": {},
          "execution_count": 339
        }
      ]
    },
    {
      "cell_type": "code",
      "source": [
        "df.CPU_Model = df.CPU_Model.apply(lambda x : str(x).replace('core', '').replace('ryzen', 'r').replace('r ', 'r').replace('m ', 'm').replace('m-', 'm').replace('celeron', ''))\n",
        "df.CPU_Model = df.CPU_Model.apply(lambda x : str(x).replace('t8', '2').replace('intel', '').replace('pentiumn', 'i'))\n",
        "# removing white spaces around the cpu model string\n",
        "df.CPU_Model = df.CPU_Model.apply(lambda x : str(x).strip())"
      ],
      "metadata": {
        "id": "uZR5_l_FgDnq"
      },
      "execution_count": 340,
      "outputs": []
    },
    {
      "cell_type": "code",
      "source": [
        "df.CPU_Model.value_counts()"
      ],
      "metadata": {
        "colab": {
          "base_uri": "https://localhost:8080/",
          "height": 1000
        },
        "id": "9kr16gaXgUWw",
        "outputId": "1548e194-be5f-4ecf-a1df-ed25b6176dc7"
      },
      "execution_count": 341,
      "outputs": [
        {
          "output_type": "execute_result",
          "data": {
            "text/plain": [
              "CPU_Model\n",
              "i7            845\n",
              "i5            688\n",
              "n4            208\n",
              "i3            141\n",
              "r5            118\n",
              "i9            118\n",
              "r7            104\n",
              "nan           103\n",
              "m1             63\n",
              "r3             55\n",
              "m2             47\n",
              "n3             43\n",
              "r9             32\n",
              "m3             21\n",
              "2              14\n",
              "m5             11\n",
              "amd a4         10\n",
              "amd 3          10\n",
              "n5              9\n",
              "m7              8\n",
              "m1 pro          8\n",
              "1               6\n",
              "m1 max          5\n",
              "4               5\n",
              "pentium4        5\n",
              "amd a6          4\n",
              "n2              4\n",
              "3               4\n",
              "exynos 5        4\n",
              "amd 6           3\n",
              "mf0             3\n",
              "j4              3\n",
              "i6              2\n",
              "m8              2\n",
              "mx5             2\n",
              "6               2\n",
              "msm8            2\n",
              "m2 pro          2\n",
              "mk5             2\n",
              "exynos 5 o      1\n",
              "8               1\n",
              "r3 pro          1\n",
              "mt4             1\n",
              "mb3             1\n",
              "mn4             1\n",
              "7               1\n",
              "mn1             1\n",
              "mtmb1           1\n",
              "mk1             1\n",
              "gma9            1\n",
              "a1              1\n",
              "x5              1\n",
              "m1 ma           1\n",
              "amd a9          1\n",
              "Name: count, dtype: int64"
            ],
            "text/html": [
              "<div>\n",
              "<style scoped>\n",
              "    .dataframe tbody tr th:only-of-type {\n",
              "        vertical-align: middle;\n",
              "    }\n",
              "\n",
              "    .dataframe tbody tr th {\n",
              "        vertical-align: top;\n",
              "    }\n",
              "\n",
              "    .dataframe thead th {\n",
              "        text-align: right;\n",
              "    }\n",
              "</style>\n",
              "<table border=\"1\" class=\"dataframe\">\n",
              "  <thead>\n",
              "    <tr style=\"text-align: right;\">\n",
              "      <th></th>\n",
              "      <th>count</th>\n",
              "    </tr>\n",
              "    <tr>\n",
              "      <th>CPU_Model</th>\n",
              "      <th></th>\n",
              "    </tr>\n",
              "  </thead>\n",
              "  <tbody>\n",
              "    <tr>\n",
              "      <th>i7</th>\n",
              "      <td>845</td>\n",
              "    </tr>\n",
              "    <tr>\n",
              "      <th>i5</th>\n",
              "      <td>688</td>\n",
              "    </tr>\n",
              "    <tr>\n",
              "      <th>n4</th>\n",
              "      <td>208</td>\n",
              "    </tr>\n",
              "    <tr>\n",
              "      <th>i3</th>\n",
              "      <td>141</td>\n",
              "    </tr>\n",
              "    <tr>\n",
              "      <th>r5</th>\n",
              "      <td>118</td>\n",
              "    </tr>\n",
              "    <tr>\n",
              "      <th>i9</th>\n",
              "      <td>118</td>\n",
              "    </tr>\n",
              "    <tr>\n",
              "      <th>r7</th>\n",
              "      <td>104</td>\n",
              "    </tr>\n",
              "    <tr>\n",
              "      <th>nan</th>\n",
              "      <td>103</td>\n",
              "    </tr>\n",
              "    <tr>\n",
              "      <th>m1</th>\n",
              "      <td>63</td>\n",
              "    </tr>\n",
              "    <tr>\n",
              "      <th>r3</th>\n",
              "      <td>55</td>\n",
              "    </tr>\n",
              "    <tr>\n",
              "      <th>m2</th>\n",
              "      <td>47</td>\n",
              "    </tr>\n",
              "    <tr>\n",
              "      <th>n3</th>\n",
              "      <td>43</td>\n",
              "    </tr>\n",
              "    <tr>\n",
              "      <th>r9</th>\n",
              "      <td>32</td>\n",
              "    </tr>\n",
              "    <tr>\n",
              "      <th>m3</th>\n",
              "      <td>21</td>\n",
              "    </tr>\n",
              "    <tr>\n",
              "      <th>2</th>\n",
              "      <td>14</td>\n",
              "    </tr>\n",
              "    <tr>\n",
              "      <th>m5</th>\n",
              "      <td>11</td>\n",
              "    </tr>\n",
              "    <tr>\n",
              "      <th>amd a4</th>\n",
              "      <td>10</td>\n",
              "    </tr>\n",
              "    <tr>\n",
              "      <th>amd 3</th>\n",
              "      <td>10</td>\n",
              "    </tr>\n",
              "    <tr>\n",
              "      <th>n5</th>\n",
              "      <td>9</td>\n",
              "    </tr>\n",
              "    <tr>\n",
              "      <th>m7</th>\n",
              "      <td>8</td>\n",
              "    </tr>\n",
              "    <tr>\n",
              "      <th>m1 pro</th>\n",
              "      <td>8</td>\n",
              "    </tr>\n",
              "    <tr>\n",
              "      <th>1</th>\n",
              "      <td>6</td>\n",
              "    </tr>\n",
              "    <tr>\n",
              "      <th>m1 max</th>\n",
              "      <td>5</td>\n",
              "    </tr>\n",
              "    <tr>\n",
              "      <th>4</th>\n",
              "      <td>5</td>\n",
              "    </tr>\n",
              "    <tr>\n",
              "      <th>pentium4</th>\n",
              "      <td>5</td>\n",
              "    </tr>\n",
              "    <tr>\n",
              "      <th>amd a6</th>\n",
              "      <td>4</td>\n",
              "    </tr>\n",
              "    <tr>\n",
              "      <th>n2</th>\n",
              "      <td>4</td>\n",
              "    </tr>\n",
              "    <tr>\n",
              "      <th>3</th>\n",
              "      <td>4</td>\n",
              "    </tr>\n",
              "    <tr>\n",
              "      <th>exynos 5</th>\n",
              "      <td>4</td>\n",
              "    </tr>\n",
              "    <tr>\n",
              "      <th>amd 6</th>\n",
              "      <td>3</td>\n",
              "    </tr>\n",
              "    <tr>\n",
              "      <th>mf0</th>\n",
              "      <td>3</td>\n",
              "    </tr>\n",
              "    <tr>\n",
              "      <th>j4</th>\n",
              "      <td>3</td>\n",
              "    </tr>\n",
              "    <tr>\n",
              "      <th>i6</th>\n",
              "      <td>2</td>\n",
              "    </tr>\n",
              "    <tr>\n",
              "      <th>m8</th>\n",
              "      <td>2</td>\n",
              "    </tr>\n",
              "    <tr>\n",
              "      <th>mx5</th>\n",
              "      <td>2</td>\n",
              "    </tr>\n",
              "    <tr>\n",
              "      <th>6</th>\n",
              "      <td>2</td>\n",
              "    </tr>\n",
              "    <tr>\n",
              "      <th>msm8</th>\n",
              "      <td>2</td>\n",
              "    </tr>\n",
              "    <tr>\n",
              "      <th>m2 pro</th>\n",
              "      <td>2</td>\n",
              "    </tr>\n",
              "    <tr>\n",
              "      <th>mk5</th>\n",
              "      <td>2</td>\n",
              "    </tr>\n",
              "    <tr>\n",
              "      <th>exynos 5 o</th>\n",
              "      <td>1</td>\n",
              "    </tr>\n",
              "    <tr>\n",
              "      <th>8</th>\n",
              "      <td>1</td>\n",
              "    </tr>\n",
              "    <tr>\n",
              "      <th>r3 pro</th>\n",
              "      <td>1</td>\n",
              "    </tr>\n",
              "    <tr>\n",
              "      <th>mt4</th>\n",
              "      <td>1</td>\n",
              "    </tr>\n",
              "    <tr>\n",
              "      <th>mb3</th>\n",
              "      <td>1</td>\n",
              "    </tr>\n",
              "    <tr>\n",
              "      <th>mn4</th>\n",
              "      <td>1</td>\n",
              "    </tr>\n",
              "    <tr>\n",
              "      <th>7</th>\n",
              "      <td>1</td>\n",
              "    </tr>\n",
              "    <tr>\n",
              "      <th>mn1</th>\n",
              "      <td>1</td>\n",
              "    </tr>\n",
              "    <tr>\n",
              "      <th>mtmb1</th>\n",
              "      <td>1</td>\n",
              "    </tr>\n",
              "    <tr>\n",
              "      <th>mk1</th>\n",
              "      <td>1</td>\n",
              "    </tr>\n",
              "    <tr>\n",
              "      <th>gma9</th>\n",
              "      <td>1</td>\n",
              "    </tr>\n",
              "    <tr>\n",
              "      <th>a1</th>\n",
              "      <td>1</td>\n",
              "    </tr>\n",
              "    <tr>\n",
              "      <th>x5</th>\n",
              "      <td>1</td>\n",
              "    </tr>\n",
              "    <tr>\n",
              "      <th>m1 ma</th>\n",
              "      <td>1</td>\n",
              "    </tr>\n",
              "    <tr>\n",
              "      <th>amd a9</th>\n",
              "      <td>1</td>\n",
              "    </tr>\n",
              "  </tbody>\n",
              "</table>\n",
              "</div><br><label><b>dtype:</b> int64</label>"
            ]
          },
          "metadata": {},
          "execution_count": 341
        }
      ]
    },
    {
      "cell_type": "code",
      "source": [
        "# replacing models with frequency less than 25 to 'other'\n",
        "df.CPU_Model[df.CPU_Model.value_counts()[df.CPU_Model].values < 25] = 'other'"
      ],
      "metadata": {
        "colab": {
          "base_uri": "https://localhost:8080/"
        },
        "id": "aMq-FQcMm-3p",
        "outputId": "b18a4533-0c9c-4935-dc02-779da5632a13"
      },
      "execution_count": 342,
      "outputs": [
        {
          "output_type": "stream",
          "name": "stderr",
          "text": [
            "<ipython-input-342-6a0e877dd62c>:2: FutureWarning: ChainedAssignmentError: behaviour will change in pandas 3.0!\n",
            "You are setting values through chained assignment. Currently this works in certain cases, but when using Copy-on-Write (which will become the default behaviour in pandas 3.0) this will never work to update the original DataFrame or Series, because the intermediate object on which we are setting values will behave as a copy.\n",
            "A typical example is when you are setting values in a column of a DataFrame, like:\n",
            "\n",
            "df[\"col\"][row_indexer] = value\n",
            "\n",
            "Use `df.loc[row_indexer, \"col\"] = values` instead, to perform the assignment in a single step and ensure this keeps updating the original `df`.\n",
            "\n",
            "See the caveats in the documentation: https://pandas.pydata.org/pandas-docs/stable/user_guide/indexing.html#returning-a-view-versus-a-copy\n",
            "\n",
            "  df.CPU_Model[df.CPU_Model.value_counts()[df.CPU_Model].values < 25] = 'other'\n",
            "<ipython-input-342-6a0e877dd62c>:2: SettingWithCopyWarning: \n",
            "A value is trying to be set on a copy of a slice from a DataFrame\n",
            "\n",
            "See the caveats in the documentation: https://pandas.pydata.org/pandas-docs/stable/user_guide/indexing.html#returning-a-view-versus-a-copy\n",
            "  df.CPU_Model[df.CPU_Model.value_counts()[df.CPU_Model].values < 25] = 'other'\n"
          ]
        }
      ]
    },
    {
      "cell_type": "code",
      "source": [
        "df.CPU_Model.value_counts()"
      ],
      "metadata": {
        "colab": {
          "base_uri": "https://localhost:8080/",
          "height": 554
        },
        "id": "cbDdzdVva5yB",
        "outputId": "eb8e3150-4d0b-4ca0-b09c-5a4c2ca38dcd"
      },
      "execution_count": 343,
      "outputs": [
        {
          "output_type": "execute_result",
          "data": {
            "text/plain": [
              "CPU_Model\n",
              "i7       845\n",
              "i5       688\n",
              "n4       208\n",
              "other    166\n",
              "i3       141\n",
              "r5       118\n",
              "i9       118\n",
              "r7       104\n",
              "nan      103\n",
              "m1        63\n",
              "r3        55\n",
              "m2        47\n",
              "n3        43\n",
              "r9        32\n",
              "Name: count, dtype: int64"
            ],
            "text/html": [
              "<div>\n",
              "<style scoped>\n",
              "    .dataframe tbody tr th:only-of-type {\n",
              "        vertical-align: middle;\n",
              "    }\n",
              "\n",
              "    .dataframe tbody tr th {\n",
              "        vertical-align: top;\n",
              "    }\n",
              "\n",
              "    .dataframe thead th {\n",
              "        text-align: right;\n",
              "    }\n",
              "</style>\n",
              "<table border=\"1\" class=\"dataframe\">\n",
              "  <thead>\n",
              "    <tr style=\"text-align: right;\">\n",
              "      <th></th>\n",
              "      <th>count</th>\n",
              "    </tr>\n",
              "    <tr>\n",
              "      <th>CPU_Model</th>\n",
              "      <th></th>\n",
              "    </tr>\n",
              "  </thead>\n",
              "  <tbody>\n",
              "    <tr>\n",
              "      <th>i7</th>\n",
              "      <td>845</td>\n",
              "    </tr>\n",
              "    <tr>\n",
              "      <th>i5</th>\n",
              "      <td>688</td>\n",
              "    </tr>\n",
              "    <tr>\n",
              "      <th>n4</th>\n",
              "      <td>208</td>\n",
              "    </tr>\n",
              "    <tr>\n",
              "      <th>other</th>\n",
              "      <td>166</td>\n",
              "    </tr>\n",
              "    <tr>\n",
              "      <th>i3</th>\n",
              "      <td>141</td>\n",
              "    </tr>\n",
              "    <tr>\n",
              "      <th>r5</th>\n",
              "      <td>118</td>\n",
              "    </tr>\n",
              "    <tr>\n",
              "      <th>i9</th>\n",
              "      <td>118</td>\n",
              "    </tr>\n",
              "    <tr>\n",
              "      <th>r7</th>\n",
              "      <td>104</td>\n",
              "    </tr>\n",
              "    <tr>\n",
              "      <th>nan</th>\n",
              "      <td>103</td>\n",
              "    </tr>\n",
              "    <tr>\n",
              "      <th>m1</th>\n",
              "      <td>63</td>\n",
              "    </tr>\n",
              "    <tr>\n",
              "      <th>r3</th>\n",
              "      <td>55</td>\n",
              "    </tr>\n",
              "    <tr>\n",
              "      <th>m2</th>\n",
              "      <td>47</td>\n",
              "    </tr>\n",
              "    <tr>\n",
              "      <th>n3</th>\n",
              "      <td>43</td>\n",
              "    </tr>\n",
              "    <tr>\n",
              "      <th>r9</th>\n",
              "      <td>32</td>\n",
              "    </tr>\n",
              "  </tbody>\n",
              "</table>\n",
              "</div><br><label><b>dtype:</b> int64</label>"
            ]
          },
          "metadata": {},
          "execution_count": 343
        }
      ]
    },
    {
      "cell_type": "code",
      "source": [
        "df.shape"
      ],
      "metadata": {
        "colab": {
          "base_uri": "https://localhost:8080/"
        },
        "id": "3Oh0xGx-nxbO",
        "outputId": "8ff4d679-9ce2-4b14-d928-785dd05c3605"
      },
      "execution_count": 344,
      "outputs": [
        {
          "output_type": "execute_result",
          "data": {
            "text/plain": [
              "(2731, 17)"
            ]
          },
          "metadata": {},
          "execution_count": 344
        }
      ]
    },
    {
      "cell_type": "code",
      "source": [
        "df[df.CPU_Model == 'nan'].index"
      ],
      "metadata": {
        "colab": {
          "base_uri": "https://localhost:8080/"
        },
        "id": "ribeK_fuooe0",
        "outputId": "52441f1e-089e-49ba-a8c4-012b1784503c"
      },
      "execution_count": 345,
      "outputs": [
        {
          "output_type": "execute_result",
          "data": {
            "text/plain": [
              "Index([ 449,  458,  465,  467,  479,  491,  543,  551,  585,  614,\n",
              "       ...\n",
              "       2677, 2687, 2711, 2756, 2762, 2804, 2811, 2814, 2816, 2825],\n",
              "      dtype='int64', length=103)"
            ]
          },
          "metadata": {},
          "execution_count": 345
        }
      ]
    },
    {
      "cell_type": "code",
      "source": [
        "# removing rows with missing cpu model\n",
        "df.drop(df[df.CPU_Model == 'nan'].index, inplace=True)"
      ],
      "metadata": {
        "id": "R_7-5xR5nciJ"
      },
      "execution_count": 346,
      "outputs": []
    },
    {
      "cell_type": "code",
      "source": [
        "df.reset_index(drop=True, inplace=True)"
      ],
      "metadata": {
        "id": "HJHzO0KKZPWu"
      },
      "execution_count": 347,
      "outputs": []
    },
    {
      "cell_type": "code",
      "source": [
        "df.shape"
      ],
      "metadata": {
        "colab": {
          "base_uri": "https://localhost:8080/"
        },
        "id": "Pj3y_l1gZh5Q",
        "outputId": "7e6100f1-6dd8-4bd0-f84b-1ecab0b437c0"
      },
      "execution_count": 348,
      "outputs": [
        {
          "output_type": "execute_result",
          "data": {
            "text/plain": [
              "(2628, 17)"
            ]
          },
          "metadata": {},
          "execution_count": 348
        }
      ]
    },
    {
      "cell_type": "code",
      "source": [
        "df.columns"
      ],
      "metadata": {
        "colab": {
          "base_uri": "https://localhost:8080/"
        },
        "id": "TvagUlOEyzkw",
        "outputId": "880b4f42-5554-4490-ebdd-df12febb72b4"
      },
      "execution_count": 349,
      "outputs": [
        {
          "output_type": "execute_result",
          "data": {
            "text/plain": [
              "Index(['Title', 'Brand', 'Screen_Size', 'CPU_Model', 'Ram', 'Operating_System',\n",
              "       'Rating', 'Series', 'Color', 'Resolution', 'Weight', 'USB', 'Battery',\n",
              "       'Graphics', 'Disk_size', 'Card_desc', 'Price'],\n",
              "      dtype='object')"
            ]
          },
          "metadata": {},
          "execution_count": 349
        }
      ]
    },
    {
      "cell_type": "markdown",
      "source": [
        "## Handling the RAM feature\n",
        "\n",
        "RAM (Random Access Memory) is a crucial component in a laptop. It's the computer's short-term memory, temporarily storing data that the processor needs quick access to."
      ],
      "metadata": {
        "id": "PJfYCeNL1d8S"
      }
    },
    {
      "cell_type": "code",
      "source": [
        "df.Ram.isna().sum()"
      ],
      "metadata": {
        "colab": {
          "base_uri": "https://localhost:8080/"
        },
        "id": "aNhip9gKy49s",
        "outputId": "b7438878-0634-4e1d-94bb-e818060a7860"
      },
      "execution_count": 350,
      "outputs": [
        {
          "output_type": "execute_result",
          "data": {
            "text/plain": [
              "69"
            ]
          },
          "metadata": {},
          "execution_count": 350
        }
      ]
    },
    {
      "cell_type": "code",
      "source": [
        "df.Ram.unique()"
      ],
      "metadata": {
        "colab": {
          "base_uri": "https://localhost:8080/"
        },
        "id": "ZkPmJDsE1aXk",
        "outputId": "9295ebd4-860c-4ec9-cc48-0159523b9110"
      },
      "execution_count": 351,
      "outputs": [
        {
          "output_type": "execute_result",
          "data": {
            "text/plain": [
              "array(['8 gb', '16 gb', '4 gb', '64 gb', '32 gb', nan, '24 gb', '128 gb',\n",
              "       '12 gb', '20 gb', '36 gb', '2 gb', '6 gb', '1 tb', '40 gb',\n",
              "       '16 mb', '512 gb'], dtype=object)"
            ]
          },
          "metadata": {},
          "execution_count": 351
        }
      ]
    },
    {
      "cell_type": "code",
      "source": [
        "df.head()[['Title', 'Ram']].values"
      ],
      "metadata": {
        "colab": {
          "base_uri": "https://localhost:8080/"
        },
        "id": "KGWmaHiM1cK6",
        "outputId": "85c0ef2a-88bc-4523-8ffe-ccaf80f94c51"
      },
      "execution_count": 352,
      "outputs": [
        {
          "output_type": "execute_result",
          "data": {
            "text/plain": [
              "array([['microsoft surface laptop intel core i5 7th gen 8gb ram 256gb ssd win 10 platinum (renewed)',\n",
              "        '8 gb'],\n",
              "       ['microsoft surface laptop 3 13.5\" touch-screen intel core i5-8gb memory - 256gb solid state drive (latest model) matte black (renewed)',\n",
              "        '8 gb'],\n",
              "       ['microsoft surface laptop (intel core i7, 16gb ram, 512gb) - platinum (renewed)',\n",
              "        '16 gb'],\n",
              "       ['microsoft surface laptop 3, 10th gen intel core i5 (13.5-inch touchscreen - 8gb memory - 256gb ssd) - blue (renewed premium)',\n",
              "        '8 gb'],\n",
              "       ['2022 microsoft surface laptop go 12.4\" touchscreen, intel core i5-1035g1 processor, up to 13hr battery life, wifi, webcam, windows 11 pro, platinum silver (4gb ram | 256gb ssd)',\n",
              "        '4 gb']], dtype=object)"
            ]
          },
          "metadata": {},
          "execution_count": 352
        }
      ]
    },
    {
      "cell_type": "markdown",
      "source": [
        "**Observations**\n",
        "- Like other features, missing values for Ram can be extracted from the **Title** feature using the regular expressions"
      ],
      "metadata": {
        "id": "LfL4t72o2EWV"
      }
    },
    {
      "cell_type": "code",
      "source": [
        "df_ram_missing = df[df.Ram.isna()][['Title', 'Ram']]"
      ],
      "metadata": {
        "id": "3SJpS9Ud14Sk"
      },
      "execution_count": 353,
      "outputs": []
    },
    {
      "cell_type": "code",
      "source": [
        "def ram_retrieval(title):\n",
        "  \"\"\"\n",
        "  The function is responsible for retrieving the ram from the title.\n",
        "  Args\n",
        "  title : The title of the laptop.\n",
        "  Returns\n",
        "  ram : The ram of the laptop.\n",
        "  \"\"\"\n",
        "  # regular expression to find ram\n",
        "  ram_pattern = r\"(\\d+\\s*(?:gb|tb))\"\n",
        "  ram = re.findall(ram_pattern, title)\n",
        "  if ram:\n",
        "    return ram[0]\n",
        "  else:\n",
        "    return np.nan\n",
        "\n",
        "df_ram_missing.Ram = df_ram_missing.Title.apply(ram_retrieval)"
      ],
      "metadata": {
        "id": "6unvRuUs2Yg8"
      },
      "execution_count": 354,
      "outputs": []
    },
    {
      "cell_type": "code",
      "source": [
        "df_ram_missing.Ram.unique()"
      ],
      "metadata": {
        "colab": {
          "base_uri": "https://localhost:8080/"
        },
        "id": "G4OXRd1DDvd_",
        "outputId": "1c99dbda-7ac2-476a-c23d-88757bbde3e0"
      },
      "execution_count": 355,
      "outputs": [
        {
          "output_type": "execute_result",
          "data": {
            "text/plain": [
              "array([nan, '24gb', '4gb', '8gb', '16gb', '12gb', '256 gb', '32gb',\n",
              "       '64gb', '20gb', '8 gb'], dtype=object)"
            ]
          },
          "metadata": {},
          "execution_count": 355
        }
      ]
    },
    {
      "cell_type": "code",
      "source": [
        "df_ram_missing.Ram.isna().sum()"
      ],
      "metadata": {
        "colab": {
          "base_uri": "https://localhost:8080/"
        },
        "id": "2JOj52ts27Tq",
        "outputId": "b31907aa-ec92-43b8-da08-5ba43696921b"
      },
      "execution_count": 356,
      "outputs": [
        {
          "output_type": "execute_result",
          "data": {
            "text/plain": [
              "15"
            ]
          },
          "metadata": {},
          "execution_count": 356
        }
      ]
    },
    {
      "cell_type": "code",
      "source": [
        "df_ram_missing[df_ram_missing.Ram.isna()]['Title'].values"
      ],
      "metadata": {
        "colab": {
          "base_uri": "https://localhost:8080/"
        },
        "id": "hp9UOkQO28-A",
        "outputId": "6fe377e6-7a84-4aef-e36c-97944cf9d367"
      },
      "execution_count": 357,
      "outputs": [
        {
          "output_type": "execute_result",
          "data": {
            "text/plain": [
              "array(['ficihp 13.3\" laptop screen extender for m1 macbook one cable plug&play, cooling system triple portable monitor for laptop with usb c hdmi, monitor attachment for laptop frame 13-16 inch mac/android',\n",
              "       'b belk compatible with macbook air 13 inch case m1, macbook air case 2021 2020 2019 2018 model a2337 a2179 a1932 with touch id, clear plastic laptop hard shell + 2 keyboard covers + screen protector',\n",
              "       'toughbook cf-53salzalm 14\" led notebook - intel core i5 i5-3340m 2.70 ghz (renewed)',\n",
              "       'toughbook cf-52nkb102m 15.4\" notebook - intel core i5 i5-540m 2.53 ghz',\n",
              "       'cf-52,intelcore i3-330m 2.13ghz,15.4inch',\n",
              "       'panasonic toughbook cf-31agaea1m 13.1\" led notebook - core i5 i5-520m 2.40 ghz (cf-31agaea1m)',\n",
              "       'toughbook cf-31wxn291m 13.1\" touchscreen led (circulumin) notebook - intel core i5 i5-3340m 2.70 ghz',\n",
              "       'toughbook cf-31jegax1m 13.1\" notebook - core i5 i5-2520m 2.50 ghz - magnesium alloy',\n",
              "       'panasonic toughbook cf-31acaaa1m 13.1\" led notebook - core i5 i5-520m 2.40 ghz',\n",
              "       'toughbook cf-31sx-002m 13.1\" led notebook - intel core i5 2.60 ghz',\n",
              "       'panasonic toughbook cf-31jf7991m 13.1\" led notebook - intel core i5 i5-2520m 2.50 ghz - 1024 x 768',\n",
              "       'generic 15.6\" hd screen compatible with lenovo g50-80 (5d10g74897 nt156whm-n12) laptop replacement led lcd',\n",
              "       'boehydis nv156fhm-n42 replacement laptop lcd screen 15.6\" full-hd led diode (substitute only. not a ) (ips 1080p)',\n",
              "       'surface laptop 12\"',\n",
              "       'microsoft surface book tablet pc - 13.5\" - pixelsense - wireless lan - intel core i7 i7-6600u dual-core (2 core) 2.60 ghz - silver sw6-00001'],\n",
              "      dtype=object)"
            ]
          },
          "metadata": {},
          "execution_count": 357
        }
      ]
    },
    {
      "cell_type": "markdown",
      "source": [
        "**Observations**\n",
        "- Looks like Ram cannot be further extracted from the **Title** feature"
      ],
      "metadata": {
        "id": "iXM0FKe93dfU"
      }
    },
    {
      "cell_type": "code",
      "source": [
        "# merging back current dataframe with the original one\n",
        "df.loc[df_ram_missing.index, 'Ram'] = df_ram_missing.Ram"
      ],
      "metadata": {
        "id": "JuioFvwL3KzD"
      },
      "execution_count": 358,
      "outputs": []
    },
    {
      "cell_type": "code",
      "source": [
        "df.Ram.isna().sum()"
      ],
      "metadata": {
        "colab": {
          "base_uri": "https://localhost:8080/"
        },
        "id": "jl4mJqcf3zhv",
        "outputId": "10621cd7-4118-4d7e-f88f-b192cbc6002d"
      },
      "execution_count": 359,
      "outputs": [
        {
          "output_type": "execute_result",
          "data": {
            "text/plain": [
              "15"
            ]
          },
          "metadata": {},
          "execution_count": 359
        }
      ]
    },
    {
      "cell_type": "code",
      "source": [
        "# removing rows with missing Ram values\n",
        "df.drop(df[df.Ram.isna()].index, inplace=True)"
      ],
      "metadata": {
        "id": "Yc8MT3dH31cT"
      },
      "execution_count": 360,
      "outputs": []
    },
    {
      "cell_type": "code",
      "source": [
        "df.Ram.unique()"
      ],
      "metadata": {
        "colab": {
          "base_uri": "https://localhost:8080/"
        },
        "id": "PHMjDuoK38MQ",
        "outputId": "3237e60d-5be5-4da9-f8be-e9d598e81222"
      },
      "execution_count": 361,
      "outputs": [
        {
          "output_type": "execute_result",
          "data": {
            "text/plain": [
              "array(['8 gb', '16 gb', '4 gb', '64 gb', '32 gb', '24 gb', '24gb',\n",
              "       '128 gb', '12 gb', '20 gb', '36 gb', '4gb', '2 gb', '8gb', '6 gb',\n",
              "       '1 tb', '16gb', '12gb', '256 gb', '40 gb', '32gb', '64gb', '16 mb',\n",
              "       '512 gb', '20gb'], dtype=object)"
            ]
          },
          "metadata": {},
          "execution_count": 361
        }
      ]
    },
    {
      "cell_type": "code",
      "source": [
        "def unit_conversion(memory):\n",
        "  \"\"\"\n",
        "  This function is responsible for the unit conversion of memory\n",
        "  Args\n",
        "  memory : The memory of the laptop.\n",
        "  Returns\n",
        "  memory : The converted memory of the laptop (in gb).\n",
        "  \"\"\"\n",
        "\n",
        "  # seperating the unit(gb) from the numeric value\n",
        "  number = re.findall(r\"(\\d+)\", memory)[0].strip()\n",
        "  unit = ''\n",
        "  try:\n",
        "    unit = re.findall(r\"([a-z])\", memory)[0].strip()\n",
        "  except:\n",
        "    unit = 'g'\n",
        "  memory = int(float(number))\n",
        "\n",
        "  if unit == 't':\n",
        "    memory = memory * 1024\n",
        "  else:\n",
        "    memory = memory\n",
        "\n",
        "  return memory\n",
        "\n",
        "df.Ram = df.Ram.apply(unit_conversion)"
      ],
      "metadata": {
        "id": "vl8FRvHz5p-c"
      },
      "execution_count": 362,
      "outputs": []
    },
    {
      "cell_type": "code",
      "source": [
        "df.Ram = df.Ram.astype(int)\n",
        "df.Ram.unique()"
      ],
      "metadata": {
        "colab": {
          "base_uri": "https://localhost:8080/"
        },
        "id": "mVZV4E2V57FA",
        "outputId": "cc4e5e6a-6c05-490e-e54c-8c975e57c324"
      },
      "execution_count": 363,
      "outputs": [
        {
          "output_type": "execute_result",
          "data": {
            "text/plain": [
              "array([   8,   16,    4,   64,   32,   24,  128,   12,   20,   36,    2,\n",
              "          6, 1024,  256,   40,  512])"
            ]
          },
          "metadata": {},
          "execution_count": 363
        }
      ]
    },
    {
      "cell_type": "code",
      "source": [
        "unit_conversion('1 tb')"
      ],
      "metadata": {
        "colab": {
          "base_uri": "https://localhost:8080/"
        },
        "id": "vn5NlHRsGPC1",
        "outputId": "66513a98-f899-406d-c3ad-33769361617d"
      },
      "execution_count": 364,
      "outputs": [
        {
          "output_type": "execute_result",
          "data": {
            "text/plain": [
              "1024"
            ]
          },
          "metadata": {},
          "execution_count": 364
        }
      ]
    },
    {
      "cell_type": "code",
      "source": [
        "re.findall(r\"\\d+\", '1 tb')"
      ],
      "metadata": {
        "colab": {
          "base_uri": "https://localhost:8080/"
        },
        "id": "jchAEVp3GhZg",
        "outputId": "0a01155e-af66-410e-ce4b-fd81286622d1"
      },
      "execution_count": 365,
      "outputs": [
        {
          "output_type": "execute_result",
          "data": {
            "text/plain": [
              "['1']"
            ]
          },
          "metadata": {},
          "execution_count": 365
        }
      ]
    },
    {
      "cell_type": "code",
      "source": [
        "df.Ram.plot(kind='hist', bins=200)\n",
        "plt.xlabel('Ram in gb')"
      ],
      "metadata": {
        "colab": {
          "base_uri": "https://localhost:8080/",
          "height": 466
        },
        "id": "_8_QvZS08VXC",
        "outputId": "fd3a2a47-b8d8-4280-9c18-d08fb3efafac"
      },
      "execution_count": 366,
      "outputs": [
        {
          "output_type": "execute_result",
          "data": {
            "text/plain": [
              "Text(0.5, 0, 'Ram in gb')"
            ]
          },
          "metadata": {},
          "execution_count": 366
        },
        {
          "output_type": "display_data",
          "data": {
            "text/plain": [
              "<Figure size 640x480 with 1 Axes>"
            ],
            "image/png": "[encoded data removed]"
          },
          "metadata": {}
        }
      ]
    },
    {
      "cell_type": "code",
      "source": [
        "df.columns"
      ],
      "metadata": {
        "colab": {
          "base_uri": "https://localhost:8080/"
        },
        "id": "banJgkX459bT",
        "outputId": "e8299d41-169f-40f0-fedf-f157b8ed465b"
      },
      "execution_count": 367,
      "outputs": [
        {
          "output_type": "execute_result",
          "data": {
            "text/plain": [
              "Index(['Title', 'Brand', 'Screen_Size', 'CPU_Model', 'Ram', 'Operating_System',\n",
              "       'Rating', 'Series', 'Color', 'Resolution', 'Weight', 'USB', 'Battery',\n",
              "       'Graphics', 'Disk_size', 'Card_desc', 'Price'],\n",
              "      dtype='object')"
            ]
          },
          "metadata": {},
          "execution_count": 367
        }
      ]
    },
    {
      "cell_type": "markdown",
      "source": [
        "## Handling the **Disk_size** feature\n",
        "\n",
        "A hard disk is a storage device in a laptop that stores the operating system, applications, and user data. It uses magnetic storage on rotating platters to save and retrieve digital information. This dataset's hard disk feature specifies its storage capacity, typically measured in gigabytes (GB) or terabytes (TB)."
      ],
      "metadata": {
        "id": "A-sZRvzM7g_S"
      }
    },
    {
      "cell_type": "code",
      "source": [
        "df.Disk_size.unique()"
      ],
      "metadata": {
        "colab": {
          "base_uri": "https://localhost:8080/"
        },
        "id": "CFezH2rz7eQP",
        "outputId": "c045d9bc-3737-4908-a61a-8a0bc0f6a8e4"
      },
      "execution_count": 368,
      "outputs": [
        {
          "output_type": "execute_result",
          "data": {
            "text/plain": [
              "array(['256 gb', nan, '512 gb', '128 gb', '2 tb', '1 tb', '3 tb', '4 tb',\n",
              "       '320 gb', '512 tb', '32 gb', '1000 gb', '1000 tb', '64 gb', '64',\n",
              "       '4 gb', '500 gb', '240 gb', '16 gb', '250 gb', '1 gb', '628 gb',\n",
              "       '160 gb', '6 gb', '960 gb', '480 gb', '256', '512', '6 tb',\n",
              "       '1.5 tb', '180 gb', '120 gb', '1512 gb', '1256 gb', '1024 gb',\n",
              "       '1128 gb', '2000 gb', '0.01 gb', '80 gb', '384 gb', '300 gb', '1',\n",
              "       '1280 gb', '65 gb', '2', '128 tb', '511.98 gb'], dtype=object)"
            ]
          },
          "metadata": {},
          "execution_count": 368
        }
      ]
    },
    {
      "cell_type": "code",
      "source": [
        "df.Disk_size.isna().sum()"
      ],
      "metadata": {
        "colab": {
          "base_uri": "https://localhost:8080/"
        },
        "id": "Qtirk-Y870C4",
        "outputId": "ed339fe3-3be7-4c15-f257-fa6564fca017"
      },
      "execution_count": 369,
      "outputs": [
        {
          "output_type": "execute_result",
          "data": {
            "text/plain": [
              "465"
            ]
          },
          "metadata": {},
          "execution_count": 369
        }
      ]
    },
    {
      "cell_type": "code",
      "source": [
        "# filtering rows with missing disk size\n",
        "df_disk_missing = df[df.Disk_size.isna()][['Title', 'Disk_size']]"
      ],
      "metadata": {
        "id": "nsH2uuUW76AH"
      },
      "execution_count": 370,
      "outputs": []
    },
    {
      "cell_type": "code",
      "source": [
        "def disk_retrieval(title):\n",
        "  \"\"\"\n",
        "  The function is responsible for retrieving the ram from the title.\n",
        "  Args\n",
        "  title : The title of the laptop.\n",
        "  Returns\n",
        "  disk : The disk size of the laptop.\n",
        "  \"\"\"\n",
        "  # regular expression to find ram\n",
        "  disk_pattern = r\"(\\d+)\\s*(?:gb|tb)\"\n",
        "  disk = re.findall(disk_pattern, title)\n",
        "  if len(disk) > 1:\n",
        "    return disk[1]\n",
        "  else:\n",
        "    return np.nan\n",
        "\n",
        "df_disk_missing.Disk_size = df_disk_missing.Title.apply(disk_retrieval)"
      ],
      "metadata": {
        "id": "oPCI1xaC8QQ4"
      },
      "execution_count": 371,
      "outputs": []
    },
    {
      "cell_type": "code",
      "source": [
        "df_disk_missing.Disk_size.isna().sum()"
      ],
      "metadata": {
        "colab": {
          "base_uri": "https://localhost:8080/"
        },
        "id": "S6ggE7Mi9NP0",
        "outputId": "f45fc99c-1c16-4fd4-f71a-03b2b002ed02"
      },
      "execution_count": 372,
      "outputs": [
        {
          "output_type": "execute_result",
          "data": {
            "text/plain": [
              "17"
            ]
          },
          "metadata": {},
          "execution_count": 372
        }
      ]
    },
    {
      "cell_type": "code",
      "source": [
        "df_disk_missing[df_disk_missing.Disk_size.isna()].values"
      ],
      "metadata": {
        "colab": {
          "base_uri": "https://localhost:8080/"
        },
        "id": "VzKV065T-EzW",
        "outputId": "d9fe3b49-1b0f-4ac1-ae8b-8ccd76a5f617"
      },
      "execution_count": 373,
      "outputs": [
        {
          "output_type": "execute_result",
          "data": {
            "text/plain": [
              "array([['panasonic toughbook cf-54g2878vm 256gb ssd, 8rg ram, emissive backlit keyboard, windows 10 pro',\n",
              "        nan],\n",
              "       ['panasonic toughbook laptop cf-31 sblax!m new!', nan],\n",
              "       ['acer travelmate b3 tmb311-31-c343 - celeron n4020 / 1.1 ghz -',\n",
              "        nan],\n",
              "       ['hp victus 15.6\" gaming laptop pc, nvidia geforce rtx 3050 ti, amd ryzen 7 5800h, refined 1080p ips display, compact design, all-in-one keyboard with enlarged touchpad, hd webcam (15-fb0028nr, 2022)',\n",
              "        nan],\n",
              "       ['lg 15zt90p-g.am33u1 15\" gram lightweight notebook', nan],\n",
              "       ['lg gram laptop - 15.6\" full hd ips, intel 10th gen core i5 (10210u cpu), with microsoft 365 family 12-month subscription',\n",
              "        nan],\n",
              "       ['lg 17zt90p-g.ax33u1 17\" gram lightweight notebook', nan],\n",
              "       ['microsoft surface pro 3 (256 gb, intel core i5)(windows 10 professional 64 bit) (renewed)',\n",
              "        nan],\n",
              "       ['15.6 inch laptop,windows 10 pro, 1366×768 hd screen,intel celeron n5100 processor,6gb ram，128g ssd',\n",
              "        nan],\n",
              "       ['gigabyte [2020] aero 15s oled xb thin+light high performance laptop, 15.6\" 4k uhd oled display w/ 100% dci-p3, geforce rtx 2070 super max-q, i7-10875h, 16gb ddr4',\n",
              "        nan],\n",
              "       ['alienware aw13r3-7000slv-pus 13.3\" gaming laptop (7th generation intel core i7, 8gb ram, 256 ssd, silver) with nvidia gtx 1060',\n",
              "        nan],\n",
              "       ['alienware aw15r3-7002slv-pus 15.6\" gaming laptop (7th generation intel core i7, 8gb ram, 256 ssd, silver) with nvidia gtx 1060',\n",
              "        nan],\n",
              "       [\"hp 14'' chromebook laptop, intel celeron n4120, 4 gb ram, 64 emmc, hd display, chrome os, intel uhd graphics 600, long battery life, ash gray keyboard (14a-na0226nr, 2022, mineral silver) (renewed)\",\n",
              "        nan],\n",
              "       [\"2022 asus rog zephyrus 16'' fhd 165hz gaming laptop-intel core i7-12700h (beat i9-11900h), nvidia geforce rtx 3060 (tgp 120w) - with hdmi (40gb ddr5 ram\",\n",
              "        nan],\n",
              "       ['samsung chromebook 2 xe503c12 11.6\" led notebook - samsung exynos 5 5420 1.90 ghz - black - 4 gb ram - arm mali-t628 - chrome os 32-bit - 1366 x 768 display - bluetooth xe503c12-k01us (samsungxe503c12-k01us )',\n",
              "        nan],\n",
              "       [\"asus 2022 newest tuf gaming a15 15.6'' fhd 144hz laptop - amd ryzen 7 -6800h -rtx 3050 ti, ddr5, mux, rgb backlit kb, wifi 6, gray, win 11, w/hdmi (32gb ram\",\n",
              "        nan],\n",
              "       ['microsoft surface pro 3 (256 gb, intel core i5)(windows 10 professional 64 bit) (renewed)',\n",
              "        nan]], dtype=object)"
            ]
          },
          "metadata": {},
          "execution_count": 373
        }
      ]
    },
    {
      "cell_type": "code",
      "source": [
        "# merging the current dataframe with the original\n",
        "df.loc[df_disk_missing.index, 'Disk_size'] = df_disk_missing.Disk_size"
      ],
      "metadata": {
        "id": "ujjqCA2W-LRx"
      },
      "execution_count": 374,
      "outputs": []
    },
    {
      "cell_type": "code",
      "source": [
        "df.Disk_size.isna().sum()"
      ],
      "metadata": {
        "colab": {
          "base_uri": "https://localhost:8080/"
        },
        "id": "vfIYb7Hh-wYn",
        "outputId": "aacec551-ff39-406d-8934-ca5a33bb61ad"
      },
      "execution_count": 375,
      "outputs": [
        {
          "output_type": "execute_result",
          "data": {
            "text/plain": [
              "17"
            ]
          },
          "metadata": {},
          "execution_count": 375
        }
      ]
    },
    {
      "cell_type": "code",
      "source": [
        "# removing rows with missing disk size values\n",
        "df.drop(df[df.Disk_size.isna()].index, inplace=True)"
      ],
      "metadata": {
        "id": "X1qT0nfU_kqJ"
      },
      "execution_count": 376,
      "outputs": []
    },
    {
      "cell_type": "code",
      "source": [
        "df.Disk_size.isna().sum()"
      ],
      "metadata": {
        "colab": {
          "base_uri": "https://localhost:8080/"
        },
        "id": "ewgNq3AW_07w",
        "outputId": "919e7ff6-c297-43f4-90bf-57677dad19e2"
      },
      "execution_count": 377,
      "outputs": [
        {
          "output_type": "execute_result",
          "data": {
            "text/plain": [
              "0"
            ]
          },
          "metadata": {},
          "execution_count": 377
        }
      ]
    },
    {
      "cell_type": "code",
      "source": [
        "df.Disk_size.unique()"
      ],
      "metadata": {
        "colab": {
          "base_uri": "https://localhost:8080/"
        },
        "id": "zaDnpp-1AhsY",
        "outputId": "c18e1945-c8b0-4b9b-ce9b-edb07c3e38ff"
      },
      "execution_count": 378,
      "outputs": [
        {
          "output_type": "execute_result",
          "data": {
            "text/plain": [
              "array(['256 gb', '256', '512 gb', '128 gb', '2 tb', '1 tb', '1', '3 tb',\n",
              "       '4 tb', '320 gb', '2', '512', '512 tb', '32 gb', '1000 gb',\n",
              "       '1000 tb', '4', '64 gb', '64', '4 gb', '500 gb', '240 gb', '128',\n",
              "       '16 gb', '250 gb', '1 gb', '32', '628 gb', '160 gb', '16', '6 gb',\n",
              "       '160', '8', '960 gb', '480 gb', '6 tb', '1.5 tb', '180 gb', '12',\n",
              "       '120 gb', '1512 gb', '1256 gb', '1024 gb', '1128 gb', '2000 gb',\n",
              "       '0.01 gb', '80 gb', '384 gb', '960', '300 gb', '1280 gb', '65 gb',\n",
              "       '128 tb', '320', '511.98 gb'], dtype=object)"
            ]
          },
          "metadata": {},
          "execution_count": 378
        }
      ]
    },
    {
      "cell_type": "code",
      "source": [
        "# unit conversion of disk\n",
        "df.Disk_size = df.Disk_size.apply(unit_conversion)"
      ],
      "metadata": {
        "id": "bKOiMKp6_3Ut"
      },
      "execution_count": 379,
      "outputs": []
    },
    {
      "cell_type": "code",
      "source": [
        "df.Disk_size.unique()"
      ],
      "metadata": {
        "colab": {
          "base_uri": "https://localhost:8080/"
        },
        "id": "oRVKzcleCBZi",
        "outputId": "ed57afee-3341-4230-ab38-c69848605fb5"
      },
      "execution_count": 380,
      "outputs": [
        {
          "output_type": "execute_result",
          "data": {
            "text/plain": [
              "array([    256,     512,     128,    2048,    1024,       1,    3072,\n",
              "          4096,     320,       2,  524288,      32,    1000, 1024000,\n",
              "             4,      64,     500,     240,      16,     250,     628,\n",
              "           160,       6,       8,     960,     480,    6144,     180,\n",
              "            12,     120,    1512,    1256,    1128,    2000,       0,\n",
              "            80,     384,     300,    1280,      65,  131072,     511])"
            ]
          },
          "metadata": {},
          "execution_count": 380
        }
      ]
    },
    {
      "cell_type": "code",
      "source": [
        "df.Disk_size.isna().sum()"
      ],
      "metadata": {
        "colab": {
          "base_uri": "https://localhost:8080/"
        },
        "id": "JQkyPkaiCnO3",
        "outputId": "90bd547a-783a-442c-eeca-ec4b9987e4fa"
      },
      "execution_count": 381,
      "outputs": [
        {
          "output_type": "execute_result",
          "data": {
            "text/plain": [
              "0"
            ]
          },
          "metadata": {},
          "execution_count": 381
        }
      ]
    },
    {
      "cell_type": "code",
      "source": [
        "df.reset_index(drop=True, inplace=True)"
      ],
      "metadata": {
        "id": "xGpk-GPSCyl1"
      },
      "execution_count": 382,
      "outputs": []
    },
    {
      "cell_type": "code",
      "source": [
        "df[df.Ram >= df.Disk_size][['Title', 'Ram', 'Disk_size']].values"
      ],
      "metadata": {
        "colab": {
          "base_uri": "https://localhost:8080/"
        },
        "id": "5y5tRsmIC2IF",
        "outputId": "840936df-ab88-4a45-b96a-9459a5f2be8e"
      },
      "execution_count": 383,
      "outputs": [
        {
          "output_type": "execute_result",
          "data": {
            "text/plain": [
              "array([['excaliberpc 2022 msi creator z17 a12ugst-049 (i7-12700h, 32gb ram, 1tb nvme ssd, rtx 3070ti 8gb, 17\" qhd+ 165hz touch, windows 11 pro) content creation laptop',\n",
              "        32, 1],\n",
              "       ['excaliberpc 2022 msi raider ge67hx 12ugs-013 (i7-12800hx, 16gb ram, 1tb nvme ssd, rtx 3070ti 8gb, 15.6\" qhd 240hz, windows 11 pro) gaming laptop',\n",
              "        16, 1],\n",
              "       ['excaliberpc 2022 msi summit e13flipevo a12mt-013 (i7-1260p, 32gb ram, 1tb nvme ssd, intel iris xe, 13.4\" fhd+ touch, windows 11 pro) professional laptop',\n",
              "        32, 1],\n",
              "       ['excaliberpc 2022 msi creator z16p b12uht-041 (i7-12700h, 32gb ram, 1tb nvme ssd, rtx 3080 8gb, 16\" qhd+ 165hz touch, windows 11 pro) content creation laptop',\n",
              "        32, 1],\n",
              "       ['excaliberpc 2021 msi we76 11uk-460 (i7-11800h, 32gb ram, 1tb nvme ssd, quadro rtx a3000 6gb, 17.3\" 144hz fhd, windows 10 pro) mobile workstation laptop',\n",
              "        32, 1],\n",
              "       ['excaliberpc 2022 asus rog zephyrus duo 16 gx650rx-xs97 (amd ryzen 9 6900hx, 32gb ram, 2tb nvme ssd, rtx 3080ti 16gb, 16\" qhd+ 165hz, windows 11 pro) gaming laptop',\n",
              "        32, 2],\n",
              "       ['excaliberpc 2022 msi raider ge66 12uhs-236 (i7-12700h, 32gb ram, 1tb nvme ssd, rtx 3080ti 16gb, 15.6\" qhd 240hz, windows 11) gaming laptop',\n",
              "        32, 1],\n",
              "       ['excaliberpc 2022 msi stealth gs77 12uhs-040 (i9-12900h, 32gb ram, 1tb nvme ssd, rtx 3080ti 16gb, 17.3\" 4k uhd, windows 11 pro) gaming laptop',\n",
              "        32, 1],\n",
              "       ['excaliberpc 2022 msi pulse gl66 12ugok-825 (i9-12900h, 16gb ram, 1tb nvme ssd, rtx 3070 8gb, 15.6\" 165hz qhd, windows 11) gaming laptop',\n",
              "        16, 1],\n",
              "       ['excaliberpc 2022 asus zenbook pro duo 15 oled ux582zm-xs96t (i9-12900h, 32gb ram, 1tb nvme ssd, rtx 3060 6gb, 15.6\" fhd, windows 11 pro) touchscreen laptop - celestial blue',\n",
              "        32, 1],\n",
              "       ['excaliberpc 2022 msi vector gp76 12uhso-877 (i7-12650h, 16gb ram, 1tb nvme ssd, rtx 3080ti 16gb, 17.3\" fhd 360hz 3ms, windows 11) gaming laptop',\n",
              "        16, 1],\n",
              "       ['excaliberpc 2022 msi creator z16p b12uhst-040 (i7-12700h, 32gb ram, 1tb nvme ssd, rtx 3080ti 16gb, 16\" qhd+ 165hz touch, windows 11 pro) content creation laptop',\n",
              "        32, 1],\n",
              "       ['excaliberpc 2022 msi delta 15 a5efk-097 (amd ryzen 7 5800h, 16gb ram, 1tb nvme ssd, radeon rx6700m, 15.6\" full hd, windows 11) gaming laptop',\n",
              "        16, 1],\n",
              "       ['apple macbook pro 16\" with liquid retina xdr display, m1 pro chip with 10-core cpu and 16-core gpu, 32gb memory, 2tb ssd, space gray, late 2021',\n",
              "        32, 2],\n",
              "       ['apple macbook pro 16\" with liquid retina xdr display, m1 pro chip with 10-core cpu and 16-core gpu, 32gb memory, 1tb ssd, silver, late 2021',\n",
              "        32, 1],\n",
              "       ['apple 2021 macbook pro (14-inch, m1 pro chip with 10‑core cpu and 16‑core gpu, 16gb ram, 1tb ssd) - space gray applecare+ for 14-inch macbook pro',\n",
              "        16, 1],\n",
              "       ['apple macbook air 13.3\" with retina display, m1 chip with 8-core cpu and 7-core gpu, 16gb memory, 1tb ssd, space gray, late 2020',\n",
              "        16, 1],\n",
              "       ['apple 2021 macbook pro (14-inch, m1 max chip with 10‑core cpu and 32‑core gpu, 32gb ram, 1tb ssd) - space gray z15h00107',\n",
              "        32, 1],\n",
              "       ['apple 2021 macbook pro (14-inch, m1 max chip with 10‑core cpu and 32‑core gpu, 64gb ram, 2tb ssd) - space gray z15h0010e',\n",
              "        64, 2],\n",
              "       ['apple macbook pro 14\" with liquid retina xdr display, m1 max chip with 10-core cpu and 32-core gpu, 64gb memory, 1tb ssd, space gray, late 2021',\n",
              "        64, 1],\n",
              "       ['apple 2019 macbook pro with 2.3ghz intel core i9 (16-inch, 16gb ram, 2tb storage) - space gray (renewed)',\n",
              "        16, 2],\n",
              "       ['apple 2019 macbook pro with 2.3ghz intel core i9 (16-inch, 16gb ram, 2tb storage) - space gray (renewed)',\n",
              "        16, 2],\n",
              "       ['apple macbook pro 13.3\" with retina display, m2 chip with 8-core cpu and 10-core gpu, 24gb memory, 2tb ssd, space gray, mid 2022',\n",
              "        24, 2],\n",
              "       ['excaliberpc 2022 msi raider ge77hx 12uhs-082 (i9-12900hx, 32gb ram, 1tb nvme ssd, rtx 3080ti 16gb, 17.3\" qhd 240hz, windows 11 pro) gaming laptop',\n",
              "        32, 1],\n",
              "       ['msi ge76 raider gaming laptop intel core i7-11800h, geforce rtx 3060 130w, 17.3\" fhd 144hz, thunderbolt 4 type-c wi-fi 6 32gb ram 2tb nvme ssd, windows 10, w/ 32gb sd card',\n",
              "        32, 32],\n",
              "       ['excaliberpc 2022 msi raider ge77hx 12ugs-004 (i7-12800hx, 16gb ram, 1tb nvme ssd, rtx 3070ti 8gb, 17.3\" qhd 240hz, windows 11 pro) gaming laptop',\n",
              "        16, 1],\n",
              "       ['msi summit e14 a11scs-088 14\" uhd ultra thin and light professional laptop intel core i7-1185g7 nvidia geforce gtx1650ti max-q 16gb ddr4 1tb nvme ssd win10pro, ink black',\n",
              "        16, 1],\n",
              "       ['msi katana gf66 15.6\" 144hz 3ms fhd gaming laptop intel core i7-11800h rtx3060 16gb 1tbnvme ssd win10 - black (11ue-031)',\n",
              "        16, 1],\n",
              "       ['excaliberpc 2022 msi raider ge77hx 12uhs-074 (i7-12800hx, 16gb ram, 1tb nvme ssd, rtx 3080ti 16gb, 17.3\" fhd 360hz, windows 11) gaming laptop',\n",
              "        16, 1],\n",
              "       ['excaliberpc 2022 msi creator z17 a12ugst-049 (i7-12700h, 32gb ram, 1tb nvme ssd, rtx 3070ti 8gb, 17\" qhd+ 165hz touch, windows 11 pro) content creation laptop',\n",
              "        32, 1],\n",
              "       ['excaliberpc 2022 msi raider ge67hx 12ugs-070 (i7-12800hx, 16gb ram, 1tb nvme ssd, rtx 3070ti 8gb, 15.6\" qhd 240hz, windows 11) gaming laptop',\n",
              "        16, 1],\n",
              "       ['excaliberpc 2022 msi raider ge67hx 12ugs-013 (i7-12800hx, 16gb ram, 1tb nvme ssd, rtx 3070ti 8gb, 15.6\" qhd 240hz, windows 11 pro) gaming laptop',\n",
              "        16, 1],\n",
              "       ['msi prestige 15 a11scx-217 15.6\" uhd ultra thin and light professional laptop intel core i7-1185g7 nvidia geforce gtx1650 max-q 32gb ddr4 1tb nvme ssd win10pro, urban silver',\n",
              "        64, 1],\n",
              "       ['msi ge76 raider 17.3\" 360hz fhd display, intel core i7-11800h, nvidia geforce rtx3070, 32gb, 1tb nvme ssd, win10 ,titanium blue (11ug-054)',\n",
              "        32, 1],\n",
              "       ['msi ge66 raider 10sgs-288 15.6\" 300hz 3ms gaming laptop intel core i7-10875h rtx2080 super 32gb 1tb nvme ssd win10 vr ready',\n",
              "        64, 1],\n",
              "       ['excaliberpc 2022 msi pulse gl66 12ugok-825 (i9-12900h, 16gb ram, 1tb nvme ssd, rtx 3070 8gb, 15.6\" 165hz qhd, windows 11) gaming laptop',\n",
              "        16, 1],\n",
              "       ['msi gp66 leopard 15.6\" 144hz gaming laptop intel core i7-11800h rtx3070 16gb 1tb nvme ssd win11 vr ready - black (11ug-688)',\n",
              "        16, 1],\n",
              "       ['msi gs75 stealth-479 17.3\" gaming laptop 144hz display, thin bezel, intel core i9-9880h, nvidia geforce rtx2080, 32gb, 1tb nvme ssd, thunderbolt 3',\n",
              "        32, 1],\n",
              "       ['msi gp66 leopard 15.6\" 240hz 3.5ms gaming laptop intel core i7-11800h rtx3070 32gb 1tb nvme ssd win11 pro vr ready - black (11ug-687)',\n",
              "        32, 1],\n",
              "       ['excaliberpc 2022 msi summit e13flipevo a12mt-013 (i7-1260p, 32gb ram, 1tb nvme ssd, intel iris xe, 13.4\" fhd+ touch, windows 11 pro) professional laptop',\n",
              "        32, 1],\n",
              "       ['msi gs65 stealth thin-068 144hz 7ms ultra thin 4.9mm gaming laptop i7-8750h (6 cores), gtx 1070 8g, 32gb dram, 1tb nvme ssd, 15.6\", black w/ gold diamond cut, rgb kb, win 10 pro 64 bit',\n",
              "        32, 1],\n",
              "       ['excaliberpc 2022 msi raider ge66 12uhs-236 (i7-12700h, 32gb ram, 1tb nvme ssd, rtx 3080ti 16gb, 15.6\" qhd 240hz, windows 11) gaming laptop',\n",
              "        32, 1],\n",
              "       ['msi raider ge76 17.3\" fhd 360hz gaming laptop: intel core i9-12900hk rtx 3070 ti 32gb ddr5 1tb nvme ssd, usb-type c, thunderbolt 4, cooler boost 5, win11 home: titanium blue 12ugs-294',\n",
              "        32, 1],\n",
              "       ['msi prestige 15 a11scx-217 15.6\" uhd ultra thin and light professional laptop intel core i7-1185g7 nvidia geforce gtx1650 max-q 32gb ddr4 1tb nvme ssd win10pro, urban silver',\n",
              "        64, 1],\n",
              "       ['msi ge76 raider 17.3\" 360hz fhd display, intel core i9-11980hk, nvidia geforce rtx3080, 32gb, 1tb nvme ssd, win10 ,titanium blue (11uh-053)',\n",
              "        32, 1],\n",
              "       ['excaliberpc 2022 msi creator z16p b12uht-041 (i7-12700h, 32gb ram, 1tb nvme ssd, rtx 3080 8gb, 16\" qhd+ 165hz touch, windows 11 pro) content creation laptop',\n",
              "        32, 1],\n",
              "       ['apple macbook pro 14\" with liquid retina xdr display, m1 pro chip with 10-core cpu and 16-core gpu, 32gb memory, 1tb ssd, space gray, late 2021',\n",
              "        32, 1],\n",
              "       ['apple 2021 macbook pro (16-inch, m1 max chip with 10‑core cpu and 32‑core gpu, 32gb ram, 1tb ssd) - silver applecare+ for 16-inch macbook pro (m1)',\n",
              "        32, 1],\n",
              "       ['apple macbook pro 16\" with liquid retina xdr display, m1 max chip with 10-core cpu and 32-core gpu, 64gb memory, 4tb ssd, space gray, late 2021',\n",
              "        64, 4],\n",
              "       ['msi gs66 stealth 15.6\" fhd 240hz 2.5ms ultra thin and light gaming laptop intel core i7-11800h rtx3060 16gb 1tb nvme ssd win11 vr ready - black (11ue-662)',\n",
              "        16, 1],\n",
              "       ['excaliberpc 2022 msi titan gt77 12ugs-009 (i7-12800hx, 32gb ram, 1tb nvme ssd, rtx 3070ti 8gb, 17.3\" 4k uhd, windows 11 pro) gaming laptop',\n",
              "        32, 1],\n",
              "       ['msi summit 13.4\" touchscreen 2-in-1 intel evo platform laptop - 12th gen intel core i7-1280p - 1920 x 1200 - 120hz - windows 11 w/hdmi cable pen (16gb lpddr5 ram | 1tb pcie ssd)',\n",
              "        16, 1],\n",
              "       ['excaliberpc 2022 msi gp66 leopard 11ug-687 (i7-11800h, 32gb ram, 1tb nvme ssd, rtx 3070 8gb, 15.6\" 240hz fhd, windows 11 pro) gaming laptop',\n",
              "        32, 1],\n",
              "       ['apple 2021 macbook pro (14-inch, m1 pro chip with 10‑core cpu and 16‑core gpu, 16gb ram, 1tb ssd) - silver applecare+ for 14-inch macbook pro',\n",
              "        16, 1],\n",
              "       ['msi summit e13 13.4\" 2-in-1 laptop, 14 cores 12th gen intel evo core i7-1280p, 120hz, 100%srgb, 16:10, wi-fi 6e, dts, hi-res, thunberbolt 4, w/cloth and msi pen (16gb lpddr5 ram | 1tb pcie ssd)',\n",
              "        16, 1],\n",
              "       ['excaliberpc 2021 msi creator z16 a11uet-013 (i7-11800h, 32gb ram, 1tb nvme ssd, rtx 3060 6gb, 16\" qhd+ 120hz, windows 10 pro) content creation laptop',\n",
              "        32, 1],\n",
              "       ['excaliberpc 2022 asus rog zephyrus g14 ga402rk-g14.r96800 (amd ryzen 9 6900hs, 16gb ram, 1tb nvme ssd, amd radeon rx 6800s, 14\" wqxga 120hz, windows 11) gaming notebook - moonlight white',\n",
              "        16, 1],\n",
              "       ['msi titan gt77 17.3\" uhd 144hz mini led: intel core i9-13980hx, rtx 4080, 64gb ddr5, 2tb nvme ssd, thunderbolt 4, usb-type c, cooler boost titan, win 11 pro: core black 13vh-046us',\n",
              "        64, 2],\n",
              "       ['msi gs76 stealth gaming laptop: 17.3\" 300hz fhd 1080p display, intel core i7-11800h, nvidia geforce rtx 3080, 32gb, 1tb ssd, thunderbolt 4, wifi 6, win10, black (11uh-029)',\n",
              "        32, 1],\n",
              "       ['excaliberpc 2022 msi raider ge77hx 12ugs-004 (i7-12800hx, 16gb ram, 1tb nvme ssd, rtx 3070ti 8gb, 17.3\" qhd 240hz, windows 11 pro) gaming laptop',\n",
              "        16, 1],\n",
              "       ['excaliberpc 2022 msi gs66 stealth 11ue-662 (i7-11800h, 16gb ram, 1tb nvme ssd, rtx 3060 6gb, 15.6\" fhd 240hz, windows 11) gaming laptop',\n",
              "        16, 1],\n",
              "       ['excaliberpc 2022 msi raider ge67hx 12ugs-070 (i7-12800hx, 16gb ram, 1tb nvme ssd, rtx 3070ti 8gb, 15.6\" qhd 240hz, windows 11) gaming laptop',\n",
              "        16, 1],\n",
              "       ['excaliberpc 2022 asus proart studiobook 16 oled h7600zx-db79 (i7-12700h, 32gb ram, 2tb nvme ssd, rtx 3080ti 16gb, 16\" wquxga, windows 11) laptop',\n",
              "        32, 2],\n",
              "       ['2021 premium acer chromebook 15.6\" hd laptop light computer, intel celeron n4000, 4gb ram, 32gb emmc, hd webcam, intel uhd graphics 600, 12+ hours battey, sleeve, bluetooth, chrome os,w/marxsol cables',\n",
              "        4, 4],\n",
              "       ['acer 11.6\" touchscreen convertible spin 311 chromebook laptop, 32gb storage, silver (cp311-3h-k23x)',\n",
              "        32, 32],\n",
              "       ['acer swift 5 intel evo thin & light laptop | 14\" wxga ips 100% srgb touch | 12th gen intel i7-1260p | intel iris xe graphics | 16gb lpddr5 | 1tb gen 4 ssd | killer hdmi,wi-fi 6e ax1675 |sf514-56t-797t',\n",
              "        16, 1],\n",
              "       ['acer enduro urban n3 eun314-51w-70rf 14\" full hd notebook computer, intel core i7-1165g7 2.8ghz, 16gb ram, 1tb ssd, windows 10 home, free upgrade to windows 11, hunter green',\n",
              "        16, 1],\n",
              "       ['acer 2022 aspire 5 slim laptop, 15.6\" full hd display, amd ryzen 5 5500u hexa core processor, amd radeon graphics, wifi 6, backlit keyboard, windows 11 home (24gb ram | 1tb ssd)',\n",
              "        24, 1],\n",
              "       ['acer 2022 new nitro 5 - 15.6\" 144 hz ips - intel core i5 12th 12500h - nvidia geforce rtx 3050 - thunderbolt 4 - killer wi-fi 6 - windows 11- gaming laptop w/mouse pad (16gb ram |1tb pcie ssd)',\n",
              "        16, 1],\n",
              "       ['acer aspire 5 slim laptop, 15.6\" full hd ips display, amd ryzen7 5700u octa-core processor, amd radeon rx vega 8 graphics, 16gb ram, 1tb ssd, windows 11 home, fingerprint reader, twe hdmi cable',\n",
              "        16, 1],\n",
              "       ['acer swift 3 intel evo thin&light laptop | 14\" qhd 100% srgb | intel core i7-1260p | intel iris xe graphics | 16gb lpddr4x | 1tb ssd | killer wi-fi 6e ax1675|bluetooth| windows 11 home |sf314-512-73yz',\n",
              "        16, 1],\n",
              "       ['acer nitro 5 an517-54-77kg gaming laptop | intel core i7-11800h | nvidia geforce rtx 3050 ti laptop gpu | 17.3\" fhd 144hz ips display | 16gb ddr4 | 1tb nvme ssd | killer wifi 6 | backlit keyboard',\n",
              "        16, 1],\n",
              "       ['acer swift 3 oled intel evo thin & light laptop | 14\" oled 2880x1800 | intel core i7-12700h | intel iris xe graphics | 16gb lpddr5 | 1tb ssd | killer wi-fi 6e ax1675 | windows 11 home | sf314-71-75mw',\n",
              "        16, 1],\n",
              "       ['acer predator triton 300 se pt316-51s-74rm 16\" wqxga 240hz gaming notebook computer, intel core i7-12700h 2.3ghz, 16gb ram, 1tb ssd, nvidia geforce rtx 3070 ti 8gb, windows 11 home',\n",
              "        16, 1],\n",
              "       ['acer chromebook 315 laptop computer/ 15.6\" screen for business student/ amd quad-core a12-9720p0 up to 3.6ghz/ 4gb ddr4/ ipuzzle 32gb emmc/ 802.11ac wifi/ work from home/ silver/ chrome os',\n",
              "        32, 32],\n",
              "       ['acer nitro 5 - 15.6\" 144 hz ips - intel core i5 12th gen 12500h (12-core, 2.50ghz) - nvidia geforce rtx 3060 - thunderbolt 4 - windows 11 - gaming laptop – w/mouse pad (32gb ram | 2tb pcie ssd)',\n",
              "        32, 2],\n",
              "       ['bocconi leadbook t6 laptop | 15.6\" full hd 1920x1080 ips display | intel celeron n3450 quad-core | 6gb ddr3 | 128gb ssd | ac wifi | mini hdmi | windows 10 home',\n",
              "        6, 6],\n",
              "       ['fz-g1u/ea21/barcode scanner/mk5/core i5-7300u/2.60ghz /win10 pro 64 bit/ 10.1\" wuxga gloved multi touch + digitizer lcd /256gb ssd/8gb /wi-fi/bt/dual pass/rear cam/infrared hello webcam/tpm 2.0',\n",
              "        8, 8],\n",
              "       ['acer 2022 nitro 5 17.3\" fhd ips 144hz gaming laptop core i5 12500h(beats i7-11800h) nvidia rtx 3050 thunderbolt 4 intel killer ethernet w/mouse pad (16gb ram| 1tb pcie ssd)',\n",
              "        16, 1],\n",
              "       ['cf-31/mk6/16gb ram/1tb ssd/windows/intel core i5-7300u 2.60ghz/13.1\" xga touchscreen lcd/hdmi/gigabit lan/rj45/dual pass/usb 3.0/usb 2(3 ports)/9 pin serial port/vga/bt/wifi/standard keyboard',\n",
              "        1024, 1000],\n",
              "       ['panasonic cf-31sal781m win7, intel core i5-3320m 2.60ghz, vpro, 13.1 xga touch, 500gb(7200rpm), 4gb, in',\n",
              "        4, 4],\n",
              "       ['acer predator triton 500 se gaming/creator laptop | 12th gen intel i9-12900h | geforce rtx 3080 ti | 16\" wqxga 240hz g-sync display | 32gb lpddr5 | 1tb gen 4x4 ssd | killer wi-fi 6e | pt516-52s-99el',\n",
              "        32, 1],\n",
              "       ['aero 17 wa-7us1130so 17.3\" thin bezel 144hz fhd, i7-9750h, nvidia geforce rtx 2060 gddr6 6gb, samsung 16gb ddr4 2666mhz ram, pcie 512gb ssd, windows 10 home+office 365, rgb kb, ultra slim laptop',\n",
              "        16, 16],\n",
              "       ['hp victus 15.6\" gaming laptop - amd ryzen 7 5800h - geforce rtx 3050 ti - 144hz 1080p - windows 11 w/hdmi (16gb ram | 1tb pcie ssd)',\n",
              "        16, 1],\n",
              "       ['gigabyte aorus 5 ke4: 15.6\" thin bezel fhd 1920x1080 ips-level display, intel core i7-12700h, nvidia geforce rtx 3060 laptop gpu 6gb gddr6, 16gb ddr4 ram, 1tb ssd, win11 home (aorus 5 ke4-72us314sh)',\n",
              "        16, 16],\n",
              "       ['gigabyte aorus 17 wa-7us1130sh 17\" thin bezel 144hz fhd ips lcd, i7-9750h, rtx 2060 gddr6 6gb, 16gb ddr4 ram, m.2 pcie 512gb ssd, windows 10 home, extreme gaming laptop',\n",
              "        16, 16],\n",
              "       ['acer predator triton 500 se gaming/creator laptop | 12th gen intel i9-12900h | geforce rtx 3080 ti | 16\" wqxga 240hz g-sync display | 32gb lpddr5 | 1tb gen 4x4 ssd | killer wi-fi 6e | pt516-52s-99el',\n",
              "        32, 1],\n",
              "       ['gigabyte aero 16 xe5: 16\" 4k/uhd+ samsung amoled, intel core i7-12700h, nvidia geforce rtx 3070 ti laptop gpu 8gb gddr6, 16gb ddr5 ram, 1tb ssd, win11 home (aero 16 xe5-73us934hh)',\n",
              "        16, 16],\n",
              "       ['msi stealth 17 studio 17.3\" qhd 240hz gaming laptop: intel core i9-13900h, rtx 4080, 32gb ddr5, 1tb nvme ssd, thunderbolt 4, usb-type c, cooler boost trinity+, win11 home: core black a13vh-053us',\n",
              "        32, 1],\n",
              "       ['gigabyte aero 5 xe4 - 16\" 4k/uhd samsung amoled, intel core i7-12700h, nvidia geforce rtx 3070 ti gpu 8gb gddr6, 16gb ddr4 ram, 1tb ssd, win11 home laptop (aero 5 xe4-73us614sh)',\n",
              "        16, 16],\n",
              "       ['excaliberpc 2021 msi ws76 11um-468 mobile workstation laptop (i9-11900h, 64gb ram, 1tb nvme ssd, quadro rtx a5000 16gb, 17.3\" fhd, windows 10 pro) 3d professional notebook computer',\n",
              "        64, 1],\n",
              "       ['excaliberpc 2022 msi raider ge77hx 12uhs-074 (i7-12800hx, 16gb ram, 1tb nvme ssd, rtx 3080ti 16gb, 17.3\" fhd 360hz, windows 11) gaming laptop',\n",
              "        16, 1],\n",
              "       ['excaliberpc 2022 msi raider ge77hx 12uhs-082 (i9-12900hx, 32gb ram, 1tb nvme ssd, rtx 3080ti 16gb, 17.3\" qhd 240hz, windows 11 pro) gaming laptop',\n",
              "        32, 1],\n",
              "       ['lg newest gram 15.6\" ips 99% srgb touchscreen slim laptop, up to 5.0 ghz intel 11th gen i7-1195g7, backlit kb, wi-fi 6, 19.5 hr battery life, fingerprint, 2xthunderbolt 4 (16gb ram | 2tb pcie ssd)',\n",
              "        16, 2],\n",
              "       ['lg gram 15z90n laptop 15.6\" ips ultra-lightweight, (1920 x 1080), 10th gen intel core i7 , 16gb ram, 1tb ssd, windows 10 home, usb-c, hdmi, headphone input - silver',\n",
              "        16, 1],\n",
              "       ['lg gram 15z90n laptop 15.6\" ips ultra-lightweight, (1920 x 1080), 10th gen intel core i7 , 16gb ram, 1tb ssd, windows 10 home, usb-c, hdmi, headphone input - silver',\n",
              "        16, 1],\n",
              "       ['laptop 15-dy2097nr|intel core i7 11th gen|windows 11 home|256 gb ssd|intel iris xe graphics|12 gb ddr4|15.6\" display|2b5g1ua#aba',\n",
              "        12, 12],\n",
              "       ['lg gram 15 15z95n ultra lightweight 15.6\" fhd (intel i5-1135g7 (beat i7-1065g7), 16gb ram, 1tb ssd, uhd graphics) military grade business laptop, 21hr battery, backlit kb, webcam, windows 11 home',\n",
              "        16, 1],\n",
              "       ['gigabyte aero 16 xe5 - 16\" 4k/uhd+ samsung amoled, intel core i7-12700h, nvidia geforce rtx 3070 ti laptop gpu 8gb gddr6, 32gb ddr5 ram, 2tb ssd,win11 pro laptop (aero 16 xe5-73us948hp)',\n",
              "        32, 32],\n",
              "       ['gigabyte aorus 17 ye5 - 17.3\" fhd 1920x1080 ips-level display, intel core i7-12900h, nvidia geforce rtx 3080 ti laptop gpu 16gb gddr6, 32gb ddr5 ram, 1tb ssd, win11 home (aorus 17 ye5-a4us544sp)',\n",
              "        32, 32],\n",
              "       ['gigabyte aero 16 ye5 - 16\" 4k/uhd+ samsung amoled, intel core i9-12900h, nvidia geforce rtx 3080 ti laptop gpu 16gb gddr6, 64gb ddr5 ram, 2tb ssd, win11 pro (aero 16 ye5-a4us958hp)',\n",
              "        64, 64],\n",
              "       ['gigabyte aero 16 ye5: 16\" 4k/uhd+ samsung amoled, intel core i9-12900h, nvidia geforce rtx 3080 ti laptop gpu 16gb gddr6, 32gb ddr5 ram, 2tb ssd, win11 pro (aero 16 ye5-a4us948hp)',\n",
              "        32, 32],\n",
              "       ['gigabyte aorus 17 ye5: 17.3\" fhd 1920x1080 ips-level display, intel core i7-12700h, nvidia geforce rtx 3080 ti laptop gpu 16gb gddr6, 32gb ddr5 ram, 1tb ssd, win11 home (aorus 17 ye5-74us544sh)',\n",
              "        32, 32],\n",
              "       ['gigabyte aero 17 xe5 - 17.3\" 4k/uhd miniled 120hz, intel core i7-12700h, nvidia geforce rtx 3070 ti gpu 16gb gddr6, 16gb ddr5 ram, 2tb ssd, win11 pro, creator & gaming laptop (aero 17 xe5-73us738hp)',\n",
              "        16, 16],\n",
              "       ['gigabyte aero 17 ye5: 17.3\" 4k/uhd miniled 120hz, intel core i7-12700h, nvidia geforce rtx 3080 ti laptop gpu 16gb gddr6, 32gb ddr5 ram, 2tb ssd, win11 pro (aero 17 ye5-74us748hp)',\n",
              "        32, 32],\n",
              "       ['gigabyte aorus 17 ye5: 17.3\" fhd 1920x1080 ips-level display, intel core i7-12700h, nvidia geforce rtx 3080 ti laptop gpu 16gb gddr6, 32gb ddr5 ram, 1tb ssd, win11 home (aorus 17 ye5-74us544sh)',\n",
              "        32, 32],\n",
              "       ['gigabyte aero 17 ye5: 17.3\" 4k/uhd miniled 120hz, intel core i7-12700h, nvidia geforce rtx 3080 ti laptop gpu 16gb gddr6, 32gb ddr5 ram, 2tb ssd, win11 pro (aero 17 ye5-74us748hp)',\n",
              "        32, 32],\n",
              "       ['gigabyte g5 me: 15.6\" fhd 144hz, nvidia geforce rtx 3050 laptop gpu 6gb gddr6, intel core i5-12500h, 16gb memory, 512gb ssd, win11 home, gaming laptop (g5 me-51us213sh)',\n",
              "        32, 16],\n",
              "       ['acer predator triton 500 se gaming/creator laptop | 12th gen intel i9-12900h | geforce rtx 3080 ti | 16\" wqxga 240hz g-sync display | 32gb lpddr5 | 1tb gen 4x4 ssd | killer wi-fi 6e | pt516-52s-99el',\n",
              "        32, 1],\n",
              "       ['dell alienware area 51m laptop, 17.3-inch fhd (1920 x 1080), 9th gen intel core i9-9900k, 32gb (2x16gb) ram, 2 x 512gb ssd (raid0) + 1tb (+8gb ssh sshd, nvidia geforce rtx 2080, windows 10 (renewed)',\n",
              "        32, 32],\n",
              "       ['alienware m17 awm17 7257-17.3\" - i7-8750h - nvidia rtx 2070-16gb - 1tb hdd+256gb ssd',\n",
              "        16, 1],\n",
              "       ['dell alienware area 51m laptop, 17.3\" fhd (1920 x 1080), 9th gen intel core i9-9900k, 32gb (2x16gb) ram, 2 x 512gb ssd (raid0) + 1tb (+8gb sshd) sshd, nvidia geforce rtx 2080, windows 10',\n",
              "        32, 32],\n",
              "       ['lincplus p3 14 inch thin and light laptop pc, 4gb ram 128gb emmc 1080p full hd ips computer, intel celeron dual-core, mini notebook,windows 10 home in s mode,uk keyboard white',\n",
              "        128, 128],\n",
              "       ['alienware new m15 15.6 inch fhd gaming laptop (lunar light) intel core i7-10750h 10th gen, 32gb ddr4 ram, 1tb ssd, nvidia geforce rtx 2080 super 8gb gddr6, windows 10 home (awm15-7937wht-pus)',\n",
              "        32, 1],\n",
              "       ['alienware m15 awm15 7264-15.6\" - i7-8750h - nvidia gtx 1060-16gb - 1tb hdd+256gb ssd',\n",
              "        16, 1],\n",
              "       ['alienware m15 awm15 7264-15.6\" - i7-8750h - nvidia gtx 1060-16gb - 1tb hdd+256gb ssd (renewed)',\n",
              "        16, 1],\n",
              "       ['alienware x15 r2 gaming laptop - 15.6-inch fhd 360hz 1ms display, core i9-12900h, 16gb ram, 1tb ssd, nvidia geforce rtx 3070ti 8gb gddr6, usb-c, killer wifi 6, windows 11 home - lunar light',\n",
              "        16, 1],\n",
              "       ['alienware m15 r6 gaming laptop, 15.6 inch qhd 240hz display, intel core i7-11800h, 32gb ddr4 ram, 1tb ssd, nvidia geforce rtx 3080 8gb gddr6, windows 11 home, dark side of the moon',\n",
              "        32, 1],\n",
              "       ['alienware m15 r5 gaming laptop, 15.6 inch fhd 360hz 1ms g-sync display, amd ryzen r9 5900hx, geforce rtx 3070, 64gb ram, 2tb nvme ssd, killer wifi, rgb keyboard, windows 11, dark side of the moon',\n",
              "        64, 2],\n",
              "       ['msi prestige 14 evo 14\" fhd ultra thin and light professional laptop intel core i7-1185g7 intel iris xe 32gb ddr4 1tb nvme ssd win10home - gray (a11mo-217)',\n",
              "        32, 1],\n",
              "       ['msi raider ge77hx 17.3\" qhd 240hz gaming laptop: intel core i7-12800hx rtx 3070 ti 16gb ddr5 1tb nvme ssd, thunderbolt 4, usb-type c, cooler boost 5, win11 pro: dark grey 12uhs-004',\n",
              "        16, 1],\n",
              "       ['hp pavilion 15.6\" fhd touchscreen laptop, amd ryzen 7-5825u processor (beat i7-1180g7),32gb ram, 1tb pcie ssd, wi-fi 6, backlit keyboard, hdmi, webcam, bluetooth, windows 11 home, silver',\n",
              "        32, 1],\n",
              "       ['hp pavilion 15.6\" fhd touchscreen laptop, 12th gen intel core i7-1255u processor, intel iris xe graphics, wi-fi 6, hdmi, webcam, bluetooth, windows 11 home (32gb | 1tb ssd)',\n",
              "        32, 1],\n",
              "       ['hp 14 laptop, amd 3000 series processor, 32gb ram, 1tb storage, 14-inch micro-edge hd display, long battery life, webcam, thin & portable, windows 10 + one year of office365, rose gold',\n",
              "        32, 1],\n",
              "       ['hp pavilion x360 15.6 inch 2-in-1 laptop pc, 11th gen intel core i5-1135g7, 12 gb ram, 256 gb ssd storage, full hd ips micro-edge display, windows 10 home, hd webcam, audio by b&o (15-er0010nr, 2021)',\n",
              "        12, 0],\n",
              "       ['hp 17 laptop, 17.3\" hd+ touchscreen, amd ryzen 5 5625u, 32gb ddr4 ram, 1tb pcie nvme ssd, webcam, wi-fi, bluetooth, windows 11 home, silver',\n",
              "        32, 1],\n",
              "       ['hp pavilion 17.3-inch ips fhd laptop (2022 model), intel core i5-1135g7 (beats i7-1065g7), iris xe graphics, backlit keyboard, long battery life, wi-fi 5, windows 11 (16gb ram | 1tb pcie ssd)',\n",
              "        16, 1],\n",
              "       ['2022 hp fhd ips laptop, ryzen 3 processor up to 3.35ghz, 14-inch, 4gb ram, 1tb storage, super-fast wifi, windows 11, hdmi, dale silver (renewed)',\n",
              "        4, 1],\n",
              "       ['hp 17-cn1053cl home & business laptop, intel core i5-1155g7, 12gb ddr4 ram, 1tb hdd, iris xe graphics, windows 11 home (4s324ua#aba) (renewed)',\n",
              "        12, 1],\n",
              "       ['hp 2022 newest 15.6 hd micro-edge laptop，8-cores amd ryzen 7 5700u(up to 4.3ghz), 16gb ddr4 ram, 1tb pcie ssd, full-size kb, wifi 6, bluetooth 5.2, hdmi, windows 11, silver, w/ 3in1 accessories',\n",
              "        16, 1],\n",
              "       ['hp - spectre x360 2-in-1 13.5\" 3k2k oled touchscreen laptop - intel evo core i7 1195g7 2x tb4 mpp 2.0 tilt pen included windows 11 home+ hdmi cable (16gb ram | 1tb pcie ssd+32gb intel optane)',\n",
              "        16, 1],\n",
              "       ['hp victus gaming laptop, amd ryzen 7 5800h processor, geforce rtx 3050 ti, 15.6\" fhd 144hz ips display, webcam, wifi 6, hdmi, bluetooth, enlarged touchpad, windows 11, silver (32gb ram | 1tb ssd)',\n",
              "        32, 1],\n",
              "       ['2022 hp pavilion 17.3 inch ips fhd laptop, intel core i5-1135g7 (beats i7-1065g7), iris xe graphics, 16gb ram, 1tb pcie ssd, backlit keyboard, wifi 5, long battery life, webcam, windows 11',\n",
              "        16, 1],\n",
              "       ['hp victus gaming laptop, amd ryzen 7 5800h processor, geforce rtx 3050 ti, 15.6\" fhd 144hz ips display, webcam, wifi 6, hdmi, bluetooth, enlarged touchpad, windows 11, silver (32gb ram | 1tb ssd)',\n",
              "        32, 1],\n",
              "       ['2022 newest hp pavilion x360 2-in-1 laptop, 14 inch fhd multi-touch display, intel core i5-1135g7 (beats i7-1065g7), 16gb ram, 1tb ssd, ,windows 11 home, bundle with jawfoal',\n",
              "        16, 1],\n",
              "       ['hp pavilion 15.6\" touchscreen laptop - 10-core 12th gen intel core i5-1235u - 1080p - windows 11 - intel® iris® xe graphics - w/hdmi cable (32gb ram | 1tb pcie ssd)',\n",
              "        32, 1],\n",
              "       ['2022 newest hp pavilion x360 2-in-1 laptop, 14 inch fhd multi-touch display, intel core i5-1135g7 (beats i7-1065g7), 16gb ram, 1tb ssd, ,windows 11 home, bundle with jawfoal',\n",
              "        16, 1],\n",
              "       ['hp 17 laptop, 17.3\" hd+ touchscreen, amd ryzen 5 5625u, 32gb ddr4 ram, 1tb pcie nvme ssd, webcam, wi-fi, bluetooth, windows 11 home, silver',\n",
              "        32, 1],\n",
              "       ['lincplus p3 14 inch thin and light laptop pc, 4gb ram 128gb emmc 1080p full hd ips computer, intel celeron dual-core, mini notebook,windows 10 home in s mode,uk keyboard white',\n",
              "        128, 128],\n",
              "       ['samsung galaxy book2 pro 13.3” 256gb laptop computer w/ 8gb ram, 12th gen intel core i5 evo certified processor, amoled screen, long lasting battery, thin design, 2022, us version, silver',\n",
              "        8, 8],\n",
              "       ['dell 2022 newest inspiron 15 3000 series laptop, 15.6\" fhd touchscreen anti-glare, 10th gen intel core i5-1035g1 quad-core processor, hdmi, webcam, windows 11, black (16gb ram | 1 tb ssd)',\n",
              "        16, 1],\n",
              "       ['dell xps 13 9320 plus 13.4\" laptop intel core i5-1240p (12-core) 512gb pcie ssd 16gb ram fhd+ (1920x1200) infinityedge touch win 11 pro (renewed) (silver)',\n",
              "        16, 16],\n",
              "       ['dell latitude 5400 14\" laptop intel core i5-8365u 256gb pcie ssd 16gb ram full hd (1920x1080) hd webcam win 10 pro (certified refurb)',\n",
              "        16, 16],\n",
              "       ['asus zenbook 14x 14 16:10 oled 2.8k (2880 x 1800) touch laptop core i7-1165g7 nvidia geforce mx450 win11 pro 550 nits 100% dci-p3 pantone backlit kb harman / kardon w/hdmi (16gb ram | 1tb pcie ssd)',\n",
              "        16, 1],\n",
              "       ['asus zenbook 14\" oled 2.8k (2880 x 1800) touchscreen laptop core i7-1165g7 nvidia geforce mx450 550 nits 100% dci-p3 pantone backlit kb harman / kardon win11 pro w/mousepad (16gb ram | 1tb pcie ssd)',\n",
              "        16, 1],\n",
              "       ['asus 2022 newest rog zephyrus 14\" fhd 144hz gaming laptop - amd ryzen 7 5800hs - nvidia geforce rtx 3060 - moonlight white w/mouse pad (40gb ram|1tb pcie ssd)',\n",
              "        40, 1],\n",
              "       ['asus rog zephyrus s15 gaming laptop, 300hz 15.6\" fhd 3ms ips level, intel core i7-10875h, nvidia geforce rtx 2080 super, 32gb ddr4, 1tb raid 0 ssd, wi-fi 6, per-key rgb, windows 10 pro, gx502lxs-xs79',\n",
              "        32, 1],\n",
              "       ['asus rog zephyrus g15 15.6\" 165hz qhd (2560x1440) slim gaming laptop, 8 cores amd ryzen 9 5900hs, geforce rtx 3060, 100% dci-p3 pantone, rgb backlit kb, wi-fi 6 (24gb ram | 1tb pcie ssd)',\n",
              "        24, 1],\n",
              "       ['asus laptop l406 thin and light laptop, 14” hd display, intel celeron n4000 processor, 4gb ram, 64gb emmc storage, wi-fi 5, windows 10, microsoft 365, slate gray, l406ma-wh02',\n",
              "        4, 1],\n",
              "       ['asus ux303la-ds52t laptop (windows 8.1, intel core i5-5200u 2.20 ghz, 13\" led-lit screen, storage: 256 gb, ram: 8 gb) silver',\n",
              "        8, 8],\n",
              "       ['asus slim vivobook s 14x laptop 14.5\" oled 2.8k(2880 x 1800 100% dci-p3 120hz 16:10 600nits) 14-core intel evo 12th gen i7-12700h thunderbolt 4 wi-fi 6e +hdmi cable (24gb ram | 1tb pcie ssd)',\n",
              "        24, 1],\n",
              "       ['asus vivobook pro 16x 16 oled 4k uhd wquxga (3840 x 2400) slim laptop core i7-11370h nvidia geforce rtx 3050 backlit kb 100% dci-p3 pantone win11 pro w/hdmi (16gb ram | 2tb ssd)',\n",
              "        16, 2],\n",
              "       ['asus vivobook x712 laptop; 17.3\" hd+ 1600x900; intel i5-1035g1 4-core; 12gb ram, 1tb hdd; intel uhd; bluetooth, win 11 home s with 1yr antivirus',\n",
              "        12, 1],\n",
              "       ['asus rog zephyrus s15 gaming laptop, 300hz 15.6\" fhd 3ms ips level, intel core i7-10875h, nvidia geforce rtx 2080 super, 32gb ddr4, 1tb raid 0 ssd, wi-fi 6, per-key rgb, windows 10 pro, gx502lxs-xs79',\n",
              "        32, 1],\n",
              "       ['asus chromebook vibe cx34 flip cloud gaming laptop with stylus, 14\" 144 hz touch display (1920x1200), intel® core™ i5-1235u processor, 256gb ssd, 8gb ram, chromeos, pearl white, cx3401fba-dh586t-s',\n",
              "        8, 8],\n",
              "       ['dell xps 15 9520 (latest model) intel 12th gen core i9-12900hk (14-core) 2tb pcie ssd 64gb ddr5 ram fhd+ non touch rtx 3050ti win 11 pro (certified refurb)',\n",
              "        64, 1],\n",
              "       ['dell xps 15 9520 (latest model) intel 12th gen core i7-12700h (14-core) 512gb pcie ssd 16gb ddr5 ram fhd+ non touch rtx 3050 win 11 pro (renewed)',\n",
              "        16, 16],\n",
              "       ['dell latitude 5491 laptop 14 - intel core i5 8th gen - i5-8300h - quad core 4ghz - 512gb ssd - 16gb ram - 1920x1080 fhd - windows 10 pro (renewed)',\n",
              "        16, 16],\n",
              "       ['asus vivobook pro 16x oled 16\" 4k uhd 16:10 display slim laptop intel core i7-11370h nvidia geforce rtx 3050 backlit kb 100% dci-p3 pantone win11 pro w/hdmi (16gb ram | 1tb ssd)',\n",
              "        16, 1],\n",
              "       ['asus expertbook b9450 thin and light business-laptop, 14â fhd, intel core i7-10510u-processor, 512gb pcie ssd, 16gb-ram, windows 10 pro, up to 24 hrs-battery life,-sleeve, b9450fa-xs74 (renewed)',\n",
              "        16, 16],\n",
              "       ['asus 15.6\" rog strix g15 laptop - amd ryzen 7 4800h - geforce rtx 3060 – win 11 home-with hdmi cable (32gb ram | 1tb pcie ssd)',\n",
              "        32, 1],\n",
              "       ['asus zenbook 14x oled laptop, 14” 2.8k 16:10 display, intel core i7-12700h cpu, intel iris xe graphics, 16gb ram, 1tb ssd, windows 11 home, wi-fi 6e, pine grey, ux5401za-ps74',\n",
              "        16, 1],\n",
              "       ['dell latitude 5400 14\" laptop intel core i5-8365u 256gb pcie ssd 16gb ram full hd (1920x1080) hd webcam win 10 pro (certified refurb)',\n",
              "        16, 16],\n",
              "       ['asus tuf gaming f17 gaming & entertainment laptop (intel i7-12700h 14-core, 16gb ddr5 4800mhz ram, 1tb ssd, geforce rtx 3050 ti, 17.3\" 144hz win 11 home) with d6000 dock',\n",
              "        16, 1],\n",
              "       ['15.6\" s15 n2 full hd windows 11 professional slim n light laptop - intel n4020 - 128gb storage, 4gb ram, intel dual-core dedicated num-pad, dual-band wifi, expandable storage',\n",
              "        4, 4],\n",
              "       ['asus rog zephyrus duo 16 gaming laptop, 16” 165hz rog nebula hdr qhd 16:10 display, nvidia geforce rtx 3080 ti, amd ryzen 9 6900hx, 32gb ddr5, 2tb ssd, windows 11 pro, gx650rx-xs97',\n",
              "        32, 2],\n",
              "       ['asus zenbook 14x 14 16:10 oled 2.8k (2880 x 1800) touchscreen slim laptop | core i7-1165g7 | nvidia geforce mx450 | windows 11 pro | backlit kb | harman / kardon | w/hdmi (16gb ram | 1tb pcie ssd)',\n",
              "        16, 1],\n",
              "       ['samsung notebook 9 pen 13.3”-intel core i7-8gb memory-512gb ssd (renewed)',\n",
              "        512, 512],\n",
              "       ['asus vivobook s 14x 14.5 oled 2.8k 120hz 16:10 600nits laptop 14-core intel evo 12th gen i7-12700h 100% dci-p3 0.2ms pantone backlit kb wi-fi 6e thunderbolt 4 dts w/hdmi (16gb ram | 1tb pcie ssd)',\n",
              "        16, 1],\n",
              "       ['asus zenbook pro 17 17.3” touch display, 165hz refresh rate, amd ryzen 9 6900hx cpu, geforce rtx 3050 graphics, 16gb ram, 1tb ssd, windows 11 home, tech black, um6702rc-ds94t',\n",
              "        16, 1],\n",
              "       ['samsung - galaxy book2 pro 360 2-in-1 15.6” amoled touch screen laptop - intel 12th gen evo core i7 1260p lpddr5 memory s pen w/mouse pad – silver (16gb ram | 1tb ssd)',\n",
              "        16, 1],\n",
              "       ['asus vivobook pro 15x oled laptop, 15.6” oled display, intel core\\xa0i7-12650h cpu, nvidia geforce rtx 3060 gpu, 16gb ram, 1tb ssd, windows 11 home, black, k6501zm-eb74',\n",
              "        16, 1],\n",
              "       ['samsung galaxy chromebook enterprise (256gb storage, 8gb ram), mercury gray - xe931qca-k01us',\n",
              "        8, 8],\n",
              "       ['dell latitude 13 5330 laptop - 13.3\" wva fhd touch screen display - 3.6 ghz intel core i7-1265u 10-core (12th gen) - 256gb ssd - 16gb ram - windows 11 pro',\n",
              "        16, 16],\n",
              "       ['lincplus p3 14 inch thin and light laptop pc, 4gb ram 128gb emmc 1080p full hd ips computer, intel celeron dual-core, mini notebook,windows 10 home in s mode,uk keyboard white',\n",
              "        128, 128],\n",
              "       ['dell latitude 7420 14\" intel core i5-1145g7 256gb pcie ssd 16gb fhd touch (1920x1080) 300 nit ir cam win 11 pro (certified refurb)',\n",
              "        16, 16],\n",
              "       ['2022 newest asus chromebook 17.3\" fhd 1080p widescreen light laptop, intel celeron n4500 (up to 2.8ghz), 4gb ram, 32gb emmc,hd webcam,uhd graphics, wifi 6, 17+ hours battery,chrome os,w/marxsolcables',\n",
              "        32, 32],\n",
              "       ['asus - rog zephyrus 14” wqxga 120hz gaming laptop – amd ryzen 9 6900hs– amd radeon rx 6700s-window 11 home，with hdmi cable(16gb ram | 1tb ssd)',\n",
              "        16, 1],\n",
              "       ['asus zenbook 14x oled space edition laptop, 14” 2.8k 16:10 oled touch display, intel core i9-12900h cpu, 32gb ram, 1tb ssd, windows 11 pro, zenvision display, ux5401zas-xs99t',\n",
              "        32, 1],\n",
              "       ['dell precision 5570 15.6\" workstation (2022 model) intel 12th gen i9-12900h(14-core) 1tb ssd 32gb ddr5 ram nvidia rtx a2000 fhd+ (1920x1200) non-touch win 11 pro (renewed)',\n",
              "        32, 32],\n",
              "       ['dell precision 5570 15.6\" workstation (2022 model) intel 12th gen i7-12700h(14-core) 512gb ssd 32gb ddr5 ram nvidia rtx a2000 fhd+ (1920x1200) non-touch win 11 pro (renewed)',\n",
              "        32, 32],\n",
              "       ['asus rog zephyrus g15 ultra slim gaming laptop, 15.6” 165hz qhd display, geforce rtx 3080, amd ryzen 9 5900hs, 16gb ddr4, 1tb pcie nvme ssd, wi-fi 6, windows 10, eclipse gray, ga503qs-bs96q',\n",
              "        16, 1],\n",
              "       ['samsung chromebook plus (wifi + lte verizon) chrome os 12.2\" hd touchscreen intel celeron 3965y 4gb ram 32gb emmc - xe525qbb-k01us (stealth silver)',\n",
              "        4, 1],\n",
              "       ['dell xps 15 9520 (latest model) intel 12th gen core i9-12900hk (14-core) 1tb pcie ssd 32gb ddr5 ram fhd+ non touch rtx 3050ti win 11 pro (certified refurb)',\n",
              "        32, 32],\n",
              "       ['dell xps 13 9320 plus 13.4\" laptop intel core i5-1240p (12-core) 512gb pcie ssd 16gb ram 3.5k oled (3456x2160) infinityedge touch win 11 pro (renewed)',\n",
              "        16, 16],\n",
              "       ['dell latitude 3420 laptop 14” fhd - 11th generation intel core i7- 1165g7 – 512gb ssd – 32gb ddr4 - windows 10 pro - intel iris xe graphics - new',\n",
              "        32, 32],\n",
              "       ['asus rog strix g15 (2022) gaming laptop, 15.6” 300hz ips fhd display, nvidia geforce rtx 3060, amd ryzen 7 6800h, 16gb ddr5, 1tb ssd, rgb keyboard, windows 11 home, g513rm-is74',\n",
              "        16, 1],\n",
              "       ['asus newest vivobook 17.3\" hd+ thin and light laptop, intel core i5-1035g1 processor, hd webcam, hdmi, wi-fi 5, bluetooth, transparent silver, windows 11 (20gb ram | 1tb sdd)',\n",
              "        20, 1],\n",
              "       ['lincplus laptop 14 inch thin light pc,intel celeron full hd ips computer 4gb ddr 64gb emmc mini metal netbook,support 128gb tf cardand 1tb ssd expansion,windows 10 home in s mode',\n",
              "        64, 64],\n",
              "       ['samsung - galaxy book2 pro 360 2-in-1 15.6” amoled touch screen laptop - intel 12th gen evo core i7 1260p lpddr5 memory s pen w/mouse pad – silver (16gb ram | 1tb ssd)',\n",
              "        16, 1],\n",
              "       ['microsoft surface pro 7 – 12.3\" touch-screen - 10th gen intel core i7 - 16gb memory – 1tb ssd – platinum',\n",
              "        16, 1],\n",
              "       ['microsoft surface laptop studio 14.4-inch touchscreen, 512gb ssd, i7, 16gb ram with windows 10 pro (core i7-11370h, wi-fi, geforce rtx 3050 ti, latest model) platinum, abr-00026',\n",
              "        16, 16],\n",
              "       ['microsoft surface laptop 4 13.5-inch touchscreen 512gb ssd i7 16gb ram with windows 10 pro (core i7-1185g7, wi-fi, latest model) matte black, 5f1-00001',\n",
              "        16, 16],\n",
              "       ['microsoft surface pro 8 - 13\" touchscreen - intel® evo platform core™ i7 - 16gb memory - 1tb ssd - device only - platinum (latest model)',\n",
              "        16, 1],\n",
              "       ['microsoft surface book 3 (snk-00001) | 15in (3240 x 2160) touch-screen | intel core i7 processor | 32gb ram | 2tb ssd storage | windows 10 pro | geforce gtx 1660 gpu',\n",
              "        32, 2],\n",
              "       ['microsoft surface laptop go 12.4\" light weight, touchscreen, 10th gen intel core i5-1035g1, intel uhd graphics, 4gb ram, 64gb ssd, windows 10/11 pro, webcam, wifi 6, platinum, with mtc stylus pen',\n",
              "        64, 64],\n",
              "       ['microsoft surface book 2 15\" (intel core i7, 16gb ram, 1 tb) (renewed)',\n",
              "        16, 1],\n",
              "       ['microsoft surface laptop 2 (intel core i7, 16gb ram, 1tb) - platinum',\n",
              "        8, 1],\n",
              "       ['microsoft surface laptop 4 13.5-inch touchscreen 512gb ssd i7 16gb ram with windows 10 pro (core i7-1185g7, wi-fi, latest model) matte black, 5f1-00001',\n",
              "        16, 16],\n",
              "       ['samsung 15.6” galaxy book2 pro with intel arc laptop computer, i7 / 32gb / 1tb, 12th gen intel core processor, evo certified, lightweight, 2022 model, graphite',\n",
              "        1024, 1],\n",
              "       ['microsoft surface laptop go 12.4\" light weight, touchscreen, 10th gen intel core i5-1035g1, intel uhd graphics, 4gb ram, 64gb ssd, win10p/win11p, webcam, wifi 6, platinum, with mtc stylus pen',\n",
              "        64, 64],\n",
              "       ['microsoft surface laptop go 12.4\" light weight, touchscreen, 10th gen intel core i5-1035g1, intel uhd graphics, 4gb ram, 64gb ssd, windows 10/11 pro, webcam, wifi 6, platinum, with mtc stylus pen',\n",
              "        64, 64]], dtype=object)"
            ]
          },
          "metadata": {},
          "execution_count": 383
        }
      ]
    },
    {
      "cell_type": "markdown",
      "source": [
        "**Observations**\n",
        "- Thre are more than 200 samples present inside the dataset where ram size is greater than the disk size"
      ],
      "metadata": {
        "id": "Zu1na8ekDaYG"
      }
    },
    {
      "cell_type": "code",
      "source": [
        "# rows with ram size greater than disk size\n",
        "df_ram_disk = df[df.Ram >= df.Disk_size][['Title', 'Ram', 'Disk_size']]"
      ],
      "metadata": {
        "id": "37lkKfwSC_R6"
      },
      "execution_count": 384,
      "outputs": []
    },
    {
      "cell_type": "code",
      "source": [
        "df_ram_disk.shape"
      ],
      "metadata": {
        "colab": {
          "base_uri": "https://localhost:8080/"
        },
        "id": "GNAXKWVtDZpj",
        "outputId": "21b3eef3-a78f-4c63-fa7f-5a5f8366eaa0"
      },
      "execution_count": 385,
      "outputs": [
        {
          "output_type": "execute_result",
          "data": {
            "text/plain": [
              "(202, 3)"
            ]
          },
          "metadata": {},
          "execution_count": 385
        }
      ]
    },
    {
      "cell_type": "code",
      "source": [
        "def ram_disk_retrieval(title):\n",
        "  \"\"\"\n",
        "  The function is responsible for retrieving the ram from the title.\n",
        "  Args\n",
        "  title : The title of the laptop.\n",
        "  Returns\n",
        "  disk : The ram and disk size of the laptop.\n",
        "  \"\"\"\n",
        "\n",
        "  list = re.findall(r\"(\\d+)\\s*(?:gb|tb)\", title)\n",
        "  memories = [unit_conversion(temp) for temp in list]\n",
        "  return min(memories), max(memories)\n",
        "\n",
        "df_ram_disk['Ram'], df_ram_disk['Disk_size'] = zip(*df_ram_disk.Title.apply(ram_disk_retrieval))"
      ],
      "metadata": {
        "id": "UxIh7l7TFpVr"
      },
      "execution_count": 386,
      "outputs": []
    },
    {
      "cell_type": "code",
      "source": [
        "df_ram_disk[df_ram_disk.Ram >= df_ram_disk.Disk_size][['Title', 'Ram', 'Disk_size']].values"
      ],
      "metadata": {
        "colab": {
          "base_uri": "https://localhost:8080/"
        },
        "id": "gY6XxZlmK_dZ",
        "outputId": "035ed92f-ce52-476b-f496-9cb15e9a110a"
      },
      "execution_count": 387,
      "outputs": [
        {
          "output_type": "execute_result",
          "data": {
            "text/plain": [
              "array([['acer 11.6\" touchscreen convertible spin 311 chromebook laptop, 32gb storage, silver (cp311-3h-k23x)',\n",
              "        32, 32]], dtype=object)"
            ]
          },
          "metadata": {},
          "execution_count": 387
        }
      ]
    },
    {
      "cell_type": "code",
      "source": [
        "# merging back with the original dataframe\n",
        "df.loc[df_ram_disk.index, ['Ram', 'Disk_size']] = df_ram_disk[['Ram', 'Disk_size']]"
      ],
      "metadata": {
        "id": "x_82fDnVLE3E"
      },
      "execution_count": 388,
      "outputs": []
    },
    {
      "cell_type": "code",
      "source": [
        "df[df.Ram >= df.Disk_size][['Title', 'Ram', 'Disk_size']].shape"
      ],
      "metadata": {
        "colab": {
          "base_uri": "https://localhost:8080/"
        },
        "id": "enCozU7LLdoC",
        "outputId": "424c4a91-3bba-4f83-81c3-a394de5e37df"
      },
      "execution_count": 389,
      "outputs": [
        {
          "output_type": "execute_result",
          "data": {
            "text/plain": [
              "(1, 3)"
            ]
          },
          "metadata": {},
          "execution_count": 389
        }
      ]
    },
    {
      "cell_type": "code",
      "source": [
        "df.columns"
      ],
      "metadata": {
        "colab": {
          "base_uri": "https://localhost:8080/"
        },
        "id": "a4xLFXIzLmES",
        "outputId": "0a43f7d8-eb95-4e6b-f3d2-01eeb428393f"
      },
      "execution_count": 390,
      "outputs": [
        {
          "output_type": "execute_result",
          "data": {
            "text/plain": [
              "Index(['Title', 'Brand', 'Screen_Size', 'CPU_Model', 'Ram', 'Operating_System',\n",
              "       'Rating', 'Series', 'Color', 'Resolution', 'Weight', 'USB', 'Battery',\n",
              "       'Graphics', 'Disk_size', 'Card_desc', 'Price'],\n",
              "      dtype='object')"
            ]
          },
          "metadata": {},
          "execution_count": 390
        }
      ]
    },
    {
      "cell_type": "markdown",
      "source": [
        "## Handling the **Graphics** feature\n",
        "\n",
        "Computer graphics involves creating and manipulating images using computers. It's a broad field encompassing everything from creating realistic 3D models for movies and video games to generating simple charts and graphs for presentations."
      ],
      "metadata": {
        "id": "fVAtfBFwysB-"
      }
    },
    {
      "cell_type": "code",
      "source": [
        "df.Graphics.unique()"
      ],
      "metadata": {
        "colab": {
          "base_uri": "https://localhost:8080/"
        },
        "id": "fB24NiXQMEJi",
        "outputId": "3106a365-a3d0-470f-92b5-527b2e2dddb3"
      },
      "execution_count": 391,
      "outputs": [
        {
          "output_type": "execute_result",
          "data": {
            "text/plain": [
              "array(['intel hd graphics 620', nan, 'intel iris plus graphics 640',\n",
              "       'intel iris plus', 'amd radeon vega 3', 'intel uhd graphics',\n",
              "       'nvidia geforce gtx 1070', 'nvidia geforce rtx 3070',\n",
              "       'nvidia geforce rtx 3070 ti', 'intel iris xe graphics',\n",
              "       'nvidia geforce rtx 3080', 'nvidia geforce rtx 3060',\n",
              "       'intel hd graphics 4000', 'nvidia geforce gtx 1650',\n",
              "       'nvidia quadro rtx a3000', 'intel', 'nvidia geforce rtx 3080 ti',\n",
              "       'nvidia quadro rtx a2000', 'nvidia geforce gtx 1650 max-q',\n",
              "       'intel uhd graphics 630', 'nvidia geforce rtx 3050',\n",
              "       'nvidia quadro a2000', 'amd radeon rx6700m',\n",
              "       'intel hd graphics 5000', 'nvidia geforce rtx 2070',\n",
              "       '\\u200eintel iris xe', 'nvidia geforce gtx 1650 ti max-q',\n",
              "       'nvidia geforce rtx 3070 max-q', 'amd radeon pro 560', 'm1 pro',\n",
              "       'intel iris plus graphics 655', 'nvidia geforce gt 650m',\n",
              "       'intel hd graphics 630', 'amd radeon pro / intel hd graphics 530',\n",
              "       'intel hd graphics 6000', 'intel uhd graphics 617',\n",
              "       'intel uhd graphics 630 graphics processor',\n",
              "       'intel iris plus graphics processor', 'intel iris',\n",
              "       'intel iris graphics 550', 'amd radeon pro 555',\n",
              "       'nvidia geforce rtx 3050 ti',\n",
              "       'nvidia geforce rtx 3060 max-q 6gb gddr6', 'intel uma',\n",
              "       'nvidia geforce gtx 1050 ti', 'amd radeon rx 6600',\n",
              "       'nvidia gtx 1650 ti max-q', 'nvidia geforce gtx 1660ti',\n",
              "       'intel hd graphics 520', 'nvidia geforce rtx 2060',\n",
              "       'nvidia geforce rtx 2080', 'nvidia geforce gtx 1650 ti',\n",
              "       'nvidia geforce gtx 1050', 'nvidia rtx a3000',\n",
              "       'nvidia gtx 1650 max-q', 'nvidia geforce rtx 2070 max-q',\n",
              "       'nvidia geforce rtx 2080 super', 'nvidia geforce gtx',\n",
              "       'nvidia geforce® rtx3060 6g gddr6', 'nvidia rtx 2070 super',\n",
              "       'dedicated nvidia geforce rtx 3050 ti 4gb',\n",
              "       'nvidia quadro rtx a5000', 'nvidia geforce gtx 1650 4gb gddr6',\n",
              "       'nvidia quadro t1200', 'intel iris plus graphics 650',\n",
              "       'radeon 560x', '7-core gpu', '600', 'm1', 'integrated_graphics',\n",
              "       'amd radeon rx 6800s', 'nvidia geforce rtx 4080',\n",
              "       'amd radeon graphics', 'geforce gtx 1650, 4gb gddr6',\n",
              "       'amd radeon r3', 'intel hd graphics 600', 'intel uhd graphics 600',\n",
              "       'amd radeon pro 560x gpu (4gb gddr5)', 'intel iris graphics 6100',\n",
              "       'mediatek integrated graphics',\n",
              "       'amd radeon vega 10 mobile graphics', 'amd radeontm r5 graphics',\n",
              "       'gpu', 'intel uhd graphics 620', 'arm', 'intel hd graphics 4400',\n",
              "       'amd radeon vega 7 mobile graphics', 'integrated',\n",
              "       'nvidia geforce mx150', 'intel uhd graphics 5000',\n",
              "       'nvidia rtx 3050 ti 4gb', '\\u200eradeon vega 6 graphics',\n",
              "       'amd radeon rx vega 8', 'intel hd graphics',\n",
              "       'intel hd graphics 3000', '\\u200eamd radeon graphics',\n",
              "       '\\u200eintel integrated graphics', '1.06', 'amd radeon graphics 5',\n",
              "       'intel hd graphics 615', 'integrated graphics',\n",
              "       'integrated arm mali-g72 mp3', 'integrated/other',\n",
              "       'nvidia geforce gtx 1060', 'amd radeon r4',\n",
              "       'nvidia geforce rtx 2050', 'intel hd graphics 400',\n",
              "       'amd ryzen 5 4500u', 'nvidia geforce rtx 3060 6gb ddr6',\n",
              "       'amd radeon vega 6', '\\u200euhd graphics 600',\n",
              "       'nvidia geforce rtx 2060 graphics', 'amd radeon graphics 5500',\n",
              "       'amd radeon r5', 'intel hd graphics 500', 'nvidia', 'uhd graphics',\n",
              "       'amd radeon rx vega m gl', 'hd graphics 500', 'radeon rx vega 8',\n",
              "       '2', 'intel hd graphics 5500', 'mali-g72 mp3', 'intel i5',\n",
              "       '\\u200emediatek integrated graphics', 'integrated intel graphics',\n",
              "       'amd', 'ati discrete graphics', 'intel gma 4500mhd',\n",
              "       'amd radeon hd 7750m', 'intel® hd graphics 5500',\n",
              "       'amd radeon hd 5650', 'hd graphics 520',\n",
              "       'intel® hd graphics for previous generation',\n",
              "       'intel® hd graphics 4000', 'intel® qm77 video controller',\n",
              "       'hd graphics 5500', '4', 'shared', 'intel® hd graphics 3000',\n",
              "       'intel hd', 'intel hd graphics 515', 'amd radeon rx vega 10',\n",
              "       'hd graphics 515', 'radeon vega 6 graphics',\n",
              "       'intel qm77 video controller',\n",
              "       'dedicated nvidia geforce rtx 3050 4gb', 'geforce gtx 3050',\n",
              "       'amd radeon', 'nvidia® geforce rtx™ 3070 8 gddr6',\n",
              "       'powervr gx6250', 'nvidia geforce', 'geforce rtx™ 3060',\n",
              "       'intel graphics', 'amd radeon vega graphics',\n",
              "       'intel 11th gen i7-1195g7', 'intel uhd graphics 605',\n",
              "       'amd radeon vega 7', 'integrated intel iris xe', 'i7 family',\n",
              "       'intel integrated graphics', 'amd radeon rx 6800m',\n",
              "       'amd radeon 530', 'amd radeon rx vega 11', 'nvidia quadro p4000',\n",
              "       'intel® iris xᵉ graphics', 'intel xe graphics',\n",
              "       'intel® hd graphics', 'intel graphics 4400',\n",
              "       'intel hd 4000 graphics', 'intel® hd 5500 graphics',\n",
              "       'amd radeon r7', 'nvidia geforce gt 750m', 'intel iris pro',\n",
              "       'apple m2 pro', 'm1 max', 'nvidia rtx 3060 6gb gddr6',\n",
              "       'nvidia rtx 3070 8gb gddr6', '2070 super™ 8gb gddr6',\n",
              "       'nvidia geforce gtx 1080', 'nvidia geforce gtx 1660', 'nvidia®',\n",
              "       'nvidia geforce gtx 980m', 'nvidia geforce gtx 970m',\n",
              "       'nvidia geforce rtx3060 max-q', 'nvidia geforce mx550',\n",
              "       'radeon graphics', 'nvidia geforce mx550 2gb gddr6',\n",
              "       'amd radeon rx vega 6 (ryzen 4000) ( - 1500 mhz)',\n",
              "       'intel hd integrated graphics', 'mediatek', 'amd radeon™ graphics',\n",
              "       'intel uhd 600', 'intel integrated soc',\n",
              "       'intel graphics_coprocessor', 'integrated hd graphics',\n",
              "       'nvidia geforce mx450', 'nvidia geforce rtx 2060 max-q',\n",
              "       'intel hd graphics 610', 'nvidia quadro t1000 4gb',\n",
              "       'nvidia quadro t2000', 'intel iris xe graphics integrated', '620',\n",
              "       'nvidia geforce rtx 3070 graphics', 'nvidia quadro p1000',\n",
              "       'intel integrated gma x3100', 'intel iris xe grapghics',\n",
              "       'nvidia geforce mx550 2gb gddr5', 'nvidia graphics',\n",
              "       'amd radeon vega 8',\n",
              "       'nvidia geforce rtx 2080 super max-q 8gb gddr6',\n",
              "       'radeon rx 6800m graphics', 'intel hd 610 graphics',\n",
              "       'nvidia geforce gtx 960m', 'intel gma 3150', 'xps9300-7909slv-pus',\n",
              "       'amd firepro w5130m', 'nvidia quadro p3200',\n",
              "       'intel 4500hd nvidia quadro fx370m, nvs160m,fx770m',\n",
              "       'integrated intel graphic', 'nvidia rtx 3050 4gb gddr6',\n",
              "       'nvidia rtx a4500 16gb gddr6 (4dp)', 'nvidia rtx a3000 12gb gddr6',\n",
              "       '\\u200envidia® geforce rtx™ 3060 6gb gddr6', 'amd radeon gpu',\n",
              "       'integrated arm g72 mp3 graphics', 'intel graphics integrated',\n",
              "       'arm graphics',\n",
              "       'intel® uhd graphics for 10th gen intel® processors',\n",
              "       'mediatek integrated', 'nvidia geforce mx250', 'intel hm370',\n",
              "       '\\u200eintel uhd graphics 600',\n",
              "       '\\u200e\\u200eintel iris xe graphics',\n",
              "       'amd radeon™ vega 8 graphics', 'intel celeron processor n4000',\n",
              "       'nvidia® geforce rtx™ 3050 ti', 'nvidia geforce mx570',\n",
              "       'quadro p1000', 'intel uhd graphics integrated graphics card',\n",
              "       'nvidia geforce mx350', 'intel iris xe max graphics',\n",
              "       'nvidia geforce mx130', 'intel® celeron® processor n4020',\n",
              "       'amd radeon rx 6700', 'nvidia geforce mx450, 2gb gddr6',\n",
              "       'nvidia geforce rtx 3050 ti max-q graphics',\n",
              "       '\\u200eintel iris xe max graphics', 'nvidia geforce rtx a2000',\n",
              "       'nvidia geforce gt 745m', 'intel� hd graphics 615',\n",
              "       'intel(r) uhd graphics 620', 'intel irix xe graphics',\n",
              "       'nvidia® rtx™ a3000', 'iris™ plus graphics 950',\n",
              "       'amd radeon vega 11', 'amd radeon vega 9', 'grafics 620hd', 'i5',\n",
              "       'dedicated nvidia geforce gtx 1050 2gb gddr5 vram',\n",
              "       'intel hd graphics 520, nvidia geforce graphics', 'intel iris x',\n",
              "       'amd radeon rx vega 11 graphics', 'nvida geforce rtx 3050ti',\n",
              "       'nvidia geforce 1gb', 'qualcomm', 'intel arc a350m'], dtype=object)"
            ]
          },
          "metadata": {},
          "execution_count": 391
        }
      ]
    },
    {
      "cell_type": "code",
      "source": [
        "df.Graphics.isna().sum()"
      ],
      "metadata": {
        "colab": {
          "base_uri": "https://localhost:8080/"
        },
        "id": "I5blAJMNMIsx",
        "outputId": "885a0666-8f5e-489e-b732-3bbb324fe818"
      },
      "execution_count": 392,
      "outputs": [
        {
          "output_type": "execute_result",
          "data": {
            "text/plain": [
              "652"
            ]
          },
          "metadata": {},
          "execution_count": 392
        }
      ]
    },
    {
      "cell_type": "markdown",
      "source": [
        "**Observations**\n",
        "- All of the unique entries can be consolidated in three groups\n",
        " - nvidia\n",
        " - amd\n",
        " - intel\n",
        "- For missing values, same old approach should be followed and values should be retrieved from the **Title** feature."
      ],
      "metadata": {
        "id": "b-2zEUqtzHiz"
      }
    },
    {
      "cell_type": "code",
      "source": [
        "def graphics_retrieval(title):\n",
        "  \"\"\"\n",
        "  The function is responsible for retrieving the graphics from the title.\n",
        "  Args\n",
        "  title : The title of the laptop.\n",
        "  Returns\n",
        "  graphics : The graphics of the laptop.\n",
        "  \"\"\"\n",
        "  list = str(title).split()\n",
        "  if 'intel' in list:\n",
        "    return 'intel'\n",
        "  elif ('amd' in list) or ('radeon' in list):\n",
        "    return 'amd'\n",
        "  elif ('nvidia' in list) or ('nvida' in list):\n",
        "    return 'nvidia'\n",
        "  else:\n",
        "    return np.nan\n",
        "\n",
        "df.Graphics = df.Graphics.apply(graphics_retrieval)"
      ],
      "metadata": {
        "id": "Mhg1NQWuv5hs"
      },
      "execution_count": 393,
      "outputs": []
    },
    {
      "cell_type": "code",
      "source": [
        "df.Graphics.value_counts()"
      ],
      "metadata": {
        "colab": {
          "base_uri": "https://localhost:8080/",
          "height": 209
        },
        "id": "qtGAU5E0xyMs",
        "outputId": "e93a2e39-b7ce-494c-a99a-30ae946ba7be"
      },
      "execution_count": 394,
      "outputs": [
        {
          "output_type": "execute_result",
          "data": {
            "text/plain": [
              "Graphics\n",
              "intel     1001\n",
              "nvidia     631\n",
              "amd        187\n",
              "Name: count, dtype: int64"
            ],
            "text/html": [
              "<div>\n",
              "<style scoped>\n",
              "    .dataframe tbody tr th:only-of-type {\n",
              "        vertical-align: middle;\n",
              "    }\n",
              "\n",
              "    .dataframe tbody tr th {\n",
              "        vertical-align: top;\n",
              "    }\n",
              "\n",
              "    .dataframe thead th {\n",
              "        text-align: right;\n",
              "    }\n",
              "</style>\n",
              "<table border=\"1\" class=\"dataframe\">\n",
              "  <thead>\n",
              "    <tr style=\"text-align: right;\">\n",
              "      <th></th>\n",
              "      <th>count</th>\n",
              "    </tr>\n",
              "    <tr>\n",
              "      <th>Graphics</th>\n",
              "      <th></th>\n",
              "    </tr>\n",
              "  </thead>\n",
              "  <tbody>\n",
              "    <tr>\n",
              "      <th>intel</th>\n",
              "      <td>1001</td>\n",
              "    </tr>\n",
              "    <tr>\n",
              "      <th>nvidia</th>\n",
              "      <td>631</td>\n",
              "    </tr>\n",
              "    <tr>\n",
              "      <th>amd</th>\n",
              "      <td>187</td>\n",
              "    </tr>\n",
              "  </tbody>\n",
              "</table>\n",
              "</div><br><label><b>dtype:</b> int64</label>"
            ]
          },
          "metadata": {},
          "execution_count": 394
        }
      ]
    },
    {
      "cell_type": "code",
      "source": [
        "df.Graphics.isna().sum()"
      ],
      "metadata": {
        "colab": {
          "base_uri": "https://localhost:8080/"
        },
        "id": "-EipCGfjx0mE",
        "outputId": "039681ee-5a08-4ccb-912e-b4c73760b7aa"
      },
      "execution_count": 395,
      "outputs": [
        {
          "output_type": "execute_result",
          "data": {
            "text/plain": [
              "777"
            ]
          },
          "metadata": {},
          "execution_count": 395
        }
      ]
    },
    {
      "cell_type": "code",
      "source": [
        "# seperating rows with missing entries\n",
        "df_graphics_missing = df[df.Graphics.isna()][['Title', 'Graphics']]\n",
        "df_graphics_missing.Graphics = df_graphics_missing.Title.apply(graphics_retrieval)"
      ],
      "metadata": {
        "id": "NRnHYplkx-54"
      },
      "execution_count": 396,
      "outputs": []
    },
    {
      "cell_type": "code",
      "source": [
        "df_graphics_missing.Graphics.value_counts()"
      ],
      "metadata": {
        "colab": {
          "base_uri": "https://localhost:8080/",
          "height": 209
        },
        "id": "7ReU4XoFyRtF",
        "outputId": "eca08578-84ff-4d12-f221-811c8cf79caf"
      },
      "execution_count": 397,
      "outputs": [
        {
          "output_type": "execute_result",
          "data": {
            "text/plain": [
              "Graphics\n",
              "intel     531\n",
              "amd        88\n",
              "nvidia      2\n",
              "Name: count, dtype: int64"
            ],
            "text/html": [
              "<div>\n",
              "<style scoped>\n",
              "    .dataframe tbody tr th:only-of-type {\n",
              "        vertical-align: middle;\n",
              "    }\n",
              "\n",
              "    .dataframe tbody tr th {\n",
              "        vertical-align: top;\n",
              "    }\n",
              "\n",
              "    .dataframe thead th {\n",
              "        text-align: right;\n",
              "    }\n",
              "</style>\n",
              "<table border=\"1\" class=\"dataframe\">\n",
              "  <thead>\n",
              "    <tr style=\"text-align: right;\">\n",
              "      <th></th>\n",
              "      <th>count</th>\n",
              "    </tr>\n",
              "    <tr>\n",
              "      <th>Graphics</th>\n",
              "      <th></th>\n",
              "    </tr>\n",
              "  </thead>\n",
              "  <tbody>\n",
              "    <tr>\n",
              "      <th>intel</th>\n",
              "      <td>531</td>\n",
              "    </tr>\n",
              "    <tr>\n",
              "      <th>amd</th>\n",
              "      <td>88</td>\n",
              "    </tr>\n",
              "    <tr>\n",
              "      <th>nvidia</th>\n",
              "      <td>2</td>\n",
              "    </tr>\n",
              "  </tbody>\n",
              "</table>\n",
              "</div><br><label><b>dtype:</b> int64</label>"
            ]
          },
          "metadata": {},
          "execution_count": 397
        }
      ]
    },
    {
      "cell_type": "code",
      "source": [
        "df.loc[df_graphics_missing.index, 'Graphics'] = df_graphics_missing.Graphics"
      ],
      "metadata": {
        "id": "MUjubkM7yUnm"
      },
      "execution_count": 398,
      "outputs": []
    },
    {
      "cell_type": "code",
      "source": [
        "df.Graphics.isna().sum()"
      ],
      "metadata": {
        "colab": {
          "base_uri": "https://localhost:8080/"
        },
        "id": "CtWh44VjycG9",
        "outputId": "b6daa305-2027-48df-a42e-5ca2b9ffde05"
      },
      "execution_count": 399,
      "outputs": [
        {
          "output_type": "execute_result",
          "data": {
            "text/plain": [
              "156"
            ]
          },
          "metadata": {},
          "execution_count": 399
        }
      ]
    },
    {
      "cell_type": "code",
      "source": [
        "df.Graphics.value_counts()"
      ],
      "metadata": {
        "colab": {
          "base_uri": "https://localhost:8080/",
          "height": 209
        },
        "id": "EGZBSkQzyeJ5",
        "outputId": "d16cf927-91b0-4490-93ef-71246ace5e6a"
      },
      "execution_count": 400,
      "outputs": [
        {
          "output_type": "execute_result",
          "data": {
            "text/plain": [
              "Graphics\n",
              "intel     1532\n",
              "nvidia     633\n",
              "amd        275\n",
              "Name: count, dtype: int64"
            ],
            "text/html": [
              "<div>\n",
              "<style scoped>\n",
              "    .dataframe tbody tr th:only-of-type {\n",
              "        vertical-align: middle;\n",
              "    }\n",
              "\n",
              "    .dataframe tbody tr th {\n",
              "        vertical-align: top;\n",
              "    }\n",
              "\n",
              "    .dataframe thead th {\n",
              "        text-align: right;\n",
              "    }\n",
              "</style>\n",
              "<table border=\"1\" class=\"dataframe\">\n",
              "  <thead>\n",
              "    <tr style=\"text-align: right;\">\n",
              "      <th></th>\n",
              "      <th>count</th>\n",
              "    </tr>\n",
              "    <tr>\n",
              "      <th>Graphics</th>\n",
              "      <th></th>\n",
              "    </tr>\n",
              "  </thead>\n",
              "  <tbody>\n",
              "    <tr>\n",
              "      <th>intel</th>\n",
              "      <td>1532</td>\n",
              "    </tr>\n",
              "    <tr>\n",
              "      <th>nvidia</th>\n",
              "      <td>633</td>\n",
              "    </tr>\n",
              "    <tr>\n",
              "      <th>amd</th>\n",
              "      <td>275</td>\n",
              "    </tr>\n",
              "  </tbody>\n",
              "</table>\n",
              "</div><br><label><b>dtype:</b> int64</label>"
            ]
          },
          "metadata": {},
          "execution_count": 400
        }
      ]
    },
    {
      "cell_type": "code",
      "source": [
        "# rows that are still empty can be assigned with the 'other' category\n",
        "df.Graphics.fillna('other', inplace=True)"
      ],
      "metadata": {
        "colab": {
          "base_uri": "https://localhost:8080/"
        },
        "id": "lezlaDjRyip2",
        "outputId": "78536447-ecd0-4446-8fd3-ba90d9da39af"
      },
      "execution_count": 401,
      "outputs": [
        {
          "output_type": "stream",
          "name": "stderr",
          "text": [
            "<ipython-input-401-940ef632343c>:2: FutureWarning: A value is trying to be set on a copy of a DataFrame or Series through chained assignment using an inplace method.\n",
            "The behavior will change in pandas 3.0. This inplace method will never work because the intermediate object on which we are setting values always behaves as a copy.\n",
            "\n",
            "For example, when doing 'df[col].method(value, inplace=True)', try using 'df.method({col: value}, inplace=True)' or df[col] = df[col].method(value) instead, to perform the operation inplace on the original object.\n",
            "\n",
            "\n",
            "  df.Graphics.fillna('other', inplace=True)\n"
          ]
        }
      ]
    },
    {
      "cell_type": "code",
      "source": [
        "df.columns"
      ],
      "metadata": {
        "colab": {
          "base_uri": "https://localhost:8080/"
        },
        "id": "Abxzys5Hyo4U",
        "outputId": "87e48694-90b4-4d55-ef76-7ddc7efc88b2"
      },
      "execution_count": 402,
      "outputs": [
        {
          "output_type": "execute_result",
          "data": {
            "text/plain": [
              "Index(['Title', 'Brand', 'Screen_Size', 'CPU_Model', 'Ram', 'Operating_System',\n",
              "       'Rating', 'Series', 'Color', 'Resolution', 'Weight', 'USB', 'Battery',\n",
              "       'Graphics', 'Disk_size', 'Card_desc', 'Price'],\n",
              "      dtype='object')"
            ]
          },
          "metadata": {},
          "execution_count": 402
        }
      ]
    },
    {
      "cell_type": "markdown",
      "source": [
        "## Handling the **Rating** feature"
      ],
      "metadata": {
        "id": "JvzbwnlY7QUD"
      }
    },
    {
      "cell_type": "code",
      "source": [
        "df.Rating.unique()"
      ],
      "metadata": {
        "colab": {
          "base_uri": "https://localhost:8080/"
        },
        "id": "uYN5Q5ae60TI",
        "outputId": "4bee78af-46a3-4c57-a424-10af7e8159a6"
      },
      "execution_count": 403,
      "outputs": [
        {
          "output_type": "execute_result",
          "data": {
            "text/plain": [
              "array([4.4, 3.9, 4.2, 4.3, 4.5, 5. , 4.1, nan, 3.1, 4.8, 4.7, 3.8, 3. ,\n",
              "       3.4, 4. , 2.5, 4.9, 2.8, 3.3, 3.6, 2.4, 3.5, 4.6, 3.7, 2. , 1. ,\n",
              "       2.1, 2.6, 3.2, 2.7, 2.9, 2.2, 2.3])"
            ]
          },
          "metadata": {},
          "execution_count": 403
        }
      ]
    },
    {
      "cell_type": "code",
      "source": [
        "df.Rating.isna().sum()"
      ],
      "metadata": {
        "colab": {
          "base_uri": "https://localhost:8080/"
        },
        "id": "GapIySGV665z",
        "outputId": "6e122662-e1b8-4ab8-911f-868f6aece646"
      },
      "execution_count": 404,
      "outputs": [
        {
          "output_type": "execute_result",
          "data": {
            "text/plain": [
              "504"
            ]
          },
          "metadata": {},
          "execution_count": 404
        }
      ]
    },
    {
      "cell_type": "code",
      "source": [
        "df.groupby('Brand')['Rating'].mean()"
      ],
      "metadata": {
        "colab": {
          "base_uri": "https://localhost:8080/",
          "height": 648
        },
        "id": "2xQpRNPr7KnI",
        "outputId": "263e83d9-b23c-435a-a3e8-e554bac39e72"
      },
      "execution_count": 405,
      "outputs": [
        {
          "output_type": "execute_result",
          "data": {
            "text/plain": [
              "Brand\n",
              "acer           4.351613\n",
              "alienware      4.108989\n",
              "apple          4.246000\n",
              "asus           4.290291\n",
              "dell           4.188390\n",
              "excaliberpc    4.470270\n",
              "generic        5.000000\n",
              "gigabyte       3.620833\n",
              "hp             4.368652\n",
              "lenovo         4.326829\n",
              "lg             4.310448\n",
              "microsoft      4.126016\n",
              "msi            4.338764\n",
              "other          4.041509\n",
              "panasonic      4.008163\n",
              "samsung        4.290517\n",
              "toughbook      4.110000\n",
              "Name: Rating, dtype: float64"
            ],
            "text/html": [
              "<div>\n",
              "<style scoped>\n",
              "    .dataframe tbody tr th:only-of-type {\n",
              "        vertical-align: middle;\n",
              "    }\n",
              "\n",
              "    .dataframe tbody tr th {\n",
              "        vertical-align: top;\n",
              "    }\n",
              "\n",
              "    .dataframe thead th {\n",
              "        text-align: right;\n",
              "    }\n",
              "</style>\n",
              "<table border=\"1\" class=\"dataframe\">\n",
              "  <thead>\n",
              "    <tr style=\"text-align: right;\">\n",
              "      <th></th>\n",
              "      <th>Rating</th>\n",
              "    </tr>\n",
              "    <tr>\n",
              "      <th>Brand</th>\n",
              "      <th></th>\n",
              "    </tr>\n",
              "  </thead>\n",
              "  <tbody>\n",
              "    <tr>\n",
              "      <th>acer</th>\n",
              "      <td>4.351613</td>\n",
              "    </tr>\n",
              "    <tr>\n",
              "      <th>alienware</th>\n",
              "      <td>4.108989</td>\n",
              "    </tr>\n",
              "    <tr>\n",
              "      <th>apple</th>\n",
              "      <td>4.246000</td>\n",
              "    </tr>\n",
              "    <tr>\n",
              "      <th>asus</th>\n",
              "      <td>4.290291</td>\n",
              "    </tr>\n",
              "    <tr>\n",
              "      <th>dell</th>\n",
              "      <td>4.188390</td>\n",
              "    </tr>\n",
              "    <tr>\n",
              "      <th>excaliberpc</th>\n",
              "      <td>4.470270</td>\n",
              "    </tr>\n",
              "    <tr>\n",
              "      <th>generic</th>\n",
              "      <td>5.000000</td>\n",
              "    </tr>\n",
              "    <tr>\n",
              "      <th>gigabyte</th>\n",
              "      <td>3.620833</td>\n",
              "    </tr>\n",
              "    <tr>\n",
              "      <th>hp</th>\n",
              "      <td>4.368652</td>\n",
              "    </tr>\n",
              "    <tr>\n",
              "      <th>lenovo</th>\n",
              "      <td>4.326829</td>\n",
              "    </tr>\n",
              "    <tr>\n",
              "      <th>lg</th>\n",
              "      <td>4.310448</td>\n",
              "    </tr>\n",
              "    <tr>\n",
              "      <th>microsoft</th>\n",
              "      <td>4.126016</td>\n",
              "    </tr>\n",
              "    <tr>\n",
              "      <th>msi</th>\n",
              "      <td>4.338764</td>\n",
              "    </tr>\n",
              "    <tr>\n",
              "      <th>other</th>\n",
              "      <td>4.041509</td>\n",
              "    </tr>\n",
              "    <tr>\n",
              "      <th>panasonic</th>\n",
              "      <td>4.008163</td>\n",
              "    </tr>\n",
              "    <tr>\n",
              "      <th>samsung</th>\n",
              "      <td>4.290517</td>\n",
              "    </tr>\n",
              "    <tr>\n",
              "      <th>toughbook</th>\n",
              "      <td>4.110000</td>\n",
              "    </tr>\n",
              "  </tbody>\n",
              "</table>\n",
              "</div><br><label><b>dtype:</b> float64</label>"
            ]
          },
          "metadata": {},
          "execution_count": 405
        }
      ]
    },
    {
      "cell_type": "markdown",
      "source": [
        "**Operations**\n",
        "- Missing ratings can be assigned based on the mean rating of respected brand"
      ],
      "metadata": {
        "id": "VCK8cTZJ7vcE"
      }
    },
    {
      "cell_type": "code",
      "source": [
        "# calculating the mean ratings for each brand\n",
        "mean_ratings = df.groupby('Brand')['Rating'].mean()\n",
        "df_Rating = df[df.Rating.isna()][['Brand', 'Rating']]"
      ],
      "metadata": {
        "id": "CcxzwsDt7hXJ"
      },
      "execution_count": 407,
      "outputs": []
    },
    {
      "cell_type": "code",
      "source": [
        "df_Rating.Rating = df_Rating.Brand.apply(lambda x : mean_ratings[x])"
      ],
      "metadata": {
        "id": "APT-2o3-8mfO"
      },
      "execution_count": 408,
      "outputs": []
    },
    {
      "cell_type": "code",
      "source": [
        "df_Rating.isna().sum()"
      ],
      "metadata": {
        "colab": {
          "base_uri": "https://localhost:8080/",
          "height": 147
        },
        "id": "5GTD7nlE8qBL",
        "outputId": "5f5eb320-0cf4-4d49-c36d-b5ee7faf4dc9"
      },
      "execution_count": 409,
      "outputs": [
        {
          "output_type": "execute_result",
          "data": {
            "text/plain": [
              "Brand     0\n",
              "Rating    0\n",
              "dtype: int64"
            ],
            "text/html": [
              "<div>\n",
              "<style scoped>\n",
              "    .dataframe tbody tr th:only-of-type {\n",
              "        vertical-align: middle;\n",
              "    }\n",
              "\n",
              "    .dataframe tbody tr th {\n",
              "        vertical-align: top;\n",
              "    }\n",
              "\n",
              "    .dataframe thead th {\n",
              "        text-align: right;\n",
              "    }\n",
              "</style>\n",
              "<table border=\"1\" class=\"dataframe\">\n",
              "  <thead>\n",
              "    <tr style=\"text-align: right;\">\n",
              "      <th></th>\n",
              "      <th>0</th>\n",
              "    </tr>\n",
              "  </thead>\n",
              "  <tbody>\n",
              "    <tr>\n",
              "      <th>Brand</th>\n",
              "      <td>0</td>\n",
              "    </tr>\n",
              "    <tr>\n",
              "      <th>Rating</th>\n",
              "      <td>0</td>\n",
              "    </tr>\n",
              "  </tbody>\n",
              "</table>\n",
              "</div><br><label><b>dtype:</b> int64</label>"
            ]
          },
          "metadata": {},
          "execution_count": 409
        }
      ]
    },
    {
      "cell_type": "code",
      "source": [
        "# merging the current and the new dataframe\n",
        "df.loc[df_Rating.index, 'Rating'] = df_Rating.Rating"
      ],
      "metadata": {
        "id": "l3v7x5hf9rdV"
      },
      "execution_count": 410,
      "outputs": []
    },
    {
      "cell_type": "code",
      "source": [
        "df.Rating.isna().sum()"
      ],
      "metadata": {
        "colab": {
          "base_uri": "https://localhost:8080/"
        },
        "id": "pLMza5gh95q3",
        "outputId": "9422448b-b5e8-48bc-e6b9-37c959bafea1"
      },
      "execution_count": 411,
      "outputs": [
        {
          "output_type": "execute_result",
          "data": {
            "text/plain": [
              "0"
            ]
          },
          "metadata": {},
          "execution_count": 411
        }
      ]
    },
    {
      "cell_type": "code",
      "source": [
        "df.columns"
      ],
      "metadata": {
        "colab": {
          "base_uri": "https://localhost:8080/"
        },
        "id": "S7l9qKTF98My",
        "outputId": "fcbcf5b0-3549-4e53-f128-735d6bddd3da"
      },
      "execution_count": 412,
      "outputs": [
        {
          "output_type": "execute_result",
          "data": {
            "text/plain": [
              "Index(['Title', 'Brand', 'Screen_Size', 'CPU_Model', 'Ram', 'Operating_System',\n",
              "       'Rating', 'Series', 'Color', 'Resolution', 'Weight', 'USB', 'Battery',\n",
              "       'Graphics', 'Disk_size', 'Card_desc', 'Price'],\n",
              "      dtype='object')"
            ]
          },
          "metadata": {},
          "execution_count": 412
        }
      ]
    },
    {
      "cell_type": "code",
      "source": [
        "df.drop(['Title', 'Operating_System', 'Series', 'Color', 'Resolution', 'Weight', 'USB', 'Battery', 'Card_desc'], axis=1, inplace=True)"
      ],
      "metadata": {
        "id": "AHOMUOW0-83P"
      },
      "execution_count": 413,
      "outputs": []
    },
    {
      "cell_type": "markdown",
      "source": [
        "## Handling the **Price** feature"
      ],
      "metadata": {
        "id": "TrtFoZY-FAGf"
      }
    },
    {
      "cell_type": "code",
      "source": [
        "df.drop_duplicates(inplace=True)\n",
        "df.drop(df[df.Price.isna()].index, inplace=True)"
      ],
      "metadata": {
        "id": "BZNp4taoBpCJ"
      },
      "execution_count": 421,
      "outputs": []
    },
    {
      "cell_type": "code",
      "source": [
        "df.Price.unique()"
      ],
      "metadata": {
        "colab": {
          "base_uri": "https://localhost:8080/"
        },
        "id": "eBhntEqcE1_0",
        "outputId": "2096bad2-3ce0-4696-9383-ed2fde2791f8"
      },
      "execution_count": 426,
      "outputs": [
        {
          "output_type": "execute_result",
          "data": {
            "text/plain": [
              "array(['$359.99', '$818.00', '$699.00', '$2,449.99', '$1,799.95',\n",
              "       '$1,699.00', '$3,049.00', '$1,899.00', '$1,549.00', '$4,345.00',\n",
              "       '$1,799.00', '$3,295.00', '$1,399.00', '$1,949.99', '$689.99',\n",
              "       '$2,499.00', '$2,649.00', '$3,199.00', '$4,595.00', '$5,195.00',\n",
              "       '$2,319.00', '$799.00', '$229.99', '$978.75', '$1,658.52',\n",
              "       '$1,099.00', '$2,399.00', '$2,799.00', '$3,599.00', '$1,449.00',\n",
              "       '$1,199.00', '$1,499.00', '$1,619.00', '$2,899.00', '$1,299.00',\n",
              "       '$854.21', '$1,579.00', '$1,468.95', '$1,242.96', '$950.61',\n",
              "       '$1,649.00', '$2,084.45', '$2,699.00', '$239.00', '$2,999.00',\n",
              "       '$870.00', '$1,536.99', '$1,045.52', '$714.49', '$2,409.00',\n",
              "       '$1,496.24', '$1,749.99', '$1,999.00', '$699.99', '$1,072.30',\n",
              "       '$619.00', '$1,499.98', '$1,574.99', '$1,197.00', '$999.00',\n",
              "       '$1,679.00', '$1,624.92', '$1,249.99', '$891.82', '$1,283.95',\n",
              "       '$4,499.00', '$682.47', '$2,349.00', '$4,699.99', '$2,099.00',\n",
              "       '$1,090.26', '$728.72', '$1,112.00', '$899.00', '$649.00',\n",
              "       '$1,449.99', '$2,380.96', '$1,599.00', '$3,649.00', '$798.00',\n",
              "       '$5,199.00', '$2,199.99', '$887.98', '$2,499.99', '$1,498.99',\n",
              "       '$4,999.00', '$689.98', '$976.54', '$1,149.00', '$3,299.00',\n",
              "       '$999.99', '$2,299.00', '$1,099.99', '$1,299.99', '$3,399.00',\n",
              "       '$1,023.60', '$2,224.69', '$2,599.99', '$1,479.00', '$1,064.32',\n",
              "       '$949.00', '$1,999.97', '$766.99', '$2,049.00', '$565.09',\n",
              "       '$1,849.99', '$3,695.00', '$1,124.49', '$1,999.99', '$1,048.99',\n",
              "       '$4,399.00', '$3,449.00', '$1,685.25', '$1,704.96', '$4,202.94',\n",
              "       '$3,634.96', '$999.97', '$949.99', '$839.58', '$2,599.00',\n",
              "       '$801.43', '$1,399.99', '$1,436.23', '$1,949.00', '$1,110.08',\n",
              "       '$1,059.99', '$902.91', '$1,659.00', '$2,222.86', '$1,088.99',\n",
              "       '$2,149.00', '$484.00', '$649.98', '$349.99', '$1,349.00',\n",
              "       '$4,695.00', '$1,499.99', '$3,419.00', '$1,249.00', '$438.00',\n",
              "       '$735.99', '$697.26', '$749.00', '$3,058.49', '$1,248.60',\n",
              "       '$1,050.80', '$1,565.20', '$1,749.00', '$4,945.00', '$3,499.00',\n",
              "       '$179.00', '$299.00', '$269.00', '$319.99', '$318.99', '$1,416.45',\n",
              "       '$289.00', '$229.00', '$519.00', '$449.99', '$629.00', '$609.00',\n",
              "       '$599.00', '$169.00', '$988.31', '$299.99', '$599.99', '$2,595.91',\n",
              "       '$3,019.99', '$234.00', '$764.00', '$339.00', '$129.99', '$469.00',\n",
              "       '$3,299.99', '$687.49', '$319.00', '$279.99', '$606.96', '$199.99',\n",
              "       '$969.00', '$399.99', '$179.95', '$489.00', '$118.99', '$899.99',\n",
              "       '$329.00', '$526.07', '$796.81', '$909.00', '$1,148.99', '$489.99',\n",
              "       '$669.00', '$178.00', '$1,199.99', '$1,582.86', '$3,799.99',\n",
              "       '$3,038.00', '$239.99', '$749.99', '$637.98', '$1,040.38',\n",
              "       '$90.95', '$447.99', '$929.99', '$1,353.91', '$349.00', '$154.00',\n",
              "       '$155.50', '$1,351.97', '$1,029.99', '$147.88', '$79.99',\n",
              "       '$140.66', '$1,093.96', '$554.17', '$315.00', '$1,219.90',\n",
              "       '$709.99', '$1,139.00', '$499.00', '$164.95', '$628.00', '$479.99',\n",
              "       '$139.00', '$2,109.00', '$249.88', '$598.99', '$159.98', '$432.99',\n",
              "       '$1,149.99', '$199.00', '$212.80', '$122.96', '$833.11', '$758.99',\n",
              "       '$398.00', '$174.99', '$612.48', '$369.00', '$2,009.00', '$797.81',\n",
              "       '$939.99', '$559.00', '$849.99', '$405.00', '$179.99', '$719.00',\n",
              "       '$499.99', '$729.00', '$368.00', '$799.99', '$274.95', '$225.99',\n",
              "       '$215.00', '$181.95', '$569.99', '$298.00', '$200.00', '$149.00',\n",
              "       '$879.99', '$99.99', '$381.99', '$702.00', '$627.54', '$339.10',\n",
              "       '$187.00', '$959.00', '$2,399.99', '$900.00', '$3,399.99',\n",
              "       '$2,800.00', '$2,950.00', '$3,499.99', '$2,699.99', '$542.96',\n",
              "       '$629.99', '$579.99', '$749.90', '$3,454.99', '$2,999.99',\n",
              "       '$3,049.99', '$3,754.99', '$3,654.99', '$4,599.99', '$2,446.00',\n",
              "       '$3,300.00', '$374.99', '$655.00', '$1,599.99', '$2,899.99',\n",
              "       '$2,799.99', '$649.99', '$3,699.99', '$569.00', '$4,399.99',\n",
              "       '$189.00', '$800.23', '$600.00', '$386.00', '$379.99', '$4,999.99',\n",
              "       '$1,850.00', '$436.99', '$1,524.99', '$589.99', '$2,299.99',\n",
              "       '$2,689.99', '$1,049.00', '$479.00', '$497.82', '$869.99',\n",
              "       '$437.62', '$379.00', '$598.00', '$131.00', '$439.99', '$375.99',\n",
              "       '$219.00', '$3,699.00', '$880.00', '$1,298.96', '$890.99',\n",
              "       '$614.99', '$3,774.81', '$1,816.81', '$1,214.75', '$1,319.63',\n",
              "       '$1,202.71', '$1,339.99', '$849.00', '$745.00', '$1,379.99',\n",
              "       '$159.99', '$1,949.33', '$439.00', '$1,069.00', '$758.00',\n",
              "       '$399.00', '$869.00', '$325.00', '$739.00', '$835.00', '$1,458.99',\n",
              "       '$649.66', '$374.82', '$583.93', '$561.96', '$359.12', '$1,779.99',\n",
              "       '$679.00', '$665.99', '$2,275.00', '$589.00', '$529.99', '$140.00',\n",
              "       '$592.77', '$1,727.10', '$586.98', '$1,079.99', '$1,349.99',\n",
              "       '$647.00', '$768.00', '$2,461.98', '$3,899.00', '$6,089.00',\n",
              "       '$829.00', '$3,149.00', '$4,199.00', '$1,425.00', '$3,099.00',\n",
              "       '$1,197.99', '$1,125.00', '$1,328.99', '$1,409.99', '$698.88',\n",
              "       '$929.00', '$1,339.00', '$919.99', '$1,359.00', '$1,114.07',\n",
              "       '$1,209.99', '$433.95', '$1,779.00', '$1,849.00', '$1,359.99',\n",
              "       '$959.49', '$211.90', '$169.99', '$135.00', '$996.00', '$2,072.80',\n",
              "       '$2,109.99', '$1,329.99', '$1,318.99', '$1,899.99', '$248.00',\n",
              "       '$1,379.00', '$1,694.55', '$149.99', '$991.99', '$309.99',\n",
              "       '$370.00', '$1,459.90', '$188.00', '$159.88', '$1,100.00',\n",
              "       '$879.49', '$359.00', '$695.98', '$1,589.16', '$1,226.99',\n",
              "       '$173.98', '$509.00', '$333.99', '$1,525.00', '$483.74',\n",
              "       '$1,419.99', '$194.99', '$516.00', '$1,601.17', '$998.00',\n",
              "       '$1,254.96', '$1,349.79', '$1,175.00', '$1,996.99', '$1,269.99',\n",
              "       '$3,559.99', '$798.50', '$1,521.53', '$1,854.17', '$1,799.99',\n",
              "       '$965.00', '$1,094.96', '$1,499.89', '$1,343.02', '$879.98',\n",
              "       '$979.00', '$1,480.00', '$820.68', '$1,157.97', '$642.46',\n",
              "       '$962.99', '$103.99', '$1,579.90', '$1,028.14', '$2,444.49',\n",
              "       '$2,001.44', '$2,278.93', '$2,320.96', '$2,303.21', '$796.55',\n",
              "       '$1,542.96', '$130.00', '$1,847.99', '$2,639.12', '$352.00',\n",
              "       '$317.00', '$680.00', '$809.00', '$385.55', '$397.00', '$1,549.99',\n",
              "       '$1,289.00', '$3,748.99', '$1,399.81', '$1,999.95', '$3,200.99',\n",
              "       '$3,999.00', '$1,549.95', '$779.00', '$4,799.81', '$4,999.81',\n",
              "       '$1,499.81', '$1,599.95', '$1,399.95', '$4,699.00', '$1,499.95',\n",
              "       '$1,224.99', '$839.00', '$4,999.95', '$4,799.00', '$3,299.95',\n",
              "       '$2,899.98', '$1,599.81', '$2,499.95', '$1,749.81', '$2,794.81',\n",
              "       '$1,099.81', '$1,699.95', '$3,699.95', '$1,569.81', '$1,369.47',\n",
              "       '$1,299.81', '$1,594.95', '$2,214.85', '$1,725.00', '$2,187.49',\n",
              "       '$6,599.00', '$1,356.29', '$715.00', '$1,664.99', '$2,314.19',\n",
              "       '$1,149.61', '$887.05', '$679.99', '$1,203.96', '$568.00',\n",
              "       '$259.00', '$839.99', '$449.00', '$549.00', '$304.94', '$807.99',\n",
              "       '$249.00', '$549.99', '$269.95', '$337.00', '$245.00', '$159.00',\n",
              "       '$989.00', '$429.99', '$358.00', '$638.99', '$489.90', '$387.00',\n",
              "       '$769.00', '$539.00', '$834.21', '$279.00', '$796.96', '$529.00',\n",
              "       '$634.99', '$356.00', '$509.99', '$105.10', '$619.24', '$468.00',\n",
              "       '$418.63', '$455.99', '$214.00', '$324.97', '$289.99', '$273.00',\n",
              "       '$1,129.00', '$1,049.99', '$299.98', '$667.49', '$450.70',\n",
              "       '$689.70', '$579.00', '$485.00', '$729.99', '$299.94', '$1,639.99',\n",
              "       '$438.95', '$340.77', '$465.00', '$438.34', '$329.99', '$679.73',\n",
              "       '$759.99', '$565.00', '$239.90', '$409.00', '$339.99', '$209.99',\n",
              "       '$419.00', '$582.90', '$173.21', '$527.50', '$228.00', '$1,509.00',\n",
              "       '$879.00', '$343.49', '$624.00', '$539.90', '$654.39', '$459.00',\n",
              "       '$142.00', '$1,000.00', '$955.00', '$254.99', '$399.90', '$670.29',\n",
              "       '$888.00', '$838.98', '$698.98', '$239.95', '$166.00', '$3,099.99',\n",
              "       '$1,559.99', '$469.90', '$685.00', '$424.00', '$249.99', '$639.99',\n",
              "       '$429.00', '$601.14', '$548.97', '$1,509.99', '$193.90', '$589.09',\n",
              "       '$219.99', '$45.99', '$578.88', '$502.00', '$719.99', '$113.00',\n",
              "       '$754.99', '$1,160.96', '$1,888.00', '$389.90', '$1,268.88',\n",
              "       '$899.74', '$119.00', '$989.99', '$69.99', '$628.41', '$935.79',\n",
              "       '$2,099.99', '$1,768.06', '$409.99', '$1,289.88', '$889.99',\n",
              "       '$1,309.80', '$586.66', '$2,999.69', '$1,509.90', '$2,379.00',\n",
              "       '$284.00', '$1,649.90', '$2,143.62', '$1,075.88', '$938.99',\n",
              "       '$965.99', '$189.99', '$193.04', '$475.99', '$585.28', '$499.98',\n",
              "       '$769.99', '$2,389.99', '$764.59', '$369.99', '$534.99',\n",
              "       '$1,517.99', '$1,265.75', '$443.96', '$1,795.00', '$968.00',\n",
              "       '$2,233.90', '$549.90', '$1,355.00', '$617.00', '$799.98',\n",
              "       '$1,809.00', '$778.98', '$388.00', '$662.86', '$265.99',\n",
              "       '$1,650.00', '$2,500.00', '$1,989.00', '$1,243.99', '$645.99',\n",
              "       '$625.99', '$1,379.90', '$734.99', '$979.99', '$2,179.00',\n",
              "       '$712.80', '$232.95', '$175.99', '$262.59', '$278.00', '$539.99',\n",
              "       '$269.90', '$939.00', '$223.99', '$209.00', '$1,358.99', '$635.99',\n",
              "       '$67.98', '$779.99', '$72.88', '$69.90', '$649.94', '$1,265.99',\n",
              "       '$49.95', '$49.99', '$560.00', '$446.89', '$1,950.99', '$785.00',\n",
              "       '$553.48', '$1,699.99', '$1,905.99', '$1,183.99', '$1,048.88',\n",
              "       '$98.00', '$669.99', '$38.98', '$163.99', '$1,259.99', '$1,109.99',\n",
              "       '$1,649.99', '$469.99', '$89.00', '$115.00', '$1,584.93',\n",
              "       '$1,644.20', '$2,346.69', '$893.96', '$54.98', '$1,204.97',\n",
              "       '$2,373.96', '$615.00', '$1,573.99', '$172.38', '$651.00',\n",
              "       '$741.99', '$265.89', '$1,319.64', '$86.93', '$1,098.97',\n",
              "       '$531.16', '$564.00', '$559.99', '$1,489.90', '$389.60', '$136.89',\n",
              "       '$1,136.98', '$2,450.00', '$750.00', '$599.90', '$659.00',\n",
              "       '$309.00', '$1,045.81', '$778.61', '$427.99', '$122.50', '$122.80',\n",
              "       '$624.95', '$520.00', '$973.00', '$639.00', '$410.90', '$151.00',\n",
              "       '$588.00', '$748.90', '$804.49', '$978.97', '$969.95', '$1,110.66',\n",
              "       '$104.99', '$460.00', '$590.90', '$1,243.94', '$1,269.00',\n",
              "       '$714.98', '$832.96', '$635.90', '$699.66', '$399.98', '$659.65',\n",
              "       '$207.88', '$1,093.97', '$269.99', '$1,948.98', '$437.59',\n",
              "       '$718.99', '$1,179.99', '$1,298.99', '$764.90', '$699.97',\n",
              "       '$560.99', '$234.98', '$124.99', '$514.82', '$1,148.54',\n",
              "       '$2,310.00', '$1,469.89', '$748.94', '$1,184.98', '$540.32',\n",
              "       '$2,322.92', '$971.51', '$800.10', '$819.89', '$2,052.69',\n",
              "       '$885.00', '$1,605.40', '$419.99', '$2,286.37', '$490.00',\n",
              "       '$1,503.02', '$1,637.40', '$134.99', '$555.00', '$450.00',\n",
              "       '$262.99'], dtype=object)"
            ]
          },
          "metadata": {},
          "execution_count": 426
        }
      ]
    },
    {
      "cell_type": "markdown",
      "source": [
        "**Observations and Operations**\n",
        "- At first, the dollar('$') sign should be removed from all the prices.\n",
        "- Later, prices can be converted into the local currency (Rupee)"
      ],
      "metadata": {
        "id": "0-NP9J0XI2lZ"
      }
    },
    {
      "cell_type": "code",
      "source": [
        "def price_preprocessing(price):\n",
        "  \"\"\"\n",
        "  The function is responsible for preprocessing the price.\n",
        "  Args\n",
        "  price : The price of the laptop.\n",
        "  Returns\n",
        "  price : The Price of laptop in rupee\n",
        "  \"\"\"\n",
        "  price = price.replace('$', '').replace(',', '')\n",
        "  price = float(price)\n",
        "  return price*80\n",
        "\n",
        "df.Price = df.Price.apply(price_preprocessing)"
      ],
      "metadata": {
        "id": "iOVdLDXUJThl"
      },
      "execution_count": 428,
      "outputs": []
    },
    {
      "cell_type": "code",
      "source": [
        "df.Price.head()"
      ],
      "metadata": {
        "colab": {
          "base_uri": "https://localhost:8080/",
          "height": 241
        },
        "id": "NWRRPh7wJ2oK",
        "outputId": "005a9e00-5ebe-4f66-ea4d-d18f5326248d"
      },
      "execution_count": 431,
      "outputs": [
        {
          "output_type": "execute_result",
          "data": {
            "text/plain": [
              "4     28799.2\n",
              "6     65440.0\n",
              "7     55920.0\n",
              "8    195999.2\n",
              "9    143996.0\n",
              "Name: Price, dtype: float64"
            ],
            "text/html": [
              "<div>\n",
              "<style scoped>\n",
              "    .dataframe tbody tr th:only-of-type {\n",
              "        vertical-align: middle;\n",
              "    }\n",
              "\n",
              "    .dataframe tbody tr th {\n",
              "        vertical-align: top;\n",
              "    }\n",
              "\n",
              "    .dataframe thead th {\n",
              "        text-align: right;\n",
              "    }\n",
              "</style>\n",
              "<table border=\"1\" class=\"dataframe\">\n",
              "  <thead>\n",
              "    <tr style=\"text-align: right;\">\n",
              "      <th></th>\n",
              "      <th>Price</th>\n",
              "    </tr>\n",
              "  </thead>\n",
              "  <tbody>\n",
              "    <tr>\n",
              "      <th>4</th>\n",
              "      <td>28799.2</td>\n",
              "    </tr>\n",
              "    <tr>\n",
              "      <th>6</th>\n",
              "      <td>65440.0</td>\n",
              "    </tr>\n",
              "    <tr>\n",
              "      <th>7</th>\n",
              "      <td>55920.0</td>\n",
              "    </tr>\n",
              "    <tr>\n",
              "      <th>8</th>\n",
              "      <td>195999.2</td>\n",
              "    </tr>\n",
              "    <tr>\n",
              "      <th>9</th>\n",
              "      <td>143996.0</td>\n",
              "    </tr>\n",
              "  </tbody>\n",
              "</table>\n",
              "</div><br><label><b>dtype:</b> float64</label>"
            ]
          },
          "metadata": {},
          "execution_count": 431
        }
      ]
    },
    {
      "cell_type": "code",
      "source": [
        "df.shape"
      ],
      "metadata": {
        "colab": {
          "base_uri": "https://localhost:8080/"
        },
        "id": "JgiL5IbjB2zt",
        "outputId": "0a4415e6-d61c-4bdc-ca0e-78b07cf119ed"
      },
      "execution_count": 422,
      "outputs": [
        {
          "output_type": "execute_result",
          "data": {
            "text/plain": [
              "(1401, 8)"
            ]
          },
          "metadata": {},
          "execution_count": 422
        }
      ]
    },
    {
      "cell_type": "markdown",
      "source": [
        "## **Exploratory Data Analysis (EDA)**"
      ],
      "metadata": {
        "id": "5H_QwSyMAKYx"
      }
    },
    {
      "cell_type": "code",
      "source": [
        "df.columns"
      ],
      "metadata": {
        "colab": {
          "base_uri": "https://localhost:8080/"
        },
        "id": "pH5je-aG_bse",
        "outputId": "44fa9cc2-62f8-4a33-cdeb-b47923a24acb"
      },
      "execution_count": 414,
      "outputs": [
        {
          "output_type": "execute_result",
          "data": {
            "text/plain": [
              "Index(['Brand', 'Screen_Size', 'CPU_Model', 'Ram', 'Rating', 'Graphics',\n",
              "       'Disk_size', 'Price'],\n",
              "      dtype='object')"
            ]
          },
          "metadata": {},
          "execution_count": 414
        }
      ]
    },
    {
      "cell_type": "code",
      "source": [
        "df.info()"
      ],
      "metadata": {
        "colab": {
          "base_uri": "https://localhost:8080/"
        },
        "id": "PXKw79Gk_c8S",
        "outputId": "be793ad2-0312-439e-eb19-09bce2b6a45b"
      },
      "execution_count": 429,
      "outputs": [
        {
          "output_type": "stream",
          "name": "stdout",
          "text": [
            "<class 'pandas.core.frame.DataFrame'>\n",
            "Index: 1401 entries, 4 to 2595\n",
            "Data columns (total 8 columns):\n",
            " #   Column       Non-Null Count  Dtype  \n",
            "---  ------       --------------  -----  \n",
            " 0   Brand        1401 non-null   object \n",
            " 1   Screen_Size  1401 non-null   float64\n",
            " 2   CPU_Model    1401 non-null   object \n",
            " 3   Ram          1401 non-null   int64  \n",
            " 4   Rating       1401 non-null   float64\n",
            " 5   Graphics     1401 non-null   object \n",
            " 6   Disk_size    1401 non-null   int64  \n",
            " 7   Price        1401 non-null   float64\n",
            "dtypes: float64(3), int64(2), object(3)\n",
            "memory usage: 98.5+ KB\n"
          ]
        }
      ]
    },
    {
      "cell_type": "code",
      "source": [
        "numeric_features = df.select_dtypes(include='number').columns\n",
        "numeric_features"
      ],
      "metadata": {
        "colab": {
          "base_uri": "https://localhost:8080/"
        },
        "id": "YvPQrjAe_g6n",
        "outputId": "3854d585-6ed0-4662-abd3-c0f99f499e0e"
      },
      "execution_count": 432,
      "outputs": [
        {
          "output_type": "execute_result",
          "data": {
            "text/plain": [
              "Index(['Screen_Size', 'Ram', 'Rating', 'Disk_size', 'Price'], dtype='object')"
            ]
          },
          "metadata": {},
          "execution_count": 432
        }
      ]
    },
    {
      "cell_type": "code",
      "source": [
        "sns.pairplot(df[numeric_features])"
      ],
      "metadata": {
        "colab": {
          "base_uri": "https://localhost:8080/",
          "height": 1000
        },
        "id": "Q_qgwozr_8Y4",
        "outputId": "3d988ba0-3075-4213-8568-8cbe5afb32a9"
      },
      "execution_count": 433,
      "outputs": [
        {
          "output_type": "execute_result",
          "data": {
            "text/plain": [
              "<seaborn.axisgrid.PairGrid at 0x7eb4b28aa9e0>"
            ]
          },
          "metadata": {},
          "execution_count": 433
        },
        {
          "output_type": "display_data",
          "data": {
            "text/plain": [
              "<Figure size 1250x1250 with 30 Axes>"
            ],
            "image/png": "[encoded data removed]"
          },
          "metadata": {}
        }
      ]
    },
    {
      "cell_type": "code",
      "source": [
        "sns.heatmap(df[numeric_features].corr(), annot=True)"
      ],
      "metadata": {
        "colab": {
          "base_uri": "https://localhost:8080/",
          "height": 452
        },
        "id": "-sJnt_hoAEz6",
        "outputId": "d8bcec10-b9ba-47e7-8974-81fb5cbe5b10"
      },
      "execution_count": 434,
      "outputs": [
        {
          "output_type": "execute_result",
          "data": {
            "text/plain": [
              "<Axes: >"
            ]
          },
          "metadata": {},
          "execution_count": 434
        },
        {
          "output_type": "display_data",
          "data": {
            "text/plain": [
              "<Figure size 640x480 with 2 Axes>"
            ],
            "image/png": "[encoded data removed]"
          },
          "metadata": {}
        }
      ]
    },
    {
      "cell_type": "code",
      "source": [
        "df.columns"
      ],
      "metadata": {
        "colab": {
          "base_uri": "https://localhost:8080/"
        },
        "id": "0sWg2UwvBY8d",
        "outputId": "f0f6fdac-2949-4202-8024-0eb7949564b4"
      },
      "execution_count": 435,
      "outputs": [
        {
          "output_type": "execute_result",
          "data": {
            "text/plain": [
              "Index(['Brand', 'Screen_Size', 'CPU_Model', 'Ram', 'Rating', 'Graphics',\n",
              "       'Disk_size', 'Price'],\n",
              "      dtype='object')"
            ]
          },
          "metadata": {},
          "execution_count": 435
        }
      ]
    },
    {
      "cell_type": "code",
      "source": [
        "df.Ram.plot(kind='hist', bins=100)"
      ],
      "metadata": {
        "colab": {
          "base_uri": "https://localhost:8080/",
          "height": 447
        },
        "id": "c0Uq5RrZM0y2",
        "outputId": "e357e7f9-0c1d-4e56-a457-9ee018dc46b0"
      },
      "execution_count": 439,
      "outputs": [
        {
          "output_type": "execute_result",
          "data": {
            "text/plain": [
              "<Axes: ylabel='Frequency'>"
            ]
          },
          "metadata": {},
          "execution_count": 439
        },
        {
          "output_type": "display_data",
          "data": {
            "text/plain": [
              "<Figure size 640x480 with 1 Axes>"
            ],
            "image/png": "[encoded data removed]"
          },
          "metadata": {}
        }
      ]
    },
    {
      "cell_type": "code",
      "source": [
        "df[df.Ram > 64]['Ram']"
      ],
      "metadata": {
        "colab": {
          "base_uri": "https://localhost:8080/",
          "height": 178
        },
        "id": "zq06-2P4NFqm",
        "outputId": "3764a2de-31d2-4c56-f008-b4cc5cf241b6"
      },
      "execution_count": 448,
      "outputs": [
        {
          "output_type": "execute_result",
          "data": {
            "text/plain": [
              "189    128\n",
              "198    128\n",
              "907    128\n",
              "Name: Ram, dtype: int64"
            ],
            "text/html": [
              "<div>\n",
              "<style scoped>\n",
              "    .dataframe tbody tr th:only-of-type {\n",
              "        vertical-align: middle;\n",
              "    }\n",
              "\n",
              "    .dataframe tbody tr th {\n",
              "        vertical-align: top;\n",
              "    }\n",
              "\n",
              "    .dataframe thead th {\n",
              "        text-align: right;\n",
              "    }\n",
              "</style>\n",
              "<table border=\"1\" class=\"dataframe\">\n",
              "  <thead>\n",
              "    <tr style=\"text-align: right;\">\n",
              "      <th></th>\n",
              "      <th>Ram</th>\n",
              "    </tr>\n",
              "  </thead>\n",
              "  <tbody>\n",
              "    <tr>\n",
              "      <th>189</th>\n",
              "      <td>128</td>\n",
              "    </tr>\n",
              "    <tr>\n",
              "      <th>198</th>\n",
              "      <td>128</td>\n",
              "    </tr>\n",
              "    <tr>\n",
              "      <th>907</th>\n",
              "      <td>128</td>\n",
              "    </tr>\n",
              "  </tbody>\n",
              "</table>\n",
              "</div><br><label><b>dtype:</b> int64</label>"
            ]
          },
          "metadata": {},
          "execution_count": 448
        }
      ]
    },
    {
      "cell_type": "code",
      "source": [
        "df.drop(df[df.Ram > 64].index, inplace=True)"
      ],
      "metadata": {
        "id": "vq3sj_0MPhLK"
      },
      "execution_count": 453,
      "outputs": []
    },
    {
      "cell_type": "code",
      "source": [
        "df.Ram.plot(kind='hist', bins=100)"
      ],
      "metadata": {
        "colab": {
          "base_uri": "https://localhost:8080/",
          "height": 447
        },
        "id": "twV_HxMnPpJo",
        "outputId": "6a78e8a7-b35e-4e1e-e4be-25e6dd92af27"
      },
      "execution_count": 454,
      "outputs": [
        {
          "output_type": "execute_result",
          "data": {
            "text/plain": [
              "<Axes: ylabel='Frequency'>"
            ]
          },
          "metadata": {},
          "execution_count": 454
        },
        {
          "output_type": "display_data",
          "data": {
            "text/plain": [
              "<Figure size 640x480 with 1 Axes>"
            ],
            "image/png": "[encoded data removed]"
          },
          "metadata": {}
        }
      ]
    },
    {
      "cell_type": "code",
      "source": [
        "df.Disk_size.plot(kind='hist', bins=200)"
      ],
      "metadata": {
        "colab": {
          "base_uri": "https://localhost:8080/",
          "height": 465
        },
        "id": "NFxbrVDjNrCS",
        "outputId": "0516d56b-5855-4d5b-b78d-75342f5ec903"
      },
      "execution_count": 450,
      "outputs": [
        {
          "output_type": "execute_result",
          "data": {
            "text/plain": [
              "<Axes: ylabel='Frequency'>"
            ]
          },
          "metadata": {},
          "execution_count": 450
        },
        {
          "output_type": "display_data",
          "data": {
            "text/plain": [
              "<Figure size 640x480 with 1 Axes>"
            ],
            "image/png": "[encoded data removed]"
          },
          "metadata": {}
        }
      ]
    },
    {
      "cell_type": "code",
      "source": [
        "df.Disk_size.unique()"
      ],
      "metadata": {
        "colab": {
          "base_uri": "https://localhost:8080/"
        },
        "id": "hJotX_j6OMuA",
        "outputId": "d1d418d0-950f-4e4d-ed53-b9d750bc6cc4"
      },
      "execution_count": 451,
      "outputs": [
        {
          "output_type": "execute_result",
          "data": {
            "text/plain": [
              "array([    256,     512,    2048,    1024,      32,      16,    3072,\n",
              "          4096,     320,     128,    1000, 1024000,      64,     500,\n",
              "            24,     628,     160,       8,    6144,    1512,    1256,\n",
              "          1128,    2000,      80,      40,     384,      12,      65,\n",
              "        131072])"
            ]
          },
          "metadata": {},
          "execution_count": 451
        }
      ]
    },
    {
      "cell_type": "code",
      "source": [
        "df[df.Disk_size > 4096]['Disk_size']"
      ],
      "metadata": {
        "colab": {
          "base_uri": "https://localhost:8080/",
          "height": 178
        },
        "id": "2Z1ksW9uObaN",
        "outputId": "41f1dbd1-144e-427a-efc0-139ed9edde3f"
      },
      "execution_count": 452,
      "outputs": [
        {
          "output_type": "execute_result",
          "data": {
            "text/plain": [
              "246     1024000\n",
              "907        6144\n",
              "2153     131072\n",
              "Name: Disk_size, dtype: int64"
            ],
            "text/html": [
              "<div>\n",
              "<style scoped>\n",
              "    .dataframe tbody tr th:only-of-type {\n",
              "        vertical-align: middle;\n",
              "    }\n",
              "\n",
              "    .dataframe tbody tr th {\n",
              "        vertical-align: top;\n",
              "    }\n",
              "\n",
              "    .dataframe thead th {\n",
              "        text-align: right;\n",
              "    }\n",
              "</style>\n",
              "<table border=\"1\" class=\"dataframe\">\n",
              "  <thead>\n",
              "    <tr style=\"text-align: right;\">\n",
              "      <th></th>\n",
              "      <th>Disk_size</th>\n",
              "    </tr>\n",
              "  </thead>\n",
              "  <tbody>\n",
              "    <tr>\n",
              "      <th>246</th>\n",
              "      <td>1024000</td>\n",
              "    </tr>\n",
              "    <tr>\n",
              "      <th>907</th>\n",
              "      <td>6144</td>\n",
              "    </tr>\n",
              "    <tr>\n",
              "      <th>2153</th>\n",
              "      <td>131072</td>\n",
              "    </tr>\n",
              "  </tbody>\n",
              "</table>\n",
              "</div><br><label><b>dtype:</b> int64</label>"
            ]
          },
          "metadata": {},
          "execution_count": 452
        }
      ]
    },
    {
      "cell_type": "code",
      "source": [
        "df.drop(df[df.Disk_size > 4096].index, inplace=True)"
      ],
      "metadata": {
        "id": "DpEPaLZqPc51"
      },
      "execution_count": 455,
      "outputs": []
    },
    {
      "cell_type": "code",
      "source": [
        "df.Disk_size.plot(kind='hist', bins=200)"
      ],
      "metadata": {
        "colab": {
          "base_uri": "https://localhost:8080/",
          "height": 447
        },
        "id": "P4k1zN8QPtsc",
        "outputId": "3057a3e5-3e2b-4ef3-ec02-f4ccf83c795b"
      },
      "execution_count": 456,
      "outputs": [
        {
          "output_type": "execute_result",
          "data": {
            "text/plain": [
              "<Axes: ylabel='Frequency'>"
            ]
          },
          "metadata": {},
          "execution_count": 456
        },
        {
          "output_type": "display_data",
          "data": {
            "text/plain": [
              "<Figure size 640x480 with 1 Axes>"
            ],
            "image/png": "[encoded data removed]"
          },
          "metadata": {}
        }
      ]
    },
    {
      "cell_type": "code",
      "source": [
        "df.Price.plot(kind='hist', bins=100)"
      ],
      "metadata": {
        "colab": {
          "base_uri": "https://localhost:8080/",
          "height": 447
        },
        "id": "RkracwvGPvQN",
        "outputId": "de34ad09-9394-4ea5-d8aa-57e1faa75be7"
      },
      "execution_count": 457,
      "outputs": [
        {
          "output_type": "execute_result",
          "data": {
            "text/plain": [
              "<Axes: ylabel='Frequency'>"
            ]
          },
          "metadata": {},
          "execution_count": 457
        },
        {
          "output_type": "display_data",
          "data": {
            "text/plain": [
              "<Figure size 640x480 with 1 Axes>"
            ],
            "image/png": "[encoded data removed]"
          },
          "metadata": {}
        }
      ]
    },
    {
      "cell_type": "code",
      "source": [
        "df[(df.Price < 10000) | (df.Price > 250000)].shape"
      ],
      "metadata": {
        "colab": {
          "base_uri": "https://localhost:8080/"
        },
        "id": "TvczbHbzP7Lj",
        "outputId": "402a39c6-b669-4247-f184-7e6cba0f2fe9"
      },
      "execution_count": 465,
      "outputs": [
        {
          "output_type": "execute_result",
          "data": {
            "text/plain": [
              "(93, 8)"
            ]
          },
          "metadata": {},
          "execution_count": 465
        }
      ]
    },
    {
      "cell_type": "code",
      "source": [
        "df.drop(df[(df.Price < 10000) | (df.Price > 250000)].index, inplace=True)"
      ],
      "metadata": {
        "id": "W1fRIlo7QQRg"
      },
      "execution_count": 466,
      "outputs": []
    },
    {
      "cell_type": "code",
      "source": [
        "df.Price.plot(kind='hist', bins=100)"
      ],
      "metadata": {
        "colab": {
          "base_uri": "https://localhost:8080/",
          "height": 447
        },
        "id": "zElsu2WPQwTu",
        "outputId": "e638e9c1-e428-42e1-b908-1a69ded73b76"
      },
      "execution_count": 467,
      "outputs": [
        {
          "output_type": "execute_result",
          "data": {
            "text/plain": [
              "<Axes: ylabel='Frequency'>"
            ]
          },
          "metadata": {},
          "execution_count": 467
        },
        {
          "output_type": "display_data",
          "data": {
            "text/plain": [
              "<Figure size 640x480 with 1 Axes>"
            ],
            "image/png": "[encoded data removed]"
          },
          "metadata": {}
        }
      ]
    },
    {
      "cell_type": "code",
      "source": [],
      "metadata": {
        "id": "9OV-95CcQyBe"
      },
      "execution_count": null,
      "outputs": []
    }
  ]
}