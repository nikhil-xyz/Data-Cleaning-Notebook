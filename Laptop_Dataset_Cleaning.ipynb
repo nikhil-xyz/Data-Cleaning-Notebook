{
  "nbformat": 4,
  "nbformat_minor": 0,
  "metadata": {
    "colab": {
      "provenance": [],
      "authorship_tag": "ABX9TyN9a+eJjA+RyHmB+aMbMMiL",
      "include_colab_link": true
    },
    "kernelspec": {
      "name": "python3",
      "display_name": "Python 3"
    },
    "language_info": {
      "name": "python"
    }
  },
  "cells": [
    {
      "cell_type": "markdown",
      "metadata": {
        "id": "view-in-github",
        "colab_type": "text"
      },
      "source": [
        "<a href=\"https://colab.research.google.com/github/nikhil-xyz/Data-Cleaning-Notebook/blob/main/Laptop_Dataset_Cleaning.ipynb\" target=\"_parent\"><img src=\"https://colab.research.google.com/assets/colab-badge.svg\" alt=\"Open In Colab\"/></a>"
      ]
    },
    {
      "cell_type": "markdown",
      "source": [
        "# **Laptop Dataset**"
      ],
      "metadata": {
        "id": "W-k8geDtGK9E"
      }
    },
    {
      "cell_type": "markdown",
      "source": [
        "This dataset consists of comprehensive collection of latest available laptops scraped from Amazon.com. The data includes product details such as the rating, price, operating system, title, disk size, display size, etc. This dataset comprises approximately 2.8K data points, each representing a unique laptop listing, and includes 17 distinct features.\n",
        "\n",
        "source(kaggle) : https://www.kaggle.com/datasets/talhabarkaatahmad/laptop-prices-dataset-october-2023\n",
        "\n",
        "**Data Dictionary**\n",
        "- **brand** : Make of laptop\n",
        "- **model** : model of laptop\n",
        "- **screen size** : The size of the laptop's display in inches.\n",
        "- **color** : Color of laptop\n",
        "- **hard disk** : Hard disk installed in GBs or TBs\n",
        "- **CPU** : Processor installed\n",
        "- **RAM** : RAM installed in laptop\n",
        "- **Operating system (OS)** : The operating system of the laptop.\n",
        "- **Special Features** : Extra features\n",
        "- **Graphics card** : Graphics card\n",
        "- **Graphics coprocessor** : Graphics card\n",
        "- **CPU rating** : CPU rating\n",
        "- **Rating** : The average customer rating out of 5 as of October 2023.\n",
        "- **Price** : The price of the product in USD as of October 2023.\n",
        "\n",
        "Dataset has been downloaded from the kaggle and stored in one of the github repository.\n",
        "\n",
        "repository_raw_dataset_url = https://raw.githubusercontent.com/nikhil-xyz/datasets/refs/heads/main/laptop_uncleaned.csv'"
      ],
      "metadata": {
        "id": "atfTv4plGTBV"
      }
    },
    {
      "cell_type": "code",
      "execution_count": 2307,
      "metadata": {
        "id": "jY5kZsLS_33C"
      },
      "outputs": [],
      "source": [
        "# Importing dependencies\n",
        "import pandas as pd\n",
        "import numpy as np\n",
        "import matplotlib.pyplot as plt\n",
        "import re\n",
        "import seaborn as sns"
      ]
    },
    {
      "cell_type": "code",
      "source": [
        "# Reading the dataset\n",
        "df = pd.read_csv('https://raw.githubusercontent.com/nikhil-xyz/datasets/refs/heads/main/laptop_uncleaned.csv')"
      ],
      "metadata": {
        "id": "iNcs-kk7ABcx"
      },
      "execution_count": 2308,
      "outputs": []
    },
    {
      "cell_type": "code",
      "source": [
        "df.head()"
      ],
      "metadata": {
        "colab": {
          "base_uri": "https://localhost:8080/",
          "height": 466
        },
        "id": "tK7x3WfaAPMQ",
        "outputId": "ac3ac33a-9696-4976-98b5-797af4b9d35d"
      },
      "execution_count": 2309,
      "outputs": [
        {
          "output_type": "execute_result",
          "data": {
            "text/plain": [
              "                                               Title      Brand  Screen_Size  \\\n",
              "0  Microsoft Surface Laptop Intel Core i5 7th Gen...  Microsoft  13.5 Inches   \n",
              "1  Microsoft Surface Laptop 3 13.5\" Touch-Screen ...  Microsoft  13.5 Inches   \n",
              "2  Microsoft Surface Laptop (Intel Core i7, 16GB ...  Microsoft  13.5 Inches   \n",
              "3  Microsoft Surface Laptop 3, 10th Gen Intel Cor...  Microsoft    13 Inches   \n",
              "4  2022 Microsoft Surface Laptop Go 12.4\" Touchsc...  Microsoft  12.4 Inches   \n",
              "\n",
              "                    CPU_Model    Ram Operating_System  Rating  \\\n",
              "0  1.2GHz Cortex A8 Processor   8 GB       Windows 10     4.4   \n",
              "1                     Core i5   8 GB       Windows 10     4.4   \n",
              "2                     Core i7  16 GB     Windows 10 S     3.9   \n",
              "3              Core i5-1035G7   8 GB  Windows 10 Home     4.2   \n",
              "4                     Core i5   4 GB   Windows 11 Pro     3.9   \n",
              "\n",
              "              Series        Color Resolution Weight  USB Battery  \\\n",
              "0              Intel     Platinum        NaN    NaN  NaN     NaN   \n",
              "1  Microsoft Surface  Matte Black        NaN    NaN  NaN     NaN   \n",
              "2     Surface Laptop     Platinum        NaN    NaN  NaN     NaN   \n",
              "3   Surface Laptop 3  Cobalt Blue        NaN    NaN  NaN     NaN   \n",
              "4  Surface Laptop Go       Silver        NaN    NaN  NaN     NaN   \n",
              "\n",
              "                       Graphics Disk_size   Card_desc    Price  \n",
              "0         Intel HD Graphics 620    256 GB  Integrated      NaN  \n",
              "1                           NaN       NaN         NaN      NaN  \n",
              "2  Intel Iris Plus Graphics 640    512 GB  Integrated      NaN  \n",
              "3               Intel Iris Plus       NaN  Integrated      NaN  \n",
              "4                           NaN    256 GB  Integrated  $359.99  "
            ],
            "text/html": [
              "\n",
              "  <div id=\"df-6d59e43b-b603-4fbb-a96b-423404adc13a\" class=\"colab-df-container\">\n",
              "    <div>\n",
              "<style scoped>\n",
              "    .dataframe tbody tr th:only-of-type {\n",
              "        vertical-align: middle;\n",
              "    }\n",
              "\n",
              "    .dataframe tbody tr th {\n",
              "        vertical-align: top;\n",
              "    }\n",
              "\n",
              "    .dataframe thead th {\n",
              "        text-align: right;\n",
              "    }\n",
              "</style>\n",
              "<table border=\"1\" class=\"dataframe\">\n",
              "  <thead>\n",
              "    <tr style=\"text-align: right;\">\n",
              "      <th></th>\n",
              "      <th>Title</th>\n",
              "      <th>Brand</th>\n",
              "      <th>Screen_Size</th>\n",
              "      <th>CPU_Model</th>\n",
              "      <th>Ram</th>\n",
              "      <th>Operating_System</th>\n",
              "      <th>Rating</th>\n",
              "      <th>Series</th>\n",
              "      <th>Color</th>\n",
              "      <th>Resolution</th>\n",
              "      <th>Weight</th>\n",
              "      <th>USB</th>\n",
              "      <th>Battery</th>\n",
              "      <th>Graphics</th>\n",
              "      <th>Disk_size</th>\n",
              "      <th>Card_desc</th>\n",
              "      <th>Price</th>\n",
              "    </tr>\n",
              "  </thead>\n",
              "  <tbody>\n",
              "    <tr>\n",
              "      <th>0</th>\n",
              "      <td>Microsoft Surface Laptop Intel Core i5 7th Gen...</td>\n",
              "      <td>Microsoft</td>\n",
              "      <td>13.5 Inches</td>\n",
              "      <td>1.2GHz Cortex A8 Processor</td>\n",
              "      <td>8 GB</td>\n",
              "      <td>Windows 10</td>\n",
              "      <td>4.4</td>\n",
              "      <td>Intel</td>\n",
              "      <td>Platinum</td>\n",
              "      <td>NaN</td>\n",
              "      <td>NaN</td>\n",
              "      <td>NaN</td>\n",
              "      <td>NaN</td>\n",
              "      <td>Intel HD Graphics 620</td>\n",
              "      <td>256 GB</td>\n",
              "      <td>Integrated</td>\n",
              "      <td>NaN</td>\n",
              "    </tr>\n",
              "    <tr>\n",
              "      <th>1</th>\n",
              "      <td>Microsoft Surface Laptop 3 13.5\" Touch-Screen ...</td>\n",
              "      <td>Microsoft</td>\n",
              "      <td>13.5 Inches</td>\n",
              "      <td>Core i5</td>\n",
              "      <td>8 GB</td>\n",
              "      <td>Windows 10</td>\n",
              "      <td>4.4</td>\n",
              "      <td>Microsoft Surface</td>\n",
              "      <td>Matte Black</td>\n",
              "      <td>NaN</td>\n",
              "      <td>NaN</td>\n",
              "      <td>NaN</td>\n",
              "      <td>NaN</td>\n",
              "      <td>NaN</td>\n",
              "      <td>NaN</td>\n",
              "      <td>NaN</td>\n",
              "      <td>NaN</td>\n",
              "    </tr>\n",
              "    <tr>\n",
              "      <th>2</th>\n",
              "      <td>Microsoft Surface Laptop (Intel Core i7, 16GB ...</td>\n",
              "      <td>Microsoft</td>\n",
              "      <td>13.5 Inches</td>\n",
              "      <td>Core i7</td>\n",
              "      <td>16 GB</td>\n",
              "      <td>Windows 10 S</td>\n",
              "      <td>3.9</td>\n",
              "      <td>Surface Laptop</td>\n",
              "      <td>Platinum</td>\n",
              "      <td>NaN</td>\n",
              "      <td>NaN</td>\n",
              "      <td>NaN</td>\n",
              "      <td>NaN</td>\n",
              "      <td>Intel Iris Plus Graphics 640</td>\n",
              "      <td>512 GB</td>\n",
              "      <td>Integrated</td>\n",
              "      <td>NaN</td>\n",
              "    </tr>\n",
              "    <tr>\n",
              "      <th>3</th>\n",
              "      <td>Microsoft Surface Laptop 3, 10th Gen Intel Cor...</td>\n",
              "      <td>Microsoft</td>\n",
              "      <td>13 Inches</td>\n",
              "      <td>Core i5-1035G7</td>\n",
              "      <td>8 GB</td>\n",
              "      <td>Windows 10 Home</td>\n",
              "      <td>4.2</td>\n",
              "      <td>Surface Laptop 3</td>\n",
              "      <td>Cobalt Blue</td>\n",
              "      <td>NaN</td>\n",
              "      <td>NaN</td>\n",
              "      <td>NaN</td>\n",
              "      <td>NaN</td>\n",
              "      <td>Intel Iris Plus</td>\n",
              "      <td>NaN</td>\n",
              "      <td>Integrated</td>\n",
              "      <td>NaN</td>\n",
              "    </tr>\n",
              "    <tr>\n",
              "      <th>4</th>\n",
              "      <td>2022 Microsoft Surface Laptop Go 12.4\" Touchsc...</td>\n",
              "      <td>Microsoft</td>\n",
              "      <td>12.4 Inches</td>\n",
              "      <td>Core i5</td>\n",
              "      <td>4 GB</td>\n",
              "      <td>Windows 11 Pro</td>\n",
              "      <td>3.9</td>\n",
              "      <td>Surface Laptop Go</td>\n",
              "      <td>Silver</td>\n",
              "      <td>NaN</td>\n",
              "      <td>NaN</td>\n",
              "      <td>NaN</td>\n",
              "      <td>NaN</td>\n",
              "      <td>NaN</td>\n",
              "      <td>256 GB</td>\n",
              "      <td>Integrated</td>\n",
              "      <td>$359.99</td>\n",
              "    </tr>\n",
              "  </tbody>\n",
              "</table>\n",
              "</div>\n",
              "    <div class=\"colab-df-buttons\">\n",
              "\n",
              "  <div class=\"colab-df-container\">\n",
              "    <button class=\"colab-df-convert\" onclick=\"convertToInteractive('df-6d59e43b-b603-4fbb-a96b-423404adc13a')\"\n",
              "            title=\"Convert this dataframe to an interactive table.\"\n",
              "            style=\"display:none;\">\n",
              "\n",
              "  <svg xmlns=\"http://www.w3.org/2000/svg\" height=\"24px\" viewBox=\"0 -960 960 960\">\n",
              "    <path d=\"M120-120v-720h720v720H120Zm60-500h600v-160H180v160Zm220 220h160v-160H400v160Zm0 220h160v-160H400v160ZM180-400h160v-160H180v160Zm440 0h160v-160H620v160ZM180-180h160v-160H180v160Zm440 0h160v-160H620v160Z\"/>\n",
              "  </svg>\n",
              "    </button>\n",
              "\n",
              "  <style>\n",
              "    .colab-df-container {\n",
              "      display:flex;\n",
              "      gap: 12px;\n",
              "    }\n",
              "\n",
              "    .colab-df-convert {\n",
              "      background-color: #E8F0FE;\n",
              "      border: none;\n",
              "      border-radius: 50%;\n",
              "      cursor: pointer;\n",
              "      display: none;\n",
              "      fill: #1967D2;\n",
              "      height: 32px;\n",
              "      padding: 0 0 0 0;\n",
              "      width: 32px;\n",
              "    }\n",
              "\n",
              "    .colab-df-convert:hover {\n",
              "      background-color: #E2EBFA;\n",
              "      box-shadow: 0px 1px 2px rgba(60, 64, 67, 0.3), 0px 1px 3px 1px rgba(60, 64, 67, 0.15);\n",
              "      fill: #174EA6;\n",
              "    }\n",
              "\n",
              "    .colab-df-buttons div {\n",
              "      margin-bottom: 4px;\n",
              "    }\n",
              "\n",
              "    [theme=dark] .colab-df-convert {\n",
              "      background-color: #3B4455;\n",
              "      fill: #D2E3FC;\n",
              "    }\n",
              "\n",
              "    [theme=dark] .colab-df-convert:hover {\n",
              "      background-color: #434B5C;\n",
              "      box-shadow: 0px 1px 3px 1px rgba(0, 0, 0, 0.15);\n",
              "      filter: drop-shadow(0px 1px 2px rgba(0, 0, 0, 0.3));\n",
              "      fill: #FFFFFF;\n",
              "    }\n",
              "  </style>\n",
              "\n",
              "    <script>\n",
              "      const buttonEl =\n",
              "        document.querySelector('#df-6d59e43b-b603-4fbb-a96b-423404adc13a button.colab-df-convert');\n",
              "      buttonEl.style.display =\n",
              "        google.colab.kernel.accessAllowed ? 'block' : 'none';\n",
              "\n",
              "      async function convertToInteractive(key) {\n",
              "        const element = document.querySelector('#df-6d59e43b-b603-4fbb-a96b-423404adc13a');\n",
              "        const dataTable =\n",
              "          await google.colab.kernel.invokeFunction('convertToInteractive',\n",
              "                                                    [key], {});\n",
              "        if (!dataTable) return;\n",
              "\n",
              "        const docLinkHtml = 'Like what you see? Visit the ' +\n",
              "          '<a target=\"_blank\" href=https://colab.research.google.com/notebooks/data_table.ipynb>data table notebook</a>'\n",
              "          + ' to learn more about interactive tables.';\n",
              "        element.innerHTML = '';\n",
              "        dataTable['output_type'] = 'display_data';\n",
              "        await google.colab.output.renderOutput(dataTable, element);\n",
              "        const docLink = document.createElement('div');\n",
              "        docLink.innerHTML = docLinkHtml;\n",
              "        element.appendChild(docLink);\n",
              "      }\n",
              "    </script>\n",
              "  </div>\n",
              "\n",
              "\n",
              "<div id=\"df-28c123de-b2ab-4d4a-b154-18e51c2d71b2\">\n",
              "  <button class=\"colab-df-quickchart\" onclick=\"quickchart('df-28c123de-b2ab-4d4a-b154-18e51c2d71b2')\"\n",
              "            title=\"Suggest charts\"\n",
              "            style=\"display:none;\">\n",
              "\n",
              "<svg xmlns=\"http://www.w3.org/2000/svg\" height=\"24px\"viewBox=\"0 0 24 24\"\n",
              "     width=\"24px\">\n",
              "    <g>\n",
              "        <path d=\"M19 3H5c-1.1 0-2 .9-2 2v14c0 1.1.9 2 2 2h14c1.1 0 2-.9 2-2V5c0-1.1-.9-2-2-2zM9 17H7v-7h2v7zm4 0h-2V7h2v10zm4 0h-2v-4h2v4z\"/>\n",
              "    </g>\n",
              "</svg>\n",
              "  </button>\n",
              "\n",
              "<style>\n",
              "  .colab-df-quickchart {\n",
              "      --bg-color: #E8F0FE;\n",
              "      --fill-color: #1967D2;\n",
              "      --hover-bg-color: #E2EBFA;\n",
              "      --hover-fill-color: #174EA6;\n",
              "      --disabled-fill-color: #AAA;\n",
              "      --disabled-bg-color: #DDD;\n",
              "  }\n",
              "\n",
              "  [theme=dark] .colab-df-quickchart {\n",
              "      --bg-color: #3B4455;\n",
              "      --fill-color: #D2E3FC;\n",
              "      --hover-bg-color: #434B5C;\n",
              "      --hover-fill-color: #FFFFFF;\n",
              "      --disabled-bg-color: #3B4455;\n",
              "      --disabled-fill-color: #666;\n",
              "  }\n",
              "\n",
              "  .colab-df-quickchart {\n",
              "    background-color: var(--bg-color);\n",
              "    border: none;\n",
              "    border-radius: 50%;\n",
              "    cursor: pointer;\n",
              "    display: none;\n",
              "    fill: var(--fill-color);\n",
              "    height: 32px;\n",
              "    padding: 0;\n",
              "    width: 32px;\n",
              "  }\n",
              "\n",
              "  .colab-df-quickchart:hover {\n",
              "    background-color: var(--hover-bg-color);\n",
              "    box-shadow: 0 1px 2px rgba(60, 64, 67, 0.3), 0 1px 3px 1px rgba(60, 64, 67, 0.15);\n",
              "    fill: var(--button-hover-fill-color);\n",
              "  }\n",
              "\n",
              "  .colab-df-quickchart-complete:disabled,\n",
              "  .colab-df-quickchart-complete:disabled:hover {\n",
              "    background-color: var(--disabled-bg-color);\n",
              "    fill: var(--disabled-fill-color);\n",
              "    box-shadow: none;\n",
              "  }\n",
              "\n",
              "  .colab-df-spinner {\n",
              "    border: 2px solid var(--fill-color);\n",
              "    border-color: transparent;\n",
              "    border-bottom-color: var(--fill-color);\n",
              "    animation:\n",
              "      spin 1s steps(1) infinite;\n",
              "  }\n",
              "\n",
              "  @keyframes spin {\n",
              "    0% {\n",
              "      border-color: transparent;\n",
              "      border-bottom-color: var(--fill-color);\n",
              "      border-left-color: var(--fill-color);\n",
              "    }\n",
              "    20% {\n",
              "      border-color: transparent;\n",
              "      border-left-color: var(--fill-color);\n",
              "      border-top-color: var(--fill-color);\n",
              "    }\n",
              "    30% {\n",
              "      border-color: transparent;\n",
              "      border-left-color: var(--fill-color);\n",
              "      border-top-color: var(--fill-color);\n",
              "      border-right-color: var(--fill-color);\n",
              "    }\n",
              "    40% {\n",
              "      border-color: transparent;\n",
              "      border-right-color: var(--fill-color);\n",
              "      border-top-color: var(--fill-color);\n",
              "    }\n",
              "    60% {\n",
              "      border-color: transparent;\n",
              "      border-right-color: var(--fill-color);\n",
              "    }\n",
              "    80% {\n",
              "      border-color: transparent;\n",
              "      border-right-color: var(--fill-color);\n",
              "      border-bottom-color: var(--fill-color);\n",
              "    }\n",
              "    90% {\n",
              "      border-color: transparent;\n",
              "      border-bottom-color: var(--fill-color);\n",
              "    }\n",
              "  }\n",
              "</style>\n",
              "\n",
              "  <script>\n",
              "    async function quickchart(key) {\n",
              "      const quickchartButtonEl =\n",
              "        document.querySelector('#' + key + ' button');\n",
              "      quickchartButtonEl.disabled = true;  // To prevent multiple clicks.\n",
              "      quickchartButtonEl.classList.add('colab-df-spinner');\n",
              "      try {\n",
              "        const charts = await google.colab.kernel.invokeFunction(\n",
              "            'suggestCharts', [key], {});\n",
              "      } catch (error) {\n",
              "        console.error('Error during call to suggestCharts:', error);\n",
              "      }\n",
              "      quickchartButtonEl.classList.remove('colab-df-spinner');\n",
              "      quickchartButtonEl.classList.add('colab-df-quickchart-complete');\n",
              "    }\n",
              "    (() => {\n",
              "      let quickchartButtonEl =\n",
              "        document.querySelector('#df-28c123de-b2ab-4d4a-b154-18e51c2d71b2 button');\n",
              "      quickchartButtonEl.style.display =\n",
              "        google.colab.kernel.accessAllowed ? 'block' : 'none';\n",
              "    })();\n",
              "  </script>\n",
              "</div>\n",
              "\n",
              "    </div>\n",
              "  </div>\n"
            ],
            "application/vnd.google.colaboratory.intrinsic+json": {
              "type": "dataframe",
              "variable_name": "df",
              "summary": "{\n  \"name\": \"df\",\n  \"rows\": 2843,\n  \"fields\": [\n    {\n      \"column\": \"Title\",\n      \"properties\": {\n        \"dtype\": \"string\",\n        \"num_unique_values\": 2420,\n        \"samples\": [\n          \"2022 Acer 11.6\\\" IPS Ultra-Light Chromebook, ARM Quad-Core Processor Up to 2.0 GHz, 4GB DDR4 Memory, 32GB eMMC SSD, Webcam, Chrome OS (Renewed)\",\n          \"MSI Summit E13 Flip EVO Professional Laptop: 13\\\" IPS-Level Touch Screen, Intel core i5-1135G7, Iris Xe, 16GB RAM, 512GB NVMe SSD, Win10 PRO, Ink Black (A11MT-095)\",\n          \"2022 ASUS VivoBook 15.6\\\" HD Business Laptop, Intel 10th Gen i3-1005G1 Up to 3.4GHz Beat i5-8250U, 12GB RAM, 512GB PCIE SSD, Bluetooth, Windows 11 in S, Slate Grey w/ 3in1 Accessories\"\n        ],\n        \"semantic_type\": \"\",\n        \"description\": \"\"\n      }\n    },\n    {\n      \"column\": \"Brand\",\n      \"properties\": {\n        \"dtype\": \"category\",\n        \"num_unique_values\": 52,\n        \"samples\": [\n          \"CHUWI\",\n          \"Laptop\",\n          \"Carlisle Paddles\"\n        ],\n        \"semantic_type\": \"\",\n        \"description\": \"\"\n      }\n    },\n    {\n      \"column\": \"Screen_Size\",\n      \"properties\": {\n        \"dtype\": \"category\",\n        \"num_unique_values\": 62,\n        \"samples\": [\n          \"14.5\",\n          \"16.6 Inches\",\n          \"13.5 Inches\"\n        ],\n        \"semantic_type\": \"\",\n        \"description\": \"\"\n      }\n    },\n    {\n      \"column\": \"CPU_Model\",\n      \"properties\": {\n        \"dtype\": \"category\",\n        \"num_unique_values\": 180,\n        \"samples\": [\n          \"Intel Core i5\",\n          \"AMD A Series\",\n          \"Celeron N2840\"\n        ],\n        \"semantic_type\": \"\",\n        \"description\": \"\"\n      }\n    },\n    {\n      \"column\": \"Ram\",\n      \"properties\": {\n        \"dtype\": \"category\",\n        \"num_unique_values\": 17,\n        \"samples\": [\n          \"8 GB\",\n          \"16 GB\",\n          \"24 GB\"\n        ],\n        \"semantic_type\": \"\",\n        \"description\": \"\"\n      }\n    },\n    {\n      \"column\": \"Operating_System\",\n      \"properties\": {\n        \"dtype\": \"category\",\n        \"num_unique_values\": 81,\n        \"samples\": [\n          \"Windows\",\n          \"Windows 10\",\n          \"Microsoft Windows 10 Professional (64bit)\"\n        ],\n        \"semantic_type\": \"\",\n        \"description\": \"\"\n      }\n    },\n    {\n      \"column\": \"Rating\",\n      \"properties\": {\n        \"dtype\": \"number\",\n        \"std\": 0.5565626190370833,\n        \"min\": 1.0,\n        \"max\": 5.0,\n        \"num_unique_values\": 34,\n        \"samples\": [\n          2.5,\n          3.6,\n          2.6\n        ],\n        \"semantic_type\": \"\",\n        \"description\": \"\"\n      }\n    },\n    {\n      \"column\": \"Series\",\n      \"properties\": {\n        \"dtype\": \"category\",\n        \"num_unique_values\": 1308,\n        \"samples\": [\n          \"S533EA-DH74\",\n          \"Dell Inspiron 3583\",\n          \"14Z90Q-K.AAB7U1\"\n        ],\n        \"semantic_type\": \"\",\n        \"description\": \"\"\n      }\n    },\n    {\n      \"column\": \"Color\",\n      \"properties\": {\n        \"dtype\": \"category\",\n        \"num_unique_values\": 242,\n        \"samples\": [\n          \"Blue Stone\",\n          \"Titanium Blue\",\n          \"Ash Gray\"\n        ],\n        \"semantic_type\": \"\",\n        \"description\": \"\"\n      }\n    },\n    {\n      \"column\": \"Resolution\",\n      \"properties\": {\n        \"dtype\": \"category\",\n        \"num_unique_values\": 14,\n        \"samples\": [\n          \"2K\",\n          \"720p, 4K\",\n          \"720p\"\n        ],\n        \"semantic_type\": \"\",\n        \"description\": \"\"\n      }\n    },\n    {\n      \"column\": \"Weight\",\n      \"properties\": {\n        \"dtype\": \"category\",\n        \"num_unique_values\": 46,\n        \"samples\": [\n          \"5.27 Pounds\",\n          \"8.2 Pounds\",\n          \"10 Pounds\"\n        ],\n        \"semantic_type\": \"\",\n        \"description\": \"\"\n      }\n    },\n    {\n      \"column\": \"USB\",\n      \"properties\": {\n        \"dtype\": \"number\",\n        \"std\": 0.7702449681266147,\n        \"min\": 1.0,\n        \"max\": 3.0,\n        \"num_unique_values\": 3,\n        \"samples\": [\n          2.0,\n          3.0,\n          1.0\n        ],\n        \"semantic_type\": \"\",\n        \"description\": \"\"\n      }\n    },\n    {\n      \"column\": \"Battery\",\n      \"properties\": {\n        \"dtype\": \"category\",\n        \"num_unique_values\": 5,\n        \"samples\": [\n          \"11.0, 17.0 Hours\",\n          \"17 Hours\",\n          \"1 Hours\"\n        ],\n        \"semantic_type\": \"\",\n        \"description\": \"\"\n      }\n    },\n    {\n      \"column\": \"Graphics\",\n      \"properties\": {\n        \"dtype\": \"category\",\n        \"num_unique_values\": 292,\n        \"samples\": [\n          \"Intel UHD Graphics 620\",\n          \"Intel UHD Graphics Integrated Graphics Card\",\n          \"NVIDIA GTX 1650 Ti MAX-Q\"\n        ],\n        \"semantic_type\": \"\",\n        \"description\": \"\"\n      }\n    },\n    {\n      \"column\": \"Disk_size\",\n      \"properties\": {\n        \"dtype\": \"category\",\n        \"num_unique_values\": 46,\n        \"samples\": [\n          \"300 GB\",\n          \"480 GB\",\n          \"256\"\n        ],\n        \"semantic_type\": \"\",\n        \"description\": \"\"\n      }\n    },\n    {\n      \"column\": \"Card_desc\",\n      \"properties\": {\n        \"dtype\": \"category\",\n        \"num_unique_values\": 69,\n        \"samples\": [\n          \"Intel XE, Dedicated\",\n          \"Integrated\",\n          \"Radeon Vega 7\"\n        ],\n        \"semantic_type\": \"\",\n        \"description\": \"\"\n      }\n    },\n    {\n      \"column\": \"Price\",\n      \"properties\": {\n        \"dtype\": \"category\",\n        \"num_unique_values\": 863,\n        \"samples\": [\n          \"$625.99\",\n          \"$679.73\",\n          \"$949.99\"\n        ],\n        \"semantic_type\": \"\",\n        \"description\": \"\"\n      }\n    }\n  ]\n}"
            }
          },
          "metadata": {},
          "execution_count": 2309
        }
      ]
    },
    {
      "cell_type": "code",
      "source": [
        "df.shape"
      ],
      "metadata": {
        "colab": {
          "base_uri": "https://localhost:8080/"
        },
        "id": "7qwfbp3iFHLF",
        "outputId": "b68027f0-2ed8-4a0c-85ec-050a50d52d11"
      },
      "execution_count": 2310,
      "outputs": [
        {
          "output_type": "execute_result",
          "data": {
            "text/plain": [
              "(2843, 17)"
            ]
          },
          "metadata": {},
          "execution_count": 2310
        }
      ]
    },
    {
      "cell_type": "code",
      "source": [
        "# Checking out missing values\n",
        "df.isna().sum()"
      ],
      "metadata": {
        "colab": {
          "base_uri": "https://localhost:8080/",
          "height": 617
        },
        "id": "2qSUC4z-FJef",
        "outputId": "e8bac2fd-1610-40bb-b261-6e518d19202a"
      },
      "execution_count": 2311,
      "outputs": [
        {
          "output_type": "execute_result",
          "data": {
            "text/plain": [
              "Title                  0\n",
              "Brand                 33\n",
              "Screen_Size           87\n",
              "CPU_Model            215\n",
              "Ram                  132\n",
              "Operating_System     120\n",
              "Rating               560\n",
              "Series               342\n",
              "Color                734\n",
              "Resolution          2661\n",
              "Weight              2777\n",
              "USB                 2808\n",
              "Battery             2836\n",
              "Graphics             780\n",
              "Disk_size            595\n",
              "Card_desc            208\n",
              "Price                980\n",
              "dtype: int64"
            ],
            "text/html": [
              "<div>\n",
              "<style scoped>\n",
              "    .dataframe tbody tr th:only-of-type {\n",
              "        vertical-align: middle;\n",
              "    }\n",
              "\n",
              "    .dataframe tbody tr th {\n",
              "        vertical-align: top;\n",
              "    }\n",
              "\n",
              "    .dataframe thead th {\n",
              "        text-align: right;\n",
              "    }\n",
              "</style>\n",
              "<table border=\"1\" class=\"dataframe\">\n",
              "  <thead>\n",
              "    <tr style=\"text-align: right;\">\n",
              "      <th></th>\n",
              "      <th>0</th>\n",
              "    </tr>\n",
              "  </thead>\n",
              "  <tbody>\n",
              "    <tr>\n",
              "      <th>Title</th>\n",
              "      <td>0</td>\n",
              "    </tr>\n",
              "    <tr>\n",
              "      <th>Brand</th>\n",
              "      <td>33</td>\n",
              "    </tr>\n",
              "    <tr>\n",
              "      <th>Screen_Size</th>\n",
              "      <td>87</td>\n",
              "    </tr>\n",
              "    <tr>\n",
              "      <th>CPU_Model</th>\n",
              "      <td>215</td>\n",
              "    </tr>\n",
              "    <tr>\n",
              "      <th>Ram</th>\n",
              "      <td>132</td>\n",
              "    </tr>\n",
              "    <tr>\n",
              "      <th>Operating_System</th>\n",
              "      <td>120</td>\n",
              "    </tr>\n",
              "    <tr>\n",
              "      <th>Rating</th>\n",
              "      <td>560</td>\n",
              "    </tr>\n",
              "    <tr>\n",
              "      <th>Series</th>\n",
              "      <td>342</td>\n",
              "    </tr>\n",
              "    <tr>\n",
              "      <th>Color</th>\n",
              "      <td>734</td>\n",
              "    </tr>\n",
              "    <tr>\n",
              "      <th>Resolution</th>\n",
              "      <td>2661</td>\n",
              "    </tr>\n",
              "    <tr>\n",
              "      <th>Weight</th>\n",
              "      <td>2777</td>\n",
              "    </tr>\n",
              "    <tr>\n",
              "      <th>USB</th>\n",
              "      <td>2808</td>\n",
              "    </tr>\n",
              "    <tr>\n",
              "      <th>Battery</th>\n",
              "      <td>2836</td>\n",
              "    </tr>\n",
              "    <tr>\n",
              "      <th>Graphics</th>\n",
              "      <td>780</td>\n",
              "    </tr>\n",
              "    <tr>\n",
              "      <th>Disk_size</th>\n",
              "      <td>595</td>\n",
              "    </tr>\n",
              "    <tr>\n",
              "      <th>Card_desc</th>\n",
              "      <td>208</td>\n",
              "    </tr>\n",
              "    <tr>\n",
              "      <th>Price</th>\n",
              "      <td>980</td>\n",
              "    </tr>\n",
              "  </tbody>\n",
              "</table>\n",
              "</div><br><label><b>dtype:</b> int64</label>"
            ]
          },
          "metadata": {},
          "execution_count": 2311
        }
      ]
    },
    {
      "cell_type": "code",
      "source": [
        "df.info()"
      ],
      "metadata": {
        "colab": {
          "base_uri": "https://localhost:8080/"
        },
        "id": "BQzMEeHvKzZV",
        "outputId": "d194686e-aa8a-445e-832b-6603121ebd13"
      },
      "execution_count": 2312,
      "outputs": [
        {
          "output_type": "stream",
          "name": "stdout",
          "text": [
            "<class 'pandas.core.frame.DataFrame'>\n",
            "RangeIndex: 2843 entries, 0 to 2842\n",
            "Data columns (total 17 columns):\n",
            " #   Column            Non-Null Count  Dtype  \n",
            "---  ------            --------------  -----  \n",
            " 0   Title             2843 non-null   object \n",
            " 1   Brand             2810 non-null   object \n",
            " 2   Screen_Size       2756 non-null   object \n",
            " 3   CPU_Model         2628 non-null   object \n",
            " 4   Ram               2711 non-null   object \n",
            " 5   Operating_System  2723 non-null   object \n",
            " 6   Rating            2283 non-null   float64\n",
            " 7   Series            2501 non-null   object \n",
            " 8   Color             2109 non-null   object \n",
            " 9   Resolution        182 non-null    object \n",
            " 10  Weight            66 non-null     object \n",
            " 11  USB               35 non-null     float64\n",
            " 12  Battery           7 non-null      object \n",
            " 13  Graphics          2063 non-null   object \n",
            " 14  Disk_size         2248 non-null   object \n",
            " 15  Card_desc         2635 non-null   object \n",
            " 16  Price             1863 non-null   object \n",
            "dtypes: float64(2), object(15)\n",
            "memory usage: 377.7+ KB\n"
          ]
        }
      ]
    },
    {
      "cell_type": "code",
      "source": [
        "df.Title.head().values"
      ],
      "metadata": {
        "colab": {
          "base_uri": "https://localhost:8080/"
        },
        "id": "avpTd3uHK85f",
        "outputId": "2b14f8aa-1107-45ba-f6b7-62a7862f0a8f"
      },
      "execution_count": 2313,
      "outputs": [
        {
          "output_type": "execute_result",
          "data": {
            "text/plain": [
              "array(['Microsoft Surface Laptop Intel Core i5 7th Gen 8GB RAM 256GB SSD Win 10 Platinum (Renewed)',\n",
              "       'Microsoft Surface Laptop 3 13.5\" Touch-Screen Intel Core i5-8GB Memory - 256GB Solid State Drive (Latest Model) Matte Black (Renewed)',\n",
              "       'Microsoft Surface Laptop (Intel Core i7, 16GB RAM, 512GB) - Platinum (Renewed)',\n",
              "       'Microsoft Surface Laptop 3, 10th Gen Intel Core i5 (13.5-inch Touchscreen - 8GB Memory - 256GB SSD) - Blue (Renewed Premium)',\n",
              "       '2022 Microsoft Surface Laptop Go 12.4\" Touchscreen, Intel Core i5-1035G1 Processor, Up to 13Hr Battery Life, WiFi, Webcam, Windows 11 Pro, Platinum Silver (4GB RAM | 256GB SSD)'],\n",
              "      dtype=object)"
            ]
          },
          "metadata": {},
          "execution_count": 2313
        }
      ]
    },
    {
      "cell_type": "markdown",
      "source": [
        "**Observations**\n",
        "- Multiple features have missing entries and the **Title** feature contains good information about the configuration which will be useful to replace missing values.\n",
        "- Information retrieval from the **Title** feature and further preprocessing will be easier if the text is in **lower case**."
      ],
      "metadata": {
        "id": "X-5Xssi9GJ2g"
      }
    },
    {
      "cell_type": "code",
      "source": [
        "# transforming all features with object datatype into the lower case.\n",
        "for column in df.select_dtypes(include=['object']).columns:\n",
        "    df[column] = df[column].str.lower()"
      ],
      "metadata": {
        "id": "ItUqUN_HLfDi"
      },
      "execution_count": 2314,
      "outputs": []
    },
    {
      "cell_type": "code",
      "source": [
        "df.Title.head().values"
      ],
      "metadata": {
        "colab": {
          "base_uri": "https://localhost:8080/"
        },
        "id": "5rppYLCLM64L",
        "outputId": "7d38d427-df4f-4976-f270-e4c5af10614a"
      },
      "execution_count": 2315,
      "outputs": [
        {
          "output_type": "execute_result",
          "data": {
            "text/plain": [
              "array(['microsoft surface laptop intel core i5 7th gen 8gb ram 256gb ssd win 10 platinum (renewed)',\n",
              "       'microsoft surface laptop 3 13.5\" touch-screen intel core i5-8gb memory - 256gb solid state drive (latest model) matte black (renewed)',\n",
              "       'microsoft surface laptop (intel core i7, 16gb ram, 512gb) - platinum (renewed)',\n",
              "       'microsoft surface laptop 3, 10th gen intel core i5 (13.5-inch touchscreen - 8gb memory - 256gb ssd) - blue (renewed premium)',\n",
              "       '2022 microsoft surface laptop go 12.4\" touchscreen, intel core i5-1035g1 processor, up to 13hr battery life, wifi, webcam, windows 11 pro, platinum silver (4gb ram | 256gb ssd)'],\n",
              "      dtype=object)"
            ]
          },
          "metadata": {},
          "execution_count": 2315
        }
      ]
    },
    {
      "cell_type": "code",
      "source": [
        "df.head()"
      ],
      "metadata": {
        "colab": {
          "base_uri": "https://localhost:8080/",
          "height": 466
        },
        "id": "pKDXUuoaM886",
        "outputId": "1dc4053d-956c-4fcd-fc10-1acabc68d14a"
      },
      "execution_count": 2316,
      "outputs": [
        {
          "output_type": "execute_result",
          "data": {
            "text/plain": [
              "                                               Title      Brand  Screen_Size  \\\n",
              "0  microsoft surface laptop intel core i5 7th gen...  microsoft  13.5 inches   \n",
              "1  microsoft surface laptop 3 13.5\" touch-screen ...  microsoft  13.5 inches   \n",
              "2  microsoft surface laptop (intel core i7, 16gb ...  microsoft  13.5 inches   \n",
              "3  microsoft surface laptop 3, 10th gen intel cor...  microsoft    13 inches   \n",
              "4  2022 microsoft surface laptop go 12.4\" touchsc...  microsoft  12.4 inches   \n",
              "\n",
              "                    CPU_Model    Ram Operating_System  Rating  \\\n",
              "0  1.2ghz cortex a8 processor   8 gb       windows 10     4.4   \n",
              "1                     core i5   8 gb       windows 10     4.4   \n",
              "2                     core i7  16 gb     windows 10 s     3.9   \n",
              "3              core i5-1035g7   8 gb  windows 10 home     4.2   \n",
              "4                     core i5   4 gb   windows 11 pro     3.9   \n",
              "\n",
              "              Series        Color Resolution Weight  USB Battery  \\\n",
              "0              intel     platinum        NaN    NaN  NaN     NaN   \n",
              "1  microsoft surface  matte black        NaN    NaN  NaN     NaN   \n",
              "2     surface laptop     platinum        NaN    NaN  NaN     NaN   \n",
              "3   surface laptop 3  cobalt blue        NaN    NaN  NaN     NaN   \n",
              "4  surface laptop go       silver        NaN    NaN  NaN     NaN   \n",
              "\n",
              "                       Graphics Disk_size   Card_desc    Price  \n",
              "0         intel hd graphics 620    256 gb  integrated      NaN  \n",
              "1                           NaN       NaN         NaN      NaN  \n",
              "2  intel iris plus graphics 640    512 gb  integrated      NaN  \n",
              "3               intel iris plus       NaN  integrated      NaN  \n",
              "4                           NaN    256 gb  integrated  $359.99  "
            ],
            "text/html": [
              "\n",
              "  <div id=\"df-1f8939e7-3d61-409d-81b8-232fd6aa6ef4\" class=\"colab-df-container\">\n",
              "    <div>\n",
              "<style scoped>\n",
              "    .dataframe tbody tr th:only-of-type {\n",
              "        vertical-align: middle;\n",
              "    }\n",
              "\n",
              "    .dataframe tbody tr th {\n",
              "        vertical-align: top;\n",
              "    }\n",
              "\n",
              "    .dataframe thead th {\n",
              "        text-align: right;\n",
              "    }\n",
              "</style>\n",
              "<table border=\"1\" class=\"dataframe\">\n",
              "  <thead>\n",
              "    <tr style=\"text-align: right;\">\n",
              "      <th></th>\n",
              "      <th>Title</th>\n",
              "      <th>Brand</th>\n",
              "      <th>Screen_Size</th>\n",
              "      <th>CPU_Model</th>\n",
              "      <th>Ram</th>\n",
              "      <th>Operating_System</th>\n",
              "      <th>Rating</th>\n",
              "      <th>Series</th>\n",
              "      <th>Color</th>\n",
              "      <th>Resolution</th>\n",
              "      <th>Weight</th>\n",
              "      <th>USB</th>\n",
              "      <th>Battery</th>\n",
              "      <th>Graphics</th>\n",
              "      <th>Disk_size</th>\n",
              "      <th>Card_desc</th>\n",
              "      <th>Price</th>\n",
              "    </tr>\n",
              "  </thead>\n",
              "  <tbody>\n",
              "    <tr>\n",
              "      <th>0</th>\n",
              "      <td>microsoft surface laptop intel core i5 7th gen...</td>\n",
              "      <td>microsoft</td>\n",
              "      <td>13.5 inches</td>\n",
              "      <td>1.2ghz cortex a8 processor</td>\n",
              "      <td>8 gb</td>\n",
              "      <td>windows 10</td>\n",
              "      <td>4.4</td>\n",
              "      <td>intel</td>\n",
              "      <td>platinum</td>\n",
              "      <td>NaN</td>\n",
              "      <td>NaN</td>\n",
              "      <td>NaN</td>\n",
              "      <td>NaN</td>\n",
              "      <td>intel hd graphics 620</td>\n",
              "      <td>256 gb</td>\n",
              "      <td>integrated</td>\n",
              "      <td>NaN</td>\n",
              "    </tr>\n",
              "    <tr>\n",
              "      <th>1</th>\n",
              "      <td>microsoft surface laptop 3 13.5\" touch-screen ...</td>\n",
              "      <td>microsoft</td>\n",
              "      <td>13.5 inches</td>\n",
              "      <td>core i5</td>\n",
              "      <td>8 gb</td>\n",
              "      <td>windows 10</td>\n",
              "      <td>4.4</td>\n",
              "      <td>microsoft surface</td>\n",
              "      <td>matte black</td>\n",
              "      <td>NaN</td>\n",
              "      <td>NaN</td>\n",
              "      <td>NaN</td>\n",
              "      <td>NaN</td>\n",
              "      <td>NaN</td>\n",
              "      <td>NaN</td>\n",
              "      <td>NaN</td>\n",
              "      <td>NaN</td>\n",
              "    </tr>\n",
              "    <tr>\n",
              "      <th>2</th>\n",
              "      <td>microsoft surface laptop (intel core i7, 16gb ...</td>\n",
              "      <td>microsoft</td>\n",
              "      <td>13.5 inches</td>\n",
              "      <td>core i7</td>\n",
              "      <td>16 gb</td>\n",
              "      <td>windows 10 s</td>\n",
              "      <td>3.9</td>\n",
              "      <td>surface laptop</td>\n",
              "      <td>platinum</td>\n",
              "      <td>NaN</td>\n",
              "      <td>NaN</td>\n",
              "      <td>NaN</td>\n",
              "      <td>NaN</td>\n",
              "      <td>intel iris plus graphics 640</td>\n",
              "      <td>512 gb</td>\n",
              "      <td>integrated</td>\n",
              "      <td>NaN</td>\n",
              "    </tr>\n",
              "    <tr>\n",
              "      <th>3</th>\n",
              "      <td>microsoft surface laptop 3, 10th gen intel cor...</td>\n",
              "      <td>microsoft</td>\n",
              "      <td>13 inches</td>\n",
              "      <td>core i5-1035g7</td>\n",
              "      <td>8 gb</td>\n",
              "      <td>windows 10 home</td>\n",
              "      <td>4.2</td>\n",
              "      <td>surface laptop 3</td>\n",
              "      <td>cobalt blue</td>\n",
              "      <td>NaN</td>\n",
              "      <td>NaN</td>\n",
              "      <td>NaN</td>\n",
              "      <td>NaN</td>\n",
              "      <td>intel iris plus</td>\n",
              "      <td>NaN</td>\n",
              "      <td>integrated</td>\n",
              "      <td>NaN</td>\n",
              "    </tr>\n",
              "    <tr>\n",
              "      <th>4</th>\n",
              "      <td>2022 microsoft surface laptop go 12.4\" touchsc...</td>\n",
              "      <td>microsoft</td>\n",
              "      <td>12.4 inches</td>\n",
              "      <td>core i5</td>\n",
              "      <td>4 gb</td>\n",
              "      <td>windows 11 pro</td>\n",
              "      <td>3.9</td>\n",
              "      <td>surface laptop go</td>\n",
              "      <td>silver</td>\n",
              "      <td>NaN</td>\n",
              "      <td>NaN</td>\n",
              "      <td>NaN</td>\n",
              "      <td>NaN</td>\n",
              "      <td>NaN</td>\n",
              "      <td>256 gb</td>\n",
              "      <td>integrated</td>\n",
              "      <td>$359.99</td>\n",
              "    </tr>\n",
              "  </tbody>\n",
              "</table>\n",
              "</div>\n",
              "    <div class=\"colab-df-buttons\">\n",
              "\n",
              "  <div class=\"colab-df-container\">\n",
              "    <button class=\"colab-df-convert\" onclick=\"convertToInteractive('df-1f8939e7-3d61-409d-81b8-232fd6aa6ef4')\"\n",
              "            title=\"Convert this dataframe to an interactive table.\"\n",
              "            style=\"display:none;\">\n",
              "\n",
              "  <svg xmlns=\"http://www.w3.org/2000/svg\" height=\"24px\" viewBox=\"0 -960 960 960\">\n",
              "    <path d=\"M120-120v-720h720v720H120Zm60-500h600v-160H180v160Zm220 220h160v-160H400v160Zm0 220h160v-160H400v160ZM180-400h160v-160H180v160Zm440 0h160v-160H620v160ZM180-180h160v-160H180v160Zm440 0h160v-160H620v160Z\"/>\n",
              "  </svg>\n",
              "    </button>\n",
              "\n",
              "  <style>\n",
              "    .colab-df-container {\n",
              "      display:flex;\n",
              "      gap: 12px;\n",
              "    }\n",
              "\n",
              "    .colab-df-convert {\n",
              "      background-color: #E8F0FE;\n",
              "      border: none;\n",
              "      border-radius: 50%;\n",
              "      cursor: pointer;\n",
              "      display: none;\n",
              "      fill: #1967D2;\n",
              "      height: 32px;\n",
              "      padding: 0 0 0 0;\n",
              "      width: 32px;\n",
              "    }\n",
              "\n",
              "    .colab-df-convert:hover {\n",
              "      background-color: #E2EBFA;\n",
              "      box-shadow: 0px 1px 2px rgba(60, 64, 67, 0.3), 0px 1px 3px 1px rgba(60, 64, 67, 0.15);\n",
              "      fill: #174EA6;\n",
              "    }\n",
              "\n",
              "    .colab-df-buttons div {\n",
              "      margin-bottom: 4px;\n",
              "    }\n",
              "\n",
              "    [theme=dark] .colab-df-convert {\n",
              "      background-color: #3B4455;\n",
              "      fill: #D2E3FC;\n",
              "    }\n",
              "\n",
              "    [theme=dark] .colab-df-convert:hover {\n",
              "      background-color: #434B5C;\n",
              "      box-shadow: 0px 1px 3px 1px rgba(0, 0, 0, 0.15);\n",
              "      filter: drop-shadow(0px 1px 2px rgba(0, 0, 0, 0.3));\n",
              "      fill: #FFFFFF;\n",
              "    }\n",
              "  </style>\n",
              "\n",
              "    <script>\n",
              "      const buttonEl =\n",
              "        document.querySelector('#df-1f8939e7-3d61-409d-81b8-232fd6aa6ef4 button.colab-df-convert');\n",
              "      buttonEl.style.display =\n",
              "        google.colab.kernel.accessAllowed ? 'block' : 'none';\n",
              "\n",
              "      async function convertToInteractive(key) {\n",
              "        const element = document.querySelector('#df-1f8939e7-3d61-409d-81b8-232fd6aa6ef4');\n",
              "        const dataTable =\n",
              "          await google.colab.kernel.invokeFunction('convertToInteractive',\n",
              "                                                    [key], {});\n",
              "        if (!dataTable) return;\n",
              "\n",
              "        const docLinkHtml = 'Like what you see? Visit the ' +\n",
              "          '<a target=\"_blank\" href=https://colab.research.google.com/notebooks/data_table.ipynb>data table notebook</a>'\n",
              "          + ' to learn more about interactive tables.';\n",
              "        element.innerHTML = '';\n",
              "        dataTable['output_type'] = 'display_data';\n",
              "        await google.colab.output.renderOutput(dataTable, element);\n",
              "        const docLink = document.createElement('div');\n",
              "        docLink.innerHTML = docLinkHtml;\n",
              "        element.appendChild(docLink);\n",
              "      }\n",
              "    </script>\n",
              "  </div>\n",
              "\n",
              "\n",
              "<div id=\"df-33770ca5-d17c-49f3-9b4d-d1698910cf4b\">\n",
              "  <button class=\"colab-df-quickchart\" onclick=\"quickchart('df-33770ca5-d17c-49f3-9b4d-d1698910cf4b')\"\n",
              "            title=\"Suggest charts\"\n",
              "            style=\"display:none;\">\n",
              "\n",
              "<svg xmlns=\"http://www.w3.org/2000/svg\" height=\"24px\"viewBox=\"0 0 24 24\"\n",
              "     width=\"24px\">\n",
              "    <g>\n",
              "        <path d=\"M19 3H5c-1.1 0-2 .9-2 2v14c0 1.1.9 2 2 2h14c1.1 0 2-.9 2-2V5c0-1.1-.9-2-2-2zM9 17H7v-7h2v7zm4 0h-2V7h2v10zm4 0h-2v-4h2v4z\"/>\n",
              "    </g>\n",
              "</svg>\n",
              "  </button>\n",
              "\n",
              "<style>\n",
              "  .colab-df-quickchart {\n",
              "      --bg-color: #E8F0FE;\n",
              "      --fill-color: #1967D2;\n",
              "      --hover-bg-color: #E2EBFA;\n",
              "      --hover-fill-color: #174EA6;\n",
              "      --disabled-fill-color: #AAA;\n",
              "      --disabled-bg-color: #DDD;\n",
              "  }\n",
              "\n",
              "  [theme=dark] .colab-df-quickchart {\n",
              "      --bg-color: #3B4455;\n",
              "      --fill-color: #D2E3FC;\n",
              "      --hover-bg-color: #434B5C;\n",
              "      --hover-fill-color: #FFFFFF;\n",
              "      --disabled-bg-color: #3B4455;\n",
              "      --disabled-fill-color: #666;\n",
              "  }\n",
              "\n",
              "  .colab-df-quickchart {\n",
              "    background-color: var(--bg-color);\n",
              "    border: none;\n",
              "    border-radius: 50%;\n",
              "    cursor: pointer;\n",
              "    display: none;\n",
              "    fill: var(--fill-color);\n",
              "    height: 32px;\n",
              "    padding: 0;\n",
              "    width: 32px;\n",
              "  }\n",
              "\n",
              "  .colab-df-quickchart:hover {\n",
              "    background-color: var(--hover-bg-color);\n",
              "    box-shadow: 0 1px 2px rgba(60, 64, 67, 0.3), 0 1px 3px 1px rgba(60, 64, 67, 0.15);\n",
              "    fill: var(--button-hover-fill-color);\n",
              "  }\n",
              "\n",
              "  .colab-df-quickchart-complete:disabled,\n",
              "  .colab-df-quickchart-complete:disabled:hover {\n",
              "    background-color: var(--disabled-bg-color);\n",
              "    fill: var(--disabled-fill-color);\n",
              "    box-shadow: none;\n",
              "  }\n",
              "\n",
              "  .colab-df-spinner {\n",
              "    border: 2px solid var(--fill-color);\n",
              "    border-color: transparent;\n",
              "    border-bottom-color: var(--fill-color);\n",
              "    animation:\n",
              "      spin 1s steps(1) infinite;\n",
              "  }\n",
              "\n",
              "  @keyframes spin {\n",
              "    0% {\n",
              "      border-color: transparent;\n",
              "      border-bottom-color: var(--fill-color);\n",
              "      border-left-color: var(--fill-color);\n",
              "    }\n",
              "    20% {\n",
              "      border-color: transparent;\n",
              "      border-left-color: var(--fill-color);\n",
              "      border-top-color: var(--fill-color);\n",
              "    }\n",
              "    30% {\n",
              "      border-color: transparent;\n",
              "      border-left-color: var(--fill-color);\n",
              "      border-top-color: var(--fill-color);\n",
              "      border-right-color: var(--fill-color);\n",
              "    }\n",
              "    40% {\n",
              "      border-color: transparent;\n",
              "      border-right-color: var(--fill-color);\n",
              "      border-top-color: var(--fill-color);\n",
              "    }\n",
              "    60% {\n",
              "      border-color: transparent;\n",
              "      border-right-color: var(--fill-color);\n",
              "    }\n",
              "    80% {\n",
              "      border-color: transparent;\n",
              "      border-right-color: var(--fill-color);\n",
              "      border-bottom-color: var(--fill-color);\n",
              "    }\n",
              "    90% {\n",
              "      border-color: transparent;\n",
              "      border-bottom-color: var(--fill-color);\n",
              "    }\n",
              "  }\n",
              "</style>\n",
              "\n",
              "  <script>\n",
              "    async function quickchart(key) {\n",
              "      const quickchartButtonEl =\n",
              "        document.querySelector('#' + key + ' button');\n",
              "      quickchartButtonEl.disabled = true;  // To prevent multiple clicks.\n",
              "      quickchartButtonEl.classList.add('colab-df-spinner');\n",
              "      try {\n",
              "        const charts = await google.colab.kernel.invokeFunction(\n",
              "            'suggestCharts', [key], {});\n",
              "      } catch (error) {\n",
              "        console.error('Error during call to suggestCharts:', error);\n",
              "      }\n",
              "      quickchartButtonEl.classList.remove('colab-df-spinner');\n",
              "      quickchartButtonEl.classList.add('colab-df-quickchart-complete');\n",
              "    }\n",
              "    (() => {\n",
              "      let quickchartButtonEl =\n",
              "        document.querySelector('#df-33770ca5-d17c-49f3-9b4d-d1698910cf4b button');\n",
              "      quickchartButtonEl.style.display =\n",
              "        google.colab.kernel.accessAllowed ? 'block' : 'none';\n",
              "    })();\n",
              "  </script>\n",
              "</div>\n",
              "\n",
              "    </div>\n",
              "  </div>\n"
            ],
            "application/vnd.google.colaboratory.intrinsic+json": {
              "type": "dataframe",
              "variable_name": "df",
              "summary": "{\n  \"name\": \"df\",\n  \"rows\": 2843,\n  \"fields\": [\n    {\n      \"column\": \"Title\",\n      \"properties\": {\n        \"dtype\": \"string\",\n        \"num_unique_values\": 2420,\n        \"samples\": [\n          \"2022 acer 11.6\\\" ips ultra-light chromebook, arm quad-core processor up to 2.0 ghz, 4gb ddr4 memory, 32gb emmc ssd, webcam, chrome os (renewed)\",\n          \"msi summit e13 flip evo professional laptop: 13\\\" ips-level touch screen, intel core i5-1135g7, iris xe, 16gb ram, 512gb nvme ssd, win10 pro, ink black (a11mt-095)\",\n          \"2022 asus vivobook 15.6\\\" hd business laptop, intel 10th gen i3-1005g1 up to 3.4ghz beat i5-8250u, 12gb ram, 512gb pcie ssd, bluetooth, windows 11 in s, slate grey w/ 3in1 accessories\"\n        ],\n        \"semantic_type\": \"\",\n        \"description\": \"\"\n      }\n    },\n    {\n      \"column\": \"Brand\",\n      \"properties\": {\n        \"dtype\": \"category\",\n        \"num_unique_values\": 52,\n        \"samples\": [\n          \"chuwi\",\n          \"laptop\",\n          \"carlisle paddles\"\n        ],\n        \"semantic_type\": \"\",\n        \"description\": \"\"\n      }\n    },\n    {\n      \"column\": \"Screen_Size\",\n      \"properties\": {\n        \"dtype\": \"category\",\n        \"num_unique_values\": 62,\n        \"samples\": [\n          \"14.5\",\n          \"16.6 inches\",\n          \"13.5 inches\"\n        ],\n        \"semantic_type\": \"\",\n        \"description\": \"\"\n      }\n    },\n    {\n      \"column\": \"CPU_Model\",\n      \"properties\": {\n        \"dtype\": \"category\",\n        \"num_unique_values\": 180,\n        \"samples\": [\n          \"intel core i5\",\n          \"amd a series\",\n          \"celeron n2840\"\n        ],\n        \"semantic_type\": \"\",\n        \"description\": \"\"\n      }\n    },\n    {\n      \"column\": \"Ram\",\n      \"properties\": {\n        \"dtype\": \"category\",\n        \"num_unique_values\": 17,\n        \"samples\": [\n          \"8 gb\",\n          \"16 gb\",\n          \"24 gb\"\n        ],\n        \"semantic_type\": \"\",\n        \"description\": \"\"\n      }\n    },\n    {\n      \"column\": \"Operating_System\",\n      \"properties\": {\n        \"dtype\": \"category\",\n        \"num_unique_values\": 79,\n        \"samples\": [\n          \"windows 11 home in s mode\",\n          \"windows 10\",\n          \"microsoft windows 10 professional (64bit)\"\n        ],\n        \"semantic_type\": \"\",\n        \"description\": \"\"\n      }\n    },\n    {\n      \"column\": \"Rating\",\n      \"properties\": {\n        \"dtype\": \"number\",\n        \"std\": 0.5565626190370833,\n        \"min\": 1.0,\n        \"max\": 5.0,\n        \"num_unique_values\": 34,\n        \"samples\": [\n          2.5,\n          3.6,\n          2.6\n        ],\n        \"semantic_type\": \"\",\n        \"description\": \"\"\n      }\n    },\n    {\n      \"column\": \"Series\",\n      \"properties\": {\n        \"dtype\": \"category\",\n        \"num_unique_values\": 1278,\n        \"samples\": [\n          \"raider ge77hx 12uhs-082\",\n          \"an517-41-r0rz\",\n          \"dell i3567\"\n        ],\n        \"semantic_type\": \"\",\n        \"description\": \"\"\n      }\n    },\n    {\n      \"column\": \"Color\",\n      \"properties\": {\n        \"dtype\": \"category\",\n        \"num_unique_values\": 227,\n        \"samples\": [\n          \"64gb ram\",\n          \"12gb ram | 256gb ssd\",\n          \"carbon gray\"\n        ],\n        \"semantic_type\": \"\",\n        \"description\": \"\"\n      }\n    },\n    {\n      \"column\": \"Resolution\",\n      \"properties\": {\n        \"dtype\": \"category\",\n        \"num_unique_values\": 14,\n        \"samples\": [\n          \"2k\",\n          \"720p, 4k\",\n          \"720p\"\n        ],\n        \"semantic_type\": \"\",\n        \"description\": \"\"\n      }\n    },\n    {\n      \"column\": \"Weight\",\n      \"properties\": {\n        \"dtype\": \"category\",\n        \"num_unique_values\": 46,\n        \"samples\": [\n          \"5.27 pounds\",\n          \"8.2 pounds\",\n          \"10 pounds\"\n        ],\n        \"semantic_type\": \"\",\n        \"description\": \"\"\n      }\n    },\n    {\n      \"column\": \"USB\",\n      \"properties\": {\n        \"dtype\": \"number\",\n        \"std\": 0.7702449681266147,\n        \"min\": 1.0,\n        \"max\": 3.0,\n        \"num_unique_values\": 3,\n        \"samples\": [\n          2.0,\n          3.0,\n          1.0\n        ],\n        \"semantic_type\": \"\",\n        \"description\": \"\"\n      }\n    },\n    {\n      \"column\": \"Battery\",\n      \"properties\": {\n        \"dtype\": \"category\",\n        \"num_unique_values\": 5,\n        \"samples\": [\n          \"11.0, 17.0 hours\",\n          \"17 hours\",\n          \"1 hours\"\n        ],\n        \"semantic_type\": \"\",\n        \"description\": \"\"\n      }\n    },\n    {\n      \"column\": \"Graphics\",\n      \"properties\": {\n        \"dtype\": \"category\",\n        \"num_unique_values\": 282,\n        \"samples\": [\n          \"\\u200eradeon vega 6 graphics\",\n          \"amd radeon rx vega 8\",\n          \"m1 max\"\n        ],\n        \"semantic_type\": \"\",\n        \"description\": \"\"\n      }\n    },\n    {\n      \"column\": \"Disk_size\",\n      \"properties\": {\n        \"dtype\": \"category\",\n        \"num_unique_values\": 46,\n        \"samples\": [\n          \"300 gb\",\n          \"480 gb\",\n          \"256\"\n        ],\n        \"semantic_type\": \"\",\n        \"description\": \"\"\n      }\n    },\n    {\n      \"column\": \"Card_desc\",\n      \"properties\": {\n        \"dtype\": \"category\",\n        \"num_unique_values\": 68,\n        \"samples\": [\n          \"nm10\",\n          \"intel iris xe\",\n          \"rtx 3050\"\n        ],\n        \"semantic_type\": \"\",\n        \"description\": \"\"\n      }\n    },\n    {\n      \"column\": \"Price\",\n      \"properties\": {\n        \"dtype\": \"category\",\n        \"num_unique_values\": 863,\n        \"samples\": [\n          \"$625.99\",\n          \"$679.73\",\n          \"$949.99\"\n        ],\n        \"semantic_type\": \"\",\n        \"description\": \"\"\n      }\n    }\n  ]\n}"
            }
          },
          "metadata": {},
          "execution_count": 2316
        }
      ]
    },
    {
      "cell_type": "markdown",
      "source": [
        "## Handling the **Brand** feature\n",
        "\n",
        "The Brand feature represents the make or manufacturer of the laptop. It's a categorical feature with various brands like asus, acer, hp, lenovo, dell, msi, apple, samsung, etc."
      ],
      "metadata": {
        "id": "H30z3ZHsNFjg"
      }
    },
    {
      "cell_type": "code",
      "source": [
        "df.Brand.isna().sum()"
      ],
      "metadata": {
        "colab": {
          "base_uri": "https://localhost:8080/"
        },
        "id": "oXZtB1kIM_KC",
        "outputId": "d853eda1-638a-416a-f6ab-d0d4d43c11d5"
      },
      "execution_count": 2317,
      "outputs": [
        {
          "output_type": "execute_result",
          "data": {
            "text/plain": [
              "33"
            ]
          },
          "metadata": {},
          "execution_count": 2317
        }
      ]
    },
    {
      "cell_type": "code",
      "source": [
        "# Seperating sample with missing value of Brand into new dataframe\n",
        "df_brand = df[df.Brand.isna()][['Title', 'Brand']]\n",
        "df_brand.head().values"
      ],
      "metadata": {
        "colab": {
          "base_uri": "https://localhost:8080/"
        },
        "id": "pzk3OI4ZNMKg",
        "outputId": "1698b0b6-b251-40cf-cbd2-7821eea06ff8"
      },
      "execution_count": 2318,
      "outputs": [
        {
          "output_type": "execute_result",
          "data": {
            "text/plain": [
              "array([['acer aspire 1 a115-32-c96u laptop | 15.6\" fhd | celeron n4500 | 4gb ddr4 | 128gb emmc | ms 365 personal 1-year subscription | win 11 home in s mode with aopen 24sa2y bi 23.8\" fhd va-monitor',\n",
              "        nan],\n",
              "       ['acer aspire 1 a115-32-c96u laptop | 15.6\" fhd | celeron n4500 | 4gb ddr4 | 128gb emmc | wifi 5 | ms 365 personal 1-year subscription | win 11 home in s mode usb type-c dock d501, 60w pd',\n",
              "        nan],\n",
              "       ['panasonic fz-vzsu88u', nan],\n",
              "       ['panasonic toughbook cf-52 500gb 4gb 15.4\" genuine win 7 pro + microsoft office 2010',\n",
              "        nan],\n",
              "       ['acer aspire 3 a315-24p-r2sc laptop | 15.6\" fhd ips display | amd ryzen 5 7520u | radeon graphics | 8gb lpddr5 | 256gb ssd | wi-fi 5 | windows 11 home usb 3.0 dock u301',\n",
              "        nan]], dtype=object)"
            ]
          },
          "metadata": {},
          "execution_count": 2318
        }
      ]
    },
    {
      "cell_type": "markdown",
      "source": [
        "**Observations and Operations**\n",
        "- Missing values for the Brand can be retrieved from the Title feature\n",
        "- Once retrieval is done, new dataframe should be merge back with the original one."
      ],
      "metadata": {
        "id": "iqhPkVQ4Oogr"
      }
    },
    {
      "cell_type": "code",
      "source": [
        "def Brand_Retrieval(title):\n",
        "  \"\"\"\n",
        "  The function is responsible for retrieving the brand from the title.\n",
        "  Args\n",
        "  title : The title of the laptop.\n",
        "  Returns\n",
        "  brand : The brand of the laptop.\n",
        "  \"\"\"\n",
        "  return title.split(' ')[0]\n",
        "\n",
        "df_brand['Brand'] = df_brand.Title.apply(Brand_Retrieval)"
      ],
      "metadata": {
        "id": "5zcYv6pxNurg"
      },
      "execution_count": 2319,
      "outputs": []
    },
    {
      "cell_type": "code",
      "source": [
        "df_brand.values"
      ],
      "metadata": {
        "colab": {
          "base_uri": "https://localhost:8080/"
        },
        "id": "s8RTB6S5P3lP",
        "outputId": "74e8f237-12e9-4608-9082-020c2eef87fb"
      },
      "execution_count": 2320,
      "outputs": [
        {
          "output_type": "execute_result",
          "data": {
            "text/plain": [
              "array([['acer aspire 1 a115-32-c96u laptop | 15.6\" fhd | celeron n4500 | 4gb ddr4 | 128gb emmc | ms 365 personal 1-year subscription | win 11 home in s mode with aopen 24sa2y bi 23.8\" fhd va-monitor',\n",
              "        'acer'],\n",
              "       ['acer aspire 1 a115-32-c96u laptop | 15.6\" fhd | celeron n4500 | 4gb ddr4 | 128gb emmc | wifi 5 | ms 365 personal 1-year subscription | win 11 home in s mode usb type-c dock d501, 60w pd',\n",
              "        'acer'],\n",
              "       ['panasonic fz-vzsu88u', 'panasonic'],\n",
              "       ['panasonic toughbook cf-52 500gb 4gb 15.4\" genuine win 7 pro + microsoft office 2010',\n",
              "        'panasonic'],\n",
              "       ['acer aspire 3 a315-24p-r2sc laptop | 15.6\" fhd ips display | amd ryzen 5 7520u | radeon graphics | 8gb lpddr5 | 256gb ssd | wi-fi 5 | windows 11 home usb 3.0 dock u301',\n",
              "        'acer'],\n",
              "       ['acer aspire 3 a314-23p-r3qa laptop | 14.0\" fhd ips | amd ryzen 5 7520u | amd radeon graphics | 8gb lpddr5 | 512gb ssd | wi-fi 6 | windows 11 home fhd usb 2mp webcam with digital microphone',\n",
              "        'acer'],\n",
              "       ['acer aspire 3 a315-24pt-r08z laptop | 15.6\" fhd ips touch | amd ryzen 3 7320u | radeon graphics | 8gb lpddr5 | 256gb ssd | wi-fi 6 | windows 11 home usb type-c dock d501, 60w pd',\n",
              "        'acer'],\n",
              "       ['toughbook cf-31wxn291m 13.1\" touchscreen led (circulumin) notebook - intel core i5 i5-3340m 2.70 ghz',\n",
              "        'toughbook'],\n",
              "       ['acer aspire 3 a315-24pt-r08z laptop | 15.6\" fhd ips touch | amd ryzen 3 7320u | radeon graphics | 8gb lpddr5 | 256gb ssd | wi-fi 6 | windows 11 home usb 3.0 dock u301',\n",
              "        'acer'],\n",
              "       ['toughbook cf-31sx-002m 13.1\" led notebook - intel core i5 2.60 ghz',\n",
              "        'toughbook'],\n",
              "       ['toughbook cf-191myax1m 10.1\" led intel core i5 i5-3320m 2.60ghz 4gb ram 500gb hdd win 7 pro 64-bit rugged notebook',\n",
              "        'toughbook'],\n",
              "       ['panasonic cf-532jczycm toughbook 53 14 inch led notebook - intel core i5 i5-4310u 2 ghz - 4 gb ram - 320 gb hdd - dvd-writer - intel hd graphics 4400 - windows 7 professional - 1366 x 768 display - bluetooth',\n",
              "        'panasonic'],\n",
              "       ['panasonic toughbook cf-53jjczy1m 14 led notebook intel core i5-3320m 2.60 ghz',\n",
              "        'panasonic'],\n",
              "       ['gigabyte ultra compact mini pc/intel uhd graphics 600/ m.2 ssd/hdmi (2.0a)/ dp1.2a component- gb-blce-4105',\n",
              "        'gigabyte'],\n",
              "       ['generic 11.6 inches hd screen compatible with chromebook 11 cb3-111 laptop replacement led lcd',\n",
              "        'generic'],\n",
              "       ['generic 15.6\" hd screen compatible with lenovo g50-80 (5d10g74897 nt156whm-n12) laptop replacement led lcd',\n",
              "        'generic'],\n",
              "       ['generic 15.6\" hd screen compatible with hp probook 4510s 4515s 4520s 4525s 4530s 4535s 4540s 4545s laptop replacement led lcd',\n",
              "        'generic'],\n",
              "       ['generic 15.6\" hd screen compatible with samsung ltn156at37-l01 laptop replacement led lcd',\n",
              "        'generic'],\n",
              "       ['generic new 17.3\" led wxga++ glossy hd lcd replacement laptop screen/display compatible with ltn173kt01 (k01, t01, a01, d01)',\n",
              "        'generic'],\n",
              "       ['lg lp173wf4(sp)(f1) new replacement lcd screen for laptop led full hd matte',\n",
              "        'lg'],\n",
              "       ['generic 15.6\" hd screen compatible with lenovo g50-70 20351 laptop replacement led lcd',\n",
              "        'generic'],\n",
              "       ['msi a6200 laptop lcd screen 15.6\" wxga hd led diode (substitute replacement lcd screen only. not a laptop)',\n",
              "        'msi'],\n",
              "       ['dell inspiron 1545 bt156gw01 v.1 laptop lcd screen replacement 15.6\" wxga hd led matte',\n",
              "        'dell'],\n",
              "       ['new 17.3\" led wxga++ glossy hd lcd replacement laptop screen/display for hp pavilion g72-b60us & g72-b66us',\n",
              "        'new'],\n",
              "       ['chunghwa claa173ua01a replacement laptop lcd screen 17.3\" wxga++ led diode (substitute replacement lcd screen only. not a laptop )',\n",
              "        'chunghwa'],\n",
              "       ['boehydis nv156fhm-n42 replacement laptop lcd screen 15.6\" full-hd led diode (substitute only. not a ) (ips 1080p)',\n",
              "        'boehydis'],\n",
              "       ['chi mei n133bge-l41 replacement laptop lcd screen 13.3\" wxga hd led diode (substitute only. not a )',\n",
              "        'chi'],\n",
              "       ['generic new 15.6\" hd laptop replacement led lcd screen compatible with dell inspiron 15-3000 (b156xtn04.0 non touch)',\n",
              "        'generic'],\n",
              "       ['generic new 14.0\" hd glossy replacement led lcd screen compatible with toshiba satellite l745 models l745-s4110, l745-s4210, l745-s4310, l745-s4235',\n",
              "        'generic'],\n",
              "       ['samsung ltn156at35-h01 new replacement lcd screen for laptop led hd glossy',\n",
              "        'samsung'],\n",
              "       ['generic new 15.6\" hd laptop replacement led lcd screen compatible with dell inspiron 15-3000 (b156xtn04.0 non touch)',\n",
              "        'generic'],\n",
              "       ['generic 14.0\" wxga compatible with dell latitude e6420 ltn140at16 laptop lcd screen replacement',\n",
              "        'generic'],\n",
              "       ['microsoft surface laptop 4, amd ryzen 5 4680u, 8gb ram, 256gb ssd, 13.5\" touchscreen display, amd radeon graphics, windows 10 pro, 5q8-00001 (renewed)',\n",
              "        'microsoft']], dtype=object)"
            ]
          },
          "metadata": {},
          "execution_count": 2320
        }
      ]
    },
    {
      "cell_type": "code",
      "source": [
        "df_brand[df_brand.Brand == 'lg'].values"
      ],
      "metadata": {
        "colab": {
          "base_uri": "https://localhost:8080/"
        },
        "id": "9nG25yasXHWr",
        "outputId": "b53b4c17-6766-4c9d-81af-e264cdfacffc"
      },
      "execution_count": 2321,
      "outputs": [
        {
          "output_type": "execute_result",
          "data": {
            "text/plain": [
              "array([['lg lp173wf4(sp)(f1) new replacement lcd screen for laptop led full hd matte',\n",
              "        'lg']], dtype=object)"
            ]
          },
          "metadata": {},
          "execution_count": 2321
        }
      ]
    },
    {
      "cell_type": "markdown",
      "source": [
        "**Observations**\n",
        "- Looks like retrieval is not completely successfull, there is still a possibility for further operations.\n",
        "- It appears that retrieved laptops Brand name including 'generic', 'chi', 'new', 'boehydis', 'chunghwa', and 'lg' do not belongs to any specific brand but they are in the list as a replacement laptops.\n",
        "- All such laptops can be assign with the 'generic' brand.  "
      ],
      "metadata": {
        "id": "kViw8QpsQQJ2"
      }
    },
    {
      "cell_type": "code",
      "source": [
        "generic_list = ['generic', 'chi', 'new', 'boehydis', 'chunghwa', 'lg']\n",
        "df_brand.loc[df_brand.Brand.isin(generic_list), 'Brand'] = 'generic'"
      ],
      "metadata": {
        "id": "LW29ljpCP6HN"
      },
      "execution_count": 2322,
      "outputs": []
    },
    {
      "cell_type": "code",
      "source": [
        "df_brand.Brand.unique()"
      ],
      "metadata": {
        "colab": {
          "base_uri": "https://localhost:8080/"
        },
        "id": "HsgQK13ERYwS",
        "outputId": "e512de87-2c08-42ba-baf5-62b161086fd9"
      },
      "execution_count": 2323,
      "outputs": [
        {
          "output_type": "execute_result",
          "data": {
            "text/plain": [
              "array(['acer', 'panasonic', 'toughbook', 'gigabyte', 'generic', 'msi',\n",
              "       'dell', 'samsung', 'microsoft'], dtype=object)"
            ]
          },
          "metadata": {},
          "execution_count": 2323
        }
      ]
    },
    {
      "cell_type": "code",
      "source": [
        "# Merging the modified dataframe with Brand name with the original dataframe according to indexes\n",
        "df.loc[df_brand.index, 'Brand'] = df_brand.Brand"
      ],
      "metadata": {
        "id": "h_3P1FWzXXta"
      },
      "execution_count": 2324,
      "outputs": []
    },
    {
      "cell_type": "code",
      "source": [
        "df.Brand.isna().sum()"
      ],
      "metadata": {
        "colab": {
          "base_uri": "https://localhost:8080/"
        },
        "id": "PFNxbzfCXrFw",
        "outputId": "994bdd7e-2e6b-47f1-d41c-6302341f6d00"
      },
      "execution_count": 2325,
      "outputs": [
        {
          "output_type": "execute_result",
          "data": {
            "text/plain": [
              "0"
            ]
          },
          "metadata": {},
          "execution_count": 2325
        }
      ]
    },
    {
      "cell_type": "code",
      "source": [
        "df.Brand.value_counts()"
      ],
      "metadata": {
        "colab": {
          "base_uri": "https://localhost:8080/",
          "height": 1000
        },
        "id": "s-QgEA5EX-yP",
        "outputId": "39f774da-006e-4661-97c5-be29976ba94e"
      },
      "execution_count": 2326,
      "outputs": [
        {
          "output_type": "execute_result",
          "data": {
            "text/plain": [
              "Brand\n",
              "hp                                  390\n",
              "asus                                363\n",
              "acer                                344\n",
              "dell                                334\n",
              "msi                                 240\n",
              "samsung                             162\n",
              "microsoft                           158\n",
              "alienware                           150\n",
              "apple                               137\n",
              "lg                                  108\n",
              "excaliberpc                         101\n",
              "panasonic                            95\n",
              "toughbook                            83\n",
              "lenovo                               41\n",
              "gigabyte                             36\n",
              "generic                              27\n",
              "chuwi                                12\n",
              "fusion5                               7\n",
              "packard bell                          6\n",
              "fullcom tech                          6\n",
              "lincplus                              4\n",
              "razer                                 2\n",
              "unknown                               2\n",
              "repower repair refurbish reuse        2\n",
              "best notebooks                        2\n",
              "bmax                                  2\n",
              "teclast                               2\n",
              "ecohero                               2\n",
              "bitecool                              2\n",
              "panasonic toughbook cf-31 rugged      1\n",
              "laptop                                1\n",
              "thomson                               1\n",
              "tomtoc                                1\n",
              "otvoc                                 1\n",
              "carlisle paddles                      1\n",
              "miwasion                              1\n",
              "artist unknown                        1\n",
              "ficihp                                1\n",
              "dere                                  1\n",
              "b belk                                1\n",
              "hp tuners                             1\n",
              "vgke                                  1\n",
              "lanruo                                1\n",
              "jumper                                1\n",
              "broage                                1\n",
              "sewswank                              1\n",
              "wakst                                 1\n",
              "hyundai                               1\n",
              "hp-consumer remarketing               1\n",
              "sceptre                               1\n",
              "blackview                             1\n",
              "coolby                                1\n",
              "Name: count, dtype: int64"
            ],
            "text/html": [
              "<div>\n",
              "<style scoped>\n",
              "    .dataframe tbody tr th:only-of-type {\n",
              "        vertical-align: middle;\n",
              "    }\n",
              "\n",
              "    .dataframe tbody tr th {\n",
              "        vertical-align: top;\n",
              "    }\n",
              "\n",
              "    .dataframe thead th {\n",
              "        text-align: right;\n",
              "    }\n",
              "</style>\n",
              "<table border=\"1\" class=\"dataframe\">\n",
              "  <thead>\n",
              "    <tr style=\"text-align: right;\">\n",
              "      <th></th>\n",
              "      <th>count</th>\n",
              "    </tr>\n",
              "    <tr>\n",
              "      <th>Brand</th>\n",
              "      <th></th>\n",
              "    </tr>\n",
              "  </thead>\n",
              "  <tbody>\n",
              "    <tr>\n",
              "      <th>hp</th>\n",
              "      <td>390</td>\n",
              "    </tr>\n",
              "    <tr>\n",
              "      <th>asus</th>\n",
              "      <td>363</td>\n",
              "    </tr>\n",
              "    <tr>\n",
              "      <th>acer</th>\n",
              "      <td>344</td>\n",
              "    </tr>\n",
              "    <tr>\n",
              "      <th>dell</th>\n",
              "      <td>334</td>\n",
              "    </tr>\n",
              "    <tr>\n",
              "      <th>msi</th>\n",
              "      <td>240</td>\n",
              "    </tr>\n",
              "    <tr>\n",
              "      <th>samsung</th>\n",
              "      <td>162</td>\n",
              "    </tr>\n",
              "    <tr>\n",
              "      <th>microsoft</th>\n",
              "      <td>158</td>\n",
              "    </tr>\n",
              "    <tr>\n",
              "      <th>alienware</th>\n",
              "      <td>150</td>\n",
              "    </tr>\n",
              "    <tr>\n",
              "      <th>apple</th>\n",
              "      <td>137</td>\n",
              "    </tr>\n",
              "    <tr>\n",
              "      <th>lg</th>\n",
              "      <td>108</td>\n",
              "    </tr>\n",
              "    <tr>\n",
              "      <th>excaliberpc</th>\n",
              "      <td>101</td>\n",
              "    </tr>\n",
              "    <tr>\n",
              "      <th>panasonic</th>\n",
              "      <td>95</td>\n",
              "    </tr>\n",
              "    <tr>\n",
              "      <th>toughbook</th>\n",
              "      <td>83</td>\n",
              "    </tr>\n",
              "    <tr>\n",
              "      <th>lenovo</th>\n",
              "      <td>41</td>\n",
              "    </tr>\n",
              "    <tr>\n",
              "      <th>gigabyte</th>\n",
              "      <td>36</td>\n",
              "    </tr>\n",
              "    <tr>\n",
              "      <th>generic</th>\n",
              "      <td>27</td>\n",
              "    </tr>\n",
              "    <tr>\n",
              "      <th>chuwi</th>\n",
              "      <td>12</td>\n",
              "    </tr>\n",
              "    <tr>\n",
              "      <th>fusion5</th>\n",
              "      <td>7</td>\n",
              "    </tr>\n",
              "    <tr>\n",
              "      <th>packard bell</th>\n",
              "      <td>6</td>\n",
              "    </tr>\n",
              "    <tr>\n",
              "      <th>fullcom tech</th>\n",
              "      <td>6</td>\n",
              "    </tr>\n",
              "    <tr>\n",
              "      <th>lincplus</th>\n",
              "      <td>4</td>\n",
              "    </tr>\n",
              "    <tr>\n",
              "      <th>razer</th>\n",
              "      <td>2</td>\n",
              "    </tr>\n",
              "    <tr>\n",
              "      <th>unknown</th>\n",
              "      <td>2</td>\n",
              "    </tr>\n",
              "    <tr>\n",
              "      <th>repower repair refurbish reuse</th>\n",
              "      <td>2</td>\n",
              "    </tr>\n",
              "    <tr>\n",
              "      <th>best notebooks</th>\n",
              "      <td>2</td>\n",
              "    </tr>\n",
              "    <tr>\n",
              "      <th>bmax</th>\n",
              "      <td>2</td>\n",
              "    </tr>\n",
              "    <tr>\n",
              "      <th>teclast</th>\n",
              "      <td>2</td>\n",
              "    </tr>\n",
              "    <tr>\n",
              "      <th>ecohero</th>\n",
              "      <td>2</td>\n",
              "    </tr>\n",
              "    <tr>\n",
              "      <th>bitecool</th>\n",
              "      <td>2</td>\n",
              "    </tr>\n",
              "    <tr>\n",
              "      <th>panasonic toughbook cf-31 rugged</th>\n",
              "      <td>1</td>\n",
              "    </tr>\n",
              "    <tr>\n",
              "      <th>laptop</th>\n",
              "      <td>1</td>\n",
              "    </tr>\n",
              "    <tr>\n",
              "      <th>thomson</th>\n",
              "      <td>1</td>\n",
              "    </tr>\n",
              "    <tr>\n",
              "      <th>tomtoc</th>\n",
              "      <td>1</td>\n",
              "    </tr>\n",
              "    <tr>\n",
              "      <th>otvoc</th>\n",
              "      <td>1</td>\n",
              "    </tr>\n",
              "    <tr>\n",
              "      <th>carlisle paddles</th>\n",
              "      <td>1</td>\n",
              "    </tr>\n",
              "    <tr>\n",
              "      <th>miwasion</th>\n",
              "      <td>1</td>\n",
              "    </tr>\n",
              "    <tr>\n",
              "      <th>artist unknown</th>\n",
              "      <td>1</td>\n",
              "    </tr>\n",
              "    <tr>\n",
              "      <th>ficihp</th>\n",
              "      <td>1</td>\n",
              "    </tr>\n",
              "    <tr>\n",
              "      <th>dere</th>\n",
              "      <td>1</td>\n",
              "    </tr>\n",
              "    <tr>\n",
              "      <th>b belk</th>\n",
              "      <td>1</td>\n",
              "    </tr>\n",
              "    <tr>\n",
              "      <th>hp tuners</th>\n",
              "      <td>1</td>\n",
              "    </tr>\n",
              "    <tr>\n",
              "      <th>vgke</th>\n",
              "      <td>1</td>\n",
              "    </tr>\n",
              "    <tr>\n",
              "      <th>lanruo</th>\n",
              "      <td>1</td>\n",
              "    </tr>\n",
              "    <tr>\n",
              "      <th>jumper</th>\n",
              "      <td>1</td>\n",
              "    </tr>\n",
              "    <tr>\n",
              "      <th>broage</th>\n",
              "      <td>1</td>\n",
              "    </tr>\n",
              "    <tr>\n",
              "      <th>sewswank</th>\n",
              "      <td>1</td>\n",
              "    </tr>\n",
              "    <tr>\n",
              "      <th>wakst</th>\n",
              "      <td>1</td>\n",
              "    </tr>\n",
              "    <tr>\n",
              "      <th>hyundai</th>\n",
              "      <td>1</td>\n",
              "    </tr>\n",
              "    <tr>\n",
              "      <th>hp-consumer remarketing</th>\n",
              "      <td>1</td>\n",
              "    </tr>\n",
              "    <tr>\n",
              "      <th>sceptre</th>\n",
              "      <td>1</td>\n",
              "    </tr>\n",
              "    <tr>\n",
              "      <th>blackview</th>\n",
              "      <td>1</td>\n",
              "    </tr>\n",
              "    <tr>\n",
              "      <th>coolby</th>\n",
              "      <td>1</td>\n",
              "    </tr>\n",
              "  </tbody>\n",
              "</table>\n",
              "</div><br><label><b>dtype:</b> int64</label>"
            ]
          },
          "metadata": {},
          "execution_count": 2326
        }
      ]
    },
    {
      "cell_type": "code",
      "source": [
        "df[df.Brand== 'vgke'][['Title', 'Brand']].values"
      ],
      "metadata": {
        "colab": {
          "base_uri": "https://localhost:8080/"
        },
        "id": "RGZ8EC5mX5B4",
        "outputId": "bb7a0a33-32be-476d-fb68-269158bdb103"
      },
      "execution_count": 2327,
      "outputs": [
        {
          "output_type": "execute_result",
          "data": {
            "text/plain": [
              "array([['vgke b12 detachable 2-in-1 laptop touchscreen windows 11, tablet 12.3\" with keyboard, intel celeron j4125 2.7ghz, quad core, 8gb ram, 256gb ssd, 3k fhd ips 3000x2000, 2.4g+5g wifi, bluetooth, type c',\n",
              "        'vgke']], dtype=object)"
            ]
          },
          "metadata": {},
          "execution_count": 2327
        }
      ]
    },
    {
      "cell_type": "markdown",
      "source": [
        "**Observations**\n",
        "- There are multiple Brands present which has less than 10 laptops in the list.\n",
        "- All such Brands can be combined into '**other**'."
      ],
      "metadata": {
        "id": "wGLwIn5yYhhh"
      }
    },
    {
      "cell_type": "code",
      "source": [
        "# Assigning 'other' Brand name to all brands with laptop count less than 25\n",
        "df.loc[df.Brand.value_counts()[df.Brand].values < 25, 'Brand'] = 'other'"
      ],
      "metadata": {
        "id": "YumURtvlX8b4"
      },
      "execution_count": 2328,
      "outputs": []
    },
    {
      "cell_type": "code",
      "source": [
        "df.Brand.value_counts().plot(kind='bar')"
      ],
      "metadata": {
        "colab": {
          "base_uri": "https://localhost:8080/",
          "height": 532
        },
        "id": "hMBlaVgrbDwl",
        "outputId": "c158e890-a4d8-4ffe-efca-bbce7078e12d"
      },
      "execution_count": 2329,
      "outputs": [
        {
          "output_type": "execute_result",
          "data": {
            "text/plain": [
              "<Axes: xlabel='Brand'>"
            ]
          },
          "metadata": {},
          "execution_count": 2329
        },
        {
          "output_type": "display_data",
          "data": {
            "text/plain": [
              "<Figure size 640x480 with 1 Axes>"
            ],
            "image/png": "[encoded data removed]"
          },
          "metadata": {}
        }
      ]
    },
    {
      "cell_type": "markdown",
      "source": [
        "## Handling the **Screen_Size** feature\n",
        "\n",
        "The Screen_Size feature in your dataset represents the diagonal measurement of the laptop's display in inches. This is a crucial factor for users as it directly impacts their viewing experience. Laptop screen sizes typically range from around 11 inches to 17 inches or larger."
      ],
      "metadata": {
        "id": "TXQNFwBfcAUi"
      }
    },
    {
      "cell_type": "code",
      "source": [
        "df.Screen_Size.unique()"
      ],
      "metadata": {
        "colab": {
          "base_uri": "https://localhost:8080/"
        },
        "id": "X86DOO6Wb3Vx",
        "outputId": "218e9931-efd5-43a2-fc39-831d213d98ff"
      },
      "execution_count": 2330,
      "outputs": [
        {
          "output_type": "execute_result",
          "data": {
            "text/plain": [
              "array(['13.5 inches', '13 inches', '12.4 inches', '14 inches',\n",
              "       '34 inches', '15.6 inches', '17.3 inches', '17 inches',\n",
              "       '13.4 inches', '16 inches', '15.6', '15 inches', '15.4 inches',\n",
              "       nan, '13.3 inches', '16.2 inches', '16', '14.2', '13', '14',\n",
              "       '10.9 inches', '9.7 inches', '14.1 inches', '12.3 inches',\n",
              "       '11.6 inches', '13.1 inches', '12 inches', '11 inches',\n",
              "       '12.5 inches', '13.3', '10.1 inches', '11.6', '17.3',\n",
              "       '10.4 inches', '31.5 inches', '6 inches', '5.6 inches',\n",
              "       '10 inches', '17', '12.45 inches', '30 inches', '15',\n",
              "       '12.2 inches', '24 inches', '14.2 inches', '13.6 inches',\n",
              "       '18.4 inches', '1 centimeters', '17.25 inches', '0.01',\n",
              "       '0.1 inches', '14.5', '12.1 inches', '14.5 inches', '10.5 inches',\n",
              "       '11', '116 inches', '16.6 inches', '3 inches', '14.4 inches',\n",
              "       '13.5', '14.4', '10.51 inches'], dtype=object)"
            ]
          },
          "metadata": {},
          "execution_count": 2330
        }
      ]
    },
    {
      "cell_type": "code",
      "source": [
        "df.Screen_Size.isna().sum()"
      ],
      "metadata": {
        "colab": {
          "base_uri": "https://localhost:8080/"
        },
        "id": "qvhnz3AKb7uC",
        "outputId": "de33ba53-01c6-41bc-96ca-69558509f507"
      },
      "execution_count": 2331,
      "outputs": [
        {
          "output_type": "execute_result",
          "data": {
            "text/plain": [
              "87"
            ]
          },
          "metadata": {},
          "execution_count": 2331
        }
      ]
    },
    {
      "cell_type": "code",
      "source": [
        "df[df.Screen_Size.isna()][['Title', 'Screen_Size']].head().values"
      ],
      "metadata": {
        "colab": {
          "base_uri": "https://localhost:8080/"
        },
        "id": "xTik3zORceD8",
        "outputId": "b681481c-e993-45dc-c6c6-c3dc050a8270"
      },
      "execution_count": 2332,
      "outputs": [
        {
          "output_type": "execute_result",
          "data": {
            "text/plain": [
              "array([['b belk compatible with macbook air 13 inch case m1, macbook air case 2021 2020 2019 2018 model a2337 a2179 a1932 with touch id, clear plastic laptop hard shell + 2 keyboard covers + screen protector',\n",
              "        nan],\n",
              "       ['apple 2022 macbook air laptop with m2 chip: 13.6-inch liquid retina display, 8gb ram, 256gb ssd storage, backlit keyboard, 1080p facetime hd camera. works with iphone and ipad; midnight applecare',\n",
              "        nan],\n",
              "       ['apple macbook pro 16\" with liquid retina xdr display, m1 pro chip with 10-core cpu and 16-core gpu, 32gb memory, 1tb ssd, silver, late 2021',\n",
              "        nan],\n",
              "       ['apple 2022 macbook air laptop with m2 chip: 13.6-inch liquid retina display, 8gb ram, 256gb ssd storage, backlit keyboard, 1080p facetime hd camera. works with iphone and ipad; starlight applecare',\n",
              "        nan],\n",
              "       ['apple 2021 macbook pro (14-inch, m1 pro chip with 10‑core cpu and 16‑core gpu, 16gb ram, 1tb ssd) - space gray applecare+ for 14-inch macbook pro',\n",
              "        nan]], dtype=object)"
            ]
          },
          "metadata": {},
          "execution_count": 2332
        }
      ]
    },
    {
      "cell_type": "markdown",
      "source": [
        "**Observations**\n",
        "- It appears that missing screen size can be retrieved from the **Title** feature.\n",
        "- Also, rows with no missing values needs removal of unit(inches)\n",
        "\n",
        "**Operations**\n",
        "- Samples with missing screen size should be seperated in different dataframe.\n",
        "- Regular Expressions can be used to achieve the objective retrieving the numeric value.\n",
        "- (\\d+(?:\\.\\d+)?): This part captures the number, allowing for both decimal and whole number formats.\n",
        "- \\d+: Matches one or more digits.\n",
        "- (?:\\.\\d+)?: This is a non-capturing group that matches an optional decimal part.\n",
        "- (?:...): Creates a non-capturing group.\n",
        "-  \\ .: Matches a literal dot.\n",
        "- ?: Makes the entire decimal part optional.\n",
        "- \\s*: Matches zero or more whitespace characters.\n",
        "- [- ]?: Matches an optional hyphen or space.\n",
        "- inch : Matches the literal text \"inch\".\n",
        "- (?:inch|\\\"): This part matches either \"inch\" or '\"'"
      ],
      "metadata": {
        "id": "AFlOZ1oFcyAA"
      }
    },
    {
      "cell_type": "code",
      "source": [
        "# Filtering out samples with or without missing screen size\n",
        "df_screen_size_missing = df[df.Screen_Size.isna()][['Title', 'Screen_Size']]"
      ],
      "metadata": {
        "id": "-OLSPayqcqfg"
      },
      "execution_count": 2333,
      "outputs": []
    },
    {
      "cell_type": "code",
      "source": [
        "def screen_size_retrieval(title):\n",
        "  \"\"\"\n",
        "  The function is responsible for retrieving the screen size from the title.\n",
        "  Args\n",
        "  title : The title of the laptop.\n",
        "  Returns\n",
        "  screen_size : The screen size of the laptop.\n",
        "  \"\"\"\n",
        "\n",
        "  # Regular Expression for find screen size\n",
        "  scree_size_pattern = r\"(\\d{2}(?:\\.?\\d{1})?)\\s*[- ]?\\s*(?:inch|\\\"|\\”)\"\n",
        "\n",
        "  screen_size = re.findall(scree_size_pattern, title)\n",
        "  if screen_size:\n",
        "    return screen_size[0]\n",
        "  else:\n",
        "    return np.nan\n",
        "\n",
        "df_screen_size_missing['Screen_Size'] = df_screen_size_missing.Title.apply(screen_size_retrieval)"
      ],
      "metadata": {
        "id": "drzBTyK8lGlv"
      },
      "execution_count": 2334,
      "outputs": []
    },
    {
      "cell_type": "code",
      "source": [
        "df_screen_size_missing"
      ],
      "metadata": {
        "colab": {
          "base_uri": "https://localhost:8080/",
          "height": 423
        },
        "id": "ewf6jYkJoWVk",
        "outputId": "64d42418-8885-4175-9304-675299a641fd"
      },
      "execution_count": 2335,
      "outputs": [
        {
          "output_type": "execute_result",
          "data": {
            "text/plain": [
              "                                                  Title Screen_Size\n",
              "40    b belk compatible with macbook air 13 inch cas...          13\n",
              "63    apple 2022 macbook air laptop with m2 chip: 13...        13.6\n",
              "72    apple macbook pro 16\" with liquid retina xdr d...          16\n",
              "74    apple 2022 macbook air laptop with m2 chip: 13...        13.6\n",
              "75    apple 2021 macbook pro (14-inch, m1 pro chip w...          14\n",
              "...                                                 ...         ...\n",
              "2760  microsoft surface pro (intel core i5, 8gb ram,...         NaN\n",
              "2779  microsoft surface laptop 4, amd ryzen 5 4680u,...        13.5\n",
              "2820  samsung 14” galaxy book3 pro laptop computer, ...          14\n",
              "2821  samsung 16” galaxy book3 pro laptop computer, ...          16\n",
              "2822  samsung 14” galaxy book3 pro laptop computer, ...          14\n",
              "\n",
              "[87 rows x 2 columns]"
            ],
            "text/html": [
              "\n",
              "  <div id=\"df-d422418e-0f72-4f1a-a58e-ab437d16a193\" class=\"colab-df-container\">\n",
              "    <div>\n",
              "<style scoped>\n",
              "    .dataframe tbody tr th:only-of-type {\n",
              "        vertical-align: middle;\n",
              "    }\n",
              "\n",
              "    .dataframe tbody tr th {\n",
              "        vertical-align: top;\n",
              "    }\n",
              "\n",
              "    .dataframe thead th {\n",
              "        text-align: right;\n",
              "    }\n",
              "</style>\n",
              "<table border=\"1\" class=\"dataframe\">\n",
              "  <thead>\n",
              "    <tr style=\"text-align: right;\">\n",
              "      <th></th>\n",
              "      <th>Title</th>\n",
              "      <th>Screen_Size</th>\n",
              "    </tr>\n",
              "  </thead>\n",
              "  <tbody>\n",
              "    <tr>\n",
              "      <th>40</th>\n",
              "      <td>b belk compatible with macbook air 13 inch cas...</td>\n",
              "      <td>13</td>\n",
              "    </tr>\n",
              "    <tr>\n",
              "      <th>63</th>\n",
              "      <td>apple 2022 macbook air laptop with m2 chip: 13...</td>\n",
              "      <td>13.6</td>\n",
              "    </tr>\n",
              "    <tr>\n",
              "      <th>72</th>\n",
              "      <td>apple macbook pro 16\" with liquid retina xdr d...</td>\n",
              "      <td>16</td>\n",
              "    </tr>\n",
              "    <tr>\n",
              "      <th>74</th>\n",
              "      <td>apple 2022 macbook air laptop with m2 chip: 13...</td>\n",
              "      <td>13.6</td>\n",
              "    </tr>\n",
              "    <tr>\n",
              "      <th>75</th>\n",
              "      <td>apple 2021 macbook pro (14-inch, m1 pro chip w...</td>\n",
              "      <td>14</td>\n",
              "    </tr>\n",
              "    <tr>\n",
              "      <th>...</th>\n",
              "      <td>...</td>\n",
              "      <td>...</td>\n",
              "    </tr>\n",
              "    <tr>\n",
              "      <th>2760</th>\n",
              "      <td>microsoft surface pro (intel core i5, 8gb ram,...</td>\n",
              "      <td>NaN</td>\n",
              "    </tr>\n",
              "    <tr>\n",
              "      <th>2779</th>\n",
              "      <td>microsoft surface laptop 4, amd ryzen 5 4680u,...</td>\n",
              "      <td>13.5</td>\n",
              "    </tr>\n",
              "    <tr>\n",
              "      <th>2820</th>\n",
              "      <td>samsung 14” galaxy book3 pro laptop computer, ...</td>\n",
              "      <td>14</td>\n",
              "    </tr>\n",
              "    <tr>\n",
              "      <th>2821</th>\n",
              "      <td>samsung 16” galaxy book3 pro laptop computer, ...</td>\n",
              "      <td>16</td>\n",
              "    </tr>\n",
              "    <tr>\n",
              "      <th>2822</th>\n",
              "      <td>samsung 14” galaxy book3 pro laptop computer, ...</td>\n",
              "      <td>14</td>\n",
              "    </tr>\n",
              "  </tbody>\n",
              "</table>\n",
              "<p>87 rows × 2 columns</p>\n",
              "</div>\n",
              "    <div class=\"colab-df-buttons\">\n",
              "\n",
              "  <div class=\"colab-df-container\">\n",
              "    <button class=\"colab-df-convert\" onclick=\"convertToInteractive('df-d422418e-0f72-4f1a-a58e-ab437d16a193')\"\n",
              "            title=\"Convert this dataframe to an interactive table.\"\n",
              "            style=\"display:none;\">\n",
              "\n",
              "  <svg xmlns=\"http://www.w3.org/2000/svg\" height=\"24px\" viewBox=\"0 -960 960 960\">\n",
              "    <path d=\"M120-120v-720h720v720H120Zm60-500h600v-160H180v160Zm220 220h160v-160H400v160Zm0 220h160v-160H400v160ZM180-400h160v-160H180v160Zm440 0h160v-160H620v160ZM180-180h160v-160H180v160Zm440 0h160v-160H620v160Z\"/>\n",
              "  </svg>\n",
              "    </button>\n",
              "\n",
              "  <style>\n",
              "    .colab-df-container {\n",
              "      display:flex;\n",
              "      gap: 12px;\n",
              "    }\n",
              "\n",
              "    .colab-df-convert {\n",
              "      background-color: #E8F0FE;\n",
              "      border: none;\n",
              "      border-radius: 50%;\n",
              "      cursor: pointer;\n",
              "      display: none;\n",
              "      fill: #1967D2;\n",
              "      height: 32px;\n",
              "      padding: 0 0 0 0;\n",
              "      width: 32px;\n",
              "    }\n",
              "\n",
              "    .colab-df-convert:hover {\n",
              "      background-color: #E2EBFA;\n",
              "      box-shadow: 0px 1px 2px rgba(60, 64, 67, 0.3), 0px 1px 3px 1px rgba(60, 64, 67, 0.15);\n",
              "      fill: #174EA6;\n",
              "    }\n",
              "\n",
              "    .colab-df-buttons div {\n",
              "      margin-bottom: 4px;\n",
              "    }\n",
              "\n",
              "    [theme=dark] .colab-df-convert {\n",
              "      background-color: #3B4455;\n",
              "      fill: #D2E3FC;\n",
              "    }\n",
              "\n",
              "    [theme=dark] .colab-df-convert:hover {\n",
              "      background-color: #434B5C;\n",
              "      box-shadow: 0px 1px 3px 1px rgba(0, 0, 0, 0.15);\n",
              "      filter: drop-shadow(0px 1px 2px rgba(0, 0, 0, 0.3));\n",
              "      fill: #FFFFFF;\n",
              "    }\n",
              "  </style>\n",
              "\n",
              "    <script>\n",
              "      const buttonEl =\n",
              "        document.querySelector('#df-d422418e-0f72-4f1a-a58e-ab437d16a193 button.colab-df-convert');\n",
              "      buttonEl.style.display =\n",
              "        google.colab.kernel.accessAllowed ? 'block' : 'none';\n",
              "\n",
              "      async function convertToInteractive(key) {\n",
              "        const element = document.querySelector('#df-d422418e-0f72-4f1a-a58e-ab437d16a193');\n",
              "        const dataTable =\n",
              "          await google.colab.kernel.invokeFunction('convertToInteractive',\n",
              "                                                    [key], {});\n",
              "        if (!dataTable) return;\n",
              "\n",
              "        const docLinkHtml = 'Like what you see? Visit the ' +\n",
              "          '<a target=\"_blank\" href=https://colab.research.google.com/notebooks/data_table.ipynb>data table notebook</a>'\n",
              "          + ' to learn more about interactive tables.';\n",
              "        element.innerHTML = '';\n",
              "        dataTable['output_type'] = 'display_data';\n",
              "        await google.colab.output.renderOutput(dataTable, element);\n",
              "        const docLink = document.createElement('div');\n",
              "        docLink.innerHTML = docLinkHtml;\n",
              "        element.appendChild(docLink);\n",
              "      }\n",
              "    </script>\n",
              "  </div>\n",
              "\n",
              "\n",
              "<div id=\"df-a882942d-f466-450e-9b7b-cd8cf5c9b0a9\">\n",
              "  <button class=\"colab-df-quickchart\" onclick=\"quickchart('df-a882942d-f466-450e-9b7b-cd8cf5c9b0a9')\"\n",
              "            title=\"Suggest charts\"\n",
              "            style=\"display:none;\">\n",
              "\n",
              "<svg xmlns=\"http://www.w3.org/2000/svg\" height=\"24px\"viewBox=\"0 0 24 24\"\n",
              "     width=\"24px\">\n",
              "    <g>\n",
              "        <path d=\"M19 3H5c-1.1 0-2 .9-2 2v14c0 1.1.9 2 2 2h14c1.1 0 2-.9 2-2V5c0-1.1-.9-2-2-2zM9 17H7v-7h2v7zm4 0h-2V7h2v10zm4 0h-2v-4h2v4z\"/>\n",
              "    </g>\n",
              "</svg>\n",
              "  </button>\n",
              "\n",
              "<style>\n",
              "  .colab-df-quickchart {\n",
              "      --bg-color: #E8F0FE;\n",
              "      --fill-color: #1967D2;\n",
              "      --hover-bg-color: #E2EBFA;\n",
              "      --hover-fill-color: #174EA6;\n",
              "      --disabled-fill-color: #AAA;\n",
              "      --disabled-bg-color: #DDD;\n",
              "  }\n",
              "\n",
              "  [theme=dark] .colab-df-quickchart {\n",
              "      --bg-color: #3B4455;\n",
              "      --fill-color: #D2E3FC;\n",
              "      --hover-bg-color: #434B5C;\n",
              "      --hover-fill-color: #FFFFFF;\n",
              "      --disabled-bg-color: #3B4455;\n",
              "      --disabled-fill-color: #666;\n",
              "  }\n",
              "\n",
              "  .colab-df-quickchart {\n",
              "    background-color: var(--bg-color);\n",
              "    border: none;\n",
              "    border-radius: 50%;\n",
              "    cursor: pointer;\n",
              "    display: none;\n",
              "    fill: var(--fill-color);\n",
              "    height: 32px;\n",
              "    padding: 0;\n",
              "    width: 32px;\n",
              "  }\n",
              "\n",
              "  .colab-df-quickchart:hover {\n",
              "    background-color: var(--hover-bg-color);\n",
              "    box-shadow: 0 1px 2px rgba(60, 64, 67, 0.3), 0 1px 3px 1px rgba(60, 64, 67, 0.15);\n",
              "    fill: var(--button-hover-fill-color);\n",
              "  }\n",
              "\n",
              "  .colab-df-quickchart-complete:disabled,\n",
              "  .colab-df-quickchart-complete:disabled:hover {\n",
              "    background-color: var(--disabled-bg-color);\n",
              "    fill: var(--disabled-fill-color);\n",
              "    box-shadow: none;\n",
              "  }\n",
              "\n",
              "  .colab-df-spinner {\n",
              "    border: 2px solid var(--fill-color);\n",
              "    border-color: transparent;\n",
              "    border-bottom-color: var(--fill-color);\n",
              "    animation:\n",
              "      spin 1s steps(1) infinite;\n",
              "  }\n",
              "\n",
              "  @keyframes spin {\n",
              "    0% {\n",
              "      border-color: transparent;\n",
              "      border-bottom-color: var(--fill-color);\n",
              "      border-left-color: var(--fill-color);\n",
              "    }\n",
              "    20% {\n",
              "      border-color: transparent;\n",
              "      border-left-color: var(--fill-color);\n",
              "      border-top-color: var(--fill-color);\n",
              "    }\n",
              "    30% {\n",
              "      border-color: transparent;\n",
              "      border-left-color: var(--fill-color);\n",
              "      border-top-color: var(--fill-color);\n",
              "      border-right-color: var(--fill-color);\n",
              "    }\n",
              "    40% {\n",
              "      border-color: transparent;\n",
              "      border-right-color: var(--fill-color);\n",
              "      border-top-color: var(--fill-color);\n",
              "    }\n",
              "    60% {\n",
              "      border-color: transparent;\n",
              "      border-right-color: var(--fill-color);\n",
              "    }\n",
              "    80% {\n",
              "      border-color: transparent;\n",
              "      border-right-color: var(--fill-color);\n",
              "      border-bottom-color: var(--fill-color);\n",
              "    }\n",
              "    90% {\n",
              "      border-color: transparent;\n",
              "      border-bottom-color: var(--fill-color);\n",
              "    }\n",
              "  }\n",
              "</style>\n",
              "\n",
              "  <script>\n",
              "    async function quickchart(key) {\n",
              "      const quickchartButtonEl =\n",
              "        document.querySelector('#' + key + ' button');\n",
              "      quickchartButtonEl.disabled = true;  // To prevent multiple clicks.\n",
              "      quickchartButtonEl.classList.add('colab-df-spinner');\n",
              "      try {\n",
              "        const charts = await google.colab.kernel.invokeFunction(\n",
              "            'suggestCharts', [key], {});\n",
              "      } catch (error) {\n",
              "        console.error('Error during call to suggestCharts:', error);\n",
              "      }\n",
              "      quickchartButtonEl.classList.remove('colab-df-spinner');\n",
              "      quickchartButtonEl.classList.add('colab-df-quickchart-complete');\n",
              "    }\n",
              "    (() => {\n",
              "      let quickchartButtonEl =\n",
              "        document.querySelector('#df-a882942d-f466-450e-9b7b-cd8cf5c9b0a9 button');\n",
              "      quickchartButtonEl.style.display =\n",
              "        google.colab.kernel.accessAllowed ? 'block' : 'none';\n",
              "    })();\n",
              "  </script>\n",
              "</div>\n",
              "\n",
              "  <div id=\"id_ba2b0098-100e-4b8a-981d-25a1316fbbad\">\n",
              "    <style>\n",
              "      .colab-df-generate {\n",
              "        background-color: #E8F0FE;\n",
              "        border: none;\n",
              "        border-radius: 50%;\n",
              "        cursor: pointer;\n",
              "        display: none;\n",
              "        fill: #1967D2;\n",
              "        height: 32px;\n",
              "        padding: 0 0 0 0;\n",
              "        width: 32px;\n",
              "      }\n",
              "\n",
              "      .colab-df-generate:hover {\n",
              "        background-color: #E2EBFA;\n",
              "        box-shadow: 0px 1px 2px rgba(60, 64, 67, 0.3), 0px 1px 3px 1px rgba(60, 64, 67, 0.15);\n",
              "        fill: #174EA6;\n",
              "      }\n",
              "\n",
              "      [theme=dark] .colab-df-generate {\n",
              "        background-color: #3B4455;\n",
              "        fill: #D2E3FC;\n",
              "      }\n",
              "\n",
              "      [theme=dark] .colab-df-generate:hover {\n",
              "        background-color: #434B5C;\n",
              "        box-shadow: 0px 1px 3px 1px rgba(0, 0, 0, 0.15);\n",
              "        filter: drop-shadow(0px 1px 2px rgba(0, 0, 0, 0.3));\n",
              "        fill: #FFFFFF;\n",
              "      }\n",
              "    </style>\n",
              "    <button class=\"colab-df-generate\" onclick=\"generateWithVariable('df_screen_size_missing')\"\n",
              "            title=\"Generate code using this dataframe.\"\n",
              "            style=\"display:none;\">\n",
              "\n",
              "  <svg xmlns=\"http://www.w3.org/2000/svg\" height=\"24px\"viewBox=\"0 0 24 24\"\n",
              "       width=\"24px\">\n",
              "    <path d=\"M7,19H8.4L18.45,9,17,7.55,7,17.6ZM5,21V16.75L18.45,3.32a2,2,0,0,1,2.83,0l1.4,1.43a1.91,1.91,0,0,1,.58,1.4,1.91,1.91,0,0,1-.58,1.4L9.25,21ZM18.45,9,17,7.55Zm-12,3A5.31,5.31,0,0,0,4.9,8.1,5.31,5.31,0,0,0,1,6.5,5.31,5.31,0,0,0,4.9,4.9,5.31,5.31,0,0,0,6.5,1,5.31,5.31,0,0,0,8.1,4.9,5.31,5.31,0,0,0,12,6.5,5.46,5.46,0,0,0,6.5,12Z\"/>\n",
              "  </svg>\n",
              "    </button>\n",
              "    <script>\n",
              "      (() => {\n",
              "      const buttonEl =\n",
              "        document.querySelector('#id_ba2b0098-100e-4b8a-981d-25a1316fbbad button.colab-df-generate');\n",
              "      buttonEl.style.display =\n",
              "        google.colab.kernel.accessAllowed ? 'block' : 'none';\n",
              "\n",
              "      buttonEl.onclick = () => {\n",
              "        google.colab.notebook.generateWithVariable('df_screen_size_missing');\n",
              "      }\n",
              "      })();\n",
              "    </script>\n",
              "  </div>\n",
              "\n",
              "    </div>\n",
              "  </div>\n"
            ],
            "application/vnd.google.colaboratory.intrinsic+json": {
              "type": "dataframe",
              "variable_name": "df_screen_size_missing",
              "summary": "{\n  \"name\": \"df_screen_size_missing\",\n  \"rows\": 87,\n  \"fields\": [\n    {\n      \"column\": \"Title\",\n      \"properties\": {\n        \"dtype\": \"string\",\n        \"num_unique_values\": 81,\n        \"samples\": [\n          \"acer predator triton 500 se gaming/creator laptop | 12th gen intel i9-12900h & nitro 5 an515-57-79td gaming laptop | intel core i7-11800h | nvidia geforce rtx 3050 ti laptop gpu\",\n          \"b belk compatible with macbook air 13 inch case m1, macbook air case 2021 2020 2019 2018 model a2337 a2179 a1932 with touch id, clear plastic laptop hard shell + 2 keyboard covers + screen protector\",\n          \"acer aspire 3 a315-24p-r2sc laptop | 15.6\\\" fhd ips display | amd ryzen 5 7520u | 8gb lpddr5 | 256gb ssd | wi-fi 5 | windows 11 home with aopen 24sa2y bi 23.8\\\" fhd va-monitor | 1 x hdmi 1.4 & 1 x vga\"\n        ],\n        \"semantic_type\": \"\",\n        \"description\": \"\"\n      }\n    },\n    {\n      \"column\": \"Screen_Size\",\n      \"properties\": {\n        \"dtype\": \"category\",\n        \"num_unique_values\": 15,\n        \"samples\": [\n          \"17.3\",\n          \"314\",\n          \"13\"\n        ],\n        \"semantic_type\": \"\",\n        \"description\": \"\"\n      }\n    }\n  ]\n}"
            }
          },
          "metadata": {},
          "execution_count": 2335
        }
      ]
    },
    {
      "cell_type": "code",
      "source": [
        "df_screen_size_missing[df_screen_size_missing.Screen_Size.isna()].values"
      ],
      "metadata": {
        "colab": {
          "base_uri": "https://localhost:8080/"
        },
        "id": "HMObTOAdoaCc",
        "outputId": "7dc497ff-b41e-4c32-e41f-34d2ea2d7271"
      },
      "execution_count": 2336,
      "outputs": [
        {
          "output_type": "execute_result",
          "data": {
            "text/plain": [
              "array([['refurbished panasonic toughbook cf-33, intel core i5-6300u @2.4ghz, ram 8gb, 256gb ssd,4g lte,no key',\n",
              "        nan],\n",
              "       ['2nd usb/cf-20/8gb/256gb ssd/windows 10/wifi/4g lte/multi carrier/webcam/emissive backlit keyboard/',\n",
              "        nan],\n",
              "       ['toughbook u1 ultra mobile pc', nan],\n",
              "       ['panasonic fz-vzsu88u', nan],\n",
              "       ['acer predator triton 500 se gaming/creator laptop | 12th gen intel i9-12900h & nitro 5 an515-57-79td gaming laptop | intel core i7-11800h | nvidia geforce rtx 3050 ti laptop gpu',\n",
              "        nan],\n",
              "       ['mk8/cf-19/16gb ram/ 4g lte/ 500gb ssd/ windows 10 pro 64 bit/2.7 ghz/touch screen/',\n",
              "        nan],\n",
              "       ['cf30 c2d/1.6 13.3tch 2gb-160gb wls ebk gobi wxp-wv', nan],\n",
              "       ['panasonic cf-52vaaby1m-rw win7 intel core i5-3360m 2.80ghz 15.4',\n",
              "        nan],\n",
              "       ['panasonic toughbook cf-53jjczy1m 14 led notebook intel core i5-3320m 2.60 ghz',\n",
              "        nan],\n",
              "       ['cf-20/8gb ram/240gb solid state hard drive/wifi/ 4g lte/ panasonic toughbook/laptop computer/ two in one( 2 in 1) notebook tablet pc/ verizon/sprint/at&t/toughbook/ fully rugged (128gb ssd)',\n",
              "        nan],\n",
              "       ['gigabyte ultra compact mini pc/intel uhd graphics 600/ m.2 ssd/hdmi (2.0a)/ dp1.2a component- gb-blce-4105',\n",
              "        nan],\n",
              "       ['asus pn41 fanless minipc barebone with intel 11th gen quad core celeron n5100, support dual 4k, wifi, bluetooth 5, vesa mount',\n",
              "        nan],\n",
              "       ['lg lp173wf4(sp)(f1) new replacement lcd screen for laptop led full hd matte',\n",
              "        nan],\n",
              "       ['samsung ltn156at35-h01 new replacement lcd screen for laptop led hd glossy',\n",
              "        nan],\n",
              "       ['alienware aurora r10 gaming desktop - amd ryzen 7 5800, 16gb ddr4 ram, 1tb ssd, amd radeon rx 6600xt 8gb gddr6, vr ready, killer wi-fi 6, liquid cooling, 550w power supply, windows 11 home - black',\n",
              "        nan],\n",
              "       ['alienware aurora r10 gaming desktop - amd ryzen 9 5900, 32gb 3400mhz ram, 1tb ssd, nvidia geforce rtx 3080 10gb gddr6x graphics, windows 11 home - lunar light',\n",
              "        nan],\n",
              "       ['alienware aurora r9 (awaur9-7643wht-pus) intel core i7-9700 - 16gb memory - nvidia geforce rtx 2070-1tb hdd + 256gb ssd - white/lunar light',\n",
              "        nan],\n",
              "       ['alienware alpha asm100-1580 console (intel core i3-4130t 2.9 ghz, 4gb ddr3, 500gb hdd, windows 8) (discontinued by manufacturer)',\n",
              "        nan],\n",
              "       ['alienware awaur6-5468slv-pus gaming desktop, intel core i5 (up to 3.5ghz), 8gb, 1tb hdd, rx 480 graphics, epic silver',\n",
              "        nan],\n",
              "       ['alienware alpha asm100-1580 console (intel core i3-4130t 2.9 ghz, 4gb ddr3, 500gb hdd, windows 8) (discontinued by manufacturer)',\n",
              "        nan],\n",
              "       ['microsoft surface pro (intel core i5, 8gb ram, 256gb) & microsoft surface dock',\n",
              "        nan],\n",
              "       ['microsoft surface pro (intel core i5, 8gb ram, 256gb) & microsoft surface pen- platinum',\n",
              "        nan]], dtype=object)"
            ]
          },
          "metadata": {},
          "execution_count": 2336
        }
      ]
    },
    {
      "cell_type": "markdown",
      "source": [
        "**Observations**\n",
        "- Screen Size can't be further retrieved from the Title.\n",
        "- Using any imputation technique to assign values to such entries is not reasonable because there shouldn't be any screen size present in the dataset which does not exist in real time.\n",
        "- So, such entries should be removed rather than keeping them NULL or assigning them a value using any imputation technique.\n",
        "- The modified dataframe should be merged back with original one before removing rows with missing sceen size.  "
      ],
      "metadata": {
        "id": "Gc6XrJaNsLU6"
      }
    },
    {
      "cell_type": "code",
      "source": [
        "df.loc[df_screen_size_missing.index, 'Screen_Size'] = df_screen_size_missing.Screen_Size"
      ],
      "metadata": {
        "id": "6yOrzPE5wdGB"
      },
      "execution_count": 2337,
      "outputs": []
    },
    {
      "cell_type": "code",
      "source": [
        "# removing samples with missing screen size\n",
        "df.drop(df[df.Screen_Size.isna()].index, inplace=True)"
      ],
      "metadata": {
        "id": "Qk0vnQXkqYRR"
      },
      "execution_count": 2338,
      "outputs": []
    },
    {
      "cell_type": "code",
      "source": [
        "df.Screen_Size.isna().sum()"
      ],
      "metadata": {
        "colab": {
          "base_uri": "https://localhost:8080/"
        },
        "id": "PlRyv8jWuX0q",
        "outputId": "a7d0285b-13fa-4a68-d15f-c251c489d569"
      },
      "execution_count": 2339,
      "outputs": [
        {
          "output_type": "execute_result",
          "data": {
            "text/plain": [
              "0"
            ]
          },
          "metadata": {},
          "execution_count": 2339
        }
      ]
    },
    {
      "cell_type": "code",
      "source": [
        "df.Screen_Size.unique()"
      ],
      "metadata": {
        "colab": {
          "base_uri": "https://localhost:8080/"
        },
        "id": "MQ9cqn8C43NZ",
        "outputId": "c6d8b45a-ced8-46ec-8d37-f29df652a5b1"
      },
      "execution_count": 2340,
      "outputs": [
        {
          "output_type": "execute_result",
          "data": {
            "text/plain": [
              "array(['13.5 inches', '13 inches', '12.4 inches', '14 inches',\n",
              "       '34 inches', '15.6 inches', '17.3 inches', '17 inches',\n",
              "       '13.4 inches', '16 inches', '15.6', '15 inches', '15.4 inches',\n",
              "       '13', '13.3 inches', '13.6', '16.2 inches', '16', '14', '14.2',\n",
              "       '10.9 inches', '9.7 inches', '13.3', '14.1 inches', '12.3 inches',\n",
              "       '11.6 inches', '13.1 inches', '12 inches', '11 inches',\n",
              "       '12.5 inches', '10.1 inches', '11.6', '17.3', '14.0', '15.4',\n",
              "       '10.4 inches', '31.5 inches', '6 inches', '5.6 inches',\n",
              "       '10 inches', '17', '12.45 inches', '30 inches', '15',\n",
              "       '12.2 inches', '314', '24 inches', '14.2 inches', '13.6 inches',\n",
              "       '18.4 inches', '1 centimeters', '17.25 inches', '0.01',\n",
              "       '0.1 inches', '14.5', '12.1 inches', '14.5 inches', '10.5 inches',\n",
              "       '11', '116 inches', '16.6 inches', '3 inches', '13.5',\n",
              "       '14.4 inches', '14.4', '12.4', '10.51 inches'], dtype=object)"
            ]
          },
          "metadata": {},
          "execution_count": 2340
        }
      ]
    },
    {
      "cell_type": "markdown",
      "source": [
        "**Observations and Operations**\n",
        "- Now, there isn't any missing entry of screen size present in the dataset.\n",
        "- But there are entries from where the unit (inches) needs to be removed.\n"
      ],
      "metadata": {
        "id": "H2r_YK0CxYDu"
      }
    },
    {
      "cell_type": "code",
      "source": [
        "df.Screen_Size = df.Screen_Size.apply(lambda x : x.split()[0])"
      ],
      "metadata": {
        "id": "vipyBvCXyy7X"
      },
      "execution_count": 2341,
      "outputs": []
    },
    {
      "cell_type": "code",
      "source": [
        "df.Screen_Size.unique()"
      ],
      "metadata": {
        "colab": {
          "base_uri": "https://localhost:8080/"
        },
        "id": "Ke5KcLxh5SuO",
        "outputId": "32193f48-1cdf-43a4-f185-d8e6c2988fed"
      },
      "execution_count": 2342,
      "outputs": [
        {
          "output_type": "execute_result",
          "data": {
            "text/plain": [
              "array(['13.5', '13', '12.4', '14', '34', '15.6', '17.3', '17', '13.4',\n",
              "       '16', '15', '15.4', '13.3', '13.6', '16.2', '14.2', '10.9', '9.7',\n",
              "       '14.1', '12.3', '11.6', '13.1', '12', '11', '12.5', '10.1', '14.0',\n",
              "       '10.4', '31.5', '6', '5.6', '10', '12.45', '30', '12.2', '314',\n",
              "       '24', '18.4', '1', '17.25', '0.01', '0.1', '14.5', '12.1', '10.5',\n",
              "       '116', '16.6', '3', '14.4', '10.51'], dtype=object)"
            ]
          },
          "metadata": {},
          "execution_count": 2342
        }
      ]
    },
    {
      "cell_type": "code",
      "source": [
        "df.Screen_Size.isna().sum()"
      ],
      "metadata": {
        "colab": {
          "base_uri": "https://localhost:8080/"
        },
        "id": "qiN6ZJEh5Vkp",
        "outputId": "76380422-a450-4381-ddf1-a2b297f46baa"
      },
      "execution_count": 2343,
      "outputs": [
        {
          "output_type": "execute_result",
          "data": {
            "text/plain": [
              "0"
            ]
          },
          "metadata": {},
          "execution_count": 2343
        }
      ]
    },
    {
      "cell_type": "code",
      "source": [
        "df.Screen_Size.info()"
      ],
      "metadata": {
        "colab": {
          "base_uri": "https://localhost:8080/"
        },
        "id": "Cou_NnDQ5kSO",
        "outputId": "43a4512e-e8a1-4934-d9a4-a0a584bde2c8"
      },
      "execution_count": 2344,
      "outputs": [
        {
          "output_type": "stream",
          "name": "stdout",
          "text": [
            "<class 'pandas.core.series.Series'>\n",
            "Index: 2821 entries, 0 to 2842\n",
            "Series name: Screen_Size\n",
            "Non-Null Count  Dtype \n",
            "--------------  ----- \n",
            "2821 non-null   object\n",
            "dtypes: object(1)\n",
            "memory usage: 44.1+ KB\n"
          ]
        }
      ]
    },
    {
      "cell_type": "code",
      "source": [
        "# changing datatype of Screen_Size feature from object to float\n",
        "df.Screen_Size = df.Screen_Size.astype(float)"
      ],
      "metadata": {
        "id": "yo-y6je-5_CS"
      },
      "execution_count": 2345,
      "outputs": []
    },
    {
      "cell_type": "code",
      "source": [
        "df.Screen_Size.plot(kind='hist')"
      ],
      "metadata": {
        "colab": {
          "base_uri": "https://localhost:8080/",
          "height": 447
        },
        "id": "i7-ZivoY6NaI",
        "outputId": "b796878a-f14e-4d55-cee1-7841ca0e8494"
      },
      "execution_count": 2346,
      "outputs": [
        {
          "output_type": "execute_result",
          "data": {
            "text/plain": [
              "<Axes: ylabel='Frequency'>"
            ]
          },
          "metadata": {},
          "execution_count": 2346
        },
        {
          "output_type": "display_data",
          "data": {
            "text/plain": [
              "<Figure size 640x480 with 1 Axes>"
            ],
            "image/png": "[encoded data removed]"
          },
          "metadata": {}
        }
      ]
    },
    {
      "cell_type": "code",
      "source": [
        "df.Screen_Size.value_counts().sort_index().plot(kind='bar', figsize=(10, 6))"
      ],
      "metadata": {
        "colab": {
          "base_uri": "https://localhost:8080/",
          "height": 590
        },
        "id": "QwPup4Se6RZH",
        "outputId": "4e578dce-57d8-4de5-eb4e-4a50db6277a1"
      },
      "execution_count": 2347,
      "outputs": [
        {
          "output_type": "execute_result",
          "data": {
            "text/plain": [
              "<Axes: xlabel='Screen_Size'>"
            ]
          },
          "metadata": {},
          "execution_count": 2347
        },
        {
          "output_type": "display_data",
          "data": {
            "text/plain": [
              "<Figure size 1000x600 with 1 Axes>"
            ],
            "image/png": "[encoded data removed]"
          },
          "metadata": {}
        }
      ]
    },
    {
      "cell_type": "markdown",
      "source": [
        "**Observations**\n",
        "- Typical screen size ranges between 11 and 17 inches. But to make it more generalized, the range can be fixed between 10 to 18 inches.\n",
        "- Every other laptop which do not fall in this range, should be considered as an outlier."
      ],
      "metadata": {
        "id": "wdFLBTSG7uXE"
      }
    },
    {
      "cell_type": "code",
      "source": [
        "df.Screen_Size[(df.Screen_Size < 10) | (df.Screen_Size > 18)].shape"
      ],
      "metadata": {
        "colab": {
          "base_uri": "https://localhost:8080/"
        },
        "id": "--luIIhP6rct",
        "outputId": "8324f71a-c3a5-46d1-ad2a-b503a48bdd06"
      },
      "execution_count": 2348,
      "outputs": [
        {
          "output_type": "execute_result",
          "data": {
            "text/plain": [
              "(28,)"
            ]
          },
          "metadata": {},
          "execution_count": 2348
        }
      ]
    },
    {
      "cell_type": "code",
      "source": [
        "# removing rows with screen size < 10 and screen size > 18\n",
        "screen_size_outliers_index = df.Screen_Size[(df.Screen_Size < 10) | (df.Screen_Size > 18)].index\n",
        "df.drop(screen_size_outliers_index, inplace=True)"
      ],
      "metadata": {
        "id": "uNOCReY_8sFJ"
      },
      "execution_count": 2349,
      "outputs": []
    },
    {
      "cell_type": "code",
      "source": [
        "df.Screen_Size.value_counts().sort_index().plot(kind='bar', figsize=(10, 6))"
      ],
      "metadata": {
        "colab": {
          "base_uri": "https://localhost:8080/",
          "height": 590
        },
        "id": "qf4cmArt9N3l",
        "outputId": "939b1078-c956-49e8-8b14-5a5674df2120"
      },
      "execution_count": 2350,
      "outputs": [
        {
          "output_type": "execute_result",
          "data": {
            "text/plain": [
              "<Axes: xlabel='Screen_Size'>"
            ]
          },
          "metadata": {},
          "execution_count": 2350
        },
        {
          "output_type": "display_data",
          "data": {
            "text/plain": [
              "<Figure size 1000x600 with 1 Axes>"
            ],
            "image/png": "[encoded data removed]"
          },
          "metadata": {}
        }
      ]
    },
    {
      "cell_type": "code",
      "source": [
        "df.shape"
      ],
      "metadata": {
        "id": "5Fkp_iDU9RCR",
        "colab": {
          "base_uri": "https://localhost:8080/"
        },
        "outputId": "a5ea0289-f093-44d0-a44d-d3f09936eb99"
      },
      "execution_count": 2351,
      "outputs": [
        {
          "output_type": "execute_result",
          "data": {
            "text/plain": [
              "(2793, 17)"
            ]
          },
          "metadata": {},
          "execution_count": 2351
        }
      ]
    },
    {
      "cell_type": "code",
      "source": [
        "df.columns"
      ],
      "metadata": {
        "colab": {
          "base_uri": "https://localhost:8080/"
        },
        "id": "64LeoiimXfZq",
        "outputId": "dcc1f5c7-80b5-4131-94c6-3025f7b229c6"
      },
      "execution_count": 2352,
      "outputs": [
        {
          "output_type": "execute_result",
          "data": {
            "text/plain": [
              "Index(['Title', 'Brand', 'Screen_Size', 'CPU_Model', 'Ram', 'Operating_System',\n",
              "       'Rating', 'Series', 'Color', 'Resolution', 'Weight', 'USB', 'Battery',\n",
              "       'Graphics', 'Disk_size', 'Card_desc', 'Price'],\n",
              "      dtype='object')"
            ]
          },
          "metadata": {},
          "execution_count": 2352
        }
      ]
    },
    {
      "cell_type": "markdown",
      "source": [
        "# Handling the **CPU_Model** feature\n",
        "\n",
        "The CPU_Model feature in your dataset likely refers to the specific processor model used in each laptop. This is a crucial factor determining a laptop's performance."
      ],
      "metadata": {
        "id": "GCMx_ILvX1sw"
      }
    },
    {
      "cell_type": "code",
      "source": [
        "df.CPU_Model.unique()"
      ],
      "metadata": {
        "colab": {
          "base_uri": "https://localhost:8080/"
        },
        "id": "3hwfMF_uXox_",
        "outputId": "4484f92b-4e53-4d07-fa9e-67802478308d"
      },
      "execution_count": 2353,
      "outputs": [
        {
          "output_type": "execute_result",
          "data": {
            "text/plain": [
              "array(['1.2ghz cortex a8 processor', 'core i5', 'core i7',\n",
              "       'core i5-1035g7', 'ryzen 3 2300u', 'intel core i5-1135g7',\n",
              "       'ryzen 5', 'intel core i9', 'core i7 8750h', 'intel core i7',\n",
              "       'amd ryzen 9 5900x', 'core i7 6600u', 'ryzen 9', 'core i9',\n",
              "       'corei5-10300h', 'core i7-3720qm', nan, 'celeron n4020',\n",
              "       'core i7 family', 'intel core i5', 'ryzen 7', 'arm 7100',\n",
              "       'apple m1', 'core i5 8250u', 'unknown', 'core i5-6267u', 'core i3',\n",
              "       'core i7 11800h', 'corei7-10750h', 'amd ryzen 7', 'core i5 family',\n",
              "       'corei7-9750h', 'ryzen 5 5500u', 'core i7-10510u',\n",
              "       'core i3 family', 'corei7-1065g7', 'xeon platinum 8160m',\n",
              "       'core i9 12900h', 'amd ryzen 5 5500u', 'celeron', 'others',\n",
              "       'celeron n', 'amd a series', 'celeron n4000', 'core i5-5250u',\n",
              "       'mediatek mt8183', 'ryzen 3 3350u', 'core i7 extreme', 'amd a6',\n",
              "       'core i5-3340s', '8032', 'pentium', 'core i3 1115g4',\n",
              "       'intel core i3', 'cortex', 'ryzen 3', 'intel core i7-1165g7',\n",
              "       'ryzen 7 5800u', 'amd ryzen 5 5600x', 'core 2 duo l7500',\n",
              "       'core i5-3340m', 'core duo', 'core i5 8300h', 'mediatek_mt8127',\n",
              "       'amd a4', 'celeron 2955u', 'ryzen 5 4500u', 'celeron n3350',\n",
              "       'celeron 3205u', 'ryzen 3 3200u', 'celeron n3450',\n",
              "       'core i5-10210u', 'amd r series', 'ryzen 7 3700u',\n",
              "       'core 2 duo t7100', 'core i5-2540m', 'ryzen 5 5600h',\n",
              "       'core i5-1035g1', 'ryzen 7 5700u', 'intel core 2 quad',\n",
              "       'core i5-2500', 'core 2 duo sl9300', 'core i5-3320m',\n",
              "       'core i5-750', 'core i5-1035g4', 'ryzen 7 4700u', 'core i5 5300u',\n",
              "       'intel mobile cpu', 'core i7-4810hq', 'core i5-655k',\n",
              "       'core i5 4310u', 'i5-4670k', 'core i5-520m', 'core i5-2520m',\n",
              "       'intel core m-5y10 processor', 'amd ryzen 7 5800h',\n",
              "       'amd ryzen 7 5700u', 'mediatek mt8173c', 'core i5 2.3 ghz',\n",
              "       'intel core i7 1185g7', 'core m3-8100y', 'pentium n5000', 'athlon',\n",
              "       'core i5-6260u', 'core i3-10110u', 'intel core duo',\n",
              "       'core i5 6200u', 'core_m', 'a4 3020e', 'core i3-1005g1',\n",
              "       'core i7-1065g7', 'athlon 3050u', 'core i5 8400t', 'core i5 4310m',\n",
              "       'core m family', '68lc040', 'core i7-4980hq', 'core i9-9900k',\n",
              "       'core i7-10700k', 'core i7 10870h', 'core i7 6700hq',\n",
              "       'core i7 6700', 'amd e series', 'pentium other',\n",
              "       'athlon silver 3050u', 'ryzen 3 3250u', 'i5-2320', 'core i5-4210m',\n",
              "       'core i5 7200u', 'amd c series', 'pentium d', 'core 2 duo 2.33ghz',\n",
              "       'core i3-4120u', 'intel pentium m', 'ryzen 5 3500u',\n",
              "       'athlon 2650e', 'qualcomm snapdragon s4 msm8270', 'xeon',\n",
              "       'core i7-8650u', 'ryzen 7 5800h', 'snapdragon', 'core i5-2300',\n",
              "       '68040', 'intel celeron d', 'core i7-6820hq', 'intel atom',\n",
              "       'ryzen 5 3450u', 'intel core 2 duo', 'ryzen 7 4800h', 'intel xeon',\n",
              "       'core i5-5200u', '80486slc', 'celeron n2840', 'core 2 duo',\n",
              "       'core 2 duo p8700', 'core i7 12700h', 'core i7 8550u',\n",
              "       '1.2ghz cortex a9 processor', 'ryzen 5 3550h', 'celeron n3060',\n",
              "       'ryzen 5 3500', 'exynos 5250', 'core i7 7500u', 'core i7 11370h',\n",
              "       'exynos 5000 series', 'exynos 5 octa 5420', '5x86',\n",
              "       'intel core i7 extreme', '80486dx2', 'intel core i5 1145g7',\n",
              "       'mobile intel celeron processor', 'celeron_m', 'ryzen 9 5900x',\n",
              "       'ryzen 5 4680u', 'intel core i7-11700', 'ryzen 5 2600x',\n",
              "       'core i5-10210y', 'ryzen 7 3700x', 'core i7-2630qm',\n",
              "       'core i5-10400t'], dtype=object)"
            ]
          },
          "metadata": {},
          "execution_count": 2353
        }
      ]
    },
    {
      "cell_type": "code",
      "source": [
        "df.CPU_Model.isna().sum()"
      ],
      "metadata": {
        "colab": {
          "base_uri": "https://localhost:8080/"
        },
        "id": "hxjoCSsjXvSU",
        "outputId": "c52e6484-d987-48b2-f783-a6f308cb9e17"
      },
      "execution_count": 2354,
      "outputs": [
        {
          "output_type": "execute_result",
          "data": {
            "text/plain": [
              "193"
            ]
          },
          "metadata": {},
          "execution_count": 2354
        }
      ]
    },
    {
      "cell_type": "code",
      "source": [
        "df[df.CPU_Model.isna()][['Title', 'CPU_Model']].tail(10).values"
      ],
      "metadata": {
        "colab": {
          "base_uri": "https://localhost:8080/"
        },
        "id": "Q3tZBoTEZuKE",
        "outputId": "52b129df-e564-423b-ca5a-43129f593576"
      },
      "execution_count": 2355,
      "outputs": [
        {
          "output_type": "execute_result",
          "data": {
            "text/plain": [
              "array([['microsoft surface laptop go 12.4\" touchscreen notebook - 1536 x 1024 - intel core i5 10th gen i5-1035g1 1 ghz - 8 gb total ram - 256 gb ssd - platinum - windows 10 pro - intel uhd (renewed)',\n",
              "        nan],\n",
              "       ['microsoft surface pro 8-13\" touchscreen - intel® evo platform core™ i5-16gb memory - 256gb ssd - graphite (latest model) with microsoft 365 family | 15-month subscription | pc/mac download',\n",
              "        nan],\n",
              "       ['microsoft surface pro 6 12.3\" pixelsense touchscreen intel core i5-8250u 16gb ram 256gb ssd windows 10 home',\n",
              "        nan],\n",
              "       ['microsoft surface book tablet pc - 13.5\" - pixelsense - wireless lan - intel core i7 i7-6600u dual-core (2 core) 2.60 ghz - silver sw6-00001',\n",
              "        nan],\n",
              "       ['microsoft surface pro 9 (2022), 13\" 2-in-1 tablet & laptop, thin & lightweight, intel 12th gen i5 fast processor for multi-tasking, 8gb ram, 256gb storage with windows 11, forest',\n",
              "        nan],\n",
              "       ['microsoft surface laptop 4, amd ryzen 5 4680u, 8gb ram, 256gb ssd, 13.5\" touchscreen display, amd radeon graphics, windows 10 pro, 5q8-00001 (renewed)',\n",
              "        nan],\n",
              "       ['microsoft surface pro 7 12.3in intel core i5 10th gen 8gb ram 128gb ssd platinum (renewed)',\n",
              "        nan],\n",
              "       ['microsoft surface go 3 - 10.5\" touchscreen - intel® pentium® gold - 4gb memory - 64gb emmc - device only - platinum (latest model)',\n",
              "        nan],\n",
              "       ['new microsoft surface go 2 - 10.5\" touch-screen - intel pentium - 4gb memory - 64gb - wifi - platinum (latest model)',\n",
              "        nan],\n",
              "       ['microsoft surface laptop 3 (plr-00001) - 15\" pixelsense touchscreen - amd ryzen 5-8gb ram - 128gb ssd -',\n",
              "        nan]], dtype=object)"
            ]
          },
          "metadata": {},
          "execution_count": 2355
        }
      ]
    },
    {
      "cell_type": "markdown",
      "source": [
        "**Observations**\n",
        "- Like other features, missing information on cpu models can also be retrieved from the **Title** feature using regular expressions.\n",
        "- From the unique values, it appears that dataset contains cpu models from the family of ryzen, intel core i, amd, celeron, exynos."
      ],
      "metadata": {
        "id": "Wo79pxlEacBG"
      }
    },
    {
      "cell_type": "code",
      "source": [
        "# seperating rows with missing cpu model\n",
        "df_cpu_missing = df[df.CPU_Model.isna()][['Title', 'CPU_Model']]\n",
        "df_cpu_missing.shape"
      ],
      "metadata": {
        "colab": {
          "base_uri": "https://localhost:8080/"
        },
        "id": "Db3QdpRWb-1w",
        "outputId": "31cbafe9-982c-43af-a390-9f5ae279328b"
      },
      "execution_count": 2356,
      "outputs": [
        {
          "output_type": "execute_result",
          "data": {
            "text/plain": [
              "(193, 2)"
            ]
          },
          "metadata": {},
          "execution_count": 2356
        }
      ]
    },
    {
      "cell_type": "markdown",
      "source": [
        "(?:ryzen|core[- ]?i|amd|celeron|exynos):\n",
        "\n",
        "- (?:...): This creates a non-capturing group. It means this part is used for matching but won't be returned as a separate captured group.\n",
        " - ryzen|core[- ]?i|amd|celeron|exynos: This is the core of the expression. It uses the pipe symbol | to represent \"or\". It's looking for any of the following CPU brand/family names:\n",
        "ryzen\n",
        " - core[- ]?i: This matches \"core i\" with an optional hyphen or space between \"core\" and \"i\".\n",
        "amd\n",
        "celeron\n",
        "exynos\n",
        "-[- ]? : This matches an optional hyphen - or space. It allows for variations in how the brand/family is separated from the model number.\n",
        "- \\d+ : This matches one or more digits (\\d). This is intended to capture the model number of the CPU."
      ],
      "metadata": {
        "id": "vwL809MIcwXQ"
      }
    },
    {
      "cell_type": "code",
      "source": [
        "def cpu_model_retrieval(title):\n",
        "  \"\"\"\n",
        "  The function is responsible for retrieving the cpu model from the title.\n",
        "  Args\n",
        "  title : The title of the laptop.\n",
        "  Returns\n",
        "  cpu_model : The cpu model of the laptop.\n",
        "  \"\"\"\n",
        "  # regular expression to find cpu model\n",
        "  cpu_pattern = r\"((?:ryzen|core|amd|celeron|exynos|pentium|intel|m)[- ]?[a-zA-Z]*\\d{1}[pro max]*)\"\n",
        "  cpu_model = re.findall(cpu_pattern, title)\n",
        "  if cpu_model:\n",
        "    return cpu_model[0]\n",
        "  else:\n",
        "    return np.nan\n",
        "\n",
        "df_cpu_missing['CPU_Model'] = df_cpu_missing.Title.apply(cpu_model_retrieval)"
      ],
      "metadata": {
        "id": "ROf9uqHledFt"
      },
      "execution_count": 2357,
      "outputs": []
    },
    {
      "cell_type": "code",
      "source": [
        "df_cpu_missing.CPU_Model"
      ],
      "metadata": {
        "colab": {
          "base_uri": "https://localhost:8080/",
          "height": 458
        },
        "id": "lchc9HPwe63T",
        "outputId": "47f7f4e0-f7ba-4111-c54d-d438e7f9ad40"
      },
      "execution_count": 2358,
      "outputs": [
        {
          "output_type": "execute_result",
          "data": {
            "text/plain": [
              "37         m1 ma\n",
              "40            m1\n",
              "55           mf0\n",
              "63           m2 \n",
              "67           m1 \n",
              "          ...   \n",
              "2779    ryzen 5 \n",
              "2783    core i5 \n",
              "2792         NaN\n",
              "2826         NaN\n",
              "2827     ryzen 5\n",
              "Name: CPU_Model, Length: 193, dtype: object"
            ],
            "text/html": [
              "<div>\n",
              "<style scoped>\n",
              "    .dataframe tbody tr th:only-of-type {\n",
              "        vertical-align: middle;\n",
              "    }\n",
              "\n",
              "    .dataframe tbody tr th {\n",
              "        vertical-align: top;\n",
              "    }\n",
              "\n",
              "    .dataframe thead th {\n",
              "        text-align: right;\n",
              "    }\n",
              "</style>\n",
              "<table border=\"1\" class=\"dataframe\">\n",
              "  <thead>\n",
              "    <tr style=\"text-align: right;\">\n",
              "      <th></th>\n",
              "      <th>CPU_Model</th>\n",
              "    </tr>\n",
              "  </thead>\n",
              "  <tbody>\n",
              "    <tr>\n",
              "      <th>37</th>\n",
              "      <td>m1 ma</td>\n",
              "    </tr>\n",
              "    <tr>\n",
              "      <th>40</th>\n",
              "      <td>m1</td>\n",
              "    </tr>\n",
              "    <tr>\n",
              "      <th>55</th>\n",
              "      <td>mf0</td>\n",
              "    </tr>\n",
              "    <tr>\n",
              "      <th>63</th>\n",
              "      <td>m2</td>\n",
              "    </tr>\n",
              "    <tr>\n",
              "      <th>67</th>\n",
              "      <td>m1</td>\n",
              "    </tr>\n",
              "    <tr>\n",
              "      <th>...</th>\n",
              "      <td>...</td>\n",
              "    </tr>\n",
              "    <tr>\n",
              "      <th>2779</th>\n",
              "      <td>ryzen 5</td>\n",
              "    </tr>\n",
              "    <tr>\n",
              "      <th>2783</th>\n",
              "      <td>core i5</td>\n",
              "    </tr>\n",
              "    <tr>\n",
              "      <th>2792</th>\n",
              "      <td>NaN</td>\n",
              "    </tr>\n",
              "    <tr>\n",
              "      <th>2826</th>\n",
              "      <td>NaN</td>\n",
              "    </tr>\n",
              "    <tr>\n",
              "      <th>2827</th>\n",
              "      <td>ryzen 5</td>\n",
              "    </tr>\n",
              "  </tbody>\n",
              "</table>\n",
              "<p>193 rows × 1 columns</p>\n",
              "</div><br><label><b>dtype:</b> object</label>"
            ]
          },
          "metadata": {},
          "execution_count": 2358
        }
      ]
    },
    {
      "cell_type": "code",
      "source": [
        "df_cpu_missing[df_cpu_missing.CPU_Model.isna()].shape"
      ],
      "metadata": {
        "colab": {
          "base_uri": "https://localhost:8080/"
        },
        "id": "sJj1pg9ATrWc",
        "outputId": "6aff3dd4-e62c-4be3-d4f1-e39f57bce276"
      },
      "execution_count": 2359,
      "outputs": [
        {
          "output_type": "execute_result",
          "data": {
            "text/plain": [
              "(62, 2)"
            ]
          },
          "metadata": {},
          "execution_count": 2359
        }
      ]
    },
    {
      "cell_type": "code",
      "source": [
        "df_cpu_missing[df_cpu_missing.CPU_Model.isna()].values"
      ],
      "metadata": {
        "colab": {
          "base_uri": "https://localhost:8080/"
        },
        "id": "-QhVfhNJhvbs",
        "outputId": "b5838698-d5a8-486f-d511-a3d2b8d79629"
      },
      "execution_count": 2360,
      "outputs": [
        {
          "output_type": "execute_result",
          "data": {
            "text/plain": [
              "array([['apple 2022 10.9-inch ipad (wi-fi, 64gb) - blue (10th generation)',\n",
              "        nan],\n",
              "       ['acer spin 7, 14\" fhd touch display, qualcomm snapdragon 8cx gen 2 5g compute platform, 8gb lpddr4x, 512gb universal flash storage, 5g, 4g lte, wi-fi, backlit kb, fpr, antimicrobial, sp714-61na-s1qa',\n",
              "        nan],\n",
              "       ['panasonic toughbook cf-52 500gb 4gb 15.4\" genuine win 7 pro + microsoft office 2010',\n",
              "        nan],\n",
              "       ['panasonic cf-30fdsaaam toughbook 30 13.3\" c2d l7500 1.6ghz 1gb 80gb xp pro',\n",
              "        nan],\n",
              "       ['acer chromebook 514 laptop | 14\" fhd touch | mediatek kompanio 828 octa-core processor | 8gb ram | 64gb emmc | wi-fi 6 | backlit kb | chrome os | up to 15 hours battery life | cb514-2ht-k0fz',\n",
              "        nan],\n",
              "       ['blackview tablet tab8, 10.1 inch android tablets with 4gb+64gb octa core processor,1920x1200 ips fhd display, 13mp+5mp dual camera, gps, fm, 5g wifi teblet grey',\n",
              "        nan],\n",
              "       ['lg bundle gram (2022) 14z90q ultra lightweight-laptop, 14\" ips-display, intel evo 12th gen i7 1260p-processor, 32gb lpddr5, 1tb nvme ssd, wifi 6e, windows 11, black & gram+view portable-monitor',\n",
              "        nan],\n",
              "       ['lg bundle gram (2022) 14z90q ultra lightweight-laptop, 14\" ips-display, intel evo 12th gen i7 1260p-processor, 16gb lpddr5, 512gb nvme ssd, wifi 6e, windows 11, gray & gram+view portable-monitor',\n",
              "        nan],\n",
              "       ['lg bundle gram (2022) 14z90q ultra lightweight-laptop, 14\" ips-display, intel evo 12th gen i5 1240p-processor,\\xa08gb lpddr5, 512gb nvme ssd, wifi 6e, windows11, white & gram+view portable-monitor',\n",
              "        nan],\n",
              "       ['lg bundle gram (2022) 16t90q 2-in-1 tablet-laptop, 16\" ips-display, intel evo 12th gen i7 1260p-processor, 16gb lpddr5, 512gb nvme ssd, wifi 6e, windows 11, green & gram+view portable-monitor',\n",
              "        nan],\n",
              "       ['lg bundle gram (2022) 16t90q 2-in-1 tablet-laptop, 16\" ips-display, intel evo 12th gen i7 1260p-processor, 16gb lpddr5, 2tb nvme ssd, wifi 6e, windows 11, silver & gram+view portable-monitor',\n",
              "        nan],\n",
              "       ['lg bundle gram (2022) 14z90q ultra lightweight-laptop, 14\" ips-display, intel evo 12th gen i7 1260p-processor, 16gb lpddr5, 512gb nvme ssd, wifi 6e, windows 11, gray & gram+view portable-monitor',\n",
              "        nan],\n",
              "       ['lg bundle gram (2022) 14z90q ultra lightweight-laptop, 14\" ips-display, intel evo 12th gen i7 1260p-processor, 16gb lpddr5, 512gb nvme ssd, wifi 6e, windows 11, gray & gram+view portable-monitor',\n",
              "        nan],\n",
              "       ['lg bundle gram (2022) 14z90q ultra lightweight-laptop, 14\" ips-display, intel evo 12th gen i7 1260p-processor, 32gb lpddr5, 1tb nvme ssd, wifi 6e, windows 11, black & gram+view portable-monitor',\n",
              "        nan],\n",
              "       ['lg bundle gram (2022) 16t90q 2-in-1 tablet-laptop, 16\" ips-display, intel evo 12th gen i7 1260p-processor, 16gb lpddr5, 2tb nvme ssd, wifi 6e, windows 11, black & gram+view portable-monitor',\n",
              "        nan],\n",
              "       ['generic 11.6 inches hd screen compatible with chromebook 11 cb3-111 laptop replacement led lcd',\n",
              "        nan],\n",
              "       ['generic new 14.0 inch screen compatible with thinkpad t480 20l5 series replacement screen ips',\n",
              "        nan],\n",
              "       ['generic 15.6\" hd screen compatible with hp probook 4510s 4515s 4520s 4525s 4530s 4535s 4540s 4545s laptop replacement led lcd',\n",
              "        nan],\n",
              "       ['generic 15.6\" hd screen compatible with samsung ltn156at37-l01 laptop replacement led lcd',\n",
              "        nan],\n",
              "       ['generic new 17.3\" led wxga++ glossy hd lcd replacement laptop screen/display compatible with ltn173kt01 (k01, t01, a01, d01)',\n",
              "        nan],\n",
              "       ['fullcom new 15.6 inches compatible with omen laptop 15-ax210nd / 15-ax210nr fit n156hca-eaa, n156hca-eaa laptop replacement screen',\n",
              "        nan],\n",
              "       ['13-15 inch cat paws print laptop sleeve case/water-resistant neoprene notebook computer pocket tablet briefcase carrying bag/pouch skin cover for hp/dell/lenovo/asus/acer/apple',\n",
              "        nan],\n",
              "       ['au optronics b156han01.2 laptop lcd screen 15.6\" full-hd diode (substitute replacement lcd screen only. not a laptop )',\n",
              "        nan],\n",
              "       ['generic 15.6\" hd screen compatible with lenovo g50-70 20351 laptop replacement led lcd',\n",
              "        nan],\n",
              "       ['msi a6200 laptop lcd screen 15.6\" wxga hd led diode (substitute replacement lcd screen only. not a laptop)',\n",
              "        nan],\n",
              "       ['dell inspiron 1545 bt156gw01 v.1 laptop lcd screen replacement 15.6\" wxga hd led matte',\n",
              "        nan],\n",
              "       ['new 17.3\" led wxga++ glossy hd lcd replacement laptop screen/display for hp pavilion g72-b60us & g72-b66us',\n",
              "        nan],\n",
              "       ['chunghwa claa173ua01a replacement laptop lcd screen 17.3\" wxga++ led diode (substitute replacement lcd screen only. not a laptop )',\n",
              "        nan],\n",
              "       ['chi mei n133bge-l41 replacement laptop lcd screen 13.3\" wxga hd led diode (substitute only. not a )',\n",
              "        nan],\n",
              "       ['generic new 15.6\" hd laptop replacement led lcd screen compatible with dell inspiron 15-3000 (b156xtn04.0 non touch)',\n",
              "        nan],\n",
              "       ['generic new 14.0\" hd glossy replacement led lcd screen compatible with toshiba satellite l745 models l745-s4110, l745-s4210, l745-s4310, l745-s4235',\n",
              "        nan],\n",
              "       ['generic new 14.0 inch ips fhd (1080p) laptop led lcd replacement screen/panel compatible with b140han02.1/ b140han02.4',\n",
              "        nan],\n",
              "       ['generic aohc 13-14 inch (jet black) laptop sleeve case laptop stand adjustable, computer shock resistant bag with mouse pad for macbook, window surface',\n",
              "        nan],\n",
              "       ['generic new 15.6\" hd laptop replacement led lcd screen compatible with dell inspiron 15-3000 (b156xtn04.0 non touch)',\n",
              "        nan],\n",
              "       ['generic new 15.6\" ips fhd 1080p laptop led lcd replacement screen/panel compatible with lp156wf6(sp)(k6) lp156wf6-spk6',\n",
              "        nan],\n",
              "       ['generic 14.0\" wxga compatible with dell latitude e6420 ltn140at16 laptop lcd screen replacement',\n",
              "        nan],\n",
              "       ['generic new 15.6\" ips fhd 1080p laptop led lcd replacement screen/panel compatible with lp156wf6(sp)(k6) lp156wf6-spk6',\n",
              "        nan],\n",
              "       ['generic new 14.0 inch screen compatible with thinkpad t480 20l5 series replacement screen ips',\n",
              "        nan],\n",
              "       ['2022 hp flagship laptop, intel dual-core processor up to 2.65ghz, 15-inch, 4gb ddr4, 500gb storage, super-fast wifi, windows 11, dale red (renewed)',\n",
              "        nan],\n",
              "       ['2022 hp 14\" hd ips laptop, windows 11 os, intel pentium quad-core processor up to 3.0ghz, 4gb ram, 128gb ssd, 4k graphics, dale black(renewed)',\n",
              "        nan],\n",
              "       ['2022 hp 14\" hd ips touchscreen chromebook, intel processor up to 3.0ghz, 4gb ram, 64gb ssd, 4k graphics, super-fast 6th gen wifi, chrome os, dale silver(renewed) (dale silver)',\n",
              "        nan],\n",
              "       ['2022 hp flagship 15inch hd laptop, intel dual-core processor up to 2.65ghz, 4gb ddr4, 128gb ssd, ultra-fast wifi, windows 11, dale red(renewed)',\n",
              "        nan],\n",
              "       ['2022 hp convertible 2-in-1 chromebook laptop, 14\" hd ips touchscreen, intel celeron processor up to 2.75ghz, 4gb ram, 32gb ssd, super-fast 6th gen wifi, chrome os(renewed) (dale silve)',\n",
              "        nan],\n",
              "       ['2022 hp 14\" hd laptop, windows 11, intel celeron dual-core processor up to 2.80ghz, 4gb ram, 64gb ssd, chromes os, cobalt blue (renewed)',\n",
              "        nan],\n",
              "       ['newest hp 14\" flagship laptop, windows 11 os, amd dual-core processor up to 2.60 ghz, 4gb ram, 64gb ssd, webcam, silver (renewed)',\n",
              "        nan],\n",
              "       ['newest hp 14\" flagship laptop, windows 11 os, amd dual-core processor up to 2.60 ghz, 4gb ram, 64gb ssd, webcam, silver (renewed)',\n",
              "        nan],\n",
              "       ['2022 hp 14\" hd laptop, windows 11, intel celeron dual-core processor up to 2.80ghz, 4gb ram, 64gb ssd, chromes os, cobalt blue (renewed)',\n",
              "        nan],\n",
              "       ['newest hp 14\" flagship laptop, windows 11 os, amd processor up to 3.2ghz, 4gb ddr4, 128gb ssd, webcam, sparkling silver (renewed)',\n",
              "        nan],\n",
              "       ['samsung galaxy tab 4 10.1in 16gb wifi black (renewed)', nan],\n",
              "       ['asus 11.6\" c202sa series 16gb chromebook (dark blue/silver) c202sa-ys02 (renewed)',\n",
              "        nan],\n",
              "       ['samsung chromebook 2 13.3 inch laptop (samsung exynos, 4 gb, 16 gb ssd, luminous titan) (renewed)',\n",
              "        nan],\n",
              "       ['samsung galaxy tab s7 fe 12.4” 64gb wifi android tablet w/ large screen, long lasting battery, s pen included, multi device connectivity, us version, 2021, mystic black',\n",
              "        nan],\n",
              "       ['samsung notebook flash memory 4 gb, storage 64 gb emmc, 13.3\", twill charcoal (np530xbb) (renewed)',\n",
              "        nan],\n",
              "       ['samsung galaxy book go 14\" fhd laptop, qualcomm snapdragon 7c gen 2 , 4gb ram, 64gb hd, silver, windows 10 - includes microsoft 365 personal 12 month subscription',\n",
              "        nan],\n",
              "       ['miwasion case only compatible with 13.5\" microsoft surface metal keyboard laptop(4/3),release(1868/1951) laptop with keyboard protectors plastic hard shell cases（garden\\xa0flowers,floral）',\n",
              "        nan],\n",
              "       ['new microsoft surface go 2 - 10.5\" touch-screen - intel pentium - 4gb memory - 64gb - wifi - platinum (latest model)',\n",
              "        nan],\n",
              "       ['tomtoc 360 protective laptop sleeve for 13.5-14.4 inch new microsoft surface laptop studio/5/4/3/2/1, surface book 3/2/1, waterproof accessories carrying case bag for asus zenbook/ vivobook 14, black',\n",
              "        nan],\n",
              "       ['microsoft surface go (intel pentium gold, 8gb ram, 128gb) (mcz-00001)',\n",
              "        nan],\n",
              "       ['microsoft surface pro x - 13\" touchscreen - microsoft sq 2 - 16gb memory - 256gb ssd - device only - platinum (latest model)',\n",
              "        nan],\n",
              "       ['microsoft surface pro 8-13\" touchscreen - intel® evo platform core™ i5-16gb memory - 256gb ssd - graphite (latest model) with microsoft 365 family | 15-month subscription | pc/mac download',\n",
              "        nan],\n",
              "       ['microsoft surface go 3 - 10.5\" touchscreen - intel® pentium® gold - 4gb memory - 64gb emmc - device only - platinum (latest model)',\n",
              "        nan],\n",
              "       ['new microsoft surface go 2 - 10.5\" touch-screen - intel pentium - 4gb memory - 64gb - wifi - platinum (latest model)',\n",
              "        nan]], dtype=object)"
            ]
          },
          "metadata": {},
          "execution_count": 2360
        }
      ]
    },
    {
      "cell_type": "markdown",
      "source": [
        "**Observations**\n",
        "-"
      ],
      "metadata": {
        "id": "44aJXC-G8lYa"
      }
    },
    {
      "cell_type": "code",
      "source": [
        "string = 'apple macbook pro 16\" with liquid retina xdr display, m1 max chip with 10-core cpu and 32-core gpu, 64gb memory, 4tb ssd, space gray, late 2021'\n",
        "cpu_pattern = r\"((?:ryzen|core[- ]?i|amd|celeron|exynos|pentium|intel|m)[- ]?[a-zA-Z]*\\d{1}[pro max]*)\"\n",
        "cpu_model = re.findall(cpu_pattern, string)\n",
        "cpu_model"
      ],
      "metadata": {
        "colab": {
          "base_uri": "https://localhost:8080/"
        },
        "id": "RV6-dZSy89Fd",
        "outputId": "0cc941b6-a674-436e-ac87-6d79e97ce01a"
      },
      "execution_count": 2361,
      "outputs": [
        {
          "output_type": "execute_result",
          "data": {
            "text/plain": [
              "['m1 max ']"
            ]
          },
          "metadata": {},
          "execution_count": 2361
        }
      ]
    },
    {
      "cell_type": "code",
      "source": [
        "df_cpu_missing.CPU_Model.value_counts()"
      ],
      "metadata": {
        "id": "bgWnvobI-nEY",
        "colab": {
          "base_uri": "https://localhost:8080/",
          "height": 1000
        },
        "outputId": "972a7888-409d-4618-f6d2-169edc5ca4eb"
      },
      "execution_count": 2362,
      "outputs": [
        {
          "output_type": "execute_result",
          "data": {
            "text/plain": [
              "CPU_Model\n",
              "ryzen 5        15\n",
              "core i5        13\n",
              "core i7        11\n",
              "m2              9\n",
              "core i5         8\n",
              "m1 pro          8\n",
              "m 1             6\n",
              "core i7         6\n",
              "m1              5\n",
              "m1 max          5\n",
              "ryzen 3         3\n",
              "core i3         3\n",
              "celeron n4      3\n",
              "intel i7        2\n",
              "m5              2\n",
              "m1              2\n",
              "exynos 5        2\n",
              "ryzen 7         2\n",
              "pentium n6      2\n",
              "intel 1         2\n",
              "pentium n5      1\n",
              "intel i7        1\n",
              "intel 3         1\n",
              "ryzen 3 pro     1\n",
              "amd a9          1\n",
              "ryzen5          1\n",
              "intel 2         1\n",
              "intel 4         1\n",
              "m1 ma           1\n",
              "intel i5        1\n",
              "mt4             1\n",
              "amd 3           1\n",
              "ryzen 7         1\n",
              "core i9         1\n",
              "m-n4            1\n",
              "m-n1            1\n",
              "mk1             1\n",
              "mk5             1\n",
              "intel gma9      1\n",
              "mt8             1\n",
              "mf0             1\n",
              "ryzen 5         1\n",
              "Name: count, dtype: int64"
            ],
            "text/html": [
              "<div>\n",
              "<style scoped>\n",
              "    .dataframe tbody tr th:only-of-type {\n",
              "        vertical-align: middle;\n",
              "    }\n",
              "\n",
              "    .dataframe tbody tr th {\n",
              "        vertical-align: top;\n",
              "    }\n",
              "\n",
              "    .dataframe thead th {\n",
              "        text-align: right;\n",
              "    }\n",
              "</style>\n",
              "<table border=\"1\" class=\"dataframe\">\n",
              "  <thead>\n",
              "    <tr style=\"text-align: right;\">\n",
              "      <th></th>\n",
              "      <th>count</th>\n",
              "    </tr>\n",
              "    <tr>\n",
              "      <th>CPU_Model</th>\n",
              "      <th></th>\n",
              "    </tr>\n",
              "  </thead>\n",
              "  <tbody>\n",
              "    <tr>\n",
              "      <th>ryzen 5</th>\n",
              "      <td>15</td>\n",
              "    </tr>\n",
              "    <tr>\n",
              "      <th>core i5</th>\n",
              "      <td>13</td>\n",
              "    </tr>\n",
              "    <tr>\n",
              "      <th>core i7</th>\n",
              "      <td>11</td>\n",
              "    </tr>\n",
              "    <tr>\n",
              "      <th>m2</th>\n",
              "      <td>9</td>\n",
              "    </tr>\n",
              "    <tr>\n",
              "      <th>core i5</th>\n",
              "      <td>8</td>\n",
              "    </tr>\n",
              "    <tr>\n",
              "      <th>m1 pro</th>\n",
              "      <td>8</td>\n",
              "    </tr>\n",
              "    <tr>\n",
              "      <th>m 1</th>\n",
              "      <td>6</td>\n",
              "    </tr>\n",
              "    <tr>\n",
              "      <th>core i7</th>\n",
              "      <td>6</td>\n",
              "    </tr>\n",
              "    <tr>\n",
              "      <th>m1</th>\n",
              "      <td>5</td>\n",
              "    </tr>\n",
              "    <tr>\n",
              "      <th>m1 max</th>\n",
              "      <td>5</td>\n",
              "    </tr>\n",
              "    <tr>\n",
              "      <th>ryzen 3</th>\n",
              "      <td>3</td>\n",
              "    </tr>\n",
              "    <tr>\n",
              "      <th>core i3</th>\n",
              "      <td>3</td>\n",
              "    </tr>\n",
              "    <tr>\n",
              "      <th>celeron n4</th>\n",
              "      <td>3</td>\n",
              "    </tr>\n",
              "    <tr>\n",
              "      <th>intel i7</th>\n",
              "      <td>2</td>\n",
              "    </tr>\n",
              "    <tr>\n",
              "      <th>m5</th>\n",
              "      <td>2</td>\n",
              "    </tr>\n",
              "    <tr>\n",
              "      <th>m1</th>\n",
              "      <td>2</td>\n",
              "    </tr>\n",
              "    <tr>\n",
              "      <th>exynos 5</th>\n",
              "      <td>2</td>\n",
              "    </tr>\n",
              "    <tr>\n",
              "      <th>ryzen 7</th>\n",
              "      <td>2</td>\n",
              "    </tr>\n",
              "    <tr>\n",
              "      <th>pentium n6</th>\n",
              "      <td>2</td>\n",
              "    </tr>\n",
              "    <tr>\n",
              "      <th>intel 1</th>\n",
              "      <td>2</td>\n",
              "    </tr>\n",
              "    <tr>\n",
              "      <th>pentium n5</th>\n",
              "      <td>1</td>\n",
              "    </tr>\n",
              "    <tr>\n",
              "      <th>intel i7</th>\n",
              "      <td>1</td>\n",
              "    </tr>\n",
              "    <tr>\n",
              "      <th>intel 3</th>\n",
              "      <td>1</td>\n",
              "    </tr>\n",
              "    <tr>\n",
              "      <th>ryzen 3 pro</th>\n",
              "      <td>1</td>\n",
              "    </tr>\n",
              "    <tr>\n",
              "      <th>amd a9</th>\n",
              "      <td>1</td>\n",
              "    </tr>\n",
              "    <tr>\n",
              "      <th>ryzen5</th>\n",
              "      <td>1</td>\n",
              "    </tr>\n",
              "    <tr>\n",
              "      <th>intel 2</th>\n",
              "      <td>1</td>\n",
              "    </tr>\n",
              "    <tr>\n",
              "      <th>intel 4</th>\n",
              "      <td>1</td>\n",
              "    </tr>\n",
              "    <tr>\n",
              "      <th>m1 ma</th>\n",
              "      <td>1</td>\n",
              "    </tr>\n",
              "    <tr>\n",
              "      <th>intel i5</th>\n",
              "      <td>1</td>\n",
              "    </tr>\n",
              "    <tr>\n",
              "      <th>mt4</th>\n",
              "      <td>1</td>\n",
              "    </tr>\n",
              "    <tr>\n",
              "      <th>amd 3</th>\n",
              "      <td>1</td>\n",
              "    </tr>\n",
              "    <tr>\n",
              "      <th>ryzen 7</th>\n",
              "      <td>1</td>\n",
              "    </tr>\n",
              "    <tr>\n",
              "      <th>core i9</th>\n",
              "      <td>1</td>\n",
              "    </tr>\n",
              "    <tr>\n",
              "      <th>m-n4</th>\n",
              "      <td>1</td>\n",
              "    </tr>\n",
              "    <tr>\n",
              "      <th>m-n1</th>\n",
              "      <td>1</td>\n",
              "    </tr>\n",
              "    <tr>\n",
              "      <th>mk1</th>\n",
              "      <td>1</td>\n",
              "    </tr>\n",
              "    <tr>\n",
              "      <th>mk5</th>\n",
              "      <td>1</td>\n",
              "    </tr>\n",
              "    <tr>\n",
              "      <th>intel gma9</th>\n",
              "      <td>1</td>\n",
              "    </tr>\n",
              "    <tr>\n",
              "      <th>mt8</th>\n",
              "      <td>1</td>\n",
              "    </tr>\n",
              "    <tr>\n",
              "      <th>mf0</th>\n",
              "      <td>1</td>\n",
              "    </tr>\n",
              "    <tr>\n",
              "      <th>ryzen 5</th>\n",
              "      <td>1</td>\n",
              "    </tr>\n",
              "  </tbody>\n",
              "</table>\n",
              "</div><br><label><b>dtype:</b> int64</label>"
            ]
          },
          "metadata": {},
          "execution_count": 2362
        }
      ]
    },
    {
      "cell_type": "code",
      "source": [
        "# merging with original dataframe\n",
        "df.loc[df_cpu_missing.index, 'CPU_Model'] = df_cpu_missing.CPU_Model"
      ],
      "metadata": {
        "id": "2HXJhCepYKBn"
      },
      "execution_count": 2363,
      "outputs": []
    },
    {
      "cell_type": "code",
      "source": [
        "df.CPU_Model.isna().sum()"
      ],
      "metadata": {
        "colab": {
          "base_uri": "https://localhost:8080/"
        },
        "id": "74TqUbT6ZJjh",
        "outputId": "f1a52db0-72d2-4e97-fd37-d380c735f1df"
      },
      "execution_count": 2364,
      "outputs": [
        {
          "output_type": "execute_result",
          "data": {
            "text/plain": [
              "62"
            ]
          },
          "metadata": {},
          "execution_count": 2364
        }
      ]
    },
    {
      "cell_type": "code",
      "source": [
        "# removing entries with missing cpu model\n",
        "df.drop(df[df.CPU_Model.isna()].index, inplace=True)"
      ],
      "metadata": {
        "id": "_yfKCqaDZMdp"
      },
      "execution_count": 2365,
      "outputs": []
    },
    {
      "cell_type": "code",
      "source": [
        "df.CPU_Model.value_counts().head(60)"
      ],
      "metadata": {
        "colab": {
          "base_uri": "https://localhost:8080/",
          "height": 1000
        },
        "id": "5MVdXY4PZ12Y",
        "outputId": "83f7039e-8984-40ea-c3d3-7b0e1f8d6a39"
      },
      "execution_count": 2366,
      "outputs": [
        {
          "output_type": "execute_result",
          "data": {
            "text/plain": [
              "CPU_Model\n",
              "core i7                 407\n",
              "core i5                 316\n",
              "core i7 family          163\n",
              "intel core i5           114\n",
              "celeron                 109\n",
              "intel core i7           104\n",
              "celeron n4020           101\n",
              "core i5 family           68\n",
              "unknown                  68\n",
              "core i3                  66\n",
              "core i9                  62\n",
              "celeron n                47\n",
              "ryzen 5                  45\n",
              "intel core i9            39\n",
              "ryzen 7                  37\n",
              "core i5-1035g1           36\n",
              "celeron n4000            34\n",
              "intel core i5-1135g7     33\n",
              "amd ryzen 7              32\n",
              "ryzen 9                  28\n",
              "core i7 11800h           26\n",
              "intel core i3            26\n",
              "intel core i7-1165g7     25\n",
              "core i3 1115g4           24\n",
              "pentium                  23\n",
              "intel mobile cpu         22\n",
              "8032                     21\n",
              "amd r series             19\n",
              "mediatek mt8183          18\n",
              "celeron n3350            17\n",
              "apple m1                 16\n",
              "ryzen 5                  15\n",
              "amd a series             14\n",
              "ryzen 3 3250u            14\n",
              "ryzen 3                  14\n",
              "core i3 family           13\n",
              "corei5-10300h            13\n",
              "corei7-10750h            12\n",
              "amd ryzen 5 5500u        12\n",
              "pentium n5000            11\n",
              "ryzen 3 3350u            11\n",
              "celeron n3450            11\n",
              "core i5 8250u             9\n",
              "core i7-8650u             9\n",
              "core_m                    9\n",
              "m2                        9\n",
              "core i7 8750h             9\n",
              "ryzen 3 3200u             9\n",
              "ryzen 5 4500u             9\n",
              "athlon silver 3050u       9\n",
              "m1 pro                    8\n",
              "core m3-8100y             8\n",
              "snapdragon                8\n",
              "core i5                   8\n",
              "core m family             7\n",
              "core i3-1005g1            7\n",
              "ryzen 5 5500u             7\n",
              "ryzen 5 5600h             6\n",
              "core i5 6200u             6\n",
              "core i7                   6\n",
              "Name: count, dtype: int64"
            ],
            "text/html": [
              "<div>\n",
              "<style scoped>\n",
              "    .dataframe tbody tr th:only-of-type {\n",
              "        vertical-align: middle;\n",
              "    }\n",
              "\n",
              "    .dataframe tbody tr th {\n",
              "        vertical-align: top;\n",
              "    }\n",
              "\n",
              "    .dataframe thead th {\n",
              "        text-align: right;\n",
              "    }\n",
              "</style>\n",
              "<table border=\"1\" class=\"dataframe\">\n",
              "  <thead>\n",
              "    <tr style=\"text-align: right;\">\n",
              "      <th></th>\n",
              "      <th>count</th>\n",
              "    </tr>\n",
              "    <tr>\n",
              "      <th>CPU_Model</th>\n",
              "      <th></th>\n",
              "    </tr>\n",
              "  </thead>\n",
              "  <tbody>\n",
              "    <tr>\n",
              "      <th>core i7</th>\n",
              "      <td>407</td>\n",
              "    </tr>\n",
              "    <tr>\n",
              "      <th>core i5</th>\n",
              "      <td>316</td>\n",
              "    </tr>\n",
              "    <tr>\n",
              "      <th>core i7 family</th>\n",
              "      <td>163</td>\n",
              "    </tr>\n",
              "    <tr>\n",
              "      <th>intel core i5</th>\n",
              "      <td>114</td>\n",
              "    </tr>\n",
              "    <tr>\n",
              "      <th>celeron</th>\n",
              "      <td>109</td>\n",
              "    </tr>\n",
              "    <tr>\n",
              "      <th>intel core i7</th>\n",
              "      <td>104</td>\n",
              "    </tr>\n",
              "    <tr>\n",
              "      <th>celeron n4020</th>\n",
              "      <td>101</td>\n",
              "    </tr>\n",
              "    <tr>\n",
              "      <th>core i5 family</th>\n",
              "      <td>68</td>\n",
              "    </tr>\n",
              "    <tr>\n",
              "      <th>unknown</th>\n",
              "      <td>68</td>\n",
              "    </tr>\n",
              "    <tr>\n",
              "      <th>core i3</th>\n",
              "      <td>66</td>\n",
              "    </tr>\n",
              "    <tr>\n",
              "      <th>core i9</th>\n",
              "      <td>62</td>\n",
              "    </tr>\n",
              "    <tr>\n",
              "      <th>celeron n</th>\n",
              "      <td>47</td>\n",
              "    </tr>\n",
              "    <tr>\n",
              "      <th>ryzen 5</th>\n",
              "      <td>45</td>\n",
              "    </tr>\n",
              "    <tr>\n",
              "      <th>intel core i9</th>\n",
              "      <td>39</td>\n",
              "    </tr>\n",
              "    <tr>\n",
              "      <th>ryzen 7</th>\n",
              "      <td>37</td>\n",
              "    </tr>\n",
              "    <tr>\n",
              "      <th>core i5-1035g1</th>\n",
              "      <td>36</td>\n",
              "    </tr>\n",
              "    <tr>\n",
              "      <th>celeron n4000</th>\n",
              "      <td>34</td>\n",
              "    </tr>\n",
              "    <tr>\n",
              "      <th>intel core i5-1135g7</th>\n",
              "      <td>33</td>\n",
              "    </tr>\n",
              "    <tr>\n",
              "      <th>amd ryzen 7</th>\n",
              "      <td>32</td>\n",
              "    </tr>\n",
              "    <tr>\n",
              "      <th>ryzen 9</th>\n",
              "      <td>28</td>\n",
              "    </tr>\n",
              "    <tr>\n",
              "      <th>core i7 11800h</th>\n",
              "      <td>26</td>\n",
              "    </tr>\n",
              "    <tr>\n",
              "      <th>intel core i3</th>\n",
              "      <td>26</td>\n",
              "    </tr>\n",
              "    <tr>\n",
              "      <th>intel core i7-1165g7</th>\n",
              "      <td>25</td>\n",
              "    </tr>\n",
              "    <tr>\n",
              "      <th>core i3 1115g4</th>\n",
              "      <td>24</td>\n",
              "    </tr>\n",
              "    <tr>\n",
              "      <th>pentium</th>\n",
              "      <td>23</td>\n",
              "    </tr>\n",
              "    <tr>\n",
              "      <th>intel mobile cpu</th>\n",
              "      <td>22</td>\n",
              "    </tr>\n",
              "    <tr>\n",
              "      <th>8032</th>\n",
              "      <td>21</td>\n",
              "    </tr>\n",
              "    <tr>\n",
              "      <th>amd r series</th>\n",
              "      <td>19</td>\n",
              "    </tr>\n",
              "    <tr>\n",
              "      <th>mediatek mt8183</th>\n",
              "      <td>18</td>\n",
              "    </tr>\n",
              "    <tr>\n",
              "      <th>celeron n3350</th>\n",
              "      <td>17</td>\n",
              "    </tr>\n",
              "    <tr>\n",
              "      <th>apple m1</th>\n",
              "      <td>16</td>\n",
              "    </tr>\n",
              "    <tr>\n",
              "      <th>ryzen 5</th>\n",
              "      <td>15</td>\n",
              "    </tr>\n",
              "    <tr>\n",
              "      <th>amd a series</th>\n",
              "      <td>14</td>\n",
              "    </tr>\n",
              "    <tr>\n",
              "      <th>ryzen 3 3250u</th>\n",
              "      <td>14</td>\n",
              "    </tr>\n",
              "    <tr>\n",
              "      <th>ryzen 3</th>\n",
              "      <td>14</td>\n",
              "    </tr>\n",
              "    <tr>\n",
              "      <th>core i3 family</th>\n",
              "      <td>13</td>\n",
              "    </tr>\n",
              "    <tr>\n",
              "      <th>corei5-10300h</th>\n",
              "      <td>13</td>\n",
              "    </tr>\n",
              "    <tr>\n",
              "      <th>corei7-10750h</th>\n",
              "      <td>12</td>\n",
              "    </tr>\n",
              "    <tr>\n",
              "      <th>amd ryzen 5 5500u</th>\n",
              "      <td>12</td>\n",
              "    </tr>\n",
              "    <tr>\n",
              "      <th>pentium n5000</th>\n",
              "      <td>11</td>\n",
              "    </tr>\n",
              "    <tr>\n",
              "      <th>ryzen 3 3350u</th>\n",
              "      <td>11</td>\n",
              "    </tr>\n",
              "    <tr>\n",
              "      <th>celeron n3450</th>\n",
              "      <td>11</td>\n",
              "    </tr>\n",
              "    <tr>\n",
              "      <th>core i5 8250u</th>\n",
              "      <td>9</td>\n",
              "    </tr>\n",
              "    <tr>\n",
              "      <th>core i7-8650u</th>\n",
              "      <td>9</td>\n",
              "    </tr>\n",
              "    <tr>\n",
              "      <th>core_m</th>\n",
              "      <td>9</td>\n",
              "    </tr>\n",
              "    <tr>\n",
              "      <th>m2</th>\n",
              "      <td>9</td>\n",
              "    </tr>\n",
              "    <tr>\n",
              "      <th>core i7 8750h</th>\n",
              "      <td>9</td>\n",
              "    </tr>\n",
              "    <tr>\n",
              "      <th>ryzen 3 3200u</th>\n",
              "      <td>9</td>\n",
              "    </tr>\n",
              "    <tr>\n",
              "      <th>ryzen 5 4500u</th>\n",
              "      <td>9</td>\n",
              "    </tr>\n",
              "    <tr>\n",
              "      <th>athlon silver 3050u</th>\n",
              "      <td>9</td>\n",
              "    </tr>\n",
              "    <tr>\n",
              "      <th>m1 pro</th>\n",
              "      <td>8</td>\n",
              "    </tr>\n",
              "    <tr>\n",
              "      <th>core m3-8100y</th>\n",
              "      <td>8</td>\n",
              "    </tr>\n",
              "    <tr>\n",
              "      <th>snapdragon</th>\n",
              "      <td>8</td>\n",
              "    </tr>\n",
              "    <tr>\n",
              "      <th>core i5</th>\n",
              "      <td>8</td>\n",
              "    </tr>\n",
              "    <tr>\n",
              "      <th>core m family</th>\n",
              "      <td>7</td>\n",
              "    </tr>\n",
              "    <tr>\n",
              "      <th>core i3-1005g1</th>\n",
              "      <td>7</td>\n",
              "    </tr>\n",
              "    <tr>\n",
              "      <th>ryzen 5 5500u</th>\n",
              "      <td>7</td>\n",
              "    </tr>\n",
              "    <tr>\n",
              "      <th>ryzen 5 5600h</th>\n",
              "      <td>6</td>\n",
              "    </tr>\n",
              "    <tr>\n",
              "      <th>core i5 6200u</th>\n",
              "      <td>6</td>\n",
              "    </tr>\n",
              "    <tr>\n",
              "      <th>core i7</th>\n",
              "      <td>6</td>\n",
              "    </tr>\n",
              "  </tbody>\n",
              "</table>\n",
              "</div><br><label><b>dtype:</b> int64</label>"
            ]
          },
          "metadata": {},
          "execution_count": 2366
        }
      ]
    },
    {
      "cell_type": "code",
      "source": [
        "df.CPU_Model.value_counts()"
      ],
      "metadata": {
        "colab": {
          "base_uri": "https://localhost:8080/",
          "height": 489
        },
        "id": "pXBOIXRUpbqI",
        "outputId": "3834a552-de70-4edc-88b1-4ea56f8dbf98"
      },
      "execution_count": 2367,
      "outputs": [
        {
          "output_type": "execute_result",
          "data": {
            "text/plain": [
              "CPU_Model\n",
              "core i7           407\n",
              "core i5           316\n",
              "core i7 family    163\n",
              "intel core i5     114\n",
              "celeron           109\n",
              "                 ... \n",
              "core i7 10870h      1\n",
              "core i7-10700k      1\n",
              "core i9-9900k       1\n",
              "core i7-4980hq      1\n",
              "core i5-10400t      1\n",
              "Name: count, Length: 215, dtype: int64"
            ],
            "text/html": [
              "<div>\n",
              "<style scoped>\n",
              "    .dataframe tbody tr th:only-of-type {\n",
              "        vertical-align: middle;\n",
              "    }\n",
              "\n",
              "    .dataframe tbody tr th {\n",
              "        vertical-align: top;\n",
              "    }\n",
              "\n",
              "    .dataframe thead th {\n",
              "        text-align: right;\n",
              "    }\n",
              "</style>\n",
              "<table border=\"1\" class=\"dataframe\">\n",
              "  <thead>\n",
              "    <tr style=\"text-align: right;\">\n",
              "      <th></th>\n",
              "      <th>count</th>\n",
              "    </tr>\n",
              "    <tr>\n",
              "      <th>CPU_Model</th>\n",
              "      <th></th>\n",
              "    </tr>\n",
              "  </thead>\n",
              "  <tbody>\n",
              "    <tr>\n",
              "      <th>core i7</th>\n",
              "      <td>407</td>\n",
              "    </tr>\n",
              "    <tr>\n",
              "      <th>core i5</th>\n",
              "      <td>316</td>\n",
              "    </tr>\n",
              "    <tr>\n",
              "      <th>core i7 family</th>\n",
              "      <td>163</td>\n",
              "    </tr>\n",
              "    <tr>\n",
              "      <th>intel core i5</th>\n",
              "      <td>114</td>\n",
              "    </tr>\n",
              "    <tr>\n",
              "      <th>celeron</th>\n",
              "      <td>109</td>\n",
              "    </tr>\n",
              "    <tr>\n",
              "      <th>...</th>\n",
              "      <td>...</td>\n",
              "    </tr>\n",
              "    <tr>\n",
              "      <th>core i7 10870h</th>\n",
              "      <td>1</td>\n",
              "    </tr>\n",
              "    <tr>\n",
              "      <th>core i7-10700k</th>\n",
              "      <td>1</td>\n",
              "    </tr>\n",
              "    <tr>\n",
              "      <th>core i9-9900k</th>\n",
              "      <td>1</td>\n",
              "    </tr>\n",
              "    <tr>\n",
              "      <th>core i7-4980hq</th>\n",
              "      <td>1</td>\n",
              "    </tr>\n",
              "    <tr>\n",
              "      <th>core i5-10400t</th>\n",
              "      <td>1</td>\n",
              "    </tr>\n",
              "  </tbody>\n",
              "</table>\n",
              "<p>215 rows × 1 columns</p>\n",
              "</div><br><label><b>dtype:</b> int64</label>"
            ]
          },
          "metadata": {},
          "execution_count": 2367
        }
      ]
    },
    {
      "cell_type": "code",
      "source": [
        "df['CPU_Model'] = df.CPU_Model.apply(cpu_model_retrieval)"
      ],
      "metadata": {
        "id": "0wSZfgI_atR0"
      },
      "execution_count": 2368,
      "outputs": []
    },
    {
      "cell_type": "code",
      "source": [
        "# removing white spaces around the cpu model string\n",
        "df.CPU_Model = df.CPU_Model.apply(lambda x : str(x).strip())"
      ],
      "metadata": {
        "id": "aqRJtjBBeYoj"
      },
      "execution_count": 2369,
      "outputs": []
    },
    {
      "cell_type": "code",
      "source": [
        "df.CPU_Model.value_counts()"
      ],
      "metadata": {
        "colab": {
          "base_uri": "https://localhost:8080/",
          "height": 1000
        },
        "id": "i4X5e6Pja0kF",
        "outputId": "ad0f5178-6512-411b-9958-e1292a9de9d7"
      },
      "execution_count": 2370,
      "outputs": [
        {
          "output_type": "execute_result",
          "data": {
            "text/plain": [
              "CPU_Model\n",
              "core i7        783\n",
              "core i5        644\n",
              "nan            407\n",
              "core i3        139\n",
              "celeron n4     138\n",
              "ryzen 5        106\n",
              "core i9        106\n",
              "ryzen 7        101\n",
              "ryzen 3         53\n",
              "ryzen 9         32\n",
              "celeron n3      29\n",
              "mt8             25\n",
              "m1              23\n",
              "corei7          18\n",
              "corei5          13\n",
              "core 2          12\n",
              "pentium n5      12\n",
              "m2               9\n",
              "m1 pro           8\n",
              "core m3          8\n",
              "m-5              6\n",
              "amd a4           6\n",
              "m 1              6\n",
              "m1 max           5\n",
              "exynos 5         4\n",
              "intel i7         3\n",
              "celeron n2       3\n",
              "intel 1          2\n",
              "msm8             2\n",
              "m5               2\n",
              "m 7              2\n",
              "pentium n6       2\n",
              "amd a6           2\n",
              "mk5              1\n",
              "celeron 2        1\n",
              "intel 3          1\n",
              "amd a9           1\n",
              "exynos 5 o       1\n",
              "m1 ma            1\n",
              "m 8              1\n",
              "intel 2          1\n",
              "intel 4          1\n",
              "ryzen 3 pro      1\n",
              "mk1              1\n",
              "mt4              1\n",
              "amd 3            1\n",
              "m-n4             1\n",
              "m-n1             1\n",
              "celeron 3        1\n",
              "intel gma9       1\n",
              "intel i5         1\n",
              "mf0              1\n",
              "ryzen5           1\n",
              "Name: count, dtype: int64"
            ],
            "text/html": [
              "<div>\n",
              "<style scoped>\n",
              "    .dataframe tbody tr th:only-of-type {\n",
              "        vertical-align: middle;\n",
              "    }\n",
              "\n",
              "    .dataframe tbody tr th {\n",
              "        vertical-align: top;\n",
              "    }\n",
              "\n",
              "    .dataframe thead th {\n",
              "        text-align: right;\n",
              "    }\n",
              "</style>\n",
              "<table border=\"1\" class=\"dataframe\">\n",
              "  <thead>\n",
              "    <tr style=\"text-align: right;\">\n",
              "      <th></th>\n",
              "      <th>count</th>\n",
              "    </tr>\n",
              "    <tr>\n",
              "      <th>CPU_Model</th>\n",
              "      <th></th>\n",
              "    </tr>\n",
              "  </thead>\n",
              "  <tbody>\n",
              "    <tr>\n",
              "      <th>core i7</th>\n",
              "      <td>783</td>\n",
              "    </tr>\n",
              "    <tr>\n",
              "      <th>core i5</th>\n",
              "      <td>644</td>\n",
              "    </tr>\n",
              "    <tr>\n",
              "      <th>nan</th>\n",
              "      <td>407</td>\n",
              "    </tr>\n",
              "    <tr>\n",
              "      <th>core i3</th>\n",
              "      <td>139</td>\n",
              "    </tr>\n",
              "    <tr>\n",
              "      <th>celeron n4</th>\n",
              "      <td>138</td>\n",
              "    </tr>\n",
              "    <tr>\n",
              "      <th>ryzen 5</th>\n",
              "      <td>106</td>\n",
              "    </tr>\n",
              "    <tr>\n",
              "      <th>core i9</th>\n",
              "      <td>106</td>\n",
              "    </tr>\n",
              "    <tr>\n",
              "      <th>ryzen 7</th>\n",
              "      <td>101</td>\n",
              "    </tr>\n",
              "    <tr>\n",
              "      <th>ryzen 3</th>\n",
              "      <td>53</td>\n",
              "    </tr>\n",
              "    <tr>\n",
              "      <th>ryzen 9</th>\n",
              "      <td>32</td>\n",
              "    </tr>\n",
              "    <tr>\n",
              "      <th>celeron n3</th>\n",
              "      <td>29</td>\n",
              "    </tr>\n",
              "    <tr>\n",
              "      <th>mt8</th>\n",
              "      <td>25</td>\n",
              "    </tr>\n",
              "    <tr>\n",
              "      <th>m1</th>\n",
              "      <td>23</td>\n",
              "    </tr>\n",
              "    <tr>\n",
              "      <th>corei7</th>\n",
              "      <td>18</td>\n",
              "    </tr>\n",
              "    <tr>\n",
              "      <th>corei5</th>\n",
              "      <td>13</td>\n",
              "    </tr>\n",
              "    <tr>\n",
              "      <th>core 2</th>\n",
              "      <td>12</td>\n",
              "    </tr>\n",
              "    <tr>\n",
              "      <th>pentium n5</th>\n",
              "      <td>12</td>\n",
              "    </tr>\n",
              "    <tr>\n",
              "      <th>m2</th>\n",
              "      <td>9</td>\n",
              "    </tr>\n",
              "    <tr>\n",
              "      <th>m1 pro</th>\n",
              "      <td>8</td>\n",
              "    </tr>\n",
              "    <tr>\n",
              "      <th>core m3</th>\n",
              "      <td>8</td>\n",
              "    </tr>\n",
              "    <tr>\n",
              "      <th>m-5</th>\n",
              "      <td>6</td>\n",
              "    </tr>\n",
              "    <tr>\n",
              "      <th>amd a4</th>\n",
              "      <td>6</td>\n",
              "    </tr>\n",
              "    <tr>\n",
              "      <th>m 1</th>\n",
              "      <td>6</td>\n",
              "    </tr>\n",
              "    <tr>\n",
              "      <th>m1 max</th>\n",
              "      <td>5</td>\n",
              "    </tr>\n",
              "    <tr>\n",
              "      <th>exynos 5</th>\n",
              "      <td>4</td>\n",
              "    </tr>\n",
              "    <tr>\n",
              "      <th>intel i7</th>\n",
              "      <td>3</td>\n",
              "    </tr>\n",
              "    <tr>\n",
              "      <th>celeron n2</th>\n",
              "      <td>3</td>\n",
              "    </tr>\n",
              "    <tr>\n",
              "      <th>intel 1</th>\n",
              "      <td>2</td>\n",
              "    </tr>\n",
              "    <tr>\n",
              "      <th>msm8</th>\n",
              "      <td>2</td>\n",
              "    </tr>\n",
              "    <tr>\n",
              "      <th>m5</th>\n",
              "      <td>2</td>\n",
              "    </tr>\n",
              "    <tr>\n",
              "      <th>m 7</th>\n",
              "      <td>2</td>\n",
              "    </tr>\n",
              "    <tr>\n",
              "      <th>pentium n6</th>\n",
              "      <td>2</td>\n",
              "    </tr>\n",
              "    <tr>\n",
              "      <th>amd a6</th>\n",
              "      <td>2</td>\n",
              "    </tr>\n",
              "    <tr>\n",
              "      <th>mk5</th>\n",
              "      <td>1</td>\n",
              "    </tr>\n",
              "    <tr>\n",
              "      <th>celeron 2</th>\n",
              "      <td>1</td>\n",
              "    </tr>\n",
              "    <tr>\n",
              "      <th>intel 3</th>\n",
              "      <td>1</td>\n",
              "    </tr>\n",
              "    <tr>\n",
              "      <th>amd a9</th>\n",
              "      <td>1</td>\n",
              "    </tr>\n",
              "    <tr>\n",
              "      <th>exynos 5 o</th>\n",
              "      <td>1</td>\n",
              "    </tr>\n",
              "    <tr>\n",
              "      <th>m1 ma</th>\n",
              "      <td>1</td>\n",
              "    </tr>\n",
              "    <tr>\n",
              "      <th>m 8</th>\n",
              "      <td>1</td>\n",
              "    </tr>\n",
              "    <tr>\n",
              "      <th>intel 2</th>\n",
              "      <td>1</td>\n",
              "    </tr>\n",
              "    <tr>\n",
              "      <th>intel 4</th>\n",
              "      <td>1</td>\n",
              "    </tr>\n",
              "    <tr>\n",
              "      <th>ryzen 3 pro</th>\n",
              "      <td>1</td>\n",
              "    </tr>\n",
              "    <tr>\n",
              "      <th>mk1</th>\n",
              "      <td>1</td>\n",
              "    </tr>\n",
              "    <tr>\n",
              "      <th>mt4</th>\n",
              "      <td>1</td>\n",
              "    </tr>\n",
              "    <tr>\n",
              "      <th>amd 3</th>\n",
              "      <td>1</td>\n",
              "    </tr>\n",
              "    <tr>\n",
              "      <th>m-n4</th>\n",
              "      <td>1</td>\n",
              "    </tr>\n",
              "    <tr>\n",
              "      <th>m-n1</th>\n",
              "      <td>1</td>\n",
              "    </tr>\n",
              "    <tr>\n",
              "      <th>celeron 3</th>\n",
              "      <td>1</td>\n",
              "    </tr>\n",
              "    <tr>\n",
              "      <th>intel gma9</th>\n",
              "      <td>1</td>\n",
              "    </tr>\n",
              "    <tr>\n",
              "      <th>intel i5</th>\n",
              "      <td>1</td>\n",
              "    </tr>\n",
              "    <tr>\n",
              "      <th>mf0</th>\n",
              "      <td>1</td>\n",
              "    </tr>\n",
              "    <tr>\n",
              "      <th>ryzen5</th>\n",
              "      <td>1</td>\n",
              "    </tr>\n",
              "  </tbody>\n",
              "</table>\n",
              "</div><br><label><b>dtype:</b> int64</label>"
            ]
          },
          "metadata": {},
          "execution_count": 2370
        }
      ]
    },
    {
      "cell_type": "markdown",
      "source": [
        "**Observations**\n",
        "- The above function has generated more than 400 missing values, those rows should be tried on regular expression with the **Title** feature.\n",
        "- There are lot of inconsistencies present in naming conventions, they should look organized.\n",
        "- Transforming corei5 and corei7 to core i5 and core i7. Also, replacing 'intel' with 'core'."
      ],
      "metadata": {
        "id": "UhYtw3_afYGb"
      }
    },
    {
      "cell_type": "code",
      "source": [
        "df_cpu_missing_again = df[df.CPU_Model == 'nan'][['Title', 'CPU_Model']]\n",
        "df_cpu_missing_again.shape"
      ],
      "metadata": {
        "colab": {
          "base_uri": "https://localhost:8080/"
        },
        "id": "toEdp3_Gqgq8",
        "outputId": "3020bde2-503d-427b-b27f-f8bac671d039"
      },
      "execution_count": 2371,
      "outputs": [
        {
          "output_type": "execute_result",
          "data": {
            "text/plain": [
              "(407, 2)"
            ]
          },
          "metadata": {},
          "execution_count": 2371
        }
      ]
    },
    {
      "cell_type": "code",
      "source": [
        "df_cpu_missing_again['CPU_Model'] = df_cpu_missing_again.Title.apply(cpu_model_retrieval)"
      ],
      "metadata": {
        "id": "NkyyhJOFqxYn"
      },
      "execution_count": 2372,
      "outputs": []
    },
    {
      "cell_type": "code",
      "source": [
        "df_cpu_missing_again.isna().sum()"
      ],
      "metadata": {
        "colab": {
          "base_uri": "https://localhost:8080/",
          "height": 147
        },
        "id": "x-EkeL7SrAx9",
        "outputId": "04fa1057-cceb-4c9e-cee9-7a6e9e4b9de6"
      },
      "execution_count": 2373,
      "outputs": [
        {
          "output_type": "execute_result",
          "data": {
            "text/plain": [
              "Title          0\n",
              "CPU_Model    103\n",
              "dtype: int64"
            ],
            "text/html": [
              "<div>\n",
              "<style scoped>\n",
              "    .dataframe tbody tr th:only-of-type {\n",
              "        vertical-align: middle;\n",
              "    }\n",
              "\n",
              "    .dataframe tbody tr th {\n",
              "        vertical-align: top;\n",
              "    }\n",
              "\n",
              "    .dataframe thead th {\n",
              "        text-align: right;\n",
              "    }\n",
              "</style>\n",
              "<table border=\"1\" class=\"dataframe\">\n",
              "  <thead>\n",
              "    <tr style=\"text-align: right;\">\n",
              "      <th></th>\n",
              "      <th>0</th>\n",
              "    </tr>\n",
              "  </thead>\n",
              "  <tbody>\n",
              "    <tr>\n",
              "      <th>Title</th>\n",
              "      <td>0</td>\n",
              "    </tr>\n",
              "    <tr>\n",
              "      <th>CPU_Model</th>\n",
              "      <td>103</td>\n",
              "    </tr>\n",
              "  </tbody>\n",
              "</table>\n",
              "</div><br><label><b>dtype:</b> int64</label>"
            ]
          },
          "metadata": {},
          "execution_count": 2373
        }
      ]
    },
    {
      "cell_type": "code",
      "source": [
        "# Merging df and df_cpu_missing dataframe\n",
        "df.loc[df_cpu_missing_again.index, 'CPU_Model'] = df_cpu_missing_again.CPU_Model"
      ],
      "metadata": {
        "id": "Y9xdJTwKrXS8"
      },
      "execution_count": 2374,
      "outputs": []
    },
    {
      "cell_type": "code",
      "source": [
        "df.CPU_Model.unique()"
      ],
      "metadata": {
        "colab": {
          "base_uri": "https://localhost:8080/"
        },
        "id": "bofshgzIrpNK",
        "outputId": "775b950a-e2b4-42a8-904a-b1b6e3feb158"
      },
      "execution_count": 2375,
      "outputs": [
        {
          "output_type": "execute_result",
          "data": {
            "text/plain": [
              "array(['core i5 ', 'core i5', 'core i7', 'ryzen 3', 'ryzen 5', 'core i9',\n",
              "       'ryzen 9', 'corei5', 'm1 ma', 'celeron n4', 'm1', 'ryzen 7', 'mf0',\n",
              "       'm2', 'm1 pro', 'm 7', 'm1 max', 'core i3', 'corei7', 'm 8', 'm1 ',\n",
              "       'celeron j4', 'celeron 6', 'amd a4', 'm 1', 'm2 ', 'mt8', 'amd a6',\n",
              "       'm 2', nan, 'celeron n5', 'celeron n3', 'amd 3', 'core 2',\n",
              "       'core n3', 'celeron 2', 'intel x5 ', 'mb3', 'pentium n6',\n",
              "       'celeron 3', 'core a1', 'm 5', 'ryzen 3 ', 'intel gma9', 'mk5',\n",
              "       'mk1', 'm5', 'intel i5', 'ryzen 7 ', 'mk5 ', 'm-5', 'ryzen 5 ',\n",
              "       'amd 6', 'm tmb1', 'core m3', 'pentium n5', 'm-n1', 'm7', 'core 7',\n",
              "       'm-n4', 'm2 pro ', 'core i7 ', 'intel 4', 'core n4', 'pentium 4',\n",
              "       'celeron 1', 'mt4', 'ryzen 3 pro', 'intel n4', 'msm8', 'celeron 4',\n",
              "       'core 8', 'intel n3', 'core n5', 'core i3 ', 'intel 1',\n",
              "       'celeron n2', 'intel 2', 'm x5', 'exynos 5', 'm x5 ', 'intel i7',\n",
              "       'exynos 5 o', 'm 3', 'amd a9', 'intel 3', 'ryzen5', 'intel j4'],\n",
              "      dtype=object)"
            ]
          },
          "metadata": {},
          "execution_count": 2375
        }
      ]
    },
    {
      "cell_type": "code",
      "source": [
        "df.CPU_Model = df.CPU_Model.apply(lambda x : str(x).replace('core', '').replace('ryzen', 'r').replace('r ', 'r').replace('m ', 'm').replace('m-', 'm').replace('celeron', ''))\n",
        "df.CPU_Model = df.CPU_Model.apply(lambda x : str(x).replace('t8', '2').replace('intel', '').replace('pentiumn', 'i'))\n",
        "# removing white spaces around the cpu model string\n",
        "df.CPU_Model = df.CPU_Model.apply(lambda x : str(x).strip())"
      ],
      "metadata": {
        "id": "uZR5_l_FgDnq"
      },
      "execution_count": 2376,
      "outputs": []
    },
    {
      "cell_type": "code",
      "source": [
        "df.CPU_Model.value_counts()"
      ],
      "metadata": {
        "colab": {
          "base_uri": "https://localhost:8080/",
          "height": 1000
        },
        "id": "9kr16gaXgUWw",
        "outputId": "092426be-b4ba-4fbe-b7de-28ce6527a1f2"
      },
      "execution_count": 2377,
      "outputs": [
        {
          "output_type": "execute_result",
          "data": {
            "text/plain": [
              "CPU_Model\n",
              "i7            845\n",
              "i5            688\n",
              "n4            208\n",
              "i3            141\n",
              "r5            118\n",
              "i9            118\n",
              "r7            104\n",
              "nan           103\n",
              "m1             63\n",
              "r3             55\n",
              "m2             47\n",
              "n3             43\n",
              "r9             32\n",
              "m3             21\n",
              "2              14\n",
              "m5             11\n",
              "amd a4         10\n",
              "amd 3          10\n",
              "n5              9\n",
              "m7              8\n",
              "m1 pro          8\n",
              "1               6\n",
              "m1 max          5\n",
              "4               5\n",
              "pentium4        5\n",
              "amd a6          4\n",
              "n2              4\n",
              "3               4\n",
              "exynos 5        4\n",
              "amd 6           3\n",
              "mf0             3\n",
              "j4              3\n",
              "i6              2\n",
              "m8              2\n",
              "mx5             2\n",
              "6               2\n",
              "msm8            2\n",
              "m2 pro          2\n",
              "mk5             2\n",
              "exynos 5 o      1\n",
              "8               1\n",
              "r3 pro          1\n",
              "mt4             1\n",
              "mb3             1\n",
              "mn4             1\n",
              "7               1\n",
              "mn1             1\n",
              "mtmb1           1\n",
              "mk1             1\n",
              "gma9            1\n",
              "a1              1\n",
              "x5              1\n",
              "m1 ma           1\n",
              "amd a9          1\n",
              "Name: count, dtype: int64"
            ],
            "text/html": [
              "<div>\n",
              "<style scoped>\n",
              "    .dataframe tbody tr th:only-of-type {\n",
              "        vertical-align: middle;\n",
              "    }\n",
              "\n",
              "    .dataframe tbody tr th {\n",
              "        vertical-align: top;\n",
              "    }\n",
              "\n",
              "    .dataframe thead th {\n",
              "        text-align: right;\n",
              "    }\n",
              "</style>\n",
              "<table border=\"1\" class=\"dataframe\">\n",
              "  <thead>\n",
              "    <tr style=\"text-align: right;\">\n",
              "      <th></th>\n",
              "      <th>count</th>\n",
              "    </tr>\n",
              "    <tr>\n",
              "      <th>CPU_Model</th>\n",
              "      <th></th>\n",
              "    </tr>\n",
              "  </thead>\n",
              "  <tbody>\n",
              "    <tr>\n",
              "      <th>i7</th>\n",
              "      <td>845</td>\n",
              "    </tr>\n",
              "    <tr>\n",
              "      <th>i5</th>\n",
              "      <td>688</td>\n",
              "    </tr>\n",
              "    <tr>\n",
              "      <th>n4</th>\n",
              "      <td>208</td>\n",
              "    </tr>\n",
              "    <tr>\n",
              "      <th>i3</th>\n",
              "      <td>141</td>\n",
              "    </tr>\n",
              "    <tr>\n",
              "      <th>r5</th>\n",
              "      <td>118</td>\n",
              "    </tr>\n",
              "    <tr>\n",
              "      <th>i9</th>\n",
              "      <td>118</td>\n",
              "    </tr>\n",
              "    <tr>\n",
              "      <th>r7</th>\n",
              "      <td>104</td>\n",
              "    </tr>\n",
              "    <tr>\n",
              "      <th>nan</th>\n",
              "      <td>103</td>\n",
              "    </tr>\n",
              "    <tr>\n",
              "      <th>m1</th>\n",
              "      <td>63</td>\n",
              "    </tr>\n",
              "    <tr>\n",
              "      <th>r3</th>\n",
              "      <td>55</td>\n",
              "    </tr>\n",
              "    <tr>\n",
              "      <th>m2</th>\n",
              "      <td>47</td>\n",
              "    </tr>\n",
              "    <tr>\n",
              "      <th>n3</th>\n",
              "      <td>43</td>\n",
              "    </tr>\n",
              "    <tr>\n",
              "      <th>r9</th>\n",
              "      <td>32</td>\n",
              "    </tr>\n",
              "    <tr>\n",
              "      <th>m3</th>\n",
              "      <td>21</td>\n",
              "    </tr>\n",
              "    <tr>\n",
              "      <th>2</th>\n",
              "      <td>14</td>\n",
              "    </tr>\n",
              "    <tr>\n",
              "      <th>m5</th>\n",
              "      <td>11</td>\n",
              "    </tr>\n",
              "    <tr>\n",
              "      <th>amd a4</th>\n",
              "      <td>10</td>\n",
              "    </tr>\n",
              "    <tr>\n",
              "      <th>amd 3</th>\n",
              "      <td>10</td>\n",
              "    </tr>\n",
              "    <tr>\n",
              "      <th>n5</th>\n",
              "      <td>9</td>\n",
              "    </tr>\n",
              "    <tr>\n",
              "      <th>m7</th>\n",
              "      <td>8</td>\n",
              "    </tr>\n",
              "    <tr>\n",
              "      <th>m1 pro</th>\n",
              "      <td>8</td>\n",
              "    </tr>\n",
              "    <tr>\n",
              "      <th>1</th>\n",
              "      <td>6</td>\n",
              "    </tr>\n",
              "    <tr>\n",
              "      <th>m1 max</th>\n",
              "      <td>5</td>\n",
              "    </tr>\n",
              "    <tr>\n",
              "      <th>4</th>\n",
              "      <td>5</td>\n",
              "    </tr>\n",
              "    <tr>\n",
              "      <th>pentium4</th>\n",
              "      <td>5</td>\n",
              "    </tr>\n",
              "    <tr>\n",
              "      <th>amd a6</th>\n",
              "      <td>4</td>\n",
              "    </tr>\n",
              "    <tr>\n",
              "      <th>n2</th>\n",
              "      <td>4</td>\n",
              "    </tr>\n",
              "    <tr>\n",
              "      <th>3</th>\n",
              "      <td>4</td>\n",
              "    </tr>\n",
              "    <tr>\n",
              "      <th>exynos 5</th>\n",
              "      <td>4</td>\n",
              "    </tr>\n",
              "    <tr>\n",
              "      <th>amd 6</th>\n",
              "      <td>3</td>\n",
              "    </tr>\n",
              "    <tr>\n",
              "      <th>mf0</th>\n",
              "      <td>3</td>\n",
              "    </tr>\n",
              "    <tr>\n",
              "      <th>j4</th>\n",
              "      <td>3</td>\n",
              "    </tr>\n",
              "    <tr>\n",
              "      <th>i6</th>\n",
              "      <td>2</td>\n",
              "    </tr>\n",
              "    <tr>\n",
              "      <th>m8</th>\n",
              "      <td>2</td>\n",
              "    </tr>\n",
              "    <tr>\n",
              "      <th>mx5</th>\n",
              "      <td>2</td>\n",
              "    </tr>\n",
              "    <tr>\n",
              "      <th>6</th>\n",
              "      <td>2</td>\n",
              "    </tr>\n",
              "    <tr>\n",
              "      <th>msm8</th>\n",
              "      <td>2</td>\n",
              "    </tr>\n",
              "    <tr>\n",
              "      <th>m2 pro</th>\n",
              "      <td>2</td>\n",
              "    </tr>\n",
              "    <tr>\n",
              "      <th>mk5</th>\n",
              "      <td>2</td>\n",
              "    </tr>\n",
              "    <tr>\n",
              "      <th>exynos 5 o</th>\n",
              "      <td>1</td>\n",
              "    </tr>\n",
              "    <tr>\n",
              "      <th>8</th>\n",
              "      <td>1</td>\n",
              "    </tr>\n",
              "    <tr>\n",
              "      <th>r3 pro</th>\n",
              "      <td>1</td>\n",
              "    </tr>\n",
              "    <tr>\n",
              "      <th>mt4</th>\n",
              "      <td>1</td>\n",
              "    </tr>\n",
              "    <tr>\n",
              "      <th>mb3</th>\n",
              "      <td>1</td>\n",
              "    </tr>\n",
              "    <tr>\n",
              "      <th>mn4</th>\n",
              "      <td>1</td>\n",
              "    </tr>\n",
              "    <tr>\n",
              "      <th>7</th>\n",
              "      <td>1</td>\n",
              "    </tr>\n",
              "    <tr>\n",
              "      <th>mn1</th>\n",
              "      <td>1</td>\n",
              "    </tr>\n",
              "    <tr>\n",
              "      <th>mtmb1</th>\n",
              "      <td>1</td>\n",
              "    </tr>\n",
              "    <tr>\n",
              "      <th>mk1</th>\n",
              "      <td>1</td>\n",
              "    </tr>\n",
              "    <tr>\n",
              "      <th>gma9</th>\n",
              "      <td>1</td>\n",
              "    </tr>\n",
              "    <tr>\n",
              "      <th>a1</th>\n",
              "      <td>1</td>\n",
              "    </tr>\n",
              "    <tr>\n",
              "      <th>x5</th>\n",
              "      <td>1</td>\n",
              "    </tr>\n",
              "    <tr>\n",
              "      <th>m1 ma</th>\n",
              "      <td>1</td>\n",
              "    </tr>\n",
              "    <tr>\n",
              "      <th>amd a9</th>\n",
              "      <td>1</td>\n",
              "    </tr>\n",
              "  </tbody>\n",
              "</table>\n",
              "</div><br><label><b>dtype:</b> int64</label>"
            ]
          },
          "metadata": {},
          "execution_count": 2377
        }
      ]
    },
    {
      "cell_type": "code",
      "source": [
        "# replacing models with frequency less than 25 to 'other'\n",
        "df.CPU_Model[df.CPU_Model.value_counts()[df.CPU_Model].values < 25] = 'other'"
      ],
      "metadata": {
        "colab": {
          "base_uri": "https://localhost:8080/"
        },
        "id": "aMq-FQcMm-3p",
        "outputId": "27d527f7-8543-43a9-ff84-69c40b25b046"
      },
      "execution_count": 2378,
      "outputs": [
        {
          "output_type": "stream",
          "name": "stderr",
          "text": [
            "<ipython-input-2378-6a0e877dd62c>:2: FutureWarning: ChainedAssignmentError: behaviour will change in pandas 3.0!\n",
            "You are setting values through chained assignment. Currently this works in certain cases, but when using Copy-on-Write (which will become the default behaviour in pandas 3.0) this will never work to update the original DataFrame or Series, because the intermediate object on which we are setting values will behave as a copy.\n",
            "A typical example is when you are setting values in a column of a DataFrame, like:\n",
            "\n",
            "df[\"col\"][row_indexer] = value\n",
            "\n",
            "Use `df.loc[row_indexer, \"col\"] = values` instead, to perform the assignment in a single step and ensure this keeps updating the original `df`.\n",
            "\n",
            "See the caveats in the documentation: https://pandas.pydata.org/pandas-docs/stable/user_guide/indexing.html#returning-a-view-versus-a-copy\n",
            "\n",
            "  df.CPU_Model[df.CPU_Model.value_counts()[df.CPU_Model].values < 25] = 'other'\n",
            "<ipython-input-2378-6a0e877dd62c>:2: SettingWithCopyWarning: \n",
            "A value is trying to be set on a copy of a slice from a DataFrame\n",
            "\n",
            "See the caveats in the documentation: https://pandas.pydata.org/pandas-docs/stable/user_guide/indexing.html#returning-a-view-versus-a-copy\n",
            "  df.CPU_Model[df.CPU_Model.value_counts()[df.CPU_Model].values < 25] = 'other'\n"
          ]
        }
      ]
    },
    {
      "cell_type": "code",
      "source": [
        "df.CPU_Model.value_counts()"
      ],
      "metadata": {
        "colab": {
          "base_uri": "https://localhost:8080/",
          "height": 554
        },
        "id": "cbDdzdVva5yB",
        "outputId": "3fce9438-0ec1-4746-884d-64f2d6f4c2ce"
      },
      "execution_count": 2379,
      "outputs": [
        {
          "output_type": "execute_result",
          "data": {
            "text/plain": [
              "CPU_Model\n",
              "i7       845\n",
              "i5       688\n",
              "n4       208\n",
              "other    166\n",
              "i3       141\n",
              "r5       118\n",
              "i9       118\n",
              "r7       104\n",
              "nan      103\n",
              "m1        63\n",
              "r3        55\n",
              "m2        47\n",
              "n3        43\n",
              "r9        32\n",
              "Name: count, dtype: int64"
            ],
            "text/html": [
              "<div>\n",
              "<style scoped>\n",
              "    .dataframe tbody tr th:only-of-type {\n",
              "        vertical-align: middle;\n",
              "    }\n",
              "\n",
              "    .dataframe tbody tr th {\n",
              "        vertical-align: top;\n",
              "    }\n",
              "\n",
              "    .dataframe thead th {\n",
              "        text-align: right;\n",
              "    }\n",
              "</style>\n",
              "<table border=\"1\" class=\"dataframe\">\n",
              "  <thead>\n",
              "    <tr style=\"text-align: right;\">\n",
              "      <th></th>\n",
              "      <th>count</th>\n",
              "    </tr>\n",
              "    <tr>\n",
              "      <th>CPU_Model</th>\n",
              "      <th></th>\n",
              "    </tr>\n",
              "  </thead>\n",
              "  <tbody>\n",
              "    <tr>\n",
              "      <th>i7</th>\n",
              "      <td>845</td>\n",
              "    </tr>\n",
              "    <tr>\n",
              "      <th>i5</th>\n",
              "      <td>688</td>\n",
              "    </tr>\n",
              "    <tr>\n",
              "      <th>n4</th>\n",
              "      <td>208</td>\n",
              "    </tr>\n",
              "    <tr>\n",
              "      <th>other</th>\n",
              "      <td>166</td>\n",
              "    </tr>\n",
              "    <tr>\n",
              "      <th>i3</th>\n",
              "      <td>141</td>\n",
              "    </tr>\n",
              "    <tr>\n",
              "      <th>r5</th>\n",
              "      <td>118</td>\n",
              "    </tr>\n",
              "    <tr>\n",
              "      <th>i9</th>\n",
              "      <td>118</td>\n",
              "    </tr>\n",
              "    <tr>\n",
              "      <th>r7</th>\n",
              "      <td>104</td>\n",
              "    </tr>\n",
              "    <tr>\n",
              "      <th>nan</th>\n",
              "      <td>103</td>\n",
              "    </tr>\n",
              "    <tr>\n",
              "      <th>m1</th>\n",
              "      <td>63</td>\n",
              "    </tr>\n",
              "    <tr>\n",
              "      <th>r3</th>\n",
              "      <td>55</td>\n",
              "    </tr>\n",
              "    <tr>\n",
              "      <th>m2</th>\n",
              "      <td>47</td>\n",
              "    </tr>\n",
              "    <tr>\n",
              "      <th>n3</th>\n",
              "      <td>43</td>\n",
              "    </tr>\n",
              "    <tr>\n",
              "      <th>r9</th>\n",
              "      <td>32</td>\n",
              "    </tr>\n",
              "  </tbody>\n",
              "</table>\n",
              "</div><br><label><b>dtype:</b> int64</label>"
            ]
          },
          "metadata": {},
          "execution_count": 2379
        }
      ]
    },
    {
      "cell_type": "code",
      "source": [
        "df.shape"
      ],
      "metadata": {
        "colab": {
          "base_uri": "https://localhost:8080/"
        },
        "id": "3Oh0xGx-nxbO",
        "outputId": "a874ae9f-8533-470f-cf9d-5fbd1d45bbe1"
      },
      "execution_count": 2380,
      "outputs": [
        {
          "output_type": "execute_result",
          "data": {
            "text/plain": [
              "(2731, 17)"
            ]
          },
          "metadata": {},
          "execution_count": 2380
        }
      ]
    },
    {
      "cell_type": "code",
      "source": [
        "df[df.CPU_Model == 'nan'].index"
      ],
      "metadata": {
        "colab": {
          "base_uri": "https://localhost:8080/"
        },
        "id": "ribeK_fuooe0",
        "outputId": "1f04bc6c-0ae5-46ab-fd03-3f5d7f276ee8"
      },
      "execution_count": 2381,
      "outputs": [
        {
          "output_type": "execute_result",
          "data": {
            "text/plain": [
              "Index([ 449,  458,  465,  467,  479,  491,  543,  551,  585,  614,\n",
              "       ...\n",
              "       2677, 2687, 2711, 2756, 2762, 2804, 2811, 2814, 2816, 2825],\n",
              "      dtype='int64', length=103)"
            ]
          },
          "metadata": {},
          "execution_count": 2381
        }
      ]
    },
    {
      "cell_type": "code",
      "source": [
        "# removing rows with missing cpu model\n",
        "df.drop(df[df.CPU_Model == 'nan'].index, inplace=True)"
      ],
      "metadata": {
        "id": "R_7-5xR5nciJ"
      },
      "execution_count": 2382,
      "outputs": []
    },
    {
      "cell_type": "code",
      "source": [
        "df.reset_index(drop=True, inplace=True)"
      ],
      "metadata": {
        "id": "HJHzO0KKZPWu"
      },
      "execution_count": 2383,
      "outputs": []
    },
    {
      "cell_type": "code",
      "source": [
        "df.shape"
      ],
      "metadata": {
        "colab": {
          "base_uri": "https://localhost:8080/"
        },
        "id": "Pj3y_l1gZh5Q",
        "outputId": "566a120d-f507-4d47-87a0-a0aacab089bf"
      },
      "execution_count": 2384,
      "outputs": [
        {
          "output_type": "execute_result",
          "data": {
            "text/plain": [
              "(2628, 17)"
            ]
          },
          "metadata": {},
          "execution_count": 2384
        }
      ]
    },
    {
      "cell_type": "code",
      "source": [
        "df.columns"
      ],
      "metadata": {
        "colab": {
          "base_uri": "https://localhost:8080/"
        },
        "id": "TvagUlOEyzkw",
        "outputId": "cf3a9527-4d7c-4b7b-9a15-877224d7140e"
      },
      "execution_count": 2385,
      "outputs": [
        {
          "output_type": "execute_result",
          "data": {
            "text/plain": [
              "Index(['Title', 'Brand', 'Screen_Size', 'CPU_Model', 'Ram', 'Operating_System',\n",
              "       'Rating', 'Series', 'Color', 'Resolution', 'Weight', 'USB', 'Battery',\n",
              "       'Graphics', 'Disk_size', 'Card_desc', 'Price'],\n",
              "      dtype='object')"
            ]
          },
          "metadata": {},
          "execution_count": 2385
        }
      ]
    },
    {
      "cell_type": "markdown",
      "source": [
        "## Handling the RAM feature\n",
        "\n",
        "RAM (Random Access Memory) is a crucial component in a laptop. It's the computer's short-term memory, temporarily storing data that the processor needs quick access to."
      ],
      "metadata": {
        "id": "PJfYCeNL1d8S"
      }
    },
    {
      "cell_type": "code",
      "source": [
        "df.Ram.isna().sum()"
      ],
      "metadata": {
        "colab": {
          "base_uri": "https://localhost:8080/"
        },
        "id": "aNhip9gKy49s",
        "outputId": "4fa76982-ac8e-4772-ab78-1c6f574b6192"
      },
      "execution_count": 2386,
      "outputs": [
        {
          "output_type": "execute_result",
          "data": {
            "text/plain": [
              "69"
            ]
          },
          "metadata": {},
          "execution_count": 2386
        }
      ]
    },
    {
      "cell_type": "code",
      "source": [
        "df.Ram.unique()"
      ],
      "metadata": {
        "colab": {
          "base_uri": "https://localhost:8080/"
        },
        "id": "ZkPmJDsE1aXk",
        "outputId": "15245ea7-c07e-4c34-9cbb-40e583538b14"
      },
      "execution_count": 2387,
      "outputs": [
        {
          "output_type": "execute_result",
          "data": {
            "text/plain": [
              "array(['8 gb', '16 gb', '4 gb', '64 gb', '32 gb', nan, '24 gb', '128 gb',\n",
              "       '12 gb', '20 gb', '36 gb', '2 gb', '6 gb', '1 tb', '40 gb',\n",
              "       '16 mb', '512 gb'], dtype=object)"
            ]
          },
          "metadata": {},
          "execution_count": 2387
        }
      ]
    },
    {
      "cell_type": "code",
      "source": [
        "df.head()[['Title', 'Ram']].values"
      ],
      "metadata": {
        "colab": {
          "base_uri": "https://localhost:8080/"
        },
        "id": "KGWmaHiM1cK6",
        "outputId": "83b53f05-ff41-4696-db9b-5c717d4f0f2c"
      },
      "execution_count": 2388,
      "outputs": [
        {
          "output_type": "execute_result",
          "data": {
            "text/plain": [
              "array([['microsoft surface laptop intel core i5 7th gen 8gb ram 256gb ssd win 10 platinum (renewed)',\n",
              "        '8 gb'],\n",
              "       ['microsoft surface laptop 3 13.5\" touch-screen intel core i5-8gb memory - 256gb solid state drive (latest model) matte black (renewed)',\n",
              "        '8 gb'],\n",
              "       ['microsoft surface laptop (intel core i7, 16gb ram, 512gb) - platinum (renewed)',\n",
              "        '16 gb'],\n",
              "       ['microsoft surface laptop 3, 10th gen intel core i5 (13.5-inch touchscreen - 8gb memory - 256gb ssd) - blue (renewed premium)',\n",
              "        '8 gb'],\n",
              "       ['2022 microsoft surface laptop go 12.4\" touchscreen, intel core i5-1035g1 processor, up to 13hr battery life, wifi, webcam, windows 11 pro, platinum silver (4gb ram | 256gb ssd)',\n",
              "        '4 gb']], dtype=object)"
            ]
          },
          "metadata": {},
          "execution_count": 2388
        }
      ]
    },
    {
      "cell_type": "markdown",
      "source": [
        "**Observations**\n",
        "- Like other features, missing values for Ram can be extracted from the **Title** feature using the regular expressions"
      ],
      "metadata": {
        "id": "LfL4t72o2EWV"
      }
    },
    {
      "cell_type": "code",
      "source": [
        "df_ram_missing = df[df.Ram.isna()][['Title', 'Ram']]"
      ],
      "metadata": {
        "id": "3SJpS9Ud14Sk"
      },
      "execution_count": 2389,
      "outputs": []
    },
    {
      "cell_type": "code",
      "source": [
        "def ram_retrieval(title):\n",
        "  \"\"\"\n",
        "  The function is responsible for retrieving the ram from the title.\n",
        "  Args\n",
        "  title : The title of the laptop.\n",
        "  Returns\n",
        "  ram : The ram of the laptop.\n",
        "  \"\"\"\n",
        "  # regular expression to find ram\n",
        "  ram_pattern = r\"(\\d+\\s*(?:gb|tb))\"\n",
        "  ram = re.findall(ram_pattern, title)\n",
        "  if ram:\n",
        "    return ram[0]\n",
        "  else:\n",
        "    return np.nan\n",
        "\n",
        "df_ram_missing.Ram = df_ram_missing.Title.apply(ram_retrieval)"
      ],
      "metadata": {
        "id": "6unvRuUs2Yg8"
      },
      "execution_count": 2390,
      "outputs": []
    },
    {
      "cell_type": "code",
      "source": [
        "df_ram_missing.Ram.unique()"
      ],
      "metadata": {
        "colab": {
          "base_uri": "https://localhost:8080/"
        },
        "id": "G4OXRd1DDvd_",
        "outputId": "26dae952-3cd6-4f84-9ac7-7b81412c0bac"
      },
      "execution_count": 2391,
      "outputs": [
        {
          "output_type": "execute_result",
          "data": {
            "text/plain": [
              "array([nan, '24gb', '4gb', '8gb', '16gb', '12gb', '256 gb', '32gb',\n",
              "       '64gb', '20gb', '8 gb'], dtype=object)"
            ]
          },
          "metadata": {},
          "execution_count": 2391
        }
      ]
    },
    {
      "cell_type": "code",
      "source": [
        "df_ram_missing.Ram.isna().sum()"
      ],
      "metadata": {
        "colab": {
          "base_uri": "https://localhost:8080/"
        },
        "id": "2JOj52ts27Tq",
        "outputId": "c4995ddd-44a3-47ea-ef26-fb059bc2790f"
      },
      "execution_count": 2392,
      "outputs": [
        {
          "output_type": "execute_result",
          "data": {
            "text/plain": [
              "15"
            ]
          },
          "metadata": {},
          "execution_count": 2392
        }
      ]
    },
    {
      "cell_type": "code",
      "source": [
        "df_ram_missing[df_ram_missing.Ram.isna()]['Title'].values"
      ],
      "metadata": {
        "colab": {
          "base_uri": "https://localhost:8080/"
        },
        "id": "hp9UOkQO28-A",
        "outputId": "ff5590b1-2eb2-4610-cb03-508d781d390d"
      },
      "execution_count": 2393,
      "outputs": [
        {
          "output_type": "execute_result",
          "data": {
            "text/plain": [
              "array(['ficihp 13.3\" laptop screen extender for m1 macbook one cable plug&play, cooling system triple portable monitor for laptop with usb c hdmi, monitor attachment for laptop frame 13-16 inch mac/android',\n",
              "       'b belk compatible with macbook air 13 inch case m1, macbook air case 2021 2020 2019 2018 model a2337 a2179 a1932 with touch id, clear plastic laptop hard shell + 2 keyboard covers + screen protector',\n",
              "       'toughbook cf-53salzalm 14\" led notebook - intel core i5 i5-3340m 2.70 ghz (renewed)',\n",
              "       'toughbook cf-52nkb102m 15.4\" notebook - intel core i5 i5-540m 2.53 ghz',\n",
              "       'cf-52,intelcore i3-330m 2.13ghz,15.4inch',\n",
              "       'panasonic toughbook cf-31agaea1m 13.1\" led notebook - core i5 i5-520m 2.40 ghz (cf-31agaea1m)',\n",
              "       'toughbook cf-31wxn291m 13.1\" touchscreen led (circulumin) notebook - intel core i5 i5-3340m 2.70 ghz',\n",
              "       'toughbook cf-31jegax1m 13.1\" notebook - core i5 i5-2520m 2.50 ghz - magnesium alloy',\n",
              "       'panasonic toughbook cf-31acaaa1m 13.1\" led notebook - core i5 i5-520m 2.40 ghz',\n",
              "       'toughbook cf-31sx-002m 13.1\" led notebook - intel core i5 2.60 ghz',\n",
              "       'panasonic toughbook cf-31jf7991m 13.1\" led notebook - intel core i5 i5-2520m 2.50 ghz - 1024 x 768',\n",
              "       'generic 15.6\" hd screen compatible with lenovo g50-80 (5d10g74897 nt156whm-n12) laptop replacement led lcd',\n",
              "       'boehydis nv156fhm-n42 replacement laptop lcd screen 15.6\" full-hd led diode (substitute only. not a ) (ips 1080p)',\n",
              "       'surface laptop 12\"',\n",
              "       'microsoft surface book tablet pc - 13.5\" - pixelsense - wireless lan - intel core i7 i7-6600u dual-core (2 core) 2.60 ghz - silver sw6-00001'],\n",
              "      dtype=object)"
            ]
          },
          "metadata": {},
          "execution_count": 2393
        }
      ]
    },
    {
      "cell_type": "markdown",
      "source": [
        "**Observations**\n",
        "- Looks like Ram cannot be further extracted from the **Title** feature"
      ],
      "metadata": {
        "id": "iXM0FKe93dfU"
      }
    },
    {
      "cell_type": "code",
      "source": [
        "# merging back current dataframe with the original one\n",
        "df.loc[df_ram_missing.index, 'Ram'] = df_ram_missing.Ram"
      ],
      "metadata": {
        "id": "JuioFvwL3KzD"
      },
      "execution_count": 2394,
      "outputs": []
    },
    {
      "cell_type": "code",
      "source": [
        "df.Ram.isna().sum()"
      ],
      "metadata": {
        "colab": {
          "base_uri": "https://localhost:8080/"
        },
        "id": "jl4mJqcf3zhv",
        "outputId": "bddfcd05-ef5e-4876-9b7a-cc4e544c2d00"
      },
      "execution_count": 2395,
      "outputs": [
        {
          "output_type": "execute_result",
          "data": {
            "text/plain": [
              "15"
            ]
          },
          "metadata": {},
          "execution_count": 2395
        }
      ]
    },
    {
      "cell_type": "code",
      "source": [
        "# removing rows with missing Ram values\n",
        "df.drop(df[df.Ram.isna()].index, inplace=True)"
      ],
      "metadata": {
        "id": "Yc8MT3dH31cT"
      },
      "execution_count": 2396,
      "outputs": []
    },
    {
      "cell_type": "code",
      "source": [
        "df.Ram.unique()"
      ],
      "metadata": {
        "colab": {
          "base_uri": "https://localhost:8080/"
        },
        "id": "PHMjDuoK38MQ",
        "outputId": "f22b2ff1-9ed6-45af-f8d0-a8e02e8ffb44"
      },
      "execution_count": 2397,
      "outputs": [
        {
          "output_type": "execute_result",
          "data": {
            "text/plain": [
              "array(['8 gb', '16 gb', '4 gb', '64 gb', '32 gb', '24 gb', '24gb',\n",
              "       '128 gb', '12 gb', '20 gb', '36 gb', '4gb', '2 gb', '8gb', '6 gb',\n",
              "       '1 tb', '16gb', '12gb', '256 gb', '40 gb', '32gb', '64gb', '16 mb',\n",
              "       '512 gb', '20gb'], dtype=object)"
            ]
          },
          "metadata": {},
          "execution_count": 2397
        }
      ]
    },
    {
      "cell_type": "code",
      "source": [
        "def unit_conversion(memory):\n",
        "  \"\"\"\n",
        "  This function is responsible for the unit conversion of memory\n",
        "  Args\n",
        "  memory : The memory of the laptop.\n",
        "  Returns\n",
        "  memory : The converted memory of the laptop (in gb).\n",
        "  \"\"\"\n",
        "\n",
        "  # seperating the unit(gb) from the numeric value\n",
        "  number = re.findall(r\"(\\d+)\", memory)[0].strip()\n",
        "  unit = ''\n",
        "  try:\n",
        "    unit = re.findall(r\"([a-z])\", memory)[0].strip()\n",
        "  except:\n",
        "    unit = 'g'\n",
        "  memory = int(float(number))\n",
        "\n",
        "  if unit == 't':\n",
        "    memory = memory * 1024\n",
        "  else:\n",
        "    memory = memory\n",
        "\n",
        "  return memory\n",
        "\n",
        "df.Ram = df.Ram.apply(unit_conversion)"
      ],
      "metadata": {
        "id": "vl8FRvHz5p-c"
      },
      "execution_count": 2398,
      "outputs": []
    },
    {
      "cell_type": "code",
      "source": [
        "df.Ram = df.Ram.astype(int)\n",
        "df.Ram.unique()"
      ],
      "metadata": {
        "colab": {
          "base_uri": "https://localhost:8080/"
        },
        "id": "mVZV4E2V57FA",
        "outputId": "1a74125b-7471-401b-bb7d-6fab16c46a5d"
      },
      "execution_count": 2399,
      "outputs": [
        {
          "output_type": "execute_result",
          "data": {
            "text/plain": [
              "array([   8,   16,    4,   64,   32,   24,  128,   12,   20,   36,    2,\n",
              "          6, 1024,  256,   40,  512])"
            ]
          },
          "metadata": {},
          "execution_count": 2399
        }
      ]
    },
    {
      "cell_type": "code",
      "source": [
        "unit_conversion('1 tb')"
      ],
      "metadata": {
        "colab": {
          "base_uri": "https://localhost:8080/"
        },
        "id": "vn5NlHRsGPC1",
        "outputId": "26f24e50-9a59-4aa6-d253-d9dda8864336"
      },
      "execution_count": 2400,
      "outputs": [
        {
          "output_type": "execute_result",
          "data": {
            "text/plain": [
              "1024"
            ]
          },
          "metadata": {},
          "execution_count": 2400
        }
      ]
    },
    {
      "cell_type": "code",
      "source": [
        "re.findall(r\"\\d+\", '1 tb')"
      ],
      "metadata": {
        "colab": {
          "base_uri": "https://localhost:8080/"
        },
        "id": "jchAEVp3GhZg",
        "outputId": "774e8bf1-bcbe-462f-e0c4-597948a0d501"
      },
      "execution_count": 2401,
      "outputs": [
        {
          "output_type": "execute_result",
          "data": {
            "text/plain": [
              "['1']"
            ]
          },
          "metadata": {},
          "execution_count": 2401
        }
      ]
    },
    {
      "cell_type": "code",
      "source": [
        "df.Ram.plot(kind='hist', bins=200)\n",
        "plt.xlabel('Ram in gb')"
      ],
      "metadata": {
        "colab": {
          "base_uri": "https://localhost:8080/",
          "height": 466
        },
        "id": "_8_QvZS08VXC",
        "outputId": "f8ce5244-b003-461a-fc0e-6752972855b0"
      },
      "execution_count": 2402,
      "outputs": [
        {
          "output_type": "execute_result",
          "data": {
            "text/plain": [
              "Text(0.5, 0, 'Ram in gb')"
            ]
          },
          "metadata": {},
          "execution_count": 2402
        },
        {
          "output_type": "display_data",
          "data": {
            "text/plain": [
              "<Figure size 640x480 with 1 Axes>"
            ],
            "image/png": "[encoded data removed]"
          },
          "metadata": {}
        }
      ]
    },
    {
      "cell_type": "code",
      "source": [
        "df.columns"
      ],
      "metadata": {
        "colab": {
          "base_uri": "https://localhost:8080/"
        },
        "id": "banJgkX459bT",
        "outputId": "2142c37e-0973-4298-f591-cc6b2109985d"
      },
      "execution_count": 2403,
      "outputs": [
        {
          "output_type": "execute_result",
          "data": {
            "text/plain": [
              "Index(['Title', 'Brand', 'Screen_Size', 'CPU_Model', 'Ram', 'Operating_System',\n",
              "       'Rating', 'Series', 'Color', 'Resolution', 'Weight', 'USB', 'Battery',\n",
              "       'Graphics', 'Disk_size', 'Card_desc', 'Price'],\n",
              "      dtype='object')"
            ]
          },
          "metadata": {},
          "execution_count": 2403
        }
      ]
    },
    {
      "cell_type": "markdown",
      "source": [
        "## Handling the **Disk_size** feature\n",
        "\n",
        "A hard disk is a storage device in a laptop that stores the operating system, applications, and user data. It uses magnetic storage on rotating platters to save and retrieve digital information. This dataset's hard disk feature specifies its storage capacity, typically measured in gigabytes (GB) or terabytes (TB)."
      ],
      "metadata": {
        "id": "A-sZRvzM7g_S"
      }
    },
    {
      "cell_type": "code",
      "source": [
        "df.Disk_size.unique()"
      ],
      "metadata": {
        "colab": {
          "base_uri": "https://localhost:8080/"
        },
        "id": "CFezH2rz7eQP",
        "outputId": "03cf0a68-bd1b-447d-d0f2-f993f956c3a4"
      },
      "execution_count": 2404,
      "outputs": [
        {
          "output_type": "execute_result",
          "data": {
            "text/plain": [
              "array(['256 gb', nan, '512 gb', '128 gb', '2 tb', '1 tb', '3 tb', '4 tb',\n",
              "       '320 gb', '512 tb', '32 gb', '1000 gb', '1000 tb', '64 gb', '64',\n",
              "       '4 gb', '500 gb', '240 gb', '16 gb', '250 gb', '1 gb', '628 gb',\n",
              "       '160 gb', '6 gb', '960 gb', '480 gb', '256', '512', '6 tb',\n",
              "       '1.5 tb', '180 gb', '120 gb', '1512 gb', '1256 gb', '1024 gb',\n",
              "       '1128 gb', '2000 gb', '0.01 gb', '80 gb', '384 gb', '300 gb', '1',\n",
              "       '1280 gb', '65 gb', '2', '128 tb', '511.98 gb'], dtype=object)"
            ]
          },
          "metadata": {},
          "execution_count": 2404
        }
      ]
    },
    {
      "cell_type": "code",
      "source": [
        "df.Disk_size.isna().sum()"
      ],
      "metadata": {
        "colab": {
          "base_uri": "https://localhost:8080/"
        },
        "id": "Qtirk-Y870C4",
        "outputId": "a7879b91-abdb-44ab-d893-cf933a9a709c"
      },
      "execution_count": 2405,
      "outputs": [
        {
          "output_type": "execute_result",
          "data": {
            "text/plain": [
              "465"
            ]
          },
          "metadata": {},
          "execution_count": 2405
        }
      ]
    },
    {
      "cell_type": "code",
      "source": [
        "# filtering rows with missing disk size\n",
        "df_disk_missing = df[df.Disk_size.isna()][['Title', 'Disk_size']]"
      ],
      "metadata": {
        "id": "nsH2uuUW76AH"
      },
      "execution_count": 2406,
      "outputs": []
    },
    {
      "cell_type": "code",
      "source": [
        "def disk_retrieval(title):\n",
        "  \"\"\"\n",
        "  The function is responsible for retrieving the ram from the title.\n",
        "  Args\n",
        "  title : The title of the laptop.\n",
        "  Returns\n",
        "  disk : The disk size of the laptop.\n",
        "  \"\"\"\n",
        "  # regular expression to find ram\n",
        "  disk_pattern = r\"(\\d+)\\s*(?:gb|tb)\"\n",
        "  disk = re.findall(disk_pattern, title)\n",
        "  if len(disk) > 1:\n",
        "    return disk[1]\n",
        "  else:\n",
        "    return np.nan\n",
        "\n",
        "df_disk_missing.Disk_size = df_disk_missing.Title.apply(disk_retrieval)"
      ],
      "metadata": {
        "id": "oPCI1xaC8QQ4"
      },
      "execution_count": 2407,
      "outputs": []
    },
    {
      "cell_type": "code",
      "source": [
        "df_disk_missing.Disk_size.isna().sum()"
      ],
      "metadata": {
        "colab": {
          "base_uri": "https://localhost:8080/"
        },
        "id": "S6ggE7Mi9NP0",
        "outputId": "fdae3a3f-fb3a-4170-8413-0338d6ca7964"
      },
      "execution_count": 2408,
      "outputs": [
        {
          "output_type": "execute_result",
          "data": {
            "text/plain": [
              "17"
            ]
          },
          "metadata": {},
          "execution_count": 2408
        }
      ]
    },
    {
      "cell_type": "code",
      "source": [
        "df_disk_missing[df_disk_missing.Disk_size.isna()].values"
      ],
      "metadata": {
        "colab": {
          "base_uri": "https://localhost:8080/"
        },
        "id": "VzKV065T-EzW",
        "outputId": "11628ede-a6e3-4234-c68c-8a1652c0b717"
      },
      "execution_count": 2409,
      "outputs": [
        {
          "output_type": "execute_result",
          "data": {
            "text/plain": [
              "array([['panasonic toughbook cf-54g2878vm 256gb ssd, 8rg ram, emissive backlit keyboard, windows 10 pro',\n",
              "        nan],\n",
              "       ['panasonic toughbook laptop cf-31 sblax!m new!', nan],\n",
              "       ['acer travelmate b3 tmb311-31-c343 - celeron n4020 / 1.1 ghz -',\n",
              "        nan],\n",
              "       ['hp victus 15.6\" gaming laptop pc, nvidia geforce rtx 3050 ti, amd ryzen 7 5800h, refined 1080p ips display, compact design, all-in-one keyboard with enlarged touchpad, hd webcam (15-fb0028nr, 2022)',\n",
              "        nan],\n",
              "       ['lg 15zt90p-g.am33u1 15\" gram lightweight notebook', nan],\n",
              "       ['lg gram laptop - 15.6\" full hd ips, intel 10th gen core i5 (10210u cpu), with microsoft 365 family 12-month subscription',\n",
              "        nan],\n",
              "       ['lg 17zt90p-g.ax33u1 17\" gram lightweight notebook', nan],\n",
              "       ['microsoft surface pro 3 (256 gb, intel core i5)(windows 10 professional 64 bit) (renewed)',\n",
              "        nan],\n",
              "       ['15.6 inch laptop,windows 10 pro, 1366×768 hd screen,intel celeron n5100 processor,6gb ram，128g ssd',\n",
              "        nan],\n",
              "       ['gigabyte [2020] aero 15s oled xb thin+light high performance laptop, 15.6\" 4k uhd oled display w/ 100% dci-p3, geforce rtx 2070 super max-q, i7-10875h, 16gb ddr4',\n",
              "        nan],\n",
              "       ['alienware aw13r3-7000slv-pus 13.3\" gaming laptop (7th generation intel core i7, 8gb ram, 256 ssd, silver) with nvidia gtx 1060',\n",
              "        nan],\n",
              "       ['alienware aw15r3-7002slv-pus 15.6\" gaming laptop (7th generation intel core i7, 8gb ram, 256 ssd, silver) with nvidia gtx 1060',\n",
              "        nan],\n",
              "       [\"hp 14'' chromebook laptop, intel celeron n4120, 4 gb ram, 64 emmc, hd display, chrome os, intel uhd graphics 600, long battery life, ash gray keyboard (14a-na0226nr, 2022, mineral silver) (renewed)\",\n",
              "        nan],\n",
              "       [\"2022 asus rog zephyrus 16'' fhd 165hz gaming laptop-intel core i7-12700h (beat i9-11900h), nvidia geforce rtx 3060 (tgp 120w) - with hdmi (40gb ddr5 ram\",\n",
              "        nan],\n",
              "       ['samsung chromebook 2 xe503c12 11.6\" led notebook - samsung exynos 5 5420 1.90 ghz - black - 4 gb ram - arm mali-t628 - chrome os 32-bit - 1366 x 768 display - bluetooth xe503c12-k01us (samsungxe503c12-k01us )',\n",
              "        nan],\n",
              "       [\"asus 2022 newest tuf gaming a15 15.6'' fhd 144hz laptop - amd ryzen 7 -6800h -rtx 3050 ti, ddr5, mux, rgb backlit kb, wifi 6, gray, win 11, w/hdmi (32gb ram\",\n",
              "        nan],\n",
              "       ['microsoft surface pro 3 (256 gb, intel core i5)(windows 10 professional 64 bit) (renewed)',\n",
              "        nan]], dtype=object)"
            ]
          },
          "metadata": {},
          "execution_count": 2409
        }
      ]
    },
    {
      "cell_type": "code",
      "source": [
        "# merging the current dataframe with the original\n",
        "df.loc[df_disk_missing.index, 'Disk_size'] = df_disk_missing.Disk_size"
      ],
      "metadata": {
        "id": "ujjqCA2W-LRx"
      },
      "execution_count": 2410,
      "outputs": []
    },
    {
      "cell_type": "code",
      "source": [
        "df.Disk_size.isna().sum()"
      ],
      "metadata": {
        "colab": {
          "base_uri": "https://localhost:8080/"
        },
        "id": "vfIYb7Hh-wYn",
        "outputId": "2f0f3809-d45c-4c99-d603-2f32988ed5eb"
      },
      "execution_count": 2411,
      "outputs": [
        {
          "output_type": "execute_result",
          "data": {
            "text/plain": [
              "17"
            ]
          },
          "metadata": {},
          "execution_count": 2411
        }
      ]
    },
    {
      "cell_type": "code",
      "source": [
        "# removing rows with missing disk size values\n",
        "df.drop(df[df.Disk_size.isna()].index, inplace=True)"
      ],
      "metadata": {
        "id": "X1qT0nfU_kqJ"
      },
      "execution_count": 2412,
      "outputs": []
    },
    {
      "cell_type": "code",
      "source": [
        "df.Disk_size.isna().sum()"
      ],
      "metadata": {
        "colab": {
          "base_uri": "https://localhost:8080/"
        },
        "id": "ewgNq3AW_07w",
        "outputId": "ecfea850-1017-4e14-979e-5630d0d40999"
      },
      "execution_count": 2413,
      "outputs": [
        {
          "output_type": "execute_result",
          "data": {
            "text/plain": [
              "0"
            ]
          },
          "metadata": {},
          "execution_count": 2413
        }
      ]
    },
    {
      "cell_type": "code",
      "source": [
        "df.Disk_size.unique()"
      ],
      "metadata": {
        "colab": {
          "base_uri": "https://localhost:8080/"
        },
        "id": "zaDnpp-1AhsY",
        "outputId": "ce539add-fd11-4d0b-b995-c3696e697bc0"
      },
      "execution_count": 2414,
      "outputs": [
        {
          "output_type": "execute_result",
          "data": {
            "text/plain": [
              "array(['256 gb', '256', '512 gb', '128 gb', '2 tb', '1 tb', '1', '3 tb',\n",
              "       '4 tb', '320 gb', '2', '512', '512 tb', '32 gb', '1000 gb',\n",
              "       '1000 tb', '4', '64 gb', '64', '4 gb', '500 gb', '240 gb', '128',\n",
              "       '16 gb', '250 gb', '1 gb', '32', '628 gb', '160 gb', '16', '6 gb',\n",
              "       '160', '8', '960 gb', '480 gb', '6 tb', '1.5 tb', '180 gb', '12',\n",
              "       '120 gb', '1512 gb', '1256 gb', '1024 gb', '1128 gb', '2000 gb',\n",
              "       '0.01 gb', '80 gb', '384 gb', '960', '300 gb', '1280 gb', '65 gb',\n",
              "       '128 tb', '320', '511.98 gb'], dtype=object)"
            ]
          },
          "metadata": {},
          "execution_count": 2414
        }
      ]
    },
    {
      "cell_type": "code",
      "source": [
        "# unit conversion of disk\n",
        "df.Disk_size = df.Disk_size.apply(unit_conversion)"
      ],
      "metadata": {
        "id": "bKOiMKp6_3Ut"
      },
      "execution_count": 2415,
      "outputs": []
    },
    {
      "cell_type": "code",
      "source": [
        "df.Disk_size.unique()"
      ],
      "metadata": {
        "colab": {
          "base_uri": "https://localhost:8080/"
        },
        "id": "oRVKzcleCBZi",
        "outputId": "a3e62709-df66-4622-a78b-f18672fcb8f4"
      },
      "execution_count": 2416,
      "outputs": [
        {
          "output_type": "execute_result",
          "data": {
            "text/plain": [
              "array([    256,     512,     128,    2048,    1024,       1,    3072,\n",
              "          4096,     320,       2,  524288,      32,    1000, 1024000,\n",
              "             4,      64,     500,     240,      16,     250,     628,\n",
              "           160,       6,       8,     960,     480,    6144,     180,\n",
              "            12,     120,    1512,    1256,    1128,    2000,       0,\n",
              "            80,     384,     300,    1280,      65,  131072,     511])"
            ]
          },
          "metadata": {},
          "execution_count": 2416
        }
      ]
    },
    {
      "cell_type": "code",
      "source": [
        "df.Disk_size.isna().sum()"
      ],
      "metadata": {
        "colab": {
          "base_uri": "https://localhost:8080/"
        },
        "id": "JQkyPkaiCnO3",
        "outputId": "74519e64-00e4-4f2f-8f82-0e78ef1886fe"
      },
      "execution_count": 2417,
      "outputs": [
        {
          "output_type": "execute_result",
          "data": {
            "text/plain": [
              "0"
            ]
          },
          "metadata": {},
          "execution_count": 2417
        }
      ]
    },
    {
      "cell_type": "code",
      "source": [
        "df.reset_index(drop=True, inplace=True)"
      ],
      "metadata": {
        "id": "xGpk-GPSCyl1"
      },
      "execution_count": 2418,
      "outputs": []
    },
    {
      "cell_type": "code",
      "source": [
        "df[df.Ram >= df.Disk_size][['Title', 'Ram', 'Disk_size']].values"
      ],
      "metadata": {
        "colab": {
          "base_uri": "https://localhost:8080/"
        },
        "id": "5y5tRsmIC2IF",
        "outputId": "61f85f00-aad9-4870-f682-221eb6935703"
      },
      "execution_count": 2419,
      "outputs": [
        {
          "output_type": "execute_result",
          "data": {
            "text/plain": [
              "array([['excaliberpc 2022 msi creator z17 a12ugst-049 (i7-12700h, 32gb ram, 1tb nvme ssd, rtx 3070ti 8gb, 17\" qhd+ 165hz touch, windows 11 pro) content creation laptop',\n",
              "        32, 1],\n",
              "       ['excaliberpc 2022 msi raider ge67hx 12ugs-013 (i7-12800hx, 16gb ram, 1tb nvme ssd, rtx 3070ti 8gb, 15.6\" qhd 240hz, windows 11 pro) gaming laptop',\n",
              "        16, 1],\n",
              "       ['excaliberpc 2022 msi summit e13flipevo a12mt-013 (i7-1260p, 32gb ram, 1tb nvme ssd, intel iris xe, 13.4\" fhd+ touch, windows 11 pro) professional laptop',\n",
              "        32, 1],\n",
              "       ['excaliberpc 2022 msi creator z16p b12uht-041 (i7-12700h, 32gb ram, 1tb nvme ssd, rtx 3080 8gb, 16\" qhd+ 165hz touch, windows 11 pro) content creation laptop',\n",
              "        32, 1],\n",
              "       ['excaliberpc 2021 msi we76 11uk-460 (i7-11800h, 32gb ram, 1tb nvme ssd, quadro rtx a3000 6gb, 17.3\" 144hz fhd, windows 10 pro) mobile workstation laptop',\n",
              "        32, 1],\n",
              "       ['excaliberpc 2022 asus rog zephyrus duo 16 gx650rx-xs97 (amd ryzen 9 6900hx, 32gb ram, 2tb nvme ssd, rtx 3080ti 16gb, 16\" qhd+ 165hz, windows 11 pro) gaming laptop',\n",
              "        32, 2],\n",
              "       ['excaliberpc 2022 msi raider ge66 12uhs-236 (i7-12700h, 32gb ram, 1tb nvme ssd, rtx 3080ti 16gb, 15.6\" qhd 240hz, windows 11) gaming laptop',\n",
              "        32, 1],\n",
              "       ['excaliberpc 2022 msi stealth gs77 12uhs-040 (i9-12900h, 32gb ram, 1tb nvme ssd, rtx 3080ti 16gb, 17.3\" 4k uhd, windows 11 pro) gaming laptop',\n",
              "        32, 1],\n",
              "       ['excaliberpc 2022 msi pulse gl66 12ugok-825 (i9-12900h, 16gb ram, 1tb nvme ssd, rtx 3070 8gb, 15.6\" 165hz qhd, windows 11) gaming laptop',\n",
              "        16, 1],\n",
              "       ['excaliberpc 2022 asus zenbook pro duo 15 oled ux582zm-xs96t (i9-12900h, 32gb ram, 1tb nvme ssd, rtx 3060 6gb, 15.6\" fhd, windows 11 pro) touchscreen laptop - celestial blue',\n",
              "        32, 1],\n",
              "       ['excaliberpc 2022 msi vector gp76 12uhso-877 (i7-12650h, 16gb ram, 1tb nvme ssd, rtx 3080ti 16gb, 17.3\" fhd 360hz 3ms, windows 11) gaming laptop',\n",
              "        16, 1],\n",
              "       ['excaliberpc 2022 msi creator z16p b12uhst-040 (i7-12700h, 32gb ram, 1tb nvme ssd, rtx 3080ti 16gb, 16\" qhd+ 165hz touch, windows 11 pro) content creation laptop',\n",
              "        32, 1],\n",
              "       ['excaliberpc 2022 msi delta 15 a5efk-097 (amd ryzen 7 5800h, 16gb ram, 1tb nvme ssd, radeon rx6700m, 15.6\" full hd, windows 11) gaming laptop',\n",
              "        16, 1],\n",
              "       ['apple macbook pro 16\" with liquid retina xdr display, m1 pro chip with 10-core cpu and 16-core gpu, 32gb memory, 2tb ssd, space gray, late 2021',\n",
              "        32, 2],\n",
              "       ['apple macbook pro 16\" with liquid retina xdr display, m1 pro chip with 10-core cpu and 16-core gpu, 32gb memory, 1tb ssd, silver, late 2021',\n",
              "        32, 1],\n",
              "       ['apple 2021 macbook pro (14-inch, m1 pro chip with 10‑core cpu and 16‑core gpu, 16gb ram, 1tb ssd) - space gray applecare+ for 14-inch macbook pro',\n",
              "        16, 1],\n",
              "       ['apple macbook air 13.3\" with retina display, m1 chip with 8-core cpu and 7-core gpu, 16gb memory, 1tb ssd, space gray, late 2020',\n",
              "        16, 1],\n",
              "       ['apple 2021 macbook pro (14-inch, m1 max chip with 10‑core cpu and 32‑core gpu, 32gb ram, 1tb ssd) - space gray z15h00107',\n",
              "        32, 1],\n",
              "       ['apple 2021 macbook pro (14-inch, m1 max chip with 10‑core cpu and 32‑core gpu, 64gb ram, 2tb ssd) - space gray z15h0010e',\n",
              "        64, 2],\n",
              "       ['apple macbook pro 14\" with liquid retina xdr display, m1 max chip with 10-core cpu and 32-core gpu, 64gb memory, 1tb ssd, space gray, late 2021',\n",
              "        64, 1],\n",
              "       ['apple 2019 macbook pro with 2.3ghz intel core i9 (16-inch, 16gb ram, 2tb storage) - space gray (renewed)',\n",
              "        16, 2],\n",
              "       ['apple 2019 macbook pro with 2.3ghz intel core i9 (16-inch, 16gb ram, 2tb storage) - space gray (renewed)',\n",
              "        16, 2],\n",
              "       ['apple macbook pro 13.3\" with retina display, m2 chip with 8-core cpu and 10-core gpu, 24gb memory, 2tb ssd, space gray, mid 2022',\n",
              "        24, 2],\n",
              "       ['excaliberpc 2022 msi raider ge77hx 12uhs-082 (i9-12900hx, 32gb ram, 1tb nvme ssd, rtx 3080ti 16gb, 17.3\" qhd 240hz, windows 11 pro) gaming laptop',\n",
              "        32, 1],\n",
              "       ['msi ge76 raider gaming laptop intel core i7-11800h, geforce rtx 3060 130w, 17.3\" fhd 144hz, thunderbolt 4 type-c wi-fi 6 32gb ram 2tb nvme ssd, windows 10, w/ 32gb sd card',\n",
              "        32, 32],\n",
              "       ['excaliberpc 2022 msi raider ge77hx 12ugs-004 (i7-12800hx, 16gb ram, 1tb nvme ssd, rtx 3070ti 8gb, 17.3\" qhd 240hz, windows 11 pro) gaming laptop',\n",
              "        16, 1],\n",
              "       ['msi summit e14 a11scs-088 14\" uhd ultra thin and light professional laptop intel core i7-1185g7 nvidia geforce gtx1650ti max-q 16gb ddr4 1tb nvme ssd win10pro, ink black',\n",
              "        16, 1],\n",
              "       ['msi katana gf66 15.6\" 144hz 3ms fhd gaming laptop intel core i7-11800h rtx3060 16gb 1tbnvme ssd win10 - black (11ue-031)',\n",
              "        16, 1],\n",
              "       ['excaliberpc 2022 msi raider ge77hx 12uhs-074 (i7-12800hx, 16gb ram, 1tb nvme ssd, rtx 3080ti 16gb, 17.3\" fhd 360hz, windows 11) gaming laptop',\n",
              "        16, 1],\n",
              "       ['excaliberpc 2022 msi creator z17 a12ugst-049 (i7-12700h, 32gb ram, 1tb nvme ssd, rtx 3070ti 8gb, 17\" qhd+ 165hz touch, windows 11 pro) content creation laptop',\n",
              "        32, 1],\n",
              "       ['excaliberpc 2022 msi raider ge67hx 12ugs-070 (i7-12800hx, 16gb ram, 1tb nvme ssd, rtx 3070ti 8gb, 15.6\" qhd 240hz, windows 11) gaming laptop',\n",
              "        16, 1],\n",
              "       ['excaliberpc 2022 msi raider ge67hx 12ugs-013 (i7-12800hx, 16gb ram, 1tb nvme ssd, rtx 3070ti 8gb, 15.6\" qhd 240hz, windows 11 pro) gaming laptop',\n",
              "        16, 1],\n",
              "       ['msi prestige 15 a11scx-217 15.6\" uhd ultra thin and light professional laptop intel core i7-1185g7 nvidia geforce gtx1650 max-q 32gb ddr4 1tb nvme ssd win10pro, urban silver',\n",
              "        64, 1],\n",
              "       ['msi ge76 raider 17.3\" 360hz fhd display, intel core i7-11800h, nvidia geforce rtx3070, 32gb, 1tb nvme ssd, win10 ,titanium blue (11ug-054)',\n",
              "        32, 1],\n",
              "       ['msi ge66 raider 10sgs-288 15.6\" 300hz 3ms gaming laptop intel core i7-10875h rtx2080 super 32gb 1tb nvme ssd win10 vr ready',\n",
              "        64, 1],\n",
              "       ['excaliberpc 2022 msi pulse gl66 12ugok-825 (i9-12900h, 16gb ram, 1tb nvme ssd, rtx 3070 8gb, 15.6\" 165hz qhd, windows 11) gaming laptop',\n",
              "        16, 1],\n",
              "       ['msi gp66 leopard 15.6\" 144hz gaming laptop intel core i7-11800h rtx3070 16gb 1tb nvme ssd win11 vr ready - black (11ug-688)',\n",
              "        16, 1],\n",
              "       ['msi gs75 stealth-479 17.3\" gaming laptop 144hz display, thin bezel, intel core i9-9880h, nvidia geforce rtx2080, 32gb, 1tb nvme ssd, thunderbolt 3',\n",
              "        32, 1],\n",
              "       ['msi gp66 leopard 15.6\" 240hz 3.5ms gaming laptop intel core i7-11800h rtx3070 32gb 1tb nvme ssd win11 pro vr ready - black (11ug-687)',\n",
              "        32, 1],\n",
              "       ['excaliberpc 2022 msi summit e13flipevo a12mt-013 (i7-1260p, 32gb ram, 1tb nvme ssd, intel iris xe, 13.4\" fhd+ touch, windows 11 pro) professional laptop',\n",
              "        32, 1],\n",
              "       ['msi gs65 stealth thin-068 144hz 7ms ultra thin 4.9mm gaming laptop i7-8750h (6 cores), gtx 1070 8g, 32gb dram, 1tb nvme ssd, 15.6\", black w/ gold diamond cut, rgb kb, win 10 pro 64 bit',\n",
              "        32, 1],\n",
              "       ['excaliberpc 2022 msi raider ge66 12uhs-236 (i7-12700h, 32gb ram, 1tb nvme ssd, rtx 3080ti 16gb, 15.6\" qhd 240hz, windows 11) gaming laptop',\n",
              "        32, 1],\n",
              "       ['msi raider ge76 17.3\" fhd 360hz gaming laptop: intel core i9-12900hk rtx 3070 ti 32gb ddr5 1tb nvme ssd, usb-type c, thunderbolt 4, cooler boost 5, win11 home: titanium blue 12ugs-294',\n",
              "        32, 1],\n",
              "       ['msi prestige 15 a11scx-217 15.6\" uhd ultra thin and light professional laptop intel core i7-1185g7 nvidia geforce gtx1650 max-q 32gb ddr4 1tb nvme ssd win10pro, urban silver',\n",
              "        64, 1],\n",
              "       ['msi ge76 raider 17.3\" 360hz fhd display, intel core i9-11980hk, nvidia geforce rtx3080, 32gb, 1tb nvme ssd, win10 ,titanium blue (11uh-053)',\n",
              "        32, 1],\n",
              "       ['excaliberpc 2022 msi creator z16p b12uht-041 (i7-12700h, 32gb ram, 1tb nvme ssd, rtx 3080 8gb, 16\" qhd+ 165hz touch, windows 11 pro) content creation laptop',\n",
              "        32, 1],\n",
              "       ['apple macbook pro 14\" with liquid retina xdr display, m1 pro chip with 10-core cpu and 16-core gpu, 32gb memory, 1tb ssd, space gray, late 2021',\n",
              "        32, 1],\n",
              "       ['apple 2021 macbook pro (16-inch, m1 max chip with 10‑core cpu and 32‑core gpu, 32gb ram, 1tb ssd) - silver applecare+ for 16-inch macbook pro (m1)',\n",
              "        32, 1],\n",
              "       ['apple macbook pro 16\" with liquid retina xdr display, m1 max chip with 10-core cpu and 32-core gpu, 64gb memory, 4tb ssd, space gray, late 2021',\n",
              "        64, 4],\n",
              "       ['msi gs66 stealth 15.6\" fhd 240hz 2.5ms ultra thin and light gaming laptop intel core i7-11800h rtx3060 16gb 1tb nvme ssd win11 vr ready - black (11ue-662)',\n",
              "        16, 1],\n",
              "       ['excaliberpc 2022 msi titan gt77 12ugs-009 (i7-12800hx, 32gb ram, 1tb nvme ssd, rtx 3070ti 8gb, 17.3\" 4k uhd, windows 11 pro) gaming laptop',\n",
              "        32, 1],\n",
              "       ['msi summit 13.4\" touchscreen 2-in-1 intel evo platform laptop - 12th gen intel core i7-1280p - 1920 x 1200 - 120hz - windows 11 w/hdmi cable pen (16gb lpddr5 ram | 1tb pcie ssd)',\n",
              "        16, 1],\n",
              "       ['excaliberpc 2022 msi gp66 leopard 11ug-687 (i7-11800h, 32gb ram, 1tb nvme ssd, rtx 3070 8gb, 15.6\" 240hz fhd, windows 11 pro) gaming laptop',\n",
              "        32, 1],\n",
              "       ['apple 2021 macbook pro (14-inch, m1 pro chip with 10‑core cpu and 16‑core gpu, 16gb ram, 1tb ssd) - silver applecare+ for 14-inch macbook pro',\n",
              "        16, 1],\n",
              "       ['msi summit e13 13.4\" 2-in-1 laptop, 14 cores 12th gen intel evo core i7-1280p, 120hz, 100%srgb, 16:10, wi-fi 6e, dts, hi-res, thunberbolt 4, w/cloth and msi pen (16gb lpddr5 ram | 1tb pcie ssd)',\n",
              "        16, 1],\n",
              "       ['excaliberpc 2021 msi creator z16 a11uet-013 (i7-11800h, 32gb ram, 1tb nvme ssd, rtx 3060 6gb, 16\" qhd+ 120hz, windows 10 pro) content creation laptop',\n",
              "        32, 1],\n",
              "       ['excaliberpc 2022 asus rog zephyrus g14 ga402rk-g14.r96800 (amd ryzen 9 6900hs, 16gb ram, 1tb nvme ssd, amd radeon rx 6800s, 14\" wqxga 120hz, windows 11) gaming notebook - moonlight white',\n",
              "        16, 1],\n",
              "       ['msi titan gt77 17.3\" uhd 144hz mini led: intel core i9-13980hx, rtx 4080, 64gb ddr5, 2tb nvme ssd, thunderbolt 4, usb-type c, cooler boost titan, win 11 pro: core black 13vh-046us',\n",
              "        64, 2],\n",
              "       ['msi gs76 stealth gaming laptop: 17.3\" 300hz fhd 1080p display, intel core i7-11800h, nvidia geforce rtx 3080, 32gb, 1tb ssd, thunderbolt 4, wifi 6, win10, black (11uh-029)',\n",
              "        32, 1],\n",
              "       ['excaliberpc 2022 msi raider ge77hx 12ugs-004 (i7-12800hx, 16gb ram, 1tb nvme ssd, rtx 3070ti 8gb, 17.3\" qhd 240hz, windows 11 pro) gaming laptop',\n",
              "        16, 1],\n",
              "       ['excaliberpc 2022 msi gs66 stealth 11ue-662 (i7-11800h, 16gb ram, 1tb nvme ssd, rtx 3060 6gb, 15.6\" fhd 240hz, windows 11) gaming laptop',\n",
              "        16, 1],\n",
              "       ['excaliberpc 2022 msi raider ge67hx 12ugs-070 (i7-12800hx, 16gb ram, 1tb nvme ssd, rtx 3070ti 8gb, 15.6\" qhd 240hz, windows 11) gaming laptop',\n",
              "        16, 1],\n",
              "       ['excaliberpc 2022 asus proart studiobook 16 oled h7600zx-db79 (i7-12700h, 32gb ram, 2tb nvme ssd, rtx 3080ti 16gb, 16\" wquxga, windows 11) laptop',\n",
              "        32, 2],\n",
              "       ['2021 premium acer chromebook 15.6\" hd laptop light computer, intel celeron n4000, 4gb ram, 32gb emmc, hd webcam, intel uhd graphics 600, 12+ hours battey, sleeve, bluetooth, chrome os,w/marxsol cables',\n",
              "        4, 4],\n",
              "       ['acer 11.6\" touchscreen convertible spin 311 chromebook laptop, 32gb storage, silver (cp311-3h-k23x)',\n",
              "        32, 32],\n",
              "       ['acer swift 5 intel evo thin & light laptop | 14\" wxga ips 100% srgb touch | 12th gen intel i7-1260p | intel iris xe graphics | 16gb lpddr5 | 1tb gen 4 ssd | killer hdmi,wi-fi 6e ax1675 |sf514-56t-797t',\n",
              "        16, 1],\n",
              "       ['acer enduro urban n3 eun314-51w-70rf 14\" full hd notebook computer, intel core i7-1165g7 2.8ghz, 16gb ram, 1tb ssd, windows 10 home, free upgrade to windows 11, hunter green',\n",
              "        16, 1],\n",
              "       ['acer 2022 aspire 5 slim laptop, 15.6\" full hd display, amd ryzen 5 5500u hexa core processor, amd radeon graphics, wifi 6, backlit keyboard, windows 11 home (24gb ram | 1tb ssd)',\n",
              "        24, 1],\n",
              "       ['acer 2022 new nitro 5 - 15.6\" 144 hz ips - intel core i5 12th 12500h - nvidia geforce rtx 3050 - thunderbolt 4 - killer wi-fi 6 - windows 11- gaming laptop w/mouse pad (16gb ram |1tb pcie ssd)',\n",
              "        16, 1],\n",
              "       ['acer aspire 5 slim laptop, 15.6\" full hd ips display, amd ryzen7 5700u octa-core processor, amd radeon rx vega 8 graphics, 16gb ram, 1tb ssd, windows 11 home, fingerprint reader, twe hdmi cable',\n",
              "        16, 1],\n",
              "       ['acer swift 3 intel evo thin&light laptop | 14\" qhd 100% srgb | intel core i7-1260p | intel iris xe graphics | 16gb lpddr4x | 1tb ssd | killer wi-fi 6e ax1675|bluetooth| windows 11 home |sf314-512-73yz',\n",
              "        16, 1],\n",
              "       ['acer nitro 5 an517-54-77kg gaming laptop | intel core i7-11800h | nvidia geforce rtx 3050 ti laptop gpu | 17.3\" fhd 144hz ips display | 16gb ddr4 | 1tb nvme ssd | killer wifi 6 | backlit keyboard',\n",
              "        16, 1],\n",
              "       ['acer swift 3 oled intel evo thin & light laptop | 14\" oled 2880x1800 | intel core i7-12700h | intel iris xe graphics | 16gb lpddr5 | 1tb ssd | killer wi-fi 6e ax1675 | windows 11 home | sf314-71-75mw',\n",
              "        16, 1],\n",
              "       ['acer predator triton 300 se pt316-51s-74rm 16\" wqxga 240hz gaming notebook computer, intel core i7-12700h 2.3ghz, 16gb ram, 1tb ssd, nvidia geforce rtx 3070 ti 8gb, windows 11 home',\n",
              "        16, 1],\n",
              "       ['acer chromebook 315 laptop computer/ 15.6\" screen for business student/ amd quad-core a12-9720p0 up to 3.6ghz/ 4gb ddr4/ ipuzzle 32gb emmc/ 802.11ac wifi/ work from home/ silver/ chrome os',\n",
              "        32, 32],\n",
              "       ['acer nitro 5 - 15.6\" 144 hz ips - intel core i5 12th gen 12500h (12-core, 2.50ghz) - nvidia geforce rtx 3060 - thunderbolt 4 - windows 11 - gaming laptop – w/mouse pad (32gb ram | 2tb pcie ssd)',\n",
              "        32, 2],\n",
              "       ['bocconi leadbook t6 laptop | 15.6\" full hd 1920x1080 ips display | intel celeron n3450 quad-core | 6gb ddr3 | 128gb ssd | ac wifi | mini hdmi | windows 10 home',\n",
              "        6, 6],\n",
              "       ['fz-g1u/ea21/barcode scanner/mk5/core i5-7300u/2.60ghz /win10 pro 64 bit/ 10.1\" wuxga gloved multi touch + digitizer lcd /256gb ssd/8gb /wi-fi/bt/dual pass/rear cam/infrared hello webcam/tpm 2.0',\n",
              "        8, 8],\n",
              "       ['acer 2022 nitro 5 17.3\" fhd ips 144hz gaming laptop core i5 12500h(beats i7-11800h) nvidia rtx 3050 thunderbolt 4 intel killer ethernet w/mouse pad (16gb ram| 1tb pcie ssd)',\n",
              "        16, 1],\n",
              "       ['cf-31/mk6/16gb ram/1tb ssd/windows/intel core i5-7300u 2.60ghz/13.1\" xga touchscreen lcd/hdmi/gigabit lan/rj45/dual pass/usb 3.0/usb 2(3 ports)/9 pin serial port/vga/bt/wifi/standard keyboard',\n",
              "        1024, 1000],\n",
              "       ['panasonic cf-31sal781m win7, intel core i5-3320m 2.60ghz, vpro, 13.1 xga touch, 500gb(7200rpm), 4gb, in',\n",
              "        4, 4],\n",
              "       ['acer predator triton 500 se gaming/creator laptop | 12th gen intel i9-12900h | geforce rtx 3080 ti | 16\" wqxga 240hz g-sync display | 32gb lpddr5 | 1tb gen 4x4 ssd | killer wi-fi 6e | pt516-52s-99el',\n",
              "        32, 1],\n",
              "       ['aero 17 wa-7us1130so 17.3\" thin bezel 144hz fhd, i7-9750h, nvidia geforce rtx 2060 gddr6 6gb, samsung 16gb ddr4 2666mhz ram, pcie 512gb ssd, windows 10 home+office 365, rgb kb, ultra slim laptop',\n",
              "        16, 16],\n",
              "       ['hp victus 15.6\" gaming laptop - amd ryzen 7 5800h - geforce rtx 3050 ti - 144hz 1080p - windows 11 w/hdmi (16gb ram | 1tb pcie ssd)',\n",
              "        16, 1],\n",
              "       ['gigabyte aorus 5 ke4: 15.6\" thin bezel fhd 1920x1080 ips-level display, intel core i7-12700h, nvidia geforce rtx 3060 laptop gpu 6gb gddr6, 16gb ddr4 ram, 1tb ssd, win11 home (aorus 5 ke4-72us314sh)',\n",
              "        16, 16],\n",
              "       ['gigabyte aorus 17 wa-7us1130sh 17\" thin bezel 144hz fhd ips lcd, i7-9750h, rtx 2060 gddr6 6gb, 16gb ddr4 ram, m.2 pcie 512gb ssd, windows 10 home, extreme gaming laptop',\n",
              "        16, 16],\n",
              "       ['acer predator triton 500 se gaming/creator laptop | 12th gen intel i9-12900h | geforce rtx 3080 ti | 16\" wqxga 240hz g-sync display | 32gb lpddr5 | 1tb gen 4x4 ssd | killer wi-fi 6e | pt516-52s-99el',\n",
              "        32, 1],\n",
              "       ['gigabyte aero 16 xe5: 16\" 4k/uhd+ samsung amoled, intel core i7-12700h, nvidia geforce rtx 3070 ti laptop gpu 8gb gddr6, 16gb ddr5 ram, 1tb ssd, win11 home (aero 16 xe5-73us934hh)',\n",
              "        16, 16],\n",
              "       ['msi stealth 17 studio 17.3\" qhd 240hz gaming laptop: intel core i9-13900h, rtx 4080, 32gb ddr5, 1tb nvme ssd, thunderbolt 4, usb-type c, cooler boost trinity+, win11 home: core black a13vh-053us',\n",
              "        32, 1],\n",
              "       ['gigabyte aero 5 xe4 - 16\" 4k/uhd samsung amoled, intel core i7-12700h, nvidia geforce rtx 3070 ti gpu 8gb gddr6, 16gb ddr4 ram, 1tb ssd, win11 home laptop (aero 5 xe4-73us614sh)',\n",
              "        16, 16],\n",
              "       ['excaliberpc 2021 msi ws76 11um-468 mobile workstation laptop (i9-11900h, 64gb ram, 1tb nvme ssd, quadro rtx a5000 16gb, 17.3\" fhd, windows 10 pro) 3d professional notebook computer',\n",
              "        64, 1],\n",
              "       ['excaliberpc 2022 msi raider ge77hx 12uhs-074 (i7-12800hx, 16gb ram, 1tb nvme ssd, rtx 3080ti 16gb, 17.3\" fhd 360hz, windows 11) gaming laptop',\n",
              "        16, 1],\n",
              "       ['excaliberpc 2022 msi raider ge77hx 12uhs-082 (i9-12900hx, 32gb ram, 1tb nvme ssd, rtx 3080ti 16gb, 17.3\" qhd 240hz, windows 11 pro) gaming laptop',\n",
              "        32, 1],\n",
              "       ['lg newest gram 15.6\" ips 99% srgb touchscreen slim laptop, up to 5.0 ghz intel 11th gen i7-1195g7, backlit kb, wi-fi 6, 19.5 hr battery life, fingerprint, 2xthunderbolt 4 (16gb ram | 2tb pcie ssd)',\n",
              "        16, 2],\n",
              "       ['lg gram 15z90n laptop 15.6\" ips ultra-lightweight, (1920 x 1080), 10th gen intel core i7 , 16gb ram, 1tb ssd, windows 10 home, usb-c, hdmi, headphone input - silver',\n",
              "        16, 1],\n",
              "       ['lg gram 15z90n laptop 15.6\" ips ultra-lightweight, (1920 x 1080), 10th gen intel core i7 , 16gb ram, 1tb ssd, windows 10 home, usb-c, hdmi, headphone input - silver',\n",
              "        16, 1],\n",
              "       ['laptop 15-dy2097nr|intel core i7 11th gen|windows 11 home|256 gb ssd|intel iris xe graphics|12 gb ddr4|15.6\" display|2b5g1ua#aba',\n",
              "        12, 12],\n",
              "       ['lg gram 15 15z95n ultra lightweight 15.6\" fhd (intel i5-1135g7 (beat i7-1065g7), 16gb ram, 1tb ssd, uhd graphics) military grade business laptop, 21hr battery, backlit kb, webcam, windows 11 home',\n",
              "        16, 1],\n",
              "       ['gigabyte aero 16 xe5 - 16\" 4k/uhd+ samsung amoled, intel core i7-12700h, nvidia geforce rtx 3070 ti laptop gpu 8gb gddr6, 32gb ddr5 ram, 2tb ssd,win11 pro laptop (aero 16 xe5-73us948hp)',\n",
              "        32, 32],\n",
              "       ['gigabyte aorus 17 ye5 - 17.3\" fhd 1920x1080 ips-level display, intel core i7-12900h, nvidia geforce rtx 3080 ti laptop gpu 16gb gddr6, 32gb ddr5 ram, 1tb ssd, win11 home (aorus 17 ye5-a4us544sp)',\n",
              "        32, 32],\n",
              "       ['gigabyte aero 16 ye5 - 16\" 4k/uhd+ samsung amoled, intel core i9-12900h, nvidia geforce rtx 3080 ti laptop gpu 16gb gddr6, 64gb ddr5 ram, 2tb ssd, win11 pro (aero 16 ye5-a4us958hp)',\n",
              "        64, 64],\n",
              "       ['gigabyte aero 16 ye5: 16\" 4k/uhd+ samsung amoled, intel core i9-12900h, nvidia geforce rtx 3080 ti laptop gpu 16gb gddr6, 32gb ddr5 ram, 2tb ssd, win11 pro (aero 16 ye5-a4us948hp)',\n",
              "        32, 32],\n",
              "       ['gigabyte aorus 17 ye5: 17.3\" fhd 1920x1080 ips-level display, intel core i7-12700h, nvidia geforce rtx 3080 ti laptop gpu 16gb gddr6, 32gb ddr5 ram, 1tb ssd, win11 home (aorus 17 ye5-74us544sh)',\n",
              "        32, 32],\n",
              "       ['gigabyte aero 17 xe5 - 17.3\" 4k/uhd miniled 120hz, intel core i7-12700h, nvidia geforce rtx 3070 ti gpu 16gb gddr6, 16gb ddr5 ram, 2tb ssd, win11 pro, creator & gaming laptop (aero 17 xe5-73us738hp)',\n",
              "        16, 16],\n",
              "       ['gigabyte aero 17 ye5: 17.3\" 4k/uhd miniled 120hz, intel core i7-12700h, nvidia geforce rtx 3080 ti laptop gpu 16gb gddr6, 32gb ddr5 ram, 2tb ssd, win11 pro (aero 17 ye5-74us748hp)',\n",
              "        32, 32],\n",
              "       ['gigabyte aorus 17 ye5: 17.3\" fhd 1920x1080 ips-level display, intel core i7-12700h, nvidia geforce rtx 3080 ti laptop gpu 16gb gddr6, 32gb ddr5 ram, 1tb ssd, win11 home (aorus 17 ye5-74us544sh)',\n",
              "        32, 32],\n",
              "       ['gigabyte aero 17 ye5: 17.3\" 4k/uhd miniled 120hz, intel core i7-12700h, nvidia geforce rtx 3080 ti laptop gpu 16gb gddr6, 32gb ddr5 ram, 2tb ssd, win11 pro (aero 17 ye5-74us748hp)',\n",
              "        32, 32],\n",
              "       ['gigabyte g5 me: 15.6\" fhd 144hz, nvidia geforce rtx 3050 laptop gpu 6gb gddr6, intel core i5-12500h, 16gb memory, 512gb ssd, win11 home, gaming laptop (g5 me-51us213sh)',\n",
              "        32, 16],\n",
              "       ['acer predator triton 500 se gaming/creator laptop | 12th gen intel i9-12900h | geforce rtx 3080 ti | 16\" wqxga 240hz g-sync display | 32gb lpddr5 | 1tb gen 4x4 ssd | killer wi-fi 6e | pt516-52s-99el',\n",
              "        32, 1],\n",
              "       ['dell alienware area 51m laptop, 17.3-inch fhd (1920 x 1080), 9th gen intel core i9-9900k, 32gb (2x16gb) ram, 2 x 512gb ssd (raid0) + 1tb (+8gb ssh sshd, nvidia geforce rtx 2080, windows 10 (renewed)',\n",
              "        32, 32],\n",
              "       ['alienware m17 awm17 7257-17.3\" - i7-8750h - nvidia rtx 2070-16gb - 1tb hdd+256gb ssd',\n",
              "        16, 1],\n",
              "       ['dell alienware area 51m laptop, 17.3\" fhd (1920 x 1080), 9th gen intel core i9-9900k, 32gb (2x16gb) ram, 2 x 512gb ssd (raid0) + 1tb (+8gb sshd) sshd, nvidia geforce rtx 2080, windows 10',\n",
              "        32, 32],\n",
              "       ['lincplus p3 14 inch thin and light laptop pc, 4gb ram 128gb emmc 1080p full hd ips computer, intel celeron dual-core, mini notebook,windows 10 home in s mode,uk keyboard white',\n",
              "        128, 128],\n",
              "       ['alienware new m15 15.6 inch fhd gaming laptop (lunar light) intel core i7-10750h 10th gen, 32gb ddr4 ram, 1tb ssd, nvidia geforce rtx 2080 super 8gb gddr6, windows 10 home (awm15-7937wht-pus)',\n",
              "        32, 1],\n",
              "       ['alienware m15 awm15 7264-15.6\" - i7-8750h - nvidia gtx 1060-16gb - 1tb hdd+256gb ssd',\n",
              "        16, 1],\n",
              "       ['alienware m15 awm15 7264-15.6\" - i7-8750h - nvidia gtx 1060-16gb - 1tb hdd+256gb ssd (renewed)',\n",
              "        16, 1],\n",
              "       ['alienware x15 r2 gaming laptop - 15.6-inch fhd 360hz 1ms display, core i9-12900h, 16gb ram, 1tb ssd, nvidia geforce rtx 3070ti 8gb gddr6, usb-c, killer wifi 6, windows 11 home - lunar light',\n",
              "        16, 1],\n",
              "       ['alienware m15 r6 gaming laptop, 15.6 inch qhd 240hz display, intel core i7-11800h, 32gb ddr4 ram, 1tb ssd, nvidia geforce rtx 3080 8gb gddr6, windows 11 home, dark side of the moon',\n",
              "        32, 1],\n",
              "       ['alienware m15 r5 gaming laptop, 15.6 inch fhd 360hz 1ms g-sync display, amd ryzen r9 5900hx, geforce rtx 3070, 64gb ram, 2tb nvme ssd, killer wifi, rgb keyboard, windows 11, dark side of the moon',\n",
              "        64, 2],\n",
              "       ['msi prestige 14 evo 14\" fhd ultra thin and light professional laptop intel core i7-1185g7 intel iris xe 32gb ddr4 1tb nvme ssd win10home - gray (a11mo-217)',\n",
              "        32, 1],\n",
              "       ['msi raider ge77hx 17.3\" qhd 240hz gaming laptop: intel core i7-12800hx rtx 3070 ti 16gb ddr5 1tb nvme ssd, thunderbolt 4, usb-type c, cooler boost 5, win11 pro: dark grey 12uhs-004',\n",
              "        16, 1],\n",
              "       ['hp pavilion 15.6\" fhd touchscreen laptop, amd ryzen 7-5825u processor (beat i7-1180g7),32gb ram, 1tb pcie ssd, wi-fi 6, backlit keyboard, hdmi, webcam, bluetooth, windows 11 home, silver',\n",
              "        32, 1],\n",
              "       ['hp pavilion 15.6\" fhd touchscreen laptop, 12th gen intel core i7-1255u processor, intel iris xe graphics, wi-fi 6, hdmi, webcam, bluetooth, windows 11 home (32gb | 1tb ssd)',\n",
              "        32, 1],\n",
              "       ['hp 14 laptop, amd 3000 series processor, 32gb ram, 1tb storage, 14-inch micro-edge hd display, long battery life, webcam, thin & portable, windows 10 + one year of office365, rose gold',\n",
              "        32, 1],\n",
              "       ['hp pavilion x360 15.6 inch 2-in-1 laptop pc, 11th gen intel core i5-1135g7, 12 gb ram, 256 gb ssd storage, full hd ips micro-edge display, windows 10 home, hd webcam, audio by b&o (15-er0010nr, 2021)',\n",
              "        12, 0],\n",
              "       ['hp 17 laptop, 17.3\" hd+ touchscreen, amd ryzen 5 5625u, 32gb ddr4 ram, 1tb pcie nvme ssd, webcam, wi-fi, bluetooth, windows 11 home, silver',\n",
              "        32, 1],\n",
              "       ['hp pavilion 17.3-inch ips fhd laptop (2022 model), intel core i5-1135g7 (beats i7-1065g7), iris xe graphics, backlit keyboard, long battery life, wi-fi 5, windows 11 (16gb ram | 1tb pcie ssd)',\n",
              "        16, 1],\n",
              "       ['2022 hp fhd ips laptop, ryzen 3 processor up to 3.35ghz, 14-inch, 4gb ram, 1tb storage, super-fast wifi, windows 11, hdmi, dale silver (renewed)',\n",
              "        4, 1],\n",
              "       ['hp 17-cn1053cl home & business laptop, intel core i5-1155g7, 12gb ddr4 ram, 1tb hdd, iris xe graphics, windows 11 home (4s324ua#aba) (renewed)',\n",
              "        12, 1],\n",
              "       ['hp 2022 newest 15.6 hd micro-edge laptop，8-cores amd ryzen 7 5700u(up to 4.3ghz), 16gb ddr4 ram, 1tb pcie ssd, full-size kb, wifi 6, bluetooth 5.2, hdmi, windows 11, silver, w/ 3in1 accessories',\n",
              "        16, 1],\n",
              "       ['hp - spectre x360 2-in-1 13.5\" 3k2k oled touchscreen laptop - intel evo core i7 1195g7 2x tb4 mpp 2.0 tilt pen included windows 11 home+ hdmi cable (16gb ram | 1tb pcie ssd+32gb intel optane)',\n",
              "        16, 1],\n",
              "       ['hp victus gaming laptop, amd ryzen 7 5800h processor, geforce rtx 3050 ti, 15.6\" fhd 144hz ips display, webcam, wifi 6, hdmi, bluetooth, enlarged touchpad, windows 11, silver (32gb ram | 1tb ssd)',\n",
              "        32, 1],\n",
              "       ['2022 hp pavilion 17.3 inch ips fhd laptop, intel core i5-1135g7 (beats i7-1065g7), iris xe graphics, 16gb ram, 1tb pcie ssd, backlit keyboard, wifi 5, long battery life, webcam, windows 11',\n",
              "        16, 1],\n",
              "       ['hp victus gaming laptop, amd ryzen 7 5800h processor, geforce rtx 3050 ti, 15.6\" fhd 144hz ips display, webcam, wifi 6, hdmi, bluetooth, enlarged touchpad, windows 11, silver (32gb ram | 1tb ssd)',\n",
              "        32, 1],\n",
              "       ['2022 newest hp pavilion x360 2-in-1 laptop, 14 inch fhd multi-touch display, intel core i5-1135g7 (beats i7-1065g7), 16gb ram, 1tb ssd, ,windows 11 home, bundle with jawfoal',\n",
              "        16, 1],\n",
              "       ['hp pavilion 15.6\" touchscreen laptop - 10-core 12th gen intel core i5-1235u - 1080p - windows 11 - intel® iris® xe graphics - w/hdmi cable (32gb ram | 1tb pcie ssd)',\n",
              "        32, 1],\n",
              "       ['2022 newest hp pavilion x360 2-in-1 laptop, 14 inch fhd multi-touch display, intel core i5-1135g7 (beats i7-1065g7), 16gb ram, 1tb ssd, ,windows 11 home, bundle with jawfoal',\n",
              "        16, 1],\n",
              "       ['hp 17 laptop, 17.3\" hd+ touchscreen, amd ryzen 5 5625u, 32gb ddr4 ram, 1tb pcie nvme ssd, webcam, wi-fi, bluetooth, windows 11 home, silver',\n",
              "        32, 1],\n",
              "       ['lincplus p3 14 inch thin and light laptop pc, 4gb ram 128gb emmc 1080p full hd ips computer, intel celeron dual-core, mini notebook,windows 10 home in s mode,uk keyboard white',\n",
              "        128, 128],\n",
              "       ['samsung galaxy book2 pro 13.3” 256gb laptop computer w/ 8gb ram, 12th gen intel core i5 evo certified processor, amoled screen, long lasting battery, thin design, 2022, us version, silver',\n",
              "        8, 8],\n",
              "       ['dell 2022 newest inspiron 15 3000 series laptop, 15.6\" fhd touchscreen anti-glare, 10th gen intel core i5-1035g1 quad-core processor, hdmi, webcam, windows 11, black (16gb ram | 1 tb ssd)',\n",
              "        16, 1],\n",
              "       ['dell xps 13 9320 plus 13.4\" laptop intel core i5-1240p (12-core) 512gb pcie ssd 16gb ram fhd+ (1920x1200) infinityedge touch win 11 pro (renewed) (silver)',\n",
              "        16, 16],\n",
              "       ['dell latitude 5400 14\" laptop intel core i5-8365u 256gb pcie ssd 16gb ram full hd (1920x1080) hd webcam win 10 pro (certified refurb)',\n",
              "        16, 16],\n",
              "       ['asus zenbook 14x 14 16:10 oled 2.8k (2880 x 1800) touch laptop core i7-1165g7 nvidia geforce mx450 win11 pro 550 nits 100% dci-p3 pantone backlit kb harman / kardon w/hdmi (16gb ram | 1tb pcie ssd)',\n",
              "        16, 1],\n",
              "       ['asus zenbook 14\" oled 2.8k (2880 x 1800) touchscreen laptop core i7-1165g7 nvidia geforce mx450 550 nits 100% dci-p3 pantone backlit kb harman / kardon win11 pro w/mousepad (16gb ram | 1tb pcie ssd)',\n",
              "        16, 1],\n",
              "       ['asus 2022 newest rog zephyrus 14\" fhd 144hz gaming laptop - amd ryzen 7 5800hs - nvidia geforce rtx 3060 - moonlight white w/mouse pad (40gb ram|1tb pcie ssd)',\n",
              "        40, 1],\n",
              "       ['asus rog zephyrus s15 gaming laptop, 300hz 15.6\" fhd 3ms ips level, intel core i7-10875h, nvidia geforce rtx 2080 super, 32gb ddr4, 1tb raid 0 ssd, wi-fi 6, per-key rgb, windows 10 pro, gx502lxs-xs79',\n",
              "        32, 1],\n",
              "       ['asus rog zephyrus g15 15.6\" 165hz qhd (2560x1440) slim gaming laptop, 8 cores amd ryzen 9 5900hs, geforce rtx 3060, 100% dci-p3 pantone, rgb backlit kb, wi-fi 6 (24gb ram | 1tb pcie ssd)',\n",
              "        24, 1],\n",
              "       ['asus laptop l406 thin and light laptop, 14” hd display, intel celeron n4000 processor, 4gb ram, 64gb emmc storage, wi-fi 5, windows 10, microsoft 365, slate gray, l406ma-wh02',\n",
              "        4, 1],\n",
              "       ['asus ux303la-ds52t laptop (windows 8.1, intel core i5-5200u 2.20 ghz, 13\" led-lit screen, storage: 256 gb, ram: 8 gb) silver',\n",
              "        8, 8],\n",
              "       ['asus slim vivobook s 14x laptop 14.5\" oled 2.8k(2880 x 1800 100% dci-p3 120hz 16:10 600nits) 14-core intel evo 12th gen i7-12700h thunderbolt 4 wi-fi 6e +hdmi cable (24gb ram | 1tb pcie ssd)',\n",
              "        24, 1],\n",
              "       ['asus vivobook pro 16x 16 oled 4k uhd wquxga (3840 x 2400) slim laptop core i7-11370h nvidia geforce rtx 3050 backlit kb 100% dci-p3 pantone win11 pro w/hdmi (16gb ram | 2tb ssd)',\n",
              "        16, 2],\n",
              "       ['asus vivobook x712 laptop; 17.3\" hd+ 1600x900; intel i5-1035g1 4-core; 12gb ram, 1tb hdd; intel uhd; bluetooth, win 11 home s with 1yr antivirus',\n",
              "        12, 1],\n",
              "       ['asus rog zephyrus s15 gaming laptop, 300hz 15.6\" fhd 3ms ips level, intel core i7-10875h, nvidia geforce rtx 2080 super, 32gb ddr4, 1tb raid 0 ssd, wi-fi 6, per-key rgb, windows 10 pro, gx502lxs-xs79',\n",
              "        32, 1],\n",
              "       ['asus chromebook vibe cx34 flip cloud gaming laptop with stylus, 14\" 144 hz touch display (1920x1200), intel® core™ i5-1235u processor, 256gb ssd, 8gb ram, chromeos, pearl white, cx3401fba-dh586t-s',\n",
              "        8, 8],\n",
              "       ['dell xps 15 9520 (latest model) intel 12th gen core i9-12900hk (14-core) 2tb pcie ssd 64gb ddr5 ram fhd+ non touch rtx 3050ti win 11 pro (certified refurb)',\n",
              "        64, 1],\n",
              "       ['dell xps 15 9520 (latest model) intel 12th gen core i7-12700h (14-core) 512gb pcie ssd 16gb ddr5 ram fhd+ non touch rtx 3050 win 11 pro (renewed)',\n",
              "        16, 16],\n",
              "       ['dell latitude 5491 laptop 14 - intel core i5 8th gen - i5-8300h - quad core 4ghz - 512gb ssd - 16gb ram - 1920x1080 fhd - windows 10 pro (renewed)',\n",
              "        16, 16],\n",
              "       ['asus vivobook pro 16x oled 16\" 4k uhd 16:10 display slim laptop intel core i7-11370h nvidia geforce rtx 3050 backlit kb 100% dci-p3 pantone win11 pro w/hdmi (16gb ram | 1tb ssd)',\n",
              "        16, 1],\n",
              "       ['asus expertbook b9450 thin and light business-laptop, 14â fhd, intel core i7-10510u-processor, 512gb pcie ssd, 16gb-ram, windows 10 pro, up to 24 hrs-battery life,-sleeve, b9450fa-xs74 (renewed)',\n",
              "        16, 16],\n",
              "       ['asus 15.6\" rog strix g15 laptop - amd ryzen 7 4800h - geforce rtx 3060 – win 11 home-with hdmi cable (32gb ram | 1tb pcie ssd)',\n",
              "        32, 1],\n",
              "       ['asus zenbook 14x oled laptop, 14” 2.8k 16:10 display, intel core i7-12700h cpu, intel iris xe graphics, 16gb ram, 1tb ssd, windows 11 home, wi-fi 6e, pine grey, ux5401za-ps74',\n",
              "        16, 1],\n",
              "       ['dell latitude 5400 14\" laptop intel core i5-8365u 256gb pcie ssd 16gb ram full hd (1920x1080) hd webcam win 10 pro (certified refurb)',\n",
              "        16, 16],\n",
              "       ['asus tuf gaming f17 gaming & entertainment laptop (intel i7-12700h 14-core, 16gb ddr5 4800mhz ram, 1tb ssd, geforce rtx 3050 ti, 17.3\" 144hz win 11 home) with d6000 dock',\n",
              "        16, 1],\n",
              "       ['15.6\" s15 n2 full hd windows 11 professional slim n light laptop - intel n4020 - 128gb storage, 4gb ram, intel dual-core dedicated num-pad, dual-band wifi, expandable storage',\n",
              "        4, 4],\n",
              "       ['asus rog zephyrus duo 16 gaming laptop, 16” 165hz rog nebula hdr qhd 16:10 display, nvidia geforce rtx 3080 ti, amd ryzen 9 6900hx, 32gb ddr5, 2tb ssd, windows 11 pro, gx650rx-xs97',\n",
              "        32, 2],\n",
              "       ['asus zenbook 14x 14 16:10 oled 2.8k (2880 x 1800) touchscreen slim laptop | core i7-1165g7 | nvidia geforce mx450 | windows 11 pro | backlit kb | harman / kardon | w/hdmi (16gb ram | 1tb pcie ssd)',\n",
              "        16, 1],\n",
              "       ['samsung notebook 9 pen 13.3”-intel core i7-8gb memory-512gb ssd (renewed)',\n",
              "        512, 512],\n",
              "       ['asus vivobook s 14x 14.5 oled 2.8k 120hz 16:10 600nits laptop 14-core intel evo 12th gen i7-12700h 100% dci-p3 0.2ms pantone backlit kb wi-fi 6e thunderbolt 4 dts w/hdmi (16gb ram | 1tb pcie ssd)',\n",
              "        16, 1],\n",
              "       ['asus zenbook pro 17 17.3” touch display, 165hz refresh rate, amd ryzen 9 6900hx cpu, geforce rtx 3050 graphics, 16gb ram, 1tb ssd, windows 11 home, tech black, um6702rc-ds94t',\n",
              "        16, 1],\n",
              "       ['samsung - galaxy book2 pro 360 2-in-1 15.6” amoled touch screen laptop - intel 12th gen evo core i7 1260p lpddr5 memory s pen w/mouse pad – silver (16gb ram | 1tb ssd)',\n",
              "        16, 1],\n",
              "       ['asus vivobook pro 15x oled laptop, 15.6” oled display, intel core\\xa0i7-12650h cpu, nvidia geforce rtx 3060 gpu, 16gb ram, 1tb ssd, windows 11 home, black, k6501zm-eb74',\n",
              "        16, 1],\n",
              "       ['samsung galaxy chromebook enterprise (256gb storage, 8gb ram), mercury gray - xe931qca-k01us',\n",
              "        8, 8],\n",
              "       ['dell latitude 13 5330 laptop - 13.3\" wva fhd touch screen display - 3.6 ghz intel core i7-1265u 10-core (12th gen) - 256gb ssd - 16gb ram - windows 11 pro',\n",
              "        16, 16],\n",
              "       ['lincplus p3 14 inch thin and light laptop pc, 4gb ram 128gb emmc 1080p full hd ips computer, intel celeron dual-core, mini notebook,windows 10 home in s mode,uk keyboard white',\n",
              "        128, 128],\n",
              "       ['dell latitude 7420 14\" intel core i5-1145g7 256gb pcie ssd 16gb fhd touch (1920x1080) 300 nit ir cam win 11 pro (certified refurb)',\n",
              "        16, 16],\n",
              "       ['2022 newest asus chromebook 17.3\" fhd 1080p widescreen light laptop, intel celeron n4500 (up to 2.8ghz), 4gb ram, 32gb emmc,hd webcam,uhd graphics, wifi 6, 17+ hours battery,chrome os,w/marxsolcables',\n",
              "        32, 32],\n",
              "       ['asus - rog zephyrus 14” wqxga 120hz gaming laptop – amd ryzen 9 6900hs– amd radeon rx 6700s-window 11 home，with hdmi cable(16gb ram | 1tb ssd)',\n",
              "        16, 1],\n",
              "       ['asus zenbook 14x oled space edition laptop, 14” 2.8k 16:10 oled touch display, intel core i9-12900h cpu, 32gb ram, 1tb ssd, windows 11 pro, zenvision display, ux5401zas-xs99t',\n",
              "        32, 1],\n",
              "       ['dell precision 5570 15.6\" workstation (2022 model) intel 12th gen i9-12900h(14-core) 1tb ssd 32gb ddr5 ram nvidia rtx a2000 fhd+ (1920x1200) non-touch win 11 pro (renewed)',\n",
              "        32, 32],\n",
              "       ['dell precision 5570 15.6\" workstation (2022 model) intel 12th gen i7-12700h(14-core) 512gb ssd 32gb ddr5 ram nvidia rtx a2000 fhd+ (1920x1200) non-touch win 11 pro (renewed)',\n",
              "        32, 32],\n",
              "       ['asus rog zephyrus g15 ultra slim gaming laptop, 15.6” 165hz qhd display, geforce rtx 3080, amd ryzen 9 5900hs, 16gb ddr4, 1tb pcie nvme ssd, wi-fi 6, windows 10, eclipse gray, ga503qs-bs96q',\n",
              "        16, 1],\n",
              "       ['samsung chromebook plus (wifi + lte verizon) chrome os 12.2\" hd touchscreen intel celeron 3965y 4gb ram 32gb emmc - xe525qbb-k01us (stealth silver)',\n",
              "        4, 1],\n",
              "       ['dell xps 15 9520 (latest model) intel 12th gen core i9-12900hk (14-core) 1tb pcie ssd 32gb ddr5 ram fhd+ non touch rtx 3050ti win 11 pro (certified refurb)',\n",
              "        32, 32],\n",
              "       ['dell xps 13 9320 plus 13.4\" laptop intel core i5-1240p (12-core) 512gb pcie ssd 16gb ram 3.5k oled (3456x2160) infinityedge touch win 11 pro (renewed)',\n",
              "        16, 16],\n",
              "       ['dell latitude 3420 laptop 14” fhd - 11th generation intel core i7- 1165g7 – 512gb ssd – 32gb ddr4 - windows 10 pro - intel iris xe graphics - new',\n",
              "        32, 32],\n",
              "       ['asus rog strix g15 (2022) gaming laptop, 15.6” 300hz ips fhd display, nvidia geforce rtx 3060, amd ryzen 7 6800h, 16gb ddr5, 1tb ssd, rgb keyboard, windows 11 home, g513rm-is74',\n",
              "        16, 1],\n",
              "       ['asus newest vivobook 17.3\" hd+ thin and light laptop, intel core i5-1035g1 processor, hd webcam, hdmi, wi-fi 5, bluetooth, transparent silver, windows 11 (20gb ram | 1tb sdd)',\n",
              "        20, 1],\n",
              "       ['lincplus laptop 14 inch thin light pc,intel celeron full hd ips computer 4gb ddr 64gb emmc mini metal netbook,support 128gb tf cardand 1tb ssd expansion,windows 10 home in s mode',\n",
              "        64, 64],\n",
              "       ['samsung - galaxy book2 pro 360 2-in-1 15.6” amoled touch screen laptop - intel 12th gen evo core i7 1260p lpddr5 memory s pen w/mouse pad – silver (16gb ram | 1tb ssd)',\n",
              "        16, 1],\n",
              "       ['microsoft surface pro 7 – 12.3\" touch-screen - 10th gen intel core i7 - 16gb memory – 1tb ssd – platinum',\n",
              "        16, 1],\n",
              "       ['microsoft surface laptop studio 14.4-inch touchscreen, 512gb ssd, i7, 16gb ram with windows 10 pro (core i7-11370h, wi-fi, geforce rtx 3050 ti, latest model) platinum, abr-00026',\n",
              "        16, 16],\n",
              "       ['microsoft surface laptop 4 13.5-inch touchscreen 512gb ssd i7 16gb ram with windows 10 pro (core i7-1185g7, wi-fi, latest model) matte black, 5f1-00001',\n",
              "        16, 16],\n",
              "       ['microsoft surface pro 8 - 13\" touchscreen - intel® evo platform core™ i7 - 16gb memory - 1tb ssd - device only - platinum (latest model)',\n",
              "        16, 1],\n",
              "       ['microsoft surface book 3 (snk-00001) | 15in (3240 x 2160) touch-screen | intel core i7 processor | 32gb ram | 2tb ssd storage | windows 10 pro | geforce gtx 1660 gpu',\n",
              "        32, 2],\n",
              "       ['microsoft surface laptop go 12.4\" light weight, touchscreen, 10th gen intel core i5-1035g1, intel uhd graphics, 4gb ram, 64gb ssd, windows 10/11 pro, webcam, wifi 6, platinum, with mtc stylus pen',\n",
              "        64, 64],\n",
              "       ['microsoft surface book 2 15\" (intel core i7, 16gb ram, 1 tb) (renewed)',\n",
              "        16, 1],\n",
              "       ['microsoft surface laptop 2 (intel core i7, 16gb ram, 1tb) - platinum',\n",
              "        8, 1],\n",
              "       ['microsoft surface laptop 4 13.5-inch touchscreen 512gb ssd i7 16gb ram with windows 10 pro (core i7-1185g7, wi-fi, latest model) matte black, 5f1-00001',\n",
              "        16, 16],\n",
              "       ['samsung 15.6” galaxy book2 pro with intel arc laptop computer, i7 / 32gb / 1tb, 12th gen intel core processor, evo certified, lightweight, 2022 model, graphite',\n",
              "        1024, 1],\n",
              "       ['microsoft surface laptop go 12.4\" light weight, touchscreen, 10th gen intel core i5-1035g1, intel uhd graphics, 4gb ram, 64gb ssd, win10p/win11p, webcam, wifi 6, platinum, with mtc stylus pen',\n",
              "        64, 64],\n",
              "       ['microsoft surface laptop go 12.4\" light weight, touchscreen, 10th gen intel core i5-1035g1, intel uhd graphics, 4gb ram, 64gb ssd, windows 10/11 pro, webcam, wifi 6, platinum, with mtc stylus pen',\n",
              "        64, 64]], dtype=object)"
            ]
          },
          "metadata": {},
          "execution_count": 2419
        }
      ]
    },
    {
      "cell_type": "markdown",
      "source": [
        "**Observations**\n",
        "- Thre are more than 200 samples present inside the dataset where ram size is greater than the disk size"
      ],
      "metadata": {
        "id": "Zu1na8ekDaYG"
      }
    },
    {
      "cell_type": "code",
      "source": [
        "# rows with ram size greater than disk size\n",
        "df_ram_disk = df[df.Ram >= df.Disk_size][['Title', 'Ram', 'Disk_size']]"
      ],
      "metadata": {
        "id": "37lkKfwSC_R6"
      },
      "execution_count": 2420,
      "outputs": []
    },
    {
      "cell_type": "code",
      "source": [
        "df_ram_disk.shape"
      ],
      "metadata": {
        "colab": {
          "base_uri": "https://localhost:8080/"
        },
        "id": "GNAXKWVtDZpj",
        "outputId": "075e6d62-2b5c-44d4-d260-b9e39dfd825c"
      },
      "execution_count": 2421,
      "outputs": [
        {
          "output_type": "execute_result",
          "data": {
            "text/plain": [
              "(202, 3)"
            ]
          },
          "metadata": {},
          "execution_count": 2421
        }
      ]
    },
    {
      "cell_type": "code",
      "source": [
        "def ram_disk_retrieval(title):\n",
        "  \"\"\"\n",
        "  The function is responsible for retrieving the ram from the title.\n",
        "  Args\n",
        "  title : The title of the laptop.\n",
        "  Returns\n",
        "  disk : The ram and disk size of the laptop.\n",
        "  \"\"\"\n",
        "\n",
        "  list = re.findall(r\"(\\d+)\\s*(?:gb|tb)\", title)\n",
        "  memories = [unit_conversion(temp) for temp in list]\n",
        "  return min(memories), max(memories)\n",
        "\n",
        "df_ram_disk['Ram'], df_ram_disk['Disk_size'] = zip(*df_ram_disk.Title.apply(ram_disk_retrieval))"
      ],
      "metadata": {
        "id": "UxIh7l7TFpVr"
      },
      "execution_count": 2422,
      "outputs": []
    },
    {
      "cell_type": "code",
      "source": [
        "df_ram_disk[df_ram_disk.Ram >= df_ram_disk.Disk_size][['Title', 'Ram', 'Disk_size']].values"
      ],
      "metadata": {
        "colab": {
          "base_uri": "https://localhost:8080/"
        },
        "id": "gY6XxZlmK_dZ",
        "outputId": "c348270b-b0fa-415f-ef3e-e22ff2a64775"
      },
      "execution_count": 2424,
      "outputs": [
        {
          "output_type": "execute_result",
          "data": {
            "text/plain": [
              "array([['acer 11.6\" touchscreen convertible spin 311 chromebook laptop, 32gb storage, silver (cp311-3h-k23x)',\n",
              "        32, 32]], dtype=object)"
            ]
          },
          "metadata": {},
          "execution_count": 2424
        }
      ]
    },
    {
      "cell_type": "code",
      "source": [
        "# merging back with the original dataframe\n",
        "df.loc[df_ram_disk.index, ['Ram', 'Disk_size']] = df_ram_disk[['Ram', 'Disk_size']]"
      ],
      "metadata": {
        "id": "x_82fDnVLE3E"
      },
      "execution_count": 2425,
      "outputs": []
    },
    {
      "cell_type": "code",
      "source": [
        "df[df.Ram >= df.Disk_size][['Title', 'Ram', 'Disk_size']].shape"
      ],
      "metadata": {
        "colab": {
          "base_uri": "https://localhost:8080/"
        },
        "id": "enCozU7LLdoC",
        "outputId": "af4c14d6-ef19-4d0c-c446-622bad1364e1"
      },
      "execution_count": 2426,
      "outputs": [
        {
          "output_type": "execute_result",
          "data": {
            "text/plain": [
              "(1, 3)"
            ]
          },
          "metadata": {},
          "execution_count": 2426
        }
      ]
    },
    {
      "cell_type": "code",
      "source": [],
      "metadata": {
        "id": "a4xLFXIzLmES"
      },
      "execution_count": null,
      "outputs": []
    }
  ]
}