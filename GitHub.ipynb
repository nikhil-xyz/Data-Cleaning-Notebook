{
  "nbformat": 4,
  "nbformat_minor": 0,
  "metadata": {
    "colab": {
      "provenance": [],
      "authorship_tag": "ABX9TyMM2JF8Jc3SfMNwTebv5uBY",
      "include_colab_link": true
    },
    "kernelspec": {
      "name": "python3",
      "display_name": "Python 3"
    },
    "language_info": {
      "name": "python"
    }
  },
  "cells": [
    {
      "cell_type": "markdown",
      "metadata": {
        "id": "view-in-github",
        "colab_type": "text"
      },
      "source": [
        "<a href=\"https://colab.research.google.com/github/nikhil-xyz/Data-Cleaning-Notebook/blob/main/GitHub.ipynb\" target=\"_parent\"><img src=\"https://colab.research.google.com/assets/colab-badge.svg\" alt=\"Open In Colab\"/></a>"
      ]
    },
    {
      "cell_type": "markdown",
      "source": [
        "# **Github Indian users deep data**"
      ],
      "metadata": {
        "id": "M6CO_Hcoj6aV"
      }
    },
    {
      "cell_type": "markdown",
      "source": [
        "This dataset provides a rich snapshot of GitHub users from India, capturing various aspects of their public profiles. It's a valuable resource for analyzing trends in coding activity, repository management, and user engagement within the Indian developer community. Whether you're interested in exploring how developers grow their followers, examining language preferences, or identifying patterns in contributions and achievements, this dataset offers multiple points of analysis.\n",
        "\n",
        "source(kaggle) : https://www.kaggle.com/datasets/architty108/github-indian-users-deep-data\n",
        "\n",
        "###**Key Features :**\n",
        "\n",
        "- **Username** : GitHub usernames of the individuals.\n",
        "- **Gender Pronoun** : Preferred gender pronouns (if available).\n",
        "- **Followings** : Number of people each user follows.\n",
        "- **Joining Year** : The year they joined GitHub.\n",
        "- **Contributions** : Number of contributions made in the last year.\n",
        "- **Achievements** : Number of GitHub achievements unlocked by the user.\n",
        "- **Stars** : Total number of stars on their repositories.\n",
        "- **Repositories** : Number of repositories created.\n",
        "- **Followers** : Number of followers each user has.\n",
        "- **Location** : User location details, primarily from India.\n",
        "- **Languages** : Primary programming language used by the individual.\n",
        "- **Social Links** : Links to their other social platforms (LinkedIn, personal websites, etc.).\n",
        "- **Sorting Type** : Categorized based on followers, repositories, or recent joining."
      ],
      "metadata": {
        "id": "yjK3Dflejftq"
      }
    },
    {
      "cell_type": "markdown",
      "source": [
        "Dataset has been downloaded from the kaggle and stored in one of the github repository.\n",
        "\n",
        "repository_raw_dataset_url = 'https://github.com/nikhil-xyz/datasets/raw/main/GitHub.zip'"
      ],
      "metadata": {
        "id": "eN_rYME9DjCI"
      }
    },
    {
      "source": [
        "import requests\n",
        "import zipfile\n",
        "from io import BytesIO\n",
        "\n",
        "# Updated URL to direct download link\n",
        "url = 'https://github.com/nikhil-xyz/datasets/raw/main/GitHub.zip'\n",
        "\n",
        "archieve = requests.get(url)\n",
        "\n",
        "# Check if the request was successful\n",
        "if archieve.status_code == 200:\n",
        "    with zipfile.ZipFile(BytesIO(archieve.content), 'r') as zip_content:\n",
        "        zip_content.extractall()\n",
        "else:\n",
        "    print(f\"Failed to download the file. Status code: {archieve.status_code}\")"
      ],
      "cell_type": "code",
      "metadata": {
        "id": "DUXJHXZQKOnM"
      },
      "execution_count": 109,
      "outputs": []
    },
    {
      "cell_type": "code",
      "source": [
        "import pandas as pd\n",
        "import matplotlib.pyplot as plt\n",
        "import seaborn as sns"
      ],
      "metadata": {
        "id": "TFQuY0NwKDox"
      },
      "execution_count": 110,
      "outputs": []
    },
    {
      "cell_type": "code",
      "source": [
        "df = pd.read_csv('/content/Github Indian users deep data.csv')"
      ],
      "metadata": {
        "id": "4S3xcT20Ki4v"
      },
      "execution_count": 111,
      "outputs": []
    },
    {
      "cell_type": "code",
      "source": [
        "df.head()"
      ],
      "metadata": {
        "colab": {
          "base_uri": "https://localhost:8080/",
          "height": 538
        },
        "id": "fHKFJu8NKlY_",
        "outputId": "cafd9e7a-e7dc-4fe5-e29b-de2be179dc0f"
      },
      "execution_count": 112,
      "outputs": [
        {
          "output_type": "execute_result",
          "data": {
            "text/plain": [
              "   Unnamed: 0         username gender_pronoun followings  joining_year  \\\n",
              "0           0    SumithSPrince         he/him          1        2021.0   \n",
              "1           1      infysumanta            NaN         38        2018.0   \n",
              "2           2  codingwithkrish            NaN          8        2021.0   \n",
              "3           3   anirbanbose401         he/him          3        2023.0   \n",
              "4           4    neilrehani101         he/him          3        2021.0   \n",
              "\n",
              "   last_year_contributions  achievements_num stars  has_readme  \\\n",
              "0                      2.0                 0     0       False   \n",
              "1                    623.0                 5    87        True   \n",
              "2                    204.0                 6     9        True   \n",
              "3                      2.0                 0     0       False   \n",
              "4                      6.0                 0     0       False   \n",
              "\n",
              "                  social_link                    social_platform  \\\n",
              "0                         NaN                                NaN   \n",
              "1  https://sumantakabiraj.com                      X@infysumanta   \n",
              "2       http://krishgupta.com                                NaN   \n",
              "3  https://www.soa.ac.in/iter  LinkedInin/anirban-bose-4a238b245   \n",
              "4                         NaN                                NaN   \n",
              "\n",
              "                                       works_for    status             name  \\\n",
              "0                                            NaN       NaN         Sumith S   \n",
              "1                                            NaN  Focusing  Sumanta Kabiraj   \n",
              "2                                       Synkrama       NaN      Krish Gupta   \n",
              "3  Institute of Technical Education and Research       NaN     ANIRBAN BOSE   \n",
              "4                                            NaN       NaN      Neil Rehani   \n",
              "\n",
              "           location repositories followers language          sorting type  \\\n",
              "0  Bangalore, India            1         0     Java  Most recently joined   \n",
              "1    Kolkata, India          445         9     Java     Most repositories   \n",
              "2             India           37         6     Java        Most followers   \n",
              "3             India            3         0     Java  Most recently joined   \n",
              "4             India           29         0   Python      Fewest followers   \n",
              "\n",
              "                                         description  \n",
              "0  Hello 👋\\n\\nGreat you visited my profile!\\n\\nI'...  \n",
              "1  Sculpting the digital frontier with a mastery ...  \n",
              "2  I am a B.Tech Professional students from Vishw...  \n",
              "3  I've always been interested in programming. So...  \n",
              "4  I am a keen learner and want to explore nearly...  "
            ],
            "text/html": [
              "\n",
              "  <div id=\"df-a4614a88-667a-453a-b080-362ff1d6b03b\" class=\"colab-df-container\">\n",
              "    <div>\n",
              "<style scoped>\n",
              "    .dataframe tbody tr th:only-of-type {\n",
              "        vertical-align: middle;\n",
              "    }\n",
              "\n",
              "    .dataframe tbody tr th {\n",
              "        vertical-align: top;\n",
              "    }\n",
              "\n",
              "    .dataframe thead th {\n",
              "        text-align: right;\n",
              "    }\n",
              "</style>\n",
              "<table border=\"1\" class=\"dataframe\">\n",
              "  <thead>\n",
              "    <tr style=\"text-align: right;\">\n",
              "      <th></th>\n",
              "      <th>Unnamed: 0</th>\n",
              "      <th>username</th>\n",
              "      <th>gender_pronoun</th>\n",
              "      <th>followings</th>\n",
              "      <th>joining_year</th>\n",
              "      <th>last_year_contributions</th>\n",
              "      <th>achievements_num</th>\n",
              "      <th>stars</th>\n",
              "      <th>has_readme</th>\n",
              "      <th>social_link</th>\n",
              "      <th>social_platform</th>\n",
              "      <th>works_for</th>\n",
              "      <th>status</th>\n",
              "      <th>name</th>\n",
              "      <th>location</th>\n",
              "      <th>repositories</th>\n",
              "      <th>followers</th>\n",
              "      <th>language</th>\n",
              "      <th>sorting type</th>\n",
              "      <th>description</th>\n",
              "    </tr>\n",
              "  </thead>\n",
              "  <tbody>\n",
              "    <tr>\n",
              "      <th>0</th>\n",
              "      <td>0</td>\n",
              "      <td>SumithSPrince</td>\n",
              "      <td>he/him</td>\n",
              "      <td>1</td>\n",
              "      <td>2021.0</td>\n",
              "      <td>2.0</td>\n",
              "      <td>0</td>\n",
              "      <td>0</td>\n",
              "      <td>False</td>\n",
              "      <td>NaN</td>\n",
              "      <td>NaN</td>\n",
              "      <td>NaN</td>\n",
              "      <td>NaN</td>\n",
              "      <td>Sumith S</td>\n",
              "      <td>Bangalore, India</td>\n",
              "      <td>1</td>\n",
              "      <td>0</td>\n",
              "      <td>Java</td>\n",
              "      <td>Most recently joined</td>\n",
              "      <td>Hello 👋\\n\\nGreat you visited my profile!\\n\\nI'...</td>\n",
              "    </tr>\n",
              "    <tr>\n",
              "      <th>1</th>\n",
              "      <td>1</td>\n",
              "      <td>infysumanta</td>\n",
              "      <td>NaN</td>\n",
              "      <td>38</td>\n",
              "      <td>2018.0</td>\n",
              "      <td>623.0</td>\n",
              "      <td>5</td>\n",
              "      <td>87</td>\n",
              "      <td>True</td>\n",
              "      <td>https://sumantakabiraj.com</td>\n",
              "      <td>X@infysumanta</td>\n",
              "      <td>NaN</td>\n",
              "      <td>Focusing</td>\n",
              "      <td>Sumanta Kabiraj</td>\n",
              "      <td>Kolkata, India</td>\n",
              "      <td>445</td>\n",
              "      <td>9</td>\n",
              "      <td>Java</td>\n",
              "      <td>Most repositories</td>\n",
              "      <td>Sculpting the digital frontier with a mastery ...</td>\n",
              "    </tr>\n",
              "    <tr>\n",
              "      <th>2</th>\n",
              "      <td>2</td>\n",
              "      <td>codingwithkrish</td>\n",
              "      <td>NaN</td>\n",
              "      <td>8</td>\n",
              "      <td>2021.0</td>\n",
              "      <td>204.0</td>\n",
              "      <td>6</td>\n",
              "      <td>9</td>\n",
              "      <td>True</td>\n",
              "      <td>http://krishgupta.com</td>\n",
              "      <td>NaN</td>\n",
              "      <td>Synkrama</td>\n",
              "      <td>NaN</td>\n",
              "      <td>Krish Gupta</td>\n",
              "      <td>India</td>\n",
              "      <td>37</td>\n",
              "      <td>6</td>\n",
              "      <td>Java</td>\n",
              "      <td>Most followers</td>\n",
              "      <td>I am a B.Tech Professional students from Vishw...</td>\n",
              "    </tr>\n",
              "    <tr>\n",
              "      <th>3</th>\n",
              "      <td>3</td>\n",
              "      <td>anirbanbose401</td>\n",
              "      <td>he/him</td>\n",
              "      <td>3</td>\n",
              "      <td>2023.0</td>\n",
              "      <td>2.0</td>\n",
              "      <td>0</td>\n",
              "      <td>0</td>\n",
              "      <td>False</td>\n",
              "      <td>https://www.soa.ac.in/iter</td>\n",
              "      <td>LinkedInin/anirban-bose-4a238b245</td>\n",
              "      <td>Institute of Technical Education and Research</td>\n",
              "      <td>NaN</td>\n",
              "      <td>ANIRBAN BOSE</td>\n",
              "      <td>India</td>\n",
              "      <td>3</td>\n",
              "      <td>0</td>\n",
              "      <td>Java</td>\n",
              "      <td>Most recently joined</td>\n",
              "      <td>I've always been interested in programming. So...</td>\n",
              "    </tr>\n",
              "    <tr>\n",
              "      <th>4</th>\n",
              "      <td>4</td>\n",
              "      <td>neilrehani101</td>\n",
              "      <td>he/him</td>\n",
              "      <td>3</td>\n",
              "      <td>2021.0</td>\n",
              "      <td>6.0</td>\n",
              "      <td>0</td>\n",
              "      <td>0</td>\n",
              "      <td>False</td>\n",
              "      <td>NaN</td>\n",
              "      <td>NaN</td>\n",
              "      <td>NaN</td>\n",
              "      <td>NaN</td>\n",
              "      <td>Neil Rehani</td>\n",
              "      <td>India</td>\n",
              "      <td>29</td>\n",
              "      <td>0</td>\n",
              "      <td>Python</td>\n",
              "      <td>Fewest followers</td>\n",
              "      <td>I am a keen learner and want to explore nearly...</td>\n",
              "    </tr>\n",
              "  </tbody>\n",
              "</table>\n",
              "</div>\n",
              "    <div class=\"colab-df-buttons\">\n",
              "\n",
              "  <div class=\"colab-df-container\">\n",
              "    <button class=\"colab-df-convert\" onclick=\"convertToInteractive('df-a4614a88-667a-453a-b080-362ff1d6b03b')\"\n",
              "            title=\"Convert this dataframe to an interactive table.\"\n",
              "            style=\"display:none;\">\n",
              "\n",
              "  <svg xmlns=\"http://www.w3.org/2000/svg\" height=\"24px\" viewBox=\"0 -960 960 960\">\n",
              "    <path d=\"M120-120v-720h720v720H120Zm60-500h600v-160H180v160Zm220 220h160v-160H400v160Zm0 220h160v-160H400v160ZM180-400h160v-160H180v160Zm440 0h160v-160H620v160ZM180-180h160v-160H180v160Zm440 0h160v-160H620v160Z\"/>\n",
              "  </svg>\n",
              "    </button>\n",
              "\n",
              "  <style>\n",
              "    .colab-df-container {\n",
              "      display:flex;\n",
              "      gap: 12px;\n",
              "    }\n",
              "\n",
              "    .colab-df-convert {\n",
              "      background-color: #E8F0FE;\n",
              "      border: none;\n",
              "      border-radius: 50%;\n",
              "      cursor: pointer;\n",
              "      display: none;\n",
              "      fill: #1967D2;\n",
              "      height: 32px;\n",
              "      padding: 0 0 0 0;\n",
              "      width: 32px;\n",
              "    }\n",
              "\n",
              "    .colab-df-convert:hover {\n",
              "      background-color: #E2EBFA;\n",
              "      box-shadow: 0px 1px 2px rgba(60, 64, 67, 0.3), 0px 1px 3px 1px rgba(60, 64, 67, 0.15);\n",
              "      fill: #174EA6;\n",
              "    }\n",
              "\n",
              "    .colab-df-buttons div {\n",
              "      margin-bottom: 4px;\n",
              "    }\n",
              "\n",
              "    [theme=dark] .colab-df-convert {\n",
              "      background-color: #3B4455;\n",
              "      fill: #D2E3FC;\n",
              "    }\n",
              "\n",
              "    [theme=dark] .colab-df-convert:hover {\n",
              "      background-color: #434B5C;\n",
              "      box-shadow: 0px 1px 3px 1px rgba(0, 0, 0, 0.15);\n",
              "      filter: drop-shadow(0px 1px 2px rgba(0, 0, 0, 0.3));\n",
              "      fill: #FFFFFF;\n",
              "    }\n",
              "  </style>\n",
              "\n",
              "    <script>\n",
              "      const buttonEl =\n",
              "        document.querySelector('#df-a4614a88-667a-453a-b080-362ff1d6b03b button.colab-df-convert');\n",
              "      buttonEl.style.display =\n",
              "        google.colab.kernel.accessAllowed ? 'block' : 'none';\n",
              "\n",
              "      async function convertToInteractive(key) {\n",
              "        const element = document.querySelector('#df-a4614a88-667a-453a-b080-362ff1d6b03b');\n",
              "        const dataTable =\n",
              "          await google.colab.kernel.invokeFunction('convertToInteractive',\n",
              "                                                    [key], {});\n",
              "        if (!dataTable) return;\n",
              "\n",
              "        const docLinkHtml = 'Like what you see? Visit the ' +\n",
              "          '<a target=\"_blank\" href=https://colab.research.google.com/notebooks/data_table.ipynb>data table notebook</a>'\n",
              "          + ' to learn more about interactive tables.';\n",
              "        element.innerHTML = '';\n",
              "        dataTable['output_type'] = 'display_data';\n",
              "        await google.colab.output.renderOutput(dataTable, element);\n",
              "        const docLink = document.createElement('div');\n",
              "        docLink.innerHTML = docLinkHtml;\n",
              "        element.appendChild(docLink);\n",
              "      }\n",
              "    </script>\n",
              "  </div>\n",
              "\n",
              "\n",
              "<div id=\"df-790b2e4e-d7f1-4406-baa3-7649c8585b12\">\n",
              "  <button class=\"colab-df-quickchart\" onclick=\"quickchart('df-790b2e4e-d7f1-4406-baa3-7649c8585b12')\"\n",
              "            title=\"Suggest charts\"\n",
              "            style=\"display:none;\">\n",
              "\n",
              "<svg xmlns=\"http://www.w3.org/2000/svg\" height=\"24px\"viewBox=\"0 0 24 24\"\n",
              "     width=\"24px\">\n",
              "    <g>\n",
              "        <path d=\"M19 3H5c-1.1 0-2 .9-2 2v14c0 1.1.9 2 2 2h14c1.1 0 2-.9 2-2V5c0-1.1-.9-2-2-2zM9 17H7v-7h2v7zm4 0h-2V7h2v10zm4 0h-2v-4h2v4z\"/>\n",
              "    </g>\n",
              "</svg>\n",
              "  </button>\n",
              "\n",
              "<style>\n",
              "  .colab-df-quickchart {\n",
              "      --bg-color: #E8F0FE;\n",
              "      --fill-color: #1967D2;\n",
              "      --hover-bg-color: #E2EBFA;\n",
              "      --hover-fill-color: #174EA6;\n",
              "      --disabled-fill-color: #AAA;\n",
              "      --disabled-bg-color: #DDD;\n",
              "  }\n",
              "\n",
              "  [theme=dark] .colab-df-quickchart {\n",
              "      --bg-color: #3B4455;\n",
              "      --fill-color: #D2E3FC;\n",
              "      --hover-bg-color: #434B5C;\n",
              "      --hover-fill-color: #FFFFFF;\n",
              "      --disabled-bg-color: #3B4455;\n",
              "      --disabled-fill-color: #666;\n",
              "  }\n",
              "\n",
              "  .colab-df-quickchart {\n",
              "    background-color: var(--bg-color);\n",
              "    border: none;\n",
              "    border-radius: 50%;\n",
              "    cursor: pointer;\n",
              "    display: none;\n",
              "    fill: var(--fill-color);\n",
              "    height: 32px;\n",
              "    padding: 0;\n",
              "    width: 32px;\n",
              "  }\n",
              "\n",
              "  .colab-df-quickchart:hover {\n",
              "    background-color: var(--hover-bg-color);\n",
              "    box-shadow: 0 1px 2px rgba(60, 64, 67, 0.3), 0 1px 3px 1px rgba(60, 64, 67, 0.15);\n",
              "    fill: var(--button-hover-fill-color);\n",
              "  }\n",
              "\n",
              "  .colab-df-quickchart-complete:disabled,\n",
              "  .colab-df-quickchart-complete:disabled:hover {\n",
              "    background-color: var(--disabled-bg-color);\n",
              "    fill: var(--disabled-fill-color);\n",
              "    box-shadow: none;\n",
              "  }\n",
              "\n",
              "  .colab-df-spinner {\n",
              "    border: 2px solid var(--fill-color);\n",
              "    border-color: transparent;\n",
              "    border-bottom-color: var(--fill-color);\n",
              "    animation:\n",
              "      spin 1s steps(1) infinite;\n",
              "  }\n",
              "\n",
              "  @keyframes spin {\n",
              "    0% {\n",
              "      border-color: transparent;\n",
              "      border-bottom-color: var(--fill-color);\n",
              "      border-left-color: var(--fill-color);\n",
              "    }\n",
              "    20% {\n",
              "      border-color: transparent;\n",
              "      border-left-color: var(--fill-color);\n",
              "      border-top-color: var(--fill-color);\n",
              "    }\n",
              "    30% {\n",
              "      border-color: transparent;\n",
              "      border-left-color: var(--fill-color);\n",
              "      border-top-color: var(--fill-color);\n",
              "      border-right-color: var(--fill-color);\n",
              "    }\n",
              "    40% {\n",
              "      border-color: transparent;\n",
              "      border-right-color: var(--fill-color);\n",
              "      border-top-color: var(--fill-color);\n",
              "    }\n",
              "    60% {\n",
              "      border-color: transparent;\n",
              "      border-right-color: var(--fill-color);\n",
              "    }\n",
              "    80% {\n",
              "      border-color: transparent;\n",
              "      border-right-color: var(--fill-color);\n",
              "      border-bottom-color: var(--fill-color);\n",
              "    }\n",
              "    90% {\n",
              "      border-color: transparent;\n",
              "      border-bottom-color: var(--fill-color);\n",
              "    }\n",
              "  }\n",
              "</style>\n",
              "\n",
              "  <script>\n",
              "    async function quickchart(key) {\n",
              "      const quickchartButtonEl =\n",
              "        document.querySelector('#' + key + ' button');\n",
              "      quickchartButtonEl.disabled = true;  // To prevent multiple clicks.\n",
              "      quickchartButtonEl.classList.add('colab-df-spinner');\n",
              "      try {\n",
              "        const charts = await google.colab.kernel.invokeFunction(\n",
              "            'suggestCharts', [key], {});\n",
              "      } catch (error) {\n",
              "        console.error('Error during call to suggestCharts:', error);\n",
              "      }\n",
              "      quickchartButtonEl.classList.remove('colab-df-spinner');\n",
              "      quickchartButtonEl.classList.add('colab-df-quickchart-complete');\n",
              "    }\n",
              "    (() => {\n",
              "      let quickchartButtonEl =\n",
              "        document.querySelector('#df-790b2e4e-d7f1-4406-baa3-7649c8585b12 button');\n",
              "      quickchartButtonEl.style.display =\n",
              "        google.colab.kernel.accessAllowed ? 'block' : 'none';\n",
              "    })();\n",
              "  </script>\n",
              "</div>\n",
              "\n",
              "    </div>\n",
              "  </div>\n"
            ],
            "application/vnd.google.colaboratory.intrinsic+json": {
              "type": "dataframe",
              "variable_name": "df",
              "summary": "{\n  \"name\": \"df\",\n  \"rows\": 10164,\n  \"fields\": [\n    {\n      \"column\": \"Unnamed: 0\",\n      \"properties\": {\n        \"dtype\": \"number\",\n        \"std\": 2934,\n        \"min\": 0,\n        \"max\": 10163,\n        \"num_unique_values\": 10164,\n        \"samples\": [\n          3065,\n          6092,\n          3095\n        ],\n        \"semantic_type\": \"\",\n        \"description\": \"\"\n      }\n    },\n    {\n      \"column\": \"username\",\n      \"properties\": {\n        \"dtype\": \"string\",\n        \"num_unique_values\": 10164,\n        \"samples\": [\n          \"karthik-kunjarakana\",\n          \"iamyudhajit\",\n          \"AtharvaIngale\"\n        ],\n        \"semantic_type\": \"\",\n        \"description\": \"\"\n      }\n    },\n    {\n      \"column\": \"gender_pronoun\",\n      \"properties\": {\n        \"dtype\": \"category\",\n        \"num_unique_values\": 47,\n        \"samples\": [\n          \"he\",\n          \"White Power Ranger\",\n          \"if/else\"\n        ],\n        \"semantic_type\": \"\",\n        \"description\": \"\"\n      }\n    },\n    {\n      \"column\": \"followings\",\n      \"properties\": {\n        \"dtype\": \"category\",\n        \"num_unique_values\": 275,\n        \"samples\": [\n          \"52\",\n          \"218\",\n          \"10.0\"\n        ],\n        \"semantic_type\": \"\",\n        \"description\": \"\"\n      }\n    },\n    {\n      \"column\": \"joining_year\",\n      \"properties\": {\n        \"dtype\": \"number\",\n        \"std\": 3.174348314735437,\n        \"min\": 1969.0,\n        \"max\": 2024.0,\n        \"num_unique_values\": 22,\n        \"samples\": [\n          2021.0,\n          2011.0,\n          2016.0\n        ],\n        \"semantic_type\": \"\",\n        \"description\": \"\"\n      }\n    },\n    {\n      \"column\": \"last_year_contributions\",\n      \"properties\": {\n        \"dtype\": \"number\",\n        \"std\": 296.2749673572841,\n        \"min\": 0.0,\n        \"max\": 8291.0,\n        \"num_unique_values\": 838,\n        \"samples\": [\n          65.0,\n          823.0,\n          1977.0\n        ],\n        \"semantic_type\": \"\",\n        \"description\": \"\"\n      }\n    },\n    {\n      \"column\": \"achievements_num\",\n      \"properties\": {\n        \"dtype\": \"number\",\n        \"std\": 1,\n        \"min\": 0,\n        \"max\": 15,\n        \"num_unique_values\": 16,\n        \"samples\": [\n          0,\n          5,\n          4\n        ],\n        \"semantic_type\": \"\",\n        \"description\": \"\"\n      }\n    },\n    {\n      \"column\": \"stars\",\n      \"properties\": {\n        \"dtype\": \"category\",\n        \"num_unique_values\": 391,\n        \"samples\": [\n          \"20\",\n          \"281\",\n          \"52\"\n        ],\n        \"semantic_type\": \"\",\n        \"description\": \"\"\n      }\n    },\n    {\n      \"column\": \"has_readme\",\n      \"properties\": {\n        \"dtype\": \"boolean\",\n        \"num_unique_values\": 2,\n        \"samples\": [\n          true,\n          false\n        ],\n        \"semantic_type\": \"\",\n        \"description\": \"\"\n      }\n    },\n    {\n      \"column\": \"social_link\",\n      \"properties\": {\n        \"dtype\": \"category\",\n        \"num_unique_values\": 3853,\n        \"samples\": [\n          \"www.imamitkumar.com\",\n          \"http://www.nasasrkr.blogspot.com\"\n        ],\n        \"semantic_type\": \"\",\n        \"description\": \"\"\n      }\n    },\n    {\n      \"column\": \"social_platform\",\n      \"properties\": {\n        \"dtype\": \"category\",\n        \"num_unique_values\": 4487,\n        \"samples\": [\n          \"X@Narottam_Bisht\",\n          \"LinkedInin/kaustubh-badve-457913169\"\n        ],\n        \"semantic_type\": \"\",\n        \"description\": \"\"\n      }\n    },\n    {\n      \"column\": \"works_for\",\n      \"properties\": {\n        \"dtype\": \"category\",\n        \"num_unique_values\": 2972,\n        \"samples\": [\n          \"Medvarsity Online Limited\",\n          \"WebAnaya Solutions\"\n        ],\n        \"semantic_type\": \"\",\n        \"description\": \"\"\n      }\n    },\n    {\n      \"column\": \"status\",\n      \"properties\": {\n        \"dtype\": \"category\",\n        \"num_unique_values\": 1324,\n        \"samples\": [\n          \"let set code\",\n          \"Energizing Future. Filled with Passion !\"\n        ],\n        \"semantic_type\": \"\",\n        \"description\": \"\"\n      }\n    },\n    {\n      \"column\": \"name\",\n      \"properties\": {\n        \"dtype\": \"string\",\n        \"num_unique_values\": 9704,\n        \"samples\": [\n          \"JaaiDead\",\n          \"Swaraj Khan\"\n        ],\n        \"semantic_type\": \"\",\n        \"description\": \"\"\n      }\n    },\n    {\n      \"column\": \"location\",\n      \"properties\": {\n        \"dtype\": \"category\",\n        \"num_unique_values\": 2106,\n        \"samples\": [\n          \"Kanyakumari, India\",\n          \"Jaipur,Rajasthan,India\"\n        ],\n        \"semantic_type\": \"\",\n        \"description\": \"\"\n      }\n    },\n    {\n      \"column\": \"repositories\",\n      \"properties\": {\n        \"dtype\": \"category\",\n        \"num_unique_values\": 218,\n        \"samples\": [\n          \"96\",\n          \"141\"\n        ],\n        \"semantic_type\": \"\",\n        \"description\": \"\"\n      }\n    },\n    {\n      \"column\": \"followers\",\n      \"properties\": {\n        \"dtype\": \"category\",\n        \"num_unique_values\": 198,\n        \"samples\": [\n          \"240\",\n          \"80\"\n        ],\n        \"semantic_type\": \"\",\n        \"description\": \"\"\n      }\n    },\n    {\n      \"column\": \"language\",\n      \"properties\": {\n        \"dtype\": \"category\",\n        \"num_unique_values\": 3,\n        \"samples\": [\n          \"Java\",\n          \"Python\"\n        ],\n        \"semantic_type\": \"\",\n        \"description\": \"\"\n      }\n    },\n    {\n      \"column\": \"sorting type\",\n      \"properties\": {\n        \"dtype\": \"category\",\n        \"num_unique_values\": 7,\n        \"samples\": [\n          \"Most recently joined\",\n          \"Most repositories\"\n        ],\n        \"semantic_type\": \"\",\n        \"description\": \"\"\n      }\n    },\n    {\n      \"column\": \"description\",\n      \"properties\": {\n        \"dtype\": \"string\",\n        \"num_unique_values\": 9681,\n        \"samples\": [\n          \"A front-end developer interested in absolute minimalist deployment setups. An open source & Linux fan who prefers FOSS any day over other options.\",\n          \"A Passionate Software Engineer from India.\"\n        ],\n        \"semantic_type\": \"\",\n        \"description\": \"\"\n      }\n    }\n  ]\n}"
            }
          },
          "metadata": {},
          "execution_count": 112
        }
      ]
    },
    {
      "cell_type": "code",
      "source": [
        "df.shape"
      ],
      "metadata": {
        "colab": {
          "base_uri": "https://localhost:8080/"
        },
        "id": "kIwa2LgbbA5A",
        "outputId": "12d7ba8e-99fe-462d-e4a6-67c60be72fad"
      },
      "execution_count": 113,
      "outputs": [
        {
          "output_type": "execute_result",
          "data": {
            "text/plain": [
              "(10164, 20)"
            ]
          },
          "metadata": {},
          "execution_count": 113
        }
      ]
    },
    {
      "cell_type": "code",
      "source": [
        "df.columns"
      ],
      "metadata": {
        "colab": {
          "base_uri": "https://localhost:8080/"
        },
        "id": "dimftqd1Ks0L",
        "outputId": "792d4bd1-d759-462a-de88-4d22c07b85b6"
      },
      "execution_count": 114,
      "outputs": [
        {
          "output_type": "execute_result",
          "data": {
            "text/plain": [
              "Index(['Unnamed: 0', 'username', 'gender_pronoun', 'followings',\n",
              "       'joining_year', 'last_year_contributions', 'achievements_num', 'stars',\n",
              "       'has_readme', 'social_link', 'social_platform', 'works_for', 'status',\n",
              "       'name', 'location', 'repositories', 'followers', 'language',\n",
              "       'sorting type', 'description'],\n",
              "      dtype='object')"
            ]
          },
          "metadata": {},
          "execution_count": 114
        }
      ]
    },
    {
      "cell_type": "code",
      "source": [
        "df.drop('Unnamed: 0', axis=1, inplace=True)"
      ],
      "metadata": {
        "id": "1v9Zy3ArKzgC"
      },
      "execution_count": 115,
      "outputs": []
    },
    {
      "cell_type": "code",
      "source": [
        "df.columns"
      ],
      "metadata": {
        "colab": {
          "base_uri": "https://localhost:8080/"
        },
        "id": "I6mIZC_ALOY_",
        "outputId": "ab5750a9-c50a-45cb-b208-350ccd6cec27"
      },
      "execution_count": 116,
      "outputs": [
        {
          "output_type": "execute_result",
          "data": {
            "text/plain": [
              "Index(['username', 'gender_pronoun', 'followings', 'joining_year',\n",
              "       'last_year_contributions', 'achievements_num', 'stars', 'has_readme',\n",
              "       'social_link', 'social_platform', 'works_for', 'status', 'name',\n",
              "       'location', 'repositories', 'followers', 'language', 'sorting type',\n",
              "       'description'],\n",
              "      dtype='object')"
            ]
          },
          "metadata": {},
          "execution_count": 116
        }
      ]
    },
    {
      "cell_type": "markdown",
      "source": [
        "### Handling the **following, followers, and the repositories** feature"
      ],
      "metadata": {
        "id": "vQAqLAVxiOo0"
      }
    },
    {
      "cell_type": "code",
      "source": [
        "df[['followings', 'followers', 'repositories']].head()"
      ],
      "metadata": {
        "colab": {
          "base_uri": "https://localhost:8080/",
          "height": 206
        },
        "id": "jBf9ErgaLPvk",
        "outputId": "7834d39b-7506-4729-f449-aba4b04199db"
      },
      "execution_count": 117,
      "outputs": [
        {
          "output_type": "execute_result",
          "data": {
            "text/plain": [
              "  followings followers repositories\n",
              "0          1         0            1\n",
              "1         38         9          445\n",
              "2          8         6           37\n",
              "3          3         0            3\n",
              "4          3         0           29"
            ],
            "text/html": [
              "\n",
              "  <div id=\"df-59be62b7-cf5d-4d3e-903e-0cfd5d1c73f8\" class=\"colab-df-container\">\n",
              "    <div>\n",
              "<style scoped>\n",
              "    .dataframe tbody tr th:only-of-type {\n",
              "        vertical-align: middle;\n",
              "    }\n",
              "\n",
              "    .dataframe tbody tr th {\n",
              "        vertical-align: top;\n",
              "    }\n",
              "\n",
              "    .dataframe thead th {\n",
              "        text-align: right;\n",
              "    }\n",
              "</style>\n",
              "<table border=\"1\" class=\"dataframe\">\n",
              "  <thead>\n",
              "    <tr style=\"text-align: right;\">\n",
              "      <th></th>\n",
              "      <th>followings</th>\n",
              "      <th>followers</th>\n",
              "      <th>repositories</th>\n",
              "    </tr>\n",
              "  </thead>\n",
              "  <tbody>\n",
              "    <tr>\n",
              "      <th>0</th>\n",
              "      <td>1</td>\n",
              "      <td>0</td>\n",
              "      <td>1</td>\n",
              "    </tr>\n",
              "    <tr>\n",
              "      <th>1</th>\n",
              "      <td>38</td>\n",
              "      <td>9</td>\n",
              "      <td>445</td>\n",
              "    </tr>\n",
              "    <tr>\n",
              "      <th>2</th>\n",
              "      <td>8</td>\n",
              "      <td>6</td>\n",
              "      <td>37</td>\n",
              "    </tr>\n",
              "    <tr>\n",
              "      <th>3</th>\n",
              "      <td>3</td>\n",
              "      <td>0</td>\n",
              "      <td>3</td>\n",
              "    </tr>\n",
              "    <tr>\n",
              "      <th>4</th>\n",
              "      <td>3</td>\n",
              "      <td>0</td>\n",
              "      <td>29</td>\n",
              "    </tr>\n",
              "  </tbody>\n",
              "</table>\n",
              "</div>\n",
              "    <div class=\"colab-df-buttons\">\n",
              "\n",
              "  <div class=\"colab-df-container\">\n",
              "    <button class=\"colab-df-convert\" onclick=\"convertToInteractive('df-59be62b7-cf5d-4d3e-903e-0cfd5d1c73f8')\"\n",
              "            title=\"Convert this dataframe to an interactive table.\"\n",
              "            style=\"display:none;\">\n",
              "\n",
              "  <svg xmlns=\"http://www.w3.org/2000/svg\" height=\"24px\" viewBox=\"0 -960 960 960\">\n",
              "    <path d=\"M120-120v-720h720v720H120Zm60-500h600v-160H180v160Zm220 220h160v-160H400v160Zm0 220h160v-160H400v160ZM180-400h160v-160H180v160Zm440 0h160v-160H620v160ZM180-180h160v-160H180v160Zm440 0h160v-160H620v160Z\"/>\n",
              "  </svg>\n",
              "    </button>\n",
              "\n",
              "  <style>\n",
              "    .colab-df-container {\n",
              "      display:flex;\n",
              "      gap: 12px;\n",
              "    }\n",
              "\n",
              "    .colab-df-convert {\n",
              "      background-color: #E8F0FE;\n",
              "      border: none;\n",
              "      border-radius: 50%;\n",
              "      cursor: pointer;\n",
              "      display: none;\n",
              "      fill: #1967D2;\n",
              "      height: 32px;\n",
              "      padding: 0 0 0 0;\n",
              "      width: 32px;\n",
              "    }\n",
              "\n",
              "    .colab-df-convert:hover {\n",
              "      background-color: #E2EBFA;\n",
              "      box-shadow: 0px 1px 2px rgba(60, 64, 67, 0.3), 0px 1px 3px 1px rgba(60, 64, 67, 0.15);\n",
              "      fill: #174EA6;\n",
              "    }\n",
              "\n",
              "    .colab-df-buttons div {\n",
              "      margin-bottom: 4px;\n",
              "    }\n",
              "\n",
              "    [theme=dark] .colab-df-convert {\n",
              "      background-color: #3B4455;\n",
              "      fill: #D2E3FC;\n",
              "    }\n",
              "\n",
              "    [theme=dark] .colab-df-convert:hover {\n",
              "      background-color: #434B5C;\n",
              "      box-shadow: 0px 1px 3px 1px rgba(0, 0, 0, 0.15);\n",
              "      filter: drop-shadow(0px 1px 2px rgba(0, 0, 0, 0.3));\n",
              "      fill: #FFFFFF;\n",
              "    }\n",
              "  </style>\n",
              "\n",
              "    <script>\n",
              "      const buttonEl =\n",
              "        document.querySelector('#df-59be62b7-cf5d-4d3e-903e-0cfd5d1c73f8 button.colab-df-convert');\n",
              "      buttonEl.style.display =\n",
              "        google.colab.kernel.accessAllowed ? 'block' : 'none';\n",
              "\n",
              "      async function convertToInteractive(key) {\n",
              "        const element = document.querySelector('#df-59be62b7-cf5d-4d3e-903e-0cfd5d1c73f8');\n",
              "        const dataTable =\n",
              "          await google.colab.kernel.invokeFunction('convertToInteractive',\n",
              "                                                    [key], {});\n",
              "        if (!dataTable) return;\n",
              "\n",
              "        const docLinkHtml = 'Like what you see? Visit the ' +\n",
              "          '<a target=\"_blank\" href=https://colab.research.google.com/notebooks/data_table.ipynb>data table notebook</a>'\n",
              "          + ' to learn more about interactive tables.';\n",
              "        element.innerHTML = '';\n",
              "        dataTable['output_type'] = 'display_data';\n",
              "        await google.colab.output.renderOutput(dataTable, element);\n",
              "        const docLink = document.createElement('div');\n",
              "        docLink.innerHTML = docLinkHtml;\n",
              "        element.appendChild(docLink);\n",
              "      }\n",
              "    </script>\n",
              "  </div>\n",
              "\n",
              "\n",
              "<div id=\"df-c049b7d5-8075-461a-aa4a-8dbdfc6a3b7c\">\n",
              "  <button class=\"colab-df-quickchart\" onclick=\"quickchart('df-c049b7d5-8075-461a-aa4a-8dbdfc6a3b7c')\"\n",
              "            title=\"Suggest charts\"\n",
              "            style=\"display:none;\">\n",
              "\n",
              "<svg xmlns=\"http://www.w3.org/2000/svg\" height=\"24px\"viewBox=\"0 0 24 24\"\n",
              "     width=\"24px\">\n",
              "    <g>\n",
              "        <path d=\"M19 3H5c-1.1 0-2 .9-2 2v14c0 1.1.9 2 2 2h14c1.1 0 2-.9 2-2V5c0-1.1-.9-2-2-2zM9 17H7v-7h2v7zm4 0h-2V7h2v10zm4 0h-2v-4h2v4z\"/>\n",
              "    </g>\n",
              "</svg>\n",
              "  </button>\n",
              "\n",
              "<style>\n",
              "  .colab-df-quickchart {\n",
              "      --bg-color: #E8F0FE;\n",
              "      --fill-color: #1967D2;\n",
              "      --hover-bg-color: #E2EBFA;\n",
              "      --hover-fill-color: #174EA6;\n",
              "      --disabled-fill-color: #AAA;\n",
              "      --disabled-bg-color: #DDD;\n",
              "  }\n",
              "\n",
              "  [theme=dark] .colab-df-quickchart {\n",
              "      --bg-color: #3B4455;\n",
              "      --fill-color: #D2E3FC;\n",
              "      --hover-bg-color: #434B5C;\n",
              "      --hover-fill-color: #FFFFFF;\n",
              "      --disabled-bg-color: #3B4455;\n",
              "      --disabled-fill-color: #666;\n",
              "  }\n",
              "\n",
              "  .colab-df-quickchart {\n",
              "    background-color: var(--bg-color);\n",
              "    border: none;\n",
              "    border-radius: 50%;\n",
              "    cursor: pointer;\n",
              "    display: none;\n",
              "    fill: var(--fill-color);\n",
              "    height: 32px;\n",
              "    padding: 0;\n",
              "    width: 32px;\n",
              "  }\n",
              "\n",
              "  .colab-df-quickchart:hover {\n",
              "    background-color: var(--hover-bg-color);\n",
              "    box-shadow: 0 1px 2px rgba(60, 64, 67, 0.3), 0 1px 3px 1px rgba(60, 64, 67, 0.15);\n",
              "    fill: var(--button-hover-fill-color);\n",
              "  }\n",
              "\n",
              "  .colab-df-quickchart-complete:disabled,\n",
              "  .colab-df-quickchart-complete:disabled:hover {\n",
              "    background-color: var(--disabled-bg-color);\n",
              "    fill: var(--disabled-fill-color);\n",
              "    box-shadow: none;\n",
              "  }\n",
              "\n",
              "  .colab-df-spinner {\n",
              "    border: 2px solid var(--fill-color);\n",
              "    border-color: transparent;\n",
              "    border-bottom-color: var(--fill-color);\n",
              "    animation:\n",
              "      spin 1s steps(1) infinite;\n",
              "  }\n",
              "\n",
              "  @keyframes spin {\n",
              "    0% {\n",
              "      border-color: transparent;\n",
              "      border-bottom-color: var(--fill-color);\n",
              "      border-left-color: var(--fill-color);\n",
              "    }\n",
              "    20% {\n",
              "      border-color: transparent;\n",
              "      border-left-color: var(--fill-color);\n",
              "      border-top-color: var(--fill-color);\n",
              "    }\n",
              "    30% {\n",
              "      border-color: transparent;\n",
              "      border-left-color: var(--fill-color);\n",
              "      border-top-color: var(--fill-color);\n",
              "      border-right-color: var(--fill-color);\n",
              "    }\n",
              "    40% {\n",
              "      border-color: transparent;\n",
              "      border-right-color: var(--fill-color);\n",
              "      border-top-color: var(--fill-color);\n",
              "    }\n",
              "    60% {\n",
              "      border-color: transparent;\n",
              "      border-right-color: var(--fill-color);\n",
              "    }\n",
              "    80% {\n",
              "      border-color: transparent;\n",
              "      border-right-color: var(--fill-color);\n",
              "      border-bottom-color: var(--fill-color);\n",
              "    }\n",
              "    90% {\n",
              "      border-color: transparent;\n",
              "      border-bottom-color: var(--fill-color);\n",
              "    }\n",
              "  }\n",
              "</style>\n",
              "\n",
              "  <script>\n",
              "    async function quickchart(key) {\n",
              "      const quickchartButtonEl =\n",
              "        document.querySelector('#' + key + ' button');\n",
              "      quickchartButtonEl.disabled = true;  // To prevent multiple clicks.\n",
              "      quickchartButtonEl.classList.add('colab-df-spinner');\n",
              "      try {\n",
              "        const charts = await google.colab.kernel.invokeFunction(\n",
              "            'suggestCharts', [key], {});\n",
              "      } catch (error) {\n",
              "        console.error('Error during call to suggestCharts:', error);\n",
              "      }\n",
              "      quickchartButtonEl.classList.remove('colab-df-spinner');\n",
              "      quickchartButtonEl.classList.add('colab-df-quickchart-complete');\n",
              "    }\n",
              "    (() => {\n",
              "      let quickchartButtonEl =\n",
              "        document.querySelector('#df-c049b7d5-8075-461a-aa4a-8dbdfc6a3b7c button');\n",
              "      quickchartButtonEl.style.display =\n",
              "        google.colab.kernel.accessAllowed ? 'block' : 'none';\n",
              "    })();\n",
              "  </script>\n",
              "</div>\n",
              "\n",
              "    </div>\n",
              "  </div>\n"
            ],
            "application/vnd.google.colaboratory.intrinsic+json": {
              "type": "dataframe",
              "summary": "{\n  \"name\": \"df[['followings', 'followers', 'repositories']]\",\n  \"rows\": 5,\n  \"fields\": [\n    {\n      \"column\": \"followings\",\n      \"properties\": {\n        \"dtype\": \"string\",\n        \"num_unique_values\": 4,\n        \"samples\": [\n          \"38\",\n          \"3\",\n          \"1\"\n        ],\n        \"semantic_type\": \"\",\n        \"description\": \"\"\n      }\n    },\n    {\n      \"column\": \"followers\",\n      \"properties\": {\n        \"dtype\": \"string\",\n        \"num_unique_values\": 3,\n        \"samples\": [\n          \"0\",\n          \"9\",\n          \"6\"\n        ],\n        \"semantic_type\": \"\",\n        \"description\": \"\"\n      }\n    },\n    {\n      \"column\": \"repositories\",\n      \"properties\": {\n        \"dtype\": \"string\",\n        \"num_unique_values\": 5,\n        \"samples\": [\n          \"445\",\n          \"29\",\n          \"37\"\n        ],\n        \"semantic_type\": \"\",\n        \"description\": \"\"\n      }\n    }\n  ]\n}"
            }
          },
          "metadata": {},
          "execution_count": 117
        }
      ]
    },
    {
      "cell_type": "code",
      "source": [
        "print(df.followings.isna().sum())\n",
        "print(df.followers.isna().sum())\n",
        "print(df.repositories.isna().sum())"
      ],
      "metadata": {
        "colab": {
          "base_uri": "https://localhost:8080/"
        },
        "id": "Kd-i81sTcdsn",
        "outputId": "744888ea-bc58-4637-b6dc-1f9cb6f79162"
      },
      "execution_count": 118,
      "outputs": [
        {
          "output_type": "stream",
          "name": "stdout",
          "text": [
            "2988\n",
            "0\n",
            "0\n"
          ]
        }
      ]
    },
    {
      "cell_type": "code",
      "source": [
        "print(df[df.followings == '0'].shape)\n",
        "print(df[df.followers == '0'].shape)\n",
        "print(df[df.repositories == '0'].shape)"
      ],
      "metadata": {
        "colab": {
          "base_uri": "https://localhost:8080/"
        },
        "id": "4ZleAxqIcmt_",
        "outputId": "f18577ea-fd12-4dc3-fbf2-9a7bab143640"
      },
      "execution_count": 119,
      "outputs": [
        {
          "output_type": "stream",
          "name": "stdout",
          "text": [
            "(828, 19)\n",
            "(4353, 19)\n",
            "(143, 19)\n"
          ]
        }
      ]
    },
    {
      "cell_type": "code",
      "source": [
        "df.followings.unique()"
      ],
      "metadata": {
        "colab": {
          "base_uri": "https://localhost:8080/"
        },
        "id": "o-dAkED6g1pv",
        "outputId": "e70ef53d-39aa-4678-f331-0c473c73a816"
      },
      "execution_count": 120,
      "outputs": [
        {
          "output_type": "execute_result",
          "data": {
            "text/plain": [
              "array(['1', '38', '8', '3', '2', '14', '4', '9', '0', '11', '6', '5', '7',\n",
              "       '12', '20', '16', '26', '10', '18', '39', '27', '36', '15', '24',\n",
              "       '17', '50', '23', '28', '121', '60', '52', '197', '13', '42', '37',\n",
              "       '74', '33', '31', '61', '34', '22', '129', '62', '178', '102',\n",
              "       '67', '19', '21', '56', '75', '30', '41', '86', '25', '47', '40',\n",
              "       '44', '53', '32', '63', '90', '35', '46', '29', '229', '45', '51',\n",
              "       '249', '69', '139', '55', '65', '247', '49', '315', '110', '434',\n",
              "       '66', '92', '341', '199', '70', '96', '242', '124', '48', '244',\n",
              "       '155', '217', '1.3k', '192', '215', '80', '228', '43', '345', '72',\n",
              "       '64', '115', '285', '94', '68', '203', '120', '196', '248', '238',\n",
              "       '131', '114', '89', '1.1k', '140', '239', '166', '71', '126', '97',\n",
              "       '105', '57', '160', '289', '154', '76', '195', '128', '157', '410',\n",
              "       '88', '279', '165', '141', '119', '84', '98', '206', '171', '354',\n",
              "       '531', '59', '218', '107', nan, '77', '82', '73', '54', '135',\n",
              "       '87', '101', '78', '79', '162', '58', '179', '130', '83', '117',\n",
              "       '1.5k', '954', '884', '144', '5k', '7.1k', '436', '545', '81',\n",
              "       '109', '319', '823', '134', '91', '785', '291', '104', '152',\n",
              "       '159', '122', '299', '169', '2.0', '24.0', '0.0', '7.0', '1.0',\n",
              "       '16.0', '6.0', '13.0', '5.0', '4.0', '30.0', '22.0', '36.0', '3.0',\n",
              "       '11.0', '23.0', '18.0', '10.0', '26.0', '14.0', '19.0', '8.0',\n",
              "       '28.0', '64.0', '20.0', '46.0', '260.0', '44.0', '33.0', '120.0',\n",
              "       '126.0', '291.0', '12.0', '41.0', '25.0', '105.0', '39.0', '84.0',\n",
              "       '15.0', '52.0', '90.0', '109.0', '9.0', '47.0', '343.0', '104.0',\n",
              "       '49.0', '17.0', '103.0', '29.0', '57.0', '34.0', '37.0', '50.0',\n",
              "       '27.0', '45.0', '177.0', '21.0', '125.0', '35.0', '79.0', '72.0',\n",
              "       '38.0', '51.0', '96.0', '165.0', '97.0', '139.0', '80.0', '201.0',\n",
              "       '54.0', '138.0', '76.0', '755.0', '177', '31.0', '450.0', '189.0',\n",
              "       '32.0', '68.0', '70.0', '48.0', '179.0', '40.0', '42.0', '106.0',\n",
              "       '635.0', '157.0', '66.0', '69.0', '82.0', '75.0', '112.0', '107.0',\n",
              "       '87.0', '405.0', '134.0'], dtype=object)"
            ]
          },
          "metadata": {},
          "execution_count": 120
        }
      ]
    },
    {
      "cell_type": "markdown",
      "source": [
        "**Observations**\n",
        "- Entries associated with the **followings, followers and the repositories** feature are not strictly in integer or float format, contains entries like **2.5k**, modifications required.\n",
        "- Also, the **followings** feature contain some missing entries."
      ],
      "metadata": {
        "id": "Lk4CqHp5OMTg"
      }
    },
    {
      "cell_type": "markdown",
      "source": [
        "**Operations**\n",
        "- We have methods like allocating either mean, median, or mode of non-missing values to missing values, or we can replace all the missing entries with 0. I am going with second approach.\n",
        "- The **followings** feature is of string datatype and it needs to be converted into an integer first.\n",
        "- The transformation will be carried out in the following manner\n",
        "\n",
        "    '23.0'  ->  23\n",
        "\n",
        "    '114'   ->  114\n",
        "    \n",
        "    '1.5k'  ->  1500"
      ],
      "metadata": {
        "id": "Y422MNGZPr-v"
      }
    },
    {
      "cell_type": "code",
      "source": [
        "df.followings.fillna(0, inplace=True)\n",
        "df.followings.isna().sum()"
      ],
      "metadata": {
        "colab": {
          "base_uri": "https://localhost:8080/"
        },
        "id": "JnBqkJW6g8VH",
        "outputId": "44f75769-53ca-41a7-dd93-f77b7826cf20"
      },
      "execution_count": 121,
      "outputs": [
        {
          "output_type": "stream",
          "name": "stderr",
          "text": [
            "<ipython-input-121-e583c3fc9d81>:1: FutureWarning: A value is trying to be set on a copy of a DataFrame or Series through chained assignment using an inplace method.\n",
            "The behavior will change in pandas 3.0. This inplace method will never work because the intermediate object on which we are setting values always behaves as a copy.\n",
            "\n",
            "For example, when doing 'df[col].method(value, inplace=True)', try using 'df.method({col: value}, inplace=True)' or df[col] = df[col].method(value) instead, to perform the operation inplace on the original object.\n",
            "\n",
            "\n",
            "  df.followings.fillna(0, inplace=True)\n"
          ]
        },
        {
          "output_type": "execute_result",
          "data": {
            "text/plain": [
              "0"
            ]
          },
          "metadata": {},
          "execution_count": 121
        }
      ]
    },
    {
      "cell_type": "code",
      "source": [
        "def k_to_thousand(string):\n",
        "  \"\"\"\n",
        "  The function is responsible for transforming string to integer\n",
        "  The results will look like the following samples post transformation\n",
        "  1.5k  -> 1500\n",
        "  100   -> 100\n",
        "  100.0 -> 100\n",
        "\n",
        "  Args\n",
        "  string : contains the string on which transformation will be applied\n",
        "  \"\"\"\n",
        "  string = str(string)\n",
        "  k_flag = False\n",
        "  if 'k' in string:\n",
        "    string = string.replace('k', '')\n",
        "    k_flag = True\n",
        "\n",
        "  string = float(string)\n",
        "  if k_flag:\n",
        "    string *= 1000\n",
        "  return int(string)\n",
        "\n",
        "# Applying above function on both the followings, followers and the repositories feature\n",
        "df.followings = df.followings.apply(k_to_thousand)\n",
        "df.followers = df.followers.apply(k_to_thousand)\n",
        "df.repositories = df.repositories.apply(k_to_thousand)"
      ],
      "metadata": {
        "id": "Zd_9gzsUPOmp"
      },
      "execution_count": 122,
      "outputs": []
    },
    {
      "cell_type": "code",
      "source": [
        "df.followings.unique()"
      ],
      "metadata": {
        "colab": {
          "base_uri": "https://localhost:8080/"
        },
        "id": "X0fwsD2baaE_",
        "outputId": "b9b79a78-b1e1-40d7-b1cd-0d51595ed537"
      },
      "execution_count": 123,
      "outputs": [
        {
          "output_type": "execute_result",
          "data": {
            "text/plain": [
              "array([   1,   38,    8,    3,    2,   14,    4,    9,    0,   11,    6,\n",
              "          5,    7,   12,   20,   16,   26,   10,   18,   39,   27,   36,\n",
              "         15,   24,   17,   50,   23,   28,  121,   60,   52,  197,   13,\n",
              "         42,   37,   74,   33,   31,   61,   34,   22,  129,   62,  178,\n",
              "        102,   67,   19,   21,   56,   75,   30,   41,   86,   25,   47,\n",
              "         40,   44,   53,   32,   63,   90,   35,   46,   29,  229,   45,\n",
              "         51,  249,   69,  139,   55,   65,  247,   49,  315,  110,  434,\n",
              "         66,   92,  341,  199,   70,   96,  242,  124,   48,  244,  155,\n",
              "        217, 1300,  192,  215,   80,  228,   43,  345,   72,   64,  115,\n",
              "        285,   94,   68,  203,  120,  196,  248,  238,  131,  114,   89,\n",
              "       1100,  140,  239,  166,   71,  126,   97,  105,   57,  160,  289,\n",
              "        154,   76,  195,  128,  157,  410,   88,  279,  165,  141,  119,\n",
              "         84,   98,  206,  171,  354,  531,   59,  218,  107,   77,   82,\n",
              "         73,   54,  135,   87,  101,   78,   79,  162,   58,  179,  130,\n",
              "         83,  117, 1500,  954,  884,  144, 5000, 7100,  436,  545,   81,\n",
              "        109,  319,  823,  134,   91,  785,  291,  104,  152,  159,  122,\n",
              "        299,  169,  260,  343,  103,  177,  125,  201,  138,  755,  450,\n",
              "        189,  106,  635,  112,  405])"
            ]
          },
          "metadata": {},
          "execution_count": 123
        }
      ]
    },
    {
      "cell_type": "code",
      "source": [
        "df.followers.unique()"
      ],
      "metadata": {
        "colab": {
          "base_uri": "https://localhost:8080/"
        },
        "id": "T8hul47ecWpN",
        "outputId": "d102efa3-3ca7-4bdf-988e-8f231ff6848f"
      },
      "execution_count": 124,
      "outputs": [
        {
          "output_type": "execute_result",
          "data": {
            "text/plain": [
              "array([   0,    9,    6,    2,   15,    3,    4,   11,    1,    8,   12,\n",
              "         35,   25,   16,   24,   81,   32,   18,    7,    5,   10,   14,\n",
              "         39,   30,   70,   71,   26,   37,   29,  134,   65,   95,   33,\n",
              "         20,   27,   41,   34,  403,   59,   43,   38,   17,   13,   61,\n",
              "         44,   42,   28,   36,  153,   48,   60,   22,   85,   21,   72,\n",
              "         23,  106,   19,  127,   83,   45,  173,  315,  121,   47,  240,\n",
              "         63,   54,   58,   55,  130,  128,   82,   67,   74,  204,   49,\n",
              "         77,  328,   64,   52,  306,   51,   86,   69,  142,   93,   94,\n",
              "        108,   56,  345,   31,   73,   62,  851,  768,  233,  647,  135,\n",
              "        105,   68, 1800,  166,  103,  324,  234, 2100,  221,  104, 1000,\n",
              "        110,  160,  350,   57,   80,   76,  155,   40,  223,  120,  109,\n",
              "        331,   53,   91,  143,  148,   96, 1600,   90,  281,   50,   97,\n",
              "        123,  180,   46,   78,  158,   98,  337,  145,  228,  112, 1200,\n",
              "        140,  266,  102,  132,  183,  188, 8800,   88,   75,  430, 5000,\n",
              "        912,  101,  299,  552,   87,   79,  201,  114,  119, 2500,  107,\n",
              "        340,  882,  224, 2400,  284,   84,  214,  827,  133,  111,  446,\n",
              "        117,  216,   99,  146,  149, 1100,  313,  113,  225,  419,  245,\n",
              "        282,  187,  116,  137,  118,  280,  305,  100,  185,  525,  175])"
            ]
          },
          "metadata": {},
          "execution_count": 124
        }
      ]
    },
    {
      "cell_type": "code",
      "source": [
        "df.repositories.plot(kind='hist')"
      ],
      "metadata": {
        "colab": {
          "base_uri": "https://localhost:8080/",
          "height": 447
        },
        "id": "KUux67ta5zz_",
        "outputId": "b7cc2d23-940f-42b1-a2eb-285748cf03b2"
      },
      "execution_count": 125,
      "outputs": [
        {
          "output_type": "execute_result",
          "data": {
            "text/plain": [
              "<Axes: ylabel='Frequency'>"
            ]
          },
          "metadata": {},
          "execution_count": 125
        },
        {
          "output_type": "display_data",
          "data": {
            "text/plain": [
              "<Figure size 640x480 with 1 Axes>"
            ],
            "image/png": "[encoded data removed]"
          },
          "metadata": {}
        }
      ]
    },
    {
      "cell_type": "markdown",
      "source": [
        "**Observations**\n",
        "- There are certain accounts where number of repositories is comparitavely very large number which can lead to increase in variance during calculations.\n",
        "- The current distribution is right skewed, the ideal distribution should look like more Gaussian-like."
      ],
      "metadata": {
        "id": "PBGDcaCq6T6A"
      }
    },
    {
      "cell_type": "code",
      "source": [
        "df.drop(df[df.repositories > 500].index, inplace=True)"
      ],
      "metadata": {
        "id": "lyScZ1OQ7Hk4"
      },
      "execution_count": 126,
      "outputs": []
    },
    {
      "cell_type": "code",
      "source": [
        "df.repositories.plot(kind='hist')"
      ],
      "metadata": {
        "colab": {
          "base_uri": "https://localhost:8080/",
          "height": 447
        },
        "id": "l9UsBQF87VFk",
        "outputId": "c8625625-0adb-4493-8d63-47fdd1da4a4b"
      },
      "execution_count": 127,
      "outputs": [
        {
          "output_type": "execute_result",
          "data": {
            "text/plain": [
              "<Axes: ylabel='Frequency'>"
            ]
          },
          "metadata": {},
          "execution_count": 127
        },
        {
          "output_type": "display_data",
          "data": {
            "text/plain": [
              "<Figure size 640x480 with 1 Axes>"
            ],
            "image/png": "[encoded data removed]"
          },
          "metadata": {}
        }
      ]
    },
    {
      "cell_type": "markdown",
      "source": [
        "## Handling the **username** feature"
      ],
      "metadata": {
        "id": "tUOKgOqOi3tC"
      }
    },
    {
      "cell_type": "code",
      "source": [
        "df.username.unique().__len__()"
      ],
      "metadata": {
        "colab": {
          "base_uri": "https://localhost:8080/"
        },
        "id": "Bggshkj0f8Gr",
        "outputId": "ac78b71a-d954-455a-c52a-b7d4e0f4b993"
      },
      "execution_count": 128,
      "outputs": [
        {
          "output_type": "execute_result",
          "data": {
            "text/plain": [
              "10156"
            ]
          },
          "metadata": {},
          "execution_count": 128
        }
      ]
    },
    {
      "cell_type": "markdown",
      "source": [
        "**Observations**\n",
        "- All the usernames are unique and no analysis can be drawn from them.\n",
        "- This feature should be exlcluded from the model training."
      ],
      "metadata": {
        "id": "d9x1fU-8HHY4"
      }
    },
    {
      "cell_type": "markdown",
      "source": [
        "## Handling the **gender_pronoun** feature"
      ],
      "metadata": {
        "id": "c6x4c18nH-TL"
      }
    },
    {
      "cell_type": "code",
      "source": [
        "df.gender_pronoun.unique()"
      ],
      "metadata": {
        "id": "YaxX4cduhoa_",
        "colab": {
          "base_uri": "https://localhost:8080/"
        },
        "outputId": "85d33bef-b609-470c-932e-75622c5bd01b"
      },
      "execution_count": 129,
      "outputs": [
        {
          "output_type": "execute_result",
          "data": {
            "text/plain": [
              "array(['he/him', nan, 'Gentleman/Wiseman', 'she/her', 'they/them',\n",
              "       'PhD (Mathematics)', 'Techie', 'The one', '?V', 'Shivam',\n",
              "       'bit/bits', 'Little Codr', 'ShaksZ', 'phenol', 'He/Him', 'Him',\n",
              "       'Just a Tech', 'Go/TypeScript/Powershell', 'He/Him/His',\n",
              "       'You can do it ?', 'Nayeem', 'SSL/SSO', 'Σ', 'Mr.', 'coder',\n",
              "       'bro/bhai', 'Batman/Bateman', 'if/else', 'he', 'Thar/kuri',\n",
              "       'bat/man', 'Mritunjay Kumar', 'roro', 'insaan', 'she/her/they',\n",
              "       'Pengwin/Penglose', 'MR', 'Arch BTW', 'Mr', 'Nanya',\n",
              "       'White Power Ranger', 'Attack Helicopter', 'Rocket/Raccoon',\n",
              "       'CodeholiC', 'Developer', 'He/Him • Programmer + Gamer',\n",
              "       'King/God', '~Hack3r_Oneness is Active on Internet'], dtype=object)"
            ]
          },
          "metadata": {},
          "execution_count": 129
        }
      ]
    },
    {
      "cell_type": "code",
      "source": [
        "df.gender_pronoun.isna().sum()"
      ],
      "metadata": {
        "colab": {
          "base_uri": "https://localhost:8080/"
        },
        "id": "3C3KknjbIuG-",
        "outputId": "8cf57ee3-c601-49b6-cdc8-87466aef7598"
      },
      "execution_count": 130,
      "outputs": [
        {
          "output_type": "execute_result",
          "data": {
            "text/plain": [
              "7014"
            ]
          },
          "metadata": {},
          "execution_count": 130
        }
      ]
    },
    {
      "cell_type": "code",
      "source": [
        "df.gender_pronoun.value_counts()"
      ],
      "metadata": {
        "colab": {
          "base_uri": "https://localhost:8080/",
          "height": 1000
        },
        "id": "JqwDbhIEEh1V",
        "outputId": "5f47bd5f-1562-4004-c112-96744507f681"
      },
      "execution_count": 131,
      "outputs": [
        {
          "output_type": "execute_result",
          "data": {
            "text/plain": [
              "gender_pronoun\n",
              "he/him                                   2742\n",
              "she/her                                   343\n",
              "they/them                                  11\n",
              "He/Him/His                                  2\n",
              "Mr                                          2\n",
              "He/Him • Programmer + Gamer                 1\n",
              "Developer                                   1\n",
              "he                                          1\n",
              "Thar/kuri                                   1\n",
              "bat/man                                     1\n",
              "Mritunjay Kumar                             1\n",
              "roro                                        1\n",
              "insaan                                      1\n",
              "King/God                                    1\n",
              "she/her/they                                1\n",
              "Pengwin/Penglose                            1\n",
              "MR                                          1\n",
              "Arch BTW                                    1\n",
              "Batman/Bateman                              1\n",
              "Nanya                                       1\n",
              "White Power Ranger                          1\n",
              "Attack Helicopter                           1\n",
              "Rocket/Raccoon                              1\n",
              "CodeholiC                                   1\n",
              "if/else                                     1\n",
              "coder                                       1\n",
              "bro/bhai                                    1\n",
              "phenol                                      1\n",
              "PhD (Mathematics)                           1\n",
              "Techie                                      1\n",
              "The one                                     1\n",
              "?V                                          1\n",
              "Shivam                                      1\n",
              "bit/bits                                    1\n",
              "Little Codr                                 1\n",
              "ShaksZ                                      1\n",
              "He/Him                                      1\n",
              "Gentleman/Wiseman                           1\n",
              "Him                                         1\n",
              "Just a Tech                                 1\n",
              "Go/TypeScript/Powershell                    1\n",
              "You can do it ?                             1\n",
              "Nayeem                                      1\n",
              "SSL/SSO                                     1\n",
              "Σ                                           1\n",
              "Mr.                                         1\n",
              "~Hack3r_Oneness is Active on Internet       1\n",
              "Name: count, dtype: int64"
            ],
            "text/html": [
              "<div>\n",
              "<style scoped>\n",
              "    .dataframe tbody tr th:only-of-type {\n",
              "        vertical-align: middle;\n",
              "    }\n",
              "\n",
              "    .dataframe tbody tr th {\n",
              "        vertical-align: top;\n",
              "    }\n",
              "\n",
              "    .dataframe thead th {\n",
              "        text-align: right;\n",
              "    }\n",
              "</style>\n",
              "<table border=\"1\" class=\"dataframe\">\n",
              "  <thead>\n",
              "    <tr style=\"text-align: right;\">\n",
              "      <th></th>\n",
              "      <th>count</th>\n",
              "    </tr>\n",
              "    <tr>\n",
              "      <th>gender_pronoun</th>\n",
              "      <th></th>\n",
              "    </tr>\n",
              "  </thead>\n",
              "  <tbody>\n",
              "    <tr>\n",
              "      <th>he/him</th>\n",
              "      <td>2742</td>\n",
              "    </tr>\n",
              "    <tr>\n",
              "      <th>she/her</th>\n",
              "      <td>343</td>\n",
              "    </tr>\n",
              "    <tr>\n",
              "      <th>they/them</th>\n",
              "      <td>11</td>\n",
              "    </tr>\n",
              "    <tr>\n",
              "      <th>He/Him/His</th>\n",
              "      <td>2</td>\n",
              "    </tr>\n",
              "    <tr>\n",
              "      <th>Mr</th>\n",
              "      <td>2</td>\n",
              "    </tr>\n",
              "    <tr>\n",
              "      <th>He/Him • Programmer + Gamer</th>\n",
              "      <td>1</td>\n",
              "    </tr>\n",
              "    <tr>\n",
              "      <th>Developer</th>\n",
              "      <td>1</td>\n",
              "    </tr>\n",
              "    <tr>\n",
              "      <th>he</th>\n",
              "      <td>1</td>\n",
              "    </tr>\n",
              "    <tr>\n",
              "      <th>Thar/kuri</th>\n",
              "      <td>1</td>\n",
              "    </tr>\n",
              "    <tr>\n",
              "      <th>bat/man</th>\n",
              "      <td>1</td>\n",
              "    </tr>\n",
              "    <tr>\n",
              "      <th>Mritunjay Kumar</th>\n",
              "      <td>1</td>\n",
              "    </tr>\n",
              "    <tr>\n",
              "      <th>roro</th>\n",
              "      <td>1</td>\n",
              "    </tr>\n",
              "    <tr>\n",
              "      <th>insaan</th>\n",
              "      <td>1</td>\n",
              "    </tr>\n",
              "    <tr>\n",
              "      <th>King/God</th>\n",
              "      <td>1</td>\n",
              "    </tr>\n",
              "    <tr>\n",
              "      <th>she/her/they</th>\n",
              "      <td>1</td>\n",
              "    </tr>\n",
              "    <tr>\n",
              "      <th>Pengwin/Penglose</th>\n",
              "      <td>1</td>\n",
              "    </tr>\n",
              "    <tr>\n",
              "      <th>MR</th>\n",
              "      <td>1</td>\n",
              "    </tr>\n",
              "    <tr>\n",
              "      <th>Arch BTW</th>\n",
              "      <td>1</td>\n",
              "    </tr>\n",
              "    <tr>\n",
              "      <th>Batman/Bateman</th>\n",
              "      <td>1</td>\n",
              "    </tr>\n",
              "    <tr>\n",
              "      <th>Nanya</th>\n",
              "      <td>1</td>\n",
              "    </tr>\n",
              "    <tr>\n",
              "      <th>White Power Ranger</th>\n",
              "      <td>1</td>\n",
              "    </tr>\n",
              "    <tr>\n",
              "      <th>Attack Helicopter</th>\n",
              "      <td>1</td>\n",
              "    </tr>\n",
              "    <tr>\n",
              "      <th>Rocket/Raccoon</th>\n",
              "      <td>1</td>\n",
              "    </tr>\n",
              "    <tr>\n",
              "      <th>CodeholiC</th>\n",
              "      <td>1</td>\n",
              "    </tr>\n",
              "    <tr>\n",
              "      <th>if/else</th>\n",
              "      <td>1</td>\n",
              "    </tr>\n",
              "    <tr>\n",
              "      <th>coder</th>\n",
              "      <td>1</td>\n",
              "    </tr>\n",
              "    <tr>\n",
              "      <th>bro/bhai</th>\n",
              "      <td>1</td>\n",
              "    </tr>\n",
              "    <tr>\n",
              "      <th>phenol</th>\n",
              "      <td>1</td>\n",
              "    </tr>\n",
              "    <tr>\n",
              "      <th>PhD (Mathematics)</th>\n",
              "      <td>1</td>\n",
              "    </tr>\n",
              "    <tr>\n",
              "      <th>Techie</th>\n",
              "      <td>1</td>\n",
              "    </tr>\n",
              "    <tr>\n",
              "      <th>The one</th>\n",
              "      <td>1</td>\n",
              "    </tr>\n",
              "    <tr>\n",
              "      <th>?V</th>\n",
              "      <td>1</td>\n",
              "    </tr>\n",
              "    <tr>\n",
              "      <th>Shivam</th>\n",
              "      <td>1</td>\n",
              "    </tr>\n",
              "    <tr>\n",
              "      <th>bit/bits</th>\n",
              "      <td>1</td>\n",
              "    </tr>\n",
              "    <tr>\n",
              "      <th>Little Codr</th>\n",
              "      <td>1</td>\n",
              "    </tr>\n",
              "    <tr>\n",
              "      <th>ShaksZ</th>\n",
              "      <td>1</td>\n",
              "    </tr>\n",
              "    <tr>\n",
              "      <th>He/Him</th>\n",
              "      <td>1</td>\n",
              "    </tr>\n",
              "    <tr>\n",
              "      <th>Gentleman/Wiseman</th>\n",
              "      <td>1</td>\n",
              "    </tr>\n",
              "    <tr>\n",
              "      <th>Him</th>\n",
              "      <td>1</td>\n",
              "    </tr>\n",
              "    <tr>\n",
              "      <th>Just a Tech</th>\n",
              "      <td>1</td>\n",
              "    </tr>\n",
              "    <tr>\n",
              "      <th>Go/TypeScript/Powershell</th>\n",
              "      <td>1</td>\n",
              "    </tr>\n",
              "    <tr>\n",
              "      <th>You can do it ?</th>\n",
              "      <td>1</td>\n",
              "    </tr>\n",
              "    <tr>\n",
              "      <th>Nayeem</th>\n",
              "      <td>1</td>\n",
              "    </tr>\n",
              "    <tr>\n",
              "      <th>SSL/SSO</th>\n",
              "      <td>1</td>\n",
              "    </tr>\n",
              "    <tr>\n",
              "      <th>Σ</th>\n",
              "      <td>1</td>\n",
              "    </tr>\n",
              "    <tr>\n",
              "      <th>Mr.</th>\n",
              "      <td>1</td>\n",
              "    </tr>\n",
              "    <tr>\n",
              "      <th>~Hack3r_Oneness is Active on Internet</th>\n",
              "      <td>1</td>\n",
              "    </tr>\n",
              "  </tbody>\n",
              "</table>\n",
              "</div><br><label><b>dtype:</b> int64</label>"
            ]
          },
          "metadata": {},
          "execution_count": 131
        }
      ]
    },
    {
      "cell_type": "markdown",
      "source": [
        "**Obervations**\n",
        "- We have multiple gender pronoun categories present inside the feature\n",
        "- Transforming them all into male and female will make model training easy.\n",
        "- Also, we have more than 50% of values unspecified. Missing values needs to be handles first."
      ],
      "metadata": {
        "id": "XGM4AZ9oLdsE"
      }
    },
    {
      "cell_type": "markdown",
      "source": [
        "**Operations**\n",
        "- All the gender pronoun categories can be transformed into either of the **male** or **female** categories.\n",
        "- User's name can be used to extract gender for all the missing entries. Python api **guess-indian-gender 1.0.1** can help finding gender based on the name given.\n",
        "- API Link : https://pypi.org/project/guess-indian-gender/\n",
        "- Since the accuracy of the api is good enough, procedure can be applied to all the users (both with or without gender pronoun)\n",
        "- Also, we have only one user whose name is missing, so that user can be removed before applying operations."
      ],
      "metadata": {
        "id": "6rVtGcfMFhte"
      }
    },
    {
      "cell_type": "code",
      "source": [
        "df.name.isna().sum()"
      ],
      "metadata": {
        "colab": {
          "base_uri": "https://localhost:8080/"
        },
        "id": "OP17pNUCN-5A",
        "outputId": "312f369d-385f-4e97-98db-677ec5d09387"
      },
      "execution_count": 132,
      "outputs": [
        {
          "output_type": "execute_result",
          "data": {
            "text/plain": [
              "1"
            ]
          },
          "metadata": {},
          "execution_count": 132
        }
      ]
    },
    {
      "cell_type": "code",
      "source": [
        "# Deleting users with missing name value\n",
        "df.drop(df[df.name.isna()].index, inplace=True)"
      ],
      "metadata": {
        "id": "4Ju8XH8iNw-v"
      },
      "execution_count": 133,
      "outputs": []
    },
    {
      "cell_type": "code",
      "source": [
        "df.name.isna().sum()"
      ],
      "metadata": {
        "colab": {
          "base_uri": "https://localhost:8080/"
        },
        "id": "YinLYUqCN9yT",
        "outputId": "756a4017-5e8d-4a98-c3da-25409a78dbd3"
      },
      "execution_count": 134,
      "outputs": [
        {
          "output_type": "execute_result",
          "data": {
            "text/plain": [
              "0"
            ]
          },
          "metadata": {},
          "execution_count": 134
        }
      ]
    },
    {
      "cell_type": "code",
      "source": [
        "pip install guess-indian-gender"
      ],
      "metadata": {
        "colab": {
          "base_uri": "https://localhost:8080/"
        },
        "id": "eClfcON3JORn",
        "outputId": "89d09ceb-c6d7-4b57-80c5-91712380a602"
      },
      "execution_count": 135,
      "outputs": [
        {
          "output_type": "stream",
          "name": "stdout",
          "text": [
            "Requirement already satisfied: guess-indian-gender in /usr/local/lib/python3.10/dist-packages (1.0.1)\n",
            "Requirement already satisfied: nltk in /usr/local/lib/python3.10/dist-packages (from guess-indian-gender) (3.9.1)\n",
            "Requirement already satisfied: pandas in /usr/local/lib/python3.10/dist-packages (from guess-indian-gender) (2.2.2)\n",
            "Requirement already satisfied: click in /usr/local/lib/python3.10/dist-packages (from nltk->guess-indian-gender) (8.1.7)\n",
            "Requirement already satisfied: joblib in /usr/local/lib/python3.10/dist-packages (from nltk->guess-indian-gender) (1.4.2)\n",
            "Requirement already satisfied: regex>=2021.8.3 in /usr/local/lib/python3.10/dist-packages (from nltk->guess-indian-gender) (2024.9.11)\n",
            "Requirement already satisfied: tqdm in /usr/local/lib/python3.10/dist-packages (from nltk->guess-indian-gender) (4.66.6)\n",
            "Requirement already satisfied: numpy>=1.22.4 in /usr/local/lib/python3.10/dist-packages (from pandas->guess-indian-gender) (1.26.4)\n",
            "Requirement already satisfied: python-dateutil>=2.8.2 in /usr/local/lib/python3.10/dist-packages (from pandas->guess-indian-gender) (2.8.2)\n",
            "Requirement already satisfied: pytz>=2020.1 in /usr/local/lib/python3.10/dist-packages (from pandas->guess-indian-gender) (2024.2)\n",
            "Requirement already satisfied: tzdata>=2022.7 in /usr/local/lib/python3.10/dist-packages (from pandas->guess-indian-gender) (2024.2)\n",
            "Requirement already satisfied: six>=1.5 in /usr/local/lib/python3.10/dist-packages (from python-dateutil>=2.8.2->pandas->guess-indian-gender) (1.16.0)\n"
          ]
        }
      ]
    },
    {
      "cell_type": "code",
      "source": [
        "from guess_indian_gender import IndianGenderPredictor\n",
        "i = IndianGenderPredictor()\n",
        "i.predict(name=\"Santosh\") # returns male"
      ],
      "metadata": {
        "colab": {
          "base_uri": "https://localhost:8080/",
          "height": 36
        },
        "id": "ZE2AXJgHJmRv",
        "outputId": "6e18bb3e-a572-4186-c5df-05c8cc616585"
      },
      "execution_count": 136,
      "outputs": [
        {
          "output_type": "execute_result",
          "data": {
            "text/plain": [
              "'female'"
            ],
            "application/vnd.google.colaboratory.intrinsic+json": {
              "type": "string"
            }
          },
          "metadata": {},
          "execution_count": 136
        }
      ]
    },
    {
      "cell_type": "code",
      "source": [
        "from guess_indian_gender import IndianGenderPredictor\n",
        "i = IndianGenderPredictor()\n",
        "\n",
        "def gender_detector(full_name):\n",
        "  \"\"\"\n",
        "  The function is responsible for finding gender of user based on the name given\n",
        "  Args\n",
        "  name : contains the name of the user for which gender needs to be found\n",
        "  \"\"\"\n",
        "\n",
        "  # Retrieving first name\n",
        "  try:\n",
        "    name = full_name.split()[0]\n",
        "  except Exception as e:\n",
        "    print(full_name)\n",
        "  gender = i.predict(name=name)\n",
        "  if gender == 'mostly_male':\n",
        "    return 'male'\n",
        "  elif gender == 'mostly_female':\n",
        "    return 'female'\n",
        "  else:\n",
        "    return gender\n",
        "\n",
        "df['gender_pronoun'] = df['name'].apply(gender_detector)"
      ],
      "metadata": {
        "id": "uMKNl9NVFIZF"
      },
      "execution_count": 137,
      "outputs": []
    },
    {
      "cell_type": "code",
      "source": [
        "df.gender_pronoun.isna().sum()"
      ],
      "metadata": {
        "id": "GZIN1H9MKXhd",
        "colab": {
          "base_uri": "https://localhost:8080/"
        },
        "outputId": "83c273bd-225c-4a3b-bb6b-a00033e346f5"
      },
      "execution_count": 138,
      "outputs": [
        {
          "output_type": "execute_result",
          "data": {
            "text/plain": [
              "0"
            ]
          },
          "metadata": {},
          "execution_count": 138
        }
      ]
    },
    {
      "cell_type": "code",
      "source": [
        "df.gender_pronoun.value_counts()"
      ],
      "metadata": {
        "colab": {
          "base_uri": "https://localhost:8080/",
          "height": 178
        },
        "id": "RndJGkzBL7Ec",
        "outputId": "88475970-e898-45af-a6ee-cf1bc6752057"
      },
      "execution_count": 139,
      "outputs": [
        {
          "output_type": "execute_result",
          "data": {
            "text/plain": [
              "gender_pronoun\n",
              "male      9165\n",
              "female     990\n",
              "Name: count, dtype: int64"
            ],
            "text/html": [
              "<div>\n",
              "<style scoped>\n",
              "    .dataframe tbody tr th:only-of-type {\n",
              "        vertical-align: middle;\n",
              "    }\n",
              "\n",
              "    .dataframe tbody tr th {\n",
              "        vertical-align: top;\n",
              "    }\n",
              "\n",
              "    .dataframe thead th {\n",
              "        text-align: right;\n",
              "    }\n",
              "</style>\n",
              "<table border=\"1\" class=\"dataframe\">\n",
              "  <thead>\n",
              "    <tr style=\"text-align: right;\">\n",
              "      <th></th>\n",
              "      <th>count</th>\n",
              "    </tr>\n",
              "    <tr>\n",
              "      <th>gender_pronoun</th>\n",
              "      <th></th>\n",
              "    </tr>\n",
              "  </thead>\n",
              "  <tbody>\n",
              "    <tr>\n",
              "      <th>male</th>\n",
              "      <td>9165</td>\n",
              "    </tr>\n",
              "    <tr>\n",
              "      <th>female</th>\n",
              "      <td>990</td>\n",
              "    </tr>\n",
              "  </tbody>\n",
              "</table>\n",
              "</div><br><label><b>dtype:</b> int64</label>"
            ]
          },
          "metadata": {},
          "execution_count": 139
        }
      ]
    },
    {
      "cell_type": "code",
      "source": [
        "df[df.gender_pronoun == 'female']['name'].head(60)"
      ],
      "metadata": {
        "colab": {
          "base_uri": "https://localhost:8080/",
          "height": 1000
        },
        "id": "F7cJIDNiMCbN",
        "outputId": "111e374c-e6e4-4bd7-9062-9ba3467673eb"
      },
      "execution_count": 140,
      "outputs": [
        {
          "output_type": "execute_result",
          "data": {
            "text/plain": [
              "1            Sumanta Kabiraj\n",
              "10                    Glimmy\n",
              "20             Bhawana Gupta\n",
              "31        Dibyajyoti Pradhan\n",
              "52             Anshuman Negi\n",
              "54               Priya Patil\n",
              "60             Trisha Moitra\n",
              "63           Ayushree Mishra\n",
              "64           Tavish Bhardwaj\n",
              "65             Praveen Kumar\n",
              "77                Preety Rai\n",
              "82                Nayna Sahu\n",
              "85            Kanhaiya Kumar\n",
              "93           Praveen Kumar A\n",
              "103         Saptarshi Sarkar\n",
              "109         Chintala Rakshan\n",
              "110              Noureen Taj\n",
              "120             Naveen kumar\n",
              "132              Nehal Pawar\n",
              "134            Vishwas verma\n",
              "137           Gyana Pattnaik\n",
              "143                 Divisha \n",
              "161             Naveen Yadav\n",
              "163            Jyoti Prakash\n",
              "173          Bhagwati Prasad\n",
              "192               Jeeya Shah\n",
              "209           Nikeeta Kediya\n",
              "211            Anjali Saxena\n",
              "221             Kajal Thakur\n",
              "241              Srestha Das\n",
              "248                  Prushni\n",
              "270              Upasana Pan\n",
              "277           Shantanu Sutar\n",
              "278            Debopam Gupta\n",
              "292             Moumita Shee\n",
              "320          Shrinu Kushagra\n",
              "323           Adrija Samanta\n",
              "329         Ramya A Kulkarni\n",
              "336            Janhavi Obhan\n",
              "366       Tapashi Sharma Roy\n",
              "368             Vibha sharma\n",
              "395            Surbhi Kumari\n",
              "399                  Gayatri\n",
              "430              Praveen Raj\n",
              "448            Debosmita Deb\n",
              "459                   Litton\n",
              "463          Brahat K Singh.\n",
              "470      Manikanta Bhuvanesh\n",
              "472              Divya Kabra\n",
              "476            Sanika Sahuji\n",
              "482               Suprabha B\n",
              "500                   Aether\n",
              "513     Kunwar Shekhar Singh\n",
              "520           Ashwani Pandey\n",
              "528           Debashis Sinha\n",
              "534                Megha A J\n",
              "547         Vishwas Tripathi\n",
              "551             Anisha Modak\n",
              "567       Nandita Namboodiri\n",
              "576    Manda Sai Nikhil Goud\n",
              "Name: name, dtype: object"
            ],
            "text/html": [
              "<div>\n",
              "<style scoped>\n",
              "    .dataframe tbody tr th:only-of-type {\n",
              "        vertical-align: middle;\n",
              "    }\n",
              "\n",
              "    .dataframe tbody tr th {\n",
              "        vertical-align: top;\n",
              "    }\n",
              "\n",
              "    .dataframe thead th {\n",
              "        text-align: right;\n",
              "    }\n",
              "</style>\n",
              "<table border=\"1\" class=\"dataframe\">\n",
              "  <thead>\n",
              "    <tr style=\"text-align: right;\">\n",
              "      <th></th>\n",
              "      <th>name</th>\n",
              "    </tr>\n",
              "  </thead>\n",
              "  <tbody>\n",
              "    <tr>\n",
              "      <th>1</th>\n",
              "      <td>Sumanta Kabiraj</td>\n",
              "    </tr>\n",
              "    <tr>\n",
              "      <th>10</th>\n",
              "      <td>Glimmy</td>\n",
              "    </tr>\n",
              "    <tr>\n",
              "      <th>20</th>\n",
              "      <td>Bhawana Gupta</td>\n",
              "    </tr>\n",
              "    <tr>\n",
              "      <th>31</th>\n",
              "      <td>Dibyajyoti Pradhan</td>\n",
              "    </tr>\n",
              "    <tr>\n",
              "      <th>52</th>\n",
              "      <td>Anshuman Negi</td>\n",
              "    </tr>\n",
              "    <tr>\n",
              "      <th>54</th>\n",
              "      <td>Priya Patil</td>\n",
              "    </tr>\n",
              "    <tr>\n",
              "      <th>60</th>\n",
              "      <td>Trisha Moitra</td>\n",
              "    </tr>\n",
              "    <tr>\n",
              "      <th>63</th>\n",
              "      <td>Ayushree Mishra</td>\n",
              "    </tr>\n",
              "    <tr>\n",
              "      <th>64</th>\n",
              "      <td>Tavish Bhardwaj</td>\n",
              "    </tr>\n",
              "    <tr>\n",
              "      <th>65</th>\n",
              "      <td>Praveen Kumar</td>\n",
              "    </tr>\n",
              "    <tr>\n",
              "      <th>77</th>\n",
              "      <td>Preety Rai</td>\n",
              "    </tr>\n",
              "    <tr>\n",
              "      <th>82</th>\n",
              "      <td>Nayna Sahu</td>\n",
              "    </tr>\n",
              "    <tr>\n",
              "      <th>85</th>\n",
              "      <td>Kanhaiya Kumar</td>\n",
              "    </tr>\n",
              "    <tr>\n",
              "      <th>93</th>\n",
              "      <td>Praveen Kumar A</td>\n",
              "    </tr>\n",
              "    <tr>\n",
              "      <th>103</th>\n",
              "      <td>Saptarshi Sarkar</td>\n",
              "    </tr>\n",
              "    <tr>\n",
              "      <th>109</th>\n",
              "      <td>Chintala Rakshan</td>\n",
              "    </tr>\n",
              "    <tr>\n",
              "      <th>110</th>\n",
              "      <td>Noureen Taj</td>\n",
              "    </tr>\n",
              "    <tr>\n",
              "      <th>120</th>\n",
              "      <td>Naveen kumar</td>\n",
              "    </tr>\n",
              "    <tr>\n",
              "      <th>132</th>\n",
              "      <td>Nehal Pawar</td>\n",
              "    </tr>\n",
              "    <tr>\n",
              "      <th>134</th>\n",
              "      <td>Vishwas verma</td>\n",
              "    </tr>\n",
              "    <tr>\n",
              "      <th>137</th>\n",
              "      <td>Gyana Pattnaik</td>\n",
              "    </tr>\n",
              "    <tr>\n",
              "      <th>143</th>\n",
              "      <td>Divisha</td>\n",
              "    </tr>\n",
              "    <tr>\n",
              "      <th>161</th>\n",
              "      <td>Naveen Yadav</td>\n",
              "    </tr>\n",
              "    <tr>\n",
              "      <th>163</th>\n",
              "      <td>Jyoti Prakash</td>\n",
              "    </tr>\n",
              "    <tr>\n",
              "      <th>173</th>\n",
              "      <td>Bhagwati Prasad</td>\n",
              "    </tr>\n",
              "    <tr>\n",
              "      <th>192</th>\n",
              "      <td>Jeeya Shah</td>\n",
              "    </tr>\n",
              "    <tr>\n",
              "      <th>209</th>\n",
              "      <td>Nikeeta Kediya</td>\n",
              "    </tr>\n",
              "    <tr>\n",
              "      <th>211</th>\n",
              "      <td>Anjali Saxena</td>\n",
              "    </tr>\n",
              "    <tr>\n",
              "      <th>221</th>\n",
              "      <td>Kajal Thakur</td>\n",
              "    </tr>\n",
              "    <tr>\n",
              "      <th>241</th>\n",
              "      <td>Srestha Das</td>\n",
              "    </tr>\n",
              "    <tr>\n",
              "      <th>248</th>\n",
              "      <td>Prushni</td>\n",
              "    </tr>\n",
              "    <tr>\n",
              "      <th>270</th>\n",
              "      <td>Upasana Pan</td>\n",
              "    </tr>\n",
              "    <tr>\n",
              "      <th>277</th>\n",
              "      <td>Shantanu Sutar</td>\n",
              "    </tr>\n",
              "    <tr>\n",
              "      <th>278</th>\n",
              "      <td>Debopam Gupta</td>\n",
              "    </tr>\n",
              "    <tr>\n",
              "      <th>292</th>\n",
              "      <td>Moumita Shee</td>\n",
              "    </tr>\n",
              "    <tr>\n",
              "      <th>320</th>\n",
              "      <td>Shrinu Kushagra</td>\n",
              "    </tr>\n",
              "    <tr>\n",
              "      <th>323</th>\n",
              "      <td>Adrija Samanta</td>\n",
              "    </tr>\n",
              "    <tr>\n",
              "      <th>329</th>\n",
              "      <td>Ramya A Kulkarni</td>\n",
              "    </tr>\n",
              "    <tr>\n",
              "      <th>336</th>\n",
              "      <td>Janhavi Obhan</td>\n",
              "    </tr>\n",
              "    <tr>\n",
              "      <th>366</th>\n",
              "      <td>Tapashi Sharma Roy</td>\n",
              "    </tr>\n",
              "    <tr>\n",
              "      <th>368</th>\n",
              "      <td>Vibha sharma</td>\n",
              "    </tr>\n",
              "    <tr>\n",
              "      <th>395</th>\n",
              "      <td>Surbhi Kumari</td>\n",
              "    </tr>\n",
              "    <tr>\n",
              "      <th>399</th>\n",
              "      <td>Gayatri</td>\n",
              "    </tr>\n",
              "    <tr>\n",
              "      <th>430</th>\n",
              "      <td>Praveen Raj</td>\n",
              "    </tr>\n",
              "    <tr>\n",
              "      <th>448</th>\n",
              "      <td>Debosmita Deb</td>\n",
              "    </tr>\n",
              "    <tr>\n",
              "      <th>459</th>\n",
              "      <td>Litton</td>\n",
              "    </tr>\n",
              "    <tr>\n",
              "      <th>463</th>\n",
              "      <td>Brahat K Singh.</td>\n",
              "    </tr>\n",
              "    <tr>\n",
              "      <th>470</th>\n",
              "      <td>Manikanta Bhuvanesh</td>\n",
              "    </tr>\n",
              "    <tr>\n",
              "      <th>472</th>\n",
              "      <td>Divya Kabra</td>\n",
              "    </tr>\n",
              "    <tr>\n",
              "      <th>476</th>\n",
              "      <td>Sanika Sahuji</td>\n",
              "    </tr>\n",
              "    <tr>\n",
              "      <th>482</th>\n",
              "      <td>Suprabha B</td>\n",
              "    </tr>\n",
              "    <tr>\n",
              "      <th>500</th>\n",
              "      <td>Aether</td>\n",
              "    </tr>\n",
              "    <tr>\n",
              "      <th>513</th>\n",
              "      <td>Kunwar Shekhar Singh</td>\n",
              "    </tr>\n",
              "    <tr>\n",
              "      <th>520</th>\n",
              "      <td>Ashwani Pandey</td>\n",
              "    </tr>\n",
              "    <tr>\n",
              "      <th>528</th>\n",
              "      <td>Debashis Sinha</td>\n",
              "    </tr>\n",
              "    <tr>\n",
              "      <th>534</th>\n",
              "      <td>Megha A J</td>\n",
              "    </tr>\n",
              "    <tr>\n",
              "      <th>547</th>\n",
              "      <td>Vishwas Tripathi</td>\n",
              "    </tr>\n",
              "    <tr>\n",
              "      <th>551</th>\n",
              "      <td>Anisha Modak</td>\n",
              "    </tr>\n",
              "    <tr>\n",
              "      <th>567</th>\n",
              "      <td>Nandita Namboodiri</td>\n",
              "    </tr>\n",
              "    <tr>\n",
              "      <th>576</th>\n",
              "      <td>Manda Sai Nikhil Goud</td>\n",
              "    </tr>\n",
              "  </tbody>\n",
              "</table>\n",
              "</div><br><label><b>dtype:</b> object</label>"
            ]
          },
          "metadata": {},
          "execution_count": 140
        }
      ]
    },
    {
      "cell_type": "markdown",
      "source": [
        "- Looks like still there are some entries where 'female' gender is wrongly assigned\n",
        "- Now, we will try to assign gender manually"
      ],
      "metadata": {
        "id": "s2OoI3NDWIxD"
      }
    },
    {
      "cell_type": "code",
      "source": [
        "def gender_assign_manual(full_name):\n",
        "  \"\"\"\n",
        "  The function is responsible for assigning the gender to the person manually\n",
        "  Args\n",
        "  name : contains the name of the user for which gender needs to be found\n",
        "  \"\"\"\n",
        "\n",
        "  # Retrieving first name\n",
        "  name = full_name.split()[0]\n",
        "\n",
        "  names = ['Akshar', 'Santosh', 'Ashutosh', 'Shantanu', 'Naveen', 'Debopam', 'Vishwas', 'Kanhaiya', 'Junaid', 'Anshuman', 'Praveen', 'Brahat', 'Kunwar', 'Akhilesh']\n",
        "\n",
        "  if name in names:\n",
        "    return 'male'\n",
        "  else:\n",
        "    return 'female'\n",
        "\n",
        "# Applying only for entries where gender_pronoun is 'female'\n",
        "df['gender_pronoun'] = df.apply(lambda x: gender_assign_manual(x['name']) if x['gender_pronoun'] == 'female' else x['gender_pronoun'], axis=1)"
      ],
      "metadata": {
        "id": "wfasyQQ2NU4T"
      },
      "execution_count": 141,
      "outputs": []
    },
    {
      "cell_type": "code",
      "source": [
        "df.gender_pronoun.value_counts()"
      ],
      "metadata": {
        "colab": {
          "base_uri": "https://localhost:8080/",
          "height": 178
        },
        "id": "3LXJAgStYRJ7",
        "outputId": "1712989c-209e-406b-d627-7328ac3e560e"
      },
      "execution_count": 142,
      "outputs": [
        {
          "output_type": "execute_result",
          "data": {
            "text/plain": [
              "gender_pronoun\n",
              "male      9231\n",
              "female     924\n",
              "Name: count, dtype: int64"
            ],
            "text/html": [
              "<div>\n",
              "<style scoped>\n",
              "    .dataframe tbody tr th:only-of-type {\n",
              "        vertical-align: middle;\n",
              "    }\n",
              "\n",
              "    .dataframe tbody tr th {\n",
              "        vertical-align: top;\n",
              "    }\n",
              "\n",
              "    .dataframe thead th {\n",
              "        text-align: right;\n",
              "    }\n",
              "</style>\n",
              "<table border=\"1\" class=\"dataframe\">\n",
              "  <thead>\n",
              "    <tr style=\"text-align: right;\">\n",
              "      <th></th>\n",
              "      <th>count</th>\n",
              "    </tr>\n",
              "    <tr>\n",
              "      <th>gender_pronoun</th>\n",
              "      <th></th>\n",
              "    </tr>\n",
              "  </thead>\n",
              "  <tbody>\n",
              "    <tr>\n",
              "      <th>male</th>\n",
              "      <td>9231</td>\n",
              "    </tr>\n",
              "    <tr>\n",
              "      <th>female</th>\n",
              "      <td>924</td>\n",
              "    </tr>\n",
              "  </tbody>\n",
              "</table>\n",
              "</div><br><label><b>dtype:</b> int64</label>"
            ]
          },
          "metadata": {},
          "execution_count": 142
        }
      ]
    },
    {
      "cell_type": "code",
      "source": [
        "df[df.gender_pronoun == 'female']['name'].head(60)"
      ],
      "metadata": {
        "colab": {
          "base_uri": "https://localhost:8080/",
          "height": 1000
        },
        "id": "sPpXeGdccEHF",
        "outputId": "9cfc93ef-bf30-4f92-83fc-5175f86b7c59"
      },
      "execution_count": 143,
      "outputs": [
        {
          "output_type": "execute_result",
          "data": {
            "text/plain": [
              "1            Sumanta Kabiraj\n",
              "10                    Glimmy\n",
              "20             Bhawana Gupta\n",
              "31        Dibyajyoti Pradhan\n",
              "54               Priya Patil\n",
              "60             Trisha Moitra\n",
              "63           Ayushree Mishra\n",
              "64           Tavish Bhardwaj\n",
              "77                Preety Rai\n",
              "82                Nayna Sahu\n",
              "103         Saptarshi Sarkar\n",
              "109         Chintala Rakshan\n",
              "110              Noureen Taj\n",
              "132              Nehal Pawar\n",
              "137           Gyana Pattnaik\n",
              "143                 Divisha \n",
              "163            Jyoti Prakash\n",
              "173          Bhagwati Prasad\n",
              "192               Jeeya Shah\n",
              "209           Nikeeta Kediya\n",
              "211            Anjali Saxena\n",
              "221             Kajal Thakur\n",
              "241              Srestha Das\n",
              "248                  Prushni\n",
              "270              Upasana Pan\n",
              "292             Moumita Shee\n",
              "320          Shrinu Kushagra\n",
              "323           Adrija Samanta\n",
              "329         Ramya A Kulkarni\n",
              "336            Janhavi Obhan\n",
              "366       Tapashi Sharma Roy\n",
              "368             Vibha sharma\n",
              "395            Surbhi Kumari\n",
              "399                  Gayatri\n",
              "448            Debosmita Deb\n",
              "459                   Litton\n",
              "470      Manikanta Bhuvanesh\n",
              "472              Divya Kabra\n",
              "476            Sanika Sahuji\n",
              "482               Suprabha B\n",
              "500                   Aether\n",
              "520           Ashwani Pandey\n",
              "528           Debashis Sinha\n",
              "534                Megha A J\n",
              "551             Anisha Modak\n",
              "567       Nandita Namboodiri\n",
              "576    Manda Sai Nikhil Goud\n",
              "578              Kirti Sinha\n",
              "581              Nayana Tara\n",
              "586           Aashi Gangrade\n",
              "615              praveshtora\n",
              "620          Saurabha Pandey\n",
              "625             Alisha Dixit\n",
              "641           Hanshika Gupta\n",
              "642             Surendiran I\n",
              "644        Subhajyoti Prusty\n",
              "652              Shweta jain\n",
              "659            Ankita Kamboj\n",
              "672           Debjyoti Ghosh\n",
              "676          Bhargav Talpada\n",
              "Name: name, dtype: object"
            ],
            "text/html": [
              "<div>\n",
              "<style scoped>\n",
              "    .dataframe tbody tr th:only-of-type {\n",
              "        vertical-align: middle;\n",
              "    }\n",
              "\n",
              "    .dataframe tbody tr th {\n",
              "        vertical-align: top;\n",
              "    }\n",
              "\n",
              "    .dataframe thead th {\n",
              "        text-align: right;\n",
              "    }\n",
              "</style>\n",
              "<table border=\"1\" class=\"dataframe\">\n",
              "  <thead>\n",
              "    <tr style=\"text-align: right;\">\n",
              "      <th></th>\n",
              "      <th>name</th>\n",
              "    </tr>\n",
              "  </thead>\n",
              "  <tbody>\n",
              "    <tr>\n",
              "      <th>1</th>\n",
              "      <td>Sumanta Kabiraj</td>\n",
              "    </tr>\n",
              "    <tr>\n",
              "      <th>10</th>\n",
              "      <td>Glimmy</td>\n",
              "    </tr>\n",
              "    <tr>\n",
              "      <th>20</th>\n",
              "      <td>Bhawana Gupta</td>\n",
              "    </tr>\n",
              "    <tr>\n",
              "      <th>31</th>\n",
              "      <td>Dibyajyoti Pradhan</td>\n",
              "    </tr>\n",
              "    <tr>\n",
              "      <th>54</th>\n",
              "      <td>Priya Patil</td>\n",
              "    </tr>\n",
              "    <tr>\n",
              "      <th>60</th>\n",
              "      <td>Trisha Moitra</td>\n",
              "    </tr>\n",
              "    <tr>\n",
              "      <th>63</th>\n",
              "      <td>Ayushree Mishra</td>\n",
              "    </tr>\n",
              "    <tr>\n",
              "      <th>64</th>\n",
              "      <td>Tavish Bhardwaj</td>\n",
              "    </tr>\n",
              "    <tr>\n",
              "      <th>77</th>\n",
              "      <td>Preety Rai</td>\n",
              "    </tr>\n",
              "    <tr>\n",
              "      <th>82</th>\n",
              "      <td>Nayna Sahu</td>\n",
              "    </tr>\n",
              "    <tr>\n",
              "      <th>103</th>\n",
              "      <td>Saptarshi Sarkar</td>\n",
              "    </tr>\n",
              "    <tr>\n",
              "      <th>109</th>\n",
              "      <td>Chintala Rakshan</td>\n",
              "    </tr>\n",
              "    <tr>\n",
              "      <th>110</th>\n",
              "      <td>Noureen Taj</td>\n",
              "    </tr>\n",
              "    <tr>\n",
              "      <th>132</th>\n",
              "      <td>Nehal Pawar</td>\n",
              "    </tr>\n",
              "    <tr>\n",
              "      <th>137</th>\n",
              "      <td>Gyana Pattnaik</td>\n",
              "    </tr>\n",
              "    <tr>\n",
              "      <th>143</th>\n",
              "      <td>Divisha</td>\n",
              "    </tr>\n",
              "    <tr>\n",
              "      <th>163</th>\n",
              "      <td>Jyoti Prakash</td>\n",
              "    </tr>\n",
              "    <tr>\n",
              "      <th>173</th>\n",
              "      <td>Bhagwati Prasad</td>\n",
              "    </tr>\n",
              "    <tr>\n",
              "      <th>192</th>\n",
              "      <td>Jeeya Shah</td>\n",
              "    </tr>\n",
              "    <tr>\n",
              "      <th>209</th>\n",
              "      <td>Nikeeta Kediya</td>\n",
              "    </tr>\n",
              "    <tr>\n",
              "      <th>211</th>\n",
              "      <td>Anjali Saxena</td>\n",
              "    </tr>\n",
              "    <tr>\n",
              "      <th>221</th>\n",
              "      <td>Kajal Thakur</td>\n",
              "    </tr>\n",
              "    <tr>\n",
              "      <th>241</th>\n",
              "      <td>Srestha Das</td>\n",
              "    </tr>\n",
              "    <tr>\n",
              "      <th>248</th>\n",
              "      <td>Prushni</td>\n",
              "    </tr>\n",
              "    <tr>\n",
              "      <th>270</th>\n",
              "      <td>Upasana Pan</td>\n",
              "    </tr>\n",
              "    <tr>\n",
              "      <th>292</th>\n",
              "      <td>Moumita Shee</td>\n",
              "    </tr>\n",
              "    <tr>\n",
              "      <th>320</th>\n",
              "      <td>Shrinu Kushagra</td>\n",
              "    </tr>\n",
              "    <tr>\n",
              "      <th>323</th>\n",
              "      <td>Adrija Samanta</td>\n",
              "    </tr>\n",
              "    <tr>\n",
              "      <th>329</th>\n",
              "      <td>Ramya A Kulkarni</td>\n",
              "    </tr>\n",
              "    <tr>\n",
              "      <th>336</th>\n",
              "      <td>Janhavi Obhan</td>\n",
              "    </tr>\n",
              "    <tr>\n",
              "      <th>366</th>\n",
              "      <td>Tapashi Sharma Roy</td>\n",
              "    </tr>\n",
              "    <tr>\n",
              "      <th>368</th>\n",
              "      <td>Vibha sharma</td>\n",
              "    </tr>\n",
              "    <tr>\n",
              "      <th>395</th>\n",
              "      <td>Surbhi Kumari</td>\n",
              "    </tr>\n",
              "    <tr>\n",
              "      <th>399</th>\n",
              "      <td>Gayatri</td>\n",
              "    </tr>\n",
              "    <tr>\n",
              "      <th>448</th>\n",
              "      <td>Debosmita Deb</td>\n",
              "    </tr>\n",
              "    <tr>\n",
              "      <th>459</th>\n",
              "      <td>Litton</td>\n",
              "    </tr>\n",
              "    <tr>\n",
              "      <th>470</th>\n",
              "      <td>Manikanta Bhuvanesh</td>\n",
              "    </tr>\n",
              "    <tr>\n",
              "      <th>472</th>\n",
              "      <td>Divya Kabra</td>\n",
              "    </tr>\n",
              "    <tr>\n",
              "      <th>476</th>\n",
              "      <td>Sanika Sahuji</td>\n",
              "    </tr>\n",
              "    <tr>\n",
              "      <th>482</th>\n",
              "      <td>Suprabha B</td>\n",
              "    </tr>\n",
              "    <tr>\n",
              "      <th>500</th>\n",
              "      <td>Aether</td>\n",
              "    </tr>\n",
              "    <tr>\n",
              "      <th>520</th>\n",
              "      <td>Ashwani Pandey</td>\n",
              "    </tr>\n",
              "    <tr>\n",
              "      <th>528</th>\n",
              "      <td>Debashis Sinha</td>\n",
              "    </tr>\n",
              "    <tr>\n",
              "      <th>534</th>\n",
              "      <td>Megha A J</td>\n",
              "    </tr>\n",
              "    <tr>\n",
              "      <th>551</th>\n",
              "      <td>Anisha Modak</td>\n",
              "    </tr>\n",
              "    <tr>\n",
              "      <th>567</th>\n",
              "      <td>Nandita Namboodiri</td>\n",
              "    </tr>\n",
              "    <tr>\n",
              "      <th>576</th>\n",
              "      <td>Manda Sai Nikhil Goud</td>\n",
              "    </tr>\n",
              "    <tr>\n",
              "      <th>578</th>\n",
              "      <td>Kirti Sinha</td>\n",
              "    </tr>\n",
              "    <tr>\n",
              "      <th>581</th>\n",
              "      <td>Nayana Tara</td>\n",
              "    </tr>\n",
              "    <tr>\n",
              "      <th>586</th>\n",
              "      <td>Aashi Gangrade</td>\n",
              "    </tr>\n",
              "    <tr>\n",
              "      <th>615</th>\n",
              "      <td>praveshtora</td>\n",
              "    </tr>\n",
              "    <tr>\n",
              "      <th>620</th>\n",
              "      <td>Saurabha Pandey</td>\n",
              "    </tr>\n",
              "    <tr>\n",
              "      <th>625</th>\n",
              "      <td>Alisha Dixit</td>\n",
              "    </tr>\n",
              "    <tr>\n",
              "      <th>641</th>\n",
              "      <td>Hanshika Gupta</td>\n",
              "    </tr>\n",
              "    <tr>\n",
              "      <th>642</th>\n",
              "      <td>Surendiran I</td>\n",
              "    </tr>\n",
              "    <tr>\n",
              "      <th>644</th>\n",
              "      <td>Subhajyoti Prusty</td>\n",
              "    </tr>\n",
              "    <tr>\n",
              "      <th>652</th>\n",
              "      <td>Shweta jain</td>\n",
              "    </tr>\n",
              "    <tr>\n",
              "      <th>659</th>\n",
              "      <td>Ankita Kamboj</td>\n",
              "    </tr>\n",
              "    <tr>\n",
              "      <th>672</th>\n",
              "      <td>Debjyoti Ghosh</td>\n",
              "    </tr>\n",
              "    <tr>\n",
              "      <th>676</th>\n",
              "      <td>Bhargav Talpada</td>\n",
              "    </tr>\n",
              "  </tbody>\n",
              "</table>\n",
              "</div><br><label><b>dtype:</b> object</label>"
            ]
          },
          "metadata": {},
          "execution_count": 143
        }
      ]
    },
    {
      "cell_type": "code",
      "source": [
        "df.gender_pronoun.value_counts()"
      ],
      "metadata": {
        "colab": {
          "base_uri": "https://localhost:8080/",
          "height": 178
        },
        "id": "l3FXX9ZVfhbF",
        "outputId": "c6288b17-bb2c-48de-ba13-d8b62594cba9"
      },
      "execution_count": 144,
      "outputs": [
        {
          "output_type": "execute_result",
          "data": {
            "text/plain": [
              "gender_pronoun\n",
              "male      9231\n",
              "female     924\n",
              "Name: count, dtype: int64"
            ],
            "text/html": [
              "<div>\n",
              "<style scoped>\n",
              "    .dataframe tbody tr th:only-of-type {\n",
              "        vertical-align: middle;\n",
              "    }\n",
              "\n",
              "    .dataframe tbody tr th {\n",
              "        vertical-align: top;\n",
              "    }\n",
              "\n",
              "    .dataframe thead th {\n",
              "        text-align: right;\n",
              "    }\n",
              "</style>\n",
              "<table border=\"1\" class=\"dataframe\">\n",
              "  <thead>\n",
              "    <tr style=\"text-align: right;\">\n",
              "      <th></th>\n",
              "      <th>count</th>\n",
              "    </tr>\n",
              "    <tr>\n",
              "      <th>gender_pronoun</th>\n",
              "      <th></th>\n",
              "    </tr>\n",
              "  </thead>\n",
              "  <tbody>\n",
              "    <tr>\n",
              "      <th>male</th>\n",
              "      <td>9231</td>\n",
              "    </tr>\n",
              "    <tr>\n",
              "      <th>female</th>\n",
              "      <td>924</td>\n",
              "    </tr>\n",
              "  </tbody>\n",
              "</table>\n",
              "</div><br><label><b>dtype:</b> int64</label>"
            ]
          },
          "metadata": {},
          "execution_count": 144
        }
      ]
    },
    {
      "cell_type": "code",
      "source": [
        "df.columns"
      ],
      "metadata": {
        "colab": {
          "base_uri": "https://localhost:8080/"
        },
        "id": "EkZBorP7ggHL",
        "outputId": "8e06f7d0-16cc-4052-97c5-e7f6e6e16d29"
      },
      "execution_count": 145,
      "outputs": [
        {
          "output_type": "execute_result",
          "data": {
            "text/plain": [
              "Index(['username', 'gender_pronoun', 'followings', 'joining_year',\n",
              "       'last_year_contributions', 'achievements_num', 'stars', 'has_readme',\n",
              "       'social_link', 'social_platform', 'works_for', 'status', 'name',\n",
              "       'location', 'repositories', 'followers', 'language', 'sorting type',\n",
              "       'description'],\n",
              "      dtype='object')"
            ]
          },
          "metadata": {},
          "execution_count": 145
        }
      ]
    },
    {
      "cell_type": "markdown",
      "source": [
        "## Handling the **joining_year** feature"
      ],
      "metadata": {
        "id": "zZWYvfi_hIPc"
      }
    },
    {
      "cell_type": "code",
      "source": [
        "df.joining_year.unique()"
      ],
      "metadata": {
        "colab": {
          "base_uri": "https://localhost:8080/"
        },
        "id": "x_x1J8p_g89L",
        "outputId": "c06604eb-3d63-495f-c24b-76d0bfb6a50f"
      },
      "execution_count": 146,
      "outputs": [
        {
          "output_type": "execute_result",
          "data": {
            "text/plain": [
              "array([2021., 2018., 2023., 2024., 2019., 2020., 2014., 2015., 2016.,\n",
              "       2022., 2012., 2017., 2013., 2011., 2010., 2008., 2009., 1999.,\n",
              "       1990.,   nan, 1976., 1969., 2005.])"
            ]
          },
          "metadata": {},
          "execution_count": 146
        }
      ]
    },
    {
      "cell_type": "code",
      "source": [
        "df.joining_year.info()"
      ],
      "metadata": {
        "colab": {
          "base_uri": "https://localhost:8080/"
        },
        "id": "oM9Aj3i8CHp6",
        "outputId": "8cad61ef-7a77-4abb-e336-8337bd8c38e1"
      },
      "execution_count": 147,
      "outputs": [
        {
          "output_type": "stream",
          "name": "stdout",
          "text": [
            "<class 'pandas.core.series.Series'>\n",
            "Index: 10155 entries, 0 to 10163\n",
            "Series name: joining_year\n",
            "Non-Null Count  Dtype  \n",
            "--------------  -----  \n",
            "10061 non-null  float64\n",
            "dtypes: float64(1)\n",
            "memory usage: 158.7 KB\n"
          ]
        }
      ]
    },
    {
      "cell_type": "code",
      "source": [
        "df.joining_year.min()"
      ],
      "metadata": {
        "colab": {
          "base_uri": "https://localhost:8080/"
        },
        "id": "HqOCAMNL-Qbs",
        "outputId": "3ae4a54e-a182-4ba4-b600-e18693221f08"
      },
      "execution_count": 148,
      "outputs": [
        {
          "output_type": "execute_result",
          "data": {
            "text/plain": [
              "1969.0"
            ]
          },
          "metadata": {},
          "execution_count": 148
        }
      ]
    },
    {
      "cell_type": "code",
      "source": [
        "df.joining_year.isna().sum()"
      ],
      "metadata": {
        "colab": {
          "base_uri": "https://localhost:8080/"
        },
        "id": "8tkIRPYChCU6",
        "outputId": "6a50c228-ce69-4e79-d263-b115768346ef"
      },
      "execution_count": 149,
      "outputs": [
        {
          "output_type": "execute_result",
          "data": {
            "text/plain": [
              "94"
            ]
          },
          "metadata": {},
          "execution_count": 149
        }
      ]
    },
    {
      "cell_type": "markdown",
      "source": [
        "**Observations**\n",
        "- GitHub was founded in the year 2008, but current dataset contain entries earlier to it. Such entries should be treated as an outliers.\n",
        "- Also, there is no other feature available in the dataset from where **joining_year** can be extracted.\n"
      ],
      "metadata": {
        "id": "HwJcYx-a-DnA"
      }
    },
    {
      "cell_type": "markdown",
      "source": [
        "**Operations**\n",
        "- One approach to allocate value for missing entries and outliers in  **joining_year** is by assigning values based on number of repositories created by the user.\n",
        "- It is likely that longer the user is using GitHub, more work he/she will do with more repositories.\n",
        "- Custom criteria can be used to allocate the **joining_year** is to assume on average user creates **10** repositories. So, the formula will be *joining_year = current_year(2024) - (repositories / 10)*\n",
        "- It also needs to make sure that joining_year shouldn't go below 2008 during the update. So, the updated formula should look like *joining_year = max(2008, current_year(2024) - (repositories / 10))*"
      ],
      "metadata": {
        "id": "KZ5DKhuqHAqN"
      }
    },
    {
      "cell_type": "code",
      "source": [
        "# Finding out indexes of entries where joining_year is before 2008 or data is missing\n",
        "joining_year_indexes = df[(df.joining_year < 2008) | (df.joining_year.isna())].index"
      ],
      "metadata": {
        "id": "rUh3r6vdLh0F"
      },
      "execution_count": 150,
      "outputs": []
    },
    {
      "cell_type": "code",
      "source": [
        "# Changing the datatype\n",
        "df['repositories'] = df['repositories'].astype(int)"
      ],
      "metadata": {
        "id": "YTau4_b3OIQl"
      },
      "execution_count": 151,
      "outputs": []
    },
    {
      "cell_type": "code",
      "source": [
        "df.loc[joining_year_indexes, 'joining_year'] = df.loc[joining_year_indexes, 'repositories'].apply(lambda x: max(2008, int(2024 - (int(x) / 10))))"
      ],
      "metadata": {
        "id": "qRmxfLCDLuOV"
      },
      "execution_count": 152,
      "outputs": []
    },
    {
      "cell_type": "code",
      "source": [
        "df.joining_year.unique()"
      ],
      "metadata": {
        "id": "C6t3prlkN9n4",
        "colab": {
          "base_uri": "https://localhost:8080/"
        },
        "outputId": "97b914e4-58bc-4f22-e531-e67ad57c8145"
      },
      "execution_count": 153,
      "outputs": [
        {
          "output_type": "execute_result",
          "data": {
            "text/plain": [
              "array([2021., 2018., 2023., 2024., 2019., 2020., 2014., 2015., 2016.,\n",
              "       2022., 2012., 2017., 2013., 2011., 2010., 2008., 2009.])"
            ]
          },
          "metadata": {},
          "execution_count": 153
        }
      ]
    },
    {
      "cell_type": "markdown",
      "source": [
        "## Handling the **last_year_contributions** feature"
      ],
      "metadata": {
        "id": "R2ns-rsDEUZA"
      }
    },
    {
      "cell_type": "code",
      "source": [
        "df.last_year_contributions.head()"
      ],
      "metadata": {
        "colab": {
          "base_uri": "https://localhost:8080/",
          "height": 241
        },
        "id": "JdYC9UsLDhMi",
        "outputId": "6a5b27fe-6e76-4ca7-f54f-06ad2324d147"
      },
      "execution_count": 154,
      "outputs": [
        {
          "output_type": "execute_result",
          "data": {
            "text/plain": [
              "0      2.0\n",
              "1    623.0\n",
              "2    204.0\n",
              "3      2.0\n",
              "4      6.0\n",
              "Name: last_year_contributions, dtype: float64"
            ],
            "text/html": [
              "<div>\n",
              "<style scoped>\n",
              "    .dataframe tbody tr th:only-of-type {\n",
              "        vertical-align: middle;\n",
              "    }\n",
              "\n",
              "    .dataframe tbody tr th {\n",
              "        vertical-align: top;\n",
              "    }\n",
              "\n",
              "    .dataframe thead th {\n",
              "        text-align: right;\n",
              "    }\n",
              "</style>\n",
              "<table border=\"1\" class=\"dataframe\">\n",
              "  <thead>\n",
              "    <tr style=\"text-align: right;\">\n",
              "      <th></th>\n",
              "      <th>last_year_contributions</th>\n",
              "    </tr>\n",
              "  </thead>\n",
              "  <tbody>\n",
              "    <tr>\n",
              "      <th>0</th>\n",
              "      <td>2.0</td>\n",
              "    </tr>\n",
              "    <tr>\n",
              "      <th>1</th>\n",
              "      <td>623.0</td>\n",
              "    </tr>\n",
              "    <tr>\n",
              "      <th>2</th>\n",
              "      <td>204.0</td>\n",
              "    </tr>\n",
              "    <tr>\n",
              "      <th>3</th>\n",
              "      <td>2.0</td>\n",
              "    </tr>\n",
              "    <tr>\n",
              "      <th>4</th>\n",
              "      <td>6.0</td>\n",
              "    </tr>\n",
              "  </tbody>\n",
              "</table>\n",
              "</div><br><label><b>dtype:</b> float64</label>"
            ]
          },
          "metadata": {},
          "execution_count": 154
        }
      ]
    },
    {
      "cell_type": "code",
      "source": [
        "df.last_year_contributions.isna().sum()"
      ],
      "metadata": {
        "colab": {
          "base_uri": "https://localhost:8080/"
        },
        "id": "grKZjIjNDo-k",
        "outputId": "e3b81e46-eb67-4987-8e9e-23fbc0643b17"
      },
      "execution_count": 155,
      "outputs": [
        {
          "output_type": "execute_result",
          "data": {
            "text/plain": [
              "94"
            ]
          },
          "metadata": {},
          "execution_count": 155
        }
      ]
    },
    {
      "cell_type": "code",
      "source": [
        "df[df.last_year_contributions.isna()]['joining_year'].value_counts().plot(kind='bar')"
      ],
      "metadata": {
        "colab": {
          "base_uri": "https://localhost:8080/",
          "height": 501
        },
        "id": "mturjnqqGujl",
        "outputId": "2033c34e-db51-436c-a103-25c49687d28c"
      },
      "execution_count": 156,
      "outputs": [
        {
          "output_type": "execute_result",
          "data": {
            "text/plain": [
              "<Axes: xlabel='joining_year'>"
            ]
          },
          "metadata": {},
          "execution_count": 156
        },
        {
          "output_type": "display_data",
          "data": {
            "text/plain": [
              "<Figure size 640x480 with 1 Axes>"
            ],
            "image/png": "[encoded data removed]"
          },
          "metadata": {}
        }
      ]
    },
    {
      "cell_type": "code",
      "source": [
        "df1 = df[~df.last_year_contributions.isna()].groupby('joining_year')['last_year_contributions'].mean().reset_index()"
      ],
      "metadata": {
        "id": "x7aUFXMFHewq"
      },
      "execution_count": 157,
      "outputs": []
    },
    {
      "cell_type": "code",
      "source": [
        "df2 = df.joining_year.value_counts().sort_index(ascending=False)\n",
        "df2.name = 'count'\n",
        "df2 = df2.reset_index()\n",
        "df2.columns = ['joining_year', 'contrinutors']"
      ],
      "metadata": {
        "id": "nJVajDvsPGzx"
      },
      "execution_count": 158,
      "outputs": []
    },
    {
      "cell_type": "code",
      "source": [
        "df1.merge(df2, on = 'joining_year').plot(x='joining_year', y=['last_year_contributions', 'contrinutors'], kind='bar')"
      ],
      "metadata": {
        "colab": {
          "base_uri": "https://localhost:8080/",
          "height": 501
        },
        "id": "11VNIa_2TSGK",
        "outputId": "29b9f527-01e3-453e-8756-034c0dfd0e2c"
      },
      "execution_count": 159,
      "outputs": [
        {
          "output_type": "execute_result",
          "data": {
            "text/plain": [
              "<Axes: xlabel='joining_year'>"
            ]
          },
          "metadata": {},
          "execution_count": 159
        },
        {
          "output_type": "display_data",
          "data": {
            "text/plain": [
              "<Figure size 640x480 with 1 Axes>"
            ],
            "image/png": "[encoded data removed]"
          },
          "metadata": {}
        }
      ]
    },
    {
      "cell_type": "markdown",
      "source": [
        "**Observations**\n",
        "- Proportion of last 10 years contributors and contributions is maintained."
      ],
      "metadata": {
        "id": "MFhCeWVYX68J"
      }
    },
    {
      "cell_type": "markdown",
      "source": [
        "**Operations**\n",
        "- Missing entries can be replaced with an average integer value of contributions from the respected year."
      ],
      "metadata": {
        "id": "Dbco6K1EYtR8"
      }
    },
    {
      "cell_type": "code",
      "source": [
        "# identifying indexes of all the missing entries\n",
        "missing_contribution_index = df[df.last_year_contributions.isna()].index"
      ],
      "metadata": {
        "id": "0hJjI-lQT4K3"
      },
      "execution_count": 160,
      "outputs": []
    },
    {
      "cell_type": "code",
      "source": [
        "# Replacing missing values of last_year_contributions\n",
        "df.loc[missing_contribution_index, 'last_year_contributions'] = df.loc[missing_contribution_index].apply(lambda x: int(df1[df1.joining_year == x['joining_year']]['last_year_contributions']), axis=1)"
      ],
      "metadata": {
        "colab": {
          "base_uri": "https://localhost:8080/"
        },
        "id": "pJ7nYViWal7d",
        "outputId": "3afe4291-b816-4285-b087-72bcc94c3eb2"
      },
      "execution_count": 161,
      "outputs": [
        {
          "output_type": "stream",
          "name": "stderr",
          "text": [
            "<ipython-input-161-7924600c527e>:2: FutureWarning: Calling int on a single element Series is deprecated and will raise a TypeError in the future. Use int(ser.iloc[0]) instead\n",
            "  df.loc[missing_contribution_index, 'last_year_contributions'] = df.loc[missing_contribution_index].apply(lambda x: int(df1[df1.joining_year == x['joining_year']]['last_year_contributions']), axis=1)\n"
          ]
        }
      ]
    },
    {
      "cell_type": "code",
      "source": [
        "df.last_year_contributions.isna().sum()"
      ],
      "metadata": {
        "colab": {
          "base_uri": "https://localhost:8080/"
        },
        "id": "z_bTUsJ1bI0W",
        "outputId": "b685632a-c684-4fff-fb4d-8483774dc58c"
      },
      "execution_count": 162,
      "outputs": [
        {
          "output_type": "execute_result",
          "data": {
            "text/plain": [
              "0"
            ]
          },
          "metadata": {},
          "execution_count": 162
        }
      ]
    },
    {
      "cell_type": "code",
      "source": [
        "df[df.last_year_contributions > 3000].shape"
      ],
      "metadata": {
        "colab": {
          "base_uri": "https://localhost:8080/"
        },
        "id": "jQRax-zXb9ZN",
        "outputId": "fe120510-cb8e-4530-b2a2-97be67826f83"
      },
      "execution_count": 163,
      "outputs": [
        {
          "output_type": "execute_result",
          "data": {
            "text/plain": [
              "(14, 19)"
            ]
          },
          "metadata": {},
          "execution_count": 163
        }
      ]
    },
    {
      "cell_type": "code",
      "source": [
        "df.last_year_contributions.plot(kind='hist')"
      ],
      "metadata": {
        "id": "lFXA0jgGcCI1",
        "colab": {
          "base_uri": "https://localhost:8080/",
          "height": 447
        },
        "outputId": "dc65901f-fb42-4b22-d6b8-1b5af6f5fd24"
      },
      "execution_count": 164,
      "outputs": [
        {
          "output_type": "execute_result",
          "data": {
            "text/plain": [
              "<Axes: ylabel='Frequency'>"
            ]
          },
          "metadata": {},
          "execution_count": 164
        },
        {
          "output_type": "display_data",
          "data": {
            "text/plain": [
              "<Figure size 640x480 with 1 Axes>"
            ],
            "image/png": "[encoded data removed]"
          },
          "metadata": {}
        }
      ]
    },
    {
      "cell_type": "markdown",
      "source": [
        "**Observations**\n",
        "- Distribution of contributuion of users is right-skewed.\n",
        "- Even if having contributions more than 3000 per year could be genuine, such rare cases might not be good fit for model training.\n",
        "- Such unique samples perform the role of outliers. Hence, they should be considered outliers."
      ],
      "metadata": {
        "id": "DYPVsrrgms_Z"
      }
    },
    {
      "cell_type": "code",
      "source": [
        "contributions_outlier_index = df[df.last_year_contributions > 1000].index\n",
        "df.drop(contributions_outlier_index, inplace=True)"
      ],
      "metadata": {
        "id": "IamAVe6dmhz7"
      },
      "execution_count": 165,
      "outputs": []
    },
    {
      "cell_type": "code",
      "source": [
        "df.last_year_contributions.plot(kind='hist')"
      ],
      "metadata": {
        "colab": {
          "base_uri": "https://localhost:8080/",
          "height": 447
        },
        "id": "41ExH-lvoG_q",
        "outputId": "433fd420-645f-456f-ff7c-51a3a006f8b5"
      },
      "execution_count": 166,
      "outputs": [
        {
          "output_type": "execute_result",
          "data": {
            "text/plain": [
              "<Axes: ylabel='Frequency'>"
            ]
          },
          "metadata": {},
          "execution_count": 166
        },
        {
          "output_type": "display_data",
          "data": {
            "text/plain": [
              "<Figure size 640x480 with 1 Axes>"
            ],
            "image/png": "[encoded data removed]"
          },
          "metadata": {}
        }
      ]
    },
    {
      "cell_type": "code",
      "source": [
        "df[df.last_year_contributions < 100]['last_year_contributions'].plot(kind='hist')"
      ],
      "metadata": {
        "colab": {
          "base_uri": "https://localhost:8080/",
          "height": 447
        },
        "id": "L17-dz8eoVZc",
        "outputId": "31712b6b-9285-4ca6-9d55-cc10c0faaef3"
      },
      "execution_count": 167,
      "outputs": [
        {
          "output_type": "execute_result",
          "data": {
            "text/plain": [
              "<Axes: ylabel='Frequency'>"
            ]
          },
          "metadata": {},
          "execution_count": 167
        },
        {
          "output_type": "display_data",
          "data": {
            "text/plain": [
              "<Figure size 640x480 with 1 Axes>"
            ],
            "image/png": "[encoded data removed]"
          },
          "metadata": {}
        }
      ]
    },
    {
      "cell_type": "markdown",
      "source": [
        "## Handling the **star** feature"
      ],
      "metadata": {
        "id": "Ws9-OuRVXO62"
      }
    },
    {
      "cell_type": "markdown",
      "source": [
        "A GitHub repository star is a way for users to bookmark or show appreciation for a repository. Think of it like a \"like\" on Facebook or a bookmark in your web browser, but specifically for GitHub repositories."
      ],
      "metadata": {
        "id": "4T7BG5OYXVih"
      }
    },
    {
      "cell_type": "code",
      "source": [
        "df.stars.unique()"
      ],
      "metadata": {
        "id": "Fcp9UwcXo0ck",
        "colab": {
          "base_uri": "https://localhost:8080/"
        },
        "outputId": "075ce89c-8c34-46f9-f78e-b761080b8843"
      },
      "execution_count": 168,
      "outputs": [
        {
          "output_type": "execute_result",
          "data": {
            "text/plain": [
              "array(['0', '87', '9', '5', '12', '1', '4', '8', '6', '20', '91', '7',\n",
              "       '17', '22', '33', '46', '115', '3', '51', '100', '19', '44', '2',\n",
              "       '14', '10', '48', '43', '47', '57', '15', '16', '24', '13', '52',\n",
              "       '145', '154', '118', '116', '88', '41', '281', '37', '95', '89',\n",
              "       '11', '205', '18', '343', '204', '21', '227', '45', '38', '28',\n",
              "       '25', '358', '36', '34', '59', '54', '108', '30', '26', '112',\n",
              "       '561', '23', '141', '63', '135', '92', '29', '166', '73', '122',\n",
              "       '120', '39', '224', '31', '49', '32', '50', '486', '111', '96',\n",
              "       '61', '212', '164', '316', '66', '119', '27', '35', '64', '153',\n",
              "       '71', '65', '103', '2.6k', '80', '232', '1k', '344', '342', '207',\n",
              "       '93', '78', '257', '81', '68', '152', '215', '40', '128', '56',\n",
              "       '531', '107', '216', '314', '129', '270', '110', '234', '138',\n",
              "       '114', '621', '76', '60', '82', '2.9k', '58', '267', '98', '84',\n",
              "       '348', '77', '201', '263', '55', '178', '104', '72', '62', '177',\n",
              "       '394', '684', '42', '379', '79', '121', '640', '374', '338', '297',\n",
              "       '143', '113', '90', '151', '101', '237', '190', '710', '273',\n",
              "       '558', '75', '460', '769', '174', '125', '341', '340', '194',\n",
              "       '185', '146', '193', '53', '329', '326', '1.1k', '302', '99',\n",
              "       '253', '130', '134', '417', '284', '429', '3.4k', '385', '208',\n",
              "       '453', '69', '70', '304', '280', '345', '147', '861', '268', '67',\n",
              "       '165', '673', '371', '225', '139', '86', '85', '140', '255', '171',\n",
              "       '83', '666', '596', '136', '450', '186', '2k', '144', '451', '231',\n",
              "       '123', '124', '126', '142', '537', '127', '102', '170', '462',\n",
              "       '378', '779', '282', '663', nan, '197', '313', '1.4k', '473',\n",
              "       '172', '182', '1.3k', '335', '535', '109', '94', '265', '711',\n",
              "       '479', '293', '206', '132', '106', '392', '353', '266', '226',\n",
              "       '2.5k', '307', '250', '158', '315', '217', '279', '149', '310',\n",
              "       '459', '168', '262', '195', '389', '274', '218', '542', '612',\n",
              "       '74', '148', '261', '588', '210', '117', '700', '318', '155',\n",
              "       '238', '133', '443', '244', '161', '269', '179', '0.0', '1.0',\n",
              "       '2.0', '4.0', '11.0', '16.0', '31.0', '7.0', '23.0', '5.0', '3.0',\n",
              "       '8.0', '27.0', '80.0', '21.0', '25.0', '12.0', '10.0', '6.0',\n",
              "       '142.0', '40.0', '28.0', '60.0', '13.0', '19.0', '35.0', '14.0',\n",
              "       '116.0', '330.0', '32.0', '101.0', '51.0', '155.0', '9.0', '17.0',\n",
              "       '99.0', '71.0', '72.0', '325.0', '64.0', '95.0', '74.0', '76.0',\n",
              "       '30.0', '42.0', '59.0', '54.0', '544.0', '24.0', '102.0', '98.0',\n",
              "       '15.0', '78.0', '84.0', '20.0', '22.0', '52.0', '18.0', '365',\n",
              "       '272', '241', '223', '1.7k', '696', '498', '260', '286', '1.2k',\n",
              "       '1.6k', '475', '390', '219', '105', '192', '213', '187', '167',\n",
              "       '290'], dtype=object)"
            ]
          },
          "metadata": {},
          "execution_count": 168
        }
      ]
    },
    {
      "cell_type": "code",
      "source": [
        "df.stars.isna().sum()"
      ],
      "metadata": {
        "colab": {
          "base_uri": "https://localhost:8080/"
        },
        "id": "-yV-fbjEVTU9",
        "outputId": "cc0223a6-1090-4967-b97e-077b719f5872"
      },
      "execution_count": 169,
      "outputs": [
        {
          "output_type": "execute_result",
          "data": {
            "text/plain": [
              "87"
            ]
          },
          "metadata": {},
          "execution_count": 169
        }
      ]
    },
    {
      "cell_type": "markdown",
      "source": [
        "**Observations**\n",
        "- Looks like **stars** feature also needs preprocessing for unit conversion (1.5k ---> 1500)\n",
        "- The function which was used earlier (**k_to_thousand**) can be used again.\n",
        "- But first, missing values should be handled or ensure operations are carried out only on non-missing entries."
      ],
      "metadata": {
        "id": "VLUZrsgnX-z6"
      }
    },
    {
      "cell_type": "code",
      "source": [
        "# identifying indexes of all the non-missing entries from the stars feature\n",
        "stars_missing_index = df[~df.stars.isna()].index\n",
        "\n",
        "# applying transformations\n",
        "df.loc[stars_missing_index, 'stars'] = df.loc[stars_missing_index, 'stars'].apply(k_to_thousand)"
      ],
      "metadata": {
        "id": "PcOP0JbbXD36"
      },
      "execution_count": 170,
      "outputs": []
    },
    {
      "cell_type": "code",
      "source": [
        "df.stars.unique()"
      ],
      "metadata": {
        "colab": {
          "base_uri": "https://localhost:8080/"
        },
        "id": "hO8qv7nhZN8I",
        "outputId": "b317444e-e39f-41fc-abd3-c23c6c312b36"
      },
      "execution_count": 171,
      "outputs": [
        {
          "output_type": "execute_result",
          "data": {
            "text/plain": [
              "array([0, 87, 9, 5, 12, 1, 4, 8, 6, 20, 91, 7, 17, 22, 33, 46, 115, 3, 51,\n",
              "       100, 19, 44, 2, 14, 10, 48, 43, 47, 57, 15, 16, 24, 13, 52, 145,\n",
              "       154, 118, 116, 88, 41, 281, 37, 95, 89, 11, 205, 18, 343, 204, 21,\n",
              "       227, 45, 38, 28, 25, 358, 36, 34, 59, 54, 108, 30, 26, 112, 561,\n",
              "       23, 141, 63, 135, 92, 29, 166, 73, 122, 120, 39, 224, 31, 49, 32,\n",
              "       50, 486, 111, 96, 61, 212, 164, 316, 66, 119, 27, 35, 64, 153, 71,\n",
              "       65, 103, 2600, 80, 232, 1000, 344, 342, 207, 93, 78, 257, 81, 68,\n",
              "       152, 215, 40, 128, 56, 531, 107, 216, 314, 129, 270, 110, 234, 138,\n",
              "       114, 621, 76, 60, 82, 2900, 58, 267, 98, 84, 348, 77, 201, 263, 55,\n",
              "       178, 104, 72, 62, 177, 394, 684, 42, 379, 79, 121, 640, 374, 338,\n",
              "       297, 143, 113, 90, 151, 101, 237, 190, 710, 273, 558, 75, 460, 769,\n",
              "       174, 125, 341, 340, 194, 185, 146, 193, 53, 329, 326, 1100, 302,\n",
              "       99, 253, 130, 134, 417, 284, 429, 3400, 385, 208, 453, 69, 70, 304,\n",
              "       280, 345, 147, 861, 268, 67, 165, 673, 371, 225, 139, 86, 85, 140,\n",
              "       255, 171, 83, 666, 596, 136, 450, 186, 2000, 144, 451, 231, 123,\n",
              "       124, 126, 142, 537, 127, 102, 170, 462, 378, 779, 282, 663, nan,\n",
              "       197, 313, 1400, 473, 172, 182, 1300, 335, 535, 109, 94, 265, 711,\n",
              "       479, 293, 206, 132, 106, 392, 353, 266, 226, 2500, 307, 250, 158,\n",
              "       315, 217, 279, 149, 310, 459, 168, 262, 195, 389, 274, 218, 542,\n",
              "       612, 74, 148, 261, 588, 210, 117, 700, 318, 155, 238, 133, 443,\n",
              "       244, 161, 269, 179, 330, 325, 544, 365, 272, 241, 223, 1700, 696,\n",
              "       498, 260, 286, 1200, 1600, 475, 390, 219, 105, 192, 213, 187, 167,\n",
              "       290], dtype=object)"
            ]
          },
          "metadata": {},
          "execution_count": 171
        }
      ]
    },
    {
      "cell_type": "code",
      "source": [
        "df.stars.plot(kind='hist')"
      ],
      "metadata": {
        "colab": {
          "base_uri": "https://localhost:8080/",
          "height": 447
        },
        "id": "XP1soOYjaWd9",
        "outputId": "9a5ecb19-3486-44ba-be99-cdab61be872c"
      },
      "execution_count": 172,
      "outputs": [
        {
          "output_type": "execute_result",
          "data": {
            "text/plain": [
              "<Axes: ylabel='Frequency'>"
            ]
          },
          "metadata": {},
          "execution_count": 172
        },
        {
          "output_type": "display_data",
          "data": {
            "text/plain": [
              "<Figure size 640x480 with 1 Axes>"
            ],
            "image/png": "[encoded data removed]"
          },
          "metadata": {}
        }
      ]
    },
    {
      "cell_type": "markdown",
      "source": [
        "**Observations**\n",
        "- Although, it is absolutely possible that projects made by genius minds attract massive stars, but they also play crucial role in increasing the variance during calculations.\n",
        "- From above graph, it appears that profiles with stars more than 1000 might act as an outliers."
      ],
      "metadata": {
        "id": "CdT0BE2lbRzQ"
      }
    },
    {
      "cell_type": "code",
      "source": [
        "df[df.stars > 1000].index"
      ],
      "metadata": {
        "colab": {
          "base_uri": "https://localhost:8080/"
        },
        "id": "2jsRAtWOao8H",
        "outputId": "c3cf1af8-8184-4472-a349-8190898aecec"
      },
      "execution_count": 173,
      "outputs": [
        {
          "output_type": "execute_result",
          "data": {
            "text/plain": [
              "Index([ 800, 1520, 2467, 2582, 3470, 3603, 4083, 4463, 5873, 6997, 9287, 9318,\n",
              "       9481, 9591],\n",
              "      dtype='int64')"
            ]
          },
          "metadata": {},
          "execution_count": 173
        }
      ]
    },
    {
      "cell_type": "code",
      "source": [
        "# deleting outliers\n",
        "df.drop(df[df.stars > 500].index, inplace=True)"
      ],
      "metadata": {
        "id": "ZttMgq84czjL"
      },
      "execution_count": 174,
      "outputs": []
    },
    {
      "cell_type": "code",
      "source": [
        "df.stars.plot(kind='hist')"
      ],
      "metadata": {
        "colab": {
          "base_uri": "https://localhost:8080/",
          "height": 447
        },
        "id": "uJeFMX7tc9f-",
        "outputId": "60ccd19b-25a4-49e8-9686-77a2e94d30a1"
      },
      "execution_count": 175,
      "outputs": [
        {
          "output_type": "execute_result",
          "data": {
            "text/plain": [
              "<Axes: ylabel='Frequency'>"
            ]
          },
          "metadata": {},
          "execution_count": 175
        },
        {
          "output_type": "display_data",
          "data": {
            "text/plain": [
              "<Figure size 640x480 with 1 Axes>"
            ],
            "image/png": "[encoded data removed]"
          },
          "metadata": {}
        }
      ]
    },
    {
      "cell_type": "markdown",
      "source": [
        "**Operations**\n",
        "- Once outliers are removed, missing entries can be handles by replacing them with the mean."
      ],
      "metadata": {
        "id": "YTafn-sTecbF"
      }
    },
    {
      "cell_type": "code",
      "source": [
        "# Handling the missing values by replacing them with the mean of non-missing entries\n",
        "df.stars.fillna(df.stars.mean(), inplace=True)"
      ],
      "metadata": {
        "colab": {
          "base_uri": "https://localhost:8080/"
        },
        "id": "oSJkSvIEdo1R",
        "outputId": "c188947d-4530-4023-ea39-956a861fb168"
      },
      "execution_count": 176,
      "outputs": [
        {
          "output_type": "stream",
          "name": "stderr",
          "text": [
            "<ipython-input-176-d38a73aafa2b>:2: FutureWarning: Downcasting object dtype arrays on .fillna, .ffill, .bfill is deprecated and will change in a future version. Call result.infer_objects(copy=False) instead. To opt-in to the future behavior, set `pd.set_option('future.no_silent_downcasting', True)`\n",
            "  df.stars.fillna(df.stars.mean(), inplace=True)\n"
          ]
        }
      ]
    },
    {
      "cell_type": "code",
      "source": [
        "df.stars.isna().sum()"
      ],
      "metadata": {
        "colab": {
          "base_uri": "https://localhost:8080/"
        },
        "id": "KCxgwy_te-1f",
        "outputId": "91cc34e5-5cc2-4caa-87b4-dfc8fa4eed2d"
      },
      "execution_count": 177,
      "outputs": [
        {
          "output_type": "execute_result",
          "data": {
            "text/plain": [
              "0"
            ]
          },
          "metadata": {},
          "execution_count": 177
        }
      ]
    },
    {
      "cell_type": "code",
      "source": [
        "df.isna().sum()"
      ],
      "metadata": {
        "colab": {
          "base_uri": "https://localhost:8080/",
          "height": 680
        },
        "id": "NY-bHqYlfAtt",
        "outputId": "9c77d053-4736-4694-82a8-3acbcbf239b6"
      },
      "execution_count": 178,
      "outputs": [
        {
          "output_type": "execute_result",
          "data": {
            "text/plain": [
              "username                      0\n",
              "gender_pronoun                0\n",
              "followings                    0\n",
              "joining_year                  0\n",
              "last_year_contributions       0\n",
              "achievements_num              0\n",
              "stars                         0\n",
              "has_readme                    0\n",
              "social_link                6228\n",
              "social_platform            5590\n",
              "works_for                  6545\n",
              "status                     5818\n",
              "name                          0\n",
              "location                      0\n",
              "repositories                  0\n",
              "followers                     0\n",
              "language                      0\n",
              "sorting type                  0\n",
              "description                   4\n",
              "dtype: int64"
            ],
            "text/html": [
              "<div>\n",
              "<style scoped>\n",
              "    .dataframe tbody tr th:only-of-type {\n",
              "        vertical-align: middle;\n",
              "    }\n",
              "\n",
              "    .dataframe tbody tr th {\n",
              "        vertical-align: top;\n",
              "    }\n",
              "\n",
              "    .dataframe thead th {\n",
              "        text-align: right;\n",
              "    }\n",
              "</style>\n",
              "<table border=\"1\" class=\"dataframe\">\n",
              "  <thead>\n",
              "    <tr style=\"text-align: right;\">\n",
              "      <th></th>\n",
              "      <th>0</th>\n",
              "    </tr>\n",
              "  </thead>\n",
              "  <tbody>\n",
              "    <tr>\n",
              "      <th>username</th>\n",
              "      <td>0</td>\n",
              "    </tr>\n",
              "    <tr>\n",
              "      <th>gender_pronoun</th>\n",
              "      <td>0</td>\n",
              "    </tr>\n",
              "    <tr>\n",
              "      <th>followings</th>\n",
              "      <td>0</td>\n",
              "    </tr>\n",
              "    <tr>\n",
              "      <th>joining_year</th>\n",
              "      <td>0</td>\n",
              "    </tr>\n",
              "    <tr>\n",
              "      <th>last_year_contributions</th>\n",
              "      <td>0</td>\n",
              "    </tr>\n",
              "    <tr>\n",
              "      <th>achievements_num</th>\n",
              "      <td>0</td>\n",
              "    </tr>\n",
              "    <tr>\n",
              "      <th>stars</th>\n",
              "      <td>0</td>\n",
              "    </tr>\n",
              "    <tr>\n",
              "      <th>has_readme</th>\n",
              "      <td>0</td>\n",
              "    </tr>\n",
              "    <tr>\n",
              "      <th>social_link</th>\n",
              "      <td>6228</td>\n",
              "    </tr>\n",
              "    <tr>\n",
              "      <th>social_platform</th>\n",
              "      <td>5590</td>\n",
              "    </tr>\n",
              "    <tr>\n",
              "      <th>works_for</th>\n",
              "      <td>6545</td>\n",
              "    </tr>\n",
              "    <tr>\n",
              "      <th>status</th>\n",
              "      <td>5818</td>\n",
              "    </tr>\n",
              "    <tr>\n",
              "      <th>name</th>\n",
              "      <td>0</td>\n",
              "    </tr>\n",
              "    <tr>\n",
              "      <th>location</th>\n",
              "      <td>0</td>\n",
              "    </tr>\n",
              "    <tr>\n",
              "      <th>repositories</th>\n",
              "      <td>0</td>\n",
              "    </tr>\n",
              "    <tr>\n",
              "      <th>followers</th>\n",
              "      <td>0</td>\n",
              "    </tr>\n",
              "    <tr>\n",
              "      <th>language</th>\n",
              "      <td>0</td>\n",
              "    </tr>\n",
              "    <tr>\n",
              "      <th>sorting type</th>\n",
              "      <td>0</td>\n",
              "    </tr>\n",
              "    <tr>\n",
              "      <th>description</th>\n",
              "      <td>4</td>\n",
              "    </tr>\n",
              "  </tbody>\n",
              "</table>\n",
              "</div><br><label><b>dtype:</b> int64</label>"
            ]
          },
          "metadata": {},
          "execution_count": 178
        }
      ]
    },
    {
      "cell_type": "code",
      "source": [
        "df.language.value_counts().plot(kind='pie', autopct='%1.1f%%')"
      ],
      "metadata": {
        "colab": {
          "base_uri": "https://localhost:8080/",
          "height": 423
        },
        "id": "qL-DqLTOf67Y",
        "outputId": "c57a0150-da98-44f9-f8fd-a86ff6f87a59"
      },
      "execution_count": 179,
      "outputs": [
        {
          "output_type": "execute_result",
          "data": {
            "text/plain": [
              "<Axes: ylabel='count'>"
            ]
          },
          "metadata": {},
          "execution_count": 179
        },
        {
          "output_type": "display_data",
          "data": {
            "text/plain": [
              "<Figure size 640x480 with 1 Axes>"
            ],
            "image/png": "[encoded data removed]"
          },
          "metadata": {}
        }
      ]
    },
    {
      "cell_type": "code",
      "source": [
        "sns.heatmap(df[['followers', 'followings', 'repositories', 'stars', 'joining_year']].corr(), annot=True)"
      ],
      "metadata": {
        "id": "aao4wR1xf9ZB",
        "colab": {
          "base_uri": "https://localhost:8080/",
          "height": 452
        },
        "outputId": "33246524-ead7-46f9-82ea-f687bfc7dd55"
      },
      "execution_count": 180,
      "outputs": [
        {
          "output_type": "execute_result",
          "data": {
            "text/plain": [
              "<Axes: >"
            ]
          },
          "metadata": {},
          "execution_count": 180
        },
        {
          "output_type": "display_data",
          "data": {
            "text/plain": [
              "<Figure size 640x480 with 2 Axes>"
            ],
            "image/png": "[encoded data removed]"
          },
          "metadata": {}
        }
      ]
    },
    {
      "cell_type": "code",
      "source": [],
      "metadata": {
        "id": "fhg_L7Kp1iI_"
      },
      "execution_count": 180,
      "outputs": []
    }
  ]
}